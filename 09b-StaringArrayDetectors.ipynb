{
 "cells": [
  {
   "cell_type": "markdown",
   "metadata": {},
   "source": [
    "# Staring Array Modelling"
   ]
  },
  {
   "cell_type": "markdown",
   "metadata": {},
   "source": [
    "This notebook forms part of a series on [computational optical radiometry](https://github.com/NelisW/ComputationalRadiometry#computational-optical-radiometry-with-pyradi).  The notebooks can be downloaded from [Github](https://github.com/NelisW/ComputationalRadiometry#computational-optical-radiometry-with-pyradi). These notebooks are constantly revised and updated, please revisit from time to time.  \n",
    "\n",
    "\n",
    "[<img src=\"https://zenodo.org/badge/doi/10.5281/zenodo.9910.png\"   align=\"left\"/>](http://dx.doi.org/10.5281/zenodo.9910)\n"
   ]
  },
  {
   "cell_type": "markdown",
   "metadata": {},
   "source": [
    "The date of this document and module versions used in this document are given at the end of the file.  \n",
    "Feedback is appreciated: neliswillers at gmail dot com."
   ]
  },
  {
   "cell_type": "markdown",
   "metadata": {},
   "source": [
    "## Overview"
   ]
  },
  {
   "cell_type": "markdown",
   "metadata": {},
   "source": [
    "The pyradi [`rystare`](http://nelisw.github.io/pyradi-docs/_build/html/rystare.html) module models the signal and noise in CCD and CMOS staring array sensors.  The code is originally based on the Matlab code described in *'High-level numerical simulations of noise in solid-state photosensors: review and tutorial'* by Mikhail Konnik and James Welsh, arXiv:1412.4031v1 [astro-ph.IM], available [here](http://arxiv.org/pdf/1412.4031.pdf)\n",
    "\n",
    "Good references for this work include James R Janesick's books ['Photon Transfer'](http://spie.org/Publications/Book/725073) and ['Scientific Charge-Coupled Devices'](http://spie.org/Publications/Book/374903)\n",
    "\n"
   ]
  },
  {
   "cell_type": "markdown",
   "metadata": {},
   "source": [
    "## Concept"
   ]
  },
  {
   "cell_type": "markdown",
   "metadata": {},
   "source": [
    "<font color=\"red\">This is an early draft of the notebook, visit later for a more detailed update.</font>\n",
    "\n",
    "The current version of the notebook demonstrates Konnik's 'Advanced' model.  For more information and detailed documentation see the [`rystare` documentation](http://nelisw.github.io/pyradi-docs/_build/html/rystare.html) or \n",
    "[the original Matlab code](https://bitbucket.org/aorta/highlevelsensorsim)\n",
    "\n",
    "This model experiments with using HDF5 as a structured data store.  The motivation for this use and more information is available [here](https://github.com/NelisW/pyradi/blob/master/pyradi/hdf5-as-data-format.md)"
   ]
  },
  {
   "cell_type": "code",
   "execution_count": 1,
   "metadata": {
    "collapsed": false
   },
   "outputs": [],
   "source": [
    "import numpy as np\n",
    "import scipy as sp\n",
    "import pandas as pd\n",
    "import re\n",
    "import os.path\n",
    "from scipy.optimize import curve_fit\n",
    "import datetime\n",
    "\n",
    "from matplotlib import cm as mcm\n",
    "import matplotlib.mlab as mlab\n",
    "import scipy.constants as const\n",
    "import collections\n",
    "\n",
    "%matplotlib inline\n",
    "\n",
    "# %reload_ext autoreload\n",
    "# %autoreload 2\n",
    "\n",
    "# import xlsxwriter\n",
    "\n",
    "import pyradi.ryplot as ryplot\n",
    "import pyradi.ryfiles as ryfiles\n",
    "import pyradi.rystare as rystare\n",
    "import pyradi.ryutils as ryutils\n",
    "import pyradi.rypflux as rypflux\n",
    "\n",
    "from IPython.display import HTML\n",
    "from IPython.display import Image\n",
    "from IPython.display import display\n",
    "from IPython.display import FileLink, FileLinks\n",
    "\n",
    "#make pngs at 150 dpi\n",
    "import matplotlib as mpl\n",
    "mpl.rc(\"savefig\", dpi=300)\n",
    "mpl.rc('figure', figsize=(10,8))\n",
    "# %config InlineBackend.figure_format = 'svg'\n",
    "\n",
    "pd.set_option('display.max_columns', 80)\n",
    "pd.set_option('display.width', 200)\n",
    "pd.set_option('display.max_colwidth', 150)"
   ]
  },
  {
   "cell_type": "markdown",
   "metadata": {},
   "source": [
    "# Imager radiometry"
   ]
  },
  {
   "cell_type": "markdown",
   "metadata": {
    "collapsed": false
   },
   "source": [
    "## Irradiance in the focal plane and electron count in the detector\n",
    "\n",
    "![images/sensor-diagram.png](images/sensor-diagram.png)"
   ]
  },
  {
   "cell_type": "markdown",
   "metadata": {},
   "source": [
    "Consider a source at range $R_{01}$ illuminated with illumination/irradiance $E_0$ at a single wavelength.  The pixel flux is given by\n",
    "\\begin{equation}\n",
    "\\Phi_s = \\frac{ L_0 A_0 A_1 \\tau_a}{R_{01}^2}\n",
    "\\end{equation}\n",
    "where the radiance $L_0$ is given by \n",
    "\\begin{equation}\n",
    "L_0 = \\frac{E_0 \\rho}{\\pi}\n",
    "\\end{equation}\n",
    "where $E_0$ is the illumination on the object, where the reflectance is assumed to be \n",
    " lambertian,  and where $\\rho$ is the diffuse source reflectance.  Then \n",
    "\\begin{equation}\n",
    "\\Phi_s = \\frac{ E_0 \\rho A_0 A_1\\tau_a}{\\pi R_{01}^2}\n",
    "\\end{equation}\n",
    "The pixel field of view is given by $A_0/R^2_{01} = A_s/f_s^2 = \\Omega_p$. The sensor clear aperture area can be written in terms of f-number as $A_1 = f_s^2 \\pi/(4 F_\\#^2)$. Replacing in the above equation yields\n",
    "\\begin{equation}\n",
    "\\Phi_s \n",
    "= \\frac{ E_0 \\rho}{\\pi} \\frac{f_s^2 \\pi }{4 F_\\#^2} \\Omega_p \\tau_a\n",
    "=  \\frac{  E_0 \\rho A_s \\tau_a}{4 F_\\#^2}  \n",
    "=  \\frac{\\pi  L_0 \\rho A_s \\tau_a}{4 F_\\#^2}  \n",
    "\\end{equation}\n",
    "The irradiance in the focal plane is then \n",
    "\\begin{equation}\n",
    "E_s = \\frac{\\Phi_s }{ A_s} \n",
    "= \\frac{  E_0 \\rho \\tau_a}{4 F_\\#^2}  \n",
    "= \\frac{\\pi  L_0 \\rho \\tau_a}{4 F_\\#^2}  \n",
    "\\end{equation}"
   ]
  },
  {
   "cell_type": "markdown",
   "metadata": {},
   "source": [
    "The flux passing through the detector area is $E_s\\, A_d$.  If the flux is defined in terms of photons per second, the number of photons accumulated in the detector during integration time $t_{\\textrm{int}}$ is  $E_s\\, A_d\\, t_{\\textrm{int}}$.  The electron count accumulated during the integration time is then\n",
    "\n",
    "\\begin{equation}\n",
    "n = E_s A_d\\, t_{\\textrm{int}}\n",
    "= \\left(\\frac{\\pi\\, t_{\\textrm{int}}\\,P\\, A_d}{4\\, F_\\#^2} \\right) \\left( \\rho\\, \\tau_a\\, L_0\\right)\n",
    "\\end{equation}\n",
    "where the factor $P$ is the fractional clear aperture (in case some obscuration is present)."
   ]
  },
  {
   "cell_type": "markdown",
   "metadata": {},
   "source": [
    "The solid angle of the optics' f-number cone is $\\Omega_{F_\\#}=\\pi/(4F_\\#^2)$, hence the above equation can be written\n",
    "\n",
    "\\begin{equation}\n",
    "n = E_s A_d\\, t_{\\textrm{int}}\n",
    "= \\left(t_{\\textrm{int}}\\,P\\, A_d \\Omega_{F_\\#}\\right) \\left( \\rho\\, \\tau_a\\, L_0\\right)\n",
    "\\end{equation}\n",
    "\n",
    "The last two equations forms the basis for the various electron-count contributions defined below."
   ]
  },
  {
   "cell_type": "markdown",
   "metadata": {},
   "source": [
    "### Constant spectral properties\n",
    "\n",
    "Most sensors have relatively wide spectral response and the monochromatic derivation above must be extended to calculate the sum of fluxes at all wavelengths.\n",
    "The spectral integrals in the equations below have the general form\n",
    "\n",
    "\\begin{equation}\n",
    "(\\cdots)\\,\\int_0^\\infty\n",
    "\\eta_{\\lambda}\\, \\tau_{o\\lambda}\\, \\tau_{a\\lambda}\\, \\rho_{\\textrm{d}\\lambda} \\,\n",
    " L_{q\\lambda} \\,d \\lambda \n",
    "\\end{equation}\n",
    "\n",
    "If a spectral variable, e.g., any or all of $(\\eta_{\\lambda}\\, \\tau_{o\\lambda}\\,\\tau_{a\\lambda}\\, \\rho_{\\textrm{d}\\lambda})$, can be assumed constant over spectral band, they can be taken out of th integral.  If all are constant only $L_{q\\lambda}$ remains in the spectral band integral\n",
    " \n",
    "\\begin{equation}\n",
    "\\eta \\tau_{o} \\tau_{a}  \\rho_\\textrm{d} \n",
    "\\int_0^\\infty L_{q\\lambda} \\;d\\lambda\n",
    "\\end{equation}\n",
    "\n"
   ]
  },
  {
   "cell_type": "markdown",
   "metadata": {},
   "source": [
    "### Photon radiance\n",
    "\n",
    "By setting $ t_{\\textrm{int}}=P=A_d=\\cos\\theta=\\eta=\\tau_{o}=\\tau_{a}=\\rho_\\textrm{d}=\\Omega_{F_\\#}=1$ and $F_\\#=\\sqrt{\\pi/4}$, the equation simplifies to the wideband photon rate radiance at the target \n",
    "\n",
    "\\begin{equation}\n",
    "L_{\\textrm{q}}\n",
    "=\n",
    "\\int_0^\\infty L_{q\\lambda} \\;d\\lambda\n",
    "\\end{equation}"
   ]
  },
  {
   "cell_type": "markdown",
   "metadata": {},
   "source": [
    "## Electron count  for various sources\n",
    "\n",
    "This section considers the electron count for a variety of sources.  These equations form the basis for the library implementation that is used in the rest of the document."
   ]
  },
  {
   "cell_type": "markdown",
   "metadata": {},
   "source": [
    "### Self emitted flux\n",
    "\n",
    "The thermal scene-radiance photon count is given by\n",
    "\\begin{equation}\n",
    "n_{\\textrm{sceneT}}\n",
    "=\n",
    "\\left(\\frac{\\pi\\,t_{\\textrm{int}}\\, P\\,  A_d }{4\\,F_\\#^2}\\right)\n",
    "\\int_0^\\infty \n",
    "(\\eta_{\\lambda}\\, \\tau_{o\\lambda}\\, \\tau_{a\\lambda})\\,\n",
    "(\\epsilon_{\\lambda}\\, L_\\lambda(T_\\textrm{source}))\\,\n",
    "d\\lambda\n",
    "\\end{equation}\n",
    "where\n",
    "$t_{\\textrm{int}}$ is the integration time,\n",
    "$P$ is the fraction of clear aperture, \n",
    "$A_d$ is the detector area, \n",
    "$F_\\#$ is the f-number, \n",
    "$\\eta_{\\lambda}$ is the detector quantum efficiency,\n",
    "$\\tau_{o\\lambda}$ is the optics transmittance, \n",
    "$\\tau_{f\\lambda}$ is the sensor filter transmittance, \n",
    "$\\tau_{a\\lambda}$ is the atmospheric transmittance, \n",
    "$\\epsilon_{\\lambda}$ is the source/background emissivity,and\n",
    "$L_\\lambda(T_\\textrm{source})$ the Planck photon rate radiance at source/background temperature $T_\\textrm{source}$.\n",
    "\n",
    "\n"
   ]
  },
  {
   "cell_type": "markdown",
   "metadata": {},
   "source": [
    "### Reflected flux\n",
    "\n",
    "The electron count in the detector can be calculated from the scene or source radiance using\n",
    " \n",
    "\\begin{equation}\n",
    "n_{\\textrm{sceneR}}\n",
    "=\n",
    "\\left(\\frac{\\pi\\, t_{\\textrm{int}}\\, P\\,  A_d}{4\\,F_\\#^2}\\right)\n",
    "\\cdot \\cos\\theta \\cdot\n",
    "\\int_0^\\infty\n",
    "(\\eta_{\\lambda}\\, \\tau_{o\\lambda}\\, \\tau_{a\\lambda})\\,( \\psi\\rho_{\\textrm{d}\\lambda} \\,\n",
    " L_{q\\lambda}(T_\\textrm{illum}) )\\,\n",
    "d \\lambda \n",
    "\\end{equation}\n",
    "\n",
    "where\n",
    "$n_{\\textrm{scene}}$  is the number of electrons,\n",
    "$t_{\\textrm{int}}$ is the sensor integration time, \n",
    "$P$ is the fraction of unobscured optical aperture, \n",
    "$A_d$ is the area of the detector, \n",
    "$\\theta$ is the angle between the surface normal vector and the primary source (if not the sun or the moon, $\\theta=0$),\n",
    "$F_\\#$ is the f-number (assuming infinite conjugates), \n",
    "$\\eta_{\\lambda}$ is the detector spectral quantum efficiency, \n",
    "$\\tau_{o\\lambda}$ is the spectral optics and filter transmittance, \n",
    "$\\tau_{\\lambda}$ is the spectral atmospheric transmittance,\n",
    "$\\psi$ is the ratio of radiance on the illuminating source surface to radiance on the target source surface,\n",
    "$\\rho_{\\textrm{d}\\lambda}$ is the surface's diffuse spectral  reflection, \n",
    "$L_{q\\lambda}$ is the spectral photon rate radiance at the surface, and\n",
    "$T_\\textrm{illum}$ is the temperature of the illuminating source$.\n",
    "\n",
    "If the surface is illuminated by the sun, the spectral radiance at the surface becomes\n",
    "$L_{q\\lambda} = \\psi \\epsilon_\\textrm{sun}\\tau_\\textrm{sun}L_{q\\textrm{b}}(6000 K)$,\n",
    "where \n",
    "$\\psi=2.17\\times 10^{-5}$ relates the sun's area and distance to radiance on the ground,\n",
    "$\\epsilon_\\textrm{sun}=1$ is the sun emissivity, \n",
    "$\\tau_\\textrm{sun}$  is the atmospheric transmittance from the target to the sun, and\n",
    "$L_{q\\textrm{b}}(6000 K)$ is the Planck-law thermal radiance for a 6000 K source (approximation of the sun's surface temperature)."
   ]
  },
  {
   "cell_type": "markdown",
   "metadata": {},
   "source": [
    "### Low light radiance\n",
    "\n",
    "The approximate low light level scene radiance levels were calculated above and stored in the `dfPhotRates` DataFrame.  These values are already integrated over the spectral bandwidth, so the scene-induced electron count in the detector becomes\n",
    " \n",
    "\\begin{equation}\n",
    "n_{\\textrm{sceneR}}\n",
    "=\n",
    "\\left(\\frac{\\pi\\, t_{\\textrm{int}}\\, P\\,  A_d}{4\\,F_\\#^2}\\right)\n",
    "\\cdot \\cos\\theta\\cdot\n",
    "( \\eta\\, \\tau_{o}\\, \\tau_{a})\\, (\\rho_\\textrm{d} \\,\n",
    " L_{qLL})\\,\n",
    "\\end{equation}\n",
    "where\n",
    "$n_{\\textrm{scene}}$  is the number of electrons,\n",
    "$t_{\\textrm{int}}$ is the sensor integration time, \n",
    "$P$ is the fraction of unobscured optical aperture, \n",
    "$A_d$ is the area of the detector, \n",
    "$\\theta$ is the angle between the surface normal vector and the primary source (if not the sun or the moon, $\\theta=0$),\n",
    "$F_\\#$ is the f-number, \n",
    "$\\eta$ is the detector quantum efficiency, \n",
    "$\\tau_{o}$ is the optics transmittance, \n",
    "$\\tau_{a}$ is the atmospheric transmittance,\n",
    "$\\rho_\\textrm{d}$ is the surface reflection, and \n",
    "$L_{qLL}$ is the photon rate radiance of the surface, as calculated above in `dfPhotRates`.\n"
   ]
  },
  {
   "cell_type": "markdown",
   "metadata": {},
   "source": [
    "### Hot optics radiance\n",
    "\n",
    "For infrared sensors the thermal hot-optics photon count is given by \n",
    "\\begin{equation}\n",
    "n_{\\textrm{optics}}\n",
    "=\n",
    "\\left(\\frac{\\pi t_{\\textrm{int}} P  A_d }{4F_\\#^2}\\right)\\cdot\n",
    "\\int_0^\\infty \\eta_{\\lambda}  \n",
    "(1-\\tau_{o\\lambda}) L_\\lambda(T_\\textrm{optics})\n",
    "d\\lambda\n",
    "\\end{equation}\n",
    "where\n",
    "the optics emissivity is given by\n",
    "$\\epsilon_{\\textrm{optics}\\lambda}=(1-\\tau_{o\\lambda})$.\n",
    "                                          \n",
    "\n",
    "Assuming no stray light in the visual system, the visual optics photon count is given by \n",
    "\\begin{equation}\n",
    "n_{\\textrm{optics}}=0\n",
    "\\end{equation}\n",
    "                                          "
   ]
  },
  {
   "cell_type": "markdown",
   "metadata": {},
   "source": [
    "### Path radiance\n",
    "\n",
    "The path radiance  photon count is given by \n",
    "\\begin{equation}\n",
    "n_{\\textrm{path}}\n",
    "=\n",
    "\\left(\\frac{\\pi t_{\\textrm{int}} P  A_d }{4F_\\#^2}\\right)\\cdot\n",
    "\\int_0^\\infty \\eta_{\\lambda}  \n",
    "\\tau_{o\\lambda} L_\\lambda(T_\\textrm{path})\n",
    "d\\lambda\n",
    "\\end{equation}\n",
    "where $L_\\lambda(T_\\textrm{path}$ is the path radiance.\n",
    " \n",
    "Path radiance at one range can be scaled to path radiance at another range.  It can be shown that path radiance can be approximated by\n",
    "\n",
    "\\begin{equation}\n",
    "L_{\\lambda\\textrm{path}} = L_{\\lambda\\textrm{path}\\infty}\\left(1-\\tau_{\\textrm{path}}\\right)\n",
    "\\end{equation}\n",
    "where\n",
    "$L_{\\lambda\\textrm{path}\\infty}$ is the path radiance for an infinitely long path where $\\tau_{\\textrm{path}}=0$.\n",
    " "
   ]
  },
  {
   "cell_type": "markdown",
   "metadata": {},
   "source": [
    "### Complete model\n",
    "\n",
    "The total electron count in the detector is given by the sum of all the terms defined above.  The various contributions are structured in this diagram\n",
    "\n",
    "![images/rypflux02.png](images/rydecount02.png)\n",
    "\n",
    "where the underlined $\\underline{T}$, $\\underline{A}$, and $\\underline{S}$ signifies the origin of the contribution (Target, Atmosphere, and Sensor)."
   ]
  },
  {
   "cell_type": "markdown",
   "metadata": {},
   "source": [
    "### Target characteristics \n",
    "\n",
    "In order to benchmark the signal levels in the rest of the document, we calculate the irradiance/illumination on the detector for a target reflectance of 0.3,  an atmospheric transmittance of 0.5, optics transmittance of 0.9, and a few sensor f-numbers."
   ]
  },
  {
   "cell_type": "markdown",
   "metadata": {},
   "source": [
    "## Focal plane irradiance at low light levels\n",
    "\n",
    "The photon rate radiance at low light levels is analysed in some detail in the [Optical Sources notebook](https://github.com/NelisW/ComputationalRadiometry/blob/master/07-Optical-Sources.ipynb).\n"
   ]
  },
  {
   "cell_type": "code",
   "execution_count": 12,
   "metadata": {
    "collapsed": false
   },
   "outputs": [
    {
     "name": "stdout",
     "output_type": "stream",
     "text": [
      "                Irradiance-lm/m2  ColourTemp          1.4             2          2.74           3.8\n",
      "Overcast night            0.0001      5000.0     0.000002  8.437500e-07  4.495445e-07  2.337258e-07\n",
      "Star light                0.0011      5000.0     0.000019  9.281250e-06  4.944989e-06  2.570983e-06\n",
      "Quarter moon              0.0108      4150.0     0.000186  9.112500e-05  4.855080e-05  2.524238e-05\n",
      "Full moon                 0.1080      4150.0     0.001860  9.112500e-04  4.855080e-04  2.524238e-04\n",
      "Deep twilight             1.0800     10000.0     0.018597  9.112500e-03  4.855080e-03  2.524238e-03\n",
      "Twilight                 10.8000     10000.0     0.185969  9.112500e-02  4.855080e-02  2.524238e-02\n",
      "Very dark day           107.0000      7000.0     1.842474  9.028125e-01  4.810126e-01  2.500866e-01\n",
      "Overcast day           1075.0000      6000.0    18.510842  9.070312e+00  4.832603e+00  2.512552e+00\n",
      "Full sky light        10752.0000     12000.0   185.142857  9.072000e+01  4.833502e+01  2.513019e+01\n",
      "Sun light            107527.0000      5700.0  1851.549107  9.072591e+02  4.833817e+02  2.513183e+02\n"
     ]
    }
   ],
   "source": [
    "\n",
    "pf = rypflux.PFlux()\n",
    "lx = pf.lllux\n",
    "\n",
    "def calcIrrad(lx, rho, taua, tauo, fno):\n",
    "    return lx * rho * taua * tauo / (4 * fno ** 2)\n",
    "\n",
    "df = pd.DataFrame(lx).transpose()\n",
    "df.columns = pf.llluxCols\n",
    "\n",
    "rho = 0.3\n",
    "taua = 0.5\n",
    "tauo = 0.9\n",
    "fnos = [1.4, 2, 2.74, 3.8]\n",
    "for fno in fnos:\n",
    "# #     http://stackoverflow.com/questions/21188504/python-pandas-apply-a-function-with-arguments-to-a-series-update\n",
    "    df['{}'.format(fno)] = df['Irradiance-lm/m2'].apply(calcIrrad, args=(rho, taua, tauo, fno) )\n",
    "    \n",
    "df.sort_values(by='Irradiance-lm/m2',inplace=True)\n",
    "print(df.drop(['FracPhotop'],axis=1))"
   ]
  },
  {
   "cell_type": "code",
   "execution_count": 3,
   "metadata": {
    "collapsed": false
   },
   "outputs": [
    {
     "data": {
      "text/html": [
       "<div>\n",
       "<table border=\"1\" class=\"dataframe\">\n",
       "  <thead>\n",
       "    <tr style=\"text-align: right;\">\n",
       "      <th></th>\n",
       "      <th>Irradiance-lm/m2</th>\n",
       "      <th>ColourTemp</th>\n",
       "      <th>FracPhotop</th>\n",
       "      <th>1.4</th>\n",
       "      <th>2</th>\n",
       "      <th>2.74</th>\n",
       "      <th>3.8</th>\n",
       "      <th>5.4</th>\n",
       "      <th>7.5</th>\n",
       "      <th>10</th>\n",
       "      <th>14.8</th>\n",
       "      <th>20</th>\n",
       "    </tr>\n",
       "  </thead>\n",
       "  <tbody>\n",
       "    <tr>\n",
       "      <th>Overcast night</th>\n",
       "      <td>0.0001</td>\n",
       "      <td>5000.0</td>\n",
       "      <td>0.0</td>\n",
       "      <td>0.000002</td>\n",
       "      <td>8.437500e-07</td>\n",
       "      <td>4.495445e-07</td>\n",
       "      <td>2.337258e-07</td>\n",
       "      <td>1.157407e-07</td>\n",
       "      <td>6.000000e-08</td>\n",
       "      <td>3.375000e-08</td>\n",
       "      <td>1.540814e-08</td>\n",
       "      <td>8.437500e-09</td>\n",
       "    </tr>\n",
       "    <tr>\n",
       "      <th>Star light</th>\n",
       "      <td>0.0011</td>\n",
       "      <td>5000.0</td>\n",
       "      <td>0.2</td>\n",
       "      <td>0.000019</td>\n",
       "      <td>9.281250e-06</td>\n",
       "      <td>4.944989e-06</td>\n",
       "      <td>2.570983e-06</td>\n",
       "      <td>1.273148e-06</td>\n",
       "      <td>6.600000e-07</td>\n",
       "      <td>3.712500e-07</td>\n",
       "      <td>1.694896e-07</td>\n",
       "      <td>9.281250e-08</td>\n",
       "    </tr>\n",
       "    <tr>\n",
       "      <th>Quarter moon</th>\n",
       "      <td>0.0108</td>\n",
       "      <td>4150.0</td>\n",
       "      <td>0.4</td>\n",
       "      <td>0.000186</td>\n",
       "      <td>9.112500e-05</td>\n",
       "      <td>4.855080e-05</td>\n",
       "      <td>2.524238e-05</td>\n",
       "      <td>1.250000e-05</td>\n",
       "      <td>6.480000e-06</td>\n",
       "      <td>3.645000e-06</td>\n",
       "      <td>1.664080e-06</td>\n",
       "      <td>9.112500e-07</td>\n",
       "    </tr>\n",
       "    <tr>\n",
       "      <th>Full moon</th>\n",
       "      <td>0.1080</td>\n",
       "      <td>4150.0</td>\n",
       "      <td>0.6</td>\n",
       "      <td>0.001860</td>\n",
       "      <td>9.112500e-04</td>\n",
       "      <td>4.855080e-04</td>\n",
       "      <td>2.524238e-04</td>\n",
       "      <td>1.250000e-04</td>\n",
       "      <td>6.480000e-05</td>\n",
       "      <td>3.645000e-05</td>\n",
       "      <td>1.664080e-05</td>\n",
       "      <td>9.112500e-06</td>\n",
       "    </tr>\n",
       "    <tr>\n",
       "      <th>Deep twilight</th>\n",
       "      <td>1.0800</td>\n",
       "      <td>10000.0</td>\n",
       "      <td>0.8</td>\n",
       "      <td>0.018597</td>\n",
       "      <td>9.112500e-03</td>\n",
       "      <td>4.855080e-03</td>\n",
       "      <td>2.524238e-03</td>\n",
       "      <td>1.250000e-03</td>\n",
       "      <td>6.480000e-04</td>\n",
       "      <td>3.645000e-04</td>\n",
       "      <td>1.664080e-04</td>\n",
       "      <td>9.112500e-05</td>\n",
       "    </tr>\n",
       "    <tr>\n",
       "      <th>Twilight</th>\n",
       "      <td>10.8000</td>\n",
       "      <td>10000.0</td>\n",
       "      <td>1.0</td>\n",
       "      <td>0.185969</td>\n",
       "      <td>9.112500e-02</td>\n",
       "      <td>4.855080e-02</td>\n",
       "      <td>2.524238e-02</td>\n",
       "      <td>1.250000e-02</td>\n",
       "      <td>6.480000e-03</td>\n",
       "      <td>3.645000e-03</td>\n",
       "      <td>1.664080e-03</td>\n",
       "      <td>9.112500e-04</td>\n",
       "    </tr>\n",
       "    <tr>\n",
       "      <th>Very dark day</th>\n",
       "      <td>107.0000</td>\n",
       "      <td>7000.0</td>\n",
       "      <td>1.0</td>\n",
       "      <td>1.842474</td>\n",
       "      <td>9.028125e-01</td>\n",
       "      <td>4.810126e-01</td>\n",
       "      <td>2.500866e-01</td>\n",
       "      <td>1.238426e-01</td>\n",
       "      <td>6.420000e-02</td>\n",
       "      <td>3.611250e-02</td>\n",
       "      <td>1.648671e-02</td>\n",
       "      <td>9.028125e-03</td>\n",
       "    </tr>\n",
       "    <tr>\n",
       "      <th>Overcast day</th>\n",
       "      <td>1075.0000</td>\n",
       "      <td>6000.0</td>\n",
       "      <td>1.0</td>\n",
       "      <td>18.510842</td>\n",
       "      <td>9.070312e+00</td>\n",
       "      <td>4.832603e+00</td>\n",
       "      <td>2.512552e+00</td>\n",
       "      <td>1.244213e+00</td>\n",
       "      <td>6.450000e-01</td>\n",
       "      <td>3.628125e-01</td>\n",
       "      <td>1.656376e-01</td>\n",
       "      <td>9.070312e-02</td>\n",
       "    </tr>\n",
       "    <tr>\n",
       "      <th>Full sky light</th>\n",
       "      <td>10752.0000</td>\n",
       "      <td>12000.0</td>\n",
       "      <td>1.0</td>\n",
       "      <td>185.142857</td>\n",
       "      <td>9.072000e+01</td>\n",
       "      <td>4.833502e+01</td>\n",
       "      <td>2.513019e+01</td>\n",
       "      <td>1.244444e+01</td>\n",
       "      <td>6.451200e+00</td>\n",
       "      <td>3.628800e+00</td>\n",
       "      <td>1.656684e+00</td>\n",
       "      <td>9.072000e-01</td>\n",
       "    </tr>\n",
       "    <tr>\n",
       "      <th>Sun light</th>\n",
       "      <td>107527.0000</td>\n",
       "      <td>5700.0</td>\n",
       "      <td>1.0</td>\n",
       "      <td>1851.549107</td>\n",
       "      <td>9.072591e+02</td>\n",
       "      <td>4.833817e+02</td>\n",
       "      <td>2.513183e+02</td>\n",
       "      <td>1.244525e+02</td>\n",
       "      <td>6.451620e+01</td>\n",
       "      <td>3.629036e+01</td>\n",
       "      <td>1.656792e+01</td>\n",
       "      <td>9.072591e+00</td>\n",
       "    </tr>\n",
       "  </tbody>\n",
       "</table>\n",
       "</div>"
      ],
      "text/plain": [
       "                Irradiance-lm/m2  ColourTemp  FracPhotop          1.4             2          2.74           3.8           5.4           7.5            10          14.8            20\n",
       "Overcast night            0.0001      5000.0         0.0     0.000002  8.437500e-07  4.495445e-07  2.337258e-07  1.157407e-07  6.000000e-08  3.375000e-08  1.540814e-08  8.437500e-09\n",
       "Star light                0.0011      5000.0         0.2     0.000019  9.281250e-06  4.944989e-06  2.570983e-06  1.273148e-06  6.600000e-07  3.712500e-07  1.694896e-07  9.281250e-08\n",
       "Quarter moon              0.0108      4150.0         0.4     0.000186  9.112500e-05  4.855080e-05  2.524238e-05  1.250000e-05  6.480000e-06  3.645000e-06  1.664080e-06  9.112500e-07\n",
       "Full moon                 0.1080      4150.0         0.6     0.001860  9.112500e-04  4.855080e-04  2.524238e-04  1.250000e-04  6.480000e-05  3.645000e-05  1.664080e-05  9.112500e-06\n",
       "Deep twilight             1.0800     10000.0         0.8     0.018597  9.112500e-03  4.855080e-03  2.524238e-03  1.250000e-03  6.480000e-04  3.645000e-04  1.664080e-04  9.112500e-05\n",
       "Twilight                 10.8000     10000.0         1.0     0.185969  9.112500e-02  4.855080e-02  2.524238e-02  1.250000e-02  6.480000e-03  3.645000e-03  1.664080e-03  9.112500e-04\n",
       "Very dark day           107.0000      7000.0         1.0     1.842474  9.028125e-01  4.810126e-01  2.500866e-01  1.238426e-01  6.420000e-02  3.611250e-02  1.648671e-02  9.028125e-03\n",
       "Overcast day           1075.0000      6000.0         1.0    18.510842  9.070312e+00  4.832603e+00  2.512552e+00  1.244213e+00  6.450000e-01  3.628125e-01  1.656376e-01  9.070312e-02\n",
       "Full sky light        10752.0000     12000.0         1.0   185.142857  9.072000e+01  4.833502e+01  2.513019e+01  1.244444e+01  6.451200e+00  3.628800e+00  1.656684e+00  9.072000e-01\n",
       "Sun light            107527.0000      5700.0         1.0  1851.549107  9.072591e+02  4.833817e+02  2.513183e+02  1.244525e+02  6.451620e+01  3.629036e+01  1.656792e+01  9.072591e+00"
      ]
     },
     "execution_count": 3,
     "metadata": {},
     "output_type": "execute_result"
    }
   ],
   "source": [
    "lx = pf.lllux\n",
    "\n",
    "def calcIrrad(lx, rho, taua, tauo, fno):\n",
    "    return lx * rho * taua * tauo / (4 * fno ** 2)\n",
    "\n",
    "df = pd.DataFrame(lx).transpose()\n",
    "df.columns = pf.llluxCols\n",
    "\n",
    "rho = 0.3\n",
    "taua = 0.5\n",
    "tauo = 0.9\n",
    "fnos = [1.4, 2, 2.74, 3.8, 5.4, 7.5, 10, 14.8, 20]\n",
    "for fno in fnos:\n",
    "#     http://stackoverflow.com/questions/21188504/python-pandas-apply-a-function-with-arguments-to-a-series-update\n",
    "    df['{}'.format(fno)] = df['Irradiance-lm/m2'].apply(calcIrrad, args=(rho, taua, tauo, fno) )\n",
    "    \n",
    "df.sort_values(by='Irradiance-lm/m2')"
   ]
  },
  {
   "cell_type": "markdown",
   "metadata": {},
   "source": [
    "## Sensor model data\n",
    "\n",
    "The following code sets up the sensor model data.  \n",
    "\n",
    "Files remaining open, not closed after use, poses a problem in the notebook context where cells may be executed indivdually.  The limit the occurence of open files we open and close the file in each cell."
   ]
  },
  {
   "cell_type": "code",
   "execution_count": 4,
   "metadata": {
    "collapsed": false
   },
   "outputs": [],
   "source": [
    "#set up the parameters for this run and open the HDF5 file\n",
    "outfilename = 'Output'\n",
    "prefix = 'PA'\n",
    "pathtoimage = ryfiles.downloadFileUrl('https://github.com/NelisW/pyradi/raw/master/pyradi/data/image-Stairslin-40-100-520.hdf5',  \n",
    "                              saveFilename='image-Stairslin-40-100-520.hdf5')\n",
    "\n",
    "#open the file to create data structure and store the results, remove if exists\n",
    "hdffilename = '{}{}.hdf5'.format(prefix, outfilename)\n",
    "if os.path.isfile(hdffilename):\n",
    "    os.remove(hdffilename)"
   ]
  },
  {
   "cell_type": "code",
   "execution_count": 5,
   "metadata": {
    "collapsed": false
   },
   "outputs": [],
   "source": [
    "strh5 = ryfiles.open_HDF(hdffilename)\n",
    "\n",
    "#sensor parameters\n",
    "strh5['rystare/sensortype'] = 'CCD' # CMOS/CCD must be in capitals\n",
    "strh5['rystare/fillfactor'] = 1.0 # Pixel Fill Factor for full-frame CCD photo sensors.\n",
    "strh5['rystare/integrationtime'] = 0.01 # Exposure/Integration time, [sec].\n",
    "strh5['rystare/externalquantumeff'] = 0.8  # external quantum efficiency, fraction not reflected.\n",
    "strh5['rystare/quantumyield'] = 1. # number of electrons absorbed per one photon into material bulk\n",
    "strh5['rystare/fullwellelectrons'] = 2e4 # full well of the pixel (how many electrons can be stored in one pixel), [e]\n",
    "\n",
    "# Light Noise parameters\n",
    "strh5['rystare/flag/photonshotnoise'] = True #photon shot noise.\n",
    "\n",
    "# photo response non-uniformity noise (PRNU), or also called light Fixed Pattern Noise (light FPN)\n",
    "strh5['rystare/detector/response/NU/flag'] = True\n",
    "strh5['rystare/detector/response/NU/seed'] = 362436069\n",
    "strh5['rystare/detector/response/NU/model'] = 'Janesick-Gaussian' \n",
    "strh5['rystare/detector/response/NU/spread'] = 0.01 # sigma [about 1\\% for CCD and up to 5% for CMOS];\n",
    "\n",
    "# Dark Current Noise parameters\n",
    "strh5['rystare/flag/darkcurrent'] = True\n",
    "strh5['rystare/operatingtemperature'] = 300. # operating temperature, [K]\n",
    "strh5['rystare/darkfiguremerit'] = 1. # dark current figure of merit, [nA/cm2].  For very poor sensors, add DFM\n",
    "#  Increasing the DFM more than 10 results to (with the same exposure time of 10^-6):\n",
    "#  Hence the DFM increases the standard deviation and does not affect the mean value.\n",
    "\n",
    "# dark current shot noise\n",
    "strh5['rystare/flag/DarkCurrent-DShot'] = True\n",
    "\n",
    "#dark current Fixed Pattern uniformity \n",
    "strh5['rystare/darkresponse/NU/flag'] = True\n",
    "strh5['rystare/darkresponse/NU/seed'] = 362436128\n",
    "strh5['rystare/darkresponse/NU/limitnegative'] = True # only used with 'Janesick-Gaussian' \n",
    "strh5['rystare/darkresponse/NU/model'] = 'LogNormal' #suitable for long exposures\n",
    "strh5['rystare/darkresponse/NU//spread'] = 0.4 #lognorm_sigma.\n",
    "\n",
    "#sense node charge to voltage\n",
    "strh5['rystare/sensenode/nonlinear/flag'] = False\n",
    "strh5['rystare/sensenode/nonlinear/alpha'] = 0.05 #how many times should A_SF be increased due to non-linearity?    \n",
    "# strh5['rystare/sensenode/gain'] = 5e-6 # Sense node gain, A_SN [V/e]\n",
    "strh5['rystare/sensenode/gain'] = 50e-06 # Sense node gain, A_SN [V/e]\n",
    "strh5['rystare/sensenode/resetnoise/flag'] = True\n",
    "strh5['rystare/sensenode/resetnoise/factor'] = 0.8 #[0,1]the compensation factor of the Sense Node Reset Noise: \n",
    "strh5['rystare/sensenode/vrefreset'] = 3.1 # Reference voltage to reset the sense node. [V] typically 3-10 V.\n",
    "\n",
    "#source follower\n",
    "strh5['rystare/sourcefollower/gain'] = 1. # Source follower gain, [V/V], lower means amplify the noise.\n",
    "strh5['rystare/sourcefollower/noise/flag'] = True\n",
    "strh5['rystare/sourcefollower/flickerCornerHz'] = 1e6 #flicker noise corner frequency $f_c$ in [Hz], where power spectrum of white and flicker noise are equal [Hz].\n",
    "strh5['rystare/sourcefollower/whitenoisedensity'] = 15e-9 #thermal white noise [\\f$V/Hz^{1/2}\\f$, typically \\f$15 nV/Hz^{1/2}\\f$ ]\n",
    "strh5['rystare/sourcefollower/deltaindmodulation'] = 1e-8 #[A] source follower current modulation induced by RTS [CMOS ONLY]\n",
    "strh5['rystare/sourcefollower/dataclockspeed'] = 20e6 #Hz data rate clocking speed.\n",
    "strh5['rystare/sourcefollower/freqsamplingdelta'] = 10000. #Hz spectral sampling spacing\n",
    "strh5['rystare/sourcefollower/nonlinearity/flag'] = True\n",
    "strh5['rystare/sourcefollower/nonlinearity/ratio'] = 1.05 # > 1 for lower signal, < 1 for higher signal\n",
    "\n",
    "#dark current Offset Fixed Pattern \n",
    "strh5['rystare/darkoffset/NU/flag'] = True\n",
    "strh5['rystare/darkoffset/NU/model'] = 'Janesick-Gaussian'\n",
    "strh5['rystare/darkoffset/NU/spread'] = 0.0005 # percentage of (V_REF - V_SN)\n",
    "\n",
    "# Correlated Double Sampling (CDS)\n",
    "strh5['rystare/CDS/gain'] = 1. # CDS gain, [V/V], lower means amplify the noise.\n",
    "strh5['rystare/CDS/sampletosamplingtime'] = 1e-6 #CDS sample-to-sampling time [sec].\n",
    "\n",
    "# Analogue-to-Digital Converter (ADC)\n",
    "strh5['rystare/ADC/num-bits'] = 12. # noise is more apparent on high Bits\n",
    "strh5['rystare/ADC/offset'] = 0. # Offset of the ADC, in DN\n",
    "strh5['rystare/ADC/nonlinearity/flag'] = False \n",
    "strh5['rystare/ADC/nonlinearity/ratio'] = 1.1\n",
    "\n",
    "#For testing and measurements only:\n",
    "strh5['rystare/flag/darkframe'] = False # True if no signal, only dark\n",
    "\n",
    "strh5.flush()\n",
    "strh5.close()"
   ]
  },
  {
   "cell_type": "markdown",
   "metadata": {
    "collapsed": true
   },
   "source": [
    "Download the image file from the GitHub directory. Normally you will prepare this file for your specific application.  The format for this file is described [here](http://nelisw.github.io/pyradi-docs/_build/html/rystare.html#pyradi.rystare.create_HDF5_image)."
   ]
  },
  {
   "cell_type": "code",
   "execution_count": 6,
   "metadata": {
    "collapsed": false
   },
   "outputs": [],
   "source": [
    "\n",
    "if pathtoimage is not None:\n",
    "    imghd5 = ryfiles.open_HDF(pathtoimage)\n",
    "else:\n",
    "    imghd5 = None        "
   ]
  },
  {
   "cell_type": "markdown",
   "metadata": {
    "collapsed": true
   },
   "source": [
    "The input data has been set up, now execute the model. To test the model performance at the limits, uncomment one of the two `scaleInput` lines.  The first line provides a signal with small SNR whereas the second line provides a signal that saturates the well."
   ]
  },
  {
   "cell_type": "code",
   "execution_count": 7,
   "metadata": {
    "collapsed": false
   },
   "outputs": [],
   "source": [
    "# scaleInput = 0.01 # for low SNR for Disk image\n",
    "# scaleInput = 5 # saturates the well to full capacity for Disk image\n",
    "scaleInput = 1 \n",
    "\n",
    "if imghd5 is not None:\n",
    "    strh5 = ryfiles.open_HDF(hdffilename)\n",
    "    \n",
    "    #images must be in photon rate irradiance units q/(m2.s)\n",
    "    \n",
    "    strh5['rystare/irradianceLux'] = scaleInput * imghd5['image/irradianceLux'].value\n",
    "    strh5['rystare/signal/photonRateIrradianceNoNoise'] = scaleInput * imghd5['image/PhotonRateIrradianceNoNoise'].value\n",
    "    strh5['rystare/signal/photonRateIrradiance'] = scaleInput * imghd5['image/PhotonRateIrradiance'].value\n",
    "    strh5['rystare/pixelPitch'] = imghd5['image/pixelPitch'].value\n",
    "    strh5['rystare/imageName'] = imghd5['image/imageName'].value\n",
    "    strh5['rystare/imageFilename'] = imghd5['image/imageFilename'].value\n",
    "    strh5['rystare/imageSizePixels'] = imghd5['image/imageSizePixels'].value\n",
    "    strh5['rystare/wavelength'] = imghd5['image/wavelength'].value\n",
    "    strh5['rystare/imageSizeRows'] = imghd5['image/imageSizeRows'].value\n",
    "    strh5['rystare/imageSizeCols'] = imghd5['image/imageSizeCols'].value\n",
    "    strh5['rystare/imageSizeDiagonal'] = imghd5['image/imageSizeDiagonal'].value\n",
    "\n",
    "    #calculate the noise and final images\n",
    "    strh5 = rystare.photosensor(strh5) # here the Photon-to-electron conversion occurred.\n",
    "    strh5.flush()\n",
    "    strh5.close()\n"
   ]
  },
  {
   "cell_type": "markdown",
   "metadata": {},
   "source": [
    "Print some statistics of the sensor, noise and image"
   ]
  },
  {
   "cell_type": "code",
   "execution_count": 8,
   "metadata": {
    "collapsed": false
   },
   "outputs": [
    {
     "name": "stdout",
     "output_type": "stream",
     "text": [
      "PAOutput.hdf5\n",
      "Image file name             : image-Stairslin-40-100-520.hdf5\n",
      "Image name                  : Stairslin-40-40\n",
      "Sensor type                 : CCD \n",
      "Pixel pitch                 : [  5.00000000e-06   5.00000000e-06] m\n",
      "Image size diagonal         : 0.00264764045897 m\n",
      "Image size pixels           : [100 520] \n",
      "Fill factor                 : 1.0\n",
      "Full well electrons         : 20000.0 e\n",
      "Integration time            : 0.01 s\n",
      "Wavelength                  : 5.5e-07 m\n",
      "Operating temperature       : 300.0 K\n",
      "Max image irradiance         : 25.2269954681 lux\n",
      "PhotonRateIrradianceNoNoise : q/(m2.s) mean=3.39785e+16, var=1.20289e+33\n",
      "SignalPhotonRateIrradiance  : q/(m2.s) mean=3.39785e+16, var=1.20289e+33\n",
      "SignalPhotonsNU             : q/(m2.s) mean=3.39744e+16, var=1.20278e+33\n",
      "signalLight                 : e mean=6.79489e+03, var=4.81113e+07\n",
      "signalDarkNoNoise           : e mean=1.54764e+01, var=0.00000e+00\n",
      "signalDark                  : e mean=4.08707e+01, var=1.25704e+03\n",
      "SignalElectrons             : e mean=6.82354e+03, var=4.77937e+07\n",
      "source_follower_noise       : v mean=3.40926e-08, var=9.25397e-10\n",
      "SignalVoltage               : v mean=3.27923e-01, var=1.11019e-01\n",
      "SignalDN                    : DN mean=1.34324e+03, var=1.86276e+06\n",
      "ADC gain                    : DN mean=4.09620e+03, var=8.27181e-25\n",
      "ADC                         : DN/v bits=12.0 offset=0.0 DN\n",
      "Dark current figure-merit   : 1.0 \n",
      "Quantum external efficiency : 0.8 \n",
      "Quantum yield               : 1.0 \n",
      "Sense node gain             : 5e-05 w/e\n",
      "Sense reset Vref            : 3.1 v\n",
      "Source follower gain        : 1.0 \n",
      "k1 constant                 : 1.0909e-14 \n",
      "Dark offset model           : Janesick-Gaussian\n",
      "Dark offset spread          : 0.0005 e\n",
      "Dark response model         : LogNormal\n",
      "Dark response seed          : 362436128\n",
      "Dark response spread        : 0.4 \n",
      "Dark response neg lim flag  : True\n",
      "Detector response mode      : Janesick-Gaussian\n",
      "Detector response seed      : 362436069\n",
      "Detector response spread    : 0.01\n",
      "Material Eg 0 K             : 1.1557 eV\n",
      "Material Eg                 : 1.11082144886 eV\n",
      "Material alpha              : 0.0007021  \n",
      "Material beta               : 1108.0  \n",
      "Sense node reset noise factr: 0.8  \n",
      "Sense node reset kTC sigma  : 0.0 v\n",
      "Sense node capacitance      : 3.2043532416 fF\n",
      "Sense node signal full well : 1.0 V\n",
      "Sense node signal minimum   : 5e-05 V\n",
      "Sense node reset noise      : True \n",
      "CDS gain                    : 1.0 \n",
      "CDS sample-to-sampling time : 1e-06 s\n",
      "Delta induced modulation    : 1e-08 \n",
      "Data clock speed            : 20000000.0 Hz\n",
      "Frequency sampling delta    : 10000.0 Hz\n",
      "White noise density         : 1.5e-08 V/rtHz\n",
      "Flicker corner              : 1000000.0 Hz\n",
      "Source follower sigma       : v mean=3.04649e-05, var=0.00000e+00\n",
      "\n"
     ]
    }
   ],
   "source": [
    "print(rystare.get_summary_stats(hdffilename))"
   ]
  },
  {
   "cell_type": "markdown",
   "metadata": {},
   "source": [
    "The source follower DCS noise is shown next."
   ]
  },
  {
   "cell_type": "code",
   "execution_count": 9,
   "metadata": {
    "collapsed": false
   },
   "outputs": [
    {
     "data": {
      "image/png": "[encoded data removed]",
      "text/plain": [
       "<matplotlib.figure.Figure at 0xa4a8cc0>"
      ]
     },
     "metadata": {},
     "output_type": "display_data"
    },
    {
     "data": {
      "image/png": "[encoded data removed]",
      "text/plain": [
       "<matplotlib.figure.Figure at 0xa4f7240>"
      ]
     },
     "metadata": {},
     "output_type": "display_data"
    }
   ],
   "source": [
    "#open the sensor data file\n",
    "%matplotlib inline\n",
    "strh5 = ryfiles.open_HDF(hdffilename)\n",
    "p = ryplot.Plotter(1,1,1,figsize=(10,4))\n",
    "p.logLog(1, strh5['rystare/sourcefollower/noise/spectralfreq'].value.T, \n",
    "         strh5['rystare/sourcefollower/noise/cdsgain'].value.T,'CDS Response',\n",
    "        'Frequency Hz','Transfer function')\n",
    "q = ryplot.Plotter(2,1,1,figsize=(10,4))\n",
    "q.logLog(1, strh5['rystare/sourcefollower/noise/spectralfreq'].value.T, \n",
    "         np.sqrt(strh5['rystare/sourcefollower/noise/spectrumwhiteflicker'].value.T),label=['White and 1/f in'])\n",
    "if strh5['rystare/sensortype'].value in ['CMOS']:\n",
    "    q.logLog(1, strh5['rystare/sourcefollower/noise/spectralfreq'].value.T, \n",
    "         np.sqrt(strh5['rystare/sourcefollower/noise/spectrumRTN'].value.T), label=['Burst / RTN in'])\n",
    "q.logLog(1, strh5['rystare/sourcefollower/noise/spectralfreq'].value.T, \n",
    "         np.sqrt(strh5['rystare/sourcefollower/noise/spectrumtotal'].value.T),label=['Total in'])\n",
    "q.logLog(1, strh5['rystare/sourcefollower/noise/spectralfreq'].value.T, \n",
    "         np.sqrt(strh5['rystare/sourcefollower/noise/spectrumtotal'].value.T) * strh5['rystare/sourcefollower/noise/cdsgain'].value.T,'CDS Noise',\n",
    "        'Frequency Hz','Spectral density V/rtHz',label=['Total out'])\n",
    "strh5.flush()\n",
    "strh5.close()"
   ]
  },
  {
   "cell_type": "code",
   "execution_count": 10,
   "metadata": {
    "collapsed": false
   },
   "outputs": [],
   "source": [
    "def plotResults(imghd5, hdffilename, arrayname, bins=50, plotscale=1.0, logscale=False):\n",
    "    if imghd5 is not None and hdffilename is not None:\n",
    "        #open the sensor data file\n",
    "        strh5 = ryfiles.open_HDF(hdffilename)\n",
    "        #get the prescribed array\n",
    "        arr = strh5['{}'.format(arrayname)].value \n",
    "        maxarr = np.max(arr)\n",
    "        arr = strh5['{}'.format(arrayname)].value * plotscale\n",
    "        arr = np.where(arr > maxarr, maxarr,arr) / plotscale\n",
    "        if logscale:\n",
    "            arr = np.log10(arr + 0.5)\n",
    "            ptitle = \"log('{}'+0.5)\".format(arrayname.replace('rystare/',''))\n",
    "        else:\n",
    "            ptitle = \"'{}'\".format(arrayname.replace('rystare/',''))\n",
    "        \n",
    "        his, bin = np.histogram(arr,bins=bins)\n",
    "        \n",
    "        if np.min(arr) != np.max(arr):\n",
    "            arrshift = arr - np.min(arr)\n",
    "            arrshift = 255 * arrshift/np.max(arrshift)\n",
    "            p = ryplot.Plotter(1,2,1,figsize=(8, 4))\n",
    "#             p.showImage(1, arr, ptitle=ptitle, cmap=ryplot.cubehelixcmap(), cbarshow=True);\n",
    "            p.showImage(1, arr, ptitle=ptitle, cmap=mcm.jet, cbarshow=True);\n",
    "            p.showImage(2, arrshift, ptitle=ptitle, cmap=mcm.gray, cbarshow=False);\n",
    "        if not logscale:\n",
    "            r = ryplot.Plotter(2,1,1,figsize=(7, 2))\n",
    "            r.plot(1, (bin[1:]+bin[:-1])/2, his, '{}, {} bins'.format(arrayname.replace('rystare/',''), bins), 'Magnitude','Counts / bin')\n",
    "\n",
    "        strh5.flush()\n",
    "        strh5.close()"
   ]
  },
  {
   "cell_type": "markdown",
   "metadata": {},
   "source": [
    "The graph in the rest of the document shows signals at the stations marked in the signal flow diagram shown below."
   ]
  },
  {
   "cell_type": "code",
   "execution_count": 11,
   "metadata": {
    "collapsed": false
   },
   "outputs": [
    {
     "ename": "IOError",
     "evalue": "[Errno 2] No such file or directory: u'images/camerascheme_horiz-labelled.png'",
     "output_type": "error",
     "traceback": [
      "\u001b[1;31m---------------------------------------------------------------------------\u001b[0m",
      "\u001b[1;31mIOError\u001b[0m                                   Traceback (most recent call last)",
      "\u001b[1;32m<ipython-input-11-6fa27483253b>\u001b[0m in \u001b[0;36m<module>\u001b[1;34m()\u001b[0m\n\u001b[1;32m----> 1\u001b[1;33m \u001b[0mdisplay\u001b[0m\u001b[1;33m(\u001b[0m\u001b[0mImage\u001b[0m\u001b[1;33m(\u001b[0m\u001b[0mfilename\u001b[0m\u001b[1;33m=\u001b[0m\u001b[1;34m'images/camerascheme_horiz-labelled.png'\u001b[0m\u001b[1;33m,\u001b[0m \u001b[0mwidth\u001b[0m\u001b[1;33m=\u001b[0m\u001b[1;36m1000\u001b[0m\u001b[1;33m)\u001b[0m\u001b[1;33m)\u001b[0m\u001b[1;33m\u001b[0m\u001b[0m\n\u001b[0m",
      "\u001b[1;32mC:\\Miniconda3\\envs\\py27\\lib\\site-packages\\IPython\\core\\display.pyc\u001b[0m in \u001b[0;36m__init__\u001b[1;34m(self, data, url, filename, format, embed, width, height, retina, unconfined, metadata)\u001b[0m\n\u001b[0;32m    749\u001b[0m         \u001b[0mself\u001b[0m\u001b[1;33m.\u001b[0m\u001b[0munconfined\u001b[0m \u001b[1;33m=\u001b[0m \u001b[0munconfined\u001b[0m\u001b[1;33m\u001b[0m\u001b[0m\n\u001b[0;32m    750\u001b[0m         \u001b[0mself\u001b[0m\u001b[1;33m.\u001b[0m\u001b[0mmetadata\u001b[0m \u001b[1;33m=\u001b[0m \u001b[0mmetadata\u001b[0m\u001b[1;33m\u001b[0m\u001b[0m\n\u001b[1;32m--> 751\u001b[1;33m         \u001b[0msuper\u001b[0m\u001b[1;33m(\u001b[0m\u001b[0mImage\u001b[0m\u001b[1;33m,\u001b[0m \u001b[0mself\u001b[0m\u001b[1;33m)\u001b[0m\u001b[1;33m.\u001b[0m\u001b[0m__init__\u001b[0m\u001b[1;33m(\u001b[0m\u001b[0mdata\u001b[0m\u001b[1;33m=\u001b[0m\u001b[0mdata\u001b[0m\u001b[1;33m,\u001b[0m \u001b[0murl\u001b[0m\u001b[1;33m=\u001b[0m\u001b[0murl\u001b[0m\u001b[1;33m,\u001b[0m \u001b[0mfilename\u001b[0m\u001b[1;33m=\u001b[0m\u001b[0mfilename\u001b[0m\u001b[1;33m)\u001b[0m\u001b[1;33m\u001b[0m\u001b[0m\n\u001b[0m\u001b[0;32m    752\u001b[0m \u001b[1;33m\u001b[0m\u001b[0m\n\u001b[0;32m    753\u001b[0m         \u001b[1;32mif\u001b[0m \u001b[0mretina\u001b[0m\u001b[1;33m:\u001b[0m\u001b[1;33m\u001b[0m\u001b[0m\n",
      "\u001b[1;32mC:\\Miniconda3\\envs\\py27\\lib\\site-packages\\IPython\\core\\display.pyc\u001b[0m in \u001b[0;36m__init__\u001b[1;34m(self, data, url, filename)\u001b[0m\n\u001b[0;32m    386\u001b[0m         \u001b[0mself\u001b[0m\u001b[1;33m.\u001b[0m\u001b[0mfilename\u001b[0m \u001b[1;33m=\u001b[0m \u001b[0mNone\u001b[0m \u001b[1;32mif\u001b[0m \u001b[0mfilename\u001b[0m \u001b[1;32mis\u001b[0m \u001b[0mNone\u001b[0m \u001b[1;32melse\u001b[0m \u001b[0municode_type\u001b[0m\u001b[1;33m(\u001b[0m\u001b[0mfilename\u001b[0m\u001b[1;33m)\u001b[0m\u001b[1;33m\u001b[0m\u001b[0m\n\u001b[0;32m    387\u001b[0m \u001b[1;33m\u001b[0m\u001b[0m\n\u001b[1;32m--> 388\u001b[1;33m         \u001b[0mself\u001b[0m\u001b[1;33m.\u001b[0m\u001b[0mreload\u001b[0m\u001b[1;33m(\u001b[0m\u001b[1;33m)\u001b[0m\u001b[1;33m\u001b[0m\u001b[0m\n\u001b[0m\u001b[0;32m    389\u001b[0m         \u001b[0mself\u001b[0m\u001b[1;33m.\u001b[0m\u001b[0m_check_data\u001b[0m\u001b[1;33m(\u001b[0m\u001b[1;33m)\u001b[0m\u001b[1;33m\u001b[0m\u001b[0m\n\u001b[0;32m    390\u001b[0m \u001b[1;33m\u001b[0m\u001b[0m\n",
      "\u001b[1;32mC:\\Miniconda3\\envs\\py27\\lib\\site-packages\\IPython\\core\\display.pyc\u001b[0m in \u001b[0;36mreload\u001b[1;34m(self)\u001b[0m\n\u001b[0;32m    771\u001b[0m         \u001b[1;34m\"\"\"Reload the raw data from file or URL.\"\"\"\u001b[0m\u001b[1;33m\u001b[0m\u001b[0m\n\u001b[0;32m    772\u001b[0m         \u001b[1;32mif\u001b[0m \u001b[0mself\u001b[0m\u001b[1;33m.\u001b[0m\u001b[0membed\u001b[0m\u001b[1;33m:\u001b[0m\u001b[1;33m\u001b[0m\u001b[0m\n\u001b[1;32m--> 773\u001b[1;33m             \u001b[0msuper\u001b[0m\u001b[1;33m(\u001b[0m\u001b[0mImage\u001b[0m\u001b[1;33m,\u001b[0m\u001b[0mself\u001b[0m\u001b[1;33m)\u001b[0m\u001b[1;33m.\u001b[0m\u001b[0mreload\u001b[0m\u001b[1;33m(\u001b[0m\u001b[1;33m)\u001b[0m\u001b[1;33m\u001b[0m\u001b[0m\n\u001b[0m\u001b[0;32m    774\u001b[0m             \u001b[1;32mif\u001b[0m \u001b[0mself\u001b[0m\u001b[1;33m.\u001b[0m\u001b[0mretina\u001b[0m\u001b[1;33m:\u001b[0m\u001b[1;33m\u001b[0m\u001b[0m\n\u001b[0;32m    775\u001b[0m                 \u001b[0mself\u001b[0m\u001b[1;33m.\u001b[0m\u001b[0m_retina_shape\u001b[0m\u001b[1;33m(\u001b[0m\u001b[1;33m)\u001b[0m\u001b[1;33m\u001b[0m\u001b[0m\n",
      "\u001b[1;32mC:\\Miniconda3\\envs\\py27\\lib\\site-packages\\IPython\\core\\display.pyc\u001b[0m in \u001b[0;36mreload\u001b[1;34m(self)\u001b[0m\n\u001b[0;32m    404\u001b[0m         \u001b[1;34m\"\"\"Reload the raw data from file or URL.\"\"\"\u001b[0m\u001b[1;33m\u001b[0m\u001b[0m\n\u001b[0;32m    405\u001b[0m         \u001b[1;32mif\u001b[0m \u001b[0mself\u001b[0m\u001b[1;33m.\u001b[0m\u001b[0mfilename\u001b[0m \u001b[1;32mis\u001b[0m \u001b[1;32mnot\u001b[0m \u001b[0mNone\u001b[0m\u001b[1;33m:\u001b[0m\u001b[1;33m\u001b[0m\u001b[0m\n\u001b[1;32m--> 406\u001b[1;33m             \u001b[1;32mwith\u001b[0m \u001b[0mopen\u001b[0m\u001b[1;33m(\u001b[0m\u001b[0mself\u001b[0m\u001b[1;33m.\u001b[0m\u001b[0mfilename\u001b[0m\u001b[1;33m,\u001b[0m \u001b[0mself\u001b[0m\u001b[1;33m.\u001b[0m\u001b[0m_read_flags\u001b[0m\u001b[1;33m)\u001b[0m \u001b[1;32mas\u001b[0m \u001b[0mf\u001b[0m\u001b[1;33m:\u001b[0m\u001b[1;33m\u001b[0m\u001b[0m\n\u001b[0m\u001b[0;32m    407\u001b[0m                 \u001b[0mself\u001b[0m\u001b[1;33m.\u001b[0m\u001b[0mdata\u001b[0m \u001b[1;33m=\u001b[0m \u001b[0mf\u001b[0m\u001b[1;33m.\u001b[0m\u001b[0mread\u001b[0m\u001b[1;33m(\u001b[0m\u001b[1;33m)\u001b[0m\u001b[1;33m\u001b[0m\u001b[0m\n\u001b[0;32m    408\u001b[0m         \u001b[1;32melif\u001b[0m \u001b[0mself\u001b[0m\u001b[1;33m.\u001b[0m\u001b[0murl\u001b[0m \u001b[1;32mis\u001b[0m \u001b[1;32mnot\u001b[0m \u001b[0mNone\u001b[0m\u001b[1;33m:\u001b[0m\u001b[1;33m\u001b[0m\u001b[0m\n",
      "\u001b[1;31mIOError\u001b[0m: [Errno 2] No such file or directory: u'images/camerascheme_horiz-labelled.png'"
     ]
    }
   ],
   "source": [
    "display(Image(filename='images/camerascheme_horiz-labelled.png', width=1000))"
   ]
  },
  {
   "cell_type": "markdown",
   "metadata": {},
   "source": [
    "The externally created signal in photon rate irradiance [q/(m2.s)] (location 1 in the diagram).   This plot shows the image without photon noise."
   ]
  },
  {
   "cell_type": "code",
   "execution_count": null,
   "metadata": {
    "collapsed": false
   },
   "outputs": [],
   "source": [
    "plotResults(imghd5, hdffilename, 'rystare/signal/photonRateIrradianceNoNoise', bins=120) "
   ]
  },
  {
   "cell_type": "markdown",
   "metadata": {},
   "source": [
    "The externally created signal in photon rate irradiance [q/(m2.s)] (location 2 in the diagram).   This plot shows the image with photon noise."
   ]
  },
  {
   "cell_type": "code",
   "execution_count": null,
   "metadata": {
    "collapsed": false,
    "scrolled": false
   },
   "outputs": [],
   "source": [
    "plotResults(imghd5, hdffilename, 'rystare/signal/photonRateIrradiance', bins=120) "
   ]
  },
  {
   "cell_type": "markdown",
   "metadata": {},
   "source": [
    "The photon rate multiplied with the integration time yields the maximum number of photons available for accumulation (location 4 in the diagram):"
   ]
  },
  {
   "cell_type": "markdown",
   "metadata": {},
   "source": [
    "Detector element quantum efficiency (location 5 in the diagram):"
   ]
  },
  {
   "cell_type": "code",
   "execution_count": null,
   "metadata": {
    "collapsed": false
   },
   "outputs": [],
   "source": [
    "plotResults(imghd5, hdffilename, 'rystare/quantumEfficiency', bins=120) "
   ]
  },
  {
   "cell_type": "markdown",
   "metadata": {},
   "source": [
    "The focal plane's spatial nonuniformity is calculated next, as a Gaussian distribution around unity (location 6 in the diagram):"
   ]
  },
  {
   "cell_type": "code",
   "execution_count": null,
   "metadata": {
    "collapsed": false
   },
   "outputs": [],
   "source": [
    "plotResults(imghd5, hdffilename, 'rystare/detector/response/NU/value', bins=120) "
   ]
  },
  {
   "cell_type": "markdown",
   "metadata": {},
   "source": [
    "The photon count multiplied with the nonuniformity yields the photon count actually recorded in the charge wells (location 7 in the diagram):"
   ]
  },
  {
   "cell_type": "code",
   "execution_count": null,
   "metadata": {
    "collapsed": false
   },
   "outputs": [],
   "source": [
    "plotResults(imghd5, hdffilename, 'rystare/signal/lightelectrons', bins=120) "
   ]
  },
  {
   "cell_type": "markdown",
   "metadata": {},
   "source": [
    "The focal plane nonuniformity for dark noise generation for the advanced model follows a lognormal distribution.  The relatively few high values are quite evident in these graphs (location 10 in the diagram):\n"
   ]
  },
  {
   "cell_type": "code",
   "execution_count": null,
   "metadata": {
    "collapsed": false
   },
   "outputs": [],
   "source": [
    "plotResults(imghd5, hdffilename, 'rystare/darkresponse/NU/value', bins=120) \n"
   ]
  },
  {
   "cell_type": "markdown",
   "metadata": {},
   "source": [
    "The dark noise signal is given by the dark noise nonuniformity multiplied by the mean dark current (location 9 in the diagram):\n"
   ]
  },
  {
   "cell_type": "code",
   "execution_count": null,
   "metadata": {
    "collapsed": false
   },
   "outputs": [],
   "source": [
    "plotResults(imghd5, hdffilename, 'rystare/signal/darkcurrentelectrons', bins=120) "
   ]
  },
  {
   "cell_type": "markdown",
   "metadata": {},
   "source": [
    "The signal in electrons (location 12 in the diagram):"
   ]
  },
  {
   "cell_type": "code",
   "execution_count": null,
   "metadata": {
    "collapsed": false
   },
   "outputs": [],
   "source": [
    "plotResults(imghd5, hdffilename, 'rystare/signal/electrons', bins=120) "
   ]
  },
  {
   "cell_type": "markdown",
   "metadata": {},
   "source": [
    "The reset noise variation over the array (location 15 in the diagram):"
   ]
  },
  {
   "cell_type": "code",
   "execution_count": null,
   "metadata": {
    "collapsed": false
   },
   "outputs": [],
   "source": [
    "plotResults(imghd5, hdffilename, 'rystare/noise/sn_reset/resetnoise', bins=120) "
   ]
  },
  {
   "cell_type": "markdown",
   "metadata": {},
   "source": [
    "The source follower noise in electrons (location 19 in the diagram):"
   ]
  },
  {
   "cell_type": "code",
   "execution_count": null,
   "metadata": {
    "collapsed": false,
    "scrolled": true
   },
   "outputs": [],
   "source": [
    "plotResults(imghd5, hdffilename, 'rystare/sourcefollower/source_follower_noise', bins=120) "
   ]
  },
  {
   "cell_type": "code",
   "execution_count": null,
   "metadata": {
    "collapsed": false
   },
   "outputs": [],
   "source": [
    "plotResults(imghd5, hdffilename, 'rystare/signal/voltagebeforeSF', bins=120) "
   ]
  },
  {
   "cell_type": "markdown",
   "metadata": {},
   "source": [
    "The (inverted) signal converted to voltage on the FPA output (location 18 in the diagram):"
   ]
  },
  {
   "cell_type": "code",
   "execution_count": null,
   "metadata": {
    "collapsed": false
   },
   "outputs": [],
   "source": [
    "plotResults(imghd5, hdffilename, 'rystare/signal/voltagebeforeSF', bins=120)"
   ]
  },
  {
   "cell_type": "code",
   "execution_count": null,
   "metadata": {
    "collapsed": false
   },
   "outputs": [],
   "source": [
    "plotResults(imghd5, hdffilename, 'rystare/signal/voltagebeforecds', bins=120)"
   ]
  },
  {
   "cell_type": "code",
   "execution_count": null,
   "metadata": {
    "collapsed": false
   },
   "outputs": [],
   "source": [
    "plotResults(imghd5, hdffilename, 'rystare/signal/voltagebeforeadc', bins=120)"
   ]
  },
  {
   "cell_type": "code",
   "execution_count": null,
   "metadata": {
    "collapsed": false
   },
   "outputs": [],
   "source": [
    "plotResults(imghd5, hdffilename, 'rystare/signal/voltage', bins=120) "
   ]
  },
  {
   "cell_type": "markdown",
   "metadata": {},
   "source": [
    "The dark offset nonuniformity (location 21 in the diagram):"
   ]
  },
  {
   "cell_type": "code",
   "execution_count": null,
   "metadata": {
    "collapsed": false
   },
   "outputs": [],
   "source": [
    "plotResults(imghd5, hdffilename, 'rystare/darkoffset/NU/value', bins=120) "
   ]
  },
  {
   "cell_type": "markdown",
   "metadata": {},
   "source": [
    "The ADC electronics linearity (location "
   ]
  },
  {
   "cell_type": "code",
   "execution_count": null,
   "metadata": {
    "collapsed": false
   },
   "outputs": [],
   "source": [
    "plotResults(imghd5, hdffilename, 'rystare/ADC/gain', bins=120) "
   ]
  },
  {
   "cell_type": "markdown",
   "metadata": {},
   "source": [
    "Signal converted to digital counts (location 25 in the diagram). This is the full scale dynamic range present in the image.  If the charge well is saturated, the value shown here should correspond with the full well capacity."
   ]
  },
  {
   "cell_type": "code",
   "execution_count": null,
   "metadata": {
    "collapsed": false
   },
   "outputs": [],
   "source": [
    "plotResults(imghd5, hdffilename, 'rystare/signal/DN', bins=120) "
   ]
  },
  {
   "cell_type": "markdown",
   "metadata": {},
   "source": [
    "Signal converted to digital counts  (location 25 in the diagram). This graph is intensity scaled 100 times larger than the previous image.  At this gain, the noise should be visible but higher signal levels will exceed the plot scale."
   ]
  },
  {
   "cell_type": "code",
   "execution_count": null,
   "metadata": {
    "collapsed": false
   },
   "outputs": [],
   "source": [
    "plotResults(imghd5, hdffilename, 'rystare/signal/DN', bins=120, plotscale=100) "
   ]
  },
  {
   "cell_type": "markdown",
   "metadata": {},
   "source": [
    "Signal converted to digital counts  (location 25 in the diagram). This graph shows the log-base10 values in the image. The image is offset by half a digital count to prevent log(0) errors."
   ]
  },
  {
   "cell_type": "code",
   "execution_count": null,
   "metadata": {
    "collapsed": false
   },
   "outputs": [],
   "source": [
    "plotResults(imghd5, hdffilename, 'rystare/signal/DN', bins=120, plotscale=1, logscale=True) "
   ]
  },
  {
   "cell_type": "markdown",
   "metadata": {},
   "source": [
    "Next we will attempt to calculate the photon transfer function and signal to noise ratio for the various parts of the image."
   ]
  },
  {
   "cell_type": "code",
   "execution_count": null,
   "metadata": {
    "collapsed": false
   },
   "outputs": [],
   "source": [
    "tplZones = collections.namedtuple('tplZones', ['ein', 'count','mean','var','std','snr','stf'], verbose=False)\n",
    "lstZones = []\n",
    "if imghd5 is not None:\n",
    "    strh5 = ryfiles.open_HDF(hdffilename)\n",
    "    #get the list of unique zones in the image\n",
    "    arrnn = strh5['rystare/irradianceLux'].value\n",
    "#     arrnn = strh5['rystare/PhotonRateIrradianceNoNoise'].value\n",
    "    arr = strh5['rystare/signal/DN'].value\n",
    "    uniqueZs, uCnts = np.unique(arrnn, return_counts=True)\n",
    "#     print(uniqueZs, uCnts)\n",
    "    for uniqueZ,ucnt in zip(uniqueZs,uCnts):\n",
    "        zone = arr[arrnn==uniqueZ]\n",
    "        mean = np.mean(zone)\n",
    "        lstZones.append(tplZones(ein=uniqueZ, count=ucnt, mean=mean, \n",
    "                        var=np.var(zone-mean), std=np.std(zone-mean), \n",
    "                        snr=np.mean(zone)/np.std(zone-mean),\n",
    "                        stf=np.mean(zone)/uniqueZ))\n",
    "    strh5.flush()\n",
    "    strh5.close()\n",
    "\n",
    "\n",
    "# print(lstZones) \n",
    "#build numpy arrays of the results\n",
    "ein = np.asarray([x.ein for x in lstZones])\n",
    "mean = np.asarray([x.mean for x in lstZones])\n",
    "var = np.asarray([x.var for x in lstZones])\n",
    "std = np.asarray([x.std for x in lstZones])\n",
    "snr = np.asarray([x.snr for x in lstZones])\n",
    "stf = np.asarray([x.stf for x in lstZones])\n",
    "\n",
    "p = ryplot.Plotter(1,4,1,figsize=(6,14));\n",
    "p.plot(1,ein,mean,'Mean [DN] vs Ein [lux]');\n",
    "p.plot(2,mean[2:],stf[2:],'STF [DN/lux]  vs mean [DN]');\n",
    "p.plot(3,mean,std,'RMS noise [DN] vs mean [DN]');\n",
    "p.logLog(4,mean[:-1],snr[:-1],'SNR [-] vs mean [DN]');"
   ]
  },
  {
   "cell_type": "markdown",
   "metadata": {},
   "source": [
    "## Comments"
   ]
  },
  {
   "cell_type": "markdown",
   "metadata": {},
   "source": [
    "1.  The small target image used here is relatively small and does not provide adequate statistics.  It serves as proof-of-concept in this analysis.\n",
    "\n",
    "1. A more detailed discussion of the results will be done in due course.\n",
    "\n"
   ]
  },
  {
   "cell_type": "markdown",
   "metadata": {},
   "source": [
    "## Python and [module versions, and dates](http://nbviewer.ipython.org/github/jrjohansson/scientific-python-lectures/blob/master/Lecture-0-Scientific-Computing-with-Python.ipynb)"
   ]
  },
  {
   "cell_type": "code",
   "execution_count": null,
   "metadata": {
    "collapsed": false
   },
   "outputs": [],
   "source": [
    "%load_ext version_information\n",
    "%version_information numpy, scipy, matplotlib, pyradi"
   ]
  },
  {
   "cell_type": "markdown",
   "metadata": {},
   "source": [
    "http://acrux.astro.ufsc.br/~kanaan/astrobs/ccd/lesser/Astr518-29sep03.pdf\n",
    "\n"
   ]
  }
 ],
 "metadata": {
  "kernelspec": {
   "display_name": "Python 2",
   "language": "python",
   "name": "python2"
  },
  "language_info": {
   "codemirror_mode": {
    "name": "ipython",
    "version": 2
   },
   "file_extension": ".py",
   "mimetype": "text/x-python",
   "name": "python",
   "nbconvert_exporter": "python",
   "pygments_lexer": "ipython2",
   "version": "2.7.11"
  }
 },
 "nbformat": 4,
 "nbformat_minor": 0
}
