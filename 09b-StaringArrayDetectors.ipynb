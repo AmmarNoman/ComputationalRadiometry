{
 "cells": [
  {
   "cell_type": "markdown",
   "metadata": {
    "run_control": {
     "frozen": false,
     "read_only": false
    }
   },
   "source": [
    "# Staring Array Modelling"
   ]
  },
  {
   "cell_type": "markdown",
   "metadata": {
    "run_control": {
     "frozen": false,
     "read_only": false
    }
   },
   "source": [
    "This notebook forms part of a series on [computational optical radiometry](https://github.com/NelisW/ComputationalRadiometry#computational-optical-radiometry-with-pyradi).  The notebooks can be downloaded from [Github](https://github.com/NelisW/ComputationalRadiometry#computational-optical-radiometry-with-pyradi). These notebooks are constantly revised and updated, please revisit from time to time.  \n",
    "\n"
   ]
  },
  {
   "cell_type": "markdown",
   "metadata": {
    "run_control": {
     "frozen": false,
     "read_only": false
    }
   },
   "source": [
    "The date of this document and module versions used in this document are given at the end of the file.  \n",
    "Feedback is appreciated: neliswillers at gmail dot com."
   ]
  },
  {
   "cell_type": "markdown",
   "metadata": {
    "run_control": {
     "frozen": false,
     "read_only": false
    }
   },
   "source": [
    "## Overview"
   ]
  },
  {
   "cell_type": "markdown",
   "metadata": {
    "run_control": {
     "frozen": false,
     "read_only": false
    }
   },
   "source": [
    "The pyradi [`rystare`](http://nelisw.github.io/pyradi-docs/_build/html/rystare.html) module models the signal and noise in CCD and CMOS staring array sensors.  The code is originally based on the Matlab code described in *'High-level numerical simulations of noise in solid-state photosensors: review and tutorial'* by Mikhail Konnik and James Welsh, arXiv:1412.4031v1 [astro-ph.IM], available [here](http://arxiv.org/pdf/1412.4031.pdf).\n",
    "\n",
    "An earlier version (20161020) of a Python version of the model was presented at the Fourth SMEOS conference and was published in SPIE Proc 10036 (2016). The PDF is available here:  \n",
    "https://github.com/NelisW/pyradi/blob/master/pyradi/documentation/SM200-30-staring-array-modeling.pdf\n",
    "\n",
    "Good additional references for this work include James R Janesick's books ['Photon Transfer'](http://spie.org/Publications/Book/725073) and ['Scientific Charge-Coupled Devices'](http://spie.org/Publications/Book/374903)\n",
    "\n",
    "This notebook provides an introduction to the model, whereas notebooks 09c and 09d provide applications of the model to visual and infrared sensors.\n"
   ]
  },
  {
   "cell_type": "code",
   "execution_count": 1,
   "metadata": {
    "collapsed": false,
    "run_control": {
     "frozen": false,
     "read_only": false
    }
   },
   "outputs": [],
   "source": [
    "import numpy as np\n",
    "import scipy as sp\n",
    "import pandas as pd\n",
    "import re\n",
    "import os.path\n",
    "from scipy.optimize import curve_fit\n",
    "import datetime\n",
    "\n",
    "from matplotlib import cm as mcm\n",
    "import matplotlib.mlab as mlab\n",
    "import scipy.constants as const\n",
    "import collections\n",
    "\n",
    "%matplotlib inline\n",
    "\n",
    "# %reload_ext autoreload\n",
    "# %autoreload 2\n",
    "\n",
    "# import xlsxwriter\n",
    "\n",
    "import pyradi.ryplot as ryplot\n",
    "import pyradi.ryfiles as ryfiles\n",
    "import pyradi.rystare as rystare\n",
    "import pyradi.ryutils as ryutils\n",
    "import pyradi.rypflux as rypflux\n",
    "import pyradi.ryplanck as ryplanck\n",
    "\n",
    "from IPython.display import HTML\n",
    "from IPython.display import Image\n",
    "from IPython.display import display\n",
    "from IPython.display import FileLink, FileLinks\n",
    "\n",
    "#make pngs at stated dpi\n",
    "import matplotlib as mpl\n",
    "plotdpi = 72\n",
    "mpl.rc(\"savefig\", dpi=plotdpi)\n",
    "mpl.rc('figure', figsize=(10,8))\n",
    "# %config InlineBackend.figure_format = 'svg'\n",
    "\n",
    "pd.set_option('display.max_columns', 80)\n",
    "pd.set_option('display.width', 200)\n",
    "pd.set_option('display.max_colwidth', 150)"
   ]
  },
  {
   "cell_type": "markdown",
   "metadata": {
    "run_control": {
     "frozen": false,
     "read_only": false
    }
   },
   "source": [
    "# Imager radiometry"
   ]
  },
  {
   "cell_type": "markdown",
   "metadata": {
    "collapsed": false,
    "run_control": {
     "frozen": false,
     "read_only": false
    }
   },
   "source": [
    "## Irradiance in the focal plane and electron count in the detector\n",
    "\n",
    "![images/sensor-diagram.png](images/sensor-diagram.png)"
   ]
  },
  {
   "cell_type": "markdown",
   "metadata": {
    "run_control": {
     "frozen": false,
     "read_only": false
    }
   },
   "source": [
    "Consider a source at range $R_{01}$ illuminated with illumination/irradiance $E_0$ at a single wavelength.  The pixel flux is given by\n",
    "\n",
    "\\begin{equation}\n",
    "\\Phi_s = \\frac{ L_0 A_0 A_1 \\tau_a}{R_{01}^2}\n",
    "\\end{equation}\n",
    "\n",
    "where the radiance $L_0$ is given by \n",
    "\n",
    "\\begin{equation}\n",
    "L_0 = \\frac{E_0 \\rho}{\\pi}\n",
    "\\end{equation}\n",
    "\n",
    "where $E_0$ is the illumination on the object, where the reflectance is assumed to be \n",
    " lambertian,  and where $\\rho$ is the diffuse source reflectance.  Then \n",
    " \n",
    "\\begin{equation}\n",
    "\\Phi_s = \\frac{ E_0 \\rho A_0 A_1\\tau_a}{\\pi R_{01}^2}\n",
    "\\end{equation}\n",
    "\n",
    "The pixel field of view is given by $A_0/R^2_{01} = A_s/f_s^2 = \\Omega_p$. The sensor clear aperture area can be written in terms of f-number as $A_1 = f_s^2 \\pi/(4 F_\\#^2)$. Replacing in the above equation yields\n",
    "\n",
    "\\begin{equation}\n",
    "\\Phi_s \n",
    "= \\frac{ E_0 \\rho}{\\pi} \\frac{f_s^2 \\pi }{4 F_\\#^2} \\Omega_p \\tau_a\n",
    "=  \\frac{  E_0 \\rho A_s \\tau_a}{4 F_\\#^2}  \n",
    "=  \\frac{\\pi  L_0 \\rho A_s \\tau_a}{4 F_\\#^2}  \n",
    "\\end{equation}\n",
    "\n",
    "The irradiance in the focal plane is then \n",
    "\n",
    "\\begin{equation}\n",
    "E_s = \\frac{\\Phi_s }{ A_s} \n",
    "= \\frac{  E_0 \\rho \\tau_a}{4 F_\\#^2}  \n",
    "= \\frac{\\pi  L_0 \\rho \\tau_a}{4 F_\\#^2}  \n",
    "\\end{equation}"
   ]
  },
  {
   "cell_type": "markdown",
   "metadata": {
    "run_control": {
     "frozen": false,
     "read_only": false
    }
   },
   "source": [
    "The flux passing through the detector area is $E_s\\, A_d$.  If the flux is defined in terms of photons per second, the number of photons accumulated in the detector during integration time $t_{\\textrm{int}}$ is  $E_s\\, A_d\\, t_{\\textrm{int}}$.  The electron count accumulated during the integration time is then\n",
    "\n",
    "\\begin{equation}\n",
    "n = \\eta E_s A_d\\, t_{\\textrm{int}}\n",
    "= \\left(\\frac{\\eta\\pi\\, t_{\\textrm{int}}\\,P\\, A_d}{4\\, F_\\#^2} \\right) \\left( \\rho\\, \\tau_a\\, L_0\\right)\n",
    "\\end{equation}\n",
    "where \n",
    "$\\eta$ is the quantum efficiency, and \n",
    "$P$ is the fractional clear aperture (in case some obscuration is present)."
   ]
  },
  {
   "cell_type": "markdown",
   "metadata": {
    "run_control": {
     "frozen": false,
     "read_only": false
    }
   },
   "source": [
    "The solid angle of the optics' f-number cone is $\\Omega_{F_\\#}=\\pi/(4F_\\#^2)$, hence the above equation can be written\n",
    "\n",
    "\\begin{equation}\n",
    "n = \\eta E_s A_d\\, t_{\\textrm{int}}\n",
    "= \\left(\\eta t_{\\textrm{int}}\\,P\\, A_d \\Omega_{F_\\#}\\right) \\left( \\rho\\, \\tau_a\\, L_0\\right)\n",
    "\\end{equation}\n",
    "\n",
    "The last two equations forms the basis for the various electron-count contributions defined below."
   ]
  },
  {
   "cell_type": "markdown",
   "metadata": {
    "run_control": {
     "frozen": false,
     "read_only": false
    }
   },
   "source": [
    "### Constant spectral properties\n",
    "\n",
    "Most sensors have relatively wide spectral response and the monochromatic derivation above must be extended to calculate the sum of fluxes at all wavelengths.\n",
    "The spectral integrals in the equations below have the general form\n",
    "\n",
    "\\begin{equation}\n",
    "(\\cdots)\\,\\int_0^\\infty\n",
    "\\eta_{\\lambda}\\, \\tau_{o\\lambda}\\, \\tau_{f\\lambda}\\,\\tau_{a\\lambda}\\, \\rho_{\\textrm{d}\\lambda} \\,\n",
    " L_{q\\lambda} \\,d \\lambda \n",
    "\\end{equation}\n",
    "\n",
    "If a spectral variable, e.g., any or all of $(\\eta_{\\lambda} \\, \\tau_{f\\lambda}\\, \\tau_{o\\lambda}\\,\\tau_{a\\lambda}\\, \\rho_{\\textrm{d}\\lambda})$, can be assumed constant over spectral band, they can be taken out of th integral.  If all are constant only $L_{q\\lambda}$ remains in the spectral band integral\n",
    " \n",
    "\\begin{equation}\n",
    "\\eta \\tau_{o} \\tau_{a}  \\rho_\\textrm{d} \n",
    "\\int_0^\\infty L_{q\\lambda} \\;d\\lambda\n",
    "\\end{equation}\n",
    "\n"
   ]
  },
  {
   "cell_type": "markdown",
   "metadata": {
    "run_control": {
     "frozen": false,
     "read_only": false
    }
   },
   "source": [
    "### Photon radiance\n",
    "\n",
    "By setting $ t_{\\textrm{int}}=P=A_d=\\cos\\theta=\\eta=\\tau_{o}=\\tau_{f}=\\tau_{a}=\\rho_\\textrm{d}=\\Omega_{F_\\#}=1$ and $F_\\#=\\sqrt{\\pi/4}$, the equation simplifies to the wideband photon rate radiance at the target \n",
    "\n",
    "\\begin{equation}\n",
    "L_{\\textrm{q}}\n",
    "=\n",
    "\\int_0^\\infty L_{q\\lambda} \\;d\\lambda\n",
    "\\end{equation}"
   ]
  },
  {
   "cell_type": "markdown",
   "metadata": {
    "run_control": {
     "frozen": false,
     "read_only": false
    }
   },
   "source": [
    "## Photon rate model\n",
    "\n",
    "This section considers the electron count for a variety of sources.  These equations form the basis for the library implementation that is used in the rest of the document."
   ]
  },
  {
   "cell_type": "markdown",
   "metadata": {
    "run_control": {
     "frozen": false,
     "read_only": false
    }
   },
   "source": [
    "### Self emitted flux\n",
    "\n",
    "The thermal scene-radiance photon count is given by\n",
    "\n",
    "\\begin{equation}\n",
    "n_{\\textrm{sceneT}}\n",
    "=\n",
    "\\left(\\frac{\\pi\\,t_{\\textrm{int}}\\, P\\,  A_d }{4\\,F_\\#^2}\\right)\n",
    "\\int_0^\\infty \n",
    "(\\eta_{\\lambda}\\, \\tau_{o\\lambda}\\, \\tau_{f\\lambda}\\,\\tau_{a\\lambda})\\,\n",
    "(\\epsilon_{\\lambda}\\, L_\\lambda(T_\\textrm{source}))\\,\n",
    "d\\lambda\n",
    "\\end{equation}\n",
    "\n",
    "where\n",
    "$t_{\\textrm{int}}$ is the integration time,\n",
    "$P$ is the fraction of clear aperture, \n",
    "$A_d$ is the detector area, \n",
    "$F_\\#$ is the f-number, \n",
    "$\\eta_{\\lambda}$ is the detector quantum efficiency,\n",
    "$\\tau_{o\\lambda}$ is the optics transmittance, \n",
    "$\\tau_{f\\lambda}$ is the sensor filter transmittance, \n",
    "$\\tau_{a\\lambda}$ is the atmospheric transmittance, \n",
    "$\\epsilon_{\\lambda}$ is the source/background emissivity,and\n",
    "$L_\\lambda(T_\\textrm{source})$ the Planck photon rate radiance at source/background temperature $T_\\textrm{source}$.\n",
    "\n",
    "\n"
   ]
  },
  {
   "cell_type": "markdown",
   "metadata": {
    "run_control": {
     "frozen": false,
     "read_only": false
    }
   },
   "source": [
    "### Reflected flux"
   ]
  },
  {
   "cell_type": "markdown",
   "metadata": {
    "run_control": {
     "frozen": false,
     "read_only": false
    }
   },
   "source": [
    "The electron count in the detector can be calculated from the scene or source radiance using\n",
    " \n",
    "\\begin{equation}\n",
    "n_{\\textrm{sceneR}}\n",
    "=\n",
    "\\left(\\frac{\\pi\\, t_{\\textrm{int}}\\, P\\,  A_d}{4\\,F_\\#^2}\\right)\n",
    "\\cdot \\cos\\theta \\cdot\n",
    "\\int_0^\\infty\n",
    "(\\eta_{\\lambda}\\, \\tau_{o\\lambda}\\, \\tau_{a\\lambda})\\, \\tau_{f\\lambda}\\,( \\psi\\rho_{\\textrm{d}\\lambda} \\,\n",
    " L_{q\\lambda}(T_\\textrm{illum}) )\\,\n",
    "d \\lambda \n",
    "\\end{equation}\n",
    "\n",
    "where\n",
    "$n_{\\textrm{scene}}$  is the number of electrons,\n",
    "$t_{\\textrm{int}}$ is the sensor integration time, \n",
    "$P$ is the fraction of unobscured optical aperture, \n",
    "$A_d$ is the area of the detector, \n",
    "$\\theta$ is the angle between the surface normal vector and the primary source (if not the sun or the moon, $\\theta=0$),\n",
    "$F_\\#$ is the f-number (assuming infinite conjugates), \n",
    "$\\eta_{\\lambda}$ is the detector spectral quantum efficiency, \n",
    "$\\tau_{o\\lambda}$ is the spectral optics and filter transmittance, \n",
    "$\\tau_{\\lambda}$ is the spectral atmospheric transmittance,\n",
    "$\\psi$ is the ratio of radiance on the illuminating source surface to radiance on the target source surface,\n",
    "$\\rho_{\\textrm{d}\\lambda}$ is the surface's diffuse spectral  reflection, \n",
    "$L_{q\\lambda}$ is the spectral photon rate radiance at the surface, and\n",
    "$T_\\textrm{illum}$ is the temperature of the illuminating source.\n",
    "\n",
    "If the surface is illuminated by the sun, the spectral radiance at the surface becomes\n",
    "$L_{q\\lambda} = \\psi \\epsilon_\\textrm{sun}\\tau_\\textrm{sun}L_{q\\textrm{b}}(6000 K)$,\n",
    "where \n",
    "$\\psi=2.17\\times 10^{-5}$ relates the sun's area and distance to radiance on the ground,\n",
    "$\\epsilon_\\textrm{sun}=1$ is the sun emissivity, \n",
    "$\\tau_\\textrm{sun}$  is the atmospheric transmittance from the target to the sun, and\n",
    "$L_{q\\textrm{b}}(6000 K)$ is the Planck-law thermal radiance for a 6000 K source (approximation of the sun's surface temperature)."
   ]
  },
  {
   "cell_type": "markdown",
   "metadata": {
    "run_control": {
     "frozen": false,
     "read_only": false
    }
   },
   "source": [
    "### Low light radiance\n",
    "\n",
    "The approximate low light level scene radiance levels were calculated above and stored in the `dfPhotRates` DataFrame.  These values are already integrated over the spectral bandwidth, so the scene-induced electron count in the detector becomes\n",
    " \n",
    "\\begin{equation}\n",
    "n_{\\textrm{sceneR}}\n",
    "=\n",
    "\\left(\\frac{\\pi\\, t_{\\textrm{int}}\\, P\\,  A_d}{4\\,F_\\#^2}\\right)\n",
    "\\cdot \\cos\\theta\\cdot\n",
    "( \\eta\\, \\tau_{o}\\, \\tau_{f\\lambda}\\, \\tau_{a})\\, (\\rho_\\textrm{d} \\,\n",
    " L_{qLL})\\,\n",
    "\\end{equation}\n",
    "\n",
    "where\n",
    "$n_{\\textrm{scene}}$  is the number of electrons,\n",
    "$t_{\\textrm{int}}$ is the sensor integration time, \n",
    "$P$ is the fraction of unobscured optical aperture, \n",
    "$A_d$ is the area of the detector, \n",
    "$\\theta$ is the angle between the surface normal vector and the primary source (if not the sun or the moon, $\\theta=0$),\n",
    "$F_\\#$ is the f-number, \n",
    "$\\eta$ is the detector quantum efficiency, \n",
    "$\\tau_{o}$ is the optics transmittance, \n",
    "$\\tau_{a}$ is the atmospheric transmittance,\n",
    "$\\rho_\\textrm{d}$ is the surface reflection, and \n",
    "$L_{qLL}$ is the photon rate radiance of the surface, as calculated above in `dfPhotRates`.\n"
   ]
  },
  {
   "cell_type": "markdown",
   "metadata": {
    "run_control": {
     "frozen": false,
     "read_only": false
    }
   },
   "source": [
    "### Hot optics radiance\n",
    "\n",
    "For infrared sensors the thermal hot-optics photon count is given by \n",
    "\n",
    "\\begin{equation}\n",
    "n_{\\textrm{optics}}\n",
    "=\n",
    "\\left(\\frac{\\pi t_{\\textrm{int}} P  A_d }{4F_\\#^2}\\right)\\cdot\n",
    "\\int_0^\\infty \\eta_{\\lambda}  \n",
    "\\, \\tau_{f\\lambda}(1-\\tau_{o\\lambda}) L_\\lambda(T_\\textrm{optics})\n",
    "d\\lambda\n",
    "\\end{equation}\n",
    "\n",
    "where\n",
    "the optics emissivity is given by\n",
    "$\\epsilon_{\\textrm{optics}\\lambda}=(1-\\tau_{o\\lambda})$.\n",
    "                                          \n",
    "\n",
    "Assuming no stray light in the visual system, the visual optics photon count is given by \n",
    "\n",
    "\\begin{equation}\n",
    "n_{\\textrm{optics}}=0\n",
    "\\end{equation}\n",
    "                                          "
   ]
  },
  {
   "cell_type": "markdown",
   "metadata": {
    "run_control": {
     "frozen": false,
     "read_only": false
    }
   },
   "source": [
    "### Path radiance\n",
    "\n",
    "The path radiance  photon count is given by\n",
    "\n",
    "\\begin{equation}\n",
    "n_{\\textrm{path}}\n",
    "=\n",
    "\\left(\\frac{\\pi t_{\\textrm{int}} P  A_d }{4F_\\#^2}\\right)\\cdot\n",
    "\\int_0^\\infty \\eta_{\\lambda}  \n",
    "\\tau_{o\\lambda}\\, \\tau_{f\\lambda} L_{\\lambda\\textrm{path}}\n",
    "d\\lambda\n",
    "\\end{equation}\n",
    "\n",
    "where $L_{\\lambda\\textrm{path}}$ is the path radiance.\n",
    " \n",
    "Path radiance at one range can be scaled to path radiance at another range.  It can be shown that path radiance can be approximated by\n",
    "\n",
    "\\begin{equation}\n",
    "L_{\\lambda\\textrm{path}} = L_{\\lambda\\textrm{path}\\infty}\\left(1-\\tau_{\\textrm{path}}\\right)\n",
    "\\end{equation}\n",
    "\n",
    "where\n",
    "$L_{\\lambda\\textrm{path}\\infty}$ is the path radiance for an infinitely long path where $\\tau_{\\textrm{path}}=0$.\n",
    "\n",
    "If path radiance for a given path $R_1$ is known, the path radiance for a new path $R_2$can be determined by\n",
    "\n",
    "\\begin{equation}\n",
    "L_{\\lambda\\textrm{path}}(R_2) = L_{\\lambda\\textrm{path}}(R_1)\\left[\\frac{\\left(1-\\tau_{\\textrm{path}}(R_2)\\right)}{\\left(1-\\tau_{\\textrm{path}}(R_1)\\right)}\\right]\n",
    "\\end{equation}\n",
    " "
   ]
  },
  {
   "cell_type": "markdown",
   "metadata": {
    "run_control": {
     "frozen": false,
     "read_only": false
    }
   },
   "source": [
    "### Complete model\n",
    "\n",
    "The total electron count in the detector is given by the sum of all the terms defined above.  The various contributions are structured in this diagram\n",
    "\n",
    "![images/rypflux02.png](images/rydecount02.png)\n",
    "\n",
    "where the underlined $\\underline{T}$, $\\underline{A}$, and $\\underline{S}$ signifies the origin of the contribution (Target, Atmosphere, and Sensor)."
   ]
  },
  {
   "cell_type": "markdown",
   "metadata": {
    "run_control": {
     "frozen": false,
     "read_only": false
    }
   },
   "source": [
    "All the above models are implemented in [pyradi.rystare.py](https://github.com/NelisW/pyradi/blob/master/pyradi/rystare.py)."
   ]
  },
  {
   "cell_type": "markdown",
   "metadata": {
    "run_control": {
     "frozen": false,
     "read_only": false
    }
   },
   "source": [
    "## Focal plane irradiance at low light levels\n",
    "\n",
    "The photon rate radiance at low light levels is analysed in some detail in the [Optical Sources notebook](https://github.com/NelisW/ComputationalRadiometry/blob/master/07-Optical-Sources.ipynb).\n"
   ]
  },
  {
   "cell_type": "markdown",
   "metadata": {
    "run_control": {
     "frozen": false,
     "read_only": false
    }
   },
   "source": [
    "### Target characteristics \n",
    "\n",
    "In order to benchmark the signal levels in the rest of the document, we calculate the irradiance/illumination on the detector for a target reflectance of 0.3,  an atmospheric transmittance of 0.5, optics transmittance of 0.9, and a few sensor f-numbers."
   ]
  },
  {
   "cell_type": "code",
   "execution_count": 2,
   "metadata": {
    "collapsed": false,
    "run_control": {
     "frozen": false,
     "read_only": false
    }
   },
   "outputs": [
    {
     "name": "stdout",
     "output_type": "stream",
     "text": [
      "                Irradiance-lm/m2  ColourTemp          1.4             2          2.74           3.8\n",
      "Overcast night            0.0001      5000.0     0.000002  8.437500e-07  4.495445e-07  2.337258e-07\n",
      "Star light                0.0011      5000.0     0.000019  9.281250e-06  4.944989e-06  2.570983e-06\n",
      "Quarter moon              0.0108      4150.0     0.000186  9.112500e-05  4.855080e-05  2.524238e-05\n",
      "Full moon                 0.1080      4150.0     0.001860  9.112500e-04  4.855080e-04  2.524238e-04\n",
      "Deep twilight             1.0800     10000.0     0.018597  9.112500e-03  4.855080e-03  2.524238e-03\n",
      "Twilight                 10.8000     10000.0     0.185969  9.112500e-02  4.855080e-02  2.524238e-02\n",
      "Very dark day           107.0000      7000.0     1.842474  9.028125e-01  4.810126e-01  2.500866e-01\n",
      "Overcast day           1075.0000      6000.0    18.510842  9.070312e+00  4.832603e+00  2.512552e+00\n",
      "Full sky light        10752.0000     12000.0   185.142857  9.072000e+01  4.833502e+01  2.513019e+01\n",
      "Sun light            107527.0000      5700.0  1851.549107  9.072591e+02  4.833817e+02  2.513183e+02\n"
     ]
    }
   ],
   "source": [
    "\n",
    "pf = rypflux.PFlux()\n",
    "lx = pf.lllux\n",
    "\n",
    "def calcIrrad(lx, rho, taua, tauo, fno):\n",
    "    return lx * rho * taua * tauo / (4 * fno ** 2)\n",
    "\n",
    "df = pd.DataFrame(lx).transpose()\n",
    "df.columns = pf.llluxCols\n",
    "\n",
    "rho = 0.3\n",
    "taua = 0.5\n",
    "tauo = 0.9\n",
    "fnos = [1.4, 2, 2.74, 3.8]\n",
    "for fno in fnos:\n",
    "# #     http://stackoverflow.com/questions/21188504/python-pandas-apply-a-function-with-arguments-to-a-series-update\n",
    "    df['{}'.format(fno)] = df['Irradiance-lm/m2'].apply(calcIrrad, args=(rho, taua, tauo, fno) )\n",
    "    \n",
    "df.sort_values(by='Irradiance-lm/m2',inplace=True)\n",
    "print(df.drop(['FracPhotop'],axis=1))"
   ]
  },
  {
   "cell_type": "code",
   "execution_count": 3,
   "metadata": {
    "collapsed": false,
    "run_control": {
     "frozen": false,
     "read_only": false
    }
   },
   "outputs": [
    {
     "data": {
      "text/html": [
       "<div>\n",
       "<table border=\"1\" class=\"dataframe\">\n",
       "  <thead>\n",
       "    <tr style=\"text-align: right;\">\n",
       "      <th></th>\n",
       "      <th>Irradiance-lm/m2</th>\n",
       "      <th>ColourTemp</th>\n",
       "      <th>FracPhotop</th>\n",
       "      <th>1.4</th>\n",
       "      <th>2</th>\n",
       "      <th>2.74</th>\n",
       "      <th>3.8</th>\n",
       "      <th>5.4</th>\n",
       "      <th>7.5</th>\n",
       "      <th>10</th>\n",
       "      <th>14.8</th>\n",
       "      <th>20</th>\n",
       "    </tr>\n",
       "  </thead>\n",
       "  <tbody>\n",
       "    <tr>\n",
       "      <th>Overcast night</th>\n",
       "      <td>0.0001</td>\n",
       "      <td>5000.0</td>\n",
       "      <td>0.0</td>\n",
       "      <td>0.000002</td>\n",
       "      <td>8.437500e-07</td>\n",
       "      <td>4.495445e-07</td>\n",
       "      <td>2.337258e-07</td>\n",
       "      <td>1.157407e-07</td>\n",
       "      <td>6.000000e-08</td>\n",
       "      <td>3.375000e-08</td>\n",
       "      <td>1.540814e-08</td>\n",
       "      <td>8.437500e-09</td>\n",
       "    </tr>\n",
       "    <tr>\n",
       "      <th>Star light</th>\n",
       "      <td>0.0011</td>\n",
       "      <td>5000.0</td>\n",
       "      <td>0.2</td>\n",
       "      <td>0.000019</td>\n",
       "      <td>9.281250e-06</td>\n",
       "      <td>4.944989e-06</td>\n",
       "      <td>2.570983e-06</td>\n",
       "      <td>1.273148e-06</td>\n",
       "      <td>6.600000e-07</td>\n",
       "      <td>3.712500e-07</td>\n",
       "      <td>1.694896e-07</td>\n",
       "      <td>9.281250e-08</td>\n",
       "    </tr>\n",
       "    <tr>\n",
       "      <th>Quarter moon</th>\n",
       "      <td>0.0108</td>\n",
       "      <td>4150.0</td>\n",
       "      <td>0.4</td>\n",
       "      <td>0.000186</td>\n",
       "      <td>9.112500e-05</td>\n",
       "      <td>4.855080e-05</td>\n",
       "      <td>2.524238e-05</td>\n",
       "      <td>1.250000e-05</td>\n",
       "      <td>6.480000e-06</td>\n",
       "      <td>3.645000e-06</td>\n",
       "      <td>1.664080e-06</td>\n",
       "      <td>9.112500e-07</td>\n",
       "    </tr>\n",
       "    <tr>\n",
       "      <th>Full moon</th>\n",
       "      <td>0.1080</td>\n",
       "      <td>4150.0</td>\n",
       "      <td>0.6</td>\n",
       "      <td>0.001860</td>\n",
       "      <td>9.112500e-04</td>\n",
       "      <td>4.855080e-04</td>\n",
       "      <td>2.524238e-04</td>\n",
       "      <td>1.250000e-04</td>\n",
       "      <td>6.480000e-05</td>\n",
       "      <td>3.645000e-05</td>\n",
       "      <td>1.664080e-05</td>\n",
       "      <td>9.112500e-06</td>\n",
       "    </tr>\n",
       "    <tr>\n",
       "      <th>Deep twilight</th>\n",
       "      <td>1.0800</td>\n",
       "      <td>10000.0</td>\n",
       "      <td>0.8</td>\n",
       "      <td>0.018597</td>\n",
       "      <td>9.112500e-03</td>\n",
       "      <td>4.855080e-03</td>\n",
       "      <td>2.524238e-03</td>\n",
       "      <td>1.250000e-03</td>\n",
       "      <td>6.480000e-04</td>\n",
       "      <td>3.645000e-04</td>\n",
       "      <td>1.664080e-04</td>\n",
       "      <td>9.112500e-05</td>\n",
       "    </tr>\n",
       "    <tr>\n",
       "      <th>Twilight</th>\n",
       "      <td>10.8000</td>\n",
       "      <td>10000.0</td>\n",
       "      <td>1.0</td>\n",
       "      <td>0.185969</td>\n",
       "      <td>9.112500e-02</td>\n",
       "      <td>4.855080e-02</td>\n",
       "      <td>2.524238e-02</td>\n",
       "      <td>1.250000e-02</td>\n",
       "      <td>6.480000e-03</td>\n",
       "      <td>3.645000e-03</td>\n",
       "      <td>1.664080e-03</td>\n",
       "      <td>9.112500e-04</td>\n",
       "    </tr>\n",
       "    <tr>\n",
       "      <th>Very dark day</th>\n",
       "      <td>107.0000</td>\n",
       "      <td>7000.0</td>\n",
       "      <td>1.0</td>\n",
       "      <td>1.842474</td>\n",
       "      <td>9.028125e-01</td>\n",
       "      <td>4.810126e-01</td>\n",
       "      <td>2.500866e-01</td>\n",
       "      <td>1.238426e-01</td>\n",
       "      <td>6.420000e-02</td>\n",
       "      <td>3.611250e-02</td>\n",
       "      <td>1.648671e-02</td>\n",
       "      <td>9.028125e-03</td>\n",
       "    </tr>\n",
       "    <tr>\n",
       "      <th>Overcast day</th>\n",
       "      <td>1075.0000</td>\n",
       "      <td>6000.0</td>\n",
       "      <td>1.0</td>\n",
       "      <td>18.510842</td>\n",
       "      <td>9.070312e+00</td>\n",
       "      <td>4.832603e+00</td>\n",
       "      <td>2.512552e+00</td>\n",
       "      <td>1.244213e+00</td>\n",
       "      <td>6.450000e-01</td>\n",
       "      <td>3.628125e-01</td>\n",
       "      <td>1.656376e-01</td>\n",
       "      <td>9.070312e-02</td>\n",
       "    </tr>\n",
       "    <tr>\n",
       "      <th>Full sky light</th>\n",
       "      <td>10752.0000</td>\n",
       "      <td>12000.0</td>\n",
       "      <td>1.0</td>\n",
       "      <td>185.142857</td>\n",
       "      <td>9.072000e+01</td>\n",
       "      <td>4.833502e+01</td>\n",
       "      <td>2.513019e+01</td>\n",
       "      <td>1.244444e+01</td>\n",
       "      <td>6.451200e+00</td>\n",
       "      <td>3.628800e+00</td>\n",
       "      <td>1.656684e+00</td>\n",
       "      <td>9.072000e-01</td>\n",
       "    </tr>\n",
       "    <tr>\n",
       "      <th>Sun light</th>\n",
       "      <td>107527.0000</td>\n",
       "      <td>5700.0</td>\n",
       "      <td>1.0</td>\n",
       "      <td>1851.549107</td>\n",
       "      <td>9.072591e+02</td>\n",
       "      <td>4.833817e+02</td>\n",
       "      <td>2.513183e+02</td>\n",
       "      <td>1.244525e+02</td>\n",
       "      <td>6.451620e+01</td>\n",
       "      <td>3.629036e+01</td>\n",
       "      <td>1.656792e+01</td>\n",
       "      <td>9.072591e+00</td>\n",
       "    </tr>\n",
       "  </tbody>\n",
       "</table>\n",
       "</div>"
      ],
      "text/plain": [
       "                Irradiance-lm/m2  ColourTemp  FracPhotop          1.4             2          2.74           3.8           5.4           7.5            10          14.8            20\n",
       "Overcast night            0.0001      5000.0         0.0     0.000002  8.437500e-07  4.495445e-07  2.337258e-07  1.157407e-07  6.000000e-08  3.375000e-08  1.540814e-08  8.437500e-09\n",
       "Star light                0.0011      5000.0         0.2     0.000019  9.281250e-06  4.944989e-06  2.570983e-06  1.273148e-06  6.600000e-07  3.712500e-07  1.694896e-07  9.281250e-08\n",
       "Quarter moon              0.0108      4150.0         0.4     0.000186  9.112500e-05  4.855080e-05  2.524238e-05  1.250000e-05  6.480000e-06  3.645000e-06  1.664080e-06  9.112500e-07\n",
       "Full moon                 0.1080      4150.0         0.6     0.001860  9.112500e-04  4.855080e-04  2.524238e-04  1.250000e-04  6.480000e-05  3.645000e-05  1.664080e-05  9.112500e-06\n",
       "Deep twilight             1.0800     10000.0         0.8     0.018597  9.112500e-03  4.855080e-03  2.524238e-03  1.250000e-03  6.480000e-04  3.645000e-04  1.664080e-04  9.112500e-05\n",
       "Twilight                 10.8000     10000.0         1.0     0.185969  9.112500e-02  4.855080e-02  2.524238e-02  1.250000e-02  6.480000e-03  3.645000e-03  1.664080e-03  9.112500e-04\n",
       "Very dark day           107.0000      7000.0         1.0     1.842474  9.028125e-01  4.810126e-01  2.500866e-01  1.238426e-01  6.420000e-02  3.611250e-02  1.648671e-02  9.028125e-03\n",
       "Overcast day           1075.0000      6000.0         1.0    18.510842  9.070312e+00  4.832603e+00  2.512552e+00  1.244213e+00  6.450000e-01  3.628125e-01  1.656376e-01  9.070312e-02\n",
       "Full sky light        10752.0000     12000.0         1.0   185.142857  9.072000e+01  4.833502e+01  2.513019e+01  1.244444e+01  6.451200e+00  3.628800e+00  1.656684e+00  9.072000e-01\n",
       "Sun light            107527.0000      5700.0         1.0  1851.549107  9.072591e+02  4.833817e+02  2.513183e+02  1.244525e+02  6.451620e+01  3.629036e+01  1.656792e+01  9.072591e+00"
      ]
     },
     "execution_count": 3,
     "metadata": {},
     "output_type": "execute_result"
    }
   ],
   "source": [
    "lx = pf.lllux\n",
    "\n",
    "def calcIrrad(lx, rho, taua, tauo, fno):\n",
    "    return lx * rho * taua * tauo / (4 * fno ** 2)\n",
    "\n",
    "df = pd.DataFrame(lx).transpose()\n",
    "df.columns = pf.llluxCols\n",
    "\n",
    "rho = 0.3\n",
    "taua = 0.5\n",
    "tauo = 0.9\n",
    "fnos = [1.4, 2, 2.74, 3.8, 5.4, 7.5, 10, 14.8, 20]\n",
    "for fno in fnos:\n",
    "#     http://stackoverflow.com/questions/21188504/python-pandas-apply-a-function-with-arguments-to-a-series-update\n",
    "    df['{}'.format(fno)] = df['Irradiance-lm/m2'].apply(calcIrrad, args=(rho, taua, tauo, fno) )\n",
    "    \n",
    "df.sort_values(by='Irradiance-lm/m2')"
   ]
  },
  {
   "cell_type": "markdown",
   "metadata": {
    "run_control": {
     "frozen": false,
     "read_only": false
    }
   },
   "source": [
    "# Sensor model"
   ]
  },
  {
   "cell_type": "markdown",
   "metadata": {
    "run_control": {
     "frozen": false,
     "read_only": false
    }
   },
   "source": [
    "## Overview"
   ]
  },
  {
   "cell_type": "markdown",
   "metadata": {
    "run_control": {
     "frozen": false,
     "read_only": false
    }
   },
   "source": [
    "### Noise model"
   ]
  },
  {
   "cell_type": "markdown",
   "metadata": {
    "run_control": {
     "frozen": false,
     "read_only": false
    }
   },
   "source": [
    "A comprehensive CCD and CMOS staring array sensor model is provided in the pyradi [`rystare`](http://nelisw.github.io/pyradi-docs/_build/html/rystare.html) module. The [`rystare`](http://nelisw.github.io/pyradi-docs/_build/html/rystare.html) model is originally based on the Matlab code described in *'High-level numerical simulations of noise in solid-state photosensors: review and tutorial'* by Mikhail Konnik and James Welsh, arXiv:1412.4031v1 [astro-ph.IM], available [here](http://arxiv.org/pdf/1412.4031.pdf). Good references for this work include James R Janesick's books ['Photon Transfer'](http://spie.org/Publications/Book/725073) and ['Scientific Charge-Coupled Devices'](http://spie.org/Publications/Book/374903).  Konnik's model is also implemented in Python as described in  notebook 09b of this series, available here: \\url{http://nbviewer.jupyter.org/github/NelisW/ComputationalRadiometry/blob/master/09b-StaringArrayDetectors.ipynb}\n",
    "\n",
    "As is evident in the rystare model block diagram, the model covers only the sensor signal path, including noise, signal integration and signal conditioning (photon signal generation is not part of this model).\n",
    "The components of the rystare model are shown below:\n",
    "\n",
    "!['images/camerascheme-horiz.png'](images/camerascheme-horiz.png)\n",
    "\n",
    "The rystare model is used as a reference for this model, there is not a one-to-one mapping between elements of the two models.\n"
   ]
  },
  {
   "cell_type": "markdown",
   "metadata": {
    "run_control": {
     "frozen": false,
     "read_only": false
    }
   },
   "source": [
    "The model includes photon noise and fixed pattern non-uniformity noise.  However for low light level work a more comprehensive noise model, such as Konnik's model, is required.\n",
    "The components of the noise model include \n",
    "\n",
    "1. Photon signal noise.\n",
    "2. Detector response non-uniformity.\n",
    "3. Dark current shot noise.\n",
    "4. Fixed pattern dark current noise.\n",
    "5. Read noise also known as kTC reset noise.\n",
    "6. Source follower noise.\n",
    "7. Quantisation noise.\n",
    "\n",
    "If the magnitudes of these noise components are not available, we can just assume zero values to ignore these.\n",
    "\n",
    "The various noise sources are assumed non-correlated and add in quadrature (with apropriate gain scaling).\n"
   ]
  },
  {
   "cell_type": "markdown",
   "metadata": {
    "run_control": {
     "frozen": false,
     "read_only": false
    }
   },
   "source": [
    "### Photon noise \n",
    "\n",
    "Photon noise for a flux signal is given by the square root of the signal photon count.  The signal photon count comprises photons from the scene (target and background temperatures assumed to the more or less the same), photons from inside the sensor such as hot optics (other sources ignored for now), and atmosperic path radiance.   On the assumption that the atmospheric path temperature is close to the scene temperature the path radiance plus attenuated scene radiance would be more or less equal to the unattenuated scene radiance, i.e., $L_\\textrm{path} + \\tau_\\textrm{path} L_\\textrm{scene}\\approx L_\\textrm{scene}$.\n",
    "\n",
    "Photon noise is casused by the photon signal itself.  The photon signal in the detector comprises the following components:\n",
    "\n",
    "1. Reflected incident light such as sunlight, sky light or night light.\n",
    "1. Thermal self-emission.\n",
    "1. Path radiance\n",
    "1. Stray light and internal sensor flux sources.\n",
    "\n",
    "The total photon flux is\n",
    "\\begin{equation}\n",
    "n_{\\textrm{photons}} = n_{\\textrm{scene}} +n_{\\textrm{path}} + n_{\\textrm{optics}}\n",
    "\\end{equation}\n",
    "\n",
    "The photon noise is then \n",
    "\n",
    "\\begin{equation}\n",
    "n_{\\textrm{photnoise}} =\\sqrt{n_{\\textrm{photons}}} =  \\sqrt{n_{\\textrm{scene}} +n_{\\textrm{path}}+ n_{\\textrm{optics}}}\n",
    "\\end{equation}"
   ]
  },
  {
   "cell_type": "markdown",
   "metadata": {
    "run_control": {
     "frozen": false,
     "read_only": false
    }
   },
   "source": [
    "### Non-uniformity noise \n",
    "\n",
    "References for this material:\n",
    "\n",
    "1. JM Mooney, *et.al.*, *Responsivity nonuniformity limited performance of infrared staring cameras*, Optical Engineering, Vol 28, SPIE, 1989.\n",
    "\n",
    "2. D Perry, *et.al.*, *Linear theory of nonuniformity correction in infrared staring sensors*, Optical Engineering, Vol 32, SPIE, 1993.\n",
    "\n",
    "3. GC Holst, *Electro-Optical Imaging System Performance*, JCD publishing, 1995.\n",
    "\n",
    "4. JR Janesick, *Photon Transfer*, SPIE, 2007.\n",
    "\n",
    "5. WT Black, *In Situ Calibration of Nonuniformity in Infrared Staring and Modulated Systems*, University of Arizona, 2014, \n",
    "http://arizona.openrepository.com/arizona/handle/10150/316895."
   ]
  },
  {
   "cell_type": "markdown",
   "metadata": {
    "run_control": {
     "frozen": false,
     "read_only": false
    }
   },
   "source": [
    "Expanding on the signal equation developed above, the general form for the pixel well fill signal can be extended to add dark noise, the $\\cos^n$ effect, and the narcissism effect\n",
    "\\begin{equation}\n",
    "n_{\\textrm{pixel}}\n",
    "=\n",
    "\\left(\\frac{\\pi\\,t_{\\textrm{int}}\\, P\\, \\cos^n(\\theta) \\,A_d }{4\\,F_\\#^2}\n",
    "\\right)\n",
    "\\int_0^\\infty \n",
    "(\\eta_{\\lambda}\\, \\tau_{o\\lambda}\\, \\tau_{f\\lambda}\\,\\tau_{a\\lambda})\\,\n",
    "\\left[\n",
    "L_{\\lambda\\textrm{signal}}+L_{\\lambda\\textrm{narc}}(\\theta)\\right]\\,\n",
    "d\\lambda \n",
    "+n_\\textrm{dark}\n",
    "\\end{equation}\n",
    "where \n",
    "$L_{\\lambda\\textrm{signal}}$ is understood to include all terms of the scene flux, including reflected flux, self-emitted flux, and optics flux (excluding narcissism), and path radiance, \n",
    "$L_{\\lambda\\textrm{narc}}(\\theta)$ is the optics' narcissism radiance (assumed a function of field angle only, but this is not always the case), \n",
    "$\\cos^n\\theta$ is the variation of flux as function of field angle $\\theta$,\n",
    "and\n",
    "$n_\\textrm{dark}$ is the dark current electrons accumulated during the integration time.\n",
    "\n",
    "The field angle variation is commonly known as the `cos-to-the-fourth' rule. Note, that $n$ is not always 4, it depends on the target orientation and size. For a flat focal plane $n$ is at least 2, but possibly larger.\n",
    "\n",
    "The optics radiance is generally modelled by a source at the sensor internal temperature and emissivity of $(1-\\tau_\\textrm{optics})$.  If there is no narcissism the model is nominally valid on the assumption that the reflected component reflects the internal hardware of the sensor.  If there is narcissism, some of this reflection will be from the cold detector and the assumption of a uniform internal sensor temperature is violated."
   ]
  },
  {
   "cell_type": "markdown",
   "metadata": {
    "run_control": {
     "frozen": false,
     "read_only": false
    }
   },
   "source": [
    "Signal spatial nonuniformity variations can be introduced by variations between detector elements in mainly the following (1) nonspectral variations such as the $A_d$ area and $\\cos^n\\theta$, (2) $\\eta_\\lambda$ quantum efficiency, (3) the narcissus effect, and (4) dark current $n_\\textrm{dark}$. It is evident that is quite challenge to develop a nonuniformity correction method that can correct for the combined multidimensional variation space.\n",
    "\n",
    "The $\\cos^n\\theta$ and narcissus are `large-scale' spatially correlated effects and are not considered here on the premise that it can be removed by signal processing means. The remaining uncorrelated pixel-level spatial nonuniformity effects are then:\n",
    "\n",
    "1. Nonspectral: mainly attributable to variations in area of the active detector and area of the charge well capacitor, and to a lesser extent differences in integration time.\n",
    "\n",
    "2. Spectral: variations in the detector material quantum efficiency across the surface of the device.  The quantum efficiency variations are smaller in stable alloys such as InSb, but could to be larger in variable mix ternary alloys such as HgCdTe.\n",
    "\n",
    "3. Dark noise: variations in detector current in the absence of any incident flux.  In the shorter wavelength bands this simply means covering the detector, but in the thermal bands it means presenting a (near) zero kelvin background (viewing a 77 K liquid nitrogen surface is generally sufficient for cameras observing scenes at 300 K).\n",
    "\n"
   ]
  },
  {
   "cell_type": "markdown",
   "metadata": {
    "run_control": {
     "frozen": false,
     "read_only": false
    }
   },
   "source": [
    "A detailed description of the contributors to nonuniformity is given by Black, summarised here as follows:\n",
    "\n",
    "1. Detector area variation resulting from imperfect manufacturing.\n",
    "\n",
    "2. Material substrate doping variation.\n",
    "\n",
    "3. Leaky detector pixel elements with excessive dark current.\n",
    "\n",
    "4. 1/f noise from various sources: detector, electronics, and system sources.\n",
    "\n",
    "5. Charge transfer efficiency in CCD focal planes.\n",
    "\n",
    "6. Nonidentical pixels, resulting from the design process.\n",
    "\n",
    "7. Dust\n",
    "\n",
    "8. Surface variations.\n",
    "\n",
    "9. Multiplexer threshold or ohmic variations between channels.\n",
    "\n",
    "10. Interlace imbalance.\n",
    "\n",
    "11. Multiple output port imbalances.\n",
    "\n",
    "12. Device temperature variations.\n",
    "\n",
    "13. $\\cos^n$ shading.\n",
    "\n",
    "14. Vignetting.\n",
    "\n",
    "15. Calibration source surface irregularities.\n",
    "    "
   ]
  },
  {
   "cell_type": "markdown",
   "metadata": {
    "run_control": {
     "frozen": false,
     "read_only": false
    }
   },
   "source": [
    "Following Mooney's derivation, simplify the above equation modelling the pixel electron count  for pixel $ij$ results in\n",
    "\n",
    "\\begin{equation}\n",
    "n_{ij} = R_{ij}\n",
    "\\int_0^\\infty \n",
    "L_{\\lambda ij}\\eta_{\\lambda ij} d\\lambda\n",
    "+D_{ij}\n",
    "\\end{equation}"
   ]
  },
  {
   "cell_type": "markdown",
   "metadata": {
    "run_control": {
     "frozen": false,
     "read_only": false
    }
   },
   "source": [
    "Define the variational elements in terms of an average value $\\langle X_{ij}\\rangle $ plus a variation $x_{ij}$:\n",
    "\n",
    "\\begin{equation}\n",
    "D_{ij} = \\langle D_{ij}\\rangle  + d_{ij}\n",
    "\\end{equation}\n",
    "\n",
    "\\begin{equation}\n",
    "R_{ij} = \\langle R_{ij}\\rangle  + r_{ij}\n",
    "\\end{equation}\n",
    "\n",
    "\\begin{equation}\n",
    "\\eta_{\\lambda ij} = \\langle \\eta_{\\lambda ij}\\rangle  + k_{\\lambda ij}\n",
    "\\end{equation}\n",
    "\n",
    "where $d_{ij}$, $r_{ij}$, and $k_{\\lambda ij}$ has zero mean on spatial average and only the spectral nonuniformities  are accounted for in $k_{\\lambda ij}$\n",
    "\\begin{equation}\n",
    "\\int_0^\\infty k_{\\lambda ij} d\\lambda = 0\n",
    "\\end{equation}\n",
    "\n",
    "When observing a uniform scene $L_{\\lambda ij}=L_\\lambda$ and then\n",
    "\n",
    "\\begin{equation}\n",
    "\\langle n_{ij}\\rangle  = \\langle R_{ij}\\rangle\n",
    "\\int_0^\\infty\n",
    "\\langle \\eta_{\\lambda ij}\\rangle L_{\\lambda}  d\\lambda\n",
    "+\\langle D_{ij}\\rangle \n",
    "\\end{equation}\n",
    "\n",
    "Manipulating the above equations results in the equation describing pixel $ij$ value as\n",
    "\n",
    "\\begin{equation}\n",
    "n_{ij} =\n",
    "\\langle n_{ij}\\rangle  +\n",
    "d_{ij} +\n",
    " \\frac{r_{ij}[\\langle n_{ij}\\rangle  - \\langle D_{ij}\\rangle ]}{\\langle R_{ij}\\rangle } +\n",
    " \\langle R_{ij}\\rangle \\int_0^\\infty k_{\\lambda ij} L_{\\lambda}  d\\lambda\n",
    "\\end{equation} \n",
    "With $\\langle R_{ij}\\rangle$ as the average value of the instrument transfer function, $\\langle R_{ij}\\rangle \\int_0^\\infty k_{\\lambda ij} L_{\\lambda}  d\\lambda =\\int_0^\\infty k_{\\lambda ij} n_{\\lambda ij}  d\\lambda$\n",
    "where $n_{\\lambda ij}$ is the photoelectrons produced when viewing the scene with radiance $L_{\\lambda}$.\n",
    "\n",
    "The variance in $n_{ij}$ is then given by\n",
    "\\begin{eqnarray}\n",
    "\\sigma_u^2 &=&\n",
    "\\sigma_d^2\n",
    "+\n",
    " \\frac{\\sigma_r^2[\\langle n_{ij}\\rangle  - \\langle D_{ij}\\rangle ]^2}{\\langle R_{ij}\\rangle^2 } +\n",
    " \\langle R_{ij}\\rangle^2\\left\\langle \\left[ \\int_0^\\infty\n",
    " k_{\\lambda ij} L_{\\lambda}  d\\lambda\\right]^2\\right\\rangle\\\\\n",
    "&=&\n",
    "\\sigma_d^2\n",
    "+\n",
    " \\frac{\\sigma_r^2[\\langle n_{ij}\\rangle  - \\langle D_{ij}\\rangle ]^2}{\\langle R_{ij}\\rangle^2 } +\n",
    "\\left\\langle \\left[ \\int_0^\\infty\n",
    " k_{\\lambda ij} n_{\\lambda ij}  d\\lambda\\right]^2\\right\\rangle\n",
    "\\end{eqnarray} \n",
    "\n"
   ]
  },
  {
   "cell_type": "markdown",
   "metadata": {
    "run_control": {
     "frozen": false,
     "read_only": false
    }
   },
   "source": [
    "In this equation  \n",
    "\n",
    "- $\\sigma_u^2$ represents the nonuniformity image variance (square of the rms value).\n",
    "- $\\sigma_d^2$ is the noise variance in the dark current.\n",
    "- $\\sigma_r^2$ is the tolerance variance in detector area-related characteristics.\n",
    "- $\\left\\langle \\left[ \\int_0^\\infty k_{\\lambda ij} L_{\\lambda}  d\\lambda\\right]^2\\right\\rangle$ (say $\\sigma_l^2$) is the apparent radiance variance resulting from variations in quantum efficiency.\n",
    "- $r\\sigma_l=\\sigma_n$.\n",
    "- $\\langle n_{ij}\\rangle$ (a constant, say $n$) is the mean pixel value over all the pixels in the image (the expected signal).\n",
    "- $\\langle D_{ij}\\rangle$ (a constant, say $d$)  is the dark current average over all pixels, and \n",
    "- $\\langle R_{ij}\\rangle$ (a constant, say $r$)  is the signal transfer function (converting radiance on the detector surface to electrons in the charge well) over all pixels.\n",
    "\n"
   ]
  },
  {
   "cell_type": "markdown",
   "metadata": {
    "run_control": {
     "frozen": false,
     "read_only": false
    }
   },
   "source": [
    "The signal (electron count) variance equation can then be written as\n",
    "\\begin{eqnarray}\n",
    "\\sigma_u^2 \n",
    "&=&\n",
    "\\sigma_d^2 +\n",
    "\\left(\\frac{\\sigma_r^2}{r^2}\\right)\\left(n  - d\\right) +\n",
    " r^2 \\sigma_l^2\\\\\n",
    "&=&\n",
    "\\sigma_d^2 +\n",
    "\\left(\\frac{\\sigma_r^2}{r^2}\\right)\\left(n  - d\\right) +\n",
    "\\sigma_n^2\n",
    "\\end{eqnarray} \n",
    "\n",
    "\n",
    "The fraction $\\left(\\frac{\\sigma_r^2}{r^2}\\right)$ can be interpreted as a normalised or  percentage ratio in variation of detector area (or area related characteristics). \n",
    "\n",
    "The dark current variance $\\sigma_d^2$ can be measured in the laboratory under zero (low) incident flux conditions, then $(n-d)\\rightarrow 0$ and $\\sigma_l\\rightarrow 0$.\n",
    "\n",
    "The quantum efficiency variance $\\sigma_l^2$ may be estimated under high flux conditions, $n>d$ and $\\sigma_d^2\\ll$, if $\\sigma_r^2$ can be determined by some other nonradiometric means. Perhaps (hypothesis not tested) it can be determined by \n",
    "using a number of flux levels.\n",
    "\n",
    "This equation may be further simplified under certain assumptions:"
   ]
  },
  {
   "cell_type": "markdown",
   "metadata": {
    "run_control": {
     "frozen": false,
     "read_only": false
    }
   },
   "source": [
    "1. *Low light, visible spectral band* operation:  no simplification is possible because the signal $n$ is small compared to the dark signal. \n",
    "\n",
    "2. Under *large photon signal  conditions*: $\\sigma_d^2\\ll$ and it can be ignored, also $n\\gg d$, then \n",
    "    \\begin{equation}\n",
    "    \\sigma_{u_\\textrm{high flux}}^2 =\n",
    "    \\frac{\\sigma_r^2}{r^2}n +\n",
    "     \\sigma_n^2\n",
    "    \\end{equation}  \n",
    "\n",
    "3.  Under *large photon signal conditions* and if the *quantum efficiency is uniform*, $\\sigma_l^2=\\sigma_n^2=0$, then\n",
    "    \\begin{equation}\n",
    "    \\sigma^2_{u} = \\frac{\\sigma_r^2}{r^2}n \n",
    "    \\end{equation}  \n",
    "\n",
    "4.  If there is no/small area variations $\\sigma_r^2\\rightarrow 0$, but with low light flux $\\sigma_d^2\\leq  \\sigma_n^2$\n",
    "    \\begin{equation}\n",
    "    \\sigma_u^2 =\n",
    "    \\sigma_d^2 +\n",
    "     \\sigma_n^2\n",
    "    \\end{equation}  \n",
    "\n",
    "5.  If there is no/small area variations $\\sigma_r^2\\rightarrow 0$, as well as high flux  $\\sigma_d^2 < \\sigma_n^2$\n",
    "    \\begin{equation}\n",
    "    \\sigma_u^2 =\n",
    "     \\sigma_n^2\n",
    "    \\end{equation} \n",
    "    \n",
    "    \n",
    "    "
   ]
  },
  {
   "cell_type": "markdown",
   "metadata": {
    "run_control": {
     "frozen": false,
     "read_only": false
    }
   },
   "source": [
    "Large signal photon conditions occur for high flux signals in the visible band (large numbers of photons).\n",
    "Large signal photon conditions always apply in the thermal bands (large numbers of low energy photons).\n",
    "\n",
    "A commonly found metric for visual CCD and CMOS sensors is the $U$ value relating the nonuniformity noise standard deviation\n",
    "$n_{\\textrm{NU}}$ with the signal flux: $\\sigma_u = n_{\\textrm{NU}}=U n_{\\textrm{photoelectrons}}$.  Typical values for $U$ are less than or equal to  1% for CCD and 5% for CMOS sensors.  This corresponds with approximation 5 above, assuming high flux signal conditions and with zero variance in detector area.  Under low light conditions this approximation is not valid.\n",
    "\n",
    "Holst describes infrared sensor nonuniformity noise variance as having the form $\\sigma_u = n_{\\textrm{NU}}=U n_{\\textrm{photoelectrons}}$. This also corresponds with approximation 5 above, assuming high flux signal conditions and with zero variance in detector area.  The high flux condition is alway valid for sensors operating in the thermal spectral bands.\n",
    "\n",
    "According to Janesick (p169) the dark current nonuniformity standard deviation is around 10% (CCD) and 40% (CMOS) of the the dark current (for silicon detectors). Note that dark nonuniformity $\\sigma_d$ is much greater than light nonuniformity $\\sigma_n$ by approximately 10-40 times.\n",
    "\n",
    "\n"
   ]
  },
  {
   "cell_type": "markdown",
   "metadata": {
    "run_control": {
     "frozen": false,
     "read_only": false
    }
   },
   "source": [
    "Mooney points out that it is impossible to achieve perfect nonuniformity correction however complex algorithm may be used. His analysis shows that the chromatic correction required by nonzero $k_{\\lambda ij}$ depends on the knowledge of the spectral radiance on the detector. In general the exact spectral radiance is not known or even predictable: visual band the target spectral reflection greatly modifies the solar spectral radiance. In the 3--5 $\\mu$m spectral band the signature comprises reflected solar flux and self-emitted thermal flux, the exact ratio of which is not predictable."
   ]
  },
  {
   "cell_type": "markdown",
   "metadata": {
    "run_control": {
     "frozen": false,
     "read_only": false
    }
   },
   "source": [
    "The final version of the model is then\n",
    "\n",
    "\\begin{equation}\n",
    "\\sigma_u^2 =\n",
    "\\sigma_d^2 +\n",
    "\\left(\\frac{\\sigma_r^2}{r^2}\\right)\\left(n  - d\\right) +\n",
    "\\sigma_n^2\n",
    "\\end{equation} \n",
    "\n",
    "with the following **estimated** values (please substitute your own, better estimates):\n",
    "\n",
    "1.  $\\sigma_d=U_d\\,n_\\textrm{photon}$  where $U_d$ is 10 to 40% of the dark current $n_{\\textrm{darkcurrent}}$ (see below), for  all sensors.\n",
    "\n",
    "1. $\\sigma_r$ = 0, on the assumption that the detector area-related variations are well controlled, and also that for low flux levels $\\sigma_r^2\\left(n  - d\\right)\\rightarrow 0$.\n",
    "\n",
    "1. $\\sigma_n=U\\,n_\\textrm{photon}$, where $U$ is 1% (CCD) to 5% (CMOS) for sensors operating in the visual band.  Infrared cameras can have nonuniformity $U$ as high as 25%, and require active correction.  It can be assumed that for infrared cameras with nonuniformity correction will have \n",
    "$\\sigma_n\\leq 0.4\\sigma_\\textrm{tvh}$ where $\\sigma_\\textrm{tvh}$ is the total noise in the sensor."
   ]
  },
  {
   "cell_type": "markdown",
   "metadata": {
    "run_control": {
     "frozen": false,
     "read_only": false
    }
   },
   "source": [
    "### Dark current shot noise\n",
    "\n",
    "Dark noise is the current flowing in a detector with no photon incidence, resulting from many different processes in a detector\\cite{Kinch2007,Janesick2007}. Sources of dark current include (depending on the material and operating temperature): thermal diffusion current, thermal generation and tunneling through bandgap states in the depletion region, and surface current\\cite{Kinch2007}. It appears that fill factor does not apply to dark current.  Combining information from several sources\\cite{Kinch2007,Janesick2007,raptorninoxwhitepaper2016}\n",
    "the following model for the mean dark current is used (noting that for silicon $\\sqrt{E_\\textrm{gap}}\\approx 1$):\n",
    "\n",
    "\\begin{equation}\n",
    "n_{8} = n_{\\textrm{darkcurrent}} = \\frac{ 2.55\\times10^{15}t_\\textrm{int} A_d D_{FM} T^{1.5} }{\\sqrt{E_\\textrm{gap}}} \\cdot\n",
    "\\left[\\exp\\left(-\\frac{E_\\textrm{gap}}{c_m k T}\\right)\\right]\n",
    "\\end{equation}\n",
    "where the material band gap $E_\\textrm{gap}$ temperature variation is approximated by the Varshni model\n",
    "\\begin{equation}\n",
    "E_\\textrm{gap}(T) = E_\\textrm{gap0} - \\frac{AT^2}{T+B}\n",
    "\\end{equation}\n",
    "and\n",
    "$t_\\textrm{int}$ is the integration time,\n",
    "$A_d$ is the pixel's area [cm$^2$],\n",
    "$D_{FM}$ is the detector dark current figure-of-merit at 300~K (varies significantly\n",
    "with sensor manufacturer),\n",
    "$T$ is temperature [K],\n",
    "$k$ is Boltzman's constant [eV/K], and the rest of the equation coefficients are defined for different detector materials in the table below:\n"
   ]
  },
  {
   "cell_type": "raw",
   "metadata": {},
   "source": [
    "\\begin{tabular}{|l|c|c|c|c|c|c|c|}\n",
    "\\hline\n",
    "Material              &    $e_d$& $c_a$ &$D_{X}$ &$T_X$ &$E_\\textrm{gap0}$ & $A$ & $B$\\\\\n",
    "\\hline\n",
    "Silicon (visual)      & 2 & \\num{4.31e+05} &\\num{5.00e-06} &300 &1.166 & \\num{5.50e-4} &636\\\\\n",
    "InGaAs x=0.45 1.7 um  & 1 & \\num{2.82e+08} &\\num{8.53e-05} &300 &0.700 &\\num{5.40e-4} & 1076\\\\\n",
    "HgCdTe x=0.304 MWIR   & 2 & \\num{2.78e+04} &\\num{2.00e-06} &80 &0.235 &\\num{3.00e-4} &500\\\\\n",
    "HgCdTe x=0.225 LWIR   & 1 & \\num{9.25e+04} &\\num{1.00e-01} &80 &0.131 &\\num{3.00e-4} &200\\\\\n",
    "\\hline\n",
    " &  - &K$^{-3/2}$&A/m$^2$ &K &eV & - & -\\\\\n",
    "\\hline\n",
    "\\end{tabular}\n"
   ]
  },
  {
   "cell_type": "markdown",
   "metadata": {
    "run_control": {
     "frozen": false,
     "read_only": false
    }
   },
   "source": [
    "The dark current carriers create a temporal electron count shot noise with  variance $\\sigma^2_\\textrm{dark} = n_\\textrm{darkcurrent}$.  The dark current noise is random over subsequent image frames.\n",
    "\n",
    "\n",
    "The spatial dark current noise generation process is random around a mean value (Equation~\\ref{eq:darkcurrent}), spatially across different pixels but not across subsequent image frames for the same pixels. The  fixed spatial structure is called the dark current fixed pattern noise (DFPN).  The spatial pattern for dark noise generation is not the same as the PRNU for photoelectron generation (Section~\\ref{sec:Detectorfixedpatternnoise}), it is caused by different processes, has a different statistical nature, and has much wider variation.  Konnik\\cite{Konnik2014} argues a model that uses a lognormal probability distribution combined with one or more probability distributions.  His model is verified using experimental work on astronomical cameras, requiring really long integration times.  For the present model, only a single lognormal distribution is used (instead of a normal distribution) to obtain the required `outlier' or 'hot' noisy dark pixels:\n",
    "\\begin{equation}\n",
    "n_\\textrm{11} = n_\\textrm{9}\\left[1+\\log\\mathcal{N}(0,\\sigma^2_\\textrm{DNU})\\right]\n",
    "\\end{equation}\n",
    "where\n",
    "$\\log\\mathcal{N}(0,\\sigma^2_\\textrm{DNU})$ is a lognormal probability distribution with mean value of zero and variance of $\\sigma^2_\\textrm{DNU}$, and the dark current nonuniformity $\\sigma_\\textrm{DNU}$ is between 0.1 and 0.4 for silicon detectors\\cite{Janesick2007} and assumed similar for other detector types.\n",
    "\n",
    "It is evident that, for the values used here, the dark current noise is insignificantly small and will be ignored.\n"
   ]
  },
  {
   "cell_type": "markdown",
   "metadata": {
    "run_control": {
     "frozen": false,
     "read_only": false
    }
   },
   "source": [
    "### Read noise also known as kTC reset noise\n",
    "\n",
    "kTC noise results from random fluctuations of charge on the sense node during the reset stage, resulting in a corresponding photodiode reset voltage fluctuation.   In CCD sensors the sense node reset noise is removed by Correlated Double Sampling (CDS).\n",
    "In CMOS photosensors, it is difficult to remove the reset noise even after application of CDS. Specifically, the difficulties arise in 'rolling shutter' and 'snap' readout modes.  Elimination of reset noise in CMOS is quite challenging.\n",
    "The magnitude of the sense node read noise in electrons is given by \n",
    "\n",
    "\\begin{equation}\n",
    "n_{\\textrm{kTCnoise}}=\\frac{\\sqrt{k_B T C_{SN}}}{q}\n",
    "\\end{equation}\n",
    "\n",
    "where\n",
    "$q$ is the charge of an electron,\n",
    "$k_B$ is the Boltzmann constant, \n",
    "$T$ is the temperature, and \n",
    "$C_{SN}$ is the sense node capacitance.\n",
    "For this investigation the noise is assumed gaussian distributed.\n",
    "\n",
    "The sense node capacitance can be determined from the sense node gain $A_\\textrm{SN}$, expressed in volt per electron. From $Q=CV$ where $Q$ in this case is expressed in electron count not coulomb the sense node capacitance is $C_{SN} = \\frac{q}{A_\\textrm{SN}}$.\n",
    "Then \n",
    "\n",
    "\\begin{equation}\n",
    "n_{\\textrm{kTCnoise}}=\\sqrt{\\frac{k_B T }{A_\\textrm{SN} q}}\n",
    "\\end{equation}\n",
    "\n",
    "Typical values for the sense node gain is 5 to 150 $\\mu$V/e$^-$."
   ]
  },
  {
   "cell_type": "markdown",
   "metadata": {
    "run_control": {
     "frozen": false,
     "read_only": false
    }
   },
   "source": [
    "### Total noise\n",
    "\n",
    "The total noise  is then given by\n",
    "\n",
    "\\begin{equation}\n",
    "n_{\\textrm{noise}} = \\sqrt{n_{\\textrm{photnoise}}^2+ n_{\\textrm{NU}}^2 + n^2_{\\textrm{darkcurrentnoise}} + n^2_{\\textrm{kTCnoise}}}\n",
    "\\end{equation}\n",
    "\n",
    "For visual band sensors (corresponding to Equation 10 in [G])\n",
    "\n",
    "\\begin{equation}\n",
    "n_{\\textrm{noise}} = \\sqrt{n_{\\textrm{photnoise}}^2+ (U n_{\\textrm{photons}})^2 + n^2_{\\textrm{darkcurrentnoise}} + n^2_{\\textrm{kTCnoise}}}\n",
    "\\end{equation}\n",
    "\n",
    "For infrared sensors\n",
    "\n",
    "\\begin{equation}\n",
    "n_{\\textrm{noise}} \n",
    "= \\sqrt{n_{\\textrm{photnoise}}^2+ \\left(\\sqrt{n_{\\textrm{photons}}}\\right)^{-2} + n^2_{\\textrm{darkcurrentnoise}} + n^2_{\\textrm{kTCnoise}}}\n",
    "\\end{equation}\n",
    "\n",
    "\\begin{equation}\n",
    "n_{\\textrm{noise}} \n",
    "= \\sqrt{n_{\\textrm{photons}}+ n_{\\textrm{photons}}^{-1} + n^2_{\\textrm{darkcurrentnoise}} + n^2_{\\textrm{kTCnoise}}}\n",
    "\\end{equation}\n",
    "\n"
   ]
  },
  {
   "cell_type": "markdown",
   "metadata": {
    "run_control": {
     "frozen": false,
     "read_only": false
    }
   },
   "source": [
    "## Charge conversion nonlinearity\n",
    "\n",
    "If the sense node capacitor has a nonlinear voltage relationship $C_\\textrm{SN}(V_\\textrm{SN}) = k_1/V_\\textrm{SN}$ the signal voltage has a nonlinear relationship with respect to accumulated charge.\n",
    "\\begin{equation}\n",
    "V_\\textrm{signal}= V_\\textrm{Ref}\\left(1-\\exp\\left[ \\frac{- \\alpha n_\\textrm{13}\\cdot q }{k_1} \\right]\\right)\n",
    "\\end{equation}\n"
   ]
  },
  {
   "cell_type": "code",
   "execution_count": 4,
   "metadata": {
    "collapsed": false,
    "run_control": {
     "frozen": false,
     "read_only": false
    }
   },
   "outputs": [
    {
     "data": {
      "image/png": "[encoded data removed]",
      "text/plain": [
       "<matplotlib.figure.Figure at 0xd7720b8>"
      ]
     },
     "metadata": {},
     "output_type": "display_data"
    }
   ],
   "source": [
    "# to demonstrate the effect of alpha, following Janesick's Example 7.2\n",
    "\n",
    "k1 = 10e-15\n",
    "vref = 3.0\n",
    "vsnmin = 0.5\n",
    "nphelec = np.linspace(0,1e5,100)\n",
    "vsnp = np.linspace(0.5,3,100)\n",
    "p = ryplot.Plotter(1,1,3,figsize=(16,4));\n",
    "p.plot(1,vsnp,1e15*k1/vsnp,'Capacitance vs voltage, k1={}'.format(k1),\n",
    "       '$V_{SN}$ V','Capacitance fF');\n",
    "vsignal = vref * (1.0 - np.exp(- nphelec * const.e / (k1)))\n",
    "vsn = vref * (np.exp(- nphelec * const.e / (k1)))\n",
    "p.plot(2,nphelec, vsignal,'Voltage on charge well capacitor','Number photoelectrons','Volts signal V',\n",
    "       label=['Signal voltage'],maxNX=5);\n",
    "p.plot(2,nphelec, vsn,label=['Sense node voltage'],maxNX=5);\n",
    "\n",
    "nelec = -(k1/const.e)*np.log(vsn/vref)\n",
    "p.plot(3, vsn, nelec,'Charge in well','$V_{SN}$ V','Electroncs',label=['$V_{SN}$'],maxNX=5);\n"
   ]
  },
  {
   "cell_type": "markdown",
   "metadata": {
    "run_control": {
     "frozen": false,
     "read_only": false
    }
   },
   "source": [
    "## Source follower nonlinearity\n",
    " \n",
    "The nonlinear source follower gain is given by \n",
    " \n",
    "\\begin{equation}\n",
    "A_\\textrm{SFnl} =  A_\\textrm{SF}\\left[1 - (\\gamma - 1) \n",
    "\\left(\\frac{V_\\textrm{Ref}-V_\\textrm{SN}}{V_\\textrm{Ref}-V_\\textrm{Full-well}}\\right)\n",
    "\\right]\n",
    "\\end{equation}\n",
    "where\n",
    "$A_\\textrm{SFnl}$ is the nonlinearised source follower gain,\n",
    "$A_\\textrm{SF}$ is the linear (ideal) source follower gain (close to unity),\n",
    "$\\gamma$ is the nonlinear error (typically 0.95 to 1.05), \n",
    "$V_\\textrm{Ref}$ is the reference voltage, and \n",
    "$V_\\textrm{SN}$ is the sense node voltage.\n",
    "\n",
    " "
   ]
  },
  {
   "cell_type": "code",
   "execution_count": 5,
   "metadata": {
    "collapsed": false,
    "run_control": {
     "frozen": false,
     "read_only": false
    }
   },
   "outputs": [
    {
     "data": {
      "image/png": "[encoded data removed]",
      "text/plain": [
       "<matplotlib.figure.Figure at 0xd7729e8>"
      ]
     },
     "metadata": {},
     "output_type": "display_data"
    }
   ],
   "source": [
    "sfGain = 1.0\n",
    "nlinratios = [0.95, 1, 1.05]\n",
    "voltfullwell = 0.5\n",
    "vref = 3.0\n",
    "vsn = np.linspace(0.5 , 3., 100)\n",
    "\n",
    "p = ryplot.Plotter(1,1,1, figsize=(10,4))\n",
    "for nlinratio in nlinratios:\n",
    "    sfgainnonlin = sfGain * (1 - (nlinratio -1.) * ((vref - vsn) /( vref- voltfullwell) ))\n",
    "    p.plot(1, vsn,sfgainnonlin, 'Source follower nonlinearity','$V_{sensenode}$','Gain',\n",
    "          label=['$\\gamma={}$'.format(nlinratio)])"
   ]
  },
  {
   "cell_type": "markdown",
   "metadata": {
    "run_control": {
     "frozen": false,
     "read_only": false
    }
   },
   "source": [
    "## ADC nonlinearity\n",
    "\n"
   ]
  },
  {
   "cell_type": "code",
   "execution_count": 6,
   "metadata": {
    "collapsed": false,
    "run_control": {
     "frozen": false,
     "read_only": false
    }
   },
   "outputs": [
    {
     "data": {
      "image/png": "[encoded data removed]",
      "text/plain": [
       "<matplotlib.figure.Figure at 0xd9d2e80>"
      ]
     },
     "metadata": {},
     "output_type": "display_data"
    }
   ],
   "source": [
    "vadc = vref\n",
    "N = 3\n",
    "vres = vadc / 2 ** N\n",
    "gammas = [0.9, 1., 1.1]\n",
    "vinp = np.linspace(vsnmin,vadc,1000)\n",
    "\n",
    "p = ryplot.Plotter(1,1,2,figsize=(12,5))\n",
    "for gamma in gammas:\n",
    "    aadc = (1/vres)**(1 - ((vinp-vsnmin)/(vadc-vsnmin))*(np.log(gamma/vres)/np.log(1./vres)-1))\n",
    "    p.plot(1,vinp, vres *aadc, 'ADC nonlinearity','$V_{ADC}$','Normalised gain',label=['$\\gamma={}$'.format(gamma)])\n",
    "    vdigit = np.round((vinp-vsnmin)*aadc)\n",
    "    \n",
    "    p.plot(2,vinp, vdigit, 'ADC nonlinearity','$V_{ADC}$','Output',label=['$\\gamma={}$'.format(gamma)])\n",
    "    "
   ]
  },
  {
   "cell_type": "markdown",
   "metadata": {
    "run_control": {
     "frozen": false,
     "read_only": false
    }
   },
   "source": [
    "## Python and [module versions, and dates](https://github.com/jrjohansson/scientific-python-lectures/blob/master/Lecture-0-Scientific-Computing-with-Python.ipynb)"
   ]
  },
  {
   "cell_type": "code",
   "execution_count": 7,
   "metadata": {
    "collapsed": false,
    "run_control": {
     "frozen": false,
     "read_only": false
    }
   },
   "outputs": [
    {
     "data": {
      "application/json": {
       "Software versions": [
        {
         "module": "Python",
         "version": "2.7.12 64bit [MSC v.1500 64 bit (AMD64)]"
        },
        {
         "module": "IPython",
         "version": "5.1.0"
        },
        {
         "module": "OS",
         "version": "Windows 7 6.1.7601 SP1"
        },
        {
         "module": "numpy",
         "version": "1.11.1"
        },
        {
         "module": "scipy",
         "version": "0.18.1"
        },
        {
         "module": "matplotlib",
         "version": "1.5.3"
        },
        {
         "module": "pyradi",
         "version": "1.1.0"
        }
       ]
      },
      "text/html": [
       "<table><tr><th>Software</th><th>Version</th></tr><tr><td>Python</td><td>2.7.12 64bit [MSC v.1500 64 bit (AMD64)]</td></tr><tr><td>IPython</td><td>5.1.0</td></tr><tr><td>OS</td><td>Windows 7 6.1.7601 SP1</td></tr><tr><td>numpy</td><td>1.11.1</td></tr><tr><td>scipy</td><td>0.18.1</td></tr><tr><td>matplotlib</td><td>1.5.3</td></tr><tr><td>pyradi</td><td>1.1.0</td></tr><tr><td colspan='2'>Mon Nov 28 17:09:49 2016 South Africa Standard Time</td></tr></table>"
      ],
      "text/latex": [
       "\\begin{tabular}{|l|l|}\\hline\n",
       "{\\bf Software} & {\\bf Version} \\\\ \\hline\\hline\n",
       "Python & 2.7.12 64bit [MSC v.1500 64 bit (AMD64)] \\\\ \\hline\n",
       "IPython & 5.1.0 \\\\ \\hline\n",
       "OS & Windows 7 6.1.7601 SP1 \\\\ \\hline\n",
       "numpy & 1.11.1 \\\\ \\hline\n",
       "scipy & 0.18.1 \\\\ \\hline\n",
       "matplotlib & 1.5.3 \\\\ \\hline\n",
       "pyradi & 1.1.0 \\\\ \\hline\n",
       "\\hline \\multicolumn{2}{|l|}{Mon Nov 28 17:09:49 2016 South Africa Standard Time} \\\\ \\hline\n",
       "\\end{tabular}\n"
      ],
      "text/plain": [
       "Software versions\n",
       "Python 2.7.12 64bit [MSC v.1500 64 bit (AMD64)]\n",
       "IPython 5.1.0\n",
       "OS Windows 7 6.1.7601 SP1\n",
       "numpy 1.11.1\n",
       "scipy 0.18.1\n",
       "matplotlib 1.5.3\n",
       "pyradi 1.1.0\n",
       "Mon Nov 28 17:09:49 2016 South Africa Standard Time"
      ]
     },
     "execution_count": 7,
     "metadata": {},
     "output_type": "execute_result"
    }
   ],
   "source": [
    "# you only need to do this once\n",
    "#!pip install --upgrade version_information\n",
    "\n",
    "%load_ext version_information\n",
    "%version_information numpy, scipy, matplotlib, pyradi"
   ]
  },
  {
   "cell_type": "code",
   "execution_count": null,
   "metadata": {
    "collapsed": true,
    "run_control": {
     "frozen": false,
     "read_only": false
    }
   },
   "outputs": [],
   "source": []
  }
 ],
 "metadata": {
  "anaconda-cloud": {},
  "kernelspec": {
   "display_name": "Python 2",
   "language": "python",
   "name": "python2"
  },
  "language_info": {
   "codemirror_mode": {
    "name": "ipython",
    "version": 2
   },
   "file_extension": ".py",
   "mimetype": "text/x-python",
   "name": "python",
   "nbconvert_exporter": "python",
   "pygments_lexer": "ipython2",
   "version": "2.7.12"
  }
 },
 "nbformat": 4,
 "nbformat_minor": 0
}
