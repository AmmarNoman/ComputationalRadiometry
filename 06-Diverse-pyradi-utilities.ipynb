{
 "metadata": {
  "name": "",
  "signature": "sha256:b9e168d9b87d0e9f010df38985d3e9884b259165c7f764417af865ada3450096"
 },
 "nbformat": 3,
 "nbformat_minor": 0,
 "worksheets": [
  {
   "cells": [
    {
     "cell_type": "heading",
     "level": 1,
     "metadata": {},
     "source": [
      "6 Diverse pyradi utilities"
     ]
    },
    {
     "cell_type": "markdown",
     "metadata": {},
     "source": [
      "This notebook forms part of a series on [computational optical radiometry](https://github.com/NelisW/ComputationalRadiometry#computational-optical-radiometry-with-pyradi).  The notebooks can be downloaded from [Github](https://github.com/NelisW/ComputationalRadiometry#computational-optical-radiometry-with-pyradi). These notebooks are constantly revised and updated, please revisit from time to time.  \n",
      "\n",
      "\n",
      "[<img src=\"https://zenodo.org/badge/doi/10.5281/zenodo.9910.png\"   align=\"left\"/>](http://dx.doi.org/10.5281/zenodo.9910)\n"
     ]
    },
    {
     "cell_type": "markdown",
     "metadata": {},
     "source": [
      "The date of this document and module versions used in this document are given at the end of the file.  \n",
      "Feedback is appreciated: neliswillers at gmail dot com."
     ]
    },
    {
     "cell_type": "heading",
     "level": 2,
     "metadata": {},
     "source": [
      "Overview"
     ]
    },
    {
     "cell_type": "markdown",
     "metadata": {},
     "source": [
      "The pyradi library has a reasonably complete collection of Planck radiator models, both spectral and wide band. A comprehensive collection of physical constants, pertinent to optical radiation is also included.  This notebook introduces these functions in the [`pyradi.ryplanck`](http://nelisw.github.io/pyradi-docs/_build/html/ryplanck.html#pyradi.ryplanck) library."
     ]
    },
    {
     "cell_type": "code",
     "collapsed": false,
     "input": [
      "from IPython.display import display\n",
      "from IPython.display import Image\n",
      "from IPython.display import HTML"
     ],
     "language": "python",
     "metadata": {},
     "outputs": [],
     "prompt_number": 1
    },
    {
     "cell_type": "heading",
     "level": 2,
     "metadata": {},
     "source": [
      "File and directory services"
     ]
    },
    {
     "cell_type": "heading",
     "level": 3,
     "metadata": {},
     "source": [
      "List files in a directory"
     ]
    },
    {
     "cell_type": "markdown",
     "metadata": {},
     "source": [
      "The [`ryfiles.listFiles`](http://nelisw.github.io/pyradi-docs/_build/html/ryfiles.html#pyradi.ryfiles.listFiles) function \n",
      "returns a list of file paths to files in a file system, searching a directory structure along the specified path, looking for files that matches the glob pattern. If specified, the search will continue into sub-directories.  A list of matching names is returned.\n",
      "The function supports a local or network reachable filesystem, but not URLs.\n",
      "\n",
      "The function signature is:  \n",
      "\n",
      "`listFiles(root, patterns='*', recurse=1, return_folders=0, useRegex=False)`\n",
      "\n",
      "- `root (string)` directory root from where the search must take place.\n",
      "- `patterns (string)` glob/regex pattern for filename matching.\n",
      "- `recurse (unt)`  flag to indicate if subdirectories must also be searched (optional).\n",
      "- `return_folders (int)`  flag to indicate if folder names must also be returned (optional).\n",
      "- `useRegex (bool)`  flag to indicate if patterns areregular expression strings (optional)."
     ]
    },
    {
     "cell_type": "code",
     "collapsed": false,
     "input": [
      "import pyradi.ryfiles as ryfiles\n",
      "print(ryfiles.listFiles('.', '05*.ipynb'))"
     ],
     "language": "python",
     "metadata": {},
     "outputs": [
      {
       "output_type": "stream",
       "stream": "stdout",
       "text": [
        "['05a-PlottingWithPyradi-GeneralAndCartesian.ipynb', '05b-PlottingWithPyradi-Polar-and-3D.ipynb', '.ipynb_checkpoints\\\\05a-PlottingWithPyradi-GeneralAndCartesian-checkpoint.ipynb', '.ipynb_checkpoints\\\\05b-PlottingWithPyradi-Polar-and-3D-checkpoint.ipynb']\n"
       ]
      }
     ],
     "prompt_number": 2
    },
    {
     "cell_type": "code",
     "collapsed": false,
     "input": [
      "import pyradi.ryfiles as ryfiles\n",
      "print(ryfiles.listFiles('.', '05*', return_folders=1))"
     ],
     "language": "python",
     "metadata": {},
     "outputs": [
      {
       "output_type": "stream",
       "stream": "stdout",
       "text": [
        "['05', '05a-PlottingWithPyradi-GeneralAndCartesian.ipynb', '05b-PlottingWithPyradi-Polar-and-3D.ipynb', '.git\\\\objects\\\\05', '.git\\\\objects\\\\0e\\\\0502df9ef4d6591fb585e14aa10c8c0ea1e021', '.ipynb_checkpoints\\\\05a-PlottingWithPyradi-GeneralAndCartesian-checkpoint.ipynb', '.ipynb_checkpoints\\\\05b-PlottingWithPyradi-Polar-and-3D-checkpoint.ipynb', '05\\\\05-testfile.txt']\n"
       ]
      }
     ],
     "prompt_number": 3
    },
    {
     "cell_type": "code",
     "collapsed": false,
     "input": [
      "print(ryfiles.listFiles('.', '05*.ipynb', useRegex=1))"
     ],
     "language": "python",
     "metadata": {},
     "outputs": [
      {
       "output_type": "stream",
       "stream": "stdout",
       "text": [
        "[]\n"
       ]
      }
     ],
     "prompt_number": 4
    },
    {
     "cell_type": "code",
     "collapsed": false,
     "input": [
      "print(ryfiles.listFiles('.', '05[ab].*', useRegex=1))"
     ],
     "language": "python",
     "metadata": {},
     "outputs": [
      {
       "output_type": "stream",
       "stream": "stdout",
       "text": [
        "['05a-PlottingWithPyradi-GeneralAndCartesian.ipynb', '05b-PlottingWithPyradi-Polar-and-3D.ipynb', '.git\\\\objects\\\\05\\\\31a2ebbd47ecc38fa05a36256f1280bd3ee7b1', '.git\\\\objects\\\\35\\\\e05b54e9261b2904ef8bdd02299fc0c19512cd', '.git\\\\objects\\\\92\\\\4ea66db700717c196ba527005b2d1af30b3ea7', '.git\\\\objects\\\\c3\\\\8116e1394481e05b0c6a7306d83eb56c65a832', '.git\\\\objects\\\\cb\\\\5ad6831405aca9205f216ecaa3c3e618ce97f8', '.git\\\\objects\\\\e5\\\\c8034f05a269d5656e9f5d6339aa4fed40348a', '.ipynb_checkpoints\\\\05a-PlottingWithPyradi-GeneralAndCartesian-checkpoint.ipynb', '.ipynb_checkpoints\\\\05b-PlottingWithPyradi-Polar-and-3D-checkpoint.ipynb']\n"
       ]
      }
     ],
     "prompt_number": 5
    },
    {
     "cell_type": "code",
     "collapsed": false,
     "input": [
      "print(ryfiles.listFiles('.', '^05[ab].*\\.[^h].*', useRegex=1))"
     ],
     "language": "python",
     "metadata": {},
     "outputs": [
      {
       "output_type": "stream",
       "stream": "stdout",
       "text": [
        "['05a-PlottingWithPyradi-GeneralAndCartesian.ipynb', '05b-PlottingWithPyradi-Polar-and-3D.ipynb', '.ipynb_checkpoints\\\\05a-PlottingWithPyradi-GeneralAndCartesian-checkpoint.ipynb', '.ipynb_checkpoints\\\\05b-PlottingWithPyradi-Polar-and-3D-checkpoint.ipynb']\n"
       ]
      }
     ],
     "prompt_number": 6
    },
    {
     "cell_type": "heading",
     "level": 3,
     "metadata": {},
     "source": [
      "Working with filenames and directories"
     ]
    },
    {
     "cell_type": "markdown",
     "metadata": {},
     "source": [
      "The information in this section does not describe any pyradi functionality, but may be useful in this context.\n",
      "\n",
      "To split a qualified path into the folder and filename use [`os.path.split`](https://docs.python.org/2/library/os.path.html), yielding a tuple with the path as the first element and the filename as the second element."
     ]
    },
    {
     "cell_type": "code",
     "collapsed": false,
     "input": [
      "import os.path\n",
      "print(type(os.path.split('05\\\\05-testfile.txt')))\n",
      "print(os.path.split('05\\\\05-testfile.txt'))\n",
      "print(os.path.basename('05\\\\05-testfile.txt'))\n",
      "print(os.path.dirname('05\\\\05-testfile.txt'))"
     ],
     "language": "python",
     "metadata": {},
     "outputs": [
      {
       "output_type": "stream",
       "stream": "stdout",
       "text": [
        "<type 'tuple'>\n",
        "('05', '05-testfile.txt')\n",
        "05-testfile.txt\n",
        "05\n"
       ]
      }
     ],
     "prompt_number": 7
    },
    {
     "cell_type": "markdown",
     "metadata": {},
     "source": [
      "To join a folder and a filename use  [`os.path.join`](https://docs.python.org/2/library/os.path.html), but there is a catch here;  `os.path.join` does not expect the tuple, but simply a number of arguments.  Study the documentation carefully, because [`os.path.join`](https://docs.python.org/2/library/os.path.html) may discard some arguments.\n",
      "\n",
      "Alternatively, use `os.sep` or `os.path.sep` to get the pathname separator ('/' for POSIX and '\\\\' for Windows) and then use this character to join the list."
     ]
    },
    {
     "cell_type": "code",
     "collapsed": false,
     "input": [
      "print(os.path.join(* os.path.split('05\\\\05-testfile.txt')))\n",
      "print(os.sep.join(os.path.split('05\\\\05-testfile.txt')))\n",
      "print(os.path.sep.join(os.path.split('05\\\\05-testfile.txt')))"
     ],
     "language": "python",
     "metadata": {},
     "outputs": [
      {
       "output_type": "stream",
       "stream": "stdout",
       "text": [
        "05\\05-testfile.txt\n",
        "05\\05-testfile.txt\n",
        "05\\05-testfile.txt\n"
       ]
      }
     ],
     "prompt_number": 8
    },
    {
     "cell_type": "markdown",
     "metadata": {},
     "source": [
      "To test for the existance of a file use `os.path.lexists` or `os.path.exists`, see the documentation to confirm the difference between the two."
     ]
    },
    {
     "cell_type": "code",
     "collapsed": false,
     "input": [
      "print(os.path.lexists('05\\\\05-testfile.txt'))\n",
      "print(os.path.lexists('06\\\\05-testfile.txt'))"
     ],
     "language": "python",
     "metadata": {},
     "outputs": [
      {
       "output_type": "stream",
       "stream": "stdout",
       "text": [
        "True\n",
        "False\n"
       ]
      }
     ],
     "prompt_number": 9
    },
    {
     "cell_type": "heading",
     "level": 3,
     "metadata": {},
     "source": [
      "Downloading compressed and uncompressed files from the internet"
     ]
    },
    {
     "cell_type": "markdown",
     "metadata": {},
     "source": [
      "The [`ryfiles.downloadFileUrl`](http://nelisw.github.io/pyradi-docs/_build/html/ryfiles.html#pyradi.ryfiles.downloadFileUrl) function downloads a file from a URL.  The URL is used to download a file, to the saveFilename specified. If no saveFilename is given, the basename of the URL is used.  The name of the downloaded file is returned, or None if the download file.\n",
      "\n",
      "The function signature is:  \n",
      "\n",
      "    `downloadFileUrl(url,  saveFilename=None)`\n",
      "\n",
      "- `url (string)` the url to be accessed.\n",
      "- `saveFilename (string)` path to where the file must be saved (optional).\n",
      "\n",
      "The [`ryfiles.downloadUntar`](http://nelisw.github.io/pyradi-docs/_build/html/ryfiles.html#pyradi.ryfiles.downloadUntar) downloads and untars a compressed tar archive, and saves all files to the specified directory.    The tarfilename is used to open the tar file, extracting to the destinationDir specified. If no destinationDir is given, the local directory '.' is used.  Returns a list of the intarred filenames, or None of not succesful. Before downloading, a check is done to determine if the file was already downloaded  and exists in the local file system.\n",
      "\n",
      "The file signature is:  \n",
      "\n",
      "    `downloadUntar(tgzFilename, url, destinationDir=None,  tarFilename=None)`\n",
      "\n",
      "- `tgzFilename (string)` the name of the tar archive file.\n",
      "- `url (string)` url where to look for the file (not including the filename).\n",
      "- `destinationDir (string)` to where the files must be extracted  (optional).\n",
      "- `tarFilename (string)` downloaded tar filename (optional).\n",
      "\n",
      "The [`ryfiles.untarTarfile`](http://nelisw.github.io/pyradi-docs/_build/html/ryfiles.html#pyradi.ryfiles.untarTarfile) untars a tar archive, and save all files to the specified directory. The tarfilename is used to open a file, extraxting to the saveDirname specified. If no saveDirname is given, the local directory '.' is used. Returns a list of filenames saved, or None if failed.\n",
      "\n",
      "The file signature is:  \n",
      "\n",
      "    `untarTarfile(tarfilename, saveDirname=None)`\n",
      "\n",
      "- `tarfilename (string)` the name of the tar archive.\n",
      "- `saveDirname (string)` to where the files must be extracted\n",
      "\n",
      "\n",
      "The [`ryfiles.unzipGZipfile`](http://nelisw.github.io/pyradi-docs/_build/html/ryfiles.html#pyradi.ryfiles.unzipGZipfile)\n",
      "unzips a file that was compressed using the gzip format.  The zipfilename is used to open a file, to the saveFilename specified. If no saveFilename is given, the basename of the zipfilename is used, but with the file extension removed.  Returns the filename of the saved file, or None if failed.\n",
      "\n",
      "The file signature is:  \n",
      "    \n",
      "    `unzipGZipfile(zipfilename, saveFilename=None)`\n",
      "\n",
      "- `zipfilename (string)` the zipfilename to be decompressed.\n",
      "- `saveFilename (string)` to where the file must be saved (optional)."
     ]
    },
    {
     "cell_type": "markdown",
     "metadata": {},
     "source": [
      "The following example downloads a file, uncompress and untar the file, saving all the files in the tar archive to the destination directory (the current working directory in this case)."
     ]
    },
    {
     "cell_type": "code",
     "collapsed": false,
     "input": [
      "tgzFilename = 'arrayplotdemo.tgz'\n",
      "destinationDir = '.'\n",
      "tarFilename = 'arrayplotdemo.tar'\n",
      "url = 'https://raw.githubusercontent.com/NelisW/pyradi/master/pyradi/data/'\n",
      "dlNames = ryfiles.downloadUntar(tgzFilename, url, destinationDir, tarFilename)\n",
      "\n",
      "if dlNames:\n",
      "    print('filesAvailable are {}'.format(dlNames))"
     ],
     "language": "python",
     "metadata": {},
     "outputs": [
      {
       "output_type": "stream",
       "stream": "stdout",
       "text": [
        "filesAvailable are ['arrayplotdemo.txt']\n"
       ]
      }
     ],
     "prompt_number": 10
    },
    {
     "cell_type": "heading",
     "level": 2,
     "metadata": {},
     "source": [
      "Pulse detection: probability of detection and false alarm rate"
     ]
    },
    {
     "cell_type": "markdown",
     "metadata": {},
     "source": [
      "The [`ryutils.detectSignalToNoise`](http://nelisw.github.io/pyradi-docs/_build/html/ryutils.html#pyradi.ryutils.detectSignalToNoise)\n",
      "function solves for the  signal to noise ratio, given the threshold to noise ratio and probability of detection.  Using the theory of matched filter design, calculate the  signal to noise ratio, to achieve a required probability of detection. The function returns the  signal to noise ratio required to achieve the probability of detection.\n",
      "Reference: \"Electro-optics handbook,\" Tech. Rep. EOH-11, RCA, 1974. RCA Technical Series Publication.  \n",
      "\n",
      "When there is a signal present, the probability of detection (signal plus noise exceeds the threshold) is given by\n",
      "\n",
      "$$\n",
      "P_d =\n",
      "\\frac{1}{2}\\left[\n",
      "1+{\\rm erf}\\left(\n",
      "\\frac{i_s-i_t}{\\sqrt{2}i_n}\n",
      "\\right)\n",
      "\\right]\n",
      "$$\n",
      "\n",
      "where ${\\rm erf}$ is the error function:\n",
      "\n",
      "$$\n",
      "{\\rm erf}(z)=\\frac{2}{\\sqrt{\\pi}}\\int_0^z e^{-t^2}dt.\n",
      "$$\n",
      "\n",
      "\n",
      "\n",
      "The function signature is:\n",
      "\n",
      "    `detectSignalToNoise(ThresholdToNoise, pD)`  \n",
      "\n",
      "- `ThresholdToNoise (float)` the threshold to noise ratio (unitless).\n",
      "- `pD (float)` the probability of detection (unitless).\n",
      "\n",
      "The [`ryutils.detectThresholdToNoise`](http://nelisw.github.io/pyradi-docs/_build/html/ryutils.html#pyradi.ryutils.detectThresholdToNoise)\n",
      "function solve for threshold to noise ratio, given pulse width and FAR, for matched filter.  Using the theory of matched filter design, calculate the     threshold to noise ratio, to achieve a required false alarm rate. The function returns the threshold to noise ratio.  Reference   R. D. Hippenstiel, Detection Theory: Applications and Digital Signal Pro-cessing, CRC Press, 2002.\n",
      "\n",
      "The average false alarm rate is given by\n",
      "$$\n",
      "{FAR}=\n",
      "\\frac{1}{2 t_p \\sqrt{3}}\\exp^{-i_t^2/(2i_n^2)},\n",
      "$$\n",
      "where\n",
      "$t_p$ is the pulse width,\n",
      "$i_t$ is the threshold value, and\n",
      "$i_n$ is the rms noise value at the input to the threshold detector.\n",
      "\n",
      "\n",
      "The function signature is:\n",
      "    `detectThresholdToNoise(pulseWidth, FAR)`\n",
      "    \n",
      "- `pulseWidth (float)` the signal pulse width in [s].\n",
      "- `FAR (float)` the false alarm rate in [alarms/s].\n",
      "\n"
     ]
    },
    {
     "cell_type": "code",
     "collapsed": false,
     "input": [
      "import pyradi.ryutils as ryutils\n",
      "\n",
      "pulsewidth = 100e-9\n",
      "FAR = 15\n",
      "probDetection = 0.999\n",
      "ThresholdToNoise = ryutils.detectThresholdToNoise(pulsewidth,FAR)\n",
      "SignalToNoise = ryutils.detectSignalToNoise(ThresholdToNoise, probDetection)\n",
      "print('For a laser pulse with width={0}, a FAR={1} and Pd={2},'.format(pulsewidth,FAR,probDetection))\n",
      "print('the Threshold to Noise ratio must be {0}'.format(ThresholdToNoise))\n",
      "print('and the Signal to Noise ratio must be {0}'.format(SignalToNoise))\n",
      "print(' ')"
     ],
     "language": "python",
     "metadata": {},
     "outputs": [
      {
       "output_type": "stream",
       "stream": "stdout",
       "text": [
        "For a laser pulse with width=1e-07, a FAR=15 and Pd=0.999,\n",
        "the Threshold to Noise ratio must be 4.93307046878\n",
        "and the Signal to Noise ratio must be 8.02330277495\n",
        " \n"
       ]
      }
     ],
     "prompt_number": 11
    },
    {
     "cell_type": "heading",
     "level": 2,
     "metadata": {},
     "source": [
      "Solving the range equation"
     ]
    },
    {
     "cell_type": "markdown",
     "metadata": {},
     "source": [
      "It is frequently necessary to determine the operational detection distance of a source and sensor combination. The problem is usually stated as follows: \"What operating detection range can be achieved with a given source intensity, atmospheric attenuation, and sensor sensitivity?\"  \n",
      "The inband irradiance is given by (Sec. 7.5)\n",
      "\n",
      "$$\n",
      "E_{\\cal S}=\\frac{v_{\\cal S} }{k \\,\\widehat{{\\cal R}}\\,Z_t\\,A_{1}}\n",
      "=\n",
      "\\int_{A_0} \\left(\n",
      "\\frac{1}{R_{01}^2}\n",
      "\\int_{0}^{\\infty}\n",
      " \\epsilon_{0\\lambda} L_{0\\lambda}\n",
      "\\,\\tau_{a\\lambda}(R) {\\cal S}_\\lambda\n",
      "d\\lambda\\right) dA_{0}\\,\\cos\\theta_0\n",
      "$$\n",
      "\n",
      "The objective is to solve for $R$ where the irradiance $E_{{\\cal S}}=E_{{\\cal S}\\theta}$ is at the threshold at which the range must be determined.  Normally, $E_{{\\cal S}\\theta}=SNR\\times NEE$ where the SNR is selected to yield a given probability of detection. \n",
      "\n",
      "Assuming a target smaller than the sensor field of view, and using the effective transmittance the above equation can be simplified to the form\n",
      "\n",
      "$$\n",
      "E_{{\\cal S}\\theta}=\\frac{I_{{\\cal S}} \\tau_{\\rm eff}(R)}{R^2}\n",
      "$$\n",
      "\n",
      "where $I_{{\\cal S}}$ is the source intensity. \n",
      "This equation can be solved is $\\tau_{\\rm eff}(R)$ is available in lookup table form.\n",
      "\n",
      "The [`ryutils.rangeEquation`](http://nelisw.github.io/pyradi-docs/_build/html/ryutils.html#pyradi.ryutils.rangeEquation) function solves the range equation for arbitrary transmittance vs range, with the equation given by\n",
      "\n",
      "$$\n",
      "E=\\frac{I_{{\\cal S}} \\tau_{\\rm eff}(R)}{R^n}\n",
      "$$\n",
      "\n",
      "where $E$ is the threshold irradiance in [W/m2], and $I$ is the intensity in [W/sr]. This range equation holds for\n",
      "the case where the target is smaller than the field of view.\n",
      "\n",
      "The range $R$ must be in [m], and $\\tau_a(R)$\n",
      "is calculated from a lookup table of atmospheric transmittance vs. range.\n",
      "The transmittance lookup table  can be calculated from the simple Bouguer law,\n",
      "or it can have any abritrary shape, provided it decreases with increasing range.\n",
      "The user supplies the lookup table in the form of an array of range values and\n",
      "an associated array of transmittance values.  The range values need not be on\n",
      "constant linear range increment.\n",
      "\n",
      "The parameter $n$\n",
      "\n",
      "* $n$=2 (default value) the general case of a radiating source   smaller than the field of view.\n",
      "\n",
      "* $n$=4 the special case of a laser rangefinder illuminating a splot smaller than the sensor field of view, viewed against the sky. In this case there  is an $R^2$ attenuation from the laser to the source and another $R^2$ attenuation from the source to the receiver, hence   $R^4$ overall.\n",
      "\n",
      "The function signature is:  \n",
      "    `rangeEquation(Intensity, Irradiance, rangeTab, tauTab, rangeGuess = 1, n = 2)`\n",
      "    \n",
      "- `Intensity (float or np.array[N,] or [N,1])`  in  [W/sr].\n",
      "- `Irradiance (float or np.array[N,] or [N,1])`  in  [W/m2].\n",
      "- `rangeTab (np.array[N,] or [N,1])`  range vector for tauTab lookup in [m].\n",
      "- `tauTab (np.array[N,] or [N,1])`   transmittance vector for lookup range in [m].\n",
      "- `rangeGuess (float)` starting value range estimate in [m] (optional).\n",
      "- `n (float)` range power (2 or 4) (optional).\n",
      "\n",
      "If the range solution is doubtful (e.g. not a trustworthy solution) the returned value is made negative.  The following example  attempts to solve the equation for three cases, only one of which provides a stable solution."
     ]
    },
    {
     "cell_type": "code",
     "collapsed": false,
     "input": [
      "import  numpy as np\n",
      "from scipy.interpolate import interp1d\n",
      "\n",
      "rangeTab = np.linspace(0, 10000, 1000)\n",
      "tauTab = np.exp(- 0.00015 * rangeTab)\n",
      "Intensity=200\n",
      "Irradiancetab=[10e-100, 10e-6, 10e-1]\n",
      "for Irradiance in Irradiancetab:\n",
      "    r = ryutils.rangeEquation(Intensity = Intensity, Irradiance = Irradiance, rangeTab = rangeTab,\n",
      "          tauTab = tauTab, rangeGuess = 1, n = 2)\n",
      "\n",
      "    #test the solution by calculating the irradiance at this range.\n",
      "    tauTable = interp1d(rangeTab, tauTab, kind = 'linear')\n",
      "\n",
      "    if np.abs(r[0]) < rangeTab[2]:\n",
      "        rr = rangeTab[2]\n",
      "        strError = \"Check range resolution in lookup table\"\n",
      "    elif np.abs(r[0]) > rangeTab[-1]:\n",
      "        rr = rangeTab[-1]\n",
      "        strError = \"Check maximum range in lookup table\"\n",
      "    else:\n",
      "        rr = r[0]\n",
      "        strError = \"\"\n",
      "\n",
      "    irrad = Intensity * tauTable(rr) / rr ** 2\n",
      "\n",
      "    print('Range equation solver with irradiance threshold of {} W/m2:'.format(Irradiance))\n",
      "    print('   intensity of {4} W/sr at range {0} m the irradiance is {1} W/m2, error is {2:.2e}. \\n{3}\\n'.format(\n",
      "        r[0],irrad, (irrad - Irradiance) / Irradiance, strError, Intensity))"
     ],
     "language": "python",
     "metadata": {},
     "outputs": [
      {
       "output_type": "stream",
       "stream": "stdout",
       "text": [
        "Range equation solver with irradiance threshold of 1e-99 W/m2:\n",
        "   intensity of 200 W/sr at range -11381.1289096 m the irradiance is 4.46260320297e-07 W/m2, error is 4.46e+92. \n",
        "Check maximum range in lookup table\n",
        "\n",
        "Range equation solver with irradiance threshold of 1e-05 W/m2:\n",
        "   intensity of 200 W/sr at range 3452.03409009 m the irradiance is 1e-05 W/m2, error is 1.19e-14. \n",
        "\n",
        "\n",
        "Range equation solver with irradiance threshold of 1.0 W/m2:\n",
        "   intensity of 200 W/sr at range -14.1271613694 m the irradiance is 0.497504247749 W/m2, error is -5.02e-01. \n",
        "Check range resolution in lookup table\n",
        "\n"
       ]
      }
     ],
     "prompt_number": 12
    },
    {
     "cell_type": "markdown",
     "metadata": {},
     "source": [
      "The next example plots the detection range for a missile given the threshold irradiance, viewing an aircraft with signature of 200W/sr, through an atmosphere with an attenuation coefficient of 0.15 km-1.   The graphs shows that when viewing the target through the atmosphere, an irradiance threshold (sensitivity) of 1 $\\mu$W/m$^2$ will provide a detection distance of 8 km. A missile with sensitivity of 0.1 $\\mu$W/m$^2$ provides a detection distance of 15 km.  The example shows that you need ten times better sensitivity to double the detection distance.  Increased detection distance comes at a tremendous cost!"
     ]
    },
    {
     "cell_type": "code",
     "collapsed": false,
     "input": [
      "import pyradi.ryutils as ryutils\n",
      "import pyradi.ryplot as ryplot\n",
      "import  numpy as np\n",
      "from scipy.interpolate import interp1d\n",
      "%matplotlib inline\n",
      "\n",
      "rangeTab = np.linspace(0, 100000, 1000)\n",
      "atmogamma = 0.00015\n",
      "tauTab = np.exp(- atmogamma * rangeTab)\n",
      "Intensity=200\n",
      "Irradiancetab=np.linspace(0.05e-6, 100e-6, 400)\n",
      "r = np.zeros((Irradiancetab.shape))\n",
      "for i,Irradiance in enumerate(Irradiancetab):\n",
      "    r[i] = ryutils.rangeEquation(Intensity = Intensity, Irradiance = Irradiance, rangeTab = rangeTab,\n",
      "          tauTab = tauTab, rangeGuess = 1, n = 2)\n",
      "\n",
      "p=ryplot.Plotter(1, 2, 1, figsize=(12,12))\n",
      "p.semilogX(1,Irradiancetab*1e6,r,'Range equation for 200 W/sr target through {} km-1 atmosphere'.format(atmogamma*1000.),\n",
      "      'Irradiance threshold [$\\mu$W/m2]','Detection range [m]');\n",
      "    "
     ],
     "language": "python",
     "metadata": {},
     "outputs": [
      {
       "metadata": {},
       "output_type": "display_data",
       "png": "[encoded data removed]",
       "text": [
        "<matplotlib.figure.Figure at 0xdfcac90>"
       ]
      }
     ],
     "prompt_number": 13
    },
    {
     "cell_type": "heading",
     "level": 2,
     "metadata": {},
     "source": [
      "Absolute humidity"
     ]
    },
    {
     "cell_type": "markdown",
     "metadata": {},
     "source": [
      "The [`ryutils.abshumidity`](http://nelisw.github.io/pyradi-docs/_build/html/ryutils.html#pyradi.ryutils.abshumidity) function  calculates atmopsheric absolute humidity [g/m3] for temperature in [K] between 248 K and 342 K. This function provides two similar equations, but with different constants.\n",
      "\n",
      "Atmospheric humidity is commonly expressed in relative humidity (RH). Relative humidity is the quantity of water vapor in the atmosphere, expressed as a percentage of the maximum absolute humidity.  The maximum absolute humidity is determined by the water-vapor partial pressure at the atmospheric temperature and is given by [this equation](http://www.vaisala.com/Vaisala%20Documents/Application%20notes/Humidity_Conversion_Formulas_B210973EN-D.pdf) (Equation 1 in the function):\n",
      "$$\n",
      "q=\\frac{1325.252}{T} 10^{7.5892(T - 273.15)/(T -32.44)},\n",
      "$$\n",
      "in units of [g/m$^3$] and temperature in [K]. This equation has an error of less than 1% over the range $-$20 $^\\circ$C to 0 $^\\circ$C, and less than 0.1% for the temperature range 0 $^\\circ$C to 50 $^\\circ$C. \n",
      "\n",
      "The [alternative equation](#http://www.see.ed.ac.uk/~shs/Climate%20change/Data%20sources/Humidity%20with%20altidude.pdf)  (Equation 1 in the function) is: \n",
      "$$\n",
      "q=\\frac{1324.37872}{T} \\exp[\n",
      "17.67*(T - 273.16)/(T - 29.66))\n",
      "$$\n",
      "\n",
      "The function signature is:\n",
      "    `abshumidity(T, equationSelect = 1)`  \n",
      "    \n",
      "- `temperature (np.array[N,] or [N,1])`  in  [K].\n",
      "- `equationSelect (int)` select the equation to be used.\n",
      "\n",
      "\n",
      "In this example the values from the equations are compared to [data from](http://rolfb.ch/tools/thtable.php?tmin=-25&tmax=50&tstep=5&hmin=10&hmax=100&hstep=10&acc=2&calculate=calculate):"
     ]
    },
    {
     "cell_type": "code",
     "collapsed": false,
     "input": [
      "import pyradi.ryplot as ryplot\n",
      "%matplotlib inline\n",
      "\n",
      "data=np.asarray([\n",
      "[   50  ,   82.78  ]   ,\n",
      "[   45  ,   65.25    ]   ,\n",
      "[   40  ,   50.98    ]   ,\n",
      "[   35  ,   39.47    ]   ,\n",
      "[   30  ,   30.26    ]   ,\n",
      "[   25  ,   22.97  ]   ,\n",
      "[   20  ,   17.24    ]   ,\n",
      "[   15  ,   12.8    ]   ,\n",
      "[   10  ,   9.38 ]   ,\n",
      "[   5   ,   6.79 ]   ,\n",
      "[   0   ,   4.85 ]   ,\n",
      "[   -5  ,   3.41 ]   ,\n",
      "[   -10 ,   2.36 ]   ,\n",
      "[   -15 ,   1.61 ]   ,\n",
      "[   -20 ,   1.08 ]   ,\n",
      "[   -25 ,   0.71 ] ])\n",
      "temperature = data[:,0]+273.15\n",
      "absh = ryutils.abshumidity(temperature).reshape(-1,1)\n",
      "data = np.hstack((data,absh))\n",
      "# absh = ryutils.abshumidity(temperature, 2).reshape(-1,1)\n",
      "# data = np.hstack((data,absh))\n",
      "data = np.hstack((data, 100 * np.reshape((data[:,1]-data[:,2])/data[:,2],(-1,1))))\n",
      "print('        deg C          Testvalue           Fn value       % Error')\n",
      "print(data)\n",
      "\n",
      "p=ryplot.Plotter(1, 2, 1, figsize=(12,6))\n",
      "p.plot(1,data[:,0].T, data[:,2].T,'Absolute humidity vs temperature','Temperature [$^\\circ$C]','Absolute humidity g/m$^3$]')\n",
      "p.plot(2,data[:,0].T, data[:,3].T,'\\% humidity error vs temperature','Temperature [$^\\circ$C]','\\% error')\n",
      "# p.saveFig('abshum.eps')\n",
      "\n",
      "\n",
      "#highest ever recorded absolute humidity was at dew point of 34C\n",
      "print('Highest recorded absolute humidity was {0}, dew point {1} deg C'.\\\n",
      "    format(ryutils.abshumidity(np.asarray([34 + 273.15]))[0],34))"
     ],
     "language": "python",
     "metadata": {},
     "outputs": [
      {
       "output_type": "stream",
       "stream": "stdout",
       "text": [
        "        deg C          Testvalue           Fn value       % Error\n",
        "[[  5.00000000e+01   8.27800000e+01   8.28288052e+01  -5.89229459e-02]\n",
        " [  4.50000000e+01   6.52500000e+01   6.53105744e+01  -9.27481918e-02]\n",
        " [  4.00000000e+01   5.09800000e+01   5.10475988e+01  -1.32422991e-01]\n",
        " [  3.50000000e+01   3.94700000e+01   3.95318519e+01  -1.56460806e-01]\n",
        " [  3.00000000e+01   3.02600000e+01   3.03161305e+01  -1.85150640e-01]\n",
        " [  2.50000000e+01   2.29700000e+01   2.30097997e+01  -1.72968594e-01]\n",
        " [  2.00000000e+01   1.72400000e+01   1.72744162e+01  -1.99232035e-01]\n",
        " [  1.50000000e+01   1.28000000e+01   1.28192871e+01  -1.50453884e-01]\n",
        " [  1.00000000e+01   9.38000000e+00   9.39702200e+00  -1.81142459e-01]\n",
        " [  5.00000000e+00   6.79000000e+00   6.79913283e+00  -1.34323439e-01]\n",
        " [  0.00000000e+00   4.85000000e+00   4.85173751e+00  -3.58120391e-02]\n",
        " [ -5.00000000e+00   3.41000000e+00   3.41141647e+00  -4.15215865e-02]\n",
        " [ -1.00000000e+01   2.36000000e+00   2.36126844e+00  -5.37186742e-02]\n",
        " [ -1.50000000e+01   1.61000000e+00   1.60720482e+00   1.73915730e-01]\n",
        " [ -2.00000000e+01   1.08000000e+00   1.07451558e+00   5.10408511e-01]\n",
        " [ -2.50000000e+01   7.10000000e-01   7.04731527e-01   7.47585870e-01]]\n",
        "Highest recorded absolute humidity was 37.517992995, dew point 34 deg C"
       ]
      },
      {
       "output_type": "stream",
       "stream": "stdout",
       "text": [
        "\n"
       ]
      },
      {
       "metadata": {},
       "output_type": "display_data",
       "png": "[encoded data removed]",
       "text": [
        "<matplotlib.figure.Figure at 0x6f21cf0>"
       ]
      }
     ],
     "prompt_number": 14
    },
    {
     "cell_type": "heading",
     "level": 2,
     "metadata": {},
     "source": [
      "Transformation between polar and cartesian coordinates"
     ]
    },
    {
     "cell_type": "markdown",
     "metadata": {},
     "source": [
      "The \n",
      "[`ryutils.cart2polar`](http://nelisw.github.io/pyradi-docs/_build/html/ryutils.html#pyradi.ryutils.cart2polar)\n",
      "and\n",
      "[`ryutils.polar2cart`](http://nelisw.github.io/pyradi-docs/_build/html/ryutils.html#pyradi.ryutils.polar2cart)\n",
      "provides conversion between polar and cartesian coordinates.\n",
      "\n",
      "The [`ryutils.cart2polar`](http://nelisw.github.io/pyradi-docs/_build/html/ryutils.html#pyradi.ryutils.cart2polar)\n",
      "function signature:\n",
      "\n",
      "    `cart2polar(x, y)`\n",
      "\n",
      "- `x (float np.array)` x values in array format.\n",
      "- `y (float np.array)` y values in array format.\n",
      "\n",
      "returns\n",
      "\n",
      "- `r (float np.array)` radial component for given (x,y).\n",
      "- `theta (float np.array)` angular component for given (x,y).\n",
      "\n",
      "\n",
      "The [`ryutils.polar2cart`](http://nelisw.github.io/pyradi-docs/_build/html/ryutils.html#pyradi.ryutils.polar2cart)\n",
      "function signature:\n",
      "\n",
      "    `polar2cart(r, theta)`\n",
      "\n",
      "- `r (float np.array)` radial values in array format.\n",
      "- `theta (float np.array)` angular values in array format.\n",
      "\n",
      "returns\n",
      "\n",
      "- `x (float np.array)` x component for given (r, theta).\n",
      "- `y (float np.array)` y component for given (r, theta).\n",
      "\n",
      "This transformation code was written by [Joe Kington](https://stackoverflow.com/questions/3798333/image-information-along-a-polar-coordinate-system)."
     ]
    },
    {
     "cell_type": "code",
     "collapsed": false,
     "input": [
      "import pyradi.ryutils as ryutils\n",
      "import numpy as np\n",
      "\n",
      "r, t = ryutils.cart2polar(5, 5)\n",
      "x, y = ryutils.polar2cart(r, t)\n",
      "print('{} {} -> {} {}'.format(x, y, r, t))\n",
      "\n",
      "r, t = ryutils.cart2polar(np.asarray([3, 5]), np.asarray([5, 3]))\n",
      "x, y = ryutils.polar2cart(r, t)\n",
      "print('{} {} -> {} {}'.format(x, y, r, t))\n",
      "\n",
      "r, t = ryutils.cart2polar(np.asarray([[3, 5], [5, 3]]), np.asarray([[5, 3], [3, 5]]))\n",
      "x, y = ryutils.polar2cart(r, t)\n",
      "print('{} {} -> {} {}'.format(x, y, r, t))"
     ],
     "language": "python",
     "metadata": {},
     "outputs": [
      {
       "output_type": "stream",
       "stream": "stdout",
       "text": [
        "5.0 5.0 -> 7.07106781187 0.785398163397\n",
        "[ 3.  5.] [ 5.  3.] -> [ 5.83095189  5.83095189] [ 1.03037683  0.5404195 ]\n",
        "[[ 3.  5.]\n",
        " [ 5.  3.]] [[ 5.  3.]\n",
        " [ 3.  5.]] -> [[ 5.83095189  5.83095189]\n",
        " [ 5.83095189  5.83095189]] [[ 1.03037683  0.5404195 ]\n",
        " [ 0.5404195   1.03037683]]\n"
       ]
      }
     ],
     "prompt_number": 15
    },
    {
     "cell_type": "heading",
     "level": 2,
     "metadata": {},
     "source": [
      "Calculating coordinate index arrays for a Numpy array"
     ]
    },
    {
     "cell_type": "markdown",
     "metadata": {},
     "source": [
      "The \n",
      "[`ryutils.index_coords`](http://nelisw.github.io/pyradi-docs/_build/html/ryutils.html#pyradi.ryutils.index_coords) function calculates zero-based (x,y) coordinate arrrays for a numpy array indices, relative to some origin.\n",
      "\n",
      "This function calculates two meshgrid arrays containing the coordinates of the \n",
      "input array.  The origin of the new coordinate system  defaults to the \n",
      "center of the image, unless the user supplies a new origin. \n",
      "\n",
      "The data format can be data.shape = (rows, cols, frames) or \n",
      "data.shape = (frames, rows, cols), the format of which is indicated by the \n",
      "framesFirst parameter.\n",
      "\n",
      "The function signature is:\n",
      "\n",
      "    `index_coords(data, origin=None, framesFirst=True)`\n",
      "\n",
      "- `data (np.array)` array for which coordinates must be calculated.\n",
      "- `origin ( (x-orig, y-orig) )` data-coordinates of where origin should be\n",
      "- `framesFirst (bool)` True if data.shape is (frames, rows, cols), False if data.shape is (rows, cols, frames)\n",
      "\n",
      "returns\n",
      "\n",
      "- `x (float np.array)` x coordinates in array format.\n",
      "- `y (float np.array)` y coordinates in array format.\n",
      "\n",
      "This transformation code was originally written by [Joe Kington](https://stackoverflow.com/questions/3798333/image-information-along-a-polar-coordinate-system)."
     ]
    },
    {
     "cell_type": "markdown",
     "metadata": {},
     "source": [
      "The following example demonstrates the variations obtained for frames first or frames last, and the location of the origin."
     ]
    },
    {
     "cell_type": "code",
     "collapsed": false,
     "input": [
      "import pyradi.ryutils as ryutils\n",
      "import numpy as np\n",
      "\n",
      "data = np.ones([2, 3, 4])\n",
      "\n",
      "x, y = ryutils.index_coords(data, origin=None, framesFirst=True)\n",
      "print('framesFirst=True, origin=None')\n",
      "print('x={}\\ny={}'.format(x,y))\n",
      "    \n",
      "x, y = ryutils.index_coords(data, origin=None, framesFirst=False)\n",
      "print('\\nframesFirst=False, origin=None')\n",
      "print('x={}\\ny={}'.format(x,y))\n",
      "   \n",
      "x, y = ryutils.index_coords(data, origin=(0,0), framesFirst=True)\n",
      "print('\\nframesFirst=True, origin=(0,0)')\n",
      "print('x={}\\ny={}'.format(x,y))\n",
      "\n",
      "x, y = ryutils.index_coords(data, origin=(3,2), framesFirst=True)\n",
      "print('\\nframesFirst=True, origin=(3,2)')\n",
      "print('x={}\\ny={}'.format(x,y))\n",
      "    "
     ],
     "language": "python",
     "metadata": {},
     "outputs": [
      {
       "output_type": "stream",
       "stream": "stdout",
       "text": [
        "framesFirst=True, origin=None\n",
        "x=[[-2 -1  0  1]\n",
        " [-2 -1  0  1]\n",
        " [-2 -1  0  1]]\n",
        "y=[[-1 -1 -1 -1]\n",
        " [ 0  0  0  0]\n",
        " [ 1  1  1  1]]\n",
        "\n",
        "framesFirst=False, origin=None\n",
        "x=[[-1  0  1]\n",
        " [-1  0  1]]\n",
        "y=[[-1 -1 -1]\n",
        " [ 0  0  0]]\n",
        "\n",
        "framesFirst=True, origin=(0,0)\n",
        "x=[[0 1 2 3]\n",
        " [0 1 2 3]\n",
        " [0 1 2 3]]\n",
        "y=[[0 0 0 0]\n",
        " [1 1 1 1]\n",
        " [2 2 2 2]]\n",
        "\n",
        "framesFirst=True, origin=(3,2)\n",
        "x=[[-3 -2 -1  0]\n",
        " [-3 -2 -1  0]\n",
        " [-3 -2 -1  0]]\n",
        "y=[[-2 -2 -2 -2]\n",
        " [-1 -1 -1 -1]\n",
        " [ 0  0  0  0]]\n"
       ]
      }
     ],
     "prompt_number": 16
    },
    {
     "cell_type": "heading",
     "level": 2,
     "metadata": {},
     "source": [
      "Latex utilities"
     ]
    },
    {
     "cell_type": "heading",
     "level": 3,
     "metadata": {},
     "source": [
      "LaTeX code for EPS graphic inclusion "
     ]
    },
    {
     "cell_type": "markdown",
     "metadata": {},
     "source": [
      "The [`ryfiles.epsLaTexFigure`](http://nelisw.github.io/pyradi-docs/_build/html/ryfiles.html#pyradi.ryfiles.epsLaTexFigure)\n",
      "function writes the LaTeX code to include an eps graphic as a latex figure. The text is added to an existing file.\n",
      "\n",
      "The function signature is:\n",
      "    `epsLaTexFigure(filename, epsname, caption, scale, filemode='a')`\n",
      "\n",
      "- `fname (string)` text writing output path and filename.\n",
      "- `epsname (string)` filename/path to eps file (relative to where the LaTeX document is built).\n",
      "- `caption (string)` figure caption.\n",
      "- `scale (double)` figure scale to textwidth [0..1].\n",
      "- `filemode (string)` file open mode (a=append, w=new file) (optional)."
     ]
    },
    {
     "cell_type": "code",
     "collapsed": false,
     "input": [
      "ryfiles.epsLaTexFigure('eps.tex', 'picture.eps', 'This is the caption', 0.75,'w')\n",
      "\n",
      "import os.path    \n",
      "if os.path.sep == '/':\n",
      "    !cat eps.tex\n",
      "else:\n",
      "    !type eps.tex"
     ],
     "language": "python",
     "metadata": {},
     "outputs": [
      {
       "output_type": "stream",
       "stream": "stdout",
       "text": [
        "\\begin{figure}[tb]\n",
        "\\centering\n",
        "\\resizebox{0.75\\textwidth}{!}{\\includegraphics{eps/picture.eps}}\n",
        "\\caption{This is the caption. \\label{fig:picture}}\n",
        "\\end{figure}\n",
        "\n",
        "\n"
       ]
      }
     ],
     "prompt_number": 17
    },
    {
     "cell_type": "heading",
     "level": 3,
     "metadata": {},
     "source": [
      "Numpy arrays in LaTeX code"
     ]
    },
    {
     "cell_type": "markdown",
     "metadata": {},
     "source": [
      "The [`ryfiles.arrayToLaTex`](http://nelisw.github.io/pyradi-docs/_build/html/ryfiles.html#pyradi.ryfiles.arrayToLaTex)\n",
      "function writes a numpy array to latex table format in output file.\n",
      "The table can contain only the array data (no top header or\n",
      "left column side-header), or you can add either or both of the\n",
      "top row or side column headers. Leave 'header' or 'leftcol' as\n",
      "None is you don't want these.\n",
      "\n",
      "The output format of the array data can be specified, i.e.\n",
      "scientific notation or fixed decimal point.\n",
      "\n",
      "The function signature is:\n",
      "    `arrayToLaTex(filename, arr, header=None, leftCol=None,formatstring='%1.4e', filemode='wt')`\n",
      "    \n",
      "- `fname (string)` text writing output path and filename.\n",
      "- `arr (np.array[N,M])` array with table data.\n",
      "- `header (string)` column header in final latex format (optional).\n",
      "- `leftCol ([string])` left column each row, in final latex format (optional).\n",
      "- `formatstring (string)` output format precision for array data (see [numpy.savetxt](http://docs.scipy.org/doc/numpy/reference/generated/numpy.savetxt.html)) (optional).\n",
      "- `filemode (string)` file open mode (a=append, w=new file)    (optional). \n",
      "\n",
      "With \\usepackage{siunitx} you can use the siunitx `\\num` formatter to format the output."
     ]
    },
    {
     "cell_type": "code",
     "collapsed": false,
     "input": [
      "arr = np.asarray([[1.0,2,3],[4,5,6],[7,8,9]])\n",
      "ryfiles.arrayToLaTex('array.tex', arr)\n",
      "ryfiles.arrayToLaTex('array.tex', arr, formatstring='%.1f',filemode='a')\n",
      "headeronly = 'Col1 & Col2 & Col3'\n",
      "ryfiles.arrayToLaTex('array.tex', arr, headeronly, formatstring='%.3f',filemode='a')\n",
      "header = 'Col 1 & Col 2 & Col 3'\n",
      "leftcol = ['XX','Row 1','Row 2','Row 3']\n",
      "ryfiles.arrayToLaTex('array.tex', arr, header, leftcol, formatstring=r'\\num{%.6e}',filemode='a')\n",
      "\n",
      "import os.path    \n",
      "if os.path.sep == '/':\n",
      "    !cat array.tex\n",
      "else:\n",
      "    !type array.tex"
     ],
     "language": "python",
     "metadata": {},
     "outputs": [
      {
       "output_type": "stream",
       "stream": "stdout",
       "text": [
        "\\begin{tabular}{ |c|c|c| }\n",
        "\\hline\n",
        "1.0000e+00&2.0000e+00&3.0000e+00\\\\\n",
        "4.0000e+00&5.0000e+00&6.0000e+00\\\\\n",
        "7.0000e+00&8.0000e+00&9.0000e+00\\\\\n",
        "\\hline\n",
        "\\end{tabular}\n",
        "\n",
        "\\begin{tabular}{ |c|c|c| }\n",
        "\\hline\n",
        "1.0&2.0&3.0\\\\\n",
        "4.0&5.0&6.0\\\\\n",
        "7.0&8.0&9.0\\\\\n",
        "\\hline\n",
        "\\end{tabular}\n",
        "\n",
        "\\begin{tabular}{ |c|c|c| }\n",
        "\\hline\n",
        "Col1 & Col2 & Col3\\\\\\hline\n",
        "1.000&2.000&3.000\\\\\n",
        "4.000&5.000&6.000\\\\\n",
        "7.000&8.000&9.000\\\\\n",
        "\\hline\n",
        "\\end{tabular}\n",
        "\n",
        "\\begin{tabular}{ |c|c|c|c| }\n",
        "\\hline\n",
        "XX & Col 1 & Col 2 & Col 3\\\\\\hline\n",
        "Row 1&\\num{1.000000e+00}&\\num{2.000000e+00}&\\num{3.000000e+00}\\\\\n",
        "Row 2&\\num{4.000000e+00}&\\num{5.000000e+00}&\\num{6.000000e+00}\\\\\n",
        "Row 3&\\num{7.000000e+00}&\\num{8.000000e+00}&\\num{9.000000e+00}\\\\\n",
        "\\hline\n",
        "\\end{tabular}\n",
        "\n"
       ]
      }
     ],
     "prompt_number": 18
    },
    {
     "cell_type": "heading",
     "level": 3,
     "metadata": {},
     "source": [
      "Upright micro symbol in LaTeX"
     ]
    },
    {
     "cell_type": "markdown",
     "metadata": {},
     "source": [
      "The [`ryutils.upMu`](http://nelisw.github.io/pyradi-docs/_build/html/ryutils.html#pyradi.ryutils.upMu)\n",
      "function returns an upright $\\mu$ symbol, as required in the SI system for the $10^{-6}$ prefix. \n",
      "\n",
      "The upright symbol requires that the siunitx LaTeX package be installed on the computer running the code.  This function also changes the Matplotlib rcParams file.  This symbol can be used in graphs or text.\n",
      "\n",
      "The function signature is:   \n",
      "    `upMu(uprightMu=True, textcomp=False)`\n",
      "\n",
      "- `uprightMu (bool)` signals upright (True, default) or regular (False) symbol (optional).\n",
      "- `textcomp (bool)` if True use the textcomp package, else use siunitx package (optional).\n",
      "\n",
      "The [`ryutils.upMu`](http://nelisw.github.io/pyradi-docs/_build/html/ryutils.html#pyradi.ryutils.upMu) function returns a string with LaTeX code for the micro symbol.\n"
     ]
    },
    {
     "cell_type": "code",
     "collapsed": false,
     "input": [
      "import pyradi.ryutils as ryutils\n",
      "print('Using siunitx package:')\n",
      "print('{} renders in LaTeX as an upright symbol'.format(ryutils.upMu()))\n",
      "print('{} renders in LaTeX as an upright symbol'.format(ryutils.upMu(True)))\n",
      "print('{} renders in LaTeX as an italic/slanted symbol'.format(ryutils.upMu(False)))\n",
      "print('\\nUsing textcomp package:')\n",
      "print('{} renders in LaTeX as an upright symbol'.format(ryutils.upMu(textcomp=True)))\n",
      "print('{} renders in LaTeX as an upright symbol'.format(ryutils.upMu(True,textcomp=True)))\n",
      "print('{} renders in LaTeX as an italic/slanted symbol'.format(ryutils.upMu(False,textcomp=True)))\n"
     ],
     "language": "python",
     "metadata": {},
     "outputs": [
      {
       "output_type": "stream",
       "stream": "stdout",
       "text": [
        "Using siunitx package:\n",
        "\\si{\\micro} renders in LaTeX as an upright symbol\n",
        "\\si{\\micro} renders in LaTeX as an upright symbol\n",
        "$\\mu$ renders in LaTeX as an italic/slanted symbol\n",
        "\n",
        "Using textcomp package:\n",
        "\\textmu{} renders in LaTeX as an upright symbol\n",
        "\\textmu{} renders in LaTeX as an upright symbol\n",
        "$\\mu$ renders in LaTeX as an italic/slanted symbol\n"
       ]
      }
     ],
     "prompt_number": 19
    },
    {
     "cell_type": "heading",
     "level": 3,
     "metadata": {},
     "source": [
      " Create clean filenames"
     ]
    },
    {
     "cell_type": "markdown",
     "metadata": {},
     "source": [
      "The [`ryfiles.cleanFilename`](http://nelisw.github.io/pyradi-docs/_build/html/ryfiles.html#pyradi.ryfiles.cleanFilename)\n",
      "function cleans a string by removing selected characters.  It creates a legal and 'clean' source string from a string by removing some \n",
      "clutter and  characters not allowed in filenames.     A default set is given but the user can override the default string.\n",
      "\n",
      "The function signature is:\n",
      "    `cleanFilename(sourcestring,  removestring =\" %:/,.\\\\[]\")`\n",
      "    \n",
      "- `sourcestring (string)` the string to be cleaned.\n",
      "- `removestring (string)` remove all these characters from the string (optional).\n",
      "   \n",
      "It is quite useful to use a figure caption as filename, first cleaning it up.   "
     ]
    },
    {
     "cell_type": "code",
     "collapsed": false,
     "input": [
      "print ('\\nTest CleanFilename function:')\n",
      "inString=\"aa bb%cc:dd/ee,ff.gg\\\\hh[ii]jj\"\n",
      "print('{0}\\n{1}\\n'.format(inString, ryfiles.cleanFilename(inString) ))\n",
      "inString=\"aa bb%cc:dd/ee,ff.gg\\\\hh[ii]jj\"\n",
      "print('{0}\\n{1}'.format(inString, ryfiles.cleanFilename(inString, \"abcd\") ))"
     ],
     "language": "python",
     "metadata": {},
     "outputs": [
      {
       "output_type": "stream",
       "stream": "stdout",
       "text": [
        "\n",
        "Test CleanFilename function:\n",
        "aa bb%cc:dd/ee,ff.gg\\hh[ii]jj\n",
        "aabbccddeeffgghhiijj\n",
        "\n",
        "aa bb%cc:dd/ee,ff.gg\\hh[ii]jj\n",
        " %:/ee,ff.gg\\hh[ii]jj\n"
       ]
      }
     ],
     "prompt_number": 20
    },
    {
     "cell_type": "heading",
     "level": 2,
     "metadata": {},
     "source": [
      "Reading two-dimensional lookup tables"
     ]
    },
    {
     "cell_type": "markdown",
     "metadata": {},
     "source": [
      "The [`ryfiles.read2DLookupTable`](http://nelisw.github.io/pyradi-docs/_build/html/ryfiles.html#pyradi.ryfiles.read2DLookupTable)\n",
      "Reads a 2D lookup table and extract the data. The table has the following format:\n",
      "\n",
      "    line 1: xlabel ylabel title\n",
      "    line 2: 0 (vector of y (col) abscissa)\n",
      "    lines 3 and following: (element of x (row) abscissa), followed\n",
      "    by table data.\n",
      "\n",
      "From line/row 3 onwards the first element is the x abscissa value\n",
      "followed by the row of data, one point for each y abscissa value.\n",
      "\n",
      "The file format can depicted as follows:\n",
      "\n",
      "    x-name y-name ordinates-name\n",
      "    0 y1 y2 y3 y4\n",
      "    x1 v11 v12 v13 v14\n",
      "    x2 v21 v22 v23 v24\n",
      "    x3 v31 v32 v33 v34\n",
      "    x4 v41 v42 v43 v44\n",
      "    x5 v51 v52 v53 v54\n",
      "    x6 v61 v62 v63 v64\n",
      "\n",
      "The function has the signature:\n",
      "\n",
      "    `read2DLookupTable(filename)`\n",
      "    \n",
      "- `fname (string)` input path and filename    \n",
      "\n",
      "The function returns the following:\n",
      "\n",
      "- `xVec ((np.array[N]))` x abscissae\n",
      "- `yVec ((np.array[M]))` y abscissae\n",
      "- `data ((np.array[N,M]))` data corresponding the x,y\n",
      "- `xlabel (string)` x abscissa label\n",
      "- `ylabel (string)` y abscissa label\n",
      "- `title (string)` dataset title\n"
     ]
    },
    {
     "cell_type": "code",
     "collapsed": false,
     "input": [
      "filecont = ['x-name y-name ordinates-name\\n',\n",
      "'0 1   2   3  4\\n',\n",
      "'10 11 12 13 14\\n',\n",
      "'20 21 22 23 24\\n',\n",
      "'30 31 32 33 34\\n',\n",
      "'40 41 42 43 44\\n',\n",
      "'50 51 52 53 54\\n',\n",
      "'60 61 62 63 64\\n']\n",
      "\n",
      "with open('2dfile.dat', 'wt') as f:\n",
      "    f.writelines(filecont)\n",
      "\n",
      "import os.path    \n",
      "if os.path.sep == '/':\n",
      "    !cat 2dfile.dat\n",
      "else:\n",
      "    !type 2dfile.dat    \n",
      "    \n",
      "xVec,yVec,data,xlabel, ylabel, title = ryfiles.read2DLookupTable('2dfile.dat')\n",
      "print('\\n')\n",
      "print('xVec={}'.format(xVec))\n",
      "print('yVec={}'.format(yVec))\n",
      "print('data={}'.format(data))\n",
      "print('xlabel={}'.format(xlabel))\n",
      "print('ylabel={}'.format(ylabel))\n",
      "print('title={}'.format(title))"
     ],
     "language": "python",
     "metadata": {},
     "outputs": [
      {
       "output_type": "stream",
       "stream": "stdout",
       "text": [
        "x-name y-name ordinates-name\n",
        "0 1   2   3  4\n",
        "10 11 12 13 14\n",
        "20 21 22 23 24\n",
        "30 31 32 33 34\n",
        "40 41 42 43 44\n",
        "50 51 52 53 54\n",
        "60 61 62 63 64\n",
        "\n",
        "\n",
        "xVec=[ 10.  20.  30.  40.  50.  60.]\n",
        "yVec=[ 1.  2.  3.  4.]\n",
        "data=[[ 11.  12.  13.  14.]\n",
        " [ 21.  22.  23.  24.]\n",
        " [ 31.  32.  33.  34.]\n",
        " [ 41.  42.  43.  44.]\n",
        " [ 51.  52.  53.  54.]\n",
        " [ 61.  62.  63.  64.]]\n",
        "xlabel=x-name\n",
        "ylabel=y-name\n",
        "title=ordinates-name\n"
       ]
      }
     ],
     "prompt_number": 21
    },
    {
     "cell_type": "heading",
     "level": 2,
     "metadata": {},
     "source": [
      "ToDo"
     ]
    },
    {
     "cell_type": "markdown",
     "metadata": {},
     "source": [
      "`saveHeaderArrayTextFile', 'loadColumnTextFile', 'loadHeaderTextFile`"
     ]
    },
    {
     "cell_type": "heading",
     "level": 2,
     "metadata": {},
     "source": [
      "Python and [module versions, and dates](http://nbviewer.ipython.org/github/jrjohansson/scientific-python-lectures/blob/master/Lecture-0-Scientific-Computing-with-Python.ipynb)"
     ]
    },
    {
     "cell_type": "code",
     "collapsed": false,
     "input": [
      "%load_ext version_information\n",
      "%version_information numpy, scipy, matplotlib, pyradi"
     ],
     "language": "python",
     "metadata": {},
     "outputs": [
      {
       "html": [
        "<table><tr><th>Software</th><th>Version</th></tr><tr><td>Python</td><td>2.7.8 32bit [MSC v.1500 32 bit (Intel)]</td></tr><tr><td>IPython</td><td>2.4.1</td></tr><tr><td>OS</td><td>Windows 7 6.1.7601 SP1</td></tr><tr><td>numpy</td><td>1.9.1</td></tr><tr><td>scipy</td><td>0.15.1</td></tr><tr><td>matplotlib</td><td>1.4.3</td></tr><tr><td>pyradi</td><td>0.1.55</td></tr><tr><td colspan='2'>Sat Mar 21 18:55:37 2015 South Africa Standard Time</td></tr></table>"
       ],
       "json": [
        "{\"Software versions\": [{\"version\": \"2.7.8 32bit [MSC v.1500 32 bit (Intel)]\", \"module\": \"Python\"}, {\"version\": \"2.4.1\", \"module\": \"IPython\"}, {\"version\": \"Windows 7 6.1.7601 SP1\", \"module\": \"OS\"}, {\"version\": \"1.9.1\", \"module\": \"numpy\"}, {\"version\": \"0.15.1\", \"module\": \"scipy\"}, {\"version\": \"1.4.3\", \"module\": \"matplotlib\"}, {\"version\": \"0.1.55\", \"module\": \"pyradi\"}]}"
       ],
       "latex": [
        "\\begin{tabular}{|l|l|}\\hline\n",
        "{\\bf Software} & {\\bf Version} \\\\ \\hline\\hline\n",
        "Python & 2.7.8 32bit [MSC v.1500 32 bit (Intel)] \\\\ \\hline\n",
        "IPython & 2.4.1 \\\\ \\hline\n",
        "OS & Windows 7 6.1.7601 SP1 \\\\ \\hline\n",
        "numpy & 1.9.1 \\\\ \\hline\n",
        "scipy & 0.15.1 \\\\ \\hline\n",
        "matplotlib & 1.4.3 \\\\ \\hline\n",
        "pyradi & 0.1.55 \\\\ \\hline\n",
        "\\hline \\multicolumn{2}{|l|}{Sat Mar 21 18:55:37 2015 South Africa Standard Time} \\\\ \\hline\n",
        "\\end{tabular}\n"
       ],
       "metadata": {},
       "output_type": "pyout",
       "prompt_number": 23,
       "text": [
        "Software versions\n",
        "Python 2.7.8 32bit [MSC v.1500 32 bit (Intel)]\n",
        "IPython 2.4.1\n",
        "OS Windows 7 6.1.7601 SP1\n",
        "numpy 1.9.1\n",
        "scipy 0.15.1\n",
        "matplotlib 1.4.3\n",
        "pyradi 0.1.55\n",
        "Sat Mar 21 18:55:37 2015 South Africa Standard Time"
       ]
      }
     ],
     "prompt_number": 23
    },
    {
     "cell_type": "code",
     "collapsed": false,
     "input": [],
     "language": "python",
     "metadata": {},
     "outputs": [],
     "prompt_number": 22
    }
   ],
   "metadata": {}
  }
 ]
}