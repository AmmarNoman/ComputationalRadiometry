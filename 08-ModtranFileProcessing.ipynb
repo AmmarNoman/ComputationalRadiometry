{
 "cells": [
  {
   "cell_type": "markdown",
   "metadata": {},
   "source": [
    " # 8 Modtran File Processing\n",
    " \n",
    "This notebook forms part of a series on [computational optical radiometry](https://github.com/NelisW/ComputationalRadiometry#computational-optical-radiometry-with-pyradi).  The notebooks can be downloaded from [Github](https://github.com/NelisW/ComputationalRadiometry#computational-optical-radiometry-with-pyradi). These notebooks are constantly revised and updated, please revisit from time to time.  \n",
    " \n",
    " [<img src=\"https://zenodo.org/badge/doi/10.5281/zenodo.9910.png\"   align=\"left\"/>](http://dx.doi.org/10.5281/zenodo.9910)\n",
    " \n",
    " The date of this document and module versions used in this document are given at the end of the file.  \n",
    " Feedback is appreciated: neliswillers at gmail dot com.\n",
    " "
   ]
  },
  {
   "cell_type": "markdown",
   "metadata": {},
   "source": [
    "## Overview\n",
    "\n",
    " The pyradi library has a module to handle Modtran files.  The module currently has only one function: to read Modtran tape7 files in an intelligent manner.  The function is [`rymodtran.loadtape7`](http://nelisw.github.io/pyradi-docs/_build/html/rymodtran.html#pyradi.rymodtran.loadtape7).\n"
   ]
  },
  {
   "cell_type": "code",
   "execution_count": 1,
   "metadata": {},
   "outputs": [],
   "source": [
    "get_ipython().run_line_magic('matplotlib', 'inline')\n",
    "import numpy as np\n",
    "import pyradi.ryfiles as ryfiles\n",
    "import pyradi.ryplot as ryplot\n",
    "import pyradi.rymodtran as rymodtran\n",
    "import pyradi.ryutils as ryutils\n",
    "\n",
    "from IPython.display import display\n",
    "from IPython.display import Image\n",
    "from IPython.display import HTML\n",
    "\n",
    "import matplotlib as mpl\n",
    "mpl.rc(\"savefig\", dpi=300)\n",
    "mpl.rc('figure', figsize=(10,8))\n",
    "# %config InlineBackend.figure_format = 'svg'\n",
    "\n",
    "# import pandas as pd\n",
    "# pd.set_option('display.max_columns', 80)\n",
    "# pd.set_option('display.width', 100)\n",
    "# pd.set_option('display.max_colwidth', 150)\n"
   ]
  },
  {
   "cell_type": "markdown",
   "metadata": {},
   "source": [
    "\n",
    "## Loading Tape7 Files\n",
    "\n",
    "This function reads in the tape7 file from MODerate spectral resolution atmospheric TRANsmission ([MODTRAN](http://modtran5.com/)) code, that is used to model the propagation of the electromagnetic radiation through the atmosphere. tape7 is a primary file that contains all the spectral results of the MODTRAN run. The header information in the tape7 file contains portions of the tape5 information that is ignored here. The header section in tape7 is followed by a list of spectral samples with corresponding transmissions. Each column has a different component of the transmission or radiance. For more detail, see the Modtran documentation.\n",
    "\n"
   ]
  },
  {
   "cell_type": "markdown",
   "metadata": {},
   "source": [
    "\n",
    "The user selects the appropriate columns by listing the column names, as\n",
    "listed below. The tape7.scn file has missing columns, so this function does not work for tape7.scn files.  If you need a tape7.scn file with all the columns populated\n",
    "you would have to use the regular tape7 file and convolve this to lower resolution.\n",
    "\n",
    "The format of the tape7 file changes for different IEMSCT values. For\n",
    "the most part the differences are hidden in the details, if the columns are read by column header and not by counting columns.  The various column headers used in the tape7 file are as follows:\n",
    "\n",
    "**IEMSCT = 0** has two lines of column headers.  In order to select the column, you\n",
    "must concatenate the two column headers with an underscore in between. All\n",
    "columns are available with the following column names:   \n",
    "\n",
    "`FREQ_CM-1`, `COMBIN_TRANS`, `H2O_TRANS`, `UMIX_TRANS`, `O3_TRANS`, `TRACE_TRANS`,\n",
    "`N2_CONT`, `H2O_CONT`, `MOLEC_SCAT`, `AER+CLD_TRANS`, `HNO3_TRANS`,\n",
    "`AER+CLD_abTRNS`, `-LOG_COMBIN`, `CO2_TRANS`, `CO_TRANS`, `CH4_TRANS`,\n",
    "`N2O_TRANS`, `O2_TRANS`, `NH3_TRANS`, `NO_TRANS`, `NO2_TRANS`,\n",
    "`SO2_TRANS`, `CLOUD_TRANS`, `CFC11_TRANS`, `CFC12_TRANS`, `CFC13_TRANS`,\n",
    "`CFC14_TRANS`, `CFC22_TRANS`, `CFC113_TRANS`, `CFC114_TRANS`,\n",
    "`CFC115_TRANS`, `CLONO2_TRANS`, `HNO4_TRANS`, `CHCL2F_TRANS`,\n",
    "`CCL4_TRANS`,  `N2O5_TRANS`\n",
    "\n",
    "**IEMSCT = 1** has single line of column headers. A number of columns have\n",
    "headers, but with no column numeric data.  In the following list the\n",
    "columns with header names `**` are empty in some runs:  \n",
    "\n",
    "`FREQ`,`TOT_TRANS`, `PTH_THRML`, `THRML_SCT`, `SURF_EMIS`, `*SOL_SCAT*`,\n",
    "`*SING_SCAT*`, `GRND_RFLT`, `*DRCT_RFLT*`, `TOTAL_RAD`, `*REF_SOL*`, `*SOL@OBS*`,\n",
    "`DEPTH`, `DIR_EM`, `*TOA_SUN*`, `BBODY_T[K]`\n",
    "\n",
    "Hence, these columns may not have valid data: \n",
    "`SOL_SCAT`, `SING_SCAT`, `DRCT_RFLT`, `REF_SOL`,`SOL@OBS`, `TOA_SUN`\n",
    "\n",
    "**IEMSCT = 2** has a single line column headers. All the columns are available:  \n",
    "\n",
    "`FREQ`, `TOT_TRANS`, `PTH_THRML`, `THRML_SCT`, `SURF_EMIS`, `SOL_SCAT`,\n",
    "`SING_SCAT`, `GRND_RFLT`, `DRCT_RFLT`, `TOTAL_RAD`, `REF_SOL`, `SOL@OBS`,\n",
    "`DEPTH`, `DIR_EM`, `TOA_SUN`, `BBODY_T[K]`\n",
    "\n",
    "**IEMSCT = 3** has a single line column headers.  One of these seems to be two\n",
    "words, which, in this code must be concatenated with an underscore. There\n",
    "is also  additional column (assumed to be depth in this code).  The\n",
    "columns available are  \n",
    "\n",
    "`FREQ`, `TRANS`, `SOL_TR`, `SOLAR`, `DEPTH`\n",
    "\n",
    "## Modtran Tape7 Reader Examples\n",
    "First prepare by importing and downloading the tape7 files from the internet.\n"
   ]
  },
  {
   "cell_type": "code",
   "execution_count": null,
   "metadata": {},
   "outputs": [],
   "source": [
    "get_ipython().system('dir')\n",
    "tgzFilename = 'modtrandata.tgz'\n",
    "destinationDir = '.'\n",
    "tarFilename = 'modtrandata.tar'\n",
    "url = 'https://raw.githubusercontent.com/NelisW/pyradi/master/pyradi/data/'\n",
    "dlNames = ryfiles.downloadUntar(tgzFilename, url, destinationDir, tarFilename)\n",
    "\n",
    "print('filesAvailable are {}'.format(dlNames))\n"
   ]
  },
  {
   "cell_type": "markdown",
   "metadata": {},
   "source": [
    "The function [`rymodtran.loadtape7`](http://nelisw.github.io/pyradi-docs/_build/html/rymodtran.html#pyradi.rymodtran.loadtape7) is relatively easy to use, with only two parameters: the filename and the specification of which columns to read (a list). In some instances (`IEMSCT == 0`) the column header is given over two lines, and your specification must include the information on both lines. This is done by concatenating the two parts with an underscore character as in `TRACE` and `TRANS` becoming `TRACE_TRANS`.\n",
    "\n",
    " **IEMSCT = 0**: this example loads data from five columns. Note the underscore to indicate that the column header flows over two lines.\n"
   ]
  },
  {
   "cell_type": "code",
   "execution_count": null,
   "metadata": {},
   "outputs": [],
   "source": [
    "tape7 = rymodtran.loadtape7(\"tape7-01\", ['FREQ_CM-1', 'COMBIN_TRANS', \n",
    "                                         'MOLEC_SCAT', 'AER+CLD_TRANS', \n",
    "                                         'AER+CLD_abTRNS'] )\n",
    "print(tape7.shape)\n"
   ]
  },
  {
   "cell_type": "markdown",
   "metadata": {},
   "source": [
    "The next example reads all the columns in the tape7 file:"
   ]
  },
  {
   "cell_type": "code",
   "execution_count": null,
   "metadata": {},
   "outputs": [],
   "source": [
    "tape7 = rymodtran.loadtape7(\"tape7-01\", ['FREQ_CM-1', 'COMBIN_TRANS', \n",
    "                                         'H2O_TRANS', 'UMIX_TRANS', \n",
    "                                         'O3_TRANS', 'TRACE_TRANS', \n",
    "                                         'N2_CONT', 'H2O_CONT', 'MOLEC_SCAT',\n",
    "                                         'AER+CLD_TRANS', 'HNO3_TRANS',\n",
    "                                         'AER+CLD_abTRNS', '-LOG_COMBIN', \n",
    "                                         'CO2_TRANS', 'CO_TRANS', 'CH4_TRANS',\n",
    "                                         'N2O_TRANS', 'O2_TRANS', 'NH3_TRANS',\n",
    "                                         'NO_TRANS', 'NO2_TRANS', 'SO2_TRANS',\n",
    "                                         'CLOUD_TRANS', 'CFC11_TRANS', \n",
    "                                         'CFC12_TRANS', 'CFC13_TRANS', \n",
    "                                         'CFC14_TRANS', 'CFC22_TRANS', \n",
    "                                         'CFC113_TRANS', 'CFC114_TRANS', \n",
    "                                         'CFC115_TRANS', 'CLONO2_TRANS', \n",
    "                                         'HNO4_TRANS', 'CHCL2F_TRANS', \n",
    "                                         'CCL4_TRANS', 'N2O5_TRANS'] )\n",
    "print(tape7.shape)\n"
   ]
  },
  {
   "cell_type": "code",
   "execution_count": null,
   "metadata": {},
   "outputs": [],
   "source": []
  },
  {
   "cell_type": "code",
   "execution_count": null,
   "metadata": {},
   "outputs": [],
   "source": []
  },
  {
   "cell_type": "code",
   "execution_count": null,
   "metadata": {},
   "outputs": [],
   "source": []
  }
 ],
 "metadata": {
  "kernelspec": {
   "display_name": "Python 3",
   "language": "python",
   "name": "python3"
  },
  "language_info": {
   "codemirror_mode": {
    "name": "ipython",
    "version": 3
   },
   "file_extension": ".py",
   "mimetype": "text/x-python",
   "name": "python",
   "nbconvert_exporter": "python",
   "pygments_lexer": "ipython3",
   "version": "3.7.1"
  }
 },
 "nbformat": 4,
 "nbformat_minor": 2
}
