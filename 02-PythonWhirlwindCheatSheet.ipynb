{
 "cells": [
  {
   "cell_type": "markdown",
   "metadata": {},
   "source": [
    "# 2 Python and Numpy whirlwind cheat sheet"
   ]
  },
  {
   "cell_type": "markdown",
   "metadata": {},
   "source": [
    "This notebook forms part of a series on [computational optical radiometry](https://github.com/NelisW/ComputationalRadiometry#computational-optical-radiometry-with-pyradi).  The notebooks can be downloaded from [Github](https://github.com/NelisW/ComputationalRadiometry#computational-optical-radiometry-with-pyradi). These notebooks are constantly revised and updated, please revisit from time to time.  \n",
    "\n",
    "\n",
    "[<img src=\"https://zenodo.org/badge/doi/10.5281/zenodo.9910.png\"   align=\"left\"/>](http://dx.doi.org/10.5281/zenodo.9910)\n"
   ]
  },
  {
   "cell_type": "markdown",
   "metadata": {},
   "source": [
    "The date of this document and module versions used in this document are given at the end of the file.  \n",
    "Feedback is appreciated: neliswillers at gmail dot com."
   ]
  },
  {
   "cell_type": "markdown",
   "metadata": {},
   "source": [
    "This notebook serves to give brief one-liner examples of key Python usage and idioms.\n",
    "The approach here is not to spend too much time on general Python constructs, but to move on to Numpy as soon as possible. Numpy is a critical base for any scientific calculation, providing powerful vectorised computation. I make no claim to any level of completeness in this document. You still need to read the books and reference manuals to get the big picture and the details. You still have to read the manuals, but this should help you move on to Numpy quickly.\n"
   ]
  },
  {
   "cell_type": "code",
   "execution_count": 1,
   "metadata": {
    "collapsed": false
   },
   "outputs": [],
   "source": [
    "from IPython.display import display\n",
    "from IPython.display import Image\n",
    "from IPython.display import HTML\n",
    "import numpy as np\n",
    "import os.path"
   ]
  },
  {
   "cell_type": "markdown",
   "metadata": {},
   "source": [
    "## The Zen of Python"
   ]
  },
  {
   "cell_type": "code",
   "execution_count": 2,
   "metadata": {
    "collapsed": false
   },
   "outputs": [
    {
     "name": "stdout",
     "output_type": "stream",
     "text": [
      "The Zen of Python, by Tim Peters\n",
      "\n",
      "Beautiful is better than ugly.\n",
      "Explicit is better than implicit.\n",
      "Simple is better than complex.\n",
      "Complex is better than complicated.\n",
      "Flat is better than nested.\n",
      "Sparse is better than dense.\n",
      "Readability counts.\n",
      "Special cases aren't special enough to break the rules.\n",
      "Although practicality beats purity.\n",
      "Errors should never pass silently.\n",
      "Unless explicitly silenced.\n",
      "In the face of ambiguity, refuse the temptation to guess.\n",
      "There should be one-- and preferably only one --obvious way to do it.\n",
      "Although that way may not be obvious at first unless you're Dutch.\n",
      "Now is better than never.\n",
      "Although never is often better than *right* now.\n",
      "If the implementation is hard to explain, it's a bad idea.\n",
      "If the implementation is easy to explain, it may be a good idea.\n",
      "Namespaces are one honking great idea -- let's do more of those!\n"
     ]
    }
   ],
   "source": [
    "import this"
   ]
  },
  {
   "cell_type": "markdown",
   "metadata": {},
   "source": [
    "## Python: What and Why"
   ]
  },
  {
   "cell_type": "markdown",
   "metadata": {},
   "source": [
    "10 years ago, Python was considered exotic in the analytics space – at best. Languages/packages like R and Matlab dominated the scene. Today, Python has become a major force in data analytics and visualization due to a number of characteristics:\n",
    "* __Multi-purpose__: prototyping, development, production, systems admin – one for all\n",
    "* __Libraries__: there is a library for almost any task or problem you face\n",
    "* __Efficiency__: speeds up IT development tasks for analytics applications\n",
    "* __Performance__: Python has evolved from a scripting language to a 'meta' language with bridges to all high performance environments (e.g. multi-core CPUs, GPUs, clusters)\n",
    "* __Interoperability__: Python integrates with almost any other language/ technology\n",
    "* __Interactivity__: Python allows domain experts to get closer to their business and financial data pools and to do real-time analytics\n",
    "* __Collaboration__: solutions like Wakari with IPython Notebook allow the easy sharing of code, data, results, graphics, etc.\n",
    "\n",
    "A fundamental Python stack for interactive data analytics and visualization should at least contain the following libraries tools:\n",
    "* __Python__ – the Python interpreter itself\n",
    "\n",
    "* __NumPy__ – high performance, flexible array structures and operations\n",
    "\n",
    "* __SciPy__ – scientific modules and functions (regression, optimization, integration)\n",
    "\n",
    "* __pandas__ – time series and panel data analysis and I/O\n",
    "\n",
    "* __PyTables__ – hierarchical, high performance database (e.g. for out-of-memory analytics)\n",
    "* __matplotlib__ – 2d and 3d visualization\n",
    "\n",
    "* __IPython__ – interactive data analytics, visualization, publishing\n",
    "\n",
    "\n",
    "![SciPy](images/scistack.png)"
   ]
  },
  {
   "cell_type": "markdown",
   "metadata": {},
   "source": [
    "## Python for scientific work (instead of using Matlab)"
   ]
  },
  {
   "cell_type": "markdown",
   "metadata": {},
   "source": [
    "Go make up your own mind:   \n",
    "<http://cyrille.rossant.net/why-using-python-for-scientific-computing/> why use Python?  \n",
    "<http://cyrille.rossant.net/tag/ipython/> Python weaknesses - a balanced view  \n",
    "<https://sites.google.com/site/pythonforscientists/python-vs-matlab>  \n",
    "<http://wiki.scipy.org/PerformancePython>  \n",
    "<http://phillipmfeldman.org/Python/Advantages_of_Python_Over_Matlab.html>   \n",
    "<http://www.stat.washington.edu/~hoytak/blog/whypython.html>  \n",
    "<https://vnoel.wordpress.com/2008/05/03/bye-matlab-hello-python-thanks-sage/>  \n",
    "<http://metarabbit.wordpress.com/2013/10/18/why-python-is-better-than-matlab-for-scientific-software/> has some compelling evidence of the growing momentum of Python for scientific work - scroll to the top of this post for a very interesting graph.  \n",
    "<https://github.com/jakevdp/2013_fall_ASTR599> Jake VanderPlas' comprehensive course for using Python for science, including using git and notebooks   \n",
    "<http://www-personal.umich.edu/~kundeng/stats607/week_5_pysci-03-scipy.pdf>  [nice presentation!]    \n",
    "<http://nbviewer.ipython.org/github/Tooblippe/ipython_csir_30may/blob/master/csir_ipython.ipynb>   "
   ]
  },
  {
   "cell_type": "code",
   "execution_count": 3,
   "metadata": {
    "collapsed": false
   },
   "outputs": [
    {
     "data": {
      "text/html": [
       "<img src=\"images/scope-python-matlab.svg\" width=450 height=300/>"
      ],
      "text/plain": [
       "<IPython.core.display.HTML object>"
      ]
     },
     "execution_count": 3,
     "metadata": {},
     "output_type": "execute_result"
    }
   ],
   "source": [
    "HTML('<img src=\"images/scope-python-matlab.svg\" width=450 height=300/>')"
   ]
  },
  {
   "cell_type": "code",
   "execution_count": 4,
   "metadata": {
    "collapsed": false
   },
   "outputs": [
    {
     "data": {
      "text/html": [
       "<iframe src=http://www.pyzo.org/python_vs_matlab.html  width=1000 height=200></iframe>"
      ],
      "text/plain": [
       "<IPython.core.display.HTML object>"
      ]
     },
     "execution_count": 4,
     "metadata": {},
     "output_type": "execute_result"
    }
   ],
   "source": [
    "HTML('<iframe src=http://www.pyzo.org/python_vs_matlab.html  width=1000 height=200></iframe>')\n"
   ]
  },
  {
   "cell_type": "markdown",
   "metadata": {},
   "source": [
    "## Installing Python"
   ]
  },
  {
   "cell_type": "markdown",
   "metadata": {},
   "source": [
    "The Python ecosystem comprises   \n",
    "- The Python core language that contains the language and standard library. You can see this as a minimal, but already powerful language package.\n",
    "- Specialist packages that you can install if and when required. One such specialist application would be science and engineering, which would require NumPy, SciPy, Matplotlib, and some other packages.\n",
    "\n",
    "You have two main options:  \n",
    "- Install the core Python package and then install the specialist packages manually.    \n",
    "- Load everything in one big installation <br><https://stackoverflow.com/questions/15762943/anaconda-vs-epd-enthought-vs-manual-installation-of-python)>    \n",
    " \n",
    "I would recommend the second option.  There are a number of fairly complete distributions, including:\n",
    "<https://store.continuum.io/cshop/anaconda/>  (my preferred distribution),  \n",
    "<https://www.enthought.com/products/epd/>,   \n",
    "<https://code.google.com/p/pythonxy/>,   \n",
    "<http://www.sagemath.org/>   (not very well known as a Python distribution).\n",
    "\n",
    "Which to install: Python 2.7.X or Python 3.X?   \n",
    "There are fundamental and breaking differences between the two versions, but for the most part you can do pretty much the same work in both versions.  2.7.X is an older version that will be phased out some time in future (2019).  3.X is the later version with significant improvements over 2.7.X.  If you have no compelling reason to use 2.7 (i.e., compatibility with some project), use 3.X. \n",
    "\n",
    "Which to install: 32-bit or 64-bit?  \n",
    "If you want to remain compatible with other 32-bit installation packages or linking in with other 32-bit binary code, you must install the 32-bit version.  If these restrictions do not apply, install the 64-bit version on a 64-bit PC.  \n",
    "\n"
   ]
  },
  {
   "cell_type": "markdown",
   "metadata": {},
   "source": [
    "### Installing Anaconda \n",
    "\n",
    "#### Python 3\n",
    "If you have no legacy Python 2.7 code, install [Anaconda for Python 3.X](https://www.continuum.io/downloads)\n",
    "\n",
    "#### Python 2\n",
    "If you for some reason do not want to install Python 3.X, install [Anaconda for Python 2.7](https://www.continuum.io/downloads).  But you should have a really good reason for this!\n",
    "\n",
    "\n",
    "http://conda.pydata.org/docs/test-drive.html\n",
    "\n",
    "https://youtu.be/UaIvrDWrIWM\n",
    "\n",
    "\n",
    "\n",
    "#### Multiple versions of  Python\n",
    "If you need to run both Python 2 and Python 3 code, consider using the conda environment infrastructure.\n",
    "\n",
    "The underlying principle here is that you create a thin root installation environment  that has the bare essentials to support conda and not much more.  You then create [conda environments](http://conda.pydata.org/docs/using/envs.html) where you can install full anaconda versions of the the appropriate Python revisions.  You do the real work in the environments by activating the environment before running the python and packages in that environment.  When you create environments in conda, it creates a more or less complete Python installation in the ..../envs/ directory in an existing miniconda or anaconda installation.  So the multiple versions are installed side by side.\n",
    "\n",
    "Activating an environment must be done in a command window; where the process of activation simply modifies the system level paths from the root environment to the newly activated environment.  The new environment is active in the present command window until the environment is deactivated, which means that the original paths to the Python folders are restored back to the root environment.\n",
    "\n",
    "It is recommended practice to keep a small root environment, solely as a tool to create new environments - all the real work is done in the specially created environments.  This is a means to control which package versions for development, testing and deployment.\n",
    "\n",
    "Install [miniconda](http://conda.pydata.org/miniconda.html) (either version 2 or 3). Note that the choice of which Miniconda is installed only affects the root environment. Regardless of which version of Miniconda you install, you can still install both Python 2.7.x and Python 3.x environments.  Then create environments for the versions you want to install  \n",
    "\n",
    "    conda create --name py27 python=2.7 anaconda\n",
    "    conda create --name py35 python=3.5 anaconda\n",
    "\n",
    "Activate the environment in a command window\n",
    "\n",
    "    activate py27\n",
    "\n",
    "Deactivate the environment in a command window\n",
    "\n",
    "    decativate\n",
    "sele\n",
    "List all environments\n",
    "\n",
    "    conda info --envs\n",
    "    conda env list\n",
    "\n",
    "List modules in current environment\n",
    "\n",
    "    conda list -e\n",
    "\n",
    "\n",
    "Search to see if a package is available in the anaconda repository (not your disk)\n",
    "\n",
    "    conda search numpy\n",
    "\n",
    "Update an environment by activating it first and then updating - but note that there are two methods:\n",
    "\n",
    "1. `conda update anaconda` - this command updates the anaconda meta-package as a list of packages tested against each other, known to work together.\n",
    "\n",
    "2.  `conda update --all`  - this command updates individual packages to the individual latest  versions, irrespective of compatibility status.   It is likely that these packages will work together, but it is not tested and verified.\n",
    "  \n",
    "        activate py27  \n",
    "        conda update anaconda\n",
    "\n",
    "        activate py35  \n",
    "        conda update anaconda\n",
    "\n",
    "After being used for a while, conda can accumulate a lot of disk space, because it doesn’t remove old unused packages.  To remove unused packages, run\n",
    "\n",
    "    conda clean -p\n",
    "\n",
    "To upgrade/update to a specfic new version of anaconda in one of the environments, run\n",
    "\n",
    "    deactivate\n",
    "    conda update conda\n",
    "    activate py27\n",
    "    conda install anaconda=2.4.1\n",
    "\n",
    "Conda loads the new environments in the `X:\\MinicondaX\\envs` folder, inside the base environment (unless you instructed it to install elsewhere).\n"
   ]
  },
  {
   "cell_type": "code",
   "execution_count": 5,
   "metadata": {
    "collapsed": false
   },
   "outputs": [
    {
     "data": {
      "text/html": [
       "<iframe src=http://conda.pydata.org/docs/_downloads/conda-cheatsheet.pdf  width=1000 height=400></iframe>"
      ],
      "text/plain": [
       "<IPython.core.display.HTML object>"
      ]
     },
     "execution_count": 5,
     "metadata": {},
     "output_type": "execute_result"
    }
   ],
   "source": [
    "HTML('<iframe src=http://conda.pydata.org/docs/_downloads/conda-cheatsheet.pdf  width=1000 height=400></iframe>')"
   ]
  },
  {
   "cell_type": "markdown",
   "metadata": {},
   "source": [
    "### Installing Anaconda on Linux\n"
   ]
  },
  {
   "cell_type": "markdown",
   "metadata": {},
   "source": [
    "Download the installer.\n",
    "In your terminal window type one of the below and follow the instructions:\n",
    "\n",
    "Python 2.7:\n",
    "\n",
    "    bash Anaconda2-4.0.0-Linux-x86_64.sh\n",
    "\n",
    "\n",
    "Python 3.x:\n",
    "\n",
    "    bash Anaconda3-4.0.0-Linux-x86_64.sh\n",
    "\n",
    "NOTE: Include the `bash` command even if you are not using the bash shell\n",
    "\n",
    "<https://www.continuum.io/downloads>"
   ]
  },
  {
   "cell_type": "markdown",
   "metadata": {},
   "source": [
    "### conda package versions and 'pinning'"
   ]
  },
  {
   "cell_type": "markdown",
   "metadata": {},
   "source": [
    "The most commonly-used packages are installed in the base `anaconda` install.  You may want to later install packages that are not part of the base installer, but are available in the `anaconda` library.\n",
    "\n",
    "This is done with the command (in this example case to install mayavi):\n",
    "\n",
    "    conda update conda\n",
    "    conda install mayavi\n",
    "\n",
    "The new package install will automatically also install all depencency packages.  Normally this is acceptable, but in some cases, the new package requires an earlier version of an already installed package - in which case the installed dependency package will downgrade the installed package to an older version.  This may cause problems if another application requires the later version.\n",
    "\n",
    "You can 'pin' package numbers to some release number to prevent automatic install changes to the release number, see [here](https://www.continuum.io/blog/developer/advanced-features-conda-part-1). If a package revision number is pinned, it will stay at the pinned revision, irrespective of all upgrade or dependency attempts to change it.\n",
    "\n",
    "The `--no-deps` flag prevent automatic changes/upgrade/downgrade of intalled package dependencies.  Note that this option will prevent and and all dependencies from downloading, so the newly installed package may not work correctly.\n",
    "\n",
    "Conda attempts to install the newest versions of  the  requested  packages.  To accomplish this, it may update some packages that are already installed, or install additional packages. To prevent existing packages from updating, use the `--no-update-deps option`. This may force conda to install older versions of the requested packages, and it does not  prevent additional dependency packages from being installed (http://conda.pydata.org/docs/commands/conda-update.html)\n",
    "\n",
    "To force conda to install a specific version of a package, use the form `conda install scipy=0.17.0`, where the required version number is given after the equal sign.\n",
    "\n",
    "If  you  wish to skip dependency checking altogether, use the `--force` option. This may result in an environment with  incompatible  packages, so this option must be used with great caution.\n",
    "\n",
    "The `conda update` command also have these two dependency flags:  `--update-dependencies`, `--update-deps`: Update dependencies (default: True). `--no-update-dependencies`, `--no-update-deps` Don't update dependencies (default: False).\n",
    "\n",
    "\n"
   ]
  },
  {
   "cell_type": "markdown",
   "metadata": {},
   "source": [
    "### Updating Anaconda from behind a proxy in Windows"
   ]
  },
  {
   "cell_type": "markdown",
   "metadata": {},
   "source": [
    "Create a `.condarc`  configuration file in your user home directory (`C:\\Users\\[yourusername]`), follow the instructions in the websites below.  Place the following text in the `.condarc` file, but replace with the information relevant to your situation:\n",
    "\n",
    "    proxy_servers:\n",
    "        http: http://[yourusername]:[yourpassword]@[your proxy server]:[proxy port]\n",
    "        https: https://[yourusername]:[yourpassword]@[your proxy server]:[proxy port]\n",
    "\n",
    "The difficult part is not creating the file, but finding out what the details for your situation are.\n",
    "\n",
    "<http://conda.pydata.org/docs/config.html>  \n",
    "<https://groups.google.com/a/continuum.io/forum/#!msg/anaconda/WQBn1c-spQ4/HVa1v83zAlEJ>    \n",
    "\n",
    "\n",
    " \n",
    "\n",
    "\n",
    "<font color=\"red\">Please note that this `.condarc` file is open text and the password is readable with a normal text editor.  Change the actual password to a false password immediately after use! </font>\n"
   ]
  },
  {
   "cell_type": "markdown",
   "metadata": {},
   "source": [
    "###  Multiple versions of Python in the Jupyter (IPython) notebook\n",
    "\n",
    "Jupyter supports multiple Python versions by running different kernels for each version. So you can run Python 2.7 and Python 3.5 notebooks from the same server, just be selecting the kernel.\n",
    "\n",
    "It seems that jupyter (ipython notebook) only runs from the root and not from an environment.  So we follow a procedure here of installing jupyter in the root installation and then create different kernels for each of the different Python versions installed in the environments.\n",
    "\n",
    "\n",
    "The idea [here is to install multiple ipython kernels](<http://stackoverflow.com/questions/30492623/using-both-python-2-x-and-python-3-x-in-ipython-notebook>\n",
    "). Here are instructions if you are using anaconda:\n",
    "\n",
    "- install [miniconda](http://conda.pydata.org/miniconda.html) or [anaconda](https://www.continuum.io/downloads). If you want only a basic Python capability in the root installation, install [miniconda](http://conda.pydata.org/miniconda.html). On the other hand if you want a full anaconda capability in the root environment, install [anaconda](https://www.continuum.io/downloads). Note that you will be installing full anaconda versions in the py27 and py35 environments.  The only reason not to use miniconda is to have the full anaconda suite available at any moment,  without activating a [conda environment](http://conda.pydata.org/docs/using/envs.html).\n",
    "- install jupyer in the miniconda root  \n",
    "\n",
    "        deactivate\n",
    "        conda update conda\n",
    "        conda install jupyter\n",
    "\n",
    "\n",
    "- Install python 2.7 in the py27 [conda environment](http://conda.pydata.org/docs/using/envs.html) and set up Jupyter to work with 2.7\n",
    "\n",
    "        conda create -n py27 python=2.7 anaconda\n",
    "        activate py27\n",
    "        conda update anaconda\n",
    "        conda install notebook ipykernel\n",
    "        ipython kernel install\n",
    "        deactivate\n",
    "\n",
    "- Install python 3.5 in the py35 [conda environment](http://conda.pydata.org/docs/using/envs.html) and set up Jupyter to work with 3.5\n",
    "\n",
    "        conda create -n py35 python=3.5 anaconda\n",
    "        activate py35\n",
    "        conda update anaconda\n",
    "        conda install notebook ipykernel\n",
    "        ipython kernel install\n",
    "        deactivate\n",
    "\n",
    "After that you should be able to choose between python2 and python3 when creating a new notebook in the interface.\n",
    "Additionally you can pass the `--name` and `--display-name` options to ipython kernel install if you want to change the names of your kernels. See ipython kernel install `--help` for more information.\n",
    "\n",
    "When set up this way you can also use either Python version by simply [activating the respective version](http://conda.pydata.org/docs/using/envs.html)."
   ]
  },
  {
   "cell_type": "markdown",
   "metadata": {},
   "source": [
    "###  Links to local libraries that are not installed in the Python directory structure\n"
   ]
  },
  {
   "cell_type": "markdown",
   "metadata": {},
   "source": [
    "The user-installed libraries are normally installed in the \n",
    "`....\\Python\\Lib\\site-packages` directory somewhere on your PC.  If you have Python modules/code located elsewhere on your PC, Python must be told where to look for these modules/code.  This can be done by placing a `.pth` file in the `site-packages` directory.  The name of the file must correspond to the name of the module and the file extension must be `.pth`.  The file must contain the path to the module on the first line.  For example, if I cloned the `https://github.com/pvlib/pvlib-python` module from github to my hard disk at `W:\\MyApps\\pvlib-python`, I can place a file in `site-packages` with the name `pvlib.pth` that contains the line `W:\\MyApps\\pvlib-python`. \n",
    "\n",
    "Copy these files to the root and each of the other environments where access is required. Conda installs all environments in the `X:\\MinicondaX\\envs` folder, inside the base environment, so place the `pth` file in directories like the following `X:\\MinicondaX\\envs\\py27\\Lib\\site-packages` (depending on where you installed the base environment).\n",
    "\n",
    "<https://docs.python.org/2/library/site.html>  \n",
    "<http://bob.ippoli.to/archives/2005/02/06/using-pth-files-for-python-development/>  \n",
    "<https://grahamwideman.wikispaces.com/Python-+site-package+dirs+and+.pth+files>  \n",
    "<http://stackoverflow.com/questions/15208615/using-pth-files>  \n",
    "\n",
    "If you use the `.pth` method, Python does not know if it is a local repo or a pypi installation, just so long as it has legal Python module code, all is fine. \n",
    "\n",
    "I have not done this yet, but in principle you can have many different versions of a module in different directories on your PC (e.g. for testing with different versions of Python, or with different functionality for whatever reason).  You can then create different conda environments where each environment has its own unique and different `.pth` file, pointing to the specific code you want to use with that specific environment.  The different `.pth` files must then be placed in each environment's own `site-packages` directory, to be used with that specific environment.\n"
   ]
  },
  {
   "cell_type": "markdown",
   "metadata": {},
   "source": [
    "## Programming editors and Python IDEs\n",
    "\n",
    "Which integrated development environment (IDE) to install? You can write Python scripts with any ASCII editor and run the script in a command console.  Some people find it more productive to work in a more powerful IDE environment.  Finally, to build more comprehensive 'lab books' of your work with code, text, graphs, etc., use the IPython notebook.\n",
    "\n",
    "There are a number of options [listed here](https://wiki.python.org/moin/PythonEditors), starting from simple text editors, all the way to comprehensive IDE environments.  \n",
    "\n",
    "A lightweight way is to use a standard text editor (to write the script) and a command window (to execute the script). Good editors include:     \n",
    "<http://notepad-plus-plus.org/download/>  free, general purpose editor.  \n",
    "<https://atom.io/>  free, general purpose editor.  \n",
    "<http://www.sublimetext.com/>  general purpose text editor, costs money.  \n",
    "<https://wiki.python.org/moin/Vim>  if you know what vim is you don't need this. If your don't know about vim, don't bother.  \n",
    "\n",
    "There are several command windows  to choose from.   Windows users can use a third party command window (see here: http://aarontgrogg.com/blog/2015/07/31/a-better-windows-command-line-experience-comparing-powercmd-vs-console2-vs-consolez-vs-conemu-vs-cmder/). My current preference is conemu. Alternatively Windows users can use Microsoft's cmd.exe or Powershell. Linux users probably already have their favourite command window.\n",
    "\n",
    "\n",
    "Specalised IDEs include (some might be included in large Python distributions):   \n",
    "<http://pythonhosted.org/spyder/>  good IDE already included in Anaconda.    \n",
    "<http://eric-ide.python-projects.org/>    full featured Python IDE.  \n",
    "<https://www.jetbrains.com/pycharm/> free community version.  \n",
    "<https://pytools.codeplex.com/> (Visual Studio plugin).   \n",
    "<http://sourceforge.net/projects/pydev> (Eclipse plugin).  \n",
    "\n",
    "The IPython notebook is a very powerful tool to record all your work and finally produce a report with all your documentation, code and results in one file. For more information on the IPython notebook see here:  \n",
    "http://nbviewer.ipython.org/github/NelisW/ComputationalRadiometry/blob/master/01-IPythonHintsAndTips.ipynb\n",
    "\n"
   ]
  },
  {
   "cell_type": "markdown",
   "metadata": {},
   "source": [
    "## Learning Python\n",
    "\n",
    "### General introduction\n",
    "\n",
    "Try to find the following books:\n",
    "\n",
    "1. [Fluent Python](http://shop.oreilly.com/product/0636920032519.do) teached Python by focussing on on Python idioms and good style.\n",
    "\n",
    "2. [Effective Python](http://www.effectivepython.com/) bring a deeper understanding into the language.\n",
    "\n",
    "3. [Effective Computation in Physics](http://shop.oreilly.com/product/0636920033424.do) has nothing to do with physics, but is a very good general introduction to good programming practices in general, focuses on Python.\n",
    "\n",
    "4. [Programming Python](http://shop.oreilly.com/product/9780596158118.do) if you come from another language.\n",
    "\n",
    "5. [Learning_Python](http://shop.oreilly.com/product/9780596158071.do) if you come from another language.\n",
    "\n",
    "The following Python online resources may help you get going:  \n",
    "<http://files.swaroopch.com/python/byte_of_python.pdf>  \n",
    "<http://www.diveintopython.net/>  \n",
    "<http://readwrite.com/2011/03/25/python-is-an-increasingly-popu#awesm=~oyGhXjmOOEXT1e>  \n",
    "<http://efytimes.com/e1/fullnews.asp?edid=117094>  \n",
    "<http://folk.uio.no/hpl/scripting/book_comparison.html> (Python for scientific computation)    \n",
    "<https://mbakker7.github.io/exploratory_computing_with_python/>  \n",
    "[A Crash Course in Python for Scientists](http://nbviewer.ipython.org/gist/rpmuller/5920182), I don't agree with his recommendation to install PythonXY, I prefer Anaconda.\n",
    "\n",
    "\n",
    "There are many free \n",
    "[books](http://docs.python-guide.org/en/latest/intro/learning/), \n",
    "[classes](https://developers.google.com/edu/python/),\n",
    "[blogs](http://www.python.org/about/gettingstarted/) websites and tutorial \n",
    "[videos](https://www.youtube.com/playlist?list=PLEA1FEF17E1E5C0DA videos), \n",
    "[more videos](http://pyvideo.org/) and \n",
    "[conferences](http://www.python.org/community/workshops). \n",
    "Material for Numpy is less bountiful, but the [numpy reference](http://docs.scipy.org/doc/numpy/numpy-ref-1.8.0.pdf) and [StackOverflow](http://stackoverflow.com/) are good sources.\n",
    "Just google some variation of '[learning python](https://www.google.com/search?q=learning+python&ie=utf-8&oe=utf-8)' and make your choice.\n",
    "\n",
    "Beginner's guides:  \n",
    "<https://wiki.python.org/moin/BeginnersGuide>  \n",
    "<http://www.wikihow.com/Start-Programming-in-Python>  \n",
    "<http://www.learnpython.org/>  \n",
    "<http://www.sthurlow.com/python/>   \n",
    "\n",
    "See Steve Holden's  [Intermediate Python](http://holdenweb.blogspot.com/2014/04/intermediate-python-open-source.html) page.\n",
    "HTML rendering of Steve's [notebooks](http://nbviewer.ipython.org/github/DevTeam-TheOpenBastion/int-py-notes/tree/master/nbsource/).\n",
    "IPython notebooks [here](https://github.com/DevTeam-TheOpenBastion/int-py-notes/tree/master/nbsource).\n",
    "See the YouTube [video](https://www.youtube.com/watch?v=JYK_8iK2zsw).    \n",
    "\n",
    "<http://sahandsaba.com/thirty-python-language-features-and-tricks-you-may-not-know.html>"
   ]
  },
  {
   "cell_type": "markdown",
   "metadata": {},
   "source": [
    "### Python for science and engineering\n",
    "The following books are great (but there are several others as well):\n",
    "\n",
    "1. [SciPy conference lectures](http://www.scipy-lectures.org/)\n",
    "\n",
    "2. A very good introduction to Python for scientific work are the [two books](http://folk.uio.no/hpl/scripting/book_comparison.html) by Hans Petter Langtangen:  [A Primer on Scientific Programming with Python](http://www.springer.com/la/book/9783642549588), and [Python scripting computational science](http://www.springer.com/la/book/9783540739159).\n",
    "\n",
    "Numpy/SciPy resources:  \n",
    "<http://www.engr.ucsb.edu/~shell/che210d/numpy.pdf>   \n",
    "<http://docs.scipy.org/doc/>   \n",
    "<http://nbviewer.ipython.org/github/jrjohansson/scientific-python-lectures/tree/master/>     \n",
    "<http://wiki.scipy.org/Tentative_NumPy_Tutorial>  \n",
    "<http://matplotlib.org/gallery.html>  \n",
    "<http://nbviewer.ipython.org/github/gumption/Python_for_Data_Science/blob/master/Python_for_Data_Science_all.ipynb>  detailed introduction to Python for data science.  \n",
    "\n",
    "\n",
    "If you have some matlab background:  \n",
    "<http://wiki.scipy.org/NumPy_for_Matlab_Users>  \n",
    "<http://hyperpolyglot.org/numerical-analysis>  \n",
    "<http://resources.sei.cmu.edu/asset_files/Presentation/2011_017_001_50519.pdf>  \n",
    "<http://www.pyzo.org/python_vs_matlab.html>  \n",
    "\n"
   ]
  },
  {
   "cell_type": "markdown",
   "metadata": {},
   "source": [
    "## Plotting packages and options"
   ]
  },
  {
   "cell_type": "markdown",
   "metadata": {},
   "source": [
    "[Scientific Plotting in Python](http://www.pycon.se/2014/assets/slides/Plotly-Pycon-Sweden.pdf)  \n",
    "[Interactive Plotting in IPython Notebook (Part 1/2): Bokeh](https://pyscience.wordpress.com/2014/09/01/interactive-plotting-in-ipython-notebook-part-12-bokeh/)  \n",
    "[Interactive Plotting in IPython Notebook (Part 2/2): Plotly](https://pyscience.wordpress.com/2014/09/02/interactive-plotting-in-ipython-notebook-part-22-plotly-2/)  \n",
    "[Overview of Python Visualization Tools ](http://pbpython.com/visualization-tools-1.html)  \n",
    "[Comparing Python web visualization libraries](http://nipunbatra.github.io/2014/04/comparing-python-web-visualization/)  \n",
    "\n",
    "__matplotlib__\n",
    "[matplotlib](http://matplotlib.org/)\n",
    "[Gallery](http://matplotlib.org/gallery.html)\n",
    "[Examples](http://matplotlib.org/examples/index.html)\n",
    "[docs](http://matplotlib.org/contents.html#)\n",
    "\n",
    "\n",
    "__bokeh__\n",
    "[Welcome to bokeh](http://bokeh.pydata.org/en/latest/)\n",
    "[Gallery](http://bokeh.pydata.org/en/latest/docs/gallery.html)\n",
    "[Quickstart](http://bokeh.pydata.org/en/latest/docs/quickstart.html)\n",
    "[Tutorials](http://nbviewer.ipython.org/github/bokeh/bokeh-notebooks/blob/master/index.ipynb#Tutorial)\n",
    "[User Guide](http://bokeh.pydata.org/en/latest/docs/user_guide.html)\n",
    "\n",
    "__plotly__\n",
    "[What is Plotly.js](https://plot.ly/javascript/)\n",
    "[Plotly.js Open-Source Announcement](https://plot.ly/javascript/open-source-announcement/)\n",
    "[Getting Started: Plotly for Python](https://plot.ly/python/getting-started/)\n",
    "[Plotly Offline](https://plot.ly/python/offline/)\n",
    "[User Guide](https://plot.ly/python/user-guide/)\n",
    "[Plotly's Python API User Guide](http://nbviewer.ipython.org/github/plotly/python-user-guide/blob/master/Index.ipynb)\n",
    "[Example 3-D plot](https://plot.ly/~chriddyp/1780.embed)\n",
    "\n"
   ]
  },
  {
   "cell_type": "markdown",
   "metadata": {},
   "source": [
    "## Python Basics"
   ]
  },
  {
   "cell_type": "markdown",
   "metadata": {},
   "source": [
    "### Code structure"
   ]
  },
  {
   "cell_type": "markdown",
   "metadata": {},
   "source": [
    "Python does not use open and closing braces to indicate structure, it uses indenting in the code to show structure.  This feels awkward at first, but if you use a Python-aware editor, such as Notepad++, Sublime Text or IPython's editor, the editor should make it easy to manage the intents.  The downside of the indenting method is that if you loose indenting, you lost the structure in the code.  Be careful when you copy Python code from the web, sometimes you loose the indentation structure.\n",
    "\n",
    "The preferred coding style is defined in PEP-8, see <http://legacy.python.org/dev/peps/pep-0008/>\n",
    "\n",
    "A single-line comment is indicated by a hasg symbol, which comments out everything until the end of the line. Multiline comments is started by three double quotes \"\"\" and ended likewise. By convension the opening and closing set of quotes are at the start of a line.\n",
    "\n",
    "Python is particular about mixing indenting by space or by tab.  It can be either one, but it must be consistent in one script. The preferred way is to indent by spaces, because tab-indenting can change if you move code from one editor to another.\n",
    "\n",
    "Set your editor to automatically replace tabs by spaces, so that you always end up with spaces even if you press the tab key.  PEP8 recommends using four spaces indenting, and a line length of 80 characters, but I find that you quickly run out of width on deeply indented code. My own preference is to use 2 spaces for indents and 100 character line lengths. IPython notebooks uses four spaces for indentation.\n",
    "\n",
    "Long lines can break according to the following rules:\n",
    "\n",
    "* Type a backslash `\\` anywhere on the line, followed by Enter and type the remaining text on the next line.  It seems that spaces on the next line are included.\n",
    "* Break the line anywhere where a comma is allowed. There is no need to enter a backslash when breaking after a comma."
   ]
  },
  {
   "cell_type": "code",
   "execution_count": 6,
   "metadata": {
    "collapsed": false
   },
   "outputs": [
    {
     "name": "stdout",
     "output_type": "stream",
     "text": [
      "Hello world\n",
      "Hello world 127,883.54\n"
     ]
    }
   ],
   "source": [
    "print('Hello world'\\\n",
    "      )\n",
    "print('{0} {1} {2:10,.2f}'.format('Hello',\n",
    "                     'world', 127883.54355))"
   ]
  },
  {
   "cell_type": "markdown",
   "metadata": {},
   "source": [
    "### Docstrings and introspection"
   ]
  },
  {
   "cell_type": "markdown",
   "metadata": {},
   "source": [
    "From PEP-0257: \"A docstring is a string literal that occurs as the first statement in a module, function, class, or method definition. Such a docstring becomes the `__doc__` special attribute of that object.\" Docstrings are considered the documentation for that module, function or class. It is normally written in a multiline comment. An example:\n",
    "\n",
    "    def add(x, y):\n",
    "        \"\"\"Return the sum of x and y.\n",
    "        \"\"\"\n",
    "        return x + y\n",
    "    \n",
    "Introspection is when you access an objects docstring from within a development environment. For example, while you are using the function you want to read its documenation.  Introspection is implemented in IPython by typing a question mark immediately after e.g., a function name and running the cell.  The doc string will appear in a new panel at the bottom of the IPython browser page. For example when you type and run\n",
    "\n",
    "    import pyradi.ryutils as ryutils\n",
    "    ryutils.abshumidity?\n",
    "    \n",
    "The docstring is displayed as shown below.\n",
    "\n",
    "<http://legacy.python.org/dev/peps/pep-0257/>\n",
    "<http://www.pythonforbeginners.com/basics/python-docstrings>\n"
   ]
  },
  {
   "cell_type": "code",
   "execution_count": 7,
   "metadata": {
    "collapsed": false
   },
   "outputs": [
    {
     "data": {
      "image/png": "[encoded data removed]",
      "text/plain": [
       "<IPython.core.display.Image object>"
      ]
     },
     "metadata": {},
     "output_type": "display_data"
    }
   ],
   "source": [
    "display(Image(filename='images/introspection.png'))"
   ]
  },
  {
   "cell_type": "markdown",
   "metadata": {},
   "source": [
    "### General overview"
   ]
  },
  {
   "cell_type": "markdown",
   "metadata": {},
   "source": [
    "Python data types and how to determine the type of a Python variable.  \n",
    "Everything in Python is an object.  "
   ]
  },
  {
   "cell_type": "code",
   "execution_count": 8,
   "metadata": {
    "collapsed": false
   },
   "outputs": [
    {
     "name": "stdout",
     "output_type": "stream",
     "text": [
      "5 is object type <type 'int'>\n",
      "3.14159265359 is object type <type 'float'>\n",
      "[1, 2, 3, 4] is object type <type 'list'>\n",
      "<function myfunction at 0x000000000425ACF8> is object type <type 'function'>\n"
     ]
    }
   ],
   "source": [
    "\n",
    "myInt = 5\n",
    "print('{0} is object type {1}'.format(myInt, type(myInt)))\n",
    "myFloat = np.pi\n",
    "print('{0} is object type {1}'.format(myFloat, type(myFloat)))\n",
    "lstInts = [1, 2, 3, 4, ]\n",
    "print('{0} is object type {1}'.format(lstInts, type(lstInts)))\n",
    "def myfunction(a):\n",
    "    print(a)\n",
    "print('{0} is object type {1}'.format(myfunction, type(myfunction)))\n",
    "    "
   ]
  },
  {
   "cell_type": "markdown",
   "metadata": {},
   "source": [
    "> In Python, (almost) everything is an object. What we commonly refer to as \"variables\" \n",
    "> in Python are more properly called names. Likewise, \"assignment\" is really the binding\n",
    "> of a name to an object. Each binding has a scope that defines its visibility, usually \n",
    "> the block in which the name originates.\n",
    "<https://www.jeffknupp.com/blog/2012/11/13/is-python-callbyvalue-or-callbyreference-neither/>\n",
    "\n",
    "If an existing object is bound to a new name, changing the object by using the new name will also change the value object bound to the original name, because it is the same object (just bound to different names). To create a truly new object use the `copy()` function (for some data types).  Slicing (:) lists and tuples creates a copy of the original structure (see later).\n",
    "\n",
    "<https://docs.python.org/2/library/copy.html>  \n",
    "<http://effbot.org/pyfaq/how-do-i-copy-an-object-in-python.htm>  \n",
    "<http://pymotw.com/2/copy/>  "
   ]
  },
  {
   "cell_type": "code",
   "execution_count": 9,
   "metadata": {
    "collapsed": false
   },
   "outputs": [
    {
     "name": "stdout",
     "output_type": "stream",
     "text": [
      "a=[1, 2, 3]\n",
      "b=[1, 2, 3]\n",
      "c=[1, 2, 3]\n",
      "----------------------\n",
      "a=[1, 2, 'z']\n",
      "b=[1, 2, 'z']\n",
      "c=[1, 2, 3]\n",
      "----------------------\n",
      "a=[1, 2, 'z']\n",
      "b=[1, 2, 'b']\n",
      "c=[1, 2, 'c']\n"
     ]
    }
   ],
   "source": [
    "import copy\n",
    "\n",
    "a = [1, 2, 3, ]\n",
    "b = a\n",
    "c = copy.copy(a) # shallow copy\n",
    "# c = copy.deepcopy(a) # deep (recursive) copy\n",
    "print('a={}'.format(a))\n",
    "print('b={}'.format(b))\n",
    "print('c={}'.format(c))\n",
    "print('----------------------')\n",
    "b[2] = 'z'\n",
    "print('a={}'.format(a))\n",
    "print('b={}'.format(b))\n",
    "print('c={}'.format(c))\n",
    "print('----------------------')\n",
    "b = a[:]  # slicing all makes a copy of 'a' then bind 'b' to this copy\n",
    "b[2] = 'b'\n",
    "c[2] = 'c'\n",
    "print('a={}'.format(a))\n",
    "print('b={}'.format(b))\n",
    "print('c={}'.format(c))\n"
   ]
  },
  {
   "cell_type": "markdown",
   "metadata": {},
   "source": [
    "### Variable `id()`, `is` and `==`\n",
    "\n",
    "<http://blog.lerner.co.il/why-you-should-almost-never-use-is-in-python/>  \n",
    "\n",
    "Every object (variable) has an ID, which can be determined using `id(variable)`. This ID is a handle to the variable, not the value of the variable.\n",
    "\n",
    "Assigning one variable to another does not create a new variable, the same ID is used, just with a second variable name.\n",
    "\n",
    "The `is` keyword tests if the same ID is shared, whereas equality `==` tests the value of the variable.\n",
    "\n",
    "In the example below `a` and `b` share the same ID handle and are hence the same variable storage location. `c` is a different storage location but with the same contents. \n",
    "\n",
    "Always use `==` in logical tests to test for equality of value in the variable; if you use `is` you are testing the ID not the value.\n",
    "\n",
    "You should only use `is` to test for ID or handle equality such as in `is None` or `is not None`."
   ]
  },
  {
   "cell_type": "code",
   "execution_count": 10,
   "metadata": {
    "collapsed": false
   },
   "outputs": [
    {
     "name": "stdout",
     "output_type": "stream",
     "text": [
      "([5, 9], <type 'list'>, 69393160L, True, True)\n",
      "([5, 9], <type 'list'>, 69393160L, True, True)\n",
      "([5, 9], <type 'list'>, 69392776L, False, True)\n"
     ]
    }
   ],
   "source": [
    "a = [5, 9]\n",
    "b = a\n",
    "c = [5, 9]\n",
    "print(a, type(a), id(a), a is b, a==b)\n",
    "print(b, type(b), id(b), a is b, a==b)\n",
    "print(c, type(c), id(c), a is c, a==c)"
   ]
  },
  {
   "cell_type": "markdown",
   "metadata": {},
   "source": [
    "Changing `a` or `b` changes the other as well, because they share the same ID and hence the same storage."
   ]
  },
  {
   "cell_type": "code",
   "execution_count": 11,
   "metadata": {
    "collapsed": false
   },
   "outputs": [
    {
     "name": "stdout",
     "output_type": "stream",
     "text": [
      "([1, 9], <type 'list'>, 69393160L, True, True)\n",
      "([1, 9], <type 'list'>, 69393160L, True, True)\n",
      "([5, 9], <type 'list'>, 69392776L, False, False)\n",
      " \n",
      "([5, 9], <type 'list'>, 69393160L, True, True)\n",
      "([5, 9], <type 'list'>, 69393160L, True, True)\n",
      "([5, 9], <type 'list'>, 69392776L, False, True)\n"
     ]
    }
   ],
   "source": [
    "a[0] = 1\n",
    "print(a, type(a), id(a), a is b, a==b)\n",
    "print(b, type(b), id(b), a is b, a==b)\n",
    "print(c, type(c), id(c), a is c, a==c)\n",
    "print(' ')\n",
    "b[0] = 5\n",
    "print(a, type(a), id(a), a is b, a==b)\n",
    "print(b, type(b), id(b), a is b, a==b)\n",
    "print(c, type(c), id(c), a is c, a==c)"
   ]
  },
  {
   "cell_type": "markdown",
   "metadata": {},
   "source": [
    "The above is however not always true. For example, it does not apply to simple integers.  Assigning to `b` now created a new storage location with a new ID."
   ]
  },
  {
   "cell_type": "code",
   "execution_count": 12,
   "metadata": {
    "collapsed": false
   },
   "outputs": [
    {
     "name": "stdout",
     "output_type": "stream",
     "text": [
      "(5, <type 'int'>, 31033512L, True, True)\n",
      "(5, <type 'int'>, 31033512L, True, True)\n",
      "(5, <type 'int'>, 31033512L, False, False)\n",
      "(6, <type 'int'>, 31033488L, False, False)\n"
     ]
    }
   ],
   "source": [
    "a = 5\n",
    "b = a\n",
    "print(a, type(a), id(a), a is b, a==b)\n",
    "print(b, type(b), id(b), a is b, a==b)\n",
    "b = 6\n",
    "print(a, type(a), id(a), a is b, a==b)\n",
    "print(b, type(b), id(b), a is b, a==b)\n"
   ]
  },
  {
   "cell_type": "markdown",
   "metadata": {
    "collapsed": true
   },
   "source": [
    "The same applies to `float` variables"
   ]
  },
  {
   "cell_type": "code",
   "execution_count": 13,
   "metadata": {
    "collapsed": false
   },
   "outputs": [
    {
     "name": "stdout",
     "output_type": "stream",
     "text": [
      "(5.0, <type 'float'>, 66945160L, True, True)\n",
      "(5.0, <type 'float'>, 66945160L, True, True)\n",
      "(5.0, <type 'float'>, 66945160L, False, False)\n",
      "(6.0, <type 'float'>, 66945016L, False, False)\n"
     ]
    }
   ],
   "source": [
    "a = 5.\n",
    "b = a\n",
    "print(a, type(a), id(a), a is b, a==b)\n",
    "print(b, type(b), id(b), a is b, a==b)\n",
    "b = 6.\n",
    "print(a, type(a), id(a), a is b, a==b)\n",
    "print(b, type(b), id(b), a is b, a==b)"
   ]
  },
  {
   "cell_type": "markdown",
   "metadata": {},
   "source": [
    "Short string seem to share the same ID as well, but as pointed out in the link above: long strings do not share the same ID even if they have the same contents."
   ]
  },
  {
   "cell_type": "code",
   "execution_count": 14,
   "metadata": {
    "collapsed": false
   },
   "outputs": [
    {
     "name": "stdout",
     "output_type": "stream",
     "text": [
      "('ABCD', <type 'str'>, 69801744L, True, True)\n",
      "('ABCD', <type 'str'>, 69801744L, True, True)\n",
      "('ABCD', <type 'str'>, 69801744L, True, True)\n",
      "('ABCD', <type 'str'>, 69801744L, True, True)\n"
     ]
    }
   ],
   "source": [
    "a = 'ABCD'\n",
    "b = a\n",
    "print(a, type(a), id(a), a is b, a==b)\n",
    "print(b, type(b), id(b), a is b, a==b)\n",
    "b = 'ABCD'\n",
    "print(a, type(a), id(a), a is b, a==b)\n",
    "print(b, type(b), id(b), a is b, a==b)"
   ]
  },
  {
   "cell_type": "markdown",
   "metadata": {},
   "source": [
    "`None` is a singleton, meaning that there is only one instance of the variable, visible everywhere.\n",
    "\n",
    "You test for `None` by using `is` or `is not` because you are testing against the singleton handle."
   ]
  },
  {
   "cell_type": "code",
   "execution_count": 15,
   "metadata": {
    "collapsed": false
   },
   "outputs": [
    {
     "name": "stdout",
     "output_type": "stream",
     "text": [
      "(True, True, False)\n"
     ]
    }
   ],
   "source": [
    "a = None\n",
    "b = 5\n",
    "print(a is None, b is not None, b is None)"
   ]
  },
  {
   "cell_type": "markdown",
   "metadata": {},
   "source": [
    "### Strings\n",
    "\n",
    "Short strings are indicated with a single or double quote (they have the same meaning) but must be used consistently to indicate start and end.  Multiline strings are started with three double quotes and ended with three double quotes.  Normally the closing three double quotes are on a line of their own.\n",
    "Strings can be formatted following the `format` function, details in  \n",
    "<http://docs.python.org/2/library/string.html#format-string-syntax>  \n",
    "<https://stackoverflow.com/questions/5082452/python-string-formatting-vs-format>  \n",
    "<http://pyformat.info/>  \n"
   ]
  },
  {
   "cell_type": "code",
   "execution_count": 16,
   "metadata": {
    "collapsed": false
   },
   "outputs": [
    {
     "name": "stdout",
     "output_type": "stream",
     "text": [
      "-one- is object type <type 'str'>\n",
      "-two- is object type <type 'str'>\n",
      "- one two \"three\" four- is object type <type 'str'>\n",
      "-Line 1\n",
      "Line2\n",
      "Line3\n",
      "- is object type <type 'str'>\n",
      "0004 3.14e+00 -my string       -   3.141592653590\n"
     ]
    }
   ],
   "source": [
    "strOne = 'one'\n",
    "strTwo = \"two\"\n",
    "strThree = ' one two \"three\" four'\n",
    "strMulti = \"\"\"Line 1\n",
    "Line2\n",
    "Line3\n",
    "\"\"\"\n",
    "print('-{0}- is object type {1}'.format(strOne, type(strOne)))\n",
    "print('-{0}- is object type {1}'.format(strTwo, type(strTwo)))\n",
    "print('-{0}- is object type {1}'.format(strThree, type(strThree)))\n",
    "print('-{0}- is object type {1}'.format(strMulti, type(strMulti)))\n",
    "\n",
    "strFormatted = '{0:04d} {1:7.2e} -{2:16s}- {1:16.12f}'.format(4, np.pi, 'my string')\n",
    "print(strFormatted)\n"
   ]
  },
  {
   "cell_type": "markdown",
   "metadata": {},
   "source": [
    "Python's lists, tuples and dictionaries are very powerful structures.   \n",
    "Python uses zero-based indexing, meaning that the first element is indicated as element 0.\n",
    "\n",
    "Lists lst=[1,2] are mutable, which means that you can change them in place, by appending and inserting elements. "
   ]
  },
  {
   "cell_type": "code",
   "execution_count": 17,
   "metadata": {
    "collapsed": false
   },
   "outputs": [
    {
     "name": "stdout",
     "output_type": "stream",
     "text": [
      "[4, 1, 2, 3, 4, 5, [2, 6, 7, 8]]\n",
      "['zero', 1, 'wow', 'a', 2]\n"
     ]
    }
   ],
   "source": [
    "#append to an existing list\n",
    "lstNumbers = [4, 1, 2,  3, 4, ]\n",
    "lstNumbers.append(5)\n",
    "lstNumbers.append([2, 6, 7, 8])\n",
    "print(lstNumbers)\n",
    "#insert into specific locations into list\n",
    "lstDiff = [1, 'a', 2]\n",
    "lstDiff.insert(0,'zero')\n",
    "lstDiff.insert(2,'wow')\n",
    "print(lstDiff)"
   ]
  },
  {
   "cell_type": "markdown",
   "metadata": {},
   "source": [
    "The list can be sorted, but note that the list element sorts last."
   ]
  },
  {
   "cell_type": "code",
   "execution_count": 18,
   "metadata": {
    "collapsed": false
   },
   "outputs": [
    {
     "name": "stdout",
     "output_type": "stream",
     "text": [
      "[1, 2, 3, 4, 4, 5, [2, 6, 7, 8]]\n"
     ]
    }
   ],
   "source": [
    "print(sorted(lstNumbers))\n"
   ]
  },
  {
   "cell_type": "markdown",
   "metadata": {},
   "source": [
    "Get the one'th element of the list at six'th location in the list"
   ]
  },
  {
   "cell_type": "code",
   "execution_count": 19,
   "metadata": {
    "collapsed": false
   },
   "outputs": [
    {
     "name": "stdout",
     "output_type": "stream",
     "text": [
      "6\n"
     ]
    }
   ],
   "source": [
    "print(lstNumbers[6][1])"
   ]
  },
  {
   "cell_type": "markdown",
   "metadata": {},
   "source": [
    "Get the third element of the list just preceding it"
   ]
  },
  {
   "cell_type": "code",
   "execution_count": 20,
   "metadata": {
    "collapsed": false
   },
   "outputs": [
    {
     "name": "stdout",
     "output_type": "stream",
     "text": [
      "2\n"
     ]
    }
   ],
   "source": [
    "print([1,0,1,2,3][3])"
   ]
  },
  {
   "cell_type": "markdown",
   "metadata": {},
   "source": [
    "Python 2 has limited list unpacking capabilities.  The following examples unpacks lists using the itertools module."
   ]
  },
  {
   "cell_type": "code",
   "execution_count": 21,
   "metadata": {
    "collapsed": false
   },
   "outputs": [
    {
     "name": "stdout",
     "output_type": "stream",
     "text": [
      "[1, 2, 3, 4, 5, 6, 7, 8, 9]\n",
      "['foo', 'foo', 'foo', 'bar', 'bar', 'bar', 'ton', 'ton', 'ton']\n"
     ]
    }
   ],
   "source": [
    "import itertools\n",
    "\n",
    "list2d = [[1,2,3],[4,5,6], [7], [8,9]]\n",
    "merged = list(itertools.chain.from_iterable(list2d))\n",
    "print(merged)\n",
    "\n",
    "list2d = [['foo']*3,['bar']*3,['ton']*3]\n",
    "merged = list(itertools.chain.from_iterable([['foo']*3,['bar']*3,['ton']*3]))\n",
    "print(merged)"
   ]
  },
  {
   "cell_type": "markdown",
   "metadata": {},
   "source": [
    "Sections of lists can be extracted by slicing ':'. Slicing can indicate a start, end, and optionally a stride. Strides will be very important later in numpy arrays, but here we only consider its applications to lists and strings."
   ]
  },
  {
   "cell_type": "code",
   "execution_count": 22,
   "metadata": {
    "collapsed": false
   },
   "outputs": [
    {
     "name": "stdout",
     "output_type": "stream",
     "text": [
      "4\n",
      "5\n",
      "[4, 1, 2, 3, 5]\n",
      "[2, 3, 5]\n",
      "[2, 3]\n",
      "[3, 5]\n",
      "[4, 2]\n"
     ]
    }
   ],
   "source": [
    "lstNumbers = [4, 1, 2,  3, 5, ]\n",
    "print(lstNumbers[0])\n",
    "print(lstNumbers[-1])\n",
    "print(lstNumbers[:])\n",
    "print(lstNumbers[2:])\n",
    "print(lstNumbers[2:4])\n",
    "print(lstNumbers[-2:])\n",
    "print(lstNumbers[0:4:2])\n"
   ]
  },
  {
   "cell_type": "markdown",
   "metadata": {},
   "source": [
    "Slicing can be used to reverse a string or list with a stride if -1, and if the stride is -2 every second letter is left out."
   ]
  },
  {
   "cell_type": "code",
   "execution_count": 23,
   "metadata": {
    "collapsed": false
   },
   "outputs": [
    {
     "name": "stdout",
     "output_type": "stream",
     "text": [
      "desrever eb ot gnirts a\n",
      "dsee bo nrsa\n"
     ]
    }
   ],
   "source": [
    "a = 'a string to be reversed' \n",
    "print(a[::-1])\n",
    "a = 'a string to be reversed' \n",
    "print(a[::-2])"
   ]
  },
  {
   "cell_type": "markdown",
   "metadata": {},
   "source": [
    "Tuples tup=(1,2) are immutable (cannot change). "
   ]
  },
  {
   "cell_type": "code",
   "execution_count": 24,
   "metadata": {
    "collapsed": false
   },
   "outputs": [
    {
     "name": "stdout",
     "output_type": "stream",
     "text": [
      "the fourth element is 4\n",
      "The append attempt raised an exception - it is not allowed!\n"
     ]
    }
   ],
   "source": [
    "tupNumbers = (1, 2, 3, 4,)\n",
    "print('the fourth element is {}'.format(tupNumbers[3]))\n",
    "try:\n",
    "    tupNumbers.append(5)\n",
    "except:\n",
    "    print('The append attempt raised an exception - it is not allowed!')"
   ]
  },
  {
   "cell_type": "markdown",
   "metadata": {},
   "source": [
    "Two lists can be used to construct combinations of all the elements in the two lists: use the `itertools.product` function to calculate the outer product of two lists."
   ]
  },
  {
   "cell_type": "code",
   "execution_count": 25,
   "metadata": {
    "collapsed": false
   },
   "outputs": [
    {
     "name": "stdout",
     "output_type": "stream",
     "text": [
      "[1, 2, 3]\n",
      "\n",
      "['A', 'B']\n",
      "\n",
      "(0, 1, 'A')\n",
      "(1, 1, 'B')\n",
      "(2, 2, 'A')\n",
      "(3, 2, 'B')\n",
      "(4, 3, 'A')\n",
      "(5, 3, 'B')\n"
     ]
    }
   ],
   "source": [
    "import itertools\n",
    "AA = [1, 2, 3]\n",
    "BB = ['A','B']\n",
    "print(AA)\n",
    "print('')\n",
    "print(BB)\n",
    "print('')\n",
    "for i,(aa,bb) in enumerate(list(itertools.product(AA,BB))):\n",
    "    print(i,aa,bb)\n"
   ]
  },
  {
   "cell_type": "markdown",
   "metadata": {},
   "source": [
    "Dictionaries dic={key1:val1, key2:val2} are like arrays, but the emements can be identified by any data type. In the example below we can extract values from the dictionary based on strings, but these key values can be any type type, even an object or a function.  The key values of the dictionary are available by calling the `keys()` function of the dictionary.\n",
    "\n",
    "The Collections module adds the capability to ease the use of dictionaries, see  \n",
    "<http://docs.python.org/2/library/collections.html>"
   ]
  },
  {
   "cell_type": "code",
   "execution_count": 26,
   "metadata": {
    "collapsed": false
   },
   "outputs": [
    {
     "name": "stdout",
     "output_type": "stream",
     "text": [
      "{'NIR': '1-2', 'VIS': '0.4-0.7', 'MWIR': '3-5', 'LWIR': '8-12', 'SWIR': '1.5-3'}\n",
      "8-12\n",
      "-------------\n",
      "key=NIR value=1-2\n",
      "key=VIS value=0.4-0.7\n",
      "key=MWIR value=3-5\n",
      "key=LWIR value=8-12\n",
      "key=SWIR value=1.5-3\n",
      " \n",
      "-------------\n",
      "key=LWIR value=8-12\n",
      "key=MWIR value=3-5\n",
      "key=NIR value=1-2\n",
      "key=SWIR value=1.5-3\n",
      "key=VIS value=0.4-0.7\n"
     ]
    }
   ],
   "source": [
    "dicBand = {'NIR':'1-2', 'SWIR':'1.5-3', 'MWIR':'3-5',}\n",
    "dicBand['LWIR']='8-12'\n",
    "dicBand['VIS']='0.4-0.7'\n",
    "\n",
    "print(dicBand)\n",
    "print(dicBand['LWIR'])\n",
    "print('-------------')\n",
    "\n",
    "for key in dicBand:\n",
    "    print('key={} value={}'.format(key,dicBand[key]))\n",
    "print(' ')\n",
    "print('-------------')\n",
    "\n",
    "for key in sorted(dicBand.keys()):\n",
    "    print('key={} value={}'.format(key,dicBand[key]))\n",
    "    "
   ]
  },
  {
   "cell_type": "markdown",
   "metadata": {},
   "source": [
    "Control flow in Python uses `for` or `while`.  \n",
    "\n",
    "The `enumerate` function is a very useful means to iterate over a list or tuple and get the index as well as the list value at that index.\n",
    "\n",
    "The `while` loop executes as long as the conditional in the `while` statement is true. If the conditional is false, the `else` clause is executed."
   ]
  },
  {
   "cell_type": "code",
   "execution_count": 27,
   "metadata": {
    "collapsed": false
   },
   "outputs": [
    {
     "name": "stdout",
     "output_type": "stream",
     "text": [
      "a\n",
      "b\n",
      "c\n",
      "-------------\n",
      "character 0 is T\n",
      "character 1 is h\n",
      "character 2 is i\n",
      "character 3 is s\n",
      "character 4 is  \n",
      "character 5 is s\n",
      "character 6 is t\n",
      "character 7 is r\n",
      "character 8 is i\n",
      "character 9 is n\n",
      "character 10 is g\n",
      "-------------\n",
      "index 0 has value a\n",
      "index 1 has value b\n",
      "index 2 has value c\n",
      "-------------\n",
      "it is False!!\n",
      "-------------\n",
      "0  is  less than 5\n",
      "1  is  less than 5\n",
      "2  is  less than 5\n",
      "3  is  less than 5\n",
      "4  is  less than 5\n"
     ]
    }
   ],
   "source": [
    "a = [ 'a', 'b', 'c', ]\n",
    "for item in a:\n",
    "    print(item)\n",
    "print('-------------')\n",
    "\n",
    "strTmp = 'This string'\n",
    "for i,item in enumerate(strTmp):\n",
    "    print('character {} is {}'.format(i,item))\n",
    "print('-------------')\n",
    "\n",
    "for i,item in enumerate(a):\n",
    "    print('index {} has value {}'.format(i,item))\n",
    "print('-------------')\n",
    "\n",
    "while False:\n",
    "    print(a)\n",
    "else:\n",
    "    print('it is False!!')\n",
    "print('-------------')\n",
    "    \n",
    "count = 0\n",
    "while count < 5:\n",
    "   print count, \" is  less than 5\"\n",
    "   count = count + 1"
   ]
  },
  {
   "cell_type": "markdown",
   "metadata": {},
   "source": [
    "Zipping pairs two lists element by element into a new list of matched tuples.\n",
    "You can even enumerate over zipped lists:"
   ]
  },
  {
   "cell_type": "code",
   "execution_count": 28,
   "metadata": {
    "collapsed": false
   },
   "outputs": [
    {
     "name": "stdout",
     "output_type": "stream",
     "text": [
      "[('a', '1'), ('b', '2'), ('c', '3')]\n"
     ]
    }
   ],
   "source": [
    "a = [ 'a', 'b', 'c', ]\n",
    "b = [ '1', '2', '3', ]\n",
    "print(zip(a,b))"
   ]
  },
  {
   "cell_type": "markdown",
   "metadata": {},
   "source": [
    "You can enumerate over the zipped list to extract the paired tuples"
   ]
  },
  {
   "cell_type": "code",
   "execution_count": 29,
   "metadata": {
    "collapsed": false
   },
   "outputs": [
    {
     "name": "stdout",
     "output_type": "stream",
     "text": [
      "Enumerate over all zipped tuples\n",
      "(0, 'a', '1')\n",
      "(1, 'b', '2')\n",
      "(2, 'c', '3')\n",
      "Alternative method, not quite as clear and instructive\n",
      "(1, 'a', '1')\n",
      "(1, 'b', '2')\n",
      "(1, 'c', '3')\n",
      "C-Style programming to achieve the same effect\n",
      "(0, 'a', '1')\n",
      "(1, 'b', '2')\n",
      "(2, 'c', '3')\n"
     ]
    }
   ],
   "source": [
    "print('Enumerate over all zipped tuples')\n",
    "for i,(ai,bi) in enumerate(zip(a,b)):\n",
    "    print(i, ai, bi)\n",
    "    \n",
    "print('Alternative method, not quite as clear and instructive')\n",
    "for i,aa in enumerate(a):\n",
    "    print( 1, a[i], b[i])\n",
    "    \n",
    "print('C-Style programming to achieve the same effect')\n",
    "if len(a)==len(b):\n",
    "    for i in range(len(b)):\n",
    "        print(i, a[i],b[i])"
   ]
  },
  {
   "cell_type": "markdown",
   "metadata": {},
   "source": [
    "List/dictionary comprehension is a shorthand way to define a list/dictionary. In the first example create a new list of square root values of items from an old list, but only for even values.  In the second examples a dictionary is built using dictionary comprehension. Note that zip takes two lists and create a new list where elements of the new list are tuples with matching elements from the two input lists - pair them up element by element, much like a zip closing up.    \n",
    "<http://carlgroner.me/Python/2011/11/09/An-Introduction-to-List-Comprehensions-in-Python.html>  \n",
    "<http://www.secnetix.de/olli/Python/list_comprehensions.hawk>    \n",
    "<http://docs.python.org/2.7/library/functions.html>  \n",
    "<http://howchoo.com/g/how-to-use-list-comprehension-in-python>   \n",
    "<http://treyhunner.com/2015/12/python-list-comprehensions-now-in-color/>  \n"
   ]
  },
  {
   "cell_type": "code",
   "execution_count": 30,
   "metadata": {
    "collapsed": false
   },
   "outputs": [
    {
     "name": "stdout",
     "output_type": "stream",
     "text": [
      "[0.0, 1.4142135623730951, 2.0]\n",
      "{'a': 'testing', 'z': 'dict', 'n': 'this'}\n",
      "[('a', 'testing'), ('n', 'this'), ('z', 'dict')]\n"
     ]
    }
   ],
   "source": [
    "import math\n",
    "list = [0, 1, 2, 3, 4]\n",
    "newl = [math.sqrt(i) for i in list if not i%2]\n",
    "print(newl)\n",
    "\n",
    "keys = ['a', 'n', 'z']\n",
    "values = ['testing', 'this', 'dict']\n",
    "d = {key: value for (key, value) in zip(keys, values)}\n",
    "print(d)\n",
    "\n",
    "print(zip(keys, values))"
   ]
  },
  {
   "cell_type": "markdown",
   "metadata": {},
   "source": [
    "Nested loops can also be used in list comprehensions, just be careful of the order of writing the nested for loops. Write the for loops in the same sequence at it was written as  normal for loops."
   ]
  },
  {
   "cell_type": "code",
   "execution_count": 31,
   "metadata": {
    "collapsed": false
   },
   "outputs": [
    {
     "name": "stdout",
     "output_type": "stream",
     "text": [
      "[1, 2, 3, 4, 5, 6, 7, 8, 9]\n"
     ]
    }
   ],
   "source": [
    "flattened = []\n",
    "unflat = [[1,2,3],[4,5,6],[7,8,9]]\n",
    "for row in unflat:\n",
    "    for n in row:\n",
    "        flattened.append(n)\n",
    "print(flattened)"
   ]
  },
  {
   "cell_type": "code",
   "execution_count": 32,
   "metadata": {
    "collapsed": false
   },
   "outputs": [
    {
     "name": "stdout",
     "output_type": "stream",
     "text": [
      "[1, 2, 3, 4, 5, 6, 7, 8, 9]\n"
     ]
    }
   ],
   "source": [
    "flattenedlc = [n for row in unflat for n in row]\n",
    "print(flattenedlc)"
   ]
  },
  {
   "cell_type": "markdown",
   "metadata": {},
   "source": [
    "You can build lists of list or tuples to any depth and access them by indexing the elements.  But be careful not to try and construct multi-dimensional arrays this way - numpy provides much better functionality."
   ]
  },
  {
   "cell_type": "code",
   "execution_count": 33,
   "metadata": {
    "collapsed": false
   },
   "outputs": [
    {
     "name": "stdout",
     "output_type": "stream",
     "text": [
      "[[0, 1, 2, 3], [4, 5, 6, 7]]\n",
      "[0, 1, 2, 3]\n",
      "3\n"
     ]
    }
   ],
   "source": [
    "a = [[0, 1, 2, 3], [4, 5, 6, 7]]\n",
    "print(a)\n",
    "print(a[0])\n",
    "print(a[0][3])"
   ]
  },
  {
   "cell_type": "markdown",
   "metadata": {},
   "source": [
    "### Named Tuples:  `collections.namedtuple` "
   ]
  },
  {
   "cell_type": "markdown",
   "metadata": {},
   "source": [
    "<https://docs.python.org/2/library/collections.html#collections.namedtuple>  \n",
    "\n",
    "`collections.namedtuple(typename, field_names[, verbose=False][, rename=False])`  \n",
    "\n",
    "Returns a new tuple subclass named **typename**. The new subclass is used to create tuple-like objects that have fields accessible by attribute lookup as well as being indexable and iterable. \n",
    "\n",
    "The `field_names` are a sequence of strings or single string with each fieldname separated by whitespace and/or commas.\n",
    "\n",
    "Any valid Python identifier may be used for a fieldname except for names starting with an underscore. Valid identifiers consist of letters, digits, and underscores but do not start with a digit or underscore and cannot be a keyword such as class, for, return, global, pass, print, or raise.\n",
    "\n",
    "If `rename`is true, invalid fieldnames are automatically replaced with positional names. For example, `['abc', 'def', 'ghi', 'abc']` is converted to `['abc', '_1', 'ghi', '_3']`, eliminating the keyword `def` and the duplicate fieldname `abc`.\n",
    "\n",
    "If `verbose` is true, the class definition is printed just before being built."
   ]
  },
  {
   "cell_type": "markdown",
   "metadata": {},
   "source": [
    "Standard tuples use integer indexes to access the tuple members.  This is very easy to use, but it becomes cumbersome to remember which integer index associates with which member:"
   ]
  },
  {
   "cell_type": "code",
   "execution_count": 34,
   "metadata": {
    "collapsed": false
   },
   "outputs": [
    {
     "name": "stdout",
     "output_type": "stream",
     "text": [
      "Representation:('Bob', 30, 'male')\n",
      "\n",
      "Field by index: Jane\n",
      "\n",
      "Fields by index:\n",
      "Bob is a 30 year old male\n",
      "Jane is a 29 year old female\n"
     ]
    }
   ],
   "source": [
    "# http://pymotw.com/2/collections/namedtuple.html\n",
    "bob = ('Bob', 30, 'male')\n",
    "print('Representation:{}'.format(bob))\n",
    "\n",
    "jane = ('Jane', 29, 'female')\n",
    "print('\\nField by index: {}'.format(jane[0]))\n",
    "\n",
    "print '\\nFields by index:'\n",
    "for p in [ bob, jane ]:\n",
    "    # use tuple unpacking to unpack the tuple in to its elements\n",
    "    print('{} is a {} year old {}'.format(*p))"
   ]
  },
  {
   "cell_type": "markdown",
   "metadata": {},
   "source": [
    "A `namedtuple` is an object type in the `collections` module that allows you to name the members in the tuple.  The members can then be accessed by name.\n",
    "\n",
    "<http://pymotw.com/2/collections/namedtuple.html>  \n",
    "`namedtuple` instances are just as memory efficient as regular tuples because they do not have per-instance dictionaries. Each kind of `namedtuple` is represented by its own class, created by using the `namedtuple()` factory function. The arguments are the name of the new class and a string containing the names of the elements/members.  \n",
    "\n",
    "The `namedtuple` class checks for standard Python keywords (not allowed as field names) and repeated/duplicate field member names within one `namedtuple`.  The optional `rename=True` option allows the `namedtuple` class to rename the disallowed field names to other names.\n",
    "\n",
    "`namedtuple` is backawards compatible, you can still use integer index values and unpacking, as well as the named members."
   ]
  },
  {
   "cell_type": "code",
   "execution_count": 35,
   "metadata": {
    "collapsed": false
   },
   "outputs": [
    {
     "name": "stdout",
     "output_type": "stream",
     "text": [
      "Type of Person: <type 'type'>\n",
      "\n",
      "Representation: Person(name='Bob', age=30, gender='male')\n",
      "\n",
      "Field by name: Jane\n",
      "Field by name: Jane\n",
      "\n",
      "Fields by index:\n",
      "Bob is a 30 year old male\n",
      "Jane is a 29 year old female\n"
     ]
    }
   ],
   "source": [
    "#http://pymotw.com/2/collections/namedtuple.html\n",
    "import collections\n",
    "\n",
    "#note that field names are all in a single string, with whitespace separation\n",
    "Person = collections.namedtuple('Person', 'name age gender')\n",
    "\n",
    "print('Type of Person: {}'.format(type(Person)))\n",
    "\n",
    "bob = Person(name='Bob', age=30, gender='male')\n",
    "print('\\nRepresentation: {}'.format(bob))\n",
    "\n",
    "jane = Person(name='Jane', age=29, gender='female')\n",
    "print('\\nField by name: {}'.format(jane.name))\n",
    "print('Field by name: {}'.format(jane[0]))\n",
    "\n",
    "print '\\nFields by index:'\n",
    "for p in [ bob, jane ]:\n",
    "    print('{} is a {} year old {}'.format(*p))"
   ]
  },
  {
   "cell_type": "markdown",
   "metadata": {},
   "source": [
    "<http://stackoverflow.com/questions/2970608/what-are-named-tuples-in-python>  \n",
    "`namedtuple`s can be used similarly to struct or other common record types, except that they are immutable. \n",
    "\n",
    "You should use named tuples instead of tuples anywhere you think object notation will make your code more pythonic and more easily readable. For example to represent very simple value types, particularly when passing them as parameters to functions. It makes the functions more readable, without seeing the context of the tuple packing.\n",
    "\n",
    "Furthermore, you can also replace ordinary immutable classes that have no functions, only fields with them. You can even use your named tuple types as base classes:  \n",
    "\n",
    "    class Point(namedtuple('Point', 'x y')):\n",
    "        [...]"
   ]
  },
  {
   "cell_type": "code",
   "execution_count": 36,
   "metadata": {
    "collapsed": true
   },
   "outputs": [],
   "source": [
    "from collections import namedtuple\n",
    "Point = namedtuple('Point', 'x y')\n",
    "pt1 = Point(1.0, 5.0)\n",
    "pt2 = Point(2.5, 1.5)\n",
    "\n",
    "from math import sqrt\n",
    "line_length = sqrt((pt1.x-pt2.x)**2 + (pt1.y-pt2.y)**2)"
   ]
  },
  {
   "cell_type": "markdown",
   "metadata": {},
   "source": [
    "Named tuples can be converted to dictionaries using `pt1._asdict()` which returns an ordered dictionary.  To get a standard dictionary use `dict(pt1._asdict())`. The members of the resulting dictionary are not immutable and can be changed if required.  The example below also shows how to build a `namedtuple` from a `dict`."
   ]
  },
  {
   "cell_type": "code",
   "execution_count": 37,
   "metadata": {
    "collapsed": false
   },
   "outputs": [
    {
     "name": "stdout",
     "output_type": "stream",
     "text": [
      "Point(x=1.0, y=5.0) <class '__main__.Point'>\n",
      "OrderedDict([('x', 1.0), ('y', 5.0)]) <class 'collections.OrderedDict'>\n",
      "{'y': 5.0, 'x': 1.0} <type 'dict'>\n",
      "OrderedDict([('x', 1000), ('y', 5.0)]) <class 'collections.OrderedDict'>\n",
      "Point(x=1000, y=5.0) <class '__main__.Point'>\n",
      "Point field names are ('x', 'y')\n"
     ]
    }
   ],
   "source": [
    "print('{} {}'.format(pt1, type(pt1)))\n",
    "print('{} {}'.format(pt1._asdict(), type(pt1._asdict())))\n",
    "print('{} {}'.format(dict(pt1._asdict()), type(dict(pt1._asdict()))))\n",
    "pt1d = pt1._asdict()\n",
    "pt1d['x'] = 1000\n",
    "print('{} {}'.format(pt1d, type(pt1d)))\n",
    "\n",
    "# build a namedtuple from a dict:\n",
    "pt1 = Point(**pt1d)\n",
    "print('{} {}'.format(pt1, type(pt1)))\n",
    "\n",
    "#get the field names from namedtuple\n",
    "print('Point field names are {}'.format(pt1._fields))"
   ]
  },
  {
   "cell_type": "markdown",
   "metadata": {},
   "source": [
    "<https://docs.python.org/2/library/collections.html#collections.namedtuple>  \n",
    "\n",
    "Since a named tuple is a regular Python class, it is easy to add or change functionality with a subclass. Here is how to add a calculated field and a fixed-width print format:"
   ]
  },
  {
   "cell_type": "code",
   "execution_count": 38,
   "metadata": {
    "collapsed": false
   },
   "outputs": [
    {
     "name": "stdout",
     "output_type": "stream",
     "text": [
      "Point: x= 3.000  y= 4.000  hypot= 5.000\n",
      "Point: x=14.000  y= 0.714  hypot=14.018\n"
     ]
    }
   ],
   "source": [
    "class Point(namedtuple('Point', 'x y')):\n",
    "    __slots__ = ()\n",
    "    @property\n",
    "    def hypot(self):\n",
    "        return (self.x ** 2 + self.y ** 2) ** 0.5\n",
    "    def __str__(self):\n",
    "        return 'Point: x={:6.3f}  y={:6.3f}  hypot={:6.3f}'.format(self.x, self.y, self.hypot)\n",
    "\n",
    "for p in Point(3, 4), Point(14, 5/7.):\n",
    "    print(p)    "
   ]
  },
  {
   "cell_type": "markdown",
   "metadata": {},
   "source": [
    "Subclassing is not useful for adding new, stored fields. Instead, simply create a new named tuple type from the `_fields` attribute:  \n",
    "\n",
    "    Point3D = namedtuple('Point3D', Point._fields + ('z',))"
   ]
  },
  {
   "cell_type": "markdown",
   "metadata": {},
   "source": [
    "Default values can be implemented by using `_replace()` to customize a prototype instance:"
   ]
  },
  {
   "cell_type": "code",
   "execution_count": 39,
   "metadata": {
    "collapsed": false
   },
   "outputs": [
    {
     "name": "stdout",
     "output_type": "stream",
     "text": [
      "Account(owner='John', balance=50, transaction_count=0)\n"
     ]
    }
   ],
   "source": [
    "Account = namedtuple('Account', 'owner balance transaction_count')\n",
    "default_account = Account('<owner name>', 0.0, 0)\n",
    "johns_account = default_account._replace(owner='John', balance=50)\n",
    "print(johns_account)"
   ]
  },
  {
   "cell_type": "code",
   "execution_count": 40,
   "metadata": {
    "collapsed": true
   },
   "outputs": [],
   "source": [
    "# def preparefiles(filename):\n",
    "#     if os.path.isfile(filename):\n",
    "#         os.remove(filename)\n",
    "#     conn = sqlite3.connect(filename)\n",
    "#     conn.execute('''CREATE TABLE COMPANY\n",
    "#            (ID INT PRIMARY KEY     NOT NULL,\n",
    "#            NAME           TEXT    NOT NULL,\n",
    "#            AGE            INT     NOT NULL,\n",
    "#            ADDRESS        CHAR(50),\n",
    "#            SALARY         REAL);''')\n",
    "#     conn.execute(\"INSERT INTO COMPANY (ID,NAME,AGE,ADDRESS,SALARY) \\\n",
    "#           VALUES (1, 'Paul', 32, 'California', 20000.00 )\");\n",
    "#     conn.execute(\"INSERT INTO COMPANY (ID,NAME,AGE,ADDRESS,SALARY) \\\n",
    "#           VALUES (2, 'Allen', 25, 'Texas', 15000.00 )\");\n",
    "#     conn.execute(\"INSERT INTO COMPANY (ID,NAME,AGE,ADDRESS,SALARY) \\\n",
    "#           VALUES (3, 'Teddy', 23, 'Norway', 20000.00 )\");\n",
    "#     conn.execute(\"INSERT INTO COMPANY (ID,NAME,AGE,ADDRESS,SALARY) \\\n",
    "#           VALUES (4, 'Mark', 25, 'Rich-Mond ', 65000.00 )\");\n",
    "#     conn.commit()\n",
    "#     conn.close()\n"
   ]
  },
  {
   "cell_type": "markdown",
   "metadata": {},
   "source": [
    "<https://docs.python.org/2/library/collections.html#collections.namedtuple>  \n",
    "\n",
    "Named tuples are especially useful for assigning field names to result tuples returned by the `csv` or `sqlite3` modules. Note that the table names and the name tuple member names are not the same:"
   ]
  },
  {
   "cell_type": "code",
   "execution_count": 41,
   "metadata": {
    "collapsed": false
   },
   "outputs": [
    {
     "name": "stdout",
     "output_type": "stream",
     "text": [
      "from csv: Paul  20000.0 \n",
      "from csv: Allen  15000.0 \n",
      "from csv: Teddy  20000.0 \n",
      "from csv: Mark   65000.0 \n",
      "from sqlite3: Paul 32 California 20000.0\n",
      "from sqlite3: Allen 25 Texas 15000.0\n",
      "from sqlite3: Teddy 23 Norway 20000.0\n",
      "from sqlite3: Mark 25 Rich-Mond  65000.0\n"
     ]
    }
   ],
   "source": [
    "from collections import namedtuple\n",
    " \n",
    "EmployeeRecord = namedtuple('EmployeeRecord', 'name, age, address, paygrade')\n",
    "\n",
    "import csv\n",
    "for emp in map(EmployeeRecord._make, csv.reader(open('data/test.csv', \"rb\"))):\n",
    "    print('from csv: {} {} '.format(emp.name, emp.paygrade))\n",
    "\n",
    "import sqlite3\n",
    "conn = sqlite3.connect('data/test.db3')\n",
    "cursor = conn.cursor()\n",
    "cursor.execute('SELECT NAME,AGE,ADDRESS,SALARY FROM COMPANY')\n",
    "for emp in map(EmployeeRecord._make, cursor.fetchall()):\n",
    "    print('from sqlite3: {} {} {} {}'.format(emp.name, emp.age, emp.address, emp.paygrade))\n",
    "conn.close ;\n"
   ]
  },
  {
   "cell_type": "markdown",
   "metadata": {},
   "source": [
    "### Generators, iterators and yield --- more detail to follow.\n",
    "\n",
    "<http://anandology.com/python-practice-book/iterators.html>  \n",
    "<http://www.jeffknupp.com/blog/2013/04/07/improve-your-python-yield-and-generators-explained/>  \n",
    "<https://wiki.python.org/moin/Generators>  \n",
    "<http://www.bogotobogo.com/python/python_generators.php>  \n",
    "<http://zetcode.com/lang/python/itergener/>  \n",
    "<http://nbviewer.ipython.org/github/empet/pytwist/blob/master/Generators-and-Dynamical-Systs.ipynb>  \n"
   ]
  },
  {
   "cell_type": "markdown",
   "metadata": {},
   "source": [
    "### Functions as objects"
   ]
  },
  {
   "cell_type": "markdown",
   "metadata": {},
   "source": [
    "A function name is *just a name* bound to a function object and can be handled just as *any other name*.  Study the following code to see how the predicate function is passed as a function parameter.  This example counts the number of times that a certain condition ocurred.  \n",
    "<https://www.jeffknupp.com/blog/2013/11/29/improve-your-python-decorators-explained/>"
   ]
  },
  {
   "cell_type": "code",
   "execution_count": 42,
   "metadata": {
    "collapsed": false
   },
   "outputs": [
    {
     "name": "stdout",
     "output_type": "stream",
     "text": [
      "True\n",
      "False\n",
      "3\n"
     ]
    }
   ],
   "source": [
    "def is_even(value):\n",
    "    \"\"\"Return True if *value* is even.\n",
    "    \"\"\"\n",
    "    #this is a comment\n",
    "    return (value % 2) == 0\n",
    "\n",
    "print(is_even(4))\n",
    "print(is_even(5))\n",
    "\n",
    "def count_occurrences(target_list, predicate):\n",
    "    \"\"\"Return the number of times applying the callable *predicate* to a\n",
    "    list element returns True.\n",
    "    \"\"\"\n",
    "    return sum([1 for e in target_list if predicate(e)])\n",
    "\n",
    "my_predicate = is_even\n",
    "my_list = [2, 4, 6, 7, 9, 11]\n",
    "result = count_occurrences(my_list, my_predicate)\n",
    "print(result)"
   ]
  },
  {
   "cell_type": "markdown",
   "metadata": {},
   "source": [
    "Here is another example, the function name is an entry into a dictionary.  \n",
    "<http://code.activestate.com/recipes/65126-dictionary-of-methodsfunctions/>"
   ]
  },
  {
   "cell_type": "code",
   "execution_count": 43,
   "metadata": {
    "collapsed": false
   },
   "outputs": [
    {
     "name": "stdout",
     "output_type": "stream",
     "text": [
      "called function 1 with 0\n",
      "called function 1 with 1\n",
      "called function 2 with 2\n"
     ]
    }
   ],
   "source": [
    "import string\n",
    "\n",
    "def function1(i):\n",
    "    print('called function 1 with {}'.format(i))\n",
    "\n",
    "def function2(i):\n",
    "    print('called function 2 with {}'.format(i))\n",
    "\n",
    "tokenDict = {\"cat\":function1, \"dog\":function2}\n",
    "\n",
    "# simulate, say, lines read from a file\n",
    "lines = [\"cat\",\"cat\",\"dog\"]\n",
    "\n",
    "for i,line in enumerate(lines):\n",
    "    tokenDict[line](i)\n"
   ]
  },
  {
   "cell_type": "markdown",
   "metadata": {},
   "source": [
    "### Don't use mutable objects as default function parameters"
   ]
  },
  {
   "cell_type": "markdown",
   "metadata": {},
   "source": [
    "Python will create the mutable object (default parameter) the first time the function is defined (i.e. the function is created or imported) - not when it is called.\n",
    "\n",
    "<http://nbviewer.ipython.org/github/rasbt/python_reference/blob/master/not_so_obvious_python_stuff.ipynb?create=1>"
   ]
  },
  {
   "cell_type": "code",
   "execution_count": 44,
   "metadata": {
    "collapsed": false
   },
   "outputs": [
    {
     "name": "stdout",
     "output_type": "stream",
     "text": [
      "[1]\n",
      "[1, 2]\n"
     ]
    }
   ],
   "source": [
    "def append_to_list(value, def_list=[]):\n",
    "    def_list.append(value)\n",
    "    return def_list\n",
    "\n",
    "my_list = append_to_list(1)\n",
    "print(my_list)\n",
    "\n",
    "my_other_list = append_to_list(2)\n",
    "print(my_other_list)"
   ]
  },
  {
   "cell_type": "code",
   "execution_count": 45,
   "metadata": {
    "collapsed": false
   },
   "outputs": [
    {
     "name": "stdout",
     "output_type": "stream",
     "text": [
      "1460908373.69\n",
      "1460908373.69\n"
     ]
    }
   ],
   "source": [
    "import time\n",
    "def report_arg(my_default=time.time()):\n",
    "    print(my_default)\n",
    "\n",
    "report_arg()\n",
    "time.sleep(1)\n",
    "report_arg()"
   ]
  },
  {
   "cell_type": "markdown",
   "metadata": {},
   "source": [
    "### Reading and writing files\n",
    "\n",
    "Use the `with` construct, it is more robust to errors.  In this code we first create a random collection of words. It is then written to a file. This file is then read in and processed, printing the results each time.  \n",
    "<http://effbot.org/zone/python-with-statement.htm>\n"
   ]
  },
  {
   "cell_type": "code",
   "execution_count": 46,
   "metadata": {
    "collapsed": false
   },
   "outputs": [
    {
     "name": "stdout",
     "output_type": "stream",
     "text": [
      "a*b*c\n",
      "a-o0o-b-o0o-c\n",
      "Text to be written to file\n",
      "wPQkZKF FoB FnlRM BUHqQ h pUc hIPROW qL wMWuK n\n",
      "RqTgBas J PoUm iXfwa Us lYPOc Yc bl ZJDH X\n",
      "YNzFAOL XHTOx MLcX urJFk L NGEjhUC RtnvPCf lDoC KoOmZJ VoRhL\n",
      "QPeM peBDt Khdbesp u TampySZ ANZ jRXkV lkKqS fB pOUBE\n",
      "\n",
      "Single string dump of all the text read in from the file\n",
      "wPQkZKF FoB FnlRM BUHqQ h pUc hIPROW qL wMWuK n\n",
      "RqTgBas J PoUm iXfwa Us lYPOc Yc bl ZJDH X\n",
      "YNzFAOL XHTOx MLcX urJFk L NGEjhUC RtnvPCf lDoC KoOmZJ VoRhL\n",
      "QPeM peBDt Khdbesp u TampySZ ANZ jRXkV lkKqS fB pOUBE\n",
      "\n",
      "Read in as lines from the file\n",
      "['wPQkZKF FoB FnlRM BUHqQ h pUc hIPROW qL wMWuK n\\n', 'RqTgBas J PoUm iXfwa Us lYPOc Yc bl ZJDH X\\n', 'YNzFAOL XHTOx MLcX urJFk L NGEjhUC RtnvPCf lDoC KoOmZJ VoRhL\\n', 'QPeM peBDt Khdbesp u TampySZ ANZ jRXkV lkKqS fB pOUBE']\n",
      "\n",
      "Printing the lines one at a time after removing the newline\n",
      "wPQkZKF FoB FnlRM BUHqQ h pUc hIPROW qL wMWuK n\n",
      "RqTgBas J PoUm iXfwa Us lYPOc Yc bl ZJDH X\n",
      "YNzFAOL XHTOx MLcX urJFk L NGEjhUC RtnvPCf lDoC KoOmZJ VoRhL\n",
      "QPeM peBDt Khdbesp u TampySZ ANZ jRXkV lkKqS fB pOUBE\n",
      "\n",
      "Printing the words for each line\n",
      "['wPQkZKF', 'FoB', 'FnlRM', 'BUHqQ', 'h', 'pUc', 'hIPROW', 'qL', 'wMWuK', 'n']\n",
      "['RqTgBas', 'J', 'PoUm', 'iXfwa', 'Us', 'lYPOc', 'Yc', 'bl', 'ZJDH', 'X']\n",
      "['YNzFAOL', 'XHTOx', 'MLcX', 'urJFk', 'L', 'NGEjhUC', 'RtnvPCf', 'lDoC', 'KoOmZJ', 'VoRhL']\n",
      "['QPeM', 'peBDt', 'Khdbesp', 'u', 'TampySZ', 'ANZ', 'jRXkV', 'lkKqS', 'fB', 'pOUBE']\n"
     ]
    }
   ],
   "source": [
    "import random, string, os\n",
    "\n",
    "#the join function uses the given string to join the elements given in the function parameter list\n",
    "a = ['a','b','c']\n",
    "print('*'.join(a))     \n",
    "print('-o0o-'.join(a))     \n",
    "\n",
    "#first create some random text - for extra marks figure out how this is done...\n",
    "text = '\\n'.join([' '.join([''.join(random.sample(string.letters,\\\n",
    "                random.randint(1,7))) for i in range(10)]) for i in range(4)])\n",
    "print('Text to be written to file')\n",
    "print(text)\n",
    "\n",
    "#Write the text to file\n",
    "filename = \"x.txt\"\n",
    "with open(filename,'w') as f:\n",
    "    f.write(text)\n",
    "    \n",
    "print('\\nSingle string dump of all the text read in from the file')\n",
    "with open(\"x.txt\",'r') as f:\n",
    "    data = f.read()\n",
    "    print(data)\n",
    "    \n",
    "with open(filename,'r') as f:\n",
    "    lines = f.readlines()\n",
    "    print('\\nRead in as lines from the file')\n",
    "    print(lines)\n",
    "    print('\\nPrinting the lines one at a time after removing the newline')\n",
    "    for line in lines:\n",
    "        print(line.strip())\n",
    "    print('\\nPrinting the words for each line')\n",
    "    for line in lines:\n",
    "        words = line.split()\n",
    "        print(words)\n",
    "#delete the file        \n",
    "try:\n",
    "    os.remove(filename)\n",
    "except OSError:\n",
    "    pass        "
   ]
  },
  {
   "cell_type": "markdown",
   "metadata": {},
   "source": [
    "### Reading and writing raw binary files"
   ]
  },
  {
   "cell_type": "markdown",
   "metadata": {},
   "source": [
    "Binary files are handled the same as text files, but with file open modes `rb` or `wb`:  \n",
    "\n",
    "    # Read the entire file as a single byte string\n",
    "    with open('binaryfile.bin', 'rb') as f:\n",
    "        data = f.read()\n",
    "\n",
    "    # Write binary data to a file\n",
    "    with open('binaryfile.bin', 'wb') as f:\n",
    "        f.write(b'Hello World')\n",
    "        \n",
    "When reading binary all data returned will be in the form of byte strings, not text strings. Similarly, when writing, you must supply data in the form of objects that expose data as bytes.\n",
    "\n",
    "Using Python arrays, values can be written without conversion to a bytes object. The data type must be declared in the first parameter of the `array.array` function.  These [data types](https://docs.python.org/2/library/array.html) include signed and unsigned shorts, ints, longs, doubles, and unicode.\n",
    "\n",
    "    import array\n",
    "    nums = array.array('i', [1, 2, 3, 4])\n",
    "    with open('data.bin','wb') as f:\n",
    "        f.write(nums)\n",
    "\n",
    "<https://docs.python.org/2/library/array.html>  \n",
    "<http://chimera.labs.oreilly.com/books/1230000000393/ch05.html#_discussion_75>  \n",
    "\n",
    "The following code writes two unsigned integers, two doubles and a numpy array to raw binary format:"
   ]
  },
  {
   "cell_type": "code",
   "execution_count": 47,
   "metadata": {
    "collapsed": false
   },
   "outputs": [],
   "source": [
    "import numpy as np\n",
    "import array\n",
    "img = np.ones((3,3))\n",
    "with open('binfile.bin','wb') as fo:\n",
    "  header = array.array('I',[512, 1024])\n",
    "  fo.write(header)\n",
    "  header = array.array('d',[700, 1250])\n",
    "  fo.write(header)\n",
    "  img.tofile(fo)\n"
   ]
  },
  {
   "cell_type": "markdown",
   "metadata": {},
   "source": [
    "### Watch out for <font color=\"red\">integer</font> numbers\n",
    "\n",
    "It seems that Numpy interprets 400 as an integer int32. When this int32 value is raised to the fourth power, the value overflows, resulting in a _negative_ number.  This error can easily happen when entering integer temperature values, raised to a high power.  \n",
    "\n",
    "In [`ryplanck`](http://nelisw.github.io/pyradi-docs/_build/html/ryplanck.html#module-pyradi.ryplanck), all temperature input values are always converted to float with `.astype(float)` (but only in [`ryplanck`](http://nelisw.github.io/pyradi-docs/_build/html/ryplanck.html#module-pyradi.ryplanck))."
   ]
  },
  {
   "cell_type": "code",
   "execution_count": 48,
   "metadata": {
    "collapsed": false
   },
   "outputs": [
    {
     "name": "stdout",
     "output_type": "stream",
     "text": [
      "int32\n",
      "[-2147483648 -2147483648]\n",
      "[-2147483648 -2147483648]\n",
      "float64\n",
      "[  2.56000000e+10   6.25000000e+10]\n"
     ]
    },
    {
     "name": "stderr",
     "output_type": "stream",
     "text": [
      "C:\\Anaconda2\\lib\\site-packages\\ipykernel\\__main__.py:4: RuntimeWarning: invalid value encountered in power\n",
      "C:\\Anaconda2\\lib\\site-packages\\ipykernel\\__main__.py:5: RuntimeWarning: invalid value encountered in power\n"
     ]
    }
   ],
   "source": [
    "import numpy as np\n",
    "tt = np.asarray([400, 500])\n",
    "print(tt.dtype)\n",
    "print(np.power(tt, 4))\n",
    "print(tt**4)\n",
    "\n",
    "tt = np.asarray([400, 500]).astype(float)\n",
    "print(tt.dtype)\n",
    "print(np.power(tt, 4))\n"
   ]
  },
  {
   "cell_type": "markdown",
   "metadata": {},
   "source": [
    "### Reading user keyboard input"
   ]
  },
  {
   "cell_type": "markdown",
   "metadata": {},
   "source": [
    "Reading user input - this even works in the IPython notebook! Strings must be in quotes. You can even enter lists and dictionaries!"
   ]
  },
  {
   "cell_type": "code",
   "execution_count": 49,
   "metadata": {
    "collapsed": false
   },
   "outputs": [],
   "source": [
    "# foo=input('Please enter a value:')\n",
    "# print(foo)"
   ]
  },
  {
   "cell_type": "markdown",
   "metadata": {},
   "source": [
    "### Accessing files on the internet\n",
    "\n",
    "The Python [`urllib2`](http://docs.python.org/2/howto/urllib2.html) package makes is relatively easy to access a file on the internet.  See also the functions \n",
    "[`ryfiles.unzipGZipfile`](http://nelisw.github.io/pyradi-docs/_build/html/ryfiles.html#pyradi.ryfiles.unzipGZipfile),\n",
    "[`ryfiles.untarTarfile`](http://nelisw.github.io/pyradi-docs/_build/html/ryfiles.html#pyradi.ryfiles.untarTarfile), and \n",
    "[`ryfiles.downloadFileUrl`](http://nelisw.github.io/pyradi-docs/_build/html/ryfiles.html#pyradi.ryfiles.downloadFileUrl).\n"
   ]
  },
  {
   "cell_type": "markdown",
   "metadata": {},
   "source": [
    "### Python functions"
   ]
  },
  {
   "cell_type": "code",
   "execution_count": 50,
   "metadata": {
    "collapsed": false
   },
   "outputs": [
    {
     "name": "stdout",
     "output_type": "stream",
     "text": [
      "25\n",
      "25.0\n"
     ]
    }
   ],
   "source": [
    "def square(value):\n",
    "    return value ** 2\n",
    "\n",
    "print(square(5))\n",
    "print(square(5.))"
   ]
  },
  {
   "cell_type": "markdown",
   "metadata": {},
   "source": [
    "Functions can return anything, here it returns (1) a tuple of values, (2) a function that can be called. If you only want some of the values in the returned tuple, indicate those to ignore with underscore `_`."
   ]
  },
  {
   "cell_type": "code",
   "execution_count": 51,
   "metadata": {
    "collapsed": false
   },
   "outputs": [
    {
     "name": "stdout",
     "output_type": "stream",
     "text": [
      "(5, 25, 'five')\n",
      "25\n",
      "five\n",
      "-------------\n",
      "(5, 25, 'five')\n",
      "-------------\n",
      "five\n"
     ]
    }
   ],
   "source": [
    "def square(value):\n",
    "    dicStr = {0:'zero',2:'two',5:'five',}\n",
    "    rtnval = (value, value ** 2, dicStr[value])\n",
    "    return rtnval\n",
    "\n",
    "print(square(5))\n",
    "print(square(5)[1])\n",
    "print(square(5)[-1])\n",
    "print('-------------')\n",
    "\n",
    "def squarefn():\n",
    "    return square\n",
    "print(squarefn()(5))\n",
    "print('-------------')\n",
    "\n",
    "_, _, rtn = squarefn()(5)\n",
    "print(rtn)\n"
   ]
  },
  {
   "cell_type": "markdown",
   "metadata": {},
   "source": [
    "Functions can have named parameters where values are assigned by name. Furthermore, function parameters can define default values to be used if the user does not supply a value."
   ]
  },
  {
   "cell_type": "code",
   "execution_count": 52,
   "metadata": {
    "collapsed": false
   },
   "outputs": [
    {
     "name": "stdout",
     "output_type": "stream",
     "text": [
      "25\n",
      "625\n"
     ]
    }
   ],
   "source": [
    "def power(value, power=2):\n",
    "    return value ** power\n",
    "\n",
    "print(power(value=5))\n",
    "print(power(value=5, power=4))"
   ]
  },
  {
   "cell_type": "markdown",
   "metadata": {},
   "source": [
    "## Exception and Error Handling"
   ]
  },
  {
   "cell_type": "markdown",
   "metadata": {},
   "source": [
    "Python has exception handling, with the try/exception structure. The code in the try block is evaluated and if an error occurred the code in the except block is executed to handle the error condition."
   ]
  },
  {
   "cell_type": "code",
   "execution_count": 53,
   "metadata": {
    "collapsed": false
   },
   "outputs": [
    {
     "name": "stdout",
     "output_type": "stream",
     "text": [
      "Appending to a tuple is not allowed\n"
     ]
    }
   ],
   "source": [
    "a = (1, 2)\n",
    "try:\n",
    "    a.append(4)\n",
    "except:\n",
    "    print('Appending to a tuple is not allowed')\n"
   ]
  },
  {
   "cell_type": "markdown",
   "metadata": {},
   "source": [
    "## Python Standard Library Logger"
   ]
  },
  {
   "cell_type": "markdown",
   "metadata": {},
   "source": [
    "The `logging` module in the standard library provides a reasonably powerful logger capability.  This examples shows how to log to two files at the same time.  The case in point is for a session-level logfile, plus any number of lower level detailed log files.\n",
    "\n",
    "The `logging` module provides a global-scope object, so there is no need to pass the object along between functions or objects.  \n",
    "\n",
    "The global `logging` object provides the functionality to have any number of individual loggers, which can be accessed by using a  key (the filename) to indicate which logger you want to use.  The file that is physically created on disk is named using the key, appended with '.log'.  \n",
    "\n",
    "The logger shown here opens handlers to cout and a disk file, each providing different levels of logging.  The logger is created by the function `setUpLogFile` and is subsequently activated by code of the form `logging.getLogger(filename)`, where `filename` is the logfile filename (which also serves as the key to the logger).\n",
    "\n",
    "The example code below provides the functionality where the user can provide a path to where the logfile must be created on disk (relative to where the current working directory).   \n",
    "\n",
    "\n",
    "The Python logging module provides the following threshold levels:  CRITICAL, ERROR, WARNING, INFO, DEBUG, NOTSET in order of severity.  When logging, all messages marked with a level equal to, or higher than the threshold level, will be printed.  At the highest level only critical messages will be printed, whereas at the debug level all higher level prints are also performed.\n",
    "\n",
    "The class `SpecialFormatter` defines how the different levels of output are formatted.\n",
    "\n",
    "This code is based on an example by Lynette van der Westhuizen."
   ]
  },
  {
   "cell_type": "code",
   "execution_count": 54,
   "metadata": {
    "collapsed": false
   },
   "outputs": [],
   "source": [
    "import logging\n",
    "import datetime as dt\n",
    "import sys\n",
    "import os.path\n",
    "\n",
    "#===============================================================================\n",
    "def setUpLogFile(logfilename, saveDir, logLevelCmnd=logging.WARNING, logLevelFile=logging.DEBUG):\n",
    "    \"\"\"Set up the log file for IDA.\n",
    "\n",
    "    Args:\n",
    "        | logfilename (string) : Name of the log file - this is also the key to access the logger.\n",
    "        | saveDir (string) : Directory to save the log file, relative to cwd.\n",
    "        | logLevel (string): log level (logging.ERROR, logging.WARNING, logging.INFO, logging.DEBUG)\n",
    "\n",
    "    Returns:\n",
    "        | newLogger (logging file) : Retruns a log file with the name [logfilename]Log.\n",
    "                             A log file [logfilename]Log.log is created in saveDir.\n",
    "    Raises:\n",
    "        | None\n",
    "    \"\"\"\n",
    "\n",
    "    #--- Get the log file and to log all logLevel\n",
    "    newLogger = logging.getLogger(logfilename)\n",
    "    newLogger.setLevel(logLevelCmnd)\n",
    "    newLogger.handlers=[] #Ensure no handlers so that duplicates aren't added in the event the code crashed and logger didn't close\n",
    "\n",
    "    #--- Set a file handler log from level :\n",
    "    filepath = os.path.join(saveDir, logfilename.lower())\n",
    "    fileHdlr = logging.FileHandler(\"{}.log\".format(filepath),'w')\n",
    "    fileHdlr.setLevel(logLevelFile)\n",
    "    fileHdlr.setFormatter(SpecialFormatter())\n",
    "    newLogger.addHandler(fileHdlr)\n",
    "\n",
    "    #--- Set a command window handler log from level WARNING\n",
    "    cmdHdlr = logging.StreamHandler()\n",
    "    cmdHdlr.setLevel(logLevelCmnd)\n",
    "    cmdHdlr.setFormatter(SpecialFormatter())\n",
    "    newLogger.addHandler(cmdHdlr)\n",
    "\n",
    "    #--- Print the log file creation time\n",
    "    printCreationTime = '\\n==========================================================\\n'+\\\n",
    "                        'Date of execution: {} {}\\n'.format(dt.datetime.now(), logfilename) +\\\n",
    "                        '==========================================================\\n\\n'.format(logfilename)\n",
    "    newLogger.info(printCreationTime)\n",
    "\n",
    "    return newLogger\n",
    "\n",
    "#===============================================================================\n",
    "class SpecialFormatter(logging.Formatter):\n",
    "    \"\"\"Sets the formats of the levels to print for a logging file.\n",
    "\n",
    "        All messages printing to the log file will have the format as specified\n",
    "        by the log file level.\n",
    "        http://stackoverflow.com/questions/1343227/can-pythons-logging-format-be-modified-depending-on-the-message-log-level\n",
    "    \"\"\"\n",
    "    #--Set format: format valid for python 2\n",
    "    FORMATS = { \n",
    "                logging.CRITICAL: \"CRITICAL - module %(module)s line %(lineno)d: %(message)s\",\n",
    "                logging.ERROR   : \"ERROR - module %(module)s line %(lineno)d: %(message)s\",\n",
    "                logging.WARNING : \"WARNING - module %(module)s line %(lineno)d: %(message)s\",\n",
    "                logging.INFO    : \"INFO %(message)s\",\n",
    "                logging.DEBUG   : \"DEBUG - module %(module)s line %(lineno)d: %(message)s\",\n",
    "                'DEFAULT'       : \"%(levelname)s: %(message)s\"}\n",
    "\n",
    "    #---Define format\n",
    "    def format(self, record):\n",
    "        \"\"\"Defines the logging message format.\n",
    "        \"\"\"\n",
    "        self._fmt = self.FORMATS.get(record.levelno, self.FORMATS['DEFAULT'])\n",
    "        return logging.Formatter.format(self, record)\n"
   ]
  },
  {
   "cell_type": "markdown",
   "metadata": {},
   "source": [
    "The logger is demonstrated here by writing one session-level logfile and two lower-level logfiles.  Note that, because the `logging` module is global, you do not need to copy it around.  The appropriate logger must be activated by the `logging.getLogger()` function - all subsequent logging with be to that specific logger."
   ]
  },
  {
   "cell_type": "code",
   "execution_count": 55,
   "metadata": {
    "collapsed": false
   },
   "outputs": [
    {
     "name": "stderr",
     "output_type": "stream",
     "text": [
      "INFO \n",
      "==========================================================\n",
      "Date of execution: 2016-04-17 17:52:54.895000 analysis\n",
      "==========================================================\n",
      "\n",
      "\n",
      "ERROR - module <ipython-input-55-fc11c5733b8b> line 6: this is an error message to anaLogFile\n",
      "INFO \n",
      "==========================================================\n",
      "Date of execution: 2016-04-17 17:52:54.900000 a\n",
      "==========================================================\n",
      "\n",
      "\n",
      "INFO \n",
      "==========================================================\n",
      "Date of execution: 2016-04-17 17:52:54.903000 b\n",
      "==========================================================\n",
      "\n",
      "\n",
      "ERROR - module <ipython-input-55-fc11c5733b8b> line 14: this is an error message to anaLogFile a\n",
      "ERROR - module <ipython-input-55-fc11c5733b8b> line 16: writing to logfile a at ERROR level\n",
      "INFO writing to logfile a at INFO level\n",
      "ERROR - module <ipython-input-55-fc11c5733b8b> line 14: this is an error message to anaLogFile b\n",
      "ERROR - module <ipython-input-55-fc11c5733b8b> line 16: writing to logfile b at ERROR level\n",
      "INFO writing to logfile b at INFO level\n"
     ]
    }
   ],
   "source": [
    "#set up the session logger\n",
    "analysisName = 'analysis'\n",
    "saveDir = '.' \n",
    "setUpLogFile(analysisName, '.', logLevelCmnd=logging.INFO, logLevelFile=logging.INFO)\n",
    "anaLog = logging.getLogger(analysisName)\n",
    "anaLog.error('this is an error message to anaLogFile')\n",
    "\n",
    "#set up the specialist loggers\n",
    "for i in ['a','b']:\n",
    "    setUpLogFile(i, '.', logLevelCmnd=logging.INFO, logLevelFile=logging.INFO)\n",
    "\n",
    "#use the session and specialist loggers.\n",
    "for i in ['a','b']:\n",
    "    anaLog.error('this is an error message to anaLogFile {}'.format(i) )\n",
    "    iLog = logging.getLogger(i)\n",
    "    iLog.error('writing to logfile {} at ERROR level'.format(i) )\n",
    "    iLog.info('writing to logfile {} at INFO level'.format(i) )\n"
   ]
  },
  {
   "cell_type": "markdown",
   "metadata": {},
   "source": [
    "## The `switch/case` Statement in Python"
   ]
  },
  {
   "cell_type": "markdown",
   "metadata": {},
   "source": [
    "All of this comes from <http://www.pydanny.com/why-doesnt-python-have-switch-case.html>\n",
    "    \n",
    "Python does not have a switch or case statement. To get around this fact, we use dictionary mapping:    "
   ]
  },
  {
   "cell_type": "code",
   "execution_count": 56,
   "metadata": {
    "collapsed": false
   },
   "outputs": [
    {
     "name": "stdout",
     "output_type": "stream",
     "text": [
      "one\n"
     ]
    }
   ],
   "source": [
    "def numbers_to_strings(argument):\n",
    "    switcher = {\n",
    "        0: \"zero\",\n",
    "        1: \"one\",\n",
    "        2: \"two\",\n",
    "    }\n",
    "    return switcher.get(argument, \"nothing\")\n",
    "\n",
    "print(numbers_to_strings(1))"
   ]
  },
  {
   "cell_type": "markdown",
   "metadata": {},
   "source": [
    "Dictionary Mapping for Functions"
   ]
  },
  {
   "cell_type": "code",
   "execution_count": 57,
   "metadata": {
    "collapsed": false
   },
   "outputs": [
    {
     "name": "stdout",
     "output_type": "stream",
     "text": [
      "('one', 'two')\n"
     ]
    }
   ],
   "source": [
    "def zero():\n",
    "    return \"zero\"\n",
    "\n",
    "def one():\n",
    "    return \"one\"\n",
    "\n",
    "def numbers_to_functions_to_strings(argument):\n",
    "    switcher = {\n",
    "        0: zero,\n",
    "        1: one,\n",
    "        2: lambda: \"two\",\n",
    "    }\n",
    "    # Get the function from switcher dictionary\n",
    "    func = switcher.get(argument, lambda: \"nothing\")\n",
    "    # Execute the function\n",
    "    return func()\n",
    "\n",
    "print(numbers_to_strings(1), numbers_to_strings(2))"
   ]
  },
  {
   "cell_type": "markdown",
   "metadata": {},
   "source": [
    "If we don't know what method to call on a class, we can use a dispatch method to determine it at runtime."
   ]
  },
  {
   "cell_type": "code",
   "execution_count": 58,
   "metadata": {
    "collapsed": false
   },
   "outputs": [
    {
     "name": "stdout",
     "output_type": "stream",
     "text": [
      "('zero', 'two')\n"
     ]
    }
   ],
   "source": [
    "class Switcher(object):\n",
    "    def numbers_to_methods_to_strings(self, argument):\n",
    "        \"\"\"Dispatch method\"\"\"\n",
    "        # prefix the method_name with 'number_' because method names\n",
    "        # cannot begin with an integer.\n",
    "        method_name = 'number_' + str(argument)\n",
    "        # Get the method from 'self'. Default to a lambda.\n",
    "        method = getattr(self, method_name, lambda: \"nothing\")\n",
    "        # Call the method as we return it\n",
    "        return method()\n",
    "\n",
    "    def number_0(self):\n",
    "        return \"zero\"\n",
    "\n",
    "    def number_1(self):\n",
    "        return \"one\"\n",
    "\n",
    "    def number_2(self):\n",
    "        return \"two\"\n",
    "    \n",
    "sw = Switcher()\n",
    "\n",
    "print(sw.numbers_to_methods_to_strings(0),sw.numbers_to_methods_to_strings(2))  "
   ]
  },
  {
   "cell_type": "markdown",
   "metadata": {},
   "source": [
    "## Python Classes"
   ]
  },
  {
   "cell_type": "markdown",
   "metadata": {},
   "source": [
    "Not presently covered here. Please google."
   ]
  },
  {
   "cell_type": "markdown",
   "metadata": {},
   "source": [
    "## Esoteric Python tidbits"
   ]
  },
  {
   "cell_type": "markdown",
   "metadata": {},
   "source": [
    "<http://nbviewer.ipython.org/github/rasbt/python_reference/blob/master/not_so_obvious_python_stuff.ipynb?create=1>  \n",
    "<http://sahandsaba.com/thirty-python-language-features-and-tricks-you-may-not-know.html>  \n"
   ]
  },
  {
   "cell_type": "markdown",
   "metadata": {},
   "source": [
    "[Python variables can have data types](http://jugad2.blogspot.com/2014/04/python-variables-can-have-types-as.html), see the link for more details."
   ]
  },
  {
   "cell_type": "code",
   "execution_count": 59,
   "metadata": {
    "collapsed": false
   },
   "outputs": [
    {
     "name": "stdout",
     "output_type": "stream",
     "text": [
      "<type 'type'>\n",
      "7\n",
      "1212121212\n",
      "in Foo.bar()\n"
     ]
    }
   ],
   "source": [
    "a = int\n",
    "print(type(a))\n",
    "print a('3') + 4\n",
    "\n",
    "b = str\n",
    "print b(12) * 5\n",
    "\n",
    "class Foo:\n",
    "     def bar(self):\n",
    "         print \"in Foo.bar()\"\n",
    "\n",
    "f = Foo\n",
    "f().bar()"
   ]
  },
  {
   "cell_type": "markdown",
   "metadata": {},
   "source": [
    "## Numpy Basics"
   ]
  },
  {
   "cell_type": "markdown",
   "metadata": {},
   "source": [
    "Before numpy can be used it must be imported into the workspace. Note that it is already pre-loaded in IPython, but not in other scipts.  By general convention, it is normally imported as `np`.\n",
    "\n",
    "[Working with NumPy arrays](http://nbviewer.ipython.org/github/LUMC/programming-course/blob/master/numpy.ipynb).  \n",
    "[Numpy performance tricks](http://cyrille.rossant.net/numpy-performance-tricks/)"
   ]
  },
  {
   "cell_type": "code",
   "execution_count": 60,
   "metadata": {
    "collapsed": false
   },
   "outputs": [],
   "source": [
    "import numpy as np"
   ]
  },
  {
   "cell_type": "markdown",
   "metadata": {},
   "source": [
    "### Creating Numpy arrays"
   ]
  },
  {
   "cell_type": "markdown",
   "metadata": {},
   "source": [
    "There are many more ways to create arrays we are only using one method.  See <http://docs.scipy.org/doc/numpy/reference/routines.array-creation.html>\n",
    "\n",
    "Numpy essentially provides arrays and matrices. A matrix is the numpy equivalent of a linear algebra matrix, while the array is just a structured set of data. Matrices and arrays both have N-dimensional structure, but the operations on these are different. Numpy arrays perform operations on element-wise level (unless otherwise told), which means that the multiplication of two numpy arrays yield a new array of the same size where each element is the multiplication of the elements in the same location of the two input arrays.\n",
    "\n",
    "Numpy uses the linear algebra term, _rank_ to denote the array number of dimensions. Rank-two arrays can only appear in one guise, that of an MxN array.  A vector (one-dimensional array) can appear in three different guises, each of which is slightly different: (N,) (N,1) or (1,N) - and these different forms don't interoperate very well (as they seem to do in Matlab).\n",
    "\n",
    "For example the transpose of (N,) is still (N,) because (N,) is a rank-one array, for which the transpose is not defined. So when using vectors (and we do use them extensively) be careful of this this difference.\n",
    "\n",
    "Numpy arrays have a `shape` attribute that returns the size of the array. For rank-two arrays, the first value can be interpreted as the number of rows, then columns."
   ]
  },
  {
   "cell_type": "code",
   "execution_count": 61,
   "metadata": {
    "collapsed": false
   },
   "outputs": [
    {
     "name": "stdout",
     "output_type": "stream",
     "text": [
      "(3L,)\n",
      "(3L,)\n",
      "(11L,)\n",
      "(3L,)\n",
      "(3L,)\n",
      "(3L, 3L)\n",
      "[[ 1.  0.  0.]\n",
      " [ 0.  1.  0.]\n",
      " [ 0.  0.  1.]]\n"
     ]
    }
   ],
   "source": [
    "a = np.asarray([1, 2, 3]) # construct from a list\n",
    "print(a.shape)\n",
    "b = np.array(a) #construct from another array\n",
    "print(b.shape)\n",
    "c = np.linspace(0,10,11) # 11 elements, ranging from 0 to 10\n",
    "print(c.shape)\n",
    "print(np.ones(a.shape).shape)\n",
    "print(np.zeros(a.shape).shape)\n",
    "d = np.eye(3)\n",
    "print(d.shape)\n",
    "print(d)"
   ]
  },
  {
   "cell_type": "markdown",
   "metadata": {},
   "source": [
    "Arrays can be reshaped to different shapes, even ranks, provided the number of elements don't change. This code creates a rank-three array filled with zeros. The first parameter of this function must be a tuple of the required size, in this case 3x3x4.  The array is initially flattened, made into a rank-one array.  Using the `reshape` function it is then reshaped to different sizes (this is only of illustrative use, no real mathematical or physical meaning). If one of the reshape parameters is -1, it is interpreted that this axis must be made whatever value fits the reshaping."
   ]
  },
  {
   "cell_type": "code",
   "execution_count": 62,
   "metadata": {
    "collapsed": false
   },
   "outputs": [
    {
     "name": "stdout",
     "output_type": "stream",
     "text": [
      "(3L, 3L, 4L)\n",
      "(36L,)\n",
      "(18L, 2L)\n",
      "(3L, 4L, 3L)\n",
      "(36L, 1L)\n"
     ]
    }
   ],
   "source": [
    "a = np.zeros((3,3,4))\n",
    "print(a.shape)\n",
    "b = a.flatten()\n",
    "print(b.shape)\n",
    "b = b.reshape(18,-1)\n",
    "print(b.shape)\n",
    "b = b.reshape(3,-1,3)\n",
    "print(b.shape)\n",
    "b = b.reshape(-1,1)\n",
    "print(b.shape)\n",
    "            "
   ]
  },
  {
   "cell_type": "markdown",
   "metadata": {},
   "source": [
    "### Modulus operator on floats"
   ]
  },
  {
   "cell_type": "markdown",
   "metadata": {},
   "source": [
    "The modulus operator (returning the fraction of a division) also works for floats, returning the fractional remainder."
   ]
  },
  {
   "cell_type": "code",
   "execution_count": 63,
   "metadata": {
    "collapsed": false
   },
   "outputs": [
    {
     "name": "stdout",
     "output_type": "stream",
     "text": [
      "[ 5.5  6.   6.5  7.   7.5  8.   8.5  9.   9.5]\n",
      "[ 1.5  0.   0.5  1.   1.5  0.   0.5  1.   1.5]\n",
      "[False  True False False False  True False False False]\n",
      "[ 6.  8.]\n"
     ]
    }
   ],
   "source": [
    "a = np.linspace(5.5, 9.5, 9)\n",
    "b = a % 2\n",
    "print(a)\n",
    "print(b)\n",
    "print(b==0)\n",
    "print(a[b==0])"
   ]
  },
  {
   "cell_type": "markdown",
   "metadata": {},
   "source": [
    "### Operations on Numpy arrays "
   ]
  },
  {
   "cell_type": "markdown",
   "metadata": {},
   "source": [
    "NumPy operations are usually done on pairs of arrays on an element-by-element basis. In the simplest case, the two arrays must have exactly the same shape, as in the following example.  Normally, broadcasting is transparent and operates as one would intuitively think."
   ]
  },
  {
   "cell_type": "markdown",
   "metadata": {},
   "source": [
    "\n",
    "\n",
    "Broadcasting is where numpy can figure out how to handle arrays of different shape, it the operation is well defined, e.g., adding a constant to an array - the constant is added to all elements. Broadcasting is very important and a rudimentary understanding is necessary.  \n",
    "See <http://docs.scipy.org/doc/numpy/user/basics.broadcasting.html>\n",
    "\n",
    "\n",
    "\n",
    "Note that in this case the transpose had no effect."
   ]
  },
  {
   "cell_type": "code",
   "execution_count": 64,
   "metadata": {
    "collapsed": false
   },
   "outputs": [
    {
     "name": "stdout",
     "output_type": "stream",
     "text": [
      "(3L, 3L)\n",
      "[[ 3.  2.  2.]\n",
      " [ 2.  3.  2.]\n",
      " [ 2.  2.  3.]]\n"
     ]
    }
   ],
   "source": [
    "e = (d + 2).T\n",
    "print(e.shape)\n",
    "print(e)"
   ]
  },
  {
   "cell_type": "code",
   "execution_count": 65,
   "metadata": {
    "collapsed": false
   },
   "outputs": [
    {
     "name": "stdout",
     "output_type": "stream",
     "text": [
      "a * b  =[ 2.  4.  6.]\n",
      "a - b  =[-1.  0.  1.]\n",
      "[ 1.  2.] * [ 2.  2.  2.] is not allowed, broadcasting not possible\n"
     ]
    }
   ],
   "source": [
    "a = np.array([1.0, 2.0, 3.0])\n",
    "b = np.array([2.0, 2.0, 2.0])\n",
    "print('a * b  ={}'.format(a * b))\n",
    "print('a - b  ={}'.format(a - b))\n",
    "a = np.array([1.0, 2.0])\n",
    "b = np.array([2.0, 2.0, 2.0])\n",
    "try:\n",
    "    print('a * b  ={}'.format(a * b))\n",
    "except:\n",
    "    print('{} * {} is not allowed, broadcasting not possible'.format(a,b))\n"
   ]
  },
  {
   "cell_type": "markdown",
   "metadata": {},
   "source": [
    "The following code multiplies two rank-2 arrays, note the different results from different multiplications:"
   ]
  },
  {
   "cell_type": "code",
   "execution_count": 66,
   "metadata": {
    "collapsed": false
   },
   "outputs": [
    {
     "name": "stdout",
     "output_type": "stream",
     "text": [
      "a=[[0]\n",
      " [1]\n",
      " [2]\n",
      " [3]] a.shape=(4L, 1L)\n",
      "\n",
      "b=[[0 1 2 3]] b.shape=(1L, 4L)\n",
      "\n",
      "(N,1) x (N,1)  - element by element product\n",
      "a*a=[[0]\n",
      " [1]\n",
      " [4]\n",
      " [9]] aa.shape=(4L, 1L)\n",
      "\n",
      "(1,N) x (1,N)  - element by element product\n",
      "b*b=[[0 1 4 9]] bb.shape=(1L, 4L)\n",
      "\n",
      "(N,1) x (1,N) - this is an outer product\n",
      "a * b=[[0 0 0 0]\n",
      " [0 1 2 3]\n",
      " [0 2 4 6]\n",
      " [0 3 6 9]] ab.shape=(4L, 4L)\n",
      "\n",
      "(1,N) x (N,1) - this is an outer product\n",
      "b * a=[[0 0 0 0]\n",
      " [0 1 2 3]\n",
      " [0 2 4 6]\n",
      " [0 3 6 9]] ba.shape=(4L, 4L)\n",
      "\n",
      "(N,1) . (N,1)  - dot product\n",
      "a.b=[[0 0 0 0]\n",
      " [0 1 2 3]\n",
      " [0 2 4 6]\n",
      " [0 3 6 9]] (a.b).shape=(4L, 4L)\n",
      "\n",
      "(1,N) . (N,1)  - dot product\n",
      "b.a=[[14]] (b.a).shape=(1L, 1L)\n",
      "\n"
     ]
    }
   ],
   "source": [
    "import numpy as np\n",
    "a = np.asarray([0,1,2,3]).reshape(-1,1)\n",
    "b = a.reshape(1,-1)\n",
    "print('a={} a.shape={}\\n'.format(a, a.shape))\n",
    "print('b={} b.shape={}\\n'.format(b, b.shape))\n",
    "\n",
    "\n",
    "print('(N,1) x (N,1)  - element by element product')\n",
    "aa = a * a\n",
    "print('a*a={} aa.shape={}\\n'.format(aa, aa.shape))\n",
    "print('(1,N) x (1,N)  - element by element product')\n",
    "bb = b * b\n",
    "print('b*b={} bb.shape={}\\n'.format(bb, bb.shape))\n",
    "\n",
    "     \n",
    "print('(N,1) x (1,N) - this is an outer product')\n",
    "ab = a * b\n",
    "print('a * b={} ab.shape={}\\n'.format(ab, ab.shape))\n",
    "\n",
    "\n",
    "print('(1,N) x (N,1) - this is an outer product')\n",
    "ba = b * a\n",
    "print('b * a={} ba.shape={}\\n'.format(ba, ba.shape))\n",
    "\n",
    "\n",
    "print('(N,1) . (N,1)  - dot product')\n",
    "adb = np.dot(a,b)\n",
    "print('a.b={} (a.b).shape={}\\n'.format(adb, adb.shape))\n",
    "\n",
    "print('(1,N) . (N,1)  - dot product')\n",
    "bda = np.dot(b,a)\n",
    "print('b.a={} (b.a).shape={}\\n'.format(bda, bda.shape))\n",
    "\n"
   ]
  },
  {
   "cell_type": "markdown",
   "metadata": {},
   "source": [
    "In the following example a is a rank-one array and b is a rank-two array. The b array can be transposed, but transpose operator is not defined for the rank-one array."
   ]
  },
  {
   "cell_type": "code",
   "execution_count": 67,
   "metadata": {
    "collapsed": false
   },
   "outputs": [
    {
     "name": "stdout",
     "output_type": "stream",
     "text": [
      "array a has 3 elements, shape (3L,)\n",
      "array a.T has 3 elements, shape (3L,)\n",
      "a is equal to a.T: True\n",
      " \n",
      "array b has 3 rows and 1 columns, shape (3L, 1L)\n",
      "array b.T has 1 rows and 3 columns, shape (1L, 3L)\n",
      "b is equal to b.T: False\n"
     ]
    }
   ],
   "source": [
    "a = np.asarray([1, 2, 3]) # construct from a list\n",
    "print('array a has {} elements, shape {}'.format(a.shape[0],a.shape))\n",
    "print('array a.T has {} elements, shape {}'.format(a.T.shape[0],a.T.shape))\n",
    "print('a is equal to a.T: {}'.format(np.array_equal(a,a.T)))\n",
    "print(' ')\n",
    "b = a.reshape(-1,1)\n",
    "print('array b has {} rows and {} columns, shape {}'.format(b.shape[0], b.shape[1], b.shape))\n",
    "print('array b.T has {} rows and {} columns, shape {}'.format(b.T.shape[0], b.T.shape[1], b.T.shape))\n",
    "print('b is equal to b.T: {}'.format(np.array_equal(b,b.T)))\n"
   ]
  },
  {
   "cell_type": "markdown",
   "metadata": {},
   "source": [
    "### Slicing and Stacking"
   ]
  },
  {
   "cell_type": "markdown",
   "metadata": {},
   "source": [
    "Numpy arrays can be sliced to extract portions of the array. Start by creating a rank-two array with 15 elements, then reshape to a 3 row/5 column array. Then slice different parts from the array. A slice is specified in the form: start:end:stride, where the start value is _included_ but the end value is _excluded_ and the stride definest stride from te starting position (inclusive). \n",
    "\n",
    "<http://docs.scipy.org/doc/numpy/reference/arrays.indexing.html>\n",
    "\n",
    "Observe that the slice `[:,1]` returns a (N,) rank one vector whereas the slice `[:,:1]` returns a (N,1) rank two vector "
   ]
  },
  {
   "cell_type": "code",
   "execution_count": 68,
   "metadata": {
    "collapsed": false
   },
   "outputs": [
    {
     "name": "stdout",
     "output_type": "stream",
     "text": [
      "[[ 0  1  2  3  4]\n",
      " [ 5  6  7  8  9]\n",
      " [10 11 12 13 14]]\n",
      "Original array: [[ 0  1  2  3  4]\n",
      " [ 5  6  7  8  9]\n",
      " [10 11 12 13 14]] has shape (3L, 5L)\n",
      "All the rows of second column: [ 1  6 11] has shape (3L,)\n",
      "All the colums of second row: [5 6 7 8 9] has shape (5L,)\n",
      "Portion of the array: [[1 2]\n",
      " [6 7]] has shape (2L, 2L)\n",
      "Strided portion of the array: [[0 2 4]\n",
      " [5 7 9]] has shape (2L, 3L)\n",
      "---------------\n",
      "Sliced by [:,1] all the rows of second column: [ 1  6 11] has shape (3L,)\n",
      "Sliced by [:,:1] all the rows of second column: [ 1  6 11] has shape (3L, 1L)\n"
     ]
    }
   ],
   "source": [
    "a = np.arange(0,15).reshape(3,5)\n",
    "print(a)\n",
    "print('Original array: {} has shape {}'.format(a, a.shape))\n",
    "print('All the rows of second column: {} has shape {}'.format(a[:,1],a[:,1].shape))\n",
    "print('All the colums of second row: {} has shape {}'.format(a[1,:],a[1,:].shape))\n",
    "print('Portion of the array: {} has shape {}'.format(a[0:2,1:3],a[0:2,1:3].shape))\n",
    "print('Strided portion of the array: {} has shape {}'.format(a[0:2,0:5:2],a[0:2,0:5:2].shape))\n",
    "print('---------------')\n",
    "print('Sliced by {} all the rows of second column: {} has shape {}'.format('[:,1]',a[:,1],a[:,1].shape))\n",
    "print('Sliced by {} all the rows of second column: {} has shape {}'.format('[:,:1]',a[:,1],a[:,:1].shape))\n"
   ]
  },
  {
   "cell_type": "markdown",
   "metadata": {},
   "source": [
    "Numpy makes provision to build new arrays by stacking arrays together.  This stacking can be done horizontally or vertically.  In both cases does the function require a tuple as input where the tuple contains the the two or more parts to be stacked. In order to stack the size of the two or more sub-arrays along the stacking direction must be the same.  The results below show that for the purpose of stacking a (N,) array is considered to be the same as a (1,N) array - that is one row with many columns.  "
   ]
  },
  {
   "cell_type": "code",
   "execution_count": 69,
   "metadata": {
    "collapsed": false
   },
   "outputs": [
    {
     "name": "stdout",
     "output_type": "stream",
     "text": [
      "a: value=[1 2 3 4] shape=(4L,)\n",
      "b: value=[5 6 7 8] shape=(4L,)\n",
      "c: value=[ 9 10 11 12] shape=(4L,)\n",
      "d: value=[ 1  2  3  4  5  6  7  8  9 10 11 12] shape=(12L,)\n",
      "e: value=[[ 1  2  3  4]\n",
      " [ 5  6  7  8]\n",
      " [ 9 10 11 12]] shape=(3L, 4L)\n",
      "---------\n",
      "a: value=[[1 2 3 4]] shape=(1L, 4L)\n",
      "b: value=[[5 6 7 8]] shape=(1L, 4L)\n",
      "c: value=[[ 9 10 11 12]] shape=(1L, 4L)\n",
      "d: value=[[ 1  2  3  4  5  6  7  8  9 10 11 12]] shape=(1L, 12L)\n",
      "e: value=[[ 1  2  3  4]\n",
      " [ 5  6  7  8]\n",
      " [ 9 10 11 12]] shape=(3L, 4L)\n",
      "---------\n",
      "a: value=[[1]\n",
      " [2]\n",
      " [3]\n",
      " [4]] shape=(4L, 1L)\n",
      "b: value=[[5]\n",
      " [6]\n",
      " [7]\n",
      " [8]] shape=(4L, 1L)\n",
      "c: value=[[ 9]\n",
      " [10]\n",
      " [11]\n",
      " [12]] shape=(4L, 1L)\n",
      "d: value=[[ 1  5  9]\n",
      " [ 2  6 10]\n",
      " [ 3  7 11]\n",
      " [ 4  8 12]] shape=(4L, 3L)\n",
      "e: value=[[ 1]\n",
      " [ 2]\n",
      " [ 3]\n",
      " [ 4]\n",
      " [ 5]\n",
      " [ 6]\n",
      " [ 7]\n",
      " [ 8]\n",
      " [ 9]\n",
      " [10]\n",
      " [11]\n",
      " [12]] shape=(12L, 1L)\n"
     ]
    }
   ],
   "source": [
    "import numpy as np\n",
    "a = np.asarray([1, 2, 3, 4])\n",
    "b = np.asarray([5, 6, 7, 8])\n",
    "c = np.asarray([9, 10, 11, 12])\n",
    "d = np.hstack((a,b,c))\n",
    "e = np.vstack((a,b,c))\n",
    "print('a: value={} shape={}'.format(a, a.shape))\n",
    "print('b: value={} shape={}'.format(b, b.shape))\n",
    "print('c: value={} shape={}'.format(c, c.shape))\n",
    "print('d: value={} shape={}'.format(d, d.shape))\n",
    "print('e: value={} shape={}'.format(e, e.shape))\n",
    "print('---------')\n",
    "\n",
    "a = np.asarray([1, 2, 3, 4]).reshape(1,-1)\n",
    "b = np.asarray([5, 6, 7, 8]).reshape(1,-1)\n",
    "c = np.asarray([9, 10, 11, 12]).reshape(1,-1)\n",
    "d = np.hstack((a,b,c))\n",
    "e = np.vstack((a,b,c))\n",
    "print('a: value={} shape={}'.format(a, a.shape))\n",
    "print('b: value={} shape={}'.format(b, b.shape))\n",
    "print('c: value={} shape={}'.format(c, c.shape))\n",
    "print('d: value={} shape={}'.format(d, d.shape))\n",
    "print('e: value={} shape={}'.format(e, e.shape))\n",
    "print('---------')\n",
    "\n",
    "a = np.asarray([1, 2, 3, 4]).reshape(-1,1)\n",
    "b = np.asarray([5, 6, 7, 8]).reshape(-1,1)\n",
    "c = np.asarray([9, 10, 11, 12]).reshape(-1,1)\n",
    "d = np.hstack((a,b,c))\n",
    "e = np.vstack((a,b,c))\n",
    "print('a: value={} shape={}'.format(a, a.shape))\n",
    "print('b: value={} shape={}'.format(b, b.shape))\n",
    "print('c: value={} shape={}'.format(c, c.shape))\n",
    "print('d: value={} shape={}'.format(d, d.shape))\n",
    "print('e: value={} shape={}'.format(e, e.shape))"
   ]
  },
  {
   "cell_type": "markdown",
   "metadata": {},
   "source": [
    "### Slicing with Ellipsis"
   ]
  },
  {
   "cell_type": "markdown",
   "metadata": {},
   "source": [
    "Ellipsis is a Python object that can appear in slice notation.  Ellipsis is used in numpy to indicate a placeholder for the rest of the array dimensions not specified. Think of it as indicating the full slice `[:]` for all the dimensions in the gap it is placed, so for a 3d array, `a[...,0]` is the same as `a[:,:,0]` and for 4d, `a[:,:,:,0]`. Similarly `a[0,...,0]` is `a[0,:,:,0]` (with however many colons in the middle make up the full number of dimensions in the array).    \n",
    "\n",
    "<http://stackoverflow.com/questions/772124/what-does-the-python-ellipsis-object-do>\n"
   ]
  },
  {
   "cell_type": "code",
   "execution_count": 70,
   "metadata": {
    "collapsed": false
   },
   "outputs": [
    {
     "name": "stdout",
     "output_type": "stream",
     "text": [
      "a.shape = (2L, 3L, 4L, 5L)\n",
      "a[...].shape = (2L, 3L, 4L, 5L)\n",
      "a[1,...].shape = (3L, 4L, 5L)\n",
      "a[1,...,1].shape = (3L, 4L)\n",
      "a[...,1].shape = (2L, 3L, 4L)\n"
     ]
    }
   ],
   "source": [
    "import numpy as np\n",
    "\n",
    "a = np.zeros((2,3,4,5))\n",
    "print('a.shape = {}'.format(a.shape))\n",
    "print('a[...].shape = {}'.format(a[...].shape))\n",
    "print('a[1,...].shape = {}'.format(a[1,...].shape))\n",
    "print('a[1,...,1].shape = {}'.format(a[1,...,1].shape))\n",
    "print('a[...,1].shape = {}'.format(a[...,1].shape))\n"
   ]
  },
  {
   "cell_type": "markdown",
   "metadata": {},
   "source": [
    "In NumPy, there are several flavors of array containing one element. \n",
    "1. A rank-0 array with shape ().\n",
    "1. A rank-1 array with shape (1,).\n",
    "1. A rank-2 array with shape (1,1).\n",
    "\n",
    "Note that using an empty tuple `()` as index/slice gives you all the elements in the dataset, as an array object for rank-1 and higher arrays, and as a scalar element for rank-0 arrays.  \n",
    "\n",
    "The form `[...]` or  `[()]` is in fact the only way you can get the value of a rank-0 array, because [0] is not allowed for a rank-0 array.\n",
    "\n",
    "Expanded from the original writeup in  [Python and HDF5](http://shop.oreilly.com/product/0636920030249.do) by Andrew Collette."
   ]
  },
  {
   "cell_type": "code",
   "execution_count": 71,
   "metadata": {
    "collapsed": false
   },
   "outputs": [
    {
     "name": "stdout",
     "output_type": "stream",
     "text": [
      "a.shape of a rank-0 array with single element: ()\n",
      "a[0] is not allowed for rank-0 with shape ()\n",
      "a returns the full array with all dimensions included (a scalar): 3\n",
      "a[...] returns the full array with all dimensions included (a scalar): 3\n",
      "a[()] returns the full array with all dimensions included (a scalar): 3\n",
      "\n",
      "a.shape of a rank-1 array with single element: (1L,)\n",
      "a[0] returns the value of the 0th element: 5\n",
      "a[...] returns the full array with all dimensions included: [5]\n",
      "a[()] returns the full array with all dimensions included: [5]\n",
      "\n",
      "a.shape of a rank-2 array with single element: (1L, 1L)\n",
      "a[0] returns the value of the 0th row: [ 7.]\n",
      "a[0,0] returns the value of the 0th col of the 0th row: 7.0\n",
      "a[...] returns the full array with all dimensions included: [[ 7.]]\n",
      "a[()] returns the full array with all dimensions included: [[ 7.]]\n"
     ]
    }
   ],
   "source": [
    "a = 3 * np.array(1) #rank 0\n",
    "print('a.shape of a rank-0 array with single element: {}'.format(a.shape))\n",
    "print('a[0] is not allowed for rank-0 with shape ()')\n",
    "print('a returns the full array with all dimensions included (a scalar): {}'.format(a))\n",
    "print('a[...] returns the full array with all dimensions included (a scalar): {}'.format( a[...]))\n",
    "print('a[()] returns the full array with all dimensions included (a scalar): {}\\n'.format( a[()]))\n",
    "\n",
    "a = 5 * np.array([1])#rank 1\n",
    "print('a.shape of a rank-1 array with single element: {}'.format(a.shape))\n",
    "print('a[0] returns the value of the 0th element: {}'.format( a[0]))\n",
    "print('a[...] returns the full array with all dimensions included: {}'.format( a[...]))\n",
    "print('a[()] returns the full array with all dimensions included: {}\\n'.format( a[()]))\n",
    "\n",
    "a = 7 * np.ones((1,1))#rank 2\n",
    "print('a.shape of a rank-2 array with single element: {}'.format(a.shape))\n",
    "print('a[0] returns the value of the 0th row: {}'.format( a[0]))\n",
    "print('a[0,0] returns the value of the 0th col of the 0th row: {}'.format( a[0,0]))\n",
    "print('a[...] returns the full array with all dimensions included: {}'.format( a[...]))\n",
    "print('a[()] returns the full array with all dimensions included: {}'.format( a[()]))\n"
   ]
  },
  {
   "cell_type": "markdown",
   "metadata": {},
   "source": [
    "In Python 3, you can use the Ellipsis literal ... as a 'nop' placeholder for code:  \n",
    "\n",
    "    def will_do_something():\n",
    "        ..."
   ]
  },
  {
   "cell_type": "markdown",
   "metadata": {},
   "source": [
    "Finally a tongue-in-the-cheek application of ellipsis is found [here](http://blog.brush.co.nz/2009/05/ellipsis/)"
   ]
  },
  {
   "cell_type": "code",
   "execution_count": 72,
   "metadata": {
    "collapsed": false
   },
   "outputs": [
    {
     "name": "stdout",
     "output_type": "stream",
     "text": [
      "Hello, world!\n"
     ]
    }
   ],
   "source": [
    "# Portable way to get the You-Know-Which object without naming it\n",
    "class __:\n",
    " def __getitem__(__, _):\n",
    "  return _\n",
    "___ = __()[...]\n",
    "\n",
    "# An Ellipsobinary-to-ASCII convertor\n",
    "class __:\n",
    " def __getitem__(__, _):\n",
    "  return chr(sum(1<<i if _[-i-1] is ___ else 0 for i in range(len(_))))\n",
    "_ = __()\n",
    "\n",
    "# Finally, use the That-Which-Must-Not-Be-Named object\n",
    "print (\n",
    " _[...,_,_,...,_,_,_] +\n",
    "  _[...,...,_,_,...,_,...] +\n",
    "   _[...,...,_,...,...,_,_] +\n",
    "    _[...,...,_,...,...,_,_] +\n",
    "     _[...,...,_,...,...,...,...] +\n",
    "      _[...,_,...,...,_,_] +\n",
    "       _[...,_,_,_,_,_] +\n",
    "        _[...,...,...,_,...,...,...] +\n",
    "         _[...,...,_,...,...,...,...] +\n",
    "          _[...,...,...,_,_,...,_] +\n",
    "           _[...,...,_,...,...,_,_] +\n",
    "            _[...,...,_,_,...,_,_] +\n",
    "             _[...,_,_,_,_,...])"
   ]
  },
  {
   "cell_type": "markdown",
   "metadata": {},
   "source": [
    "### Numpy array application for spectral calculations"
   ]
  },
  {
   "cell_type": "markdown",
   "metadata": {},
   "source": [
    "Numpy is much more than just array-like containers, there is also a comprehensive number of mathematical and logical operators to process the array contents.  Numpy arrays are used as a basis for other packages such as the image processing library scikit-image and the data analysis package pandas.  Numpy also forms the basis of the pyradi package, but serves mainly as a container for spectral values.\n",
    "\n",
    "In pyradi spectral variables are respresented as arrays (of all ranks).  For example, a set of wavelength values can be represented as an array. Spectral variables such as optics transmittance have values at specific wavelengths. So the transmittance vector and wavelength vector correspond on an element-by-element basis: the value of transmittance at the specific transmittance. The example below defines a wavelength band from 300 nm to 800 nm in 101 samples, and then calculates a filter transmittance using pyradi. The filter response is then plotted. IPython presents the graph in the document itself because the `%matplotlib inline` magic is used."
   ]
  },
  {
   "cell_type": "code",
   "execution_count": 73,
   "metadata": {
    "collapsed": false
   },
   "outputs": [
    {
     "name": "stdout",
     "output_type": "stream",
     "text": [
      "****  To use saveFig inside IPython please comment out the line \"#%matplotlib inline\" \n"
     ]
    },
    {
     "data": {
      "image/png": "[encoded data removed]",
      "text/plain": [
       "<matplotlib.figure.Figure at 0x78eddd8>"
      ]
     },
     "metadata": {},
     "output_type": "display_data"
    }
   ],
   "source": [
    "%matplotlib inline\n",
    "import numpy as np\n",
    "import pyradi.ryutils as ryutils\n",
    "import pyradi.ryplot as ryplot\n",
    "\n",
    "wl = np.linspace(0.3, 0.8, 101)\n",
    "sfilter = ryutils.sfilter(wl, 0.5, 0.2, 6, 0.5, 0.1)\n",
    "p = ryplot.Plotter(1,figsize=(9,4))\n",
    "p.plot(1,wl,sfilter,'Filter Transmittance', 'Wavelength $\\mu$m', 'Transmittance')\n",
    "p.saveFig('filter.png')"
   ]
  },
  {
   "cell_type": "markdown",
   "metadata": {},
   "source": [
    "The concept of a single spectral variable, such as the filter above, can be extended to many spectral variables, all sharing the same wavelength values. One such example is the Planck law radiation at different temperatures. In the next example, the radiation is calculated at a range of temperatures and plotted on the graph.  Note in this case that the value returned from the `ryplanck.planck()` function is a rank-two array.  Along the first dimension is the spectral axis and along the second dimension is the radiance for the different temperatures. \n",
    "\n",
    "The plotting functions can plot more than one line if a rank-two array is passed. However many columns there are in the array, so many lines will be drawn.  The only requirement is that the size of the radiance (y) array along the zero axis much match the size of the wavelength (x) array along its zero axis.\n",
    "\n",
    "Observe how the line labels are created using list comprehension, properly formatted with units."
   ]
  },
  {
   "cell_type": "code",
   "execution_count": 74,
   "metadata": {
    "collapsed": false
   },
   "outputs": [
    {
     "name": "stdout",
     "output_type": "stream",
     "text": [
      "wl.shape = (101L,)\n",
      "len(temperatures) = 3\n",
      "radiance.shape = (101L, 3L)\n",
      "labels = ['5000 K', '6000 K', '8000 K']\n",
      "****  To use saveFig inside IPython please comment out the line \"#%matplotlib inline\" \n"
     ]
    },
    {
     "data": {
      "image/png": "[encoded data removed]",
      "text/plain": [
       "<matplotlib.figure.Figure at 0x73a9128>"
      ]
     },
     "metadata": {},
     "output_type": "display_data"
    }
   ],
   "source": [
    "import pyradi.ryplanck as ryplanck\n",
    "\n",
    "temperatures = [5000, 6000, 8000]\n",
    "radiance = ryplanck.planck(wl,temperatures, 'el') / np.pi\n",
    "\n",
    "print('wl.shape = {}'.format(wl.shape))\n",
    "print('len(temperatures) = {}'.format(len(temperatures)))\n",
    "print('radiance.shape = {}'.format(radiance.shape))\n",
    "\n",
    "labels = ['{} K'.format(tmp) for tmp in temperatures]\n",
    "print('labels = {}'.format(labels))\n",
    "\n",
    "p = ryplot.Plotter(1,figsize=(9,4))\n",
    "p.semilogY(1,wl,radiance * sfilter.reshape(-1,1),'Planck Radiance', 'Wavelength $\\mu$m', 'Radiance W/(m$^2$.sr.$\\mu$m)',label=labels)\n",
    "p.saveFig('filtered-planck.png')\n"
   ]
  },
  {
   "cell_type": "code",
   "execution_count": 75,
   "metadata": {
    "collapsed": false
   },
   "outputs": [
    {
     "name": "stdout",
     "output_type": "stream",
     "text": [
      "Temperature = 5000 K,  Integrated radiance = 1.394e+06 W/(m2.sr)\n",
      "Temperature = 6000 K,  Integrated radiance = 3.618e+06 W/(m2.sr)\n",
      "Temperature = 8000 K,  Integrated radiance = 1.259e+07 W/(m2.sr)\n"
     ]
    }
   ],
   "source": [
    "for i,temperature in enumerate(temperatures):\n",
    "    integral = np.trapz((radiance[:,i]).reshape(-1,1) * sfilter.reshape(-1,1), wl, axis=0)\n",
    "    print('Temperature = {} K,  Integrated radiance = {:.3e} W/(m2.sr)'.format(temperature, integral[0]))"
   ]
  },
  {
   "cell_type": "markdown",
   "metadata": {},
   "source": [
    "### File input/output"
   ]
  },
  {
   "cell_type": "markdown",
   "metadata": {},
   "source": [
    "Numpy can import data from file and write to a file.  The simplest import is `numpy.loadtxt()` and `numpy.savetxt()`. In the following section the spectral data and radiance data from the previous calculation are stacked together, such that the first column is the spectral vector, followed by the radiance in columns 1 and following. For this purpose the horisontal stack function is used: stacking arrays side by side. But there is a problem in that the wavelength variable is rank one (N,) , whereas a rank-two array (N,1) is required - it is reshaped before stacking.  The stacked array is then saved to an ASCII file. Note that the format string requires that the numbers are written to five decimal places. The data can also be saved in binary and compressed binary format.\n",
    "\n",
    "In the next step the data is read back in from the ASCII file.  To confirm that the data is correctly saved, the first five rows are printed: first for the original array and then for the data read in."
   ]
  },
  {
   "cell_type": "code",
   "execution_count": 76,
   "metadata": {
    "collapsed": false
   },
   "outputs": [
    {
     "name": "stdout",
     "output_type": "stream",
     "text": [
      "[[  3.00000000e-01   3.34706158e+06   1.65600612e+07   1.22419349e+08]\n",
      " [  3.05000000e-01   3.60633264e+06   1.73819243e+07   1.24379955e+08]\n",
      " [  3.10000000e-01   3.87123259e+06   1.81921379e+07   1.26143530e+08]\n",
      " [  3.15000000e-01   4.14095423e+06   1.89884038e+07   1.27714698e+08]\n",
      " [  3.20000000e-01   4.41468666e+06   1.97686169e+07   1.29098713e+08]]\n",
      " \n",
      "[[  3.00000000e-01   3.34706000e+06   1.65601000e+07   1.22419000e+08]\n",
      " [  3.05000000e-01   3.60633000e+06   1.73819000e+07   1.24380000e+08]\n",
      " [  3.10000000e-01   3.87123000e+06   1.81921000e+07   1.26144000e+08]\n",
      " [  3.15000000e-01   4.14095000e+06   1.89884000e+07   1.27715000e+08]\n",
      " [  3.20000000e-01   4.41469000e+06   1.97686000e+07   1.29099000e+08]]\n"
     ]
    }
   ],
   "source": [
    "data = np.hstack((wl.reshape(-1,1), radiance))\n",
    "print(data[:5,:])\n",
    "filename = 'planck.txt'\n",
    "np.savetxt(filename, data, fmt='%.5e', delimiter=' ', newline='\\n', \n",
    "              header='First column is wavelength, rests are radiance values', \n",
    "              footer='', comments='# ')\n",
    "fdata = np.loadtxt(filename, comments='#', usecols=None)\n",
    "print(' ')\n",
    "print(fdata[:5,:])\n",
    "#delete the file        \n",
    "try:\n",
    "    os.remove(filename)\n",
    "except OSError:\n",
    "    pass "
   ]
  },
  {
   "cell_type": "markdown",
   "metadata": {},
   "source": [
    "It is however quite difficult to check every single element in the array we want to compare the two arrays, using Numpy to do the checking.   The `array_equal()` function indicates that the array values differ.  \n",
    "\n",
    "Problem! Why are the two arrays not the same?  \n",
    "The values written to the file has only five decimal places resolution - some of the information is lost on writing to the file!\n",
    "\n",
    "There is another comparison function that allows us to specify a tolerance to be used when comparing two arrays"
   ]
  },
  {
   "cell_type": "code",
   "execution_count": 77,
   "metadata": {
    "collapsed": false
   },
   "outputs": [
    {
     "name": "stdout",
     "output_type": "stream",
     "text": [
      "The two arrays are exactly the same False\n",
      "The two arrays are the same False to within 1e-06 relative tolerance\n"
     ]
    }
   ],
   "source": [
    "print('The two arrays are exactly the same {}'.format(np.array_equal(data, fdata)))\n",
    "tolerance = 1e-6\n",
    "print('The two arrays are the same {} to within {} relative tolerance'.\\\n",
    "      format(np.allclose(data, fdata,tolerance),tolerance))"
   ]
  },
  {
   "cell_type": "markdown",
   "metadata": {},
   "source": [
    "Numpy arrays can be written to raw binary format using the `array.tofile('filename')` function.  This is not the binary numpy format, but raw bytes with no header. These file are not portable across endian boundaries."
   ]
  },
  {
   "cell_type": "markdown",
   "metadata": {},
   "source": [
    "### Array pre-allocation instead of stacking"
   ]
  },
  {
   "cell_type": "markdown",
   "metadata": {},
   "source": [
    "Stacking is a slow process, use with care for large arrays. Another way would be to calculate the size of the array beforehand and pre-allocate an array of that size. Once the array exists, the values can be assigned by slicing.  In this case the number of rows must remain the same, but a new column will be added to allow space for the spectral vector and the radiance array."
   ]
  },
  {
   "cell_type": "code",
   "execution_count": 78,
   "metadata": {
    "collapsed": false
   },
   "outputs": [
    {
     "name": "stdout",
     "output_type": "stream",
     "text": [
      "Original data shape is (101L, 4L)\n",
      "Newly assigned data shape is (101L, 4L)\n",
      "The stacked and pre-allocated arrays are exactly the same True\n"
     ]
    }
   ],
   "source": [
    "newsize = (radiance.shape[0], radiance.shape[1] + 1)\n",
    "ndata = np.zeros(newsize)\n",
    "\n",
    "print('Original data shape is {}'.format(data.shape))\n",
    "print('Newly assigned data shape is {}'.format(ndata.shape))\n",
    "\n",
    "ndata[:,:1] = wl.reshape(-1,1) #first column\n",
    "ndata[:,1:] = radiance # second column onwards\n",
    "\n",
    "print('The stacked and pre-allocated arrays are exactly the same {}'.format(np.array_equal(data, ndata)))\n"
   ]
  },
  {
   "cell_type": "markdown",
   "metadata": {},
   "source": [
    "### Save multiple numpy arrays to binary file"
   ]
  },
  {
   "cell_type": "code",
   "execution_count": 79,
   "metadata": {
    "collapsed": false
   },
   "outputs": [
    {
     "name": "stdout",
     "output_type": "stream",
     "text": [
      "[[1 2]\n",
      " [3 4]]\n",
      "[[11 22]\n",
      " [33 44]]\n"
     ]
    }
   ],
   "source": [
    "import numpy as np\n",
    "import os.path\n",
    "arrA = np.asarray([[1,2],[3,4]])\n",
    "arrB = np.asarray([[11,22],[33,44]])\n",
    "npzfilename = 'savearray.npz'\n",
    "np.savez_compressed(npzfilename, arrA=arrA, arrB=arrB)\n",
    "#see if the file exists\n",
    "if os.path.isfile(npzfilename):\n",
    "    arr = np.load(npzfilename)\n",
    "    print(arr['arrA'])\n",
    "    print(arr['arrB'])"
   ]
  },
  {
   "cell_type": "markdown",
   "metadata": {},
   "source": [
    "## Element-wise conditionals with Numpy"
   ]
  },
  {
   "cell_type": "markdown",
   "metadata": {},
   "source": [
    "### Test for NaN in array"
   ]
  },
  {
   "cell_type": "markdown",
   "metadata": {},
   "source": [
    "NaNs may interfere with some operations, e.g. plotting a mesh grid in Matplotlib.  Working with NaNs in Numpy is well supported."
   ]
  },
  {
   "cell_type": "code",
   "execution_count": 80,
   "metadata": {
    "collapsed": false
   },
   "outputs": [
    {
     "name": "stdout",
     "output_type": "stream",
     "text": [
      "[[  1.  nan]\n",
      " [  3.   4.]\n",
      " [  4.   5.]]\n",
      "[[False  True]\n",
      " [False False]\n",
      " [False False]]\n",
      "True\n"
     ]
    }
   ],
   "source": [
    "a = np.asarray([[1, np.nan], [3, 4], [4,5]])\n",
    "print(a)\n",
    "print(np.isnan(a))\n",
    "print(np.isnan(a).any())"
   ]
  },
  {
   "cell_type": "markdown",
   "metadata": {},
   "source": [
    "### Selections into array"
   ]
  },
  {
   "cell_type": "markdown",
   "metadata": {},
   "source": [
    "Numpy has a rich set of functions to support conditional testing on element level. This section only touches on the surface.\n",
    "\n",
    "In the example below a signal is created that only contains the positive values of a sine wave, being zero elsewhere."
   ]
  },
  {
   "cell_type": "code",
   "execution_count": 81,
   "metadata": {
    "collapsed": false
   },
   "outputs": [
    {
     "data": {
      "text/plain": [
       "<matplotlib.axes._subplots.AxesSubplot at 0x4388898>"
      ]
     },
     "execution_count": 81,
     "metadata": {},
     "output_type": "execute_result"
    },
    {
     "data": {
      "image/png": "[encoded data removed]",
      "text/plain": [
       "<matplotlib.figure.Figure at 0x4388c50>"
      ]
     },
     "metadata": {},
     "output_type": "display_data"
    }
   ],
   "source": [
    "phase = np.linspace(0, 4 * np.pi, 101)\n",
    "signal = np.sin(phase)\n",
    "signalpos = np.where(signal>0, signal, 0)\n",
    "\n",
    "p = ryplot.Plotter(1,figsize=(9,4))\n",
    "p.plot(1,phase,signal,'', 'Phase rad', 'Signal', label=['Full sine wave'])\n",
    "p.plot(1,phase,signalpos,'', 'Phase rad', 'Signal', label=['Positive sine wave'])\n"
   ]
  },
  {
   "cell_type": "markdown",
   "metadata": {},
   "source": [
    "## Selecting elements with array indices\n",
    "\n",
    "Numpy provides the facility to extract only certain array indices, based on conditional values.  \n",
    "Some experiment requires a gaussian-distributed random number sequence, but with a twist: only values in a specific amplitude range is required.  The following script creates a large number of gaussian random variables, then filters them based on amplitude by selecting a sub set of all values by the logical test `rndAll > 0.4`. This test creates a logical array which selects elements from rndAll. The histograms of the two distributions are then calculated and displayed.\n",
    "\n",
    "The `np.histogram` function can return either the counts in the bins (`density=False`), or the estimated probability function (`density=True`)."
   ]
  },
  {
   "cell_type": "code",
   "execution_count": 82,
   "metadata": {
    "collapsed": false
   },
   "outputs": [
    {
     "name": "stdout",
     "output_type": "stream",
     "text": [
      "Number of random numbers in input set is 10000\n",
      "Number of random numbers in filtered set is 3424\n",
      "Integrated PDF for all data = 0.9999\n",
      "Integrated PDF for selected data = 0.999853971963\n"
     ]
    },
    {
     "data": {
      "image/png": "[encoded data removed]",
      "text/plain": [
       "<matplotlib.figure.Figure at 0x815f208>"
      ]
     },
     "metadata": {},
     "output_type": "display_data"
    }
   ],
   "source": [
    "import numpy as np\n",
    "import pyradi.ryplot as ryplot\n",
    "%matplotlib inline\n",
    "\n",
    "rndAll = np.random.randn(10000)\n",
    "rndSel = rndAll[rndAll > 0.4]\n",
    "print('Number of random numbers in input set is {}'.format(rndAll.shape[0]))\n",
    "print('Number of random numbers in filtered set is {}'.format(rndSel.shape[0]))\n",
    "\n",
    "hAll, bAll = np.histogram(rndAll,bins=50)\n",
    "hSel, bSel = np.histogram(rndSel,bins=bAll) # use the bins \n",
    "\n",
    "p = ryplot.Plotter(1,1,2,figsize=(12,4))\n",
    "p.plot(1,bAll[1:],hAll,'', 'Amplitude', 'Count', label=['Full dataset'])\n",
    "p.plot(1,bSel[1:],hSel,'', 'Amplitude', 'Count', label=['Filtered dataset'])\n",
    "\n",
    "hAll, bAll = np.histogram(rndAll,bins=50, density=True)\n",
    "hSel, bSel = np.histogram(rndSel,bins=bAll, density=True) # use the bins \n",
    "p.plot(2,bAll[1:],hAll,'', 'Amplitude', 'Probability', label=['Full dataset'])\n",
    "p.plot(2,bSel[1:],hSel,'', 'Amplitude', 'Probability', label=['Filtered dataset'])\n",
    "\n",
    "print('Integrated PDF for all data = {}'.format(np.trapz(hAll,bAll[1:])))\n",
    "print('Integrated PDF for selected data = {}'.format(np.trapz(hSel,bSel[1:])))"
   ]
  },
  {
   "cell_type": "markdown",
   "metadata": {},
   "source": [
    "Further experimentation with array indexes with more complex logical patterns. We first create some data with no real physical significance, but all arrays have the same length, as if these are all time samples on the same timeline `a`.  Two selections are made, the first based only on the value of `b` and the second based on the value of `b` and `c`. These selections are index arrays with zeros where the conditions are not met, and ones where the conditions are met. The `selecx` index arrays are then used to extract only the required values from the `a`, `b`, `c` arrays when plotting.  To make the selected regions easier to spot, they are slightly shifted up or down. The plots are for the following selection filtering definitions:  \n",
    "\n",
    "* All values\n",
    "* b in the range (18,75)\n",
    "* b in the range (18,30) and c in the range [0,infinity]\n",
    "* b in the range (15,75) and c in the range [0,infinity], but at intervals of 1 on a axis.\n",
    "\n",
    "You can stick any number of logical tests inside the `np.all()`.\n"
   ]
  },
  {
   "cell_type": "code",
   "execution_count": 83,
   "metadata": {
    "collapsed": false
   },
   "outputs": [
    {
     "name": "stdout",
     "output_type": "stream",
     "text": [
      "[False False False ..., False False False]\n",
      "a size (2001L,)\n",
      "a for (b > 18., b<75) size (884L,)\n",
      "a for (b > 18., b<30, c>=0) size (247L,)\n",
      "a for (a%1==0, b > 15., b<75, c>0) size (4L,)\n",
      "a for (a>1, a<2, d>4, d<5 ) size (597L,)\n"
     ]
    },
    {
     "data": {
      "text/plain": [
       "<matplotlib.axes._subplots.AxesSubplot at 0x4388128>"
      ]
     },
     "execution_count": 83,
     "metadata": {},
     "output_type": "execute_result"
    },
    {
     "data": {
      "image/png": "[encoded data removed]",
      "text/plain": [
       "<matplotlib.figure.Figure at 0x7ef3dd8>"
      ]
     },
     "metadata": {},
     "output_type": "display_data"
    }
   ],
   "source": [
    "%matplotlib inline\n",
    "import numpy as np\n",
    "import pyradi.ryutils as ryutils\n",
    "import pyradi.ryplot as ryplot\n",
    "\n",
    "a = np.linspace(0,10,2001)\n",
    "b = a ** 2.\n",
    "c = 10 * np.sin(b/(5 * np.pi))\n",
    "select0 = np.all([ b > 18., b<75], axis=0)\n",
    "select1 = np.all([ b > 18., b<30, c>=0], axis=0)\n",
    "select2 = np.all([ a%1==0, b > 15., b<75, c>0], axis=0)\n",
    "#the next line builds a complex selection of three sections from the larger set.\n",
    "select3 = np.logical_or(np.logical_or(np.all([ a>1, a<2], axis=0), np.all([ a>4, a<5], axis=0) ), \n",
    "                        np.all([ a>6, a<7], axis=0))\n",
    "\n",
    "print(select3)\n",
    "print('a size {}'.format(a.shape))\n",
    "print('a for (b > 18., b<75) size {}'.format(a[select0].shape))\n",
    "print('a for (b > 18., b<30, c>=0) size {}'.format(a[select1].shape))\n",
    "print('a for (a%1==0, b > 15., b<75, c>0) size {}'.format(a[select2].shape))\n",
    "print('a for (a>1, a<2, d>4, d<5 ) size {}'.format(a[select3].shape))\n",
    "\n",
    "p = ryplot.Plotter(1,figsize=(9,4))\n",
    "p.plot(1,a,b,'', 'a', 'y', label=['b : all values'])\n",
    "p.plot(1,a,c,'', 'a', 'y', label=['c : all values'])\n",
    "p.plot(1,a[select0],b[select0]+2, label=['b+2 :  b > 15., b<75'])\n",
    "p.plot(1,a[select0],c[select0]+2,label=['c+2 :  b > 15., b<75'])\n",
    "p.plot(1,a[select1],b[select1]-2,label=['b-2 : b > 15., b<75, c>0'])\n",
    "p.plot(1,a[select1],c[select1]-2,label=['c-2 : b > 15., b<75, c>0'])\n",
    "p.plot(1,a[select2],b[select2]-4,label=['b-4 : a%1==0, b > 15., b<75, c>0'],markers='x')\n",
    "p.plot(1,a[select2],c[select2]-4,label=['c-4 : a%1==0, b > 15., b<75, c>0'],markers='x')\n",
    "\n",
    "p.plot(1,a,5 * select3 * c-4,label=['c selectively multiplied'])\n"
   ]
  },
  {
   "cell_type": "markdown",
   "metadata": {},
   "source": [
    "## 2D selection after interpolation"
   ]
  },
  {
   "cell_type": "markdown",
   "metadata": {},
   "source": [
    "The code below takes a low-resolution 2D input and interpolates the data to a higher resolution.  The nature of the data, with high value at the edge of the domain, results in a poor interpolation output.   To obtain a better result, I mirrored the data across $x=0$  to obtain better values around $x=0$ (first graph).  The new data set is interpolated but now has values for $x<0$, which were required for interpolation but are not part of the valid result.  These additional values had to be truncated from the data.  This was done in the following code:\n",
    "\n",
    "    select = xnew.__ge__(0)\n",
    "    xnew = xnew[select].reshape(znew.shape[0],-1)\n",
    "    ynew = ynew[select].reshape(znew.shape[0],-1)\n",
    "    znew = znew[select].reshape(znew.shape[0],-1)\n",
    "\n",
    "where the first line returns a binary array with ones where the condition is true and zeros elsewhere.  This binary array is used to slice the mirrored data; but the returned value is a `(-1,)`-shaped array.  The array had to be reshaped to obtain the 2D form required.  The result is shown in the second graph."
   ]
  },
  {
   "cell_type": "code",
   "execution_count": 84,
   "metadata": {
    "collapsed": false
   },
   "outputs": [
    {
     "name": "stderr",
     "output_type": "stream",
     "text": [
      "C:\\Anaconda2\\lib\\site-packages\\scipy\\interpolate\\fitpack.py:975: RuntimeWarning: No more knots can be added because the number of B-spline\n",
      "coefficients already exceeds the number of data points m.\n",
      "Probable causes: either s or m too small. (fp>s)\n",
      "\tkx,ky=3,3 nx,ny=26,43 m=820 fp=221.139521 s=0.000000\n",
      "  warnings.warn(RuntimeWarning(_iermess2[ierm][0] + _mess))\n"
     ]
    },
    {
     "data": {
      "image/png": "[encoded data removed]",
      "text/plain": [
       "<matplotlib.figure.Figure at 0x9d962e8>"
      ]
     },
     "metadata": {},
     "output_type": "display_data"
    }
   ],
   "source": [
    "from scipy import interpolate\n",
    "p = ryplot.Plotter(1,2,1,figsize=(8,3));\n",
    "z = np.asarray([\n",
    "    [300, 300, 300, 300, 300, 300, 300, 300, 300, 2400, 2400, 300, 300, 300, 300, 300, 300, 300, 300, 300],\n",
    "    [300, 300, 300, 300, 300, 300, 300, 300, 700, 2400, 2400, 700, 300, 300, 300, 300, 300, 300, 300, 300],\n",
    "    [300, 300, 300, 300, 300, 300, 300, 730, 2152, 2400, 2400, 2152, 730, 300, 300, 300, 300, 300, 300, 300],\n",
    "    [300, 300, 300, 300, 300, 300, 300, 1521, 2200, 2350, 2350, 2200, 1521, 300, 300, 300, 300, 300, 300, 300],\n",
    "    [300, 300, 300, 300, 300, 300, 510, 1620, 2050, 2200, 2200, 2050, 1620, 510, 300, 300, 300, 300, 300, 300],\n",
    "    [300, 300, 300, 300, 300, 485, 1000, 1620, 1900, 2050, 2050, 1900, 1620, 1000, 485, 300, 300, 300, 300, 300],\n",
    "    [300, 300, 300, 300, 300, 638, 1120, 1550, 1753, 1895, 1895, 1753, 1550, 1120, 638, 300, 300, 300, 300, 300],\n",
    "    [300, 300, 300, 300, 403, 750, 1150, 1450, 1620, 1728, 1728, 1620, 1450, 1150, 750, 403, 300, 300, 300, 300],\n",
    "    [300, 300, 300, 300, 495, 800, 1100, 1336, 1486, 1580, 1580, 1486, 1336, 1100, 800, 495, 300, 300, 300, 300],\n",
    "    [300, 300, 300, 350, 540, 805, 1009, 1200, 1325, 1393, 1393, 1325, 1200, 1009, 805, 540, 350, 300, 300, 300],\n",
    "    [300, 300, 331, 400, 580, 805, 920, 1025, 1129, 1200, 1200, 1129, 1025, 920, 805, 580, 400, 331, 300, 300],\n",
    "    [300, 300, 360, 429, 600, 760, 830, 900, 950, 1015, 1015, 950, 900, 830, 760, 600, 429, 360, 300, 300],\n",
    "    [300, 315, 380, 440, 570, 680, 760, 807.8, 840, 894, 894, 840, 807.8, 760, 680, 570, 440, 380, 315, 300],\n",
    "    [300, 330, 385, 440, 540, 610, 680, 717.3, 750, 790, 790, 750, 717.3, 680, 610, 540, 440, 385, 330, 300],\n",
    "    [300, 335, 380, 430, 488, 540, 595, 630, 663, 695, 695, 663, 630, 595, 540, 488, 430, 380, 335, 300],\n",
    "    [300, 335, 370, 404, 440, 490, 520, 553, 577.6, 613, 613, 577.6, 553, 520, 490, 440, 404, 370, 335, 300],\n",
    "    [300, 320, 354, 374, 400, 440, 470, 500, 513, 538, 538, 513, 500, 470, 440, 400, 374, 354, 320, 300],\n",
    "    [300, 310, 331, 347, 370, 400, 420, 440, 460, 477, 477, 460, 440, 420, 400, 370, 347, 331, 310, 300],\n",
    "    [300, 300, 300, 320, 340, 360, 370, 385, 400, 414.6, 414.6, 400, 385, 370, 360, 340, 320, 300, 300, 300],\n",
    "    [300, 300, 300, 300, 309, 317.9, 325, 330, 340, 350, 350, 340, 330, 325, 317.9, 309, 300, 300, 300, 300],\n",
    "    [300, 300, 300, 300, 300, 300, 300, 300, 300, 300, 300, 300, 300, 300, 300, 300, 300, 300, 300, 300]\n",
    "    ]).T\n",
    "z = np.hstack((np.fliplr(z)[:,:-1],z))\n",
    "xi = np.linspace(-10,10,z.shape[1])\n",
    "yi = np.linspace(-1,1,z.shape[0])\n",
    "x,y = np.meshgrid(xi,yi)\n",
    "p.meshContour(1, x,y,z);\n",
    "\n",
    "aa = np.hstack((y.reshape(-1,1),x.reshape(-1,1),z.reshape(-1,1) ))\n",
    "ynew, xnew = np.mgrid[-1:1:20j, -10:10:100j]\n",
    "tck = interpolate.bisplrep(aa[:,0], aa[:,1], aa[:,2], s=0 )\n",
    "znew = interpolate.bisplev(ynew[:,0], xnew[0,:], tck)\n",
    "\n",
    "select = xnew.__ge__(0)\n",
    "xnew = xnew[select].reshape(znew.shape[0],-1)\n",
    "ynew = ynew[select].reshape(znew.shape[0],-1)\n",
    "znew = znew[select].reshape(znew.shape[0],-1)\n",
    "\n",
    "p.meshContour(2, xnew, ynew, znew, levels=100, contourLine=False);\n"
   ]
  },
  {
   "cell_type": "markdown",
   "metadata": {},
   "source": [
    "### Piecewise functions and interpolation"
   ]
  },
  {
   "cell_type": "markdown",
   "metadata": {},
   "source": [
    "Suppose you want to construct a lookup table for $q$ given by\n",
    "\n",
    "|$q$ | $V$|\n",
    "|--|--|\n",
    "|1.6 | V$>$50 km|\n",
    "|1.3 | 6 km $>$ $V$ $>$ 50 km|\n",
    "|0.16$V$+0.34 | 1 km $>$ $V$ $>$ 6 km|\n",
    "|$V$-0.5 | 0.5 $>$ $V$ $>$ 1 km|\n",
    "|0 | $V$ $<$ 0.5 m|\n",
    "\n",
    "Note this this data is based on a horribly incorrect model of the atmosphere, the data and model are wrong, but serve to illustrate the numpy concepts.\n",
    "\n",
    "The code below constructs the table (`vis`,`q`), plots the results and create a linear interpolation lookup function.\n"
   ]
  },
  {
   "cell_type": "code",
   "execution_count": 85,
   "metadata": {
    "collapsed": false
   },
   "outputs": [
    {
     "name": "stdout",
     "output_type": "stream",
     "text": [
      "Lookup value at vis=1 is 0.381547378271\n",
      "Lookup value at vis=5 is 1.14\n",
      "Lookup value at vis=10 is 1.3\n",
      "Lookup value at vis=60 is 1.6\n"
     ]
    },
    {
     "data": {
      "image/png": "[encoded data removed]",
      "text/plain": [
       "<matplotlib.figure.Figure at 0x83c4b00>"
      ]
     },
     "metadata": {},
     "output_type": "display_data"
    }
   ],
   "source": [
    "vis = np.linspace(0.01,80,100)\n",
    "q = np.zeros(vis.shape)\n",
    "q += np.where(vis>50,1.6,0) \n",
    "q += np.where((vis>6)&(vis<=50),1.3,0) \n",
    "q += np.where((vis>1)&(vis<=6),0.16*vis+0.34,0) \n",
    "q += np.where((vis>0.5)&(vis<=1),vis-0.5,0) \n",
    "q += np.where(vis<=0.5,0,0) \n",
    "\n",
    "import pyradi.ryplot as ryplot\n",
    "%matplotlib inline\n",
    "p = ryplot.Plotter(1,1,1,figsize=(8,4))\n",
    "p.semilogX(1,vis,q,'','Visibility [km]','$q$')\n",
    "\n",
    "from scipy import interpolate\n",
    "f = interpolate.interp1d(vis,q)\n",
    "vs = [1,5,10,60]\n",
    "for v in vs:\n",
    "    print('Lookup value at vis={} is {}'.format(v,f(v)))"
   ]
  },
  {
   "cell_type": "markdown",
   "metadata": {},
   "source": [
    "SciPy has a number of interpolation options in `scipy.interpolate`.  The one-dimensional interpolation scheme enables the definition of the lookup table as a function by using `scipy.interpolate.interp1d`.  The user can define the interpolation scheme to be used - the default is `kind='linear'`, to do cubic interpolation use `kind='cubic'`.  In the example below obsserve the difference between the two schemes. This is an ill-posed problem: normally one would have a much denser input data set.  The purpose with using this poor data set it to illustrate the dangers of interpolation."
   ]
  },
  {
   "cell_type": "code",
   "execution_count": 86,
   "metadata": {
    "collapsed": false
   },
   "outputs": [
    {
     "data": {
      "text/plain": [
       "<matplotlib.axes._subplots.AxesSubplot at 0x8b05630>"
      ]
     },
     "execution_count": 86,
     "metadata": {},
     "output_type": "execute_result"
    },
    {
     "data": {
      "image/png": "[encoded data removed]",
      "text/plain": [
       "<matplotlib.figure.Figure at 0x8b05c50>"
      ]
     },
     "metadata": {},
     "output_type": "display_data"
    }
   ],
   "source": [
    "from scipy import interpolate\n",
    "import pyradi.ryplot as ryplot\n",
    "import numpy as np\n",
    "%matplotlib inline\n",
    "\n",
    "# create input data in wavelength and wavenumber domain\n",
    "wl = np.asarray([1, 2, 5, 10])\n",
    "fn = np.asarray([2,3,1, 2])\n",
    "\n",
    "# create the plotting samples - much tighter than input data\n",
    "wli = np.linspace(1,10,100)\n",
    "\n",
    "#create the lookup functions\n",
    "fwll = interpolate.interp1d(wl,fn)\n",
    "fwlc = interpolate.interp1d(wl,fn, kind='cubic')\n",
    "\n",
    "p = ryplot.Plotter(1,1,1,figsize=(8,4))\n",
    "p.plot(1,wli,fwll(wli),label=['linear'])\n",
    "p.plot(1,wli,fwlc(wli),label=['cubic'])"
   ]
  },
  {
   "cell_type": "markdown",
   "metadata": {},
   "source": [
    "### Selective operations on elements in an array: Poisson distribution for large $\\lambda$"
   ]
  },
  {
   "cell_type": "markdown",
   "metadata": {},
   "source": [
    "The Poisson probability distribution describe the arrival/generation of discrete events, e.g., generation or arrival of photons in optical flux.  The noise variance $\\sigma^2$ in such a photon stream is equal to the mean value $\\lambda$.  The Poisson distribution is a discrete distribution and is defined only for integers.  A practical problem arises when the photon count is large: the numerical limits of integer arithmetic is exceeded in the Numpy `np.random.poisson` function.  \n",
    "\n",
    "For mean values exceeding 1000 the Normal distribution with mean and variance equal to $\\lambda$ is a [good approximation](http://en.wikipedia.org/wiki/Poisson_distribution#Related_distributions) to the Poisson distribution.  The Normal distribution is a real valued distribution and is not restricted by integer computation limits.  So we can use the Normal distribution for large $\\lambda$. However, for small $\\lambda$ it is a poor approximation, so we must use both, each in the appropriate case.  This can be done with array code of the form shown here, where `in` is the value of $\\lambda$:\n",
    "\n",
    "    out =  (inp<=1000) * np.random.poisson(inp * (inp<=1000) )\\\n",
    "          + (inp>1000) * np.random.normal(loc=inp, scale=np.sqrt(inp))\n",
    "\n",
    "where `(inp<=1000)` and `(inp>1000)` are boolean arrays of the same size as the input, but with values corresponding with the element-wise conditional truth. The result therefore comprises a combination of Poisson and Normal elements, element-wise conditional on the value of $\\lambda$. \n",
    "To prevent the integer overflow for large $\\lambda$ we also have to scale the value of $\\lambda$ with the conditional in the code `in * (inp<=1000)`, reducing the value to zero where it exceeds the threshold of 1000.\n",
    "\n",
    "The above code works well, provided that $\\lambda$ (`inp`) exceeds zero, because the Normal distribution is not kind to zero variance.  Conceptually it should just return the mean value, but computationally the implementation seems to want to divide by zero.  So we must prevent passing a zero standard deviation value to `np.random.normal`.  This can be done by adding a small value to the standard deviation, say `1e-10`. This should have negligible effect when $\\lambda>1000$, but not when $\\lambda$ is small, near zero.  For catch this condition we modify the code as follows:\n",
    "\n",
    "    out =  (inp<=1000) * np.random.poisson(inp * (inp<=1000) )\\\n",
    "          + ((inp>tpoint) & (inp!=0)) * np.random.normal(loc=inp, scale=np.sqrt(inp+1e-10))\n",
    "\n",
    "Now the Normal distribution value is only added for values exceeding zero.  "
   ]
  },
  {
   "cell_type": "code",
   "execution_count": 87,
   "metadata": {
    "collapsed": false
   },
   "outputs": [
    {
     "name": "stdout",
     "output_type": "stream",
     "text": [
      "lam=0 mean=0.0 var=0.0 err-mean=nan err-var=nan\n",
      "lam=10 mean=10.00312 var=9.8987502656 err-mean=-0.000312 err-var=0.01012497344\n",
      "lam=995 mean=994.96427 var=996.823333367 err-mean=3.59095477386e-05 err-var=-0.00183249584633\n",
      "lam=999 mean=998.84624 var=993.975817862 err-mean=0.000153913913914 err-var=0.00502921134895\n",
      "lam=1000 mean=1000.10865 var=995.345445177 err-mean=-0.00010865 err-var=0.0046545548225\n",
      "lam=1001 mean=1001.07043552 var=997.019233099 err-mean=-7.03651531234e-05 err-var=0.00397679011131\n",
      "lam=1005 mean=1005.18134334 var=1004.36719315 err-mean=-0.000180441136367 err-var=0.000629658559009\n",
      "lam=20000 mean=19999.481253 var=19944.9878988 err-mean=2.59373505145e-05 err-var=0.00275060505995\n"
     ]
    },
    {
     "name": "stderr",
     "output_type": "stream",
     "text": [
      "C:\\Anaconda2\\lib\\site-packages\\ipykernel\\__main__.py:10: RuntimeWarning: invalid value encountered in double_scalars\n"
     ]
    }
   ],
   "source": [
    "import numpy as np\n",
    "tpoint = 1000\n",
    "sdelta = 1e-10\n",
    "asize = 100000 # you need values of more than 10000000 to get really good stats\n",
    "for lam in [0, 10, tpoint-5, tpoint-1, tpoint, tpoint+1, tpoint+5, 20000]:\n",
    "    inp = lam * np.ones((asize,1))\n",
    "    out =  (inp<=tpoint) * np.random.poisson(inp * (inp<=tpoint) )\\\n",
    "          + ((inp>tpoint) & (inp!=0)) * np.random.normal(loc=inp, scale=np.sqrt(inp+sdelta))\n",
    "        \n",
    "    print('lam={} mean={} var={} err-mean={} err-var={}'.format(lam, \n",
    "       np.mean(out),np.var(out), (lam-np.mean(out))/lam, (lam-np.var(out))/lam))"
   ]
  },
  {
   "cell_type": "markdown",
   "metadata": {},
   "source": [
    "### Numpy meshgrid"
   ]
  },
  {
   "cell_type": "markdown",
   "metadata": {},
   "source": [
    "The `numpy.meshgrid` function takes two vectors and returns two two-dimensional arrays that loop the vector values along the two orthogonal dimensions. The returned arrays are the same for any form of input vectors, (N,), (1,N), or (N,1).\n",
    "This is best illustrated by an example"
   ]
  },
  {
   "cell_type": "code",
   "execution_count": 88,
   "metadata": {
    "collapsed": false
   },
   "outputs": [
    {
     "name": "stdout",
     "output_type": "stream",
     "text": [
      "valCols vector is  (shape=(5L,)) \n",
      "[1 2 3 4 5]\n",
      "valRows vector is  (shape=(3L,)) \n",
      "[10 20 30]\n",
      "varCol array is (shape=(3L, 5L))\n",
      "[[1 2 3 4 5]\n",
      " [1 2 3 4 5]\n",
      " [1 2 3 4 5]]\n",
      "varRow array is  (shape=(3L, 5L))\n",
      "[[10 10 10 10 10]\n",
      " [20 20 20 20 20]\n",
      " [30 30 30 30 30]]\n"
     ]
    }
   ],
   "source": [
    "valCols = np.asarray([1, 2, 3, 4, 5])\n",
    "valRows = np.asarray([10, 20, 30])\n",
    "varCol, varRow = np.meshgrid(valCols, valRows)\n",
    "print('valCols vector is  (shape={}) \\n{}'.format(valCols.shape,valCols))\n",
    "print('valRows vector is  (shape={}) \\n{}'.format(valRows.shape,valRows))\n",
    "print('varCol array is (shape={})\\n{}'.format(varCol.shape,varCol))\n",
    "print('varRow array is  (shape={})\\n{}'.format(varRow.shape,varRow))"
   ]
  },
  {
   "cell_type": "markdown",
   "metadata": {},
   "source": [
    "The `numpy.meshgrid` function was conceived to create a two-dimensional grid, e.g., for a cartesian grid. Because the two arrays returned contains variations along rows and along columns only, these arrays can be used in any function that requires to operate on two parameters.\n",
    "\n",
    "In the following example a square cartesian grid on [-2,2] is formed.  `numpy.meshgrid` is used to create two arrays for varying x and varying y.  The two arrays are flattened (made into (N,)) and then a relatively complex function is applied to the data. After the function call the data is reshaped back to the original shape.  Note that the calculation over two dimensions is done without any `for` loops."
   ]
  },
  {
   "cell_type": "code",
   "execution_count": 89,
   "metadata": {
    "collapsed": false
   },
   "outputs": [
    {
     "data": {
      "text/plain": [
       "<matplotlib.axes._subplots.Axes3DSubplot at 0x8d606d8>"
      ]
     },
     "execution_count": 89,
     "metadata": {},
     "output_type": "execute_result"
    },
    {
     "data": {
      "image/png": "[encoded data removed]",
      "text/plain": [
       "<matplotlib.figure.Figure at 0x8d60a20>"
      ]
     },
     "metadata": {},
     "output_type": "display_data"
    }
   ],
   "source": [
    "import numpy as np\n",
    "import pyradi.ryplot as ryplot\n",
    "from matplotlib import cm\n",
    "\n",
    "def myFunc(x,y):\n",
    "  scale = np.sqrt(np.exp(-(x**2 +y**2)))\n",
    "  return np.sin(2 * x) * np.cos(4 * y) * scale\n",
    "\n",
    "x = np.linspace(-2, 2, 101)\n",
    "y = np.linspace(-2, 2, 101)\n",
    "varx, vary = np.meshgrid(x, y)\n",
    "zdata = myFunc(varx.flatten(), vary.flatten()).reshape(varx.shape)\n",
    "\n",
    "p = ryplot.Plotter(1,1,1,figsize=(10,6))\n",
    "p.mesh3D(1, varx, vary, zdata, ptitle='Title', xlabel='x', ylabel='y', zlabel='z',\n",
    "  rstride=3, cstride=3, linewidth= 0.3, maxNX=5, maxNY=5, maxNZ=0,\n",
    "  drawGrid=True, cbarshow=True, alpha=0.5)"
   ]
  },
  {
   "cell_type": "markdown",
   "metadata": {},
   "source": [
    "### Ranges with complex / imaginary step sizes\n",
    "\n",
    "`numpy.mgrid()`  can be used to construct 1d ranges as a convenient substitute for arange. It also allows the use of complex-numbers in the step-size to indicate the number of points to place between the (inclusive) end-points. The real purpose of this function however is to produce N, N-d arrays which provide coordinate arrays for an N-dimensional volume. \n",
    "\n",
    "If the step length is not a complex number, then the stop is not inclusive and the step size is interpreted as a step increment.  However, if the step length is a complex number (e.g. 5j), then the integer part of its magnitude is interpreted as specifying the number of points to create between the start and stop values, where the stop value is inclusive.\n",
    "\n",
    "http://docs.scipy.org/doc/numpy-1.10.0/reference/generated/numpy.mgrid.html  \n",
    "http://docs.scipy.org/doc/scipy/reference/tutorial/basic.html"
   ]
  },
  {
   "cell_type": "code",
   "execution_count": 90,
   "metadata": {
    "collapsed": false
   },
   "outputs": [
    {
     "name": "stdout",
     "output_type": "stream",
     "text": [
      "[-5  0]\n",
      "[-5.  -2.5  0.   2.5  5. ]\n"
     ]
    }
   ],
   "source": [
    "import numpy as np\n",
    "a = np.mgrid[-5:5:5]\n",
    "print(a)\n",
    "ai = np.mgrid[-5:5:5j]\n",
    "print(ai)"
   ]
  },
  {
   "cell_type": "markdown",
   "metadata": {},
   "source": [
    "### Numpy integration and meshgrid"
   ]
  },
  {
   "cell_type": "markdown",
   "metadata": {},
   "source": [
    "Integration in Numpy is quite easy, the function `numpy.trapz` does all the work:"
   ]
  },
  {
   "cell_type": "code",
   "execution_count": 91,
   "metadata": {
    "collapsed": false
   },
   "outputs": [
    {
     "name": "stdout",
     "output_type": "stream",
     "text": [
      "Integral of sin over [0,pi/2] in 4 samples is 0.977048616657 \n",
      "Integral of sin over [0,pi/2] in 11 samples is 0.997942986354 \n",
      "Integral of sin over [0,pi/2] in 101 samples is 0.99997943824 \n",
      "Integral of sin over [0,pi/2] in 1001 samples is 0.999999794383 \n",
      "Integral of sin over [0,pi/2] in 100001 samples is 0.999999999979 \n"
     ]
    }
   ],
   "source": [
    "for n in [4, 11, 101, 1001, 100001]:\n",
    "    t = np.linspace(0,  np.pi/2, n)\n",
    "    s = np.sin(t)\n",
    "    int = np.trapz(s, t, axis=0)\n",
    "    print('Integral of sin over [0,pi/2] in {} samples is {} '.format(n,int))"
   ]
  },
  {
   "cell_type": "markdown",
   "metadata": {},
   "source": [
    "A recurring pattern in the use of pyradi is the integration of a two-dimensional dataset along one of the dimensions. In most programming languages, this would require at least one or possibly two loops over the dimensions.  The `numpy.meshgrid` function has the potential of trading the complexity of looping against the complexity of loop abstraction.\n",
    "\n",
    "In the example below the inband blackbody radiance over a spectral detector is calculated using\n",
    "\n",
    "$\n",
    "L_{\\rm inband} = \\int_0^\\infty R_\\lambda L_\\lambda(T) d\\lambda \\approx \\sum_{0.1 \\mu{\\rm m}}^{7 \\mu{\\rm m}} R_\\lambda L_\\lambda(T) d\\lambda \n",
    "$\n",
    "\n",
    "The wavelength spectral domain (shape (S,1)) is calculated from a short wavelength up to 7 $\\mu$m, covering the detector spectral band.  The detector spectral response (shape (S,1)) is calculated using using a function from `pyradi.ryutils`. A range of source temperatures is defined (shape (T,1)).  The same spectral range used to calculate the detector is used to calculate the blackbody radiance, using `pyradi.ryplanck.planck`.  The value returned by `ryplanck.planck` is a two-dimensional (shape (S,T)) array with spectral variation across the rows (axis=0) and temperature variation across the columns (axis=1).  The challenge is now to multiply each column in the radiance table with the spectral responsivity, without using a loop.  The `numpy.meshgrid` function is used to calculate an array with the responsivity variation along the rows, but with exactly the same values in all columns. Once this new array is available, it is multiplied with the radiance array. After multiplication the columns in the new array contain the product of $R_\\lambda L_\\lambda(T)$, with each column at a different temperature.  The summation/integral is then performed by using `numpy.trapz` and integrating along axis=0 (rows), which is the direction of spectral variation.  The resulting vector is the integral over all wavelengths, for the different temperatures."
   ]
  },
  {
   "cell_type": "code",
   "execution_count": 92,
   "metadata": {
    "collapsed": false
   },
   "outputs": [
    {
     "data": {
      "text/plain": [
       "<matplotlib.axes._subplots.AxesSubplot at 0x8d7ef60>"
      ]
     },
     "execution_count": 92,
     "metadata": {},
     "output_type": "execute_result"
    },
    {
     "data": {
      "image/png": "[encoded data removed]",
      "text/plain": [
       "<matplotlib.figure.Figure at 0x8d60550>"
      ]
     },
     "metadata": {},
     "output_type": "display_data"
    }
   ],
   "source": [
    "import pyradi.ryutils as ryutils\n",
    "import pyradi.ryplanck as ryplanck\n",
    "wavelength = np.linspace(0.1, 7, 305).reshape(-1, 1)\n",
    "detector = ryutils.responsivity(wavelength, 6.1, 1, 15, 1.0)\n",
    "temperatures = np.linspace(280, 1000, 41)\n",
    "spectralBaseline = ryplanck.planck(wavelength,temperatures,'el') / np.pi\n",
    "_, detVar = np.meshgrid(temperatures, detector)\n",
    "spectralWeighted = spectralBaseline * detVar\n",
    "inbandRadiance = np.trapz(spectralWeighted, wavelength, axis=0 )\n",
    "\n",
    "p = ryplot.Plotter(2,1,3,figsize=(18,4))\n",
    "p.plot(1,wavelength,detector,'Detector responsivity','Wavelength $\\mu$m', 'Responsivity A/W',pltaxis=[0.5,7,0,0.8])\n",
    "p.plot(2,temperatures,inbandRadiance,'Inband radiance vs temperature','Temperature K', 'Inband radiance W/(m$^2$.sr)')"
   ]
  },
  {
   "cell_type": "markdown",
   "metadata": {},
   "source": [
    "## Overflow errors in Numpy"
   ]
  },
  {
   "cell_type": "markdown",
   "metadata": {},
   "source": [
    "Thanks to Bertus Theron for this input.\n",
    "\n",
    "It refers to the fact that (for older versions of Python) neither exception nor warning is raised by Numpy when an integer overflow is encountered.  Later versions of Python cause an error. Test with this example:\n"
   ]
  },
  {
   "cell_type": "code",
   "execution_count": 93,
   "metadata": {
    "collapsed": false
   },
   "outputs": [],
   "source": [
    "#Calculation without neither receiving warning nor exception encountered\n",
    "# a = np.array( [400,  300], dtype = np.int32 )\n",
    "# print(a)\n",
    "# a**4\n",
    "#note that IPython does warn you"
   ]
  },
  {
   "cell_type": "markdown",
   "metadata": {},
   "source": [
    "How to make Numpy raise an exception for the same calculation"
   ]
  },
  {
   "cell_type": "code",
   "execution_count": 94,
   "metadata": {
    "collapsed": false
   },
   "outputs": [],
   "source": [
    "# np.seterr( invalid='raise' )\n",
    "# a**4"
   ]
  },
  {
   "cell_type": "markdown",
   "metadata": {},
   "source": [
    "The default NumPy error handling setting is: invalid = \"warn\"  \n",
    "I notice that this warning is correctly trapped for scalar NumPy integers and for single-element NumPy arrays,\n",
    "BUT not trapped for NumPy arrays with 2 or more elements. \n",
    "\n",
    "Regarding numpy.seterr(), the NumPy documentation says  \n",
    "\n",
    "      numpy.seterr(all=None, divide=None, over=None, under=None, invalid=None)[source]\n",
    "       Set how floating-point errors are handled.\n",
    "and  \n",
    "\n",
    "      Note that operations on integer scalar types (such as int16) are handled like floating point, and are affected by these settings.\n",
    " "
   ]
  },
  {
   "cell_type": "markdown",
   "metadata": {},
   "source": [
    "## Algebraic Manipulation with SymPy"
   ]
  },
  {
   "cell_type": "markdown",
   "metadata": {},
   "source": [
    "SymPy performs symbolic mathematical manipulation and evaluation.  The output from SymPy can be displayed in the IPython notebook. \n",
    "\n",
    "<http://nbviewer.ipython.org/github/jrjohansson/scientific-python-lectures/blob/master/Lecture-5-Sympy.ipynb>  \n",
    "<http://docs.sympy.org/dev/tutorial/printing.html>  \n",
    "<https://stackoverflow.com/questions/19470796/ipython-notebook-output-latex-or-mathjax>  "
   ]
  },
  {
   "cell_type": "code",
   "execution_count": 95,
   "metadata": {
    "collapsed": false
   },
   "outputs": [
    {
     "name": "stdout",
     "output_type": "stream",
     "text": [
      "$\\frac{1}{e_{0} e_{1} - e_{0} - e_{1}} \\left(e_{0}^{3} e_{1}^{2} - e_{0}^{3} e_{1} - e_{0}^{2} e_{1}^{3} + e_{0}^{2} + e_{0} e_{1}^{3} - e_{1}^{2}\\right)$\n"
     ]
    }
   ],
   "source": [
    "from sympy import *\n",
    "init_printing()\n",
    "e0 = Symbol('e0')\n",
    "e1 = Symbol('e1')\n",
    "a = e1 ** 2 * (1- e0) - e0 ** 2 * (1 - e1) + \\\n",
    "     (e1**2-e0**2)*(1-e0) *(1-e1)/ (1-(1-e0)*(1-e1))\n",
    "b = a.simplify()\n",
    "print('$'+latex(b)+'$')"
   ]
  },
  {
   "cell_type": "code",
   "execution_count": 96,
   "metadata": {
    "collapsed": false
   },
   "outputs": [
    {
     "data": {
      "image/png": "[encoded data removed]",
      "text/latex": [
       "$$- e_{0}^{2} \\left(- e_{1} + 1\\right) + e_{1}^{2} \\left(- e_{0} + 1\\right) + \\frac{\\left(- e_{0} + 1\\right) \\left(- e_{0}^{2} + e_{1}^{2}\\right) \\left(- e_{1} + 1\\right)}{- \\left(- e_{0} + 1\\right) \\left(- e_{1} + 1\\right) + 1}$$"
      ],
      "text/plain": [
       "                                            ⎛    2     2⎞          \n",
       "    2               2             (-e₀ + 1)⋅⎝- e₀  + e₁ ⎠⋅(-e₁ + 1)\n",
       "- e₀ ⋅(-e₁ + 1) + e₁ ⋅(-e₀ + 1) + ─────────────────────────────────\n",
       "                                       -(-e₀ + 1)⋅(-e₁ + 1) + 1    "
      ]
     },
     "execution_count": 96,
     "metadata": {},
     "output_type": "execute_result"
    }
   ],
   "source": [
    "# interactive.printing.init_printing(use_latex=True)\n",
    "a"
   ]
  },
  {
   "cell_type": "code",
   "execution_count": 97,
   "metadata": {
    "collapsed": false
   },
   "outputs": [
    {
     "data": {
      "image/png": "[encoded data removed]",
      "text/latex": [
       "$$\\frac{1}{e_{0} e_{1} - e_{0} - e_{1}} \\left(e_{0}^{3} e_{1}^{2} - e_{0}^{3} e_{1} - e_{0}^{2} e_{1}^{3} + e_{0}^{2} + e_{0} e_{1}^{3} - e_{1}^{2}\\right)$$"
      ],
      "text/plain": [
       "  3   2     3        2   3     2        3     2\n",
       "e₀ ⋅e₁  - e₀ ⋅e₁ - e₀ ⋅e₁  + e₀  + e₀⋅e₁  - e₁ \n",
       "───────────────────────────────────────────────\n",
       "                e₀⋅e₁ - e₀ - e₁                "
      ]
     },
     "execution_count": 97,
     "metadata": {},
     "output_type": "execute_result"
    }
   ],
   "source": [
    "b"
   ]
  },
  {
   "cell_type": "markdown",
   "metadata": {},
   "source": [
    "## PYTHONPATH and Executing Python Scripts"
   ]
  },
  {
   "cell_type": "markdown",
   "metadata": {},
   "source": [
    "The PYTHONPATH environmental variable tells python where to look for modules when importing, _it does not define the path to a *.py script to be executed_.  If you have a module in a directory outside the standard Python install directory (e.g., an experimental module in your HOME directory), add the path to the module to the PYTHONPATH environmental variable.  The general advice is to not change the environmental variable permanently on operating system level, because of potential conflicts with other installed packages.\n",
    "\n",
    "### Adding to PYTHONPATH for the current session only\n",
    "From inside Python execute the following command to add a new path to your current PYTHONPATH, which will not add the path permanently:   \n",
    "\n",
    "    import sys\n",
    "    sys.path.append('/path/to/your/python/module')\n",
    "\n",
    "To insert your new path at the front of PYTHONPATH (useful if you want to look in your local directories first, overriding existing installs):  \n",
    "\n",
    "    sys.path.insert(0,'/path/to/your/python/module') \n",
    "\n",
    "To get a list of the paths currently in PYTHONPATH:  \n",
    "\n",
    "    import sys\n",
    "    print(sys.path)\n",
    "\n",
    "### Adding to PYTHONPATH permanently for all sessions\n",
    "If you are using/developing a module that is not located in `.../site-packages/`, but you want a path to the module on a more permanent basis in your PYTHONPATH, use a path configuration file.  Path configuration files are usually placed in the `.../site-packages/` directory (or a few other places) and can have any name, but with an extension of .pth.\n",
    "Each line must contain a single path that will be appended to sys.path. New paths are _appended_ to sys.path, modules in the added directories will not override standard modules.\n",
    "\n",
    "It is not clear from the documentation, but the paths to the modules listed in the pht file must be _relative_ to one of the site packages directories. These directories are where Python would look for modules.  Absolute paths do not seem to work (at least on Windows, the are Linux examples that do have absolute paths).  If your module is located on the same disk as `.../site-packages/`, then it appears necessary to provide a path relative to this `.../site-packages/`, i.e., something like `../../../pathtomodule`.  If the module is not on the same disk/drive as `.../site-packages/`, you should probably set up a secondary site-packages directory on the other disk (using `addsitedir`).\n",
    "\n",
    "\n",
    "<https://docs.python.org/2/library/site.html>  \n",
    "<https://docs.python.org/2/library/site.html#site.USER_SITE>  \n",
    "<https://docs.python.org/2/install/>  \n",
    "<https://stackoverflow.com/questions/15208615/using-pth-files>  \n",
    "<http://bob.ippoli.to/archives/2005/02/06/using-pth-files-for-python-development/>  \n",
    "<https://groups.google.com/a/continuum.io/forum/#!topic/anaconda/RO_h0wD7sKE>  \n",
    "<https://stackoverflow.com/questions/10693706/creating-a-secondary-site-packages-directory-and-loading-packages-from-pth-fil>  \n",
    "<https://stackoverflow.com/questions/19914527/using-python-pth-files-assuming-no-access-to-site-packages-directory>  \n",
    "<https://docs.python.org/2/library/site.html#site.addsitedir>  \n",
    "\n",
    "\n",
    "### Anaconda  \n",
    "Use any of the above methods  \n",
    "https://stackoverflow.com/questions/17386880/does-anaconda-create-a-separate-pythonpath-variable-for-each-new-environment  \n",
    "\n",
    "### Canopy \n",
    "Canopy users please see this  \n",
    "<https://support.enthought.com/entries/23665767-How-do-I-set-PYTHONPATH-and-other-environment-variables-for-Canopy->   \n",
    "\n",
    "### General information:  \n",
    "<https://stackoverflow.com/questions/19917492/how-to-use-pythonpath>  \n",
    "<https://stackoverflow.com/questions/4580101/python-add-pythonpath-during-command-line-module-run>  \n",
    "<http://www.stereoplex.com/blog/understanding-imports-and-pythonpath>  \n",
    "<https://stackoverflow.com/questions/1489599/how-do-i-find-out-my-python-path-using-python>  \n",
    "<http://users-cs.au.dk/chili/PBI/pythonpath.html>\n",
    "http://docs.continuum.io/anaconda/ide_integration.html  "
   ]
  },
  {
   "cell_type": "code",
   "execution_count": 98,
   "metadata": {
    "collapsed": false
   },
   "outputs": [
    {
     "name": "stdout",
     "output_type": "stream",
     "text": [
      "['', 'C:\\\\Anaconda2\\\\python27.zip', 'C:\\\\Anaconda2\\\\DLLs', 'C:\\\\Anaconda2\\\\lib', 'C:\\\\Anaconda2\\\\lib\\\\plat-win', 'C:\\\\Anaconda2\\\\lib\\\\lib-tk', 'C:\\\\Anaconda2', 'c:\\\\anaconda2\\\\lib\\\\site-packages\\\\sphinx-1.3.5-py2.7.egg', 'c:\\\\anaconda2\\\\lib\\\\site-packages\\\\setuptools-20.3-py2.7.egg', 'C:\\\\Anaconda2\\\\lib\\\\site-packages', 'V:\\\\work\\\\pyradi\\\\pyradi', 'C:\\\\Anaconda2\\\\lib\\\\site-packages\\\\win32', 'C:\\\\Anaconda2\\\\lib\\\\site-packages\\\\win32\\\\lib', 'C:\\\\Anaconda2\\\\lib\\\\site-packages\\\\Pythonwin', 'C:\\\\Anaconda2\\\\lib\\\\site-packages\\\\IPython\\\\extensions', 'C:\\\\Users\\\\ezwill\\\\.ipython']\n"
     ]
    }
   ],
   "source": [
    "import sys\n",
    "print(sys.path)"
   ]
  },
  {
   "cell_type": "markdown",
   "metadata": {},
   "source": [
    "### Executing a Python script from any directory\n",
    "\n",
    "To execute a python script from anywhere on your system, use the PATH environmental variable.\n",
    "\n",
    "**On Linux:**  \n",
    "Add your script path to the system's PATH environmental variable:  \n",
    "\n",
    "    export PATH=$PATH:/home/user/path/to/python/script.py  \n",
    "\n",
    "Add the following line as the first line (shebang line) of the script to tell Linux which interpreter to use:  \n",
    "\n",
    "    #!/usr/bin/env python\n",
    " \n",
    "Set up the script as an executable:   \n",
    "\n",
    "    chmod +x /home/user/path/to/python/script.py\n",
    "\n",
    "<https://stackoverflow.com/questions/19917492/how-to-use-pythonpath>  \n",
    "\n",
    "**On Linux:** \n",
    "If the file is created in Windows, the line ending is not Linux friendly.  Windows uses carriage return and line feed `\\r\\n`, whereas Linux uses just a line feed `\\n`.  This means that if the file is created on Windows and executed on Linux the operating system is searching to execute the file `python\\r`, which is very different from the intended `python`.  I tried converting the file from Windows to Linux format by using the `fromdos` command, but that did not fix the line ending problem.  Opening and closing the file in `nano` did not help either.  The only remedy was to (1) open the file in Linux (e.g. in `nano`), move to the top of the file, (2) manually type in the whole first line followed by `Enter` a few times, making very sure that a new Linux line ending is introduced, and (3) then remove the old line with the bad line ending.\n",
    "\n",
    "**On Windows:**  \n",
    "Add the path to your script to your user or system PATH environmental variable. The [Rapid Environment Editor](http://www.rapidee.com/en/about) tool makes it very easy.  Once the path is set up, you can just double click on the script or run it in a command window."
   ]
  },
  {
   "cell_type": "markdown",
   "metadata": {},
   "source": [
    "## Regular Expressions"
   ]
  },
  {
   "cell_type": "markdown",
   "metadata": {},
   "source": [
    "<https://www3.ntu.edu.sg/home/ehchua/programming/howto/Regexe.html>  \n",
    "    \n",
    "    "
   ]
  },
  {
   "cell_type": "markdown",
   "metadata": {},
   "source": [
    "## Optimizing and performance tricks"
   ]
  },
  {
   "cell_type": "markdown",
   "metadata": {},
   "source": [
    "[The Top Mistakes Developers Make When Using Python for Big Data Analytics](https://www.airpair.com/python/posts/top-mistakes-python-big-data-analytics)  \n",
    "\n"
   ]
  },
  {
   "cell_type": "markdown",
   "metadata": {},
   "source": [
    "## References and garbage collection"
   ]
  },
  {
   "cell_type": "markdown",
   "metadata": {},
   "source": [
    "Python has built-in garbage collection, which for most tasks appear to work reasonably well.  In some cases however the standard garbage collection methodology may not suffice and user intervention may be required.\n",
    "Python's garbage collection and its intricacies requires a complete, separate notebook, but here is a summary.  What follows is my present understanding, which is incomplete and may even be wrong in places.\n",
    "\n",
    "Python's memory model uses a reference-to-a-data-item with associated [reference counting](http://edcjones.tripod.com/refcount.html) approach.  Some data item is allocated memory and a reference to that memory is given when you 'assign' the data item to a name. So,\n",
    "\n",
    "    a = ['gg','hh']\n",
    "\n",
    "creates the data item (the list) and allocates a reference to this data item to the variable `a`. Note that the data item and the variable are two different things, `a` merely refers to the data item, it isn't the data item.\n",
    "\n",
    "An object is automatically marked to be collected when its reference count drops to zero.\n",
    "\n",
    "\n",
    "[gc – Python's Garbage Collector](https://pymotw.com/2/gc/)\n",
    "\n",
    "[Memory Management and Limits](https://pymotw.com/2/sys/limits.html)\n",
    "\n",
    "http://stackoverflow.com/questions/9617001/python-garbage-collection-fails\n",
    "\n",
    "http://python.6.x6.nabble.com/question-about-garbage-collection-td1661865.html\n",
    "\n",
    "http://stackoverflow.com/questions/16261240/releasing-memory-of-huge-numpy-array-in-ipython\n",
    "\n",
    "The `sys.getrefcount()` function shows the number of references attached/assigned to the data item. The count is [actually one higher](https://docs.python.org/2/library/sys.html#sys.getrefcount) than expected because there is a temporary reference to the object held by getrefcount() itself. \n",
    "\n",
    "References are removed by assigning the value `None` to the variable.  \n"
   ]
  },
  {
   "cell_type": "code",
   "execution_count": 99,
   "metadata": {
    "collapsed": false
   },
   "outputs": [
    {
     "name": "stdout",
     "output_type": "stream",
     "text": [
      "before assigning ref  a  81365\n",
      "after  assigning ref  a  2\n",
      "after  assigning ref  b  3\n",
      "after  removing  ref  b  2\n",
      "after  removing  ref  a  81367\n"
     ]
    }
   ],
   "source": [
    "import sys\n",
    "a = None\n",
    "print('before assigning ref  a  {}'.format(sys.getrefcount(a)))\n",
    "a = ['gg','hh']\n",
    "print('after  assigning ref  a  {}'.format(sys.getrefcount(a)))\n",
    "b = a\n",
    "print('after  assigning ref  b  {}'.format(sys.getrefcount(a)))\n",
    "b = None\n",
    "print('after  removing  ref  b  {}'.format(sys.getrefcount(a)))\n",
    "a = None\n",
    "print('after  removing  ref  a  {}'.format(sys.getrefcount(a)))   "
   ]
  },
  {
   "cell_type": "markdown",
   "metadata": {},
   "source": [
    "When all references to a data item are removed, the data item still remains in memory, until removed by the Python garbage collector.  This may take place at any time (perhaps never at all during a short session) when the Python runtime feels like it.  The garbage collector is not able to remove all data items (I seem to recall that lists of floats and ints are not removed).\n",
    "\n",
    "You can force the garbage collector to clean up the memory by using [gc – Python's Garbage Collector](https://pymotw.com/2/gc/)"
   ]
  },
  {
   "cell_type": "code",
   "execution_count": 100,
   "metadata": {
    "collapsed": false
   },
   "outputs": [
    {
     "data": {
      "image/png": "[encoded data removed]",
      "text/latex": [
       "$$212$$"
      ],
      "text/plain": [
       "212"
      ]
     },
     "execution_count": 100,
     "metadata": {},
     "output_type": "execute_result"
    }
   ],
   "source": [
    "import gc\n",
    "gc.collect()"
   ]
  },
  {
   "cell_type": "markdown",
   "metadata": {},
   "source": [
    "## Context Managers"
   ]
  },
  {
   "cell_type": "markdown",
   "metadata": {},
   "source": [
    "From <http://jeffknupp.com/blog/2016/03/07/python-with-context-managers/>:\n",
    "\n",
    "\"We need a convenient method for indicating a particular variable has some cleanup associated with it, and to guarantee that cleanup happens, no matter what. Given that requirement, the syntax for using context managers makes a lot of sense:\n",
    "\n",
    "    with something_that_returns_a_context_manager() as my_resource:\n",
    "        do_something(my_resource)\n",
    "        ...\n",
    "        print('done using my_resource')\n",
    "\n",
    "That's it! Using with, we can call anything that returns a context manager (like the built-in `open()` function). We assign it to a variable using `... as <variable_name>`. Crucially, the variable only exists within the indented block below the with statement. Think of with as creating a mini-function: we can use the variable freely in the indented portion, but once that block ends, the variable goes out of scope. When the variable goes out of scope, it automatically calls a special method that contains the code to clean up the resource.\"\n",
    "\n"
   ]
  },
  {
   "cell_type": "markdown",
   "metadata": {},
   "source": [
    "## Hardware interfacing"
   ]
  },
  {
   "cell_type": "markdown",
   "metadata": {},
   "source": [
    "### Serial ports\n",
    "\n",
    "Python can be used to interface to hardware, one such example investigated here is using the serial port to communicate.  The `pyserial` module provides this capability, see the [documentation](https://pyserial.readthedocs.org/en/latest/). It is on the Anaconda distribution but not included in the standard download.  To install type `conda install pyserial`  at the prompt in a command window.\n",
    "\n",
    "A simple example is shown  [here](http://www.varesano.net/blog/fabio/serial%20rs232%20connections%20python>). In [another example](http://lucsmall.com/2015/02/23/homebrew-esp8266-breakout/) `pyserial` is used to communicate with an ESP8266.  A detailed example is given [here](http://petrimaki.com/2013/04/28/reading-arduino-serial-ports-in-windows-7/).\n",
    "See this [example to read and plot data](https://www.lebsanft.org/?p=48). [This example](https://github.com/mba7/SerialPort-RealTime-Data-Plotter) gets data via a serial interface and then plot it in a GUI.\n",
    "\n",
    "\n",
    "\n",
    "It turns out that you need to run the Python code with Administrator rights, otherwise it will not grant you access to the COM port. \n",
    "\n",
    "### Communicating with an Arduino /ESP\n",
    "\n",
    "See these pages:\n",
    "\n",
    "1. http://fab.cba.mit.edu/classes/863.14/people/guy_zyskind/notebook.html\n",
    "1. http://lucsmall.com/2015/02/23/homebrew-esp8266-breakout/\n",
    "1. http://fab.cba.mit.edu/classes/863.14/people/guy_zyskind/week12.html\n",
    "1. https://github.com/guyz/interactive-arduino-programming\n",
    "\n"
   ]
  },
  {
   "cell_type": "markdown",
   "metadata": {},
   "source": [
    "## Python and [module versions, and dates](http://nbviewer.ipython.org/github/jrjohansson/scientific-python-lectures/blob/master/Lecture-0-Scientific-Computing-with-Python.ipynb)"
   ]
  },
  {
   "cell_type": "code",
   "execution_count": 101,
   "metadata": {
    "collapsed": false
   },
   "outputs": [
    {
     "name": "stderr",
     "output_type": "stream",
     "text": [
      "C:\\Anaconda2\\lib\\site-packages\\pandas\\computation\\__init__.py:19: UserWarning: The installed version of numexpr 2.4.4 is not supported in pandas and will be not be used\n",
      "\n",
      "  UserWarning)\n"
     ]
    },
    {
     "data": {
      "application/json": {
       "Software versions": [
        {
         "module": "Python",
         "version": "2.7.11 64bit [MSC v.1500 64 bit (AMD64)]"
        },
        {
         "module": "IPython",
         "version": "4.1.2"
        },
        {
         "module": "OS",
         "version": "Windows 7 6.1.7601 SP1"
        },
        {
         "module": "numpy",
         "version": "1.10.4"
        },
        {
         "module": "scipy",
         "version": "0.17.0"
        },
        {
         "module": "matplotlib",
         "version": "1.5.1"
        },
        {
         "module": "pyradi",
         "version": "0.2.1"
        },
        {
         "module": "sympy",
         "version": "1.0"
        },
        {
         "module": "pandas",
         "version": "0.18.0"
        }
       ]
      },
      "text/html": [
       "<table><tr><th>Software</th><th>Version</th></tr><tr><td>Python</td><td>2.7.11 64bit [MSC v.1500 64 bit (AMD64)]</td></tr><tr><td>IPython</td><td>4.1.2</td></tr><tr><td>OS</td><td>Windows 7 6.1.7601 SP1</td></tr><tr><td>numpy</td><td>1.10.4</td></tr><tr><td>scipy</td><td>0.17.0</td></tr><tr><td>matplotlib</td><td>1.5.1</td></tr><tr><td>pyradi</td><td>0.2.1</td></tr><tr><td>sympy</td><td>1.0</td></tr><tr><td>pandas</td><td>0.18.0</td></tr><tr><td colspan='2'>Sun Apr 17 17:53:06 2016 South Africa Standard Time</td></tr></table>"
      ],
      "text/latex": [
       "\\begin{tabular}{|l|l|}\\hline\n",
       "{\\bf Software} & {\\bf Version} \\\\ \\hline\\hline\n",
       "Python & 2.7.11 64bit [MSC v.1500 64 bit (AMD64)] \\\\ \\hline\n",
       "IPython & 4.1.2 \\\\ \\hline\n",
       "OS & Windows 7 6.1.7601 SP1 \\\\ \\hline\n",
       "numpy & 1.10.4 \\\\ \\hline\n",
       "scipy & 0.17.0 \\\\ \\hline\n",
       "matplotlib & 1.5.1 \\\\ \\hline\n",
       "pyradi & 0.2.1 \\\\ \\hline\n",
       "sympy & 1.0 \\\\ \\hline\n",
       "pandas & 0.18.0 \\\\ \\hline\n",
       "\\hline \\multicolumn{2}{|l|}{Sun Apr 17 17:53:06 2016 South Africa Standard Time} \\\\ \\hline\n",
       "\\end{tabular}\n"
      ],
      "text/plain": [
       "Software versions\n",
       "Python 2.7.11 64bit [MSC v.1500 64 bit (AMD64)]\n",
       "IPython 4.1.2\n",
       "OS Windows 7 6.1.7601 SP1\n",
       "numpy 1.10.4\n",
       "scipy 0.17.0\n",
       "matplotlib 1.5.1\n",
       "pyradi 0.2.1\n",
       "sympy 1.0\n",
       "pandas 0.18.0\n",
       "Sun Apr 17 17:53:06 2016 South Africa Standard Time"
      ]
     },
     "execution_count": 101,
     "metadata": {},
     "output_type": "execute_result"
    }
   ],
   "source": [
    "%load_ext version_information\n",
    "%version_information numpy, scipy, matplotlib, pyradi, sympy, pandas"
   ]
  }
 ],
 "metadata": {
  "kernelspec": {
   "display_name": "Python 2",
   "language": "python",
   "name": "python2"
  },
  "language_info": {
   "codemirror_mode": {
    "name": "ipython",
    "version": 2
   },
   "file_extension": ".py",
   "mimetype": "text/x-python",
   "name": "python",
   "nbconvert_exporter": "python",
   "pygments_lexer": "ipython2",
   "version": "2.7.11"
  }
 },
 "nbformat": 4,
 "nbformat_minor": 0
}
