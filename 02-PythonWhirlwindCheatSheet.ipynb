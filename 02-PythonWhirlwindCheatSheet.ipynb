{
 "metadata": {
  "name": "",
  "signature": "sha256:fc8895c13cdb7f59ec3f1ba60079e8b4ddbb086ba2680f7b322acac4551f1660"
 },
 "nbformat": 3,
 "nbformat_minor": 0,
 "worksheets": [
  {
   "cells": [
    {
     "cell_type": "heading",
     "level": 1,
     "metadata": {},
     "source": [
      "2 Python and Numpy whirlwind cheat sheet"
     ]
    },
    {
     "cell_type": "markdown",
     "metadata": {},
     "source": [
      "This notebook forms part of a series on [computational optical radiometry](https://github.com/NelisW/ComputationalRadiometry#computational-optical-radiometry-with-pyradi).  The notebooks can be downloaded from [Github](https://github.com/NelisW/ComputationalRadiometry#computational-optical-radiometry-with-pyradi). These notebooks are constantly revised and updated, please revisit from time to time.  \n",
      "\n",
      "\n",
      "[<img src=\"https://zenodo.org/badge/doi/10.5281/zenodo.9910.png\"   align=\"left\"/>](http://dx.doi.org/10.5281/zenodo.9910)\n"
     ]
    },
    {
     "cell_type": "markdown",
     "metadata": {},
     "source": [
      "The date of this document and module versions used in this document are given at the end of the file.  \n",
      "Feedback is appreciated: neliswillers at gmail dot com."
     ]
    },
    {
     "cell_type": "heading",
     "level": 2,
     "metadata": {},
     "source": [
      "Overview"
     ]
    },
    {
     "cell_type": "markdown",
     "metadata": {},
     "source": [
      "This notebook serves to give brief one-liner examples of key Python usage and idioms.\n",
      "The approach here is not to spend too much time on general Python constructs, but to move on to Numpy as soon as possible. Numpy is a critical base for any scientific calculation, providing powerful vectorised computation. I make no claim to any level of completeness in this document. You still need to read the books and reference manuals to get the big picture and the details. You still have to read the manuals, but this should help you move on to Numpy quickly.\n"
     ]
    },
    {
     "cell_type": "code",
     "collapsed": false,
     "input": [
      "from IPython.display import display\n",
      "from IPython.display import Image\n",
      "from IPython.display import HTML"
     ],
     "language": "python",
     "metadata": {},
     "outputs": [],
     "prompt_number": 4
    },
    {
     "cell_type": "heading",
     "level": 2,
     "metadata": {},
     "source": [
      "The Zen of Python"
     ]
    },
    {
     "cell_type": "code",
     "collapsed": false,
     "input": [
      "import this"
     ],
     "language": "python",
     "metadata": {},
     "outputs": [
      {
       "output_type": "stream",
       "stream": "stdout",
       "text": [
        "The Zen of Python, by Tim Peters\n",
        "\n",
        "Beautiful is better than ugly.\n",
        "Explicit is better than implicit.\n",
        "Simple is better than complex.\n",
        "Complex is better than complicated.\n",
        "Flat is better than nested.\n",
        "Sparse is better than dense.\n",
        "Readability counts.\n",
        "Special cases aren't special enough to break the rules.\n",
        "Although practicality beats purity.\n",
        "Errors should never pass silently.\n",
        "Unless explicitly silenced.\n",
        "In the face of ambiguity, refuse the temptation to guess.\n",
        "There should be one-- and preferably only one --obvious way to do it.\n",
        "Although that way may not be obvious at first unless you're Dutch.\n",
        "Now is better than never.\n",
        "Although never is often better than *right* now.\n",
        "If the implementation is hard to explain, it's a bad idea.\n",
        "If the implementation is easy to explain, it may be a good idea.\n",
        "Namespaces are one honking great idea -- let's do more of those!\n"
       ]
      }
     ],
     "prompt_number": 2
    },
    {
     "cell_type": "heading",
     "level": 2,
     "metadata": {},
     "source": [
      "Python resources"
     ]
    },
    {
     "cell_type": "markdown",
     "metadata": {},
     "source": [
      "10 years ago, Python was considered exotic in the analytics space \u2013 at best. Languages/packages like R and Matlab dominated the scene. Today, Python has become a major force in data analytics & visualization due to a number of characteristics:\n",
      "* __Multi-purpose__: prototyping, development, production, systems admin \u2013 one for all\n",
      "* __Libraries__: there is a library for almost any task or problem you face\n",
      "* __Efficiency__: speeds up IT development tasks for analytics applications\n",
      "* __Performance__: Python has evolved from a scripting language to a 'meta' language with bridges to all high performance environments (e.g. multi-core CPUs, GPUs, clusters)\n",
      "* __Interoperability__: Python integrates with almost any other language/ technology\n",
      "* __Interactivity__: Python allows domain experts to get closer to their business and financial data pools and to do real-time analytics\n",
      "* __Collaboration__: solutions like Wakari with IPython Notebook allow the easy sharing of code, data, results, graphics, etc.\n",
      "\n",
      "A fundamental Python stack for interactive data analytics and visualization should at least contain the following libraries tools:\n",
      "* __Python__ \u2013 the Python interpreter itself\n",
      "\n",
      "* __NumPy__ \u2013 high performance, flexible array structures and operations\n",
      "\n",
      "* __SciPy__ \u2013 scientific modules and functions (regression, optimization, integration)\n",
      "\n",
      "* __pandas__ \u2013 time series and panel data analysis and I/O\n",
      "\n",
      "* __PyTables__ \u2013 hierarchical, high performance database (e.g. for out-of-memory analytics)\n",
      "* __matplotlib__ \u2013 2d and 3d visualization\n",
      "\n",
      "* __IPython__ \u2013 interactive data analytics, visualization, publishing\n",
      "\n",
      "\n",
      "![SciPy](images/scistack.png)\n",
      "\n",
      "<http://nbviewer.ipython.org/github/Tooblippe/ipython_csir_30may/blob/master/csir_ipython.ipynb>  "
     ]
    },
    {
     "cell_type": "markdown",
     "metadata": {},
     "source": [
      "The following Python books may help you get going:  \n",
      "<http://files.swaroopch.com/python/byte_of_python.pdf>  \n",
      "<http://www.diveintopython.net/>  \n",
      "<http://readwrite.com/2011/03/25/python-is-an-increasingly-popu#awesm=~oyGhXjmOOEXT1e>  \n",
      "<http://efytimes.com/e1/fullnews.asp?edid=117094>  \n",
      "<http://folk.uio.no/hpl/scripting/book_comparison.html> (Python for scientific computation)    \n",
      "<https://mbakker7.github.io/exploratory_computing_with_python/>  \n",
      " \n",
      "Numpy/SciPy books:  \n",
      "<https://scipy-lectures.github.io/_downloads/PythonScientific.pdf>  \n",
      "<http://www.engr.ucsb.edu/~shell/che210d/numpy.pdf>  \n",
      "<http://docs.scipy.org/doc/>  \n",
      "<http://docs.scipy.org/doc/numpy/numpy-user-1.8.0.pdf>  \n",
      "\n",
      "If you have some matlab background:  \n",
      "<http://wiki.scipy.org/NumPy_for_Matlab_Users>  \n",
      "<http://hyperpolyglot.org/numerical-analysis>  \n",
      "<http://resources.sei.cmu.edu/asset_files/Presentation/2011_017_001_50519.pdf>  \n",
      "<http://www.pyzo.org/python_vs_matlab.html>  \n",
      " \n",
      "If you don't have a decent editor get one (but not required for IPython):  \n",
      "<http://eric-ide.python-projects.org/> (full featured Python IDE)  \n",
      "<http://notepad-plus-plus.org/> (text editor, free)  \n",
      "<http://www.sublimetext.com/3> (text editor, costs money)  \n",
      "<https://realpython.com/blog/python/setting-up-sublime-text-3-for-full-stack-python-development/> Sublime for Python dev.   \n",
      "\n",
      "\n",
      "Writing code for both Python 2 and Python 3:  \n",
      "<http://python-future.org/compatible_idioms.html>   \n"
     ]
    },
    {
     "cell_type": "heading",
     "level": 2,
     "metadata": {},
     "source": [
      "Python vs. Matlab for Scientific Work"
     ]
    },
    {
     "cell_type": "markdown",
     "metadata": {},
     "source": [
      "Go make up your own mind:   \n",
      "<https://sites.google.com/site/pythonforscientists/python-vs-matlab>  \n",
      "<http://wiki.scipy.org/PerformancePython>  \n",
      "<http://phillipmfeldman.org/Python/Advantages_of_Python_Over_Matlab.html>  \n",
      "<http://www.stat.washington.edu/~hoytak/blog/whypython.html>  \n",
      "<https://vnoel.wordpress.com/2008/05/03/bye-matlab-hello-python-thanks-sage/>  \n",
      "\n",
      "<http://metarabbit.wordpress.com/2013/10/18/why-python-is-better-than-matlab-for-scientific-software/> has some compelling evidence of the growing momentum of Python for scientific work - scroll to the top of this post for a very interesting graph.\n"
     ]
    },
    {
     "cell_type": "heading",
     "level": 2,
     "metadata": {},
     "source": [
      "Python Basics"
     ]
    },
    {
     "cell_type": "heading",
     "level": 3,
     "metadata": {},
     "source": [
      "Code structure"
     ]
    },
    {
     "cell_type": "markdown",
     "metadata": {},
     "source": [
      "Python does not use open and closing braces to indicate structure, it uses indenting in the code to show structure.  This feels awkward at first, but if you use a Python-aware editor, such as Notepad++, Sublime Text or IPython's editor, the editor should make it easy to manage the intents.  The downside of the indenting method is that if you loose indenting, you lost the structure in the code.  Be careful when you copy Python code from the web, sometimes you loose the indentation structure.\n",
      "\n",
      "The preferred coding style is defined in PEP-8, see <http://legacy.python.org/dev/peps/pep-0008/>\n",
      "\n",
      "A single-line comment is indicated by #, which comments out everything until the end of the line. Multiline comments is started by three double quotes \"\"\" and ended likewise. By convension the opening and closing set of quotes are at the start of a line.\n",
      "\n",
      "Python is particular about mixing indenting by space or by tab.  It can be either one, but it must be consistent in one script. The preferred way is to indent by spaces, because tab-indenting can change if you move code from one editor to another.\n",
      "\n",
      "Set your editor to automatically replace tabs by spaces, so that you always end up with spaces even if you press the tab key.  PEP8 recommends using four spaces indenting, and a line length of 80 characters, but I find that you quickly run out of width on deeply indented code. My own preference is to use 2 spaces for indents and 100 character line lengths. IPython notebooks uses four spaces for indentation.\n",
      "\n",
      "Long lines can break according to the following rules:\n",
      "\n",
      "* Type a backslash `\\` anywhere on the line, followed by Enter and type the remaining text on the next line.  It seems that spaces on the next line are included.\n",
      "* Break the line anywhere where a comma is allowed. There is no need to enter a backslash when breaking after a comma."
     ]
    },
    {
     "cell_type": "code",
     "collapsed": false,
     "input": [
      "print('Hello world'\\\n",
      "      )\n",
      "print('{0} {1} {2:10,.2f}'.format('Hello',\n",
      "                     'world', 127883.54355))"
     ],
     "language": "python",
     "metadata": {},
     "outputs": [
      {
       "output_type": "stream",
       "stream": "stdout",
       "text": [
        "Hello world\n",
        "Hello world 127,883.54\n"
       ]
      }
     ],
     "prompt_number": 64
    },
    {
     "cell_type": "heading",
     "level": 3,
     "metadata": {},
     "source": [
      "Docstrings and introspection"
     ]
    },
    {
     "cell_type": "markdown",
     "metadata": {},
     "source": [
      "From PEP-0257: \"A docstring is a string literal that occurs as the first statement in a module, function, class, or method definition. Such a docstring becomes the `__doc__` special attribute of that object.\" Docstrings are considered the documentation for that module, function or class. It is normally written in a multiline comment. An example:\n",
      "\n",
      "    def add(x, y):\n",
      "        \"\"\"Return the sum of x and y.\n",
      "        \"\"\"\n",
      "        return x + y\n",
      "    \n",
      "Introspection is when you access an objects docstring from within a development environment. For example, while you are using the function you want to read its documenation.  Introspection is implemented in IPython by typing a question mark immediately after e.g., a function name and running the cell.  The doc string will appear in a new panel at the bottom of the IPython browser page. For example when you type and run\n",
      "\n",
      "    import pyradi.ryutils as ryutils\n",
      "    ryutils.abshumidity?\n",
      "    \n",
      "The docstring is displayed as shown below.\n",
      "\n",
      "<http://legacy.python.org/dev/peps/pep-0257/>\n",
      "<http://www.pythonforbeginners.com/basics/python-docstrings>\n"
     ]
    },
    {
     "cell_type": "code",
     "collapsed": false,
     "input": [
      "display(Image(filename='images/introspection.png'))"
     ],
     "language": "python",
     "metadata": {},
     "outputs": [
      {
       "metadata": {},
       "output_type": "display_data",
       "png": "[encoded data removed]",
       "text": [
        "<IPython.core.display.Image at 0x3c0f5f0>"
       ]
      }
     ],
     "prompt_number": 4
    },
    {
     "cell_type": "heading",
     "level": 3,
     "metadata": {},
     "source": [
      "General overview"
     ]
    },
    {
     "cell_type": "markdown",
     "metadata": {},
     "source": [
      "Python data types and how to determine the type of a Python variable.  \n",
      "Everything in Python is an object.  "
     ]
    },
    {
     "cell_type": "code",
     "collapsed": false,
     "input": [
      "import numpy as np\n",
      "\n",
      "myInt = 5\n",
      "print('{0} is object type {1}'.format(myInt, type(myInt)))\n",
      "myFloat = np.pi\n",
      "print('{0} is object type {1}'.format(myFloat, type(myFloat)))\n",
      "lstInts = [1, 2, 3, 4, ]\n",
      "print('{0} is object type {1}'.format(lstInts, type(lstInts)))\n",
      "def myfunction(a):\n",
      "    print(a)\n",
      "print('{0} is object type {1}'.format(myfunction, type(myfunction)))\n",
      "    "
     ],
     "language": "python",
     "metadata": {},
     "outputs": [
      {
       "output_type": "stream",
       "stream": "stdout",
       "text": [
        "5 is object type <type 'int'>\n",
        "3.14159265359 is object type <type 'float'>\n",
        "[1, 2, 3, 4] is object type <type 'list'>\n",
        "<function myfunction at 0x037BC6F0> is object type <type 'function'>\n"
       ]
      }
     ],
     "prompt_number": 5
    },
    {
     "cell_type": "markdown",
     "metadata": {},
     "source": [
      "> In Python, (almost) everything is an object. What we commonly refer to as \"variables\" \n",
      "> in Python are more properly called names. Likewise, \"assignment\" is really the binding\n",
      "> of a name to an object. Each binding has a scope that defines its visibility, usually \n",
      "> the block in which the name originates.\n",
      "<https://www.jeffknupp.com/blog/2012/11/13/is-python-callbyvalue-or-callbyreference-neither/>\n",
      "\n",
      "If an existing object is bound to a new name, changing the object by using the new name will also change the value object bound to the original name, because it is the same object (just bound to different names). To create a truly new object use the `copy()` function (for some data types).  Slicing (:) lists and tuples creates a copy of the original structure (see later).\n",
      "\n",
      "<https://docs.python.org/2/library/copy.html>  \n",
      "<http://effbot.org/pyfaq/how-do-i-copy-an-object-in-python.htm>  \n",
      "<http://pymotw.com/2/copy/>  "
     ]
    },
    {
     "cell_type": "code",
     "collapsed": false,
     "input": [
      "import copy\n",
      "\n",
      "a = [1, 2, 3, ]\n",
      "b = a\n",
      "c = copy.copy(a) # shallow copy\n",
      "# c = copy.deepcopy(a) # deep (recursive) copy\n",
      "print('a={}'.format(a))\n",
      "print('b={}'.format(b))\n",
      "print('c={}'.format(c))\n",
      "print('----------------------')\n",
      "b[2] = 'z'\n",
      "print('a={}'.format(a))\n",
      "print('b={}'.format(b))\n",
      "print('c={}'.format(c))\n",
      "print('----------------------')\n",
      "b = a[:]  # slicing all makes a copy of 'a' then bind 'b' to this copy\n",
      "b[2] = 'b'\n",
      "c[2] = 'c'\n",
      "print('a={}'.format(a))\n",
      "print('b={}'.format(b))\n",
      "print('c={}'.format(c))\n"
     ],
     "language": "python",
     "metadata": {},
     "outputs": [
      {
       "output_type": "stream",
       "stream": "stdout",
       "text": [
        "a=[1, 2, 3]\n",
        "b=[1, 2, 3]\n",
        "c=[1, 2, 3]\n",
        "----------------------\n",
        "a=[1, 2, 'z']\n",
        "b=[1, 2, 'z']\n",
        "c=[1, 2, 3]\n",
        "----------------------\n",
        "a=[1, 2, 'z']\n",
        "b=[1, 2, 'b']\n",
        "c=[1, 2, 'c']\n"
       ]
      }
     ],
     "prompt_number": 6
    },
    {
     "cell_type": "markdown",
     "metadata": {},
     "source": [
      "Short strings are indicated with a single or double quote (they have the same meaning) but must be used consistently to indicate start and end.  Multiline strings are started with three double quotes and ended with three double quotes.  Normally the closing three double quotes are on a line of their own.\n",
      "Strings can be formatted following the `format` function, details in  \n",
      "<http://docs.python.org/2/library/string.html#format-string-syntax>  \n",
      "<https://stackoverflow.com/questions/5082452/python-string-formatting-vs-format>  \n"
     ]
    },
    {
     "cell_type": "code",
     "collapsed": false,
     "input": [
      "strOne = 'one'\n",
      "strTwo = \"two\"\n",
      "strThree = ' one two \"three\" four'\n",
      "strMulti = \"\"\"Line 1\n",
      "Line2\n",
      "Line3\n",
      "\"\"\"\n",
      "print('-{0}- is object type {1}'.format(strOne, type(strOne)))\n",
      "print('-{0}- is object type {1}'.format(strTwo, type(strTwo)))\n",
      "print('-{0}- is object type {1}'.format(strThree, type(strThree)))\n",
      "print('-{0}- is object type {1}'.format(strMulti, type(strMulti)))\n",
      "\n",
      "strFormatted = '{0:04d} {1:7.2e} -{2:16s}- {1:16.12f}'.format(4, np.pi, 'my string')\n",
      "print(strFormatted)\n"
     ],
     "language": "python",
     "metadata": {},
     "outputs": [
      {
       "output_type": "stream",
       "stream": "stdout",
       "text": [
        "-one- is object type <type 'str'>\n",
        "-two- is object type <type 'str'>\n",
        "- one two \"three\" four- is object type <type 'str'>\n",
        "-Line 1\n",
        "Line2\n",
        "Line3\n",
        "- is object type <type 'str'>\n",
        "0004 3.14e+00 -my string       -   3.141592653590\n"
       ]
      }
     ],
     "prompt_number": 72
    },
    {
     "cell_type": "markdown",
     "metadata": {},
     "source": [
      "Python's lists, tuples and dictionaries are very powerful structures.   \n",
      "Python uses zero-based indexing, meaning that the first element is indicated as element 0.\n",
      "\n",
      "Lists lst=[1,2] are mutable, which means that you can change them in place, by appending and inserting elements. "
     ]
    },
    {
     "cell_type": "code",
     "collapsed": false,
     "input": [
      "#append to an existing list\n",
      "lstNumbers = [4, 1, 2,  3, 4, ]\n",
      "lstNumbers.append(5)\n",
      "lstNumbers.append([2, 6, 7, 8])\n",
      "print(lstNumbers)\n",
      "#insert into specific locations into list\n",
      "lstDiff = [1, 'a', 2]\n",
      "lstDiff.insert(0,'zero')\n",
      "lstDiff.insert(2,'wow')\n",
      "print(lstDiff)"
     ],
     "language": "python",
     "metadata": {},
     "outputs": [
      {
       "output_type": "stream",
       "stream": "stdout",
       "text": [
        "[4, 1, 2, 3, 4, 5, [2, 6, 7, 8]]\n",
        "['zero', 1, 'wow', 'a', 2]\n"
       ]
      }
     ],
     "prompt_number": 9
    },
    {
     "cell_type": "markdown",
     "metadata": {},
     "source": [
      "The list can be sorted, but note that the list element sorts last."
     ]
    },
    {
     "cell_type": "code",
     "collapsed": false,
     "input": [
      "print(sorted(lstNumbers))\n"
     ],
     "language": "python",
     "metadata": {},
     "outputs": [
      {
       "output_type": "stream",
       "stream": "stdout",
       "text": [
        "[1, 2, 3, 4, 4, 5, [2, 6, 7, 8]]\n"
       ]
      }
     ],
     "prompt_number": 11
    },
    {
     "cell_type": "markdown",
     "metadata": {},
     "source": [
      "Get the one'th element of the list at six'th location in the list"
     ]
    },
    {
     "cell_type": "code",
     "collapsed": false,
     "input": [
      "print(lstNumbers[6][1])"
     ],
     "language": "python",
     "metadata": {},
     "outputs": [
      {
       "output_type": "stream",
       "stream": "stdout",
       "text": [
        "6\n"
       ]
      }
     ],
     "prompt_number": 12
    },
    {
     "cell_type": "markdown",
     "metadata": {},
     "source": [
      "Get the third element of the list just preceding it"
     ]
    },
    {
     "cell_type": "code",
     "collapsed": false,
     "input": [
      "print([1,0,1,2,3][3])"
     ],
     "language": "python",
     "metadata": {},
     "outputs": [
      {
       "output_type": "stream",
       "stream": "stdout",
       "text": [
        "2\n"
       ]
      }
     ],
     "prompt_number": 14
    },
    {
     "cell_type": "markdown",
     "metadata": {},
     "source": [
      "Sections of lists can be extracted by slicing ':'. Slicing can indicate a start, end, and optionally a stride. Strides will be very important later in numpy arrays, but here we only consider its applications to lists and strings."
     ]
    },
    {
     "cell_type": "code",
     "collapsed": false,
     "input": [
      "lstNumbers = [4, 1, 2,  3, 5, ]\n",
      "print(lstNumbers[0])\n",
      "print(lstNumbers[-1])\n",
      "print(lstNumbers[:])\n",
      "print(lstNumbers[2:])\n",
      "print(lstNumbers[2:4])\n",
      "print(lstNumbers[-2:])\n",
      "print(lstNumbers[0:4:2])\n"
     ],
     "language": "python",
     "metadata": {},
     "outputs": [
      {
       "output_type": "stream",
       "stream": "stdout",
       "text": [
        "4\n",
        "5\n",
        "[4, 1, 2, 3, 5]\n",
        "[2, 3, 5]\n",
        "[2, 3]\n",
        "[3, 5]\n",
        "[4, 2]\n"
       ]
      }
     ],
     "prompt_number": 9
    },
    {
     "cell_type": "markdown",
     "metadata": {},
     "source": [
      "Slicing can be used to reverse a string or list with a stride if -1, and if the stride is -2 every second letter is left out."
     ]
    },
    {
     "cell_type": "code",
     "collapsed": false,
     "input": [
      "a = 'a string to be reversed' \n",
      "print(a[::-1])\n",
      "a = 'a string to be reversed' \n",
      "print(a[::-2])"
     ],
     "language": "python",
     "metadata": {},
     "outputs": [
      {
       "output_type": "stream",
       "stream": "stdout",
       "text": [
        "desrever eb ot gnirts a\n",
        "dsee bo nrsa\n"
       ]
      }
     ],
     "prompt_number": 10
    },
    {
     "cell_type": "markdown",
     "metadata": {},
     "source": [
      "Tuples tup=(1,2) are immutable (cannot change). "
     ]
    },
    {
     "cell_type": "code",
     "collapsed": false,
     "input": [
      "tupNumbers = (1, 2, 3, 4,)\n",
      "print('the fourth element is {}'.format(tupNumbers[3]))\n",
      "try:\n",
      "    tupNumbers.append(5)\n",
      "except:\n",
      "    print('The append attempt raised an exception - it is not allowed!')"
     ],
     "language": "python",
     "metadata": {},
     "outputs": [
      {
       "output_type": "stream",
       "stream": "stdout",
       "text": [
        "the fourth element is 4\n",
        "The append attempt raised an exception - it is not allowed!\n"
       ]
      }
     ],
     "prompt_number": 11
    },
    {
     "cell_type": "markdown",
     "metadata": {},
     "source": [
      "Dictionaries dic={key1:val1, key2:val2} are like arrays, but the emements can be identified by any data type. In the example below we can extract values from the dictionary based on strings, but these key values can be any type type, even an object or a function.  The key values of the dictionary are available by calling the `keys()` function of the dictionary.\n",
      "\n",
      "The Collections module adds the capability to ease the use of dictionaries, see  \n",
      "<http://docs.python.org/2/library/collections.html>"
     ]
    },
    {
     "cell_type": "code",
     "collapsed": false,
     "input": [
      "dicBand = {'NIR':'1-2', 'SWIR':'1.5-3', 'MWIR':'3-5',}\n",
      "dicBand['LWIR']='8-12'\n",
      "dicBand['VIS']='0.4-0.7'\n",
      "\n",
      "print(dicBand)\n",
      "print(dicBand['LWIR'])\n",
      "print('-------------')\n",
      "\n",
      "for key in dicBand:\n",
      "    print('key={} value={}'.format(key,dicBand[key]))\n",
      "print(' ')\n",
      "print('-------------')\n",
      "\n",
      "for key in sorted(dicBand.keys()):\n",
      "    print('key={} value={}'.format(key,dicBand[key]))\n",
      "    "
     ],
     "language": "python",
     "metadata": {},
     "outputs": [
      {
       "output_type": "stream",
       "stream": "stdout",
       "text": [
        "{'NIR': '1-2', 'VIS': '0.4-0.7', 'MWIR': '3-5', 'LWIR': '8-12', 'SWIR': '1.5-3'}\n",
        "8-12\n",
        "-------------\n",
        "key=NIR value=1-2\n",
        "key=VIS value=0.4-0.7\n",
        "key=MWIR value=3-5\n",
        "key=LWIR value=8-12\n",
        "key=SWIR value=1.5-3\n",
        " \n",
        "-------------\n",
        "key=LWIR value=8-12\n",
        "key=MWIR value=3-5\n",
        "key=NIR value=1-2\n",
        "key=SWIR value=1.5-3\n",
        "key=VIS value=0.4-0.7\n"
       ]
      }
     ],
     "prompt_number": 12
    },
    {
     "cell_type": "markdown",
     "metadata": {},
     "source": [
      "Control flow in Python uses `for` or `while`.  \n",
      "\n",
      "The `enumerate` function is a very useful means to iterate over a list or tuple and get the index as well as the list value at that index.\n",
      "\n",
      "The `while` loop executes as long as the conditional in the `while` statement is true. If the conditional is false, the `else` clause is executed."
     ]
    },
    {
     "cell_type": "code",
     "collapsed": false,
     "input": [
      "a = [ 'a', 'b', 'c', ]\n",
      "for item in a:\n",
      "    print(item)\n",
      "print('-------------')\n",
      "\n",
      "strTmp = 'This string'\n",
      "for i,item in enumerate(strTmp):\n",
      "    print('character {} is {}'.format(i,item))\n",
      "print('-------------')\n",
      "\n",
      "for i,item in enumerate(a):\n",
      "    print('index {} has value {}'.format(i,item))\n",
      "print('-------------')\n",
      "\n",
      "while False:\n",
      "    print(a)\n",
      "else:\n",
      "    print('it is False!!')\n",
      "print('-------------')\n",
      "    \n",
      "count = 0\n",
      "while count < 5:\n",
      "   print count, \" is  less than 5\"\n",
      "   count = count + 1"
     ],
     "language": "python",
     "metadata": {},
     "outputs": [
      {
       "output_type": "stream",
       "stream": "stdout",
       "text": [
        "a\n",
        "b\n",
        "c\n",
        "-------------\n",
        "character 0 is T\n",
        "character 1 is h\n",
        "character 2 is i\n",
        "character 3 is s\n",
        "character 4 is  \n",
        "character 5 is s\n",
        "character 6 is t\n",
        "character 7 is r\n",
        "character 8 is i\n",
        "character 9 is n\n",
        "character 10 is g\n",
        "-------------\n",
        "index 0 has value a\n",
        "index 1 has value b\n",
        "index 2 has value c\n",
        "-------------\n",
        "it is False!!\n",
        "-------------\n",
        "0  is  less than 5\n",
        "1  is  less than 5\n",
        "2  is  less than 5\n",
        "3  is  less than 5\n",
        "4  is  less than 5\n"
       ]
      }
     ],
     "prompt_number": 13
    },
    {
     "cell_type": "markdown",
     "metadata": {},
     "source": [
      "Zipping pairs two lists element by element into a new list of matched tuples.\n",
      "You can even enumerate over zipped lists:"
     ]
    },
    {
     "cell_type": "code",
     "collapsed": false,
     "input": [
      "a = [ 'a', 'b', 'c', ]\n",
      "b = [ '1', '2', '3', ]\n",
      "print(zip(a,b))"
     ],
     "language": "python",
     "metadata": {},
     "outputs": [
      {
       "output_type": "stream",
       "stream": "stdout",
       "text": [
        "[('a', '1'), ('b', '2'), ('c', '3')]\n"
       ]
      }
     ],
     "prompt_number": 15
    },
    {
     "cell_type": "markdown",
     "metadata": {},
     "source": [
      "You can enumerate over the zipped list to extract the paired tuples"
     ]
    },
    {
     "cell_type": "code",
     "collapsed": false,
     "input": [
      "print('Enumerate over all zipped tuples')\n",
      "for i,(ai,bi) in enumerate(zip(a,b)):\n",
      "    print(i, ai, bi)\n",
      "    \n",
      "print('Alternative method, not quite as clear and instructive')\n",
      "for i,aa in enumerate(a):\n",
      "    print( 1, a[i], b[i])\n",
      "    \n",
      "print('C-Style programming to achieve the same effect')\n",
      "if len(a)==len(b):\n",
      "    for i in range(len(b)):\n",
      "        print(i, a[i],b[i])"
     ],
     "language": "python",
     "metadata": {},
     "outputs": [
      {
       "output_type": "stream",
       "stream": "stdout",
       "text": [
        "Enumerate over all zipped tuples\n",
        "(0, 'a', '1')\n",
        "(1, 'b', '2')\n",
        "(2, 'c', '3')\n",
        "Alternative method, not quite as clear and instructive\n",
        "(1, 'a', '1')\n",
        "(1, 'b', '2')\n",
        "(1, 'c', '3')\n",
        "C-Style programming to achieve the same effect\n",
        "(0, 'a', '1')\n",
        "(1, 'b', '2')\n",
        "(2, 'c', '3')\n"
       ]
      }
     ],
     "prompt_number": 18
    },
    {
     "cell_type": "markdown",
     "metadata": {},
     "source": [
      "List/dictionary comprehension is a shorthand way to define a list/dictionary. In the first example create a new list of square root values of items from an old list, but only for even values.  In the second examples a dictionary is built using dictionary comprehension. Note that zip takes two lists and create a new list where elements of the new list are tuples with matching elements from the two input lists - pair them up element by element, much like a zip closing up.    \n",
      "<http://carlgroner.me/Python/2011/11/09/An-Introduction-to-List-Comprehensions-in-Python.html>  \n",
      "<http://www.secnetix.de/olli/Python/list_comprehensions.hawk>    \n",
      "<http://docs.python.org/2.7/library/functions.html>  \n",
      "<http://howchoo.com/g/how-to-use-list-comprehension-in-python>   "
     ]
    },
    {
     "cell_type": "code",
     "collapsed": false,
     "input": [
      "import math\n",
      "list = [0, 1, 2, 3, 4]\n",
      "newl = [math.sqrt(i) for i in list if not i%2]\n",
      "print(newl)\n",
      "\n",
      "keys = ['a', 'n', 'z']\n",
      "values = ['testing', 'this', 'dict']\n",
      "d = {key: value for (key, value) in zip(keys, values)}\n",
      "print(d)\n",
      "\n",
      "print(zip(keys, values))"
     ],
     "language": "python",
     "metadata": {},
     "outputs": [
      {
       "output_type": "stream",
       "stream": "stdout",
       "text": [
        "[0.0, 1.4142135623730951, 2.0]\n",
        "{'a': 'testing', 'z': 'dict', 'n': 'this'}\n",
        "[('a', 'testing'), ('n', 'this'), ('z', 'dict')]\n"
       ]
      }
     ],
     "prompt_number": 15
    },
    {
     "cell_type": "markdown",
     "metadata": {},
     "source": [
      "You can build lists of list or tuples to any depth and access them by indexing the elements.  But be careful not to try and construct multi-dimensional arrays this way - numpy provides much better functionality."
     ]
    },
    {
     "cell_type": "code",
     "collapsed": false,
     "input": [
      "a = [[0, 1, 2, 3], [4, 5, 6, 7]]\n",
      "print(a)\n",
      "print(a[0])\n",
      "print(a[0][3])"
     ],
     "language": "python",
     "metadata": {},
     "outputs": [
      {
       "output_type": "stream",
       "stream": "stdout",
       "text": [
        "[[0, 1, 2, 3], [4, 5, 6, 7]]\n",
        "[0, 1, 2, 3]\n",
        "3\n"
       ]
      }
     ],
     "prompt_number": 16
    },
    {
     "cell_type": "markdown",
     "metadata": {},
     "source": [
      "Generators, iterators and yield --- more detail to follow.\n",
      "\n",
      "<http://anandology.com/python-practice-book/iterators.html>  \n",
      "<http://www.jeffknupp.com/blog/2013/04/07/improve-your-python-yield-and-generators-explained/>  \n",
      "<https://wiki.python.org/moin/Generators>  \n",
      "<http://www.bogotobogo.com/python/python_generators.php>  \n",
      "<http://zetcode.com/lang/python/itergener/>  \n",
      "<http://nbviewer.ipython.org/github/empet/pytwist/blob/master/Generators-and-Dynamical-Systs.ipynb>  \n"
     ]
    },
    {
     "cell_type": "code",
     "collapsed": false,
     "input": [],
     "language": "python",
     "metadata": {},
     "outputs": [],
     "prompt_number": 16
    },
    {
     "cell_type": "heading",
     "level": 3,
     "metadata": {},
     "source": [
      "Functions as objects"
     ]
    },
    {
     "cell_type": "markdown",
     "metadata": {},
     "source": [
      "A function name is *just a name* bound to a function object and can be handled just as *any other name*.  Study the following code to see how the predicate function is passed as a function parameter.  This example counts the number of times that a certain condition ocurred.  \n",
      "<https://www.jeffknupp.com/blog/2013/11/29/improve-your-python-decorators-explained/>"
     ]
    },
    {
     "cell_type": "code",
     "collapsed": false,
     "input": [
      "def is_even(value):\n",
      "    \"\"\"Return True if *value* is even.\n",
      "    \"\"\"\n",
      "    #this is a comment\n",
      "    return (value % 2) == 0\n",
      "\n",
      "print(is_even(4))\n",
      "print(is_even(5))\n",
      "\n",
      "def count_occurrences(target_list, predicate):\n",
      "    \"\"\"Return the number of times applying the callable *predicate* to a\n",
      "    list element returns True.\n",
      "    \"\"\"\n",
      "    return sum([1 for e in target_list if predicate(e)])\n",
      "\n",
      "my_predicate = is_even\n",
      "my_list = [2, 4, 6, 7, 9, 11]\n",
      "result = count_occurrences(my_list, my_predicate)\n",
      "print(result)"
     ],
     "language": "python",
     "metadata": {},
     "outputs": [
      {
       "output_type": "stream",
       "stream": "stdout",
       "text": [
        "True\n",
        "False\n",
        "3\n"
       ]
      }
     ],
     "prompt_number": 90
    },
    {
     "cell_type": "markdown",
     "metadata": {},
     "source": [
      "Here is another example, the function name is an entry into a dictionary.  \n",
      "<http://code.activestate.com/recipes/65126-dictionary-of-methodsfunctions/>"
     ]
    },
    {
     "cell_type": "code",
     "collapsed": false,
     "input": [
      "import string\n",
      "\n",
      "def function1(i):\n",
      "    print('called function 1 with {}'.format(i))\n",
      "\n",
      "def function2(i):\n",
      "    print('called function 2 with {}'.format(i))\n",
      "\n",
      "tokenDict = {\"cat\":function1, \"dog\":function2}\n",
      "\n",
      "# simulate, say, lines read from a file\n",
      "lines = [\"cat\",\"cat\",\"dog\"]\n",
      "\n",
      "for i,line in enumerate(lines):\n",
      "    tokenDict[line](i)\n"
     ],
     "language": "python",
     "metadata": {},
     "outputs": [
      {
       "output_type": "stream",
       "stream": "stdout",
       "text": [
        "called function 1 with 0\n",
        "called function 1 with 1\n",
        "called function 2 with 2\n"
       ]
      }
     ],
     "prompt_number": 18
    },
    {
     "cell_type": "heading",
     "level": 3,
     "metadata": {},
     "source": [
      "Don't use mutable objects as default function parameters"
     ]
    },
    {
     "cell_type": "markdown",
     "metadata": {},
     "source": [
      "Python will create the mutable object (default parameter) the first time the function is defined (i.e. the function is created or imported) - not when it is called.\n",
      "\n",
      "<http://nbviewer.ipython.org/github/rasbt/python_reference/blob/master/not_so_obvious_python_stuff.ipynb?create=1>"
     ]
    },
    {
     "cell_type": "code",
     "collapsed": false,
     "input": [
      "def append_to_list(value, def_list=[]):\n",
      "    def_list.append(value)\n",
      "    return def_list\n",
      "\n",
      "my_list = append_to_list(1)\n",
      "print(my_list)\n",
      "\n",
      "my_other_list = append_to_list(2)\n",
      "print(my_other_list)"
     ],
     "language": "python",
     "metadata": {},
     "outputs": [
      {
       "output_type": "stream",
       "stream": "stdout",
       "text": [
        "[1]\n",
        "[1, 2]\n"
       ]
      }
     ],
     "prompt_number": 19
    },
    {
     "cell_type": "code",
     "collapsed": false,
     "input": [
      "import time\n",
      "def report_arg(my_default=time.time()):\n",
      "    print(my_default)\n",
      "\n",
      "report_arg()\n",
      "time.sleep(1)\n",
      "report_arg()"
     ],
     "language": "python",
     "metadata": {},
     "outputs": [
      {
       "output_type": "stream",
       "stream": "stdout",
       "text": [
        "1424116315.42\n",
        "1424116315.42"
       ]
      },
      {
       "output_type": "stream",
       "stream": "stdout",
       "text": [
        "\n"
       ]
      }
     ],
     "prompt_number": 20
    },
    {
     "cell_type": "markdown",
     "metadata": {},
     "source": [
      "###Reading and writing files\n",
      "\n",
      "Use the `with` construct, it is more robust to errors.  In this code we first create a random collection of words. It is then written to a file. This file is then read in and processed, printing the results each time.  \n",
      "<http://effbot.org/zone/python-with-statement.htm>\n"
     ]
    },
    {
     "cell_type": "code",
     "collapsed": false,
     "input": [
      "import random, string, os\n",
      "\n",
      "#the join function uses the given string to join the elements given in the function parameter list\n",
      "a = ['a','b','c']\n",
      "print('*'.join(a))     \n",
      "print('-o0o-'.join(a))     \n",
      "\n",
      "#first create some random text - for extra marks figure out how this is done...\n",
      "text = '\\n'.join([' '.join([''.join(random.sample(string.letters,\\\n",
      "                random.randint(1,7))) for i in range(10)]) for i in range(4)])\n",
      "print('Text to be written to file')\n",
      "print(text)\n",
      "\n",
      "#Write the text to file\n",
      "filename = \"x.txt\"\n",
      "with open(filename,'w') as f:\n",
      "    f.write(text)\n",
      "    \n",
      "print('\\nSingle string dump of all the text read in from the file')\n",
      "with open(\"x.txt\",'r') as f:\n",
      "    data = f.read()\n",
      "    print(data)\n",
      "    \n",
      "with open(filename,'r') as f:\n",
      "    lines = f.readlines()\n",
      "    print('\\nRead in as lines from the file')\n",
      "    print(lines)\n",
      "    print('\\nPrinting the lines one at a time after removing the newline')\n",
      "    for line in lines:\n",
      "        print(line.strip())\n",
      "    print('\\nPrinting the words for each line')\n",
      "    for line in lines:\n",
      "        words = line.split()\n",
      "        print(words)\n",
      "#delete the file        \n",
      "try:\n",
      "    os.remove(filename)\n",
      "except OSError:\n",
      "    pass        "
     ],
     "language": "python",
     "metadata": {},
     "outputs": [
      {
       "output_type": "stream",
       "stream": "stdout",
       "text": [
        "a*b*c\n",
        "a-o0o-b-o0o-c\n",
        "Text to be written to file\n",
        "fH P x Ps rkvHe vN LjBiwK JgSK njRzGVy cz\n",
        "c bzEyXut kyRop szUS JKQmodD TMcCYrE eXD YoUc aKeSUH L\n",
        "QK rxfKYil xpQUV Gbpv WEmcRua gtY FY AOIlR brgJ zOc\n",
        "wrgl P WwhHzsm gZDd gtcs b bqPh SRg wtZW Lifpz\n",
        "\n",
        "Single string dump of all the text read in from the file\n",
        "fH P x Ps rkvHe vN LjBiwK JgSK njRzGVy cz\n",
        "c bzEyXut kyRop szUS JKQmodD TMcCYrE eXD YoUc aKeSUH L\n",
        "QK rxfKYil xpQUV Gbpv WEmcRua gtY FY AOIlR brgJ zOc\n",
        "wrgl P WwhHzsm gZDd gtcs b bqPh SRg wtZW Lifpz\n",
        "\n",
        "Read in as lines from the file\n",
        "['fH P x Ps rkvHe vN LjBiwK JgSK njRzGVy cz\\n', 'c bzEyXut kyRop szUS JKQmodD TMcCYrE eXD YoUc aKeSUH L\\n', 'QK rxfKYil xpQUV Gbpv WEmcRua gtY FY AOIlR brgJ zOc\\n', 'wrgl P WwhHzsm gZDd gtcs b bqPh SRg wtZW Lifpz']\n",
        "\n",
        "Printing the lines one at a time after removing the newline\n",
        "fH P x Ps rkvHe vN LjBiwK JgSK njRzGVy cz\n",
        "c bzEyXut kyRop szUS JKQmodD TMcCYrE eXD YoUc aKeSUH L\n",
        "QK rxfKYil xpQUV Gbpv WEmcRua gtY FY AOIlR brgJ zOc\n",
        "wrgl P WwhHzsm gZDd gtcs b bqPh SRg wtZW Lifpz\n",
        "\n",
        "Printing the words for each line\n",
        "['fH', 'P', 'x', 'Ps', 'rkvHe', 'vN', 'LjBiwK', 'JgSK', 'njRzGVy', 'cz']\n",
        "['c', 'bzEyXut', 'kyRop', 'szUS', 'JKQmodD', 'TMcCYrE', 'eXD', 'YoUc', 'aKeSUH', 'L']\n",
        "['QK', 'rxfKYil', 'xpQUV', 'Gbpv', 'WEmcRua', 'gtY', 'FY', 'AOIlR', 'brgJ', 'zOc']\n",
        "['wrgl', 'P', 'WwhHzsm', 'gZDd', 'gtcs', 'b', 'bqPh', 'SRg', 'wtZW', 'Lifpz']\n"
       ]
      }
     ],
     "prompt_number": 20
    },
    {
     "cell_type": "heading",
     "level": 3,
     "metadata": {},
     "source": [
      "Reading and writing raw binary files"
     ]
    },
    {
     "cell_type": "markdown",
     "metadata": {},
     "source": [
      "Binary files are handled the same as text files, but with file open modes `rb` or `wb`:  \n",
      "\n",
      "    # Read the entire file as a single byte string\n",
      "    with open('binaryfile.bin', 'rb') as f:\n",
      "        data = f.read()\n",
      "\n",
      "    # Write binary data to a file\n",
      "    with open('binaryfile.bin', 'wb') as f:\n",
      "        f.write(b'Hello World')\n",
      "        \n",
      "When reading binary all data returned will be in the form of byte strings, not text strings. Similarly, when writing, you must supply data in the form of objects that expose data as bytes.\n",
      "\n",
      "Using Python arrays, values can be written without conversion to a bytes object. The data type must be declared in the first parameter of the `array.array` function.  These [data types](https://docs.python.org/2/library/array.html) include signed and unsigned shorts, ints, longs, doubles, and unicode.\n",
      "\n",
      "    import array\n",
      "    nums = array.array('i', [1, 2, 3, 4])\n",
      "    with open('data.bin','wb') as f:\n",
      "        f.write(nums)\n",
      "\n",
      "<https://docs.python.org/2/library/array.html>  \n",
      "<http://chimera.labs.oreilly.com/books/1230000000393/ch05.html#_discussion_75>  \n",
      "\n",
      "The following code writes two unsigned integers, two doubles and a numpy array to raw binary format:"
     ]
    },
    {
     "cell_type": "code",
     "collapsed": false,
     "input": [
      "import numpy as np\n",
      "import array\n",
      "img = np.ones((3,3))\n",
      "with open('binfile.bin','wb') as fo:\n",
      "  header = array.array('I',[512, 1024])\n",
      "  fo.write(header)\n",
      "  header = array.array('d',[700, 1250])\n",
      "  fo.write(header)\n",
      "  img.tofile(fo)\n"
     ],
     "language": "python",
     "metadata": {},
     "outputs": [],
     "prompt_number": 22
    },
    {
     "cell_type": "markdown",
     "metadata": {},
     "source": [
      "### Watch out for <font color=\"red\">integer</font> numbers\n",
      "\n",
      "It seems that Numpy interprets 400 as an integer int32. When this int32 value is raised to the fourth power, the value overflows, resulting in a _negative_ number.  This error can easily happen when entering integer temperature values, raised to a high power.  \n",
      "\n",
      "In [`ryplanck`](https://pyradi.googlecode.com/svn//trunk/pyradi/doc/_build/html/ryplanck.html#module-pyradi.ryplanck), all temperature input values are always converted to float with `.astype(float)` (but only in [`ryplanck`](https://pyradi.googlecode.com/svn//trunk/pyradi/doc/_build/html/ryplanck.html#module-pyradi.ryplanck))."
     ]
    },
    {
     "cell_type": "code",
     "collapsed": false,
     "input": [
      "import numpy as np\n",
      "tt = np.asarray([400, 500])\n",
      "print(tt.dtype)\n",
      "print(np.power(tt, 4))\n",
      "print(tt**4)\n",
      "\n",
      "tt = np.asarray([400, 500]).astype(float)\n",
      "print(tt.dtype)\n",
      "print(np.power(tt, 4))\n"
     ],
     "language": "python",
     "metadata": {},
     "outputs": [
      {
       "output_type": "stream",
       "stream": "stdout",
       "text": [
        "int32\n",
        "[-2147483648 -2147483648]"
       ]
      },
      {
       "output_type": "stream",
       "stream": "stdout",
       "text": [
        "\n",
        "[-2147483648 -2147483648]\n",
        "float64\n",
        "[  2.56000000e+10   6.25000000e+10]\n"
       ]
      },
      {
       "output_type": "stream",
       "stream": "stderr",
       "text": [
        "-c:5: RuntimeWarning: invalid value encountered in power\n"
       ]
      }
     ],
     "prompt_number": 93
    },
    {
     "cell_type": "heading",
     "level": 3,
     "metadata": {},
     "source": [
      "Reading user keyboard input"
     ]
    },
    {
     "cell_type": "markdown",
     "metadata": {},
     "source": [
      "Reading user input - this even works in the IPython notebook! Strings must be in quotes. You can even enter lists and dictionaries!"
     ]
    },
    {
     "cell_type": "code",
     "collapsed": false,
     "input": [
      "# foo=input('Please enter a value:')\n",
      "# print(foo)"
     ],
     "language": "python",
     "metadata": {},
     "outputs": [],
     "prompt_number": 95
    },
    {
     "cell_type": "markdown",
     "metadata": {},
     "source": [
      "### Accessing files on the internet\n",
      "\n",
      "The Python [`urllib2`](http://docs.python.org/2/howto/urllib2.html) package makes is relatively easy to access a file on the internet.  See also the functions \n",
      "[`ryfiles.unzipGZipfile`](http://pyradi.googlecode.com/svn//trunk/pyradi/doc/_build/html/ryfiles.html#pyradi.ryfiles.unzipGZipfile),\n",
      "[`ryfiles.untarTarfile`](http://pyradi.googlecode.com/svn//trunk/pyradi/doc/_build/html/ryfiles.html#pyradi.ryfiles.untarTarfile), and \n",
      "[`ryfiles.downloadFileUrl`](http://pyradi.googlecode.com/svn//trunk/pyradi/doc/_build/html/ryfiles.html#pyradi.ryfiles.downloadFileUrl).\n"
     ]
    },
    {
     "cell_type": "heading",
     "level": 3,
     "metadata": {},
     "source": [
      "Python functions"
     ]
    },
    {
     "cell_type": "code",
     "collapsed": false,
     "input": [
      "def square(value):\n",
      "    return value ** 2\n",
      "\n",
      "print(square(5))\n",
      "print(square(5.))"
     ],
     "language": "python",
     "metadata": {},
     "outputs": [
      {
       "output_type": "stream",
       "stream": "stdout",
       "text": [
        "25\n",
        "25.0\n"
       ]
      }
     ],
     "prompt_number": 21
    },
    {
     "cell_type": "markdown",
     "metadata": {},
     "source": [
      "Functions can return anything, here it returns (1) a tuple of values, (2) a function that can be called. If you only want some of the values in the returned tuple, indicate those to ignore with underscore `_`."
     ]
    },
    {
     "cell_type": "code",
     "collapsed": false,
     "input": [
      "def square(value):\n",
      "    dicStr = {0:'zero',2:'two',5:'five',}\n",
      "    rtnval = (value, value ** 2, dicStr[value])\n",
      "    return rtnval\n",
      "\n",
      "print(square(5))\n",
      "print(square(5)[1])\n",
      "print(square(5)[-1])\n",
      "print('-------------')\n",
      "\n",
      "def squarefn():\n",
      "    return square\n",
      "print(squarefn()(5))\n",
      "print('-------------')\n",
      "\n",
      "_, _, rtn = squarefn()(5)\n",
      "print(rtn)\n"
     ],
     "language": "python",
     "metadata": {},
     "outputs": [
      {
       "output_type": "stream",
       "stream": "stdout",
       "text": [
        "(5, 25, 'five')\n",
        "25\n",
        "five\n",
        "-------------\n",
        "(5, 25, 'five')\n",
        "-------------\n",
        "five\n"
       ]
      }
     ],
     "prompt_number": 100
    },
    {
     "cell_type": "markdown",
     "metadata": {},
     "source": [
      "Functions can have named parameters where values are assigned by name. Furthermore, function parameters can define default values to be used if the user does not supply a value."
     ]
    },
    {
     "cell_type": "code",
     "collapsed": false,
     "input": [
      "def power(value, power=2):\n",
      "    return value ** power\n",
      "\n",
      "print(power(value=5))\n",
      "print(power(value=5, power=4))"
     ],
     "language": "python",
     "metadata": {},
     "outputs": [
      {
       "output_type": "stream",
       "stream": "stdout",
       "text": [
        "25\n",
        "625\n"
       ]
      }
     ],
     "prompt_number": 27
    },
    {
     "cell_type": "heading",
     "level": 2,
     "metadata": {},
     "source": [
      "Exception and Error Handling"
     ]
    },
    {
     "cell_type": "markdown",
     "metadata": {},
     "source": [
      "Python has exception handling, with the try/exception structure. The code in the try block is evaluated and if an error occurred the code in the except block is executed to handle the error condition."
     ]
    },
    {
     "cell_type": "code",
     "collapsed": false,
     "input": [
      "a = (1, 2)\n",
      "try:\n",
      "    a.append(4)\n",
      "except:\n",
      "    print('Appending to a tuple is not allowed')\n"
     ],
     "language": "python",
     "metadata": {},
     "outputs": [
      {
       "output_type": "stream",
       "stream": "stdout",
       "text": [
        "Appending to a tuple is not allowed\n"
       ]
      }
     ],
     "prompt_number": 28
    },
    {
     "cell_type": "heading",
     "level": 2,
     "metadata": {},
     "source": [
      "Python Standard Library Logger"
     ]
    },
    {
     "cell_type": "markdown",
     "metadata": {},
     "source": [
      "The `logging` module in the standard library provides a reasonably powerful logger capability.  This examples shows how to log to two files at the same time.  The case in point is for a session-level logfile, plus any number of lower level detailed log files.\n",
      "\n",
      "The `logging` module provides a global-scope object, so there is no need to pass the object along between functions or objects.  \n",
      "\n",
      "The global `logging` object provides the functionality to have any number of individual loggers, which can be accessed by using a  key (the filename) to indicate which logger you want to use.  The file that is physically created on disk is named using the key, appended with '.log'.  \n",
      "\n",
      "The logger shown here opens handlers to cout and a disk file, each providing different levels of logging.  The logger is created by the function `setUpLogFile` and is subsequently activated by code of the form `logging.getLogger(filename)`, where `filename` is the logfile filename (which also serves as the key to the logger).\n",
      "\n",
      "The example code below provides the functionality where the user can provide a path to where the logfile must be created on disk (relative to where the current working directory).   \n",
      "\n",
      "\n",
      "The Python logging module provides the following threshold levels:  CRITICAL, ERROR, WARNING, INFO, DEBUG, NOTSET in order of severity.  When logging, all messages marked with a level equal to, or higher than the threshold level, will be printed.  At the highest level only critical messages will be printed, whereas at the debug level all higher level prints are also performed.\n",
      "\n",
      "The class `SpecialFormatter` defines how the different levels of output are formatted.\n",
      "\n",
      "This code is based on an example by Lynette van der Westhuizen."
     ]
    },
    {
     "cell_type": "code",
     "collapsed": false,
     "input": [
      "import logging\n",
      "import datetime as dt\n",
      "import sys\n",
      "import os.path\n",
      "\n",
      "#===============================================================================\n",
      "def setUpLogFile(logfilename, saveDir, logLevelCmnd=logging.WARNING, logLevelFile=logging.DEBUG):\n",
      "    \"\"\"Set up the log file for IDA.\n",
      "\n",
      "    Args:\n",
      "        | logfilename (string) : Name of the log file - this is also the key to access the logger.\n",
      "        | saveDir (string) : Directory to save the log file, relative to cwd.\n",
      "        | logLevel (string): log level (logging.ERROR, logging.WARNING, logging.INFO, logging.DEBUG)\n",
      "\n",
      "    Returns:\n",
      "        | newLogger (logging file) : Retruns a log file with the name [logfilename]Log.\n",
      "                             A log file [logfilename]Log.log is created in saveDir.\n",
      "    Raises:\n",
      "        | None\n",
      "    \"\"\"\n",
      "\n",
      "    #--- Get the log file and to log all logLevel\n",
      "    newLogger = logging.getLogger(logfilename)\n",
      "    newLogger.setLevel(logLevelCmnd)\n",
      "    newLogger.handlers=[] #Ensure no handlers so that duplicates aren't added in the event the code crashed and logger didn't close\n",
      "\n",
      "    #--- Set a file handler log from level :\n",
      "    filepath = os.path.join(saveDir, logfilename.lower())\n",
      "    fileHdlr = logging.FileHandler(\"{}.log\".format(filepath),'w')\n",
      "    fileHdlr.setLevel(logLevelFile)\n",
      "    fileHdlr.setFormatter(SpecialFormatter())\n",
      "    newLogger.addHandler(fileHdlr)\n",
      "\n",
      "    #--- Set a command window handler log from level WARNING\n",
      "    cmdHdlr = logging.StreamHandler()\n",
      "    cmdHdlr.setLevel(logLevelCmnd)\n",
      "    cmdHdlr.setFormatter(SpecialFormatter())\n",
      "    newLogger.addHandler(cmdHdlr)\n",
      "\n",
      "    #--- Print the log file creation time\n",
      "    printCreationTime = '\\n==========================================================\\n'+\\\n",
      "                        'Date of execution: {} {}\\n'.format(dt.datetime.now(), logfilename) +\\\n",
      "                        '==========================================================\\n\\n'.format(logfilename)\n",
      "    newLogger.info(printCreationTime)\n",
      "\n",
      "    return newLogger\n",
      "\n",
      "#===============================================================================\n",
      "class SpecialFormatter(logging.Formatter):\n",
      "    \"\"\"Sets the formats of the levels to print for a logging file.\n",
      "\n",
      "        All messages printing to the log file will have the format as specified\n",
      "        by the log file level.\n",
      "        http://stackoverflow.com/questions/1343227/can-pythons-logging-format-be-modified-depending-on-the-message-log-level\n",
      "    \"\"\"\n",
      "    #--Set format: format valid for python 2\n",
      "    FORMATS = { \n",
      "                logging.CRITICAL: \"CRITICAL - module %(module)s line %(lineno)d: %(message)s\",\n",
      "                logging.ERROR   : \"ERROR - module %(module)s line %(lineno)d: %(message)s\",\n",
      "                logging.WARNING : \"WARNING - module %(module)s line %(lineno)d: %(message)s\",\n",
      "                logging.INFO    : \"INFO %(message)s\",\n",
      "                logging.DEBUG   : \"DEBUG - module %(module)s line %(lineno)d: %(message)s\",\n",
      "                'DEFAULT'       : \"%(levelname)s: %(message)s\"}\n",
      "\n",
      "    #---Define format\n",
      "    def format(self, record):\n",
      "        \"\"\"Defines the logging message format.\n",
      "        \"\"\"\n",
      "        self._fmt = self.FORMATS.get(record.levelno, self.FORMATS['DEFAULT'])\n",
      "        return logging.Formatter.format(self, record)\n"
     ],
     "language": "python",
     "metadata": {},
     "outputs": [],
     "prompt_number": 29
    },
    {
     "cell_type": "markdown",
     "metadata": {},
     "source": [
      "The logger is demonstrated here by writing one session-level logfile and two lower-level logfiles.  Note that, because the `logging` module is global, you do not need to copy it around.  The appropriate logger must be activated by the `logging.getLogger()` function - all subsequent logging with be to that specific logger."
     ]
    },
    {
     "cell_type": "code",
     "collapsed": false,
     "input": [
      "#set up the session logger\n",
      "analysisName = 'analysis'\n",
      "saveDir = '.' \n",
      "setUpLogFile(analysisName, '.', logLevelCmnd=logging.INFO, logLevelFile=logging.INFO)\n",
      "anaLog = logging.getLogger(analysisName)\n",
      "anaLog.error('this is an error message to anaLogFile')\n",
      "\n",
      "#set up the specialist loggers\n",
      "for i in ['a','b']:\n",
      "    setUpLogFile(i, '.', logLevelCmnd=logging.INFO, logLevelFile=logging.INFO)\n",
      "\n",
      "#use the session and specialist loggers.\n",
      "for i in ['a','b']:\n",
      "    anaLog.error('this is an error message to anaLogFile {}'.format(i) )\n",
      "    iLog = logging.getLogger(i)\n",
      "    iLog.error('writing to logfile {} at ERROR level'.format(i) )\n",
      "    iLog.info('writing to logfile {} at INFO level'.format(i) )\n"
     ],
     "language": "python",
     "metadata": {},
     "outputs": [
      {
       "output_type": "stream",
       "stream": "stderr",
       "text": [
        "INFO \n",
        "==========================================================\n",
        "Date of execution: 2015-02-16 21:51:56.554000 analysis\n",
        "==========================================================\n",
        "\n",
        "\n"
       ]
      },
      {
       "output_type": "stream",
       "stream": "stderr",
       "text": [
        "INFO:analysis:\n",
        "==========================================================\n",
        "Date of execution: 2015-02-16 21:51:56.554000 analysis\n",
        "==========================================================\n",
        "\n",
        "\n"
       ]
      },
      {
       "output_type": "stream",
       "stream": "stderr",
       "text": [
        "ERROR - module <ipython-input-30-fc11c5733b8b> line 6: this is an error message to anaLogFile\n"
       ]
      },
      {
       "output_type": "stream",
       "stream": "stderr",
       "text": [
        "ERROR:analysis:this is an error message to anaLogFile\n"
       ]
      },
      {
       "output_type": "stream",
       "stream": "stderr",
       "text": [
        "INFO \n",
        "==========================================================\n",
        "Date of execution: 2015-02-16 21:51:56.558000 a\n",
        "==========================================================\n",
        "\n",
        "\n"
       ]
      },
      {
       "output_type": "stream",
       "stream": "stderr",
       "text": [
        "INFO:a:\n",
        "==========================================================\n",
        "Date of execution: 2015-02-16 21:51:56.558000 a\n",
        "==========================================================\n",
        "\n",
        "\n"
       ]
      },
      {
       "output_type": "stream",
       "stream": "stderr",
       "text": [
        "INFO \n",
        "==========================================================\n",
        "Date of execution: 2015-02-16 21:51:56.561000 b\n",
        "==========================================================\n",
        "\n",
        "\n"
       ]
      },
      {
       "output_type": "stream",
       "stream": "stderr",
       "text": [
        "INFO:b:\n",
        "==========================================================\n",
        "Date of execution: 2015-02-16 21:51:56.561000 b\n",
        "==========================================================\n",
        "\n",
        "\n"
       ]
      },
      {
       "output_type": "stream",
       "stream": "stderr",
       "text": [
        "ERROR - module <ipython-input-30-fc11c5733b8b> line 14: this is an error message to anaLogFile a\n"
       ]
      },
      {
       "output_type": "stream",
       "stream": "stderr",
       "text": [
        "ERROR:analysis:this is an error message to anaLogFile a\n"
       ]
      },
      {
       "output_type": "stream",
       "stream": "stderr",
       "text": [
        "ERROR - module <ipython-input-30-fc11c5733b8b> line 16: writing to logfile a at ERROR level\n"
       ]
      },
      {
       "output_type": "stream",
       "stream": "stderr",
       "text": [
        "ERROR:a:writing to logfile a at ERROR level\n"
       ]
      },
      {
       "output_type": "stream",
       "stream": "stderr",
       "text": [
        "INFO writing to logfile a at INFO level\n"
       ]
      },
      {
       "output_type": "stream",
       "stream": "stderr",
       "text": [
        "INFO:a:writing to logfile a at INFO level\n"
       ]
      },
      {
       "output_type": "stream",
       "stream": "stderr",
       "text": [
        "ERROR - module <ipython-input-30-fc11c5733b8b> line 14: this is an error message to anaLogFile b\n"
       ]
      },
      {
       "output_type": "stream",
       "stream": "stderr",
       "text": [
        "ERROR:analysis:this is an error message to anaLogFile b\n"
       ]
      },
      {
       "output_type": "stream",
       "stream": "stderr",
       "text": [
        "ERROR - module <ipython-input-30-fc11c5733b8b> line 16: writing to logfile b at ERROR level\n"
       ]
      },
      {
       "output_type": "stream",
       "stream": "stderr",
       "text": [
        "ERROR:b:writing to logfile b at ERROR level\n"
       ]
      },
      {
       "output_type": "stream",
       "stream": "stderr",
       "text": [
        "INFO writing to logfile b at INFO level\n"
       ]
      },
      {
       "output_type": "stream",
       "stream": "stderr",
       "text": [
        "INFO:b:writing to logfile b at INFO level\n"
       ]
      }
     ],
     "prompt_number": 30
    },
    {
     "cell_type": "heading",
     "level": 2,
     "metadata": {},
     "source": [
      "Python Classes"
     ]
    },
    {
     "cell_type": "markdown",
     "metadata": {},
     "source": [
      "Not presently covered here. Please google."
     ]
    },
    {
     "cell_type": "heading",
     "level": 2,
     "metadata": {},
     "source": [
      "Esoteric Python tidbits"
     ]
    },
    {
     "cell_type": "markdown",
     "metadata": {},
     "source": [
      "<http://nbviewer.ipython.org/github/rasbt/python_reference/blob/master/not_so_obvious_python_stuff.ipynb?create=1>  \n",
      "<http://sahandsaba.com/thirty-python-language-features-and-tricks-you-may-not-know.html>  \n"
     ]
    },
    {
     "cell_type": "markdown",
     "metadata": {},
     "source": [
      "[Python variables can have data types](http://jugad2.blogspot.com/2014/04/python-variables-can-have-types-as.html), see the link for more details."
     ]
    },
    {
     "cell_type": "code",
     "collapsed": false,
     "input": [
      "a = int\n",
      "print(type(a))\n",
      "print a('3') + 4\n",
      "\n",
      "b = str\n",
      "print b(12) * 5\n",
      "\n",
      "class Foo:\n",
      "     def bar(self):\n",
      "         print \"in Foo.bar()\"\n",
      "\n",
      "f = Foo\n",
      "f().bar()"
     ],
     "language": "python",
     "metadata": {},
     "outputs": [
      {
       "output_type": "stream",
       "stream": "stdout",
       "text": [
        "<type 'type'>\n",
        "7\n",
        "1212121212\n",
        "in Foo.bar()\n"
       ]
      }
     ],
     "prompt_number": 31
    },
    {
     "cell_type": "heading",
     "level": 2,
     "metadata": {},
     "source": [
      "Numpy Basics"
     ]
    },
    {
     "cell_type": "markdown",
     "metadata": {},
     "source": [
      "Before numpy can be used it must be imported into the workspace. Note that it is already pre-loaded in IPython, but not in other scipts.  By general convention, it is normally imported as `np`.\n",
      "\n",
      "[Working with NumPy arrays](http://nbviewer.ipython.org/github/LUMC/programming-course/blob/master/numpy.ipynb).  \n",
      "[Numpy performance tricks](http://cyrille.rossant.net/numpy-performance-tricks/)"
     ]
    },
    {
     "cell_type": "code",
     "collapsed": false,
     "input": [
      "import numpy as np"
     ],
     "language": "python",
     "metadata": {},
     "outputs": [],
     "prompt_number": 32
    },
    {
     "cell_type": "heading",
     "level": 3,
     "metadata": {},
     "source": [
      "Creating Numpy arrays"
     ]
    },
    {
     "cell_type": "markdown",
     "metadata": {},
     "source": [
      "There are many more ways to create arrays we are only using one method.  See <http://docs.scipy.org/doc/numpy/reference/routines.array-creation.html>\n",
      "\n",
      "Numpy essentially provides arrays and matrices. A matrix is the numpy equivalent of a linear algebra matrix, while the array is just a structured set of data. Matrices and arrays both have N-dimensional structure, but the operations on these are different. Numpy arrays perform operations on element-wise level (unless otherwise told), which means that the multiplication of two numpy arrays yield a new array of the same size where each element is the multiplication of the elements in the same location of the two input arrays.\n",
      "\n",
      "Numpy uses the linear algebra term, _rank_ to denote the array number of dimensions. Rank-two arrays can only appear in one guise, that of an MxN array.  A vector (one-dimensional array) can appear in three different guises, each of which is slightly different: (N,) (N,1) or (1,N) - and these different forms don't interoperate very well (as they seem to do in Matlab).\n",
      "\n",
      "For example the transpose of (N,) is still (N,) because (N,) is a rank-one array, for which the transpose is not defined. So when using vectors (and we do use them extensively) be careful of this this difference.\n",
      "\n",
      "Numpy arrays have a `shape` attribute that returns the size of the array. For rank-two arrays, the first value can be interpreted as the number of rows, then columns."
     ]
    },
    {
     "cell_type": "code",
     "collapsed": false,
     "input": [
      "a = np.asarray([1, 2, 3]) # construct from a list\n",
      "print(a.shape)\n",
      "b = np.array(a) #construct from another array\n",
      "print(b.shape)\n",
      "c = np.linspace(0,10,11) # 11 elements, ranging from 0 to 10\n",
      "print(c.shape)\n",
      "print(np.ones(a.shape).shape)\n",
      "print(np.zeros(a.shape).shape)\n",
      "d = np.eye(3)\n",
      "print(d.shape)\n",
      "print(d)"
     ],
     "language": "python",
     "metadata": {},
     "outputs": [
      {
       "output_type": "stream",
       "stream": "stdout",
       "text": [
        "(3,)\n",
        "(3,)\n",
        "(11,)\n",
        "(3,)\n",
        "(3,)\n",
        "(3, 3)\n",
        "[[ 1.  0.  0.]\n",
        " [ 0.  1.  0.]\n",
        " [ 0.  0.  1.]]\n"
       ]
      }
     ],
     "prompt_number": 33
    },
    {
     "cell_type": "markdown",
     "metadata": {},
     "source": [
      "Arrays can be reshaped to different shapes, even ranks, provided the number of elements don't change. This code creates a rank-three array filled with zeros. The first parameter of this function must be a tuple of the required size, in this case 3x3x4.  The array is initially flattened, made into a rank-one array.  Using the `reshape` function it is then reshaped to different sizes (this is only of illustrative use, no real mathematical or physical meaning). If one of the reshape parameters is -1, it is interpreted that this axis must be made whatever value fits the reshaping."
     ]
    },
    {
     "cell_type": "code",
     "collapsed": false,
     "input": [
      "a = np.zeros((3,3,4))\n",
      "print(a.shape)\n",
      "b = a.flatten()\n",
      "print(b.shape)\n",
      "b = b.reshape(18,-1)\n",
      "print(b.shape)\n",
      "b = b.reshape(3,-1,3)\n",
      "print(b.shape)\n",
      "b = b.reshape(-1,1)\n",
      "print(b.shape)\n",
      "            "
     ],
     "language": "python",
     "metadata": {},
     "outputs": [
      {
       "output_type": "stream",
       "stream": "stdout",
       "text": [
        "(3, 3, 4)\n",
        "(36,)\n",
        "(18, 2)\n",
        "(3, 4, 3)\n",
        "(36, 1)\n"
       ]
      }
     ],
     "prompt_number": 34
    },
    {
     "cell_type": "heading",
     "level": 3,
     "metadata": {},
     "source": [
      "Modulus operator on floats"
     ]
    },
    {
     "cell_type": "markdown",
     "metadata": {},
     "source": [
      "The modulus operator (returning the fraction of a division) also works for floats, returning the fractional remainder."
     ]
    },
    {
     "cell_type": "code",
     "collapsed": false,
     "input": [
      "a = np.linspace(5.5, 9.5, 9)\n",
      "b = a % 2\n",
      "print(a)\n",
      "print(b)\n",
      "print(b==0)\n",
      "print(a[b==0])"
     ],
     "language": "python",
     "metadata": {},
     "outputs": [
      {
       "output_type": "stream",
       "stream": "stdout",
       "text": [
        "[ 5.5  6.   6.5  7.   7.5  8.   8.5  9.   9.5]\n",
        "[ 1.5  0.   0.5  1.   1.5  0.   0.5  1.   1.5]\n",
        "[False  True False False False  True False False False]\n",
        "[ 6.  8.]\n"
       ]
      }
     ],
     "prompt_number": 35
    },
    {
     "cell_type": "heading",
     "level": 3,
     "metadata": {},
     "source": [
      "Operations on Numpy arrays "
     ]
    },
    {
     "cell_type": "markdown",
     "metadata": {},
     "source": [
      "NumPy operations are usually done on pairs of arrays on an element-by-element basis. In the simplest case, the two arrays must have exactly the same shape, as in the following example.  Normally, broadcasting is transparent and operates as one would intuitively think."
     ]
    },
    {
     "cell_type": "markdown",
     "metadata": {},
     "source": [
      "\n",
      "\n",
      "Broadcasting is where numpy can figure out how to handle arrays of different shape, it the operation is well defined, e.g., adding a constant to an array - the constant is added to all elements. Broadcasting is very important and a rudimentary understanding is necessary.  \n",
      "See <http://docs.scipy.org/doc/numpy/user/basics.broadcasting.html>\n",
      "\n",
      "\n",
      "\n",
      "Note that in this case the transpose had no effect."
     ]
    },
    {
     "cell_type": "code",
     "collapsed": false,
     "input": [
      "e = (d + 2).T\n",
      "print(e.shape)\n",
      "print(e)"
     ],
     "language": "python",
     "metadata": {},
     "outputs": [
      {
       "output_type": "stream",
       "stream": "stdout",
       "text": [
        "(3, 3)\n",
        "[[ 3.  2.  2.]\n",
        " [ 2.  3.  2.]\n",
        " [ 2.  2.  3.]]\n"
       ]
      }
     ],
     "prompt_number": 36
    },
    {
     "cell_type": "code",
     "collapsed": false,
     "input": [
      "a = np.array([1.0, 2.0, 3.0])\n",
      "b = np.array([2.0, 2.0, 2.0])\n",
      "print('a * b  ={}'.format(a * b))\n",
      "print('a - b  ={}'.format(a - b))\n",
      "a = np.array([1.0, 2.0])\n",
      "b = np.array([2.0, 2.0, 2.0])\n",
      "try:\n",
      "    print('a * b  ={}'.format(a * b))\n",
      "except:\n",
      "    print('{} * {} is not allowed, broadcasting not possible'.format(a,b))\n"
     ],
     "language": "python",
     "metadata": {},
     "outputs": [
      {
       "output_type": "stream",
       "stream": "stdout",
       "text": [
        "a * b  =[ 2.  4.  6.]\n",
        "a - b  =[-1.  0.  1.]\n",
        "[ 1.  2.] * [ 2.  2.  2.] is not allowed, broadcasting not possible\n"
       ]
      }
     ],
     "prompt_number": 37
    },
    {
     "cell_type": "markdown",
     "metadata": {},
     "source": [
      "In the following example a is a rank-one array and b is a rank-two array. The b array can be transposed, but transpose operator is not defined for the rank-one array."
     ]
    },
    {
     "cell_type": "code",
     "collapsed": false,
     "input": [
      "a = np.asarray([1, 2, 3]) # construct from a list\n",
      "print('array a has {} elements, shape {}'.format(a.shape[0],a.shape))\n",
      "print('array a.T has {} elements, shape {}'.format(a.T.shape[0],a.T.shape))\n",
      "print('a is equal to a.T: {}'.format(np.array_equal(a,a.T)))\n",
      "print(' ')\n",
      "b = a.reshape(-1,1)\n",
      "print('array b has {} rows and {} columns, shape {}'.format(b.shape[0], b.shape[1], b.shape))\n",
      "print('array b.T has {} rows and {} columns, shape {}'.format(b.T.shape[0], b.T.shape[1], b.T.shape))\n",
      "print('b is equal to b.T: {}'.format(np.array_equal(b,b.T)))\n"
     ],
     "language": "python",
     "metadata": {},
     "outputs": [
      {
       "output_type": "stream",
       "stream": "stdout",
       "text": [
        "array a has 3 elements, shape (3,)\n",
        "array a.T has 3 elements, shape (3,)\n",
        "a is equal to a.T: True\n",
        " \n",
        "array b has 3 rows and 1 columns, shape (3, 1)\n",
        "array b.T has 1 rows and 3 columns, shape (1, 3)\n",
        "b is equal to b.T: False\n"
       ]
      }
     ],
     "prompt_number": 38
    },
    {
     "cell_type": "heading",
     "level": 3,
     "metadata": {},
     "source": [
      "Slicing and Stacking"
     ]
    },
    {
     "cell_type": "markdown",
     "metadata": {},
     "source": [
      "Numpy arrays can be sliced to extract portions of the array. Start by creating a rank-two array with 15 elements, then reshape to a 3 row/5 column array. Then slice different parts from the array. A slice is specified in the form: start:end:stride, where the start value is _included_ but the end value is _excluded_ and the stride definest stride from te starting position (inclusive). \n",
      "\n",
      "<http://docs.scipy.org/doc/numpy/reference/arrays.indexing.html>\n",
      "\n",
      "Observe that the slice `[:,1]` returns a (N,) rank one vector whereas the slice `[:,:1]` returns a (N,1) rank two vector "
     ]
    },
    {
     "cell_type": "code",
     "collapsed": false,
     "input": [
      "a = np.arange(0,15).reshape(3,5)\n",
      "print(a)\n",
      "print('Original array: {} has shape {}'.format(a, a.shape))\n",
      "print('All the rows of second column: {} has shape {}'.format(a[:,1],a[:,1].shape))\n",
      "print('All the colums of second row: {} has shape {}'.format(a[1,:],a[1,:].shape))\n",
      "print('Portion of the array: {} has shape {}'.format(a[0:2,1:3],a[0:2,1:3].shape))\n",
      "print('Strided portion of the array: {} has shape {}'.format(a[0:2,0:5:2],a[0:2,0:5:2].shape))\n",
      "print('---------------')\n",
      "print('Sliced by {} all the rows of second column: {} has shape {}'.format('[:,1]',a[:,1],a[:,1].shape))\n",
      "print('Sliced by {} all the rows of second column: {} has shape {}'.format('[:,:1]',a[:,1],a[:,:1].shape))\n"
     ],
     "language": "python",
     "metadata": {},
     "outputs": [
      {
       "output_type": "stream",
       "stream": "stdout",
       "text": [
        "[[ 0  1  2  3  4]\n",
        " [ 5  6  7  8  9]\n",
        " [10 11 12 13 14]]\n",
        "Original array: [[ 0  1  2  3  4]\n",
        " [ 5  6  7  8  9]\n",
        " [10 11 12 13 14]] has shape (3, 5)\n",
        "All the rows of second column: [ 1  6 11] has shape (3,)\n",
        "All the colums of second row: [5 6 7 8 9] has shape (5,)\n",
        "Portion of the array: [[1 2]\n",
        " [6 7]] has shape (2, 2)\n",
        "Strided portion of the array: [[0 2 4]\n",
        " [5 7 9]] has shape (2, 3)\n",
        "---------------\n",
        "Sliced by [:,1] all the rows of second column: [ 1  6 11] has shape (3,)\n",
        "Sliced by [:,:1] all the rows of second column: [ 1  6 11] has shape (3, 1)\n"
       ]
      }
     ],
     "prompt_number": 39
    },
    {
     "cell_type": "markdown",
     "metadata": {},
     "source": [
      "Numpy makes provision to build new arrays by stacking arrays together.  This stacking can be done horizontally or vertically.  In both cases does the function require a tuple as input where the tuple contains the the two or more parts to be stacked. In order to stack the size of the two or more sub-arrays along the stacking direction must be the same.  The results below show that for the purpose of stacking a (N,) array is considered to be the same as a (1,N) array - that is one row with many columns.  "
     ]
    },
    {
     "cell_type": "code",
     "collapsed": false,
     "input": [
      "import numpy as np\n",
      "a = np.asarray([1, 2, 3, 4])\n",
      "b = np.asarray([5, 6, 7, 8])\n",
      "c = np.asarray([9, 10, 11, 12])\n",
      "d = np.hstack((a,b,c))\n",
      "e = np.vstack((a,b,c))\n",
      "print('a: value={} shape={}'.format(a, a.shape))\n",
      "print('b: value={} shape={}'.format(b, b.shape))\n",
      "print('c: value={} shape={}'.format(c, c.shape))\n",
      "print('d: value={} shape={}'.format(d, d.shape))\n",
      "print('e: value={} shape={}'.format(e, e.shape))\n",
      "print('---------')\n",
      "\n",
      "a = np.asarray([1, 2, 3, 4]).reshape(1,-1)\n",
      "b = np.asarray([5, 6, 7, 8]).reshape(1,-1)\n",
      "c = np.asarray([9, 10, 11, 12]).reshape(1,-1)\n",
      "d = np.hstack((a,b,c))\n",
      "e = np.vstack((a,b,c))\n",
      "print('a: value={} shape={}'.format(a, a.shape))\n",
      "print('b: value={} shape={}'.format(b, b.shape))\n",
      "print('c: value={} shape={}'.format(c, c.shape))\n",
      "print('d: value={} shape={}'.format(d, d.shape))\n",
      "print('e: value={} shape={}'.format(e, e.shape))\n",
      "print('---------')\n",
      "\n",
      "a = np.asarray([1, 2, 3, 4]).reshape(-1,1)\n",
      "b = np.asarray([5, 6, 7, 8]).reshape(-1,1)\n",
      "c = np.asarray([9, 10, 11, 12]).reshape(-1,1)\n",
      "d = np.hstack((a,b,c))\n",
      "e = np.vstack((a,b,c))\n",
      "print('a: value={} shape={}'.format(a, a.shape))\n",
      "print('b: value={} shape={}'.format(b, b.shape))\n",
      "print('c: value={} shape={}'.format(c, c.shape))\n",
      "print('d: value={} shape={}'.format(d, d.shape))\n",
      "print('e: value={} shape={}'.format(e, e.shape))"
     ],
     "language": "python",
     "metadata": {},
     "outputs": [
      {
       "output_type": "stream",
       "stream": "stdout",
       "text": [
        "a: value=[1 2 3 4] shape=(4,)\n",
        "b: value=[5 6 7 8] shape=(4,)\n",
        "c: value=[ 9 10 11 12] shape=(4,)\n",
        "d: value=[ 1  2  3  4  5  6  7  8  9 10 11 12] shape=(12,)\n",
        "e: value=[[ 1  2  3  4]\n",
        " [ 5  6  7  8]\n",
        " [ 9 10 11 12]] shape=(3, 4)\n",
        "---------\n",
        "a: value=[[1 2 3 4]] shape=(1, 4)\n",
        "b: value=[[5 6 7 8]] shape=(1, 4)\n",
        "c: value=[[ 9 10 11 12]] shape=(1, 4)\n",
        "d: value=[[ 1  2  3  4  5  6  7  8  9 10 11 12]] shape=(1, 12)\n",
        "e: value=[[ 1  2  3  4]\n",
        " [ 5  6  7  8]\n",
        " [ 9 10 11 12]] shape=(3, 4)\n",
        "---------\n",
        "a: value=[[1]\n",
        " [2]\n",
        " [3]\n",
        " [4]] shape=(4, 1)\n",
        "b: value=[[5]\n",
        " [6]\n",
        " [7]\n",
        " [8]] shape=(4, 1)\n",
        "c: value=[[ 9]\n",
        " [10]\n",
        " [11]\n",
        " [12]] shape=(4, 1)\n",
        "d: value=[[ 1  5  9]\n",
        " [ 2  6 10]\n",
        " [ 3  7 11]\n",
        " [ 4  8 12]] shape=(4, 3)\n",
        "e: value=[[ 1]\n",
        " [ 2]\n",
        " [ 3]\n",
        " [ 4]\n",
        " [ 5]\n",
        " [ 6]\n",
        " [ 7]\n",
        " [ 8]\n",
        " [ 9]\n",
        " [10]\n",
        " [11]\n",
        " [12]] shape=(12, 1)\n"
       ]
      }
     ],
     "prompt_number": 40
    },
    {
     "cell_type": "heading",
     "level": 3,
     "metadata": {},
     "source": [
      "Numpy array application for spectral calculations"
     ]
    },
    {
     "cell_type": "markdown",
     "metadata": {},
     "source": [
      "Numpy is much more than just array-like containers, there is also a comprehensive number of mathematical and logical operators to process the array contents.  Numpy arrays are used as a basis for other packages such as the image processing library scikit-image and the data analysis package pandas.  Numpy also forms the basis of the pyradi package, but serves mainly as a container for spectral values.\n",
      "\n",
      "In pyradi spectral variables are respresented as arrays (of all ranks).  For example, a set of wavelength values can be represented as an array. Spectral variables such as optics transmittance have values at specific wavelengths. So the transmittance vector and wavelength vector correspond on an element-by-element basis: the value of transmittance at the specific transmittance. The example below defines a wavelength band from 300 nm to 800 nm in 101 samples, and then calculates a filter transmittance using pyradi. The filter response is then plotted. IPython presents the graph in the document itself because the `%matplotlib inline` magic is used."
     ]
    },
    {
     "cell_type": "code",
     "collapsed": false,
     "input": [
      "%matplotlib inline\n",
      "import numpy as np\n",
      "import pyradi.ryutils as ryutils\n",
      "import pyradi.ryplot as ryplot\n",
      "\n",
      "wl = np.linspace(0.3, 0.8, 101)\n",
      "sfilter = ryutils.sfilter(wl, 0.5, 0.2, 6, 0.5, 0.1)\n",
      "p = ryplot.Plotter(1,figsize=(9,4))\n",
      "p.plot(1,wl,sfilter,'Filter Transmittance', 'Wavelength $\\mu$m', 'Transmittance')\n",
      "p.saveFig('filter.png')"
     ],
     "language": "python",
     "metadata": {},
     "outputs": [
      {
       "metadata": {},
       "output_type": "display_data",
       "png": "[encoded data removed]",
       "text": [
        "<matplotlib.figure.Figure at 0x771f5b0>"
       ]
      }
     ],
     "prompt_number": 42
    },
    {
     "cell_type": "markdown",
     "metadata": {},
     "source": [
      "The concept of a single spectral variable, such as the filter above, can be extended to many spectral variables, all sharing the same wavelength values. One such example is the Planck law radiation at different temperatures. In the next example, the radiation is calculated at a range of temperatures and plotted on the graph.  Note in this case that the value returned from the `ryplanck.planck()` function is a rank-two array.  Along the first dimension is the spectral axis and along the second dimension is the radiance for the different temperatures. \n",
      "\n",
      "The plotting functions can plot more than one line if a rank-two array is passed. However many columns there are in the array, so many lines will be drawn.  The only requirement is that the size of the radiance (y) array along the zero axis much match the size of the wavelength (x) array along its zero axis.\n",
      "\n",
      "Observe how the line labels are created using list comprehension, properly formatted with units."
     ]
    },
    {
     "cell_type": "code",
     "collapsed": false,
     "input": [
      "import pyradi.ryplanck as ryplanck\n",
      "\n",
      "temperatures = [5000, 6000, 8000]\n",
      "radiance = ryplanck.planck(wl,temperatures, 'el') / np.pi\n",
      "\n",
      "print('wl.shape = {}'.format(wl.shape))\n",
      "print('len(temperatures) = {}'.format(len(temperatures)))\n",
      "print('radiance.shape = {}'.format(radiance.shape))\n",
      "\n",
      "labels = ['{} K'.format(tmp) for tmp in temperatures]\n",
      "print('labels = {}'.format(labels))\n",
      "\n",
      "p = ryplot.Plotter(1,figsize=(9,4))\n",
      "p.semilogY(1,wl,radiance * sfilter.reshape(-1,1),'Planck Radiance', 'Wavelength $\\mu$m', 'Radiance W/(m$^2$.sr.$\\mu$m)',label=labels)\n",
      "p.saveFig('filtered-planck.png')\n"
     ],
     "language": "python",
     "metadata": {},
     "outputs": [
      {
       "output_type": "stream",
       "stream": "stdout",
       "text": [
        "wl.shape = (101,)\n",
        "len(temperatures) = 3\n",
        "radiance.shape = (101, 3)\n",
        "labels = ['5000 K', '6000 K', '8000 K']\n"
       ]
      },
      {
       "metadata": {},
       "output_type": "display_data",
       "png": "[encoded data removed]",
       "text": [
        "<matplotlib.figure.Figure at 0x78ca2f0>"
       ]
      }
     ],
     "prompt_number": 57
    },
    {
     "cell_type": "code",
     "collapsed": false,
     "input": [
      "for i,temperature in enumerate(temperatures):\n",
      "    integral = np.trapz((radiance[:,i]).reshape(-1,1) * sfilter.reshape(-1,1), wl, axis=0)\n",
      "    print('Temperature = {} K,  Integrated radiance = {:.3e} W/(m2.sr)'.format(temperature, integral[0]))"
     ],
     "language": "python",
     "metadata": {},
     "outputs": [
      {
       "output_type": "stream",
       "stream": "stdout",
       "text": [
        "Temperature = 5000 K,  Integrated radiance = 1.394e+06 W/(m2.sr)\n",
        "Temperature = 6000 K,  Integrated radiance = 3.618e+06 W/(m2.sr)\n",
        "Temperature = 8000 K,  Integrated radiance = 1.259e+07 W/(m2.sr)\n"
       ]
      }
     ],
     "prompt_number": 64
    },
    {
     "cell_type": "heading",
     "level": 3,
     "metadata": {},
     "source": [
      "File input/output"
     ]
    },
    {
     "cell_type": "markdown",
     "metadata": {},
     "source": [
      "Numpy can import data from file and write to a file.  The simplest import is `numpy.loadtxt()` and `numpy.savetxt()`. In the following section the spectral data and radiance data from the previous calculation are stacked together, such that the first column is the spectral vector, followed by the radiance in columns 1 and following. For this purpose the horisontal stack function is used: stacking arrays side by side. But there is a problem in that the wavelength variable is rank one (N,) , whereas a rank-two array (N,1) is required - it is reshaped before stacking.  The stacked array is then saved to an ASCII file. Note that the format string requires that the numbers are written to five decimal places. The data can also be saved in binary and compressed binary format.\n",
      "\n",
      "In the next step the data is read back in from the ASCII file.  To confirm that the data is correctly saved, the first five rows are printed: first for the original array and then for the data read in."
     ]
    },
    {
     "cell_type": "code",
     "collapsed": false,
     "input": [
      "data = np.hstack((wl.reshape(-1,1), radiance))\n",
      "print(data[:5,:])\n",
      "filename = 'planck.txt'\n",
      "np.savetxt(filename, data, fmt='%.5e', delimiter=' ', newline='\\n', \n",
      "              header='First column is wavelength, rests are radiance values', \n",
      "              footer='', comments='# ')\n",
      "fdata = np.loadtxt(filename, comments='#', usecols=None)\n",
      "print(' ')\n",
      "print(fdata[:5,:])\n",
      "#delete the file        \n",
      "try:\n",
      "    os.remove(filename)\n",
      "except OSError:\n",
      "    pass "
     ],
     "language": "python",
     "metadata": {},
     "outputs": [
      {
       "output_type": "stream",
       "stream": "stdout",
       "text": [
        "[[  3.00000000e-01   3.34707013e+06   1.65600963e+07   1.22419542e+08]\n",
        " [  3.05000000e-01   3.60634170e+06   1.73819604e+07   1.24380147e+08]\n",
        " [  3.10000000e-01   3.87124215e+06   1.81921752e+07   1.26143722e+08]\n",
        " [  3.15000000e-01   4.14096429e+06   1.89884421e+07   1.27714889e+08]\n",
        " [  3.20000000e-01   4.41469721e+06   1.97686561e+07   1.29098903e+08]]\n",
        " \n",
        "[[  3.00000000e-01   3.34707000e+06   1.65601000e+07   1.22420000e+08]\n",
        " [  3.05000000e-01   3.60634000e+06   1.73820000e+07   1.24380000e+08]\n",
        " [  3.10000000e-01   3.87124000e+06   1.81922000e+07   1.26144000e+08]\n",
        " [  3.15000000e-01   4.14096000e+06   1.89884000e+07   1.27715000e+08]\n",
        " [  3.20000000e-01   4.41470000e+06   1.97687000e+07   1.29099000e+08]]\n"
       ]
      }
     ],
     "prompt_number": 43
    },
    {
     "cell_type": "markdown",
     "metadata": {},
     "source": [
      "It is however quite difficult to check every single element in the array we want to compare the two arrays, using Numpy to do the checking.   The `array_equal()` function indicates that the array values differ.  \n",
      "\n",
      "Problem! Why are the two arrays not the same?  \n",
      "The values written to the file has only five decimal places resolution - some of the information is lost on writing to the file!\n",
      "\n",
      "There is another comparison function that allows us to specify a tolerance to be used when comparing two arrays"
     ]
    },
    {
     "cell_type": "code",
     "collapsed": false,
     "input": [
      "print('The two arrays are exactly the same {}'.format(np.array_equal(data, fdata)))\n",
      "tolerance = 1e-6\n",
      "print('The two arrays are the same {} to within {} relative tolerance'.\\\n",
      "      format(np.allclose(data, fdata,tolerance),tolerance))"
     ],
     "language": "python",
     "metadata": {},
     "outputs": [
      {
       "output_type": "stream",
       "stream": "stdout",
       "text": [
        "The two arrays are exactly the same False\n",
        "The two arrays are the same False to within 1e-06 relative tolerance\n"
       ]
      }
     ],
     "prompt_number": 44
    },
    {
     "cell_type": "markdown",
     "metadata": {},
     "source": [
      "Numpy arrays can be written to raw binary format using the `array.tofile('filename')` function.  This is not the binary numpy format, but raw bytes with no header. These file are not portable across endian boundaries."
     ]
    },
    {
     "cell_type": "heading",
     "level": 3,
     "metadata": {},
     "source": [
      "Array pre-allocation instead of stacking"
     ]
    },
    {
     "cell_type": "markdown",
     "metadata": {},
     "source": [
      "Stacking is a slow process, use with care for large arrays. Another way would be to calculate the size of the array beforehand and pre-allocate an array of that size. Once the array exists, the values can be assigned by slicing.  In this case the number of rows must remain the same, but a new column will be added to allow space for the spectral vector and the radiance array."
     ]
    },
    {
     "cell_type": "code",
     "collapsed": false,
     "input": [
      "newsize = (radiance.shape[0], radiance.shape[1] + 1)\n",
      "ndata = np.zeros(newsize)\n",
      "\n",
      "print('Original data shape is {}'.format(data.shape))\n",
      "print('Newly assigned data shape is {}'.format(ndata.shape))\n",
      "\n",
      "ndata[:,:1] = wl.reshape(-1,1) #first column\n",
      "ndata[:,1:] = radiance # second column onwards\n",
      "\n",
      "print('The stacked and pre-allocated arrays are exactly the same {}'.format(np.array_equal(data, ndata)))\n"
     ],
     "language": "python",
     "metadata": {},
     "outputs": [
      {
       "output_type": "stream",
       "stream": "stdout",
       "text": [
        "Original data shape is (101, 4)\n",
        "Newly assigned data shape is (101, 4)\n",
        "The stacked and pre-allocated arrays are exactly the same True\n"
       ]
      }
     ],
     "prompt_number": 45
    },
    {
     "cell_type": "heading",
     "level": 2,
     "metadata": {},
     "source": [
      "Element-wise conditionals with Numpy"
     ]
    },
    {
     "cell_type": "markdown",
     "metadata": {},
     "source": [
      "Numpy has a rich set of functions to support conditional testing on element level. This section only touches on the surface.\n",
      "\n",
      "In the example below a signal is created that only contains the positive values of a sine wave, being zero elsewhere."
     ]
    },
    {
     "cell_type": "code",
     "collapsed": false,
     "input": [
      "phase = np.linspace(0, 4 * np.pi, 101)\n",
      "signal = np.sin(phase)\n",
      "signalpos = np.where(signal>0, signal, 0)\n",
      "\n",
      "p = ryplot.Plotter(1,figsize=(9,4))\n",
      "p.plot(1,phase,signal,'', 'Phase rad', 'Signal', label=['Full sine wave'])\n",
      "p.plot(1,phase,signalpos,'', 'Phase rad', 'Signal', label=['Positive sine wave'])\n"
     ],
     "language": "python",
     "metadata": {},
     "outputs": [
      {
       "metadata": {},
       "output_type": "pyout",
       "prompt_number": 46,
       "text": [
        "<matplotlib.axes._subplots.AxesSubplot at 0x914e8d0>"
       ]
      },
      {
       "metadata": {},
       "output_type": "display_data",
       "png": "[encoded data removed]",
       "text": [
        "<matplotlib.figure.Figure at 0x788e190>"
       ]
      }
     ],
     "prompt_number": 46
    },
    {
     "cell_type": "markdown",
     "metadata": {},
     "source": [
      "##Selecting elements with array indices\n",
      "\n",
      "Numpy provides the facility to extract only certain array indices, based on conditional values.  \n",
      "Some experiment requires a gaussian-distributed random number sequence, but with a twist: only values in a specific amplitude range is required.  The following script creates a large number of gaussian random variables, then filters them based on amplitude by selecting a sub set of all values by the logical test `rndAll > 0.4`. This test creates a logical array which selects elements from rndAll. The histograms of the two distributions are then calculated and displayed.\n",
      "\n",
      "The `np.histogram` function can return either the counts in the bins (`density=False`), or the estimated probability function (`density=True`)."
     ]
    },
    {
     "cell_type": "code",
     "collapsed": false,
     "input": [
      "import numpy as np\n",
      "import pyradi.ryplot as ryplot\n",
      "%matplotlib inline\n",
      "\n",
      "rndAll = np.random.randn(10000)\n",
      "rndSel = rndAll[rndAll > 0.4]\n",
      "print('Number of random numbers in input set is {}'.format(rndAll.shape[0]))\n",
      "print('Number of random numbers in filtered set is {}'.format(rndSel.shape[0]))\n",
      "\n",
      "hAll, bAll = np.histogram(rndAll,bins=50)\n",
      "hSel, bSel = np.histogram(rndSel,bins=bAll) # use the bins \n",
      "\n",
      "p = ryplot.Plotter(1,1,2,figsize=(12,4))\n",
      "p.plot(1,bAll[1:],hAll,'', 'Amplitude', 'Count', label=['Full dataset'])\n",
      "p.plot(1,bSel[1:],hSel,'', 'Amplitude', 'Count', label=['Filtered dataset'])\n",
      "\n",
      "hAll, bAll = np.histogram(rndAll,bins=50, density=True)\n",
      "hSel, bSel = np.histogram(rndSel,bins=bAll, density=True) # use the bins \n",
      "p.plot(2,bAll[1:],hAll,'', 'Amplitude', 'Probability', label=['Full dataset'])\n",
      "p.plot(2,bSel[1:],hSel,'', 'Amplitude', 'Probability', label=['Filtered dataset'])\n",
      "\n",
      "print('Integrated PDF for all data = {}'.format(np.trapz(hAll,bAll[1:])))\n",
      "print('Integrated PDF for selected data = {}'.format(np.trapz(hSel,bSel[1:])))"
     ],
     "language": "python",
     "metadata": {},
     "outputs": [
      {
       "output_type": "stream",
       "stream": "stdout",
       "text": [
        "Number of random numbers in input set is 10000\n",
        "Number of random numbers in filtered set is 3502\n",
        "Integrated PDF for all data = 0.99985"
       ]
      },
      {
       "output_type": "stream",
       "stream": "stdout",
       "text": [
        "\n",
        "Integrated PDF for selected data = 0.999714448886\n"
       ]
      },
      {
       "metadata": {},
       "output_type": "display_data",
       "png": "[encoded data removed]",
       "text": [
        "<matplotlib.figure.Figure at 0x759a850>"
       ]
      }
     ],
     "prompt_number": 47
    },
    {
     "cell_type": "markdown",
     "metadata": {},
     "source": [
      "Further experimentation with array indexes with more complex logical patterns. We first create some data with no real physical significance, but all arrays have the same length, as if these are all time samples on the same timeline `a`.  Two selections are made, the first based only on the value of `b` and the second based on the value of `b` and `c`. These selections are index arrays with zeros where the conditions are not met, and ones where the conditions are met. The `selecx` index arrays are then used to extract only the required values from the `a`, `b`, `c` arrays when plotting.  To make the selected regions easier to spot, they are slightly shifted up or down. The plots are for the following selection filtering definitions:  \n",
      "\n",
      "* All values\n",
      "* b in the range (18,75)\n",
      "* b in the range (18,30) and c in the range [0,infinity]\n",
      "* b in the range (15,75) and c in the range [0,infinity], but at intervals of 1 on a axiz.\n",
      "\n",
      "You can stick any number of logical tests inside the `np.all()`.\n"
     ]
    },
    {
     "cell_type": "code",
     "collapsed": false,
     "input": [
      "a = np.linspace(0,10,2001)\n",
      "b = a ** 2.\n",
      "c = 10 * np.sin(b/(5 * np.pi))\n",
      "select0 = np.all([ b > 18., b<75], axis=0)\n",
      "select1 = np.all([ b > 18., b<30, c>=0], axis=0)\n",
      "select2 = np.all([ a%1==0, b > 15., b<75, c>0], axis=0)\n",
      "\n",
      "print('a size {}'.format(a.shape))\n",
      "print('a for (b > 18., b<75) size {}'.format(a[select0].shape))\n",
      "print('a for (b > 18., b<30, c>=0) size {}'.format(a[select1].shape))\n",
      "print('a for (a%1==0, b > 15., b<75, c>0) size {}'.format(a[select2].shape))\n",
      "\n",
      "p = ryplot.Plotter(1,figsize=(9,4))\n",
      "p.plot(1,a,b,'', 'a', 'y', label=['b : all values'])\n",
      "p.plot(1,a,c,'', 'a', 'y', label=['c : all values'])\n",
      "p.plot(1,a[select0],b[select0]+2, label=['b+2 :  b > 15., b<75'])\n",
      "p.plot(1,a[select0],c[select0]+2,label=['c+2 :  b > 15., b<75'])\n",
      "p.plot(1,a[select1],b[select1]-2,label=['b-2 : b > 15., b<75, c>0'])\n",
      "p.plot(1,a[select1],c[select1]-2,label=['c-2 : b > 15., b<75, c>0'])\n",
      "p.plot(1,a[select2],b[select2]-4,label=['b-4 : a%1==0, b > 15., b<75, c>0'],markers='x')\n",
      "p.plot(1,a[select2],c[select2]-4,label=['c-4 : a%1==0, b > 15., b<75, c>0'],markers='x')\n"
     ],
     "language": "python",
     "metadata": {},
     "outputs": [
      {
       "output_type": "stream",
       "stream": "stdout",
       "text": [
        "a size (2001,)\n",
        "a for (b > 18., b<75) size (884,)\n",
        "a for (b > 18., b<30, c>=0) size (247,)\n",
        "a for (a%1==0, b > 15., b<75, c>0) size (4,)\n"
       ]
      },
      {
       "metadata": {},
       "output_type": "pyout",
       "prompt_number": 48,
       "text": [
        "<matplotlib.axes._subplots.AxesSubplot at 0x8e684f0>"
       ]
      },
      {
       "metadata": {},
       "output_type": "display_data",
       "png": "[encoded data removed]",
       "text": [
        "<matplotlib.figure.Figure at 0x92ba210>"
       ]
      }
     ],
     "prompt_number": 48
    },
    {
     "cell_type": "heading",
     "level": 3,
     "metadata": {},
     "source": [
      "Numpy meshgrid"
     ]
    },
    {
     "cell_type": "markdown",
     "metadata": {},
     "source": [
      "The `numpy.meshgrid` function takes two vectors and returns two two-dimensional arrays that loop the vector values along the two orthogonal dimensions. The returned arrays are the same for any form of input vectors, (N,), (1,N), or (N,1).\n",
      "This is best illustrated by an example"
     ]
    },
    {
     "cell_type": "code",
     "collapsed": false,
     "input": [
      "valCols = np.asarray([1, 2, 3, 4, 5])\n",
      "valRows = np.asarray([10, 20, 30])\n",
      "varCol, varRow = np.meshgrid(valCols, valRows)\n",
      "print('valCols vector is  (shape={}) \\n{}'.format(valCols.shape,valCols))\n",
      "print('valRows vector is  (shape={}) \\n{}'.format(valRows.shape,valRows))\n",
      "print('varCol array is (shape={})\\n{}'.format(varCol.shape,varCol))\n",
      "print('varRow array is  (shape={})\\n{}'.format(varRow.shape,varRow))"
     ],
     "language": "python",
     "metadata": {},
     "outputs": [
      {
       "output_type": "stream",
       "stream": "stdout",
       "text": [
        "valCols vector is  (shape=(5,)) \n",
        "[1 2 3 4 5]\n",
        "valRows vector is  (shape=(3,)) \n",
        "[10 20 30]\n",
        "varCol array is (shape=(3, 5))\n",
        "[[1 2 3 4 5]\n",
        " [1 2 3 4 5]\n",
        " [1 2 3 4 5]]\n",
        "varRow array is  (shape=(3, 5))\n",
        "[[10 10 10 10 10]\n",
        " [20 20 20 20 20]\n",
        " [30 30 30 30 30]]\n"
       ]
      }
     ],
     "prompt_number": 49
    },
    {
     "cell_type": "markdown",
     "metadata": {},
     "source": [
      "The `numpy.meshgrid` function was conceived to create a two-dimensional grid, e.g., for a cartesian grid. Because the two arrays returned contains variations along rows and along columns only, these arrays can be used in any function that requires to operate on two parameters.\n",
      "\n",
      "In the following example a square cartesian grid on [-2,2] is formed.  `numpy.meshgrid` is used to create two arrays for varying x and varying y.  The two arrays are flattened (made into (N,)) and then a relatively complex function is applied to the data. After the function call the data is reshaped back to the original shape.  Note that the calculation over two dimensions is done without any `for` loops."
     ]
    },
    {
     "cell_type": "code",
     "collapsed": false,
     "input": [
      "import numpy as np\n",
      "import pyradi.ryplot as ryplot\n",
      "from matplotlib import cm\n",
      "\n",
      "def myFunc(x,y):\n",
      "  scale = np.sqrt(np.exp(-(x**2 +y**2)))\n",
      "  return np.sin(2 * x) * np.cos(4 * y) * scale\n",
      "\n",
      "x = np.linspace(-2, 2, 101)\n",
      "y = np.linspace(-2, 2, 101)\n",
      "varx, vary = np.meshgrid(x, y)\n",
      "zdata = myFunc(varx.flatten(), vary.flatten()).reshape(varx.shape)\n",
      "\n",
      "p = ryplot.Plotter(1,1,1,figsize=(10,6))\n",
      "p.mesh3D(1, varx, vary, zdata, ptitle='Title', xlabel='x', ylabel='y', zlabel='z',\n",
      "  rstride=3, cstride=3, linewidth= 0.3, maxNX=5, maxNY=5, maxNZ=0,\n",
      "  drawGrid=True, cbarshow=True, alpha=0.5)"
     ],
     "language": "python",
     "metadata": {},
     "outputs": [
      {
       "metadata": {},
       "output_type": "pyout",
       "prompt_number": 103,
       "text": [
        "<matplotlib.axes._subplots.Axes3DSubplot at 0x90dbd30>"
       ]
      },
      {
       "metadata": {},
       "output_type": "display_data",
       "png": "[encoded data removed]",
       "text": [
        "<matplotlib.figure.Figure at 0x90d1d70>"
       ]
      }
     ],
     "prompt_number": 103
    },
    {
     "cell_type": "heading",
     "level": 3,
     "metadata": {},
     "source": [
      "Numpy integration and meshgrid"
     ]
    },
    {
     "cell_type": "markdown",
     "metadata": {},
     "source": [
      "Integration in Numpy is quite easy, the function `numpy.trapz` does all the work:"
     ]
    },
    {
     "cell_type": "code",
     "collapsed": false,
     "input": [
      "for n in [4, 11, 101, 1001, 100001]:\n",
      "    t = np.linspace(0,  np.pi/2, n)\n",
      "    s = np.sin(t)\n",
      "    int = np.trapz(s, t, axis=0)\n",
      "    print('Integral of sin over [0,pi/2] in {} samples is {} '.format(n,int))"
     ],
     "language": "python",
     "metadata": {},
     "outputs": [
      {
       "output_type": "stream",
       "stream": "stdout",
       "text": [
        "Integral of sin over [0,pi/2] in 4 samples is 0.977048616657 \n",
        "Integral of sin over [0,pi/2] in 11 samples is 0.997942986354 \n",
        "Integral of sin over [0,pi/2] in 101 samples is 0.99997943824 \n",
        "Integral of sin over [0,pi/2] in 1001 samples is 0.999999794383 \n",
        "Integral of sin over [0,pi/2] in 100001 samples is 0.999999999979 \n"
       ]
      }
     ],
     "prompt_number": 51
    },
    {
     "cell_type": "markdown",
     "metadata": {},
     "source": [
      "A recurring pattern in the use of pyradi is the integration of a two-dimensional dataset along one of the dimensions. In most programming languages, this would require at least one or possibly two loops over the dimensions.  The `numpy.meshgrid` function has the potential of trading the complexity of looping against the complexity of loop abstraction.\n",
      "\n",
      "In the example below the inband blackbody radiance over a spectral detector is calculated using\n",
      "\n",
      "$\n",
      "L_{\\rm inband} = \\int_0^\\infty R_\\lambda L_\\lambda(T) d\\lambda \\approx \\sum_{0.1 \\mu{\\rm m}}^{7 \\mu{\\rm m}} R_\\lambda L_\\lambda(T) d\\lambda \n",
      "$\n",
      "\n",
      "The wavelength spectral domain (shape (S,1)) is calculated from a short wavelength up to 7 $\\mu$m, covering the detector spectral band.  The detector spectral response (shape (S,1)) is calculated using using a function from `pyradi.ryutils`. A range of source temperatures is defined (shape (T,1)).  The same spectral range used to calculate the detector is used to calculate the blackbody radiance, using `pyradi.ryplanck.planck`.  The value returned by `ryplanck.planck` is a two-dimensional (shape (S,T)) array with spectral variation across the rows (axis=0) and temperature variation across the columns (axis=1).  The challenge is now to multiply each column in the radiance table with the spectral responsivity, without using a loop.  The `numpy.meshgrid` function is used to calculate an array with the responsivity variation along the rows, but with exactly the same values in all columns. Once this new array is available, it is multiplied with the radiance array. After multiplication the columns in the new array contain the product of $R_\\lambda L_\\lambda(T)$, with each column at a different temperature.  The summation/integral is then performed by using `numpy.trapz` and integrating along axis=0 (rows), which is the direction of spectral variation.  The resulting vector is the integral over all wavelengths, for the different temperatures."
     ]
    },
    {
     "cell_type": "code",
     "collapsed": false,
     "input": [
      "import pyradi.ryutils as ryutils\n",
      "import pyradi.ryplanck as ryplanck\n",
      "wavelength = np.linspace(0.1, 7, 305).reshape(-1, 1)\n",
      "detector = ryutils.responsivity(wavelength, 6.1, 1, 15, 1.0)\n",
      "temperatures = np.linspace(280, 1000, 41)\n",
      "spectralBaseline = ryplanck.planck(wavelength,temperatures,'el') / np.pi\n",
      "_, detVar = np.meshgrid(temperatures, detector)\n",
      "spectralWeighted = spectralBaseline * detVar\n",
      "inbandRadiance = np.trapz(spectralWeighted, wavelength, axis=0 )\n",
      "\n",
      "p = ryplot.Plotter(2,1,3,figsize=(18,4))\n",
      "p.plot(1,wavelength,detector,'Detector responsivity','Wavelength $\\mu$m', 'Responsivity A/W',pltaxis=[0.5,7,0,0.8])\n",
      "p.plot(2,temperatures,inbandRadiance,'Inband radiance vs temperature','Temperature K', 'Inband radiance W/(m$^2$.sr)')"
     ],
     "language": "python",
     "metadata": {},
     "outputs": [
      {
       "metadata": {},
       "output_type": "pyout",
       "prompt_number": 52,
       "text": [
        "<matplotlib.axes._subplots.AxesSubplot at 0x90ec530>"
       ]
      },
      {
       "metadata": {},
       "output_type": "display_data",
       "png": "[encoded data removed]",
       "text": [
        "<matplotlib.figure.Figure at 0x90ecd10>"
       ]
      }
     ],
     "prompt_number": 52
    },
    {
     "cell_type": "heading",
     "level": 2,
     "metadata": {},
     "source": [
      "Overflow errors in Numpy"
     ]
    },
    {
     "cell_type": "markdown",
     "metadata": {},
     "source": [
      "Thanks to Bertus Theron for this input.\n",
      "\n",
      "I refer to the fact that neither exception nor warning is raised by Numpy when an integer overflow is encountered in the example:\n"
     ]
    },
    {
     "cell_type": "code",
     "collapsed": false,
     "input": [
      "#Calculation without neither receiving warning nor exception encountered\n",
      "a = np.array( [400,  300], dtype = np.int32 )\n",
      "a**4\n",
      "#note that IPython does warn you"
     ],
     "language": "python",
     "metadata": {},
     "outputs": [
      {
       "ename": "FloatingPointError",
       "evalue": "invalid value encountered in power",
       "output_type": "pyerr",
       "traceback": [
        "\u001b[1;31m---------------------------------------------------------------------------\u001b[0m\n\u001b[1;31mFloatingPointError\u001b[0m                        Traceback (most recent call last)",
        "\u001b[1;32m<ipython-input-13-2ccd301c95ab>\u001b[0m in \u001b[0;36m<module>\u001b[1;34m()\u001b[0m\n\u001b[0;32m      1\u001b[0m \u001b[1;31m#Calculation without neither receiving warning nor exception encountered\u001b[0m\u001b[1;33m\u001b[0m\u001b[1;33m\u001b[0m\u001b[0m\n\u001b[0;32m      2\u001b[0m \u001b[0ma\u001b[0m \u001b[1;33m=\u001b[0m \u001b[0mnp\u001b[0m\u001b[1;33m.\u001b[0m\u001b[0marray\u001b[0m\u001b[1;33m(\u001b[0m \u001b[1;33m[\u001b[0m\u001b[1;36m400\u001b[0m\u001b[1;33m,\u001b[0m  \u001b[1;36m300\u001b[0m\u001b[1;33m]\u001b[0m\u001b[1;33m,\u001b[0m \u001b[0mdtype\u001b[0m \u001b[1;33m=\u001b[0m \u001b[0mnp\u001b[0m\u001b[1;33m.\u001b[0m\u001b[0mint32\u001b[0m \u001b[1;33m)\u001b[0m\u001b[1;33m\u001b[0m\u001b[0m\n\u001b[1;32m----> 3\u001b[1;33m \u001b[0ma\u001b[0m\u001b[1;33m**\u001b[0m\u001b[1;36m4\u001b[0m\u001b[1;33m\u001b[0m\u001b[0m\n\u001b[0m\u001b[0;32m      4\u001b[0m \u001b[1;31m#note that IPython does warn you\u001b[0m\u001b[1;33m\u001b[0m\u001b[1;33m\u001b[0m\u001b[0m\n",
        "\u001b[1;31mFloatingPointError\u001b[0m: invalid value encountered in power"
       ]
      }
     ],
     "prompt_number": 13
    },
    {
     "cell_type": "markdown",
     "metadata": {},
     "source": [
      "How to make Numpy raise an exception for the same calculation"
     ]
    },
    {
     "cell_type": "code",
     "collapsed": false,
     "input": [
      "np.seterr( invalid='raise' )\n",
      "a**4"
     ],
     "language": "python",
     "metadata": {},
     "outputs": [
      {
       "ename": "FloatingPointError",
       "evalue": "invalid value encountered in power",
       "output_type": "pyerr",
       "traceback": [
        "\u001b[1;31m---------------------------------------------------------------------------\u001b[0m\n\u001b[1;31mFloatingPointError\u001b[0m                        Traceback (most recent call last)",
        "\u001b[1;32m<ipython-input-14-970153a59d58>\u001b[0m in \u001b[0;36m<module>\u001b[1;34m()\u001b[0m\n\u001b[0;32m      1\u001b[0m \u001b[0mnp\u001b[0m\u001b[1;33m.\u001b[0m\u001b[0mseterr\u001b[0m\u001b[1;33m(\u001b[0m \u001b[0minvalid\u001b[0m\u001b[1;33m=\u001b[0m\u001b[1;34m'raise'\u001b[0m \u001b[1;33m)\u001b[0m\u001b[1;33m\u001b[0m\u001b[0m\n\u001b[1;32m----> 2\u001b[1;33m \u001b[0ma\u001b[0m\u001b[1;33m**\u001b[0m\u001b[1;36m4\u001b[0m\u001b[1;33m\u001b[0m\u001b[0m\n\u001b[0m",
        "\u001b[1;31mFloatingPointError\u001b[0m: invalid value encountered in power"
       ]
      }
     ],
     "prompt_number": 14
    },
    {
     "cell_type": "markdown",
     "metadata": {},
     "source": [
      "The default NumPy error handling setting is: invalid = \"warn\"  \n",
      "I notice that this warning is correctly trapped for scalar NumPy integers and for single-element NumPy arrays,\n",
      "BUT not trapped for NumPy arrays with 2 or more elements. \n",
      "\n",
      "Regarding numpy.seterr(), the NumPy documentation says  \n",
      "\n",
      "      numpy.seterr(all=None, divide=None, over=None, under=None, invalid=None)[source]\n",
      "       Set how floating-point errors are handled.\n",
      "and  \n",
      "\n",
      "      Note that operations on integer scalar types (such as int16) are handled like floating point, and are affected by these settings.\n",
      " "
     ]
    },
    {
     "cell_type": "code",
     "collapsed": false,
     "input": [],
     "language": "python",
     "metadata": {},
     "outputs": []
    },
    {
     "cell_type": "heading",
     "level": 2,
     "metadata": {},
     "source": [
      "Algebraic Manipulation with SymPy"
     ]
    },
    {
     "cell_type": "markdown",
     "metadata": {},
     "source": [
      "SymPy performs symbolic mathematical manipulation and evaluation.  The output from SymPy can be displayed in the IPython notebook. \n",
      "\n",
      "<http://nbviewer.ipython.org/github/jrjohansson/scientific-python-lectures/blob/master/Lecture-5-Sympy.ipynb>  \n",
      "<http://docs.sympy.org/dev/tutorial/printing.html>  \n",
      "<https://stackoverflow.com/questions/19470796/ipython-notebook-output-latex-or-mathjax>  "
     ]
    },
    {
     "cell_type": "code",
     "collapsed": false,
     "input": [
      "from sympy import *\n",
      "init_printing()\n",
      "e0 = Symbol('e0')\n",
      "e1 = Symbol('e1')\n",
      "a = e1 ** 2 * (1- e0) - e0 ** 2 * (1 - e1) + \\\n",
      "     (e1**2-e0**2)*(1-e0) *(1-e1)/ (1-(1-e0)*(1-e1))\n",
      "b = a.simplify()\n",
      "print((latex(b)))"
     ],
     "language": "python",
     "metadata": {},
     "outputs": [
      {
       "output_type": "stream",
       "stream": "stdout",
       "text": [
        "\\frac{1}{e_{0} e_{1} - e_{0} - e_{1}} \\left(e_{0}^{3} e_{1}^{2} - e_{0}^{3} e_{1} - e_{0}^{2} e_{1}^{3} + e_{0}^{2} + e_{0} e_{1}^{3} - e_{1}^{2}\\right)\n"
       ]
      }
     ],
     "prompt_number": 53
    },
    {
     "cell_type": "code",
     "collapsed": false,
     "input": [
      "# interactive.printing.init_printing(use_latex=True)\n",
      "a"
     ],
     "language": "python",
     "metadata": {},
     "outputs": [
      {
       "latex": [
        "$$- e_{0}^{2} \\left(- e_{1} + 1\\right) + e_{1}^{2} \\left(- e_{0} + 1\\right) + \\frac{\\left(- e_{0} + 1\\right) \\left(- e_{0}^{2} + e_{1}^{2}\\right) \\left(- e_{1} + 1\\right)}{- \\left(- e_{0} + 1\\right) \\left(- e_{1} + 1\\right) + 1}$$"
       ],
       "metadata": {},
       "output_type": "pyout",
       "png": "[encoded data removed]",
       "prompt_number": 54,
       "text": [
        "                                            \u239b    2     2\u239e          \n",
        "    2               2             (-e\u2080 + 1)\u22c5\u239d- e\u2080  + e\u2081 \u23a0\u22c5(-e\u2081 + 1)\n",
        "- e\u2080 \u22c5(-e\u2081 + 1) + e\u2081 \u22c5(-e\u2080 + 1) + \u2500\u2500\u2500\u2500\u2500\u2500\u2500\u2500\u2500\u2500\u2500\u2500\u2500\u2500\u2500\u2500\u2500\u2500\u2500\u2500\u2500\u2500\u2500\u2500\u2500\u2500\u2500\u2500\u2500\u2500\u2500\u2500\u2500\n",
        "                                       -(-e\u2080 + 1)\u22c5(-e\u2081 + 1) + 1    "
       ]
      }
     ],
     "prompt_number": 54
    },
    {
     "cell_type": "code",
     "collapsed": false,
     "input": [
      "b"
     ],
     "language": "python",
     "metadata": {},
     "outputs": [
      {
       "latex": [
        "$$\\frac{1}{e_{0} e_{1} - e_{0} - e_{1}} \\left(e_{0}^{3} e_{1}^{2} - e_{0}^{3} e_{1} - e_{0}^{2} e_{1}^{3} + e_{0}^{2} + e_{0} e_{1}^{3} - e_{1}^{2}\\right)$$"
       ],
       "metadata": {},
       "output_type": "pyout",
       "png": "[encoded data removed]",
       "prompt_number": 55,
       "text": [
        "  3   2     3        2   3     2        3     2\n",
        "e\u2080 \u22c5e\u2081  - e\u2080 \u22c5e\u2081 - e\u2080 \u22c5e\u2081  + e\u2080  + e\u2080\u22c5e\u2081  - e\u2081 \n",
        "\u2500\u2500\u2500\u2500\u2500\u2500\u2500\u2500\u2500\u2500\u2500\u2500\u2500\u2500\u2500\u2500\u2500\u2500\u2500\u2500\u2500\u2500\u2500\u2500\u2500\u2500\u2500\u2500\u2500\u2500\u2500\u2500\u2500\u2500\u2500\u2500\u2500\u2500\u2500\u2500\u2500\u2500\u2500\u2500\u2500\u2500\u2500\n",
        "                e\u2080\u22c5e\u2081 - e\u2080 - e\u2081                "
       ]
      }
     ],
     "prompt_number": 55
    },
    {
     "cell_type": "heading",
     "level": 2,
     "metadata": {},
     "source": [
      "PYTHONPATH and Executing Python Scripts"
     ]
    },
    {
     "cell_type": "markdown",
     "metadata": {},
     "source": [
      "The PYTHONPATH environmental variable tells python where to look for modules when importing, _it does not define the path to a *.py script to be executed_.  If you have a module in a directory outside the standard Python install directory (e.g., an experimental module in your $HOME directory), add the path to the module to the PYTHONPATH environmental variable.  The general advice is to not change the environmental variable permanently on operating system level, because of potential conflicts with other installed packages.\n",
      "\n",
      "###Adding to PYTHONPATH for the current session only\n",
      "From inside Python execute the following command to add a new path to your current PYTHONPATH, which will not add the path permanently:   \n",
      "\n",
      "    import sys\n",
      "    sys.path.append('/path/to/your/python/module')\n",
      "\n",
      "To insert your new path at the front of PYTHONPATH (useful if you want to look in your local directories first, overriding existing installs):  \n",
      "\n",
      "    sys.path.insert(0,'/path/to/your/python/module') \n",
      "\n",
      "To get a list of the paths currently in PYTHONPATH:  \n",
      "\n",
      "    import sys\n",
      "    print(sys.path)\n",
      "\n",
      "###Adding to PYTHONPATH permanently for all sessions\n",
      "If you are using/developing a module that is not located in `.../site-packages/`, but you want a path to the module on a more permanent basis in your PYTHONPATH, use a path configuration file.  Path configuration files are usually placed in the `.../site-packages/` directory (or a few other places) and can have any name, but with an extension of .pth.\n",
      "Each line must contain a single path that will be appended to sys.path. New paths are _appended_ to sys.path, modules in the added directories will not override standard modules.\n",
      "\n",
      "It is not clear from the documentation, but the paths to the modules listed in the pht file must be _relative_ to one of the site packages directories. These directories are where Python would look for modules.  Absolute paths do not seem to work (at least on Windows, the are Linux examples that do have absolute paths).  If your module is located on the same disk as `.../site-packages/`, then it appears necessary to provide a path relative to this `.../site-packages/`, i.e., something like `../../../pathtomodule`.  If the module is not on the same disk/drive as `.../site-packages/`, you should probably set up a secondary site-packages directory on the other disk (using `addsitedir`).\n",
      "\n",
      "\n",
      "<https://docs.python.org/2/library/site.html>  \n",
      "<https://docs.python.org/2/library/site.html#site.USER_SITE>  \n",
      "<https://docs.python.org/2/install/>  \n",
      "<https://stackoverflow.com/questions/15208615/using-pth-files>  \n",
      "<http://bob.ippoli.to/archives/2005/02/06/using-pth-files-for-python-development/>  \n",
      "<https://groups.google.com/a/continuum.io/forum/#!topic/anaconda/RO_h0wD7sKE>  \n",
      "<https://stackoverflow.com/questions/10693706/creating-a-secondary-site-packages-directory-and-loading-packages-from-pth-fil>  \n",
      "<https://stackoverflow.com/questions/19914527/using-python-pth-files-assuming-no-access-to-site-packages-directory>  \n",
      "<https://docs.python.org/2/library/site.html#site.addsitedir>  \n",
      "\n",
      "\n",
      "###Anaconda  \n",
      "Use any of the above methods  \n",
      "https://stackoverflow.com/questions/17386880/does-anaconda-create-a-separate-pythonpath-variable-for-each-new-environment  \n",
      "\n",
      "###Canopy \n",
      "Canopy users please see this  \n",
      "<https://support.enthought.com/entries/23665767-How-do-I-set-PYTHONPATH-and-other-environment-variables-for-Canopy->   \n",
      "\n",
      "###General information:  \n",
      "<https://stackoverflow.com/questions/19917492/how-to-use-pythonpath>  \n",
      "<https://stackoverflow.com/questions/4580101/python-add-pythonpath-during-command-line-module-run>  \n",
      "<http://www.stereoplex.com/blog/understanding-imports-and-pythonpath>  \n",
      "<https://stackoverflow.com/questions/1489599/how-do-i-find-out-my-python-path-using-python>  \n",
      "<http://users-cs.au.dk/chili/PBI/pythonpath.html>\n",
      "http://docs.continuum.io/anaconda/ide_integration.html  "
     ]
    },
    {
     "cell_type": "code",
     "collapsed": false,
     "input": [
      "import sys\n",
      "print(sys.path)"
     ],
     "language": "python",
     "metadata": {},
     "outputs": [
      {
       "output_type": "stream",
       "stream": "stdout",
       "text": [
        "['', 'C:\\\\Anaconda\\\\lib\\\\site-packages\\\\docopt-0.6.2-py2.7.egg', 'C:\\\\Anaconda\\\\python27.zip', 'C:\\\\Anaconda\\\\DLLs', 'C:\\\\Anaconda\\\\lib', 'C:\\\\Anaconda\\\\lib\\\\plat-win', 'C:\\\\Anaconda\\\\lib\\\\lib-tk', 'C:\\\\Anaconda', 'c:\\\\anaconda\\\\lib\\\\site-packages\\\\runipy-0.1.1-py2.7.egg', 'c:\\\\anaconda\\\\lib\\\\site-packages\\\\setuptools-5.8-py2.7.egg', 'C:\\\\Anaconda\\\\lib\\\\site-packages', 'C:\\\\Anaconda\\\\lib\\\\site-packages\\\\PIL', 'C:\\\\Anaconda\\\\lib\\\\site-packages\\\\Sphinx-1.2.3-py2.7.egg', 'W:\\\\MyApps\\\\pyradi', 'C:\\\\Anaconda\\\\lib\\\\site-packages\\\\win32', 'C:\\\\Anaconda\\\\lib\\\\site-packages\\\\win32\\\\lib', 'C:\\\\Anaconda\\\\lib\\\\site-packages\\\\Pythonwin', 'C:\\\\Anaconda\\\\lib\\\\site-packages\\\\IPython\\\\extensions']\n"
       ]
      }
     ],
     "prompt_number": 56
    },
    {
     "cell_type": "markdown",
     "metadata": {},
     "source": [
      "###Executing a Python script from any directory\n",
      "\n",
      "To execute a python script from anywhere on your system, use the PATH environmental variable.\n",
      "\n",
      "**On Linux:**  \n",
      "Add your script path to the system's PATH environmental variable:  \n",
      "\n",
      "    export PATH=$PATH:/home/user/path/to/python/script.py  \n",
      "\n",
      "Add the following line as the first line (shebang line) of the script to tell Linux which interpreter to use:  \n",
      "\n",
      "    #!/usr/bin/env python\n",
      " \n",
      "Set up the script as an executable:   \n",
      "\n",
      "    chmod +x /home/user/path/to/python/script.py\n",
      "\n",
      "<https://stackoverflow.com/questions/19917492/how-to-use-pythonpath>  \n",
      "\n",
      "**On Windows:**  \n",
      "Add the path to your script to your user or system PATH environmental variable. The [Rapid Environment Editor](http://www.rapidee.com/en/about) tool makes it very easy.  Once the path is set up, you can just double click on the script or run it in a command window."
     ]
    },
    {
     "cell_type": "heading",
     "level": 2,
     "metadata": {},
     "source": [
      "Python and [module versions, and dates](http://nbviewer.ipython.org/github/jrjohansson/scientific-python-lectures/blob/master/Lecture-0-Scientific-Computing-with-Python.ipynb)"
     ]
    },
    {
     "cell_type": "code",
     "collapsed": false,
     "input": [
      "%load_ext version_information\n",
      "%version_information numpy, scipy, matplotlib, pyradi, sympy"
     ],
     "language": "python",
     "metadata": {},
     "outputs": [
      {
       "html": [
        "<table><tr><th>Software</th><th>Version</th></tr><tr><td>Python</td><td>2.7.8 32bit [MSC v.1500 32 bit (Intel)]</td></tr><tr><td>IPython</td><td>2.2.0</td></tr><tr><td>OS</td><td>Windows 7 6.1.7601 SP1</td></tr><tr><td>numpy</td><td>1.9.0</td></tr><tr><td>scipy</td><td>0.14.0</td></tr><tr><td>matplotlib</td><td>1.4.0</td></tr><tr><td>pyradi</td><td>0.1.54</td></tr><tr><td>sympy</td><td>0.7.5</td></tr><tr><td colspan='2'>Mon Feb 16 21:52:53 2015 South Africa Standard Time</td></tr></table>"
       ],
       "json": [
        "{\"Software versions\": [{\"version\": \"2.7.8 32bit [MSC v.1500 32 bit (Intel)]\", \"module\": \"Python\"}, {\"version\": \"2.2.0\", \"module\": \"IPython\"}, {\"version\": \"Windows 7 6.1.7601 SP1\", \"module\": \"OS\"}, {\"version\": \"1.9.0\", \"module\": \"numpy\"}, {\"version\": \"0.14.0\", \"module\": \"scipy\"}, {\"version\": \"1.4.0\", \"module\": \"matplotlib\"}, {\"version\": \"0.1.54\", \"module\": \"pyradi\"}, {\"version\": \"0.7.5\", \"module\": \"sympy\"}]}"
       ],
       "latex": [
        "\\begin{tabular}{|l|l|}\\hline\n",
        "{\\bf Software} & {\\bf Version} \\\\ \\hline\\hline\n",
        "Python & 2.7.8 32bit [MSC v.1500 32 bit (Intel)] \\\\ \\hline\n",
        "IPython & 2.2.0 \\\\ \\hline\n",
        "OS & Windows 7 6.1.7601 SP1 \\\\ \\hline\n",
        "numpy & 1.9.0 \\\\ \\hline\n",
        "scipy & 0.14.0 \\\\ \\hline\n",
        "matplotlib & 1.4.0 \\\\ \\hline\n",
        "pyradi & 0.1.54 \\\\ \\hline\n",
        "sympy & 0.7.5 \\\\ \\hline\n",
        "\\hline \\multicolumn{2}{|l|}{Mon Feb 16 21:52:53 2015 South Africa Standard Time} \\\\ \\hline\n",
        "\\end{tabular}\n"
       ],
       "metadata": {},
       "output_type": "pyout",
       "prompt_number": 57,
       "text": [
        "Software versions\n",
        "Python 2.7.8 32bit [MSC v.1500 32 bit (Intel)]\n",
        "IPython 2.2.0\n",
        "OS Windows 7 6.1.7601 SP1\n",
        "numpy 1.9.0\n",
        "scipy 0.14.0\n",
        "matplotlib 1.4.0\n",
        "pyradi 0.1.54\n",
        "sympy 0.7.5\n",
        "Mon Feb 16 21:52:53 2015 South Africa Standard Time"
       ]
      }
     ],
     "prompt_number": 57
    },
    {
     "cell_type": "code",
     "collapsed": false,
     "input": [],
     "language": "python",
     "metadata": {},
     "outputs": [],
     "prompt_number": 57
    }
   ],
   "metadata": {}
  }
 ]
}