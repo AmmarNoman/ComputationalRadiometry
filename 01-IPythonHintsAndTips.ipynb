{
 "cells": [
  {
   "cell_type": "markdown",
   "metadata": {},
   "source": [
    "# 1 Jupyter / IPython notebook hints and tips "
   ]
  },
  {
   "cell_type": "raw",
   "metadata": {},
   "source": []
  },
  {
   "cell_type": "markdown",
   "metadata": {},
   "source": [
    "This notebook forms part of a series on [computational optical radiometry](https://github.com/NelisW/ComputationalRadiometry#computational-optical-radiometry-with-pyradi).  The notebooks can be downloaded from [Github](https://github.com/NelisW/ComputationalRadiometry#computational-optical-radiometry-with-pyradi). These notebooks are constantly revised and updated, please revisit from time to time.  \n",
    "\n",
    "\n",
    "[<img src=\"https://zenodo.org/badge/doi/10.5281/zenodo.9910.png\"   align=\"left\"/>](http://dx.doi.org/10.5281/zenodo.9910)  \n"
   ]
  },
  {
   "cell_type": "markdown",
   "metadata": {},
   "source": [
    "The date of this document and module versions used in this document are given at the end of the file.  \n",
    "Feedback is appreciated: neliswillers at gmail dot com. "
   ]
  },
  {
   "cell_type": "markdown",
   "metadata": {},
   "source": [
    "# Jupyter and IPython"
   ]
  },
  {
   "cell_type": "markdown",
   "metadata": {},
   "source": [
    "From <http://ipython.org/>:\n",
    "\n",
    "\"IPython is a growing project, with increasingly language-agnostic components. IPython 3.x will be the last monolithic release of IPython, containing the notebook server, qtconsole, etc. The language-agnostic parts of the project: the notebook format, message protocol, qtconsole, notebook web application, etc. will move to new projects under the name [Jupyter](https://jupyter.org/). IPython itself will return to being focused on interactive Python, part of which will be providing a Python kernel for Jupyter. IPython 3.0 contains some indications of the project transition, including the logo in the notebook web UI being that of Jupyter.\"\n",
    "\n",
    "In this document, all references to IPython refer to the IPython kernel, running on top of Jupyter.\n",
    "\n",
    "IPython versions 2.x use the nbformat 3 file format.  \n",
    "IPython versions 3.x use the nbformat 4 file format.  \n",
    "To convert from nb4 to nb3 format (from with Jupyter IPython 3 installed) type:  \n",
    "\n",
    "    ipython nbconvert --to notebook --nbformat 3 mynotebook.ipynb\n",
    "\n",
    "\n",
    "\n",
    "<http://ipython.org/ipython-doc/3/notebook/nbformat.html#nbformat>  \n",
    "<http://ipython.org/ipython-doc/3/whatsnew/version3.html>  \n"
   ]
  },
  {
   "cell_type": "markdown",
   "metadata": {},
   "source": [
    "## <a name=\"Overview\"></a> Overview"
   ]
  },
  {
   "cell_type": "markdown",
   "metadata": {},
   "source": [
    "This notebook provides a brief summary of how to start up and use the IPython notebook.\n",
    "Introductions are given to magic commands, help functionality, using IPython for scientific work, cell memory, markdown, citations, embedding media files, and a few lesser used functions.\n"
   ]
  },
  {
   "cell_type": "code",
   "execution_count": 1,
   "metadata": {
    "collapsed": false
   },
   "outputs": [],
   "source": [
    "from IPython.display import display\n",
    "from IPython.display import Image\n",
    "from IPython.display import HTML"
   ]
  },
  {
   "cell_type": "markdown",
   "metadata": {},
   "source": [
    "Lorena Barba's [tutorial](https://github.com/barbagroup/jupyter-tutorial), see [this notebook](http://nbviewer.jupyter.org/github/barbagroup/jupyter-tutorial/blob/master/3--Jupyter%20like%20a%20pro.ipynb) for more detail on the Jupyter notebook."
   ]
  },
  {
   "cell_type": "markdown",
   "metadata": {},
   "source": [
    "## What is the IPython Notebook?\n",
    "\n",
    "See this web page, embedded right here, into the present notebook!  \n",
    "It may take a while to load, because it must first be compiled on the nbviewer web site."
   ]
  },
  {
   "cell_type": "code",
   "execution_count": 2,
   "metadata": {
    "collapsed": false
   },
   "outputs": [
    {
     "data": {
      "text/html": [
       "<iframe src=http://nbviewer.ipython.org/github/NelisW/ComputationalRadiometry/blob/master/01-IPythonHintsAndTips.ipynb  width=1000 height=400></iframe>"
      ],
      "text/plain": [
       "<IPython.core.display.HTML object>"
      ]
     },
     "execution_count": 2,
     "metadata": {},
     "output_type": "execute_result"
    }
   ],
   "source": [
    "HTML('<iframe src=http://nbviewer.ipython.org/github/NelisW/ComputationalRadiometry/blob/master/01-IPythonHintsAndTips.ipynb  width=1000 height=400></iframe>')"
   ]
  },
  {
   "cell_type": "markdown",
   "metadata": {},
   "source": [
    "## Why use the IPython notebook?\n",
    "\n",
    "<p><font size=\"3\" color=\"red\">The IPython notebook is an effective means to capture technical story lines or flow-of-thought; <br>being initially conceived as a lab book for science and technology investigations.  \n",
    "It is now also used for slides and as lecturing medium.\n",
    "</font>  </p>\n",
    "\n",
    "The IPython notebook can never replace formal documentation, at least in its present form. The notebook should also not be used as a primary software development environment. The notebook lives alongside other forms of documentation and coding. Having said that, there is a definate place for the IPython notebook in several environments such as engineering research and development, teaching, and scientific research and experimentation (which it was initially developed for). \n",
    "\n",
    "The IPython notebook is a very effective means to capture your work as you progress through an investigation comprising research, coding, and record keeping.  It is also an excellent way to develop slides or teaching material where one wants to combine code, text and results in a story-line. It is used widely in Python conferences and lectures. The notebook is also a convenient means to do homework assigments.\n",
    "\n",
    "<http://pgbovine.net/ipython-notebook-first-impressions.htm> - a nice workflow using notebooks.   \n",
    "<http://nbviewer.ipython.org/urls/raw.github.com/ellisonbg/talk-strata2013/master/StrataIPythonSlides.ipynb> - why use notebooks?  \n",
    "<http://nbviewer.ipython.org/> - gallery of notebooks  \n",
    "<https://github.com/ipython/ipython/wiki/A-gallery-of-interesting-IPython-Notebooks> - a gallery of notebooks  "
   ]
  },
  {
   "cell_type": "markdown",
   "metadata": {},
   "source": [
    "## Getting started in IPython\n",
    "\n",
    "During early 2015 the IPython 2.x tool was upgraded to IPython 3.0. When installing, use the latest version you can find.\n",
    "\n",
    "If you installed the Anaconda Python distribution (<http://docs.continuum.io/anaconda/install.html>), it alredy has IPython, no need to download it.\n",
    "\n",
    "If you are not using Anaconda, follow the steps outlined on these sites:  \n",
    "<http://ipython.org/> - start here, download the latest version from here. <br>\n",
    "<http://ipython.org/ipython-doc/dev/interactive/notebook.html> - short and concise, up and running quickly.<br>\n",
    "<http://nbviewer.ipython.org/urls/raw.github.com/Unidata/tds-python-workshop/master/ipython-notebook.ipynb> - simple intro <br>\n",
    "<http://blog.safaribooksonline.com/2013/12/12/start-ipython-notebook/> linux install and general use instructions  \n",
    "\n",
    "<http://ipython.org/ipython-doc/stable/notebook/index.html>  The IPython notebook.  \n",
    "<http://www.astro.washington.edu/users/vanderplas/Astr599/notebooks/03_IPython_intro>\n",
    "\n"
   ]
  },
  {
   "cell_type": "markdown",
   "metadata": {},
   "source": [
    "## Setting up IPython to run Python 2.7 and Python 3.5 notebooks\n",
    "\n",
    "\n",
    "See [here[(http://localhost:8888/notebooks/WorkN/ComputationalRadiometry/02-PythonWhirlwindCheatSheet.ipynb#Multiple-versions-of-Python-in-the-Jupyter-notebook)\n",
    "how to set up Jupyter to support the Python 2.7 and Python 3.5 kernels in the same notebook server.\n"
   ]
  },
  {
   "cell_type": "markdown",
   "metadata": {},
   "source": [
    "## Working in a Command Window\n",
    "\n",
    "IPython must be started from a command window (in Windows) or a terminal console in Linux. If you use Linux, you already know how to do this.  If you are using Windows, and you don't know learn here:  \n",
    "<http://www.cs.princeton.edu/courses/archive/spr05/cos126/cmd-prompt.html>    \n",
    "<http://www.bleepingcomputer.com/tutorials/windows-command-prompt-introduction/>   \n",
    "\n",
    "IPython 2.x allows you to open notebooks only from the present directory (getcwd) and in nested subdirectories. So, open the command window somewhere where your notebooks can be reached from. \n",
    "\n",
    "This link will help you to create a context menu in Explorer to start a command window in a given directory:  \n",
    "<http://stackoverflow.com/questions/1077814/assigning-a-shortcut-to-open-cmd-here>  \n",
    "<https://stackoverflow.com/questions/60904/how-can-i-open-a-cmd-window-in-a-specific-location>  \n",
    "Scroll to the bottom of the pages.  Alternatively just download this file and double click on it:  \n",
    "<https://raw.githubusercontent.com/NelisW/ComputationalRadiometry/master/cmd-here/cmd-window-here.reg>  \n"
   ]
  },
  {
   "cell_type": "markdown",
   "metadata": {},
   "source": [
    "## Starting IPython"
   ]
  },
  {
   "cell_type": "markdown",
   "metadata": {},
   "source": [
    "### Command line"
   ]
  },
  {
   "cell_type": "markdown",
   "metadata": {},
   "source": [
    "IPython files are [json](http://www.json.org/)-format files, with the file extension `.ipynb`.\n",
    "\n",
    "After you installed IPython you must start the server in a command window.  The current version of IPython expects the notebook files to be in the same directory where it was started up (or below). So if you want to work in `c:\\myfiles` then change to that directory and start IPython in the required directory.\n",
    "\n",
    "Open a command window (DOS box), and create a directory where you want to work with the notebooks. Type the following commands in the command window (pressing Enter after each line):  \n",
    "`cd \\`   \n",
    "`mkdir myfiles`  [only do this the first time]   \n",
    "`cd c:\\myfiles`  \n",
    "The command window should now display `c:\\myfiles>`. Then type the following command (followed by Enter):   \n",
    "`ipython notebook `  \n"
   ]
  },
  {
   "cell_type": "markdown",
   "metadata": {},
   "source": [
    "### Serving IPython pages"
   ]
  },
  {
   "cell_type": "markdown",
   "metadata": {},
   "source": [
    "After a while IPython opens your web browser and display the IPython portal page.\n",
    "\n",
    "Side note on browsers:  Microsoft Internet Explorer does not run IPython very nicely.  Consider using Firefox or Chrome."
   ]
  },
  {
   "cell_type": "code",
   "execution_count": 3,
   "metadata": {
    "collapsed": false
   },
   "outputs": [
    {
     "data": {
      "image/png": "[encoded data removed]",
      "text/plain": [
       "<IPython.core.display.Image object>"
      ]
     },
     "metadata": {},
     "output_type": "display_data"
    }
   ],
   "source": [
    "display(Image(filename='images/portalpage.png'))"
   ]
  },
  {
   "cell_type": "markdown",
   "metadata": {},
   "source": [
    "\n",
    "IPython works by starting a web server on your PC and then serving pages from this server.  This web server has an IP address of `127.0.0.1` (localhost), on port `8888`, i.e., browser address `127.0.0.1:8888` or `localhost:8888`.  You can at any time open a new browser tab and enter this address and the server portal page should appear. This is sometimes convenient when you close all IPython tabs in the browser, but the server is still running."
   ]
  },
  {
   "cell_type": "code",
   "execution_count": 4,
   "metadata": {
    "collapsed": false
   },
   "outputs": [
    {
     "data": {
      "image/png": "[encoded data removed]",
      "text/plain": [
       "<IPython.core.display.Image object>"
      ]
     },
     "metadata": {},
     "output_type": "display_data"
    }
   ],
   "source": [
    "display(Image(filename='images/ipaddress.png'))"
   ]
  },
  {
   "cell_type": "markdown",
   "metadata": {},
   "source": [
    "You can see all the IPython options by typing `ipython --help`."
   ]
  },
  {
   "cell_type": "markdown",
   "metadata": {},
   "source": [
    "## Starting more than one IPython notebook server\n",
    "\n",
    "From the manual: \"You can start more than one notebook server at the same time, if you want to work on notebooks in different directories. By default the first notebook server starts on port 8888, and later notebook servers search for ports near that one. You can also manually specify the port with the --port option.\"\n",
    "\n",
    "<http://ipython.org/ipython-doc/dev/interactive/notebook.html#starting-the-notebook-server>"
   ]
  },
  {
   "cell_type": "markdown",
   "metadata": {},
   "source": [
    "## IPython notebook security"
   ]
  },
  {
   "cell_type": "markdown",
   "metadata": {},
   "source": [
    "The IPython notebook server acts as a generic file server for files inside the same tree as your notebooks. Access is not granted _outside_ the notebook folder so you have strict control over what files are visible. It is recommended that you do not run the notebook server with a notebook directory at a high level in your filesystem (e.g. your home directory).\n",
    "\n",
    "When you run the notebook in a password-protected manner, local file access is restricted to authenticated users unless read-only views are active.\n",
    "\n",
    "**More information is required here**"
   ]
  },
  {
   "cell_type": "markdown",
   "metadata": {},
   "source": [
    "## Live Connection to the Internet\n",
    "\n",
    "IPython uses MathJax to render LaTeX, as in $y=ax^2+bx+c$. The default mode is to access MathJax online, live, as you are working. This means that you must be working on a PC connected to the internet in order to render LaTeX. This is only required when LaTeX rendering is requested, otherwise you don't need internet access. Once the LaTeX is rendered it is embedded as an image in the document and you do not need to be connected to MathJax to view the previously rendered image.  \n",
    "\n",
    "One catch is that if you live behind a server that requires you to authenticate before logging in to the internet, this means that you must authenticate your internet access prior to starting the ipython server."
   ]
  },
  {
   "cell_type": "markdown",
   "metadata": {},
   "source": [
    "## IPython and your Firewall\n",
    "\n",
    "If IPython does not work, it may be because your antivirus software or firewall prevents it from working.   The firewall might not be set up to grant execution rights to the default IPython notebook server operating 127.0.0.1:8888.  In this case the cells will simply not execute, with no warning. You don't receive any output in from the cells."
   ]
  },
  {
   "cell_type": "markdown",
   "metadata": {},
   "source": [
    "### Using `localhost` to bypass the firewall\n",
    "\n",
    "This approach does not require any changes to your firewall. Some firewalls are set up to grant `localhost` execution rights.  In this case the server can be started with the command  \n",
    "`ipython notebook --ip=localhost`  \n",
    "\n",
    "\n",
    "Once started, the pages are served from   \n",
    "`http://localhost:8888/`  \n",
    "and not from ` http://127.0.0.1:8888/`.\n"
   ]
  },
  {
   "cell_type": "markdown",
   "metadata": {},
   "source": [
    "### Setting up the Sophos firewall"
   ]
  },
  {
   "cell_type": "markdown",
   "metadata": {},
   "source": [
    "Here is a description of how to fix this for Sophos - it may be necessary to do this after each reboot. Other firewalls will have similar functionality.\n",
    "\n",
    "Sophos blocks the browser to not allows execution of code as is required by ipython. To enable the browser ipython functionality change the authorisation on your local loopback IP address 127.0.0.1.\n",
    "\n",
    "*For this to work, you must have Administrator rights, or at least belong to the Admin group (call your ICT sysadmin if you don't have these rights.* Start by opening the Sophos application from the system tray by right-clicking on the S-shield icon and selecting the"
   ]
  },
  {
   "cell_type": "code",
   "execution_count": 5,
   "metadata": {
    "collapsed": false
   },
   "outputs": [
    {
     "data": {
      "image/png": "[encoded data removed]",
      "text/plain": [
       "<IPython.core.display.Image object>"
      ]
     },
     "metadata": {},
     "output_type": "display_data"
    }
   ],
   "source": [
    "display(Image(filename='images/sophos01.png'))"
   ]
  },
  {
   "cell_type": "markdown",
   "metadata": {},
   "source": [
    "Once in the Sophos control panel, select the following menu option \n",
    "`<Configure><Anti-virus><Authorization...>.`\n",
    "The following window should appear:"
   ]
  },
  {
   "cell_type": "code",
   "execution_count": 6,
   "metadata": {
    "collapsed": false
   },
   "outputs": [
    {
     "data": {
      "image/png": "[encoded data removed]",
      "text/plain": [
       "<IPython.core.display.Image object>"
      ]
     },
     "metadata": {},
     "output_type": "display_data"
    }
   ],
   "source": [
    "display(Image(filename='images/sophos02.png'))"
   ]
  },
  {
   "cell_type": "markdown",
   "metadata": {},
   "source": [
    "If the 127.0.0.1 loopback IP address does not appear in the list, add it as shown above.\n",
    "\n",
    "Now close any ipython notebooks that you have, also the page at 127.0.0.1:8888. Close the command window and re-open a new one.  Open a new tab and enter the local address 127.0.0.1:8888. This should display the notebooks in the current directory and once opened, they should work."
   ]
  },
  {
   "cell_type": "markdown",
   "metadata": {},
   "source": [
    "## Starting a new notebook\n",
    "\n",
    "To create a new page click on the `New Notebook` button on the IPython notebook portal.\n",
    "\n",
    "You can also make a copy of an existing notebook by selecting the appropriate menu option under the `File` menu."
   ]
  },
  {
   "cell_type": "code",
   "execution_count": 7,
   "metadata": {
    "collapsed": false
   },
   "outputs": [
    {
     "data": {
      "image/png": "[encoded data removed]",
      "text/plain": [
       "<IPython.core.display.Image object>"
      ]
     },
     "metadata": {},
     "output_type": "display_data"
    }
   ],
   "source": [
    "display(Image(filename='images/ipython-newnotebook.png'))"
   ]
  },
  {
   "cell_type": "markdown",
   "metadata": {},
   "source": [
    "## Notebook cells"
   ]
  },
  {
   "cell_type": "markdown",
   "metadata": {},
   "source": [
    "The notebook comprises a 'behind-the-scene' kernel that does all the processing and a 'front-man' rendering in the browser window.  It is important to understand that the web page browser does very little work, it only renders the information under instruction from the kernel.  The kernel contains all the code, text and data.\n",
    "\n",
    "The notebook consists of a number of cells which can contain code, text or other information. Each cell is 'executed' or 'run' by clicking on the cell and pressing the Shift-Enter key combination.  Cells can also be run in sequence from the Cell menu entry.  Running a cell does at least two things: (1) the cell changes/updates its data in the kernel and (2) the updated data is rendered in the browser window.\n",
    "\n",
    "Writing the notebook becomes the process of creating cells and adding text or code to the cell.\n",
    "\n",
    "Once created the cells must be executed. The cell execution must be in the order entered in the notebook (from start to end).  You can do this manually or use the menu entry to run all cells consecutively.\n",
    "\n",
    "It is possible and often done that cells are moved up or down, changing their location in the sequence.  When the cell sequence is changed you must keep track by executing the cells in their new locations.\n",
    "If the execution in strict sequence is not followed it can lead to all sorts of difficulties, see <a href=\"#NotebooksRemember\">Notebooks Remember</a>"
   ]
  },
  {
   "cell_type": "markdown",
   "metadata": {},
   "source": [
    "## Saving and closing the Notebook"
   ]
  },
  {
   "cell_type": "markdown",
   "metadata": {},
   "source": [
    "The notebook is saved in its json format by saving from the IPython menu.  Click on the save button (leftmost button with the mouse-over message 'Save and Checkpoint') or select the `File Save and Checkpoint` menu option.\n",
    "\n",
    "The IPython notebook file is saved and closed by selecting the `File Close and Halt` menu option.\n",
    "\n",
    "Never use a Python `exit()` function in your notebook, because the notebook will interpret this as an exit to its own process, closing down the server."
   ]
  },
  {
   "cell_type": "markdown",
   "metadata": {},
   "source": [
    "## Converting the notebook to other formats\n"
   ]
  },
  {
   "cell_type": "markdown",
   "metadata": {},
   "source": [
    " ### IPython versions and notebook versions\n",
    " IPython version 2.x writes files in notebook format nbformat 3.  \n",
    " IPython version 3.x writes files in notebook format nbformat 4.  \n",
    " \n",
    " IPython 3 can read nbformat 3 files, converting on opening.  When saved the file will be in nbformat 4.\n",
    " \n",
    " To convert a file from nbformat 4 to nbformat 3, use the following command line command:\n",
    "    \n",
    "    ipython nbconvert --to notebook --nbformat 3 MyNotebook.ipynb \n",
    "    "
   ]
  },
  {
   "cell_type": "markdown",
   "metadata": {},
   "source": [
    "### IPython built-in conversion\n",
    "\n",
    "Starting from IPython 2, the notebook can be converted to a Python file (code with embedded comments), an HTML file or a ReST file. On the _File_ menu, use _Download as_.\n",
    "\n",
    "The notebook can also be saved to an HTML file by saving from your browser's menu. This saved HTML file is, however, not fully self-contained (images and JavaScript files are in a directory). So this is *not* the ideal way to save the file. "
   ]
  },
  {
   "cell_type": "code",
   "execution_count": 8,
   "metadata": {
    "collapsed": false
   },
   "outputs": [
    {
     "data": {
      "text/html": [
       "<img src=\"images/convertfile.png\" width=600 height=300/>"
      ],
      "text/plain": [
       "<IPython.core.display.HTML object>"
      ]
     },
     "execution_count": 8,
     "metadata": {},
     "output_type": "execute_result"
    }
   ],
   "source": [
    "HTML('<img src=\"images/convertfile.png\" width=600 height=300/>')"
   ]
  },
  {
   "cell_type": "markdown",
   "metadata": {},
   "source": [
    "### Command-line conversion"
   ]
  },
  {
   "cell_type": "markdown",
   "metadata": {},
   "source": [
    "On the command line IPython has a `convert` subcommand to convert from the IPython format to other  formats. In the command window, where the file is located type:  \n",
    "`ipython nbconvert filename.ipynb`  \n",
    "This will create a fully self-contained HTML file that you can print or mail as a single file.  The only problem is that HTML does not print very well, especially with large figures.\n",
    "\n",
    "The notebook can be converted to LaTeX and then compiled to a PDF format with the following command:  \n",
    "`ipython nbconvert --to latex --post filename.ipynb`  \n",
    "\n",
    "The LaTeX document style can be specified as follows:    \n",
    "`ipython nbconvert --to latex filename.ipynb --template=article`   \n",
    "once the tex document is ready run pdflatex:   \n",
    "`pdflatex filename.tex`    \n",
    "\n",
    "<http://ipython.org/ipython-doc/rel-1.0.0/interactive/nbconvert.html>    \n",
    "<http://blog.fperez.org/2012/09/blogging-with-ipython-notebook.html>    \n",
    "<http://nbviewer.ipython.org/url/www.damian.oquanta.info/posts/blogging-with-nikola-and-ipython.ipynb>   - blogging with Nikola  \n",
    "<http://www.slideviper.oquanta.info/tutorial/slideshow_tutorial_slides.html?transition=none#/>   - slides  \n",
    "<http://www.damian.oquanta.info/>   - a couple of links  \n",
    "<http://nbviewer.ipython.org/github/Carreau/posts/blob/master/06-NBconvert-Doc-Draft.ipynb> - using the nbconvert API  "
   ]
  },
  {
   "cell_type": "markdown",
   "metadata": {},
   "source": [
    "### <a id='LaTeX docs with template control'></a>LaTeX docs with template control"
   ]
  },
  {
   "cell_type": "markdown",
   "metadata": {},
   "source": [
    "The standard LaTeX converter does not provide good control over the style of the resultant document.  If you require better control of the document style look at my [ipnb2tex script](https://github.com/NelisW/ipynb2tex).  The script support floating figures and tables and citations.\n",
    "See this [PDF](https://github.com/NelisW/ipynb2tex/blob/master/test2LaTeX-wp.pdf?raw=true) for an example of the output from this converter.  Using this converter you can fully control the LaTeX template to achieve the document format you require.\n",
    "\n",
    "[Making publication ready Python Notebooks](http://blog.juliusschulz.de/blog/ultimate-ipython-notebook) provides very useful information on preparing notebooks such that it can be used for final publications.\n",
    "\n",
    "[Jupyter notebook extensions](https://github.com/ipython-contrib/IPython-notebook-extensions) contains a collection of extensions that add functionality to the Jupyter notebook.\n",
    "\n"
   ]
  },
  {
   "cell_type": "markdown",
   "metadata": {},
   "source": [
    "### High-quality graphics in LaTeX"
   ]
  },
  {
   "cell_type": "markdown",
   "metadata": {},
   "source": [
    "By default the Matplotlib backend for IPython generates png files.  The quality of these files are not all that good for publication.  LaTeX traditionally uses Encapsulated PostScript (eps) files for publications, or PDF files in PDFLaTeX.  It is possible to instruct the backend to render in Scalable Vector Graphics (svg) format by using:\n",
    "`%config InlineBackend.figure_format = 'svg'`  \n",
    "The svg file is, however, not rendereable in LaTeX and must be converted to PDF for use in PDFLaTeX.  In order to do the conversion you must have [Inkscape](http://www.inkscape.org/en/) on your PC (and on Windows the path to the inkscape executable must be on your PATH).  The nbconvert process will convert the svg files created by Matplotlib/IPython to PDF files using Inkscape on your PC.\n",
    "\n",
    "\n",
    "<http://ipython.org/ipython-doc/rel-1.0.0/interactive/nbconvert.html>  \n",
    "<https://stackoverflow.com/questions/19659864/ipython-nbconvert-and-latex-use-eps-instead-of-png-for-plots>  \n",
    "<https://stackoverflow.com/questions/19600234/nbconvert-pdf-latex-page-formatting-ipython>  \n",
    "<https://stackoverflow.com/questions/19524554/suppress-code-in-nbconvert-ipython>  \n",
    "\n",
    "\n"
   ]
  },
  {
   "cell_type": "markdown",
   "metadata": {},
   "source": [
    "## Notebook viewer on the internet"
   ]
  },
  {
   "cell_type": "markdown",
   "metadata": {},
   "source": [
    "There is a website [nbviewer.ipython.org/](http://nbviewer.ipython.org/) that will convert a notebook from ipynb format to html and display it in your browser.   Just browse over to <http://nbviewer.ipython.org/> and enter the URL of the notebook you want to view.\n",
    "\n",
    "A particularly useful feature of <http://nbviewer.ipython.org/> is that you can add the GitHub username of someone and then can view all the notebooks by that user.\n",
    "\n",
    "The `nbviewer` site keeps a cache of the most recently calculated version of your notebook. To force an updated calculation add this to the end of the URL:\n",
    "`?flush_cache=true`.\n",
    "\n",
    "Alternatively, you can build a composite URL such as follows to view a notebook. The following example shows this current notebook in the viewer.\n",
    "\n",
    "`HTML('<iframe src=http://nbviewer.ipython.org/github/NelisW/ComputationalRadiometry/blob/master/01-IPythonHintsAndTips.ipynb width=700 height=350></iframe>')`"
   ]
  },
  {
   "cell_type": "code",
   "execution_count": 9,
   "metadata": {
    "collapsed": false
   },
   "outputs": [
    {
     "data": {
      "text/html": [
       "<iframe src=http://nbviewer.ipython.org/github/NelisW/ComputationalRadiometry/blob/master/01-IPythonHintsAndTips.ipynb width=700 height=350></iframe>"
      ],
      "text/plain": [
       "<IPython.core.display.HTML object>"
      ]
     },
     "execution_count": 9,
     "metadata": {},
     "output_type": "execute_result"
    }
   ],
   "source": [
    "HTML('<iframe src=http://nbviewer.ipython.org/github/NelisW/ComputationalRadiometry/blob/master/01-IPythonHintsAndTips.ipynb width=700 height=350></iframe>')"
   ]
  },
  {
   "cell_type": "markdown",
   "metadata": {},
   "source": [
    "## Keyboard Shortcuts\n",
    "\n",
    "<p>Here is the complete set of keyboard shortcuts available:</p>\n",
    "\n",
    "<table  border=1 cellspacing=0 cellpadding=0>\n",
    " <tr>\n",
    "  <td width=90 >\n",
    "  <p><b><span >Shortcut</span></b></p>\n",
    "  </td>\n",
    "  <td width=169 >\n",
    "  <p   ><b><span\n",
    "  >Action</span></b></p>\n",
    "  </td>\n",
    "  <td width=28 valign=top >\n",
    "  <p   ><b><span\n",
    "  >&nbsp;</span></b></p>\n",
    "  </td>\n",
    "  <td width=132 >\n",
    "  <p   ><b><span\n",
    "  >Shortcut</span></b></p>\n",
    "  </td>\n",
    "  <td width=228 >\n",
    "  <p   ><b><span\n",
    "  >Action</span></b></p>\n",
    "  </td>\n",
    " </tr>\n",
    " <tr>\n",
    "  <td width=90 >\n",
    "  <p   ><span\n",
    "  >Shift-Enter</span></p>\n",
    "  </td>\n",
    "  <td width=169 >\n",
    "  <p   ><span\n",
    "  >run\n",
    "  cell</span></p>\n",
    "  </td>\n",
    "  <td width=28 valign=top >\n",
    "  <p   ><span\n",
    "  >&nbsp;</span></p>\n",
    "  </td>\n",
    "  <td width=132 >\n",
    "  <p   ><span\n",
    "  >Ctrl-m\n",
    "  l</span></p>\n",
    "  </td>\n",
    "  <td width=228 >\n",
    "  <p   ><span\n",
    "  >toggle\n",
    "  line numbers</span></p>\n",
    "  </td>\n",
    " </tr>\n",
    " <tr>\n",
    "  <td width=90 >\n",
    "  <p   ><span\n",
    "  >Ctrl-Enter</span></p>\n",
    "  </td>\n",
    "  <td width=169 >\n",
    "  <p   ><span\n",
    "  >run\n",
    "  cell in-place</span></p>\n",
    "  </td>\n",
    "  <td width=28 valign=top >\n",
    "  <p   ><span\n",
    "  >&nbsp;</span></p>\n",
    "  </td>\n",
    "  <td width=132 >\n",
    "  <p   ><span\n",
    "  >Ctrl-m\n",
    "  s</span></p>\n",
    "  </td>\n",
    "  <td width=228 >\n",
    "  <p   ><span\n",
    "  >save\n",
    "  notebook</span></p>\n",
    "  </td>\n",
    " </tr>\n",
    " <tr>\n",
    "  <td width=90 >\n",
    "  <p   ><span\n",
    "  >Alt-Enter</span></p>\n",
    "  </td>\n",
    "  <td width=169 >\n",
    "  <p   ><span\n",
    "  >run\n",
    "  cell, insert below</span></p>\n",
    "  </td>\n",
    "  <td width=28 valign=top >\n",
    "  <p   ><span\n",
    "  >&nbsp;</span></p>\n",
    "  </td>\n",
    "  <td width=132 >\n",
    "  <p   ><span\n",
    "  >Ctrl-m\n",
    "  j</span></p>\n",
    "  </td>\n",
    "  <td width=228 >\n",
    "  <p   ><span\n",
    "  >move\n",
    "  cell down</span></p>\n",
    "  </td>\n",
    " </tr>\n",
    " <tr>\n",
    "  <td width=90 >\n",
    "  <p   ><span\n",
    "  >Ctrl-m\n",
    "  x</span></p>\n",
    "  </td>\n",
    "  <td width=169 >\n",
    "  <p   ><span\n",
    "  >cut\n",
    "  cell</span></p>\n",
    "  </td>\n",
    "  <td width=28 valign=top >\n",
    "  <p   ><span\n",
    "  >&nbsp;</span></p>\n",
    "  </td>\n",
    "  <td width=132 >\n",
    "  <p   ><span\n",
    "  >Ctrl-m\n",
    "  k</span></p>\n",
    "  </td>\n",
    "  <td width=228 >\n",
    "  <p   ><span\n",
    "  >move\n",
    "  cell up</span></p>\n",
    "  </td>\n",
    " </tr>\n",
    " <tr>\n",
    "  <td width=90 >\n",
    "  <p   ><span\n",
    "  >Ctrl-m\n",
    "  c</span></p>\n",
    "  </td>\n",
    "  <td width=169 >\n",
    "  <p   ><span\n",
    "  >copy\n",
    "  cell</span></p>\n",
    "  </td>\n",
    "  <td width=28 valign=top >\n",
    "  <p   ><span\n",
    "  >&nbsp;</span></p>\n",
    "  </td>\n",
    "  <td width=132 >\n",
    "  <p   ><span\n",
    "  >Ctrl-m\n",
    "  y</span></p>\n",
    "  </td>\n",
    "  <td width=228 >\n",
    "  <p   ><span\n",
    "  >code\n",
    "  cell</span></p>\n",
    "  </td>\n",
    " </tr>\n",
    " <tr>\n",
    "  <td width=90 >\n",
    "  <p   ><span\n",
    "  >Ctrl-m\n",
    "  v</span></p>\n",
    "  </td>\n",
    "  <td width=169 >\n",
    "  <p   ><span\n",
    "  >paste\n",
    "  cell</span></p>\n",
    "  </td>\n",
    "  <td width=28 valign=top >\n",
    "  <p   ><span\n",
    "  >&nbsp;</span></p>\n",
    "  </td>\n",
    "  <td width=132 >\n",
    "  <p   ><span\n",
    "  >Ctrl-m\n",
    "  m</span></p>\n",
    "  </td>\n",
    "  <td width=228 >\n",
    "  <p   ><span\n",
    "  >markdown\n",
    "  cell</span></p>\n",
    "  </td>\n",
    " </tr>\n",
    " <tr>\n",
    "  <td width=90 >\n",
    "  <p   ><span\n",
    "  >Ctrl-m\n",
    "  d</span></p>\n",
    "  </td>\n",
    "  <td width=169 >\n",
    "  <p   ><span\n",
    "  >delete\n",
    "  cell</span></p>\n",
    "  </td>\n",
    "  <td width=28 valign=top >\n",
    "  <p   ><span\n",
    "  >&nbsp;</span></p>\n",
    "  </td>\n",
    "  <td width=132 >\n",
    "  <p   ><span\n",
    "  >Ctrl-m\n",
    "  t</span></p>\n",
    "  </td>\n",
    "  <td width=228 >\n",
    "  <p   ><span\n",
    "  >raw\n",
    "  cell</span></p>\n",
    "  </td>\n",
    " </tr>\n",
    " <tr>\n",
    "  <td width=90 >\n",
    "  <p   ><span\n",
    "  >Ctrl-m\n",
    "  z</span></p>\n",
    "  </td>\n",
    "  <td width=169 >\n",
    "  <p   ><span\n",
    "  >undo\n",
    "  last cell deletion</span></p>\n",
    "  </td>\n",
    "  <td width=28 valign=top >\n",
    "  <p   ><span\n",
    "  >&nbsp;</span></p>\n",
    "  </td>\n",
    "  <td width=132 >\n",
    "  <p   ><span\n",
    "  >Ctrl-m\n",
    "  1-6</span></p>\n",
    "  </td>\n",
    "  <td width=228 >\n",
    "  <p   ><span\n",
    "  >heading\n",
    "  1-6 cell</span></p>\n",
    "  </td>\n",
    " </tr>\n",
    " <tr>\n",
    "  <td width=90 >\n",
    "  <p   ><span\n",
    "  >Ctrl-m\n",
    "  -</span></p>\n",
    "  </td>\n",
    "  <td width=169 >\n",
    "  <p   ><span\n",
    "  >split\n",
    "  cell</span></p>\n",
    "  </td>\n",
    "  <td width=28 valign=top >\n",
    "  <p   ><span\n",
    "  >&nbsp;</span></p>\n",
    "  </td>\n",
    "  <td width=132 >\n",
    "  <p   ><span\n",
    "  >Ctrl-m\n",
    "  p</span></p>\n",
    "  </td>\n",
    "  <td width=228 >\n",
    "  <p   ><span\n",
    "  >select\n",
    "  previous</span></p>\n",
    "  </td>\n",
    " </tr>\n",
    " <tr>\n",
    "  <td width=90 >\n",
    "  <p   ><span\n",
    "  >Ctrl-m\n",
    "  a</span></p>\n",
    "  </td>\n",
    "  <td width=169 >\n",
    "  <p   ><span\n",
    "  >insert\n",
    "  cell above</span></p>\n",
    "  </td>\n",
    "  <td width=28 valign=top >\n",
    "  <p   ><span\n",
    "  >&nbsp;</span></p>\n",
    "  </td>\n",
    "  <td width=132 >\n",
    "  <p   ><span\n",
    "  >Ctrl-m\n",
    "  n</span></p>\n",
    "  </td>\n",
    "  <td width=228 >\n",
    "  <p   ><span\n",
    "  >select\n",
    "  next</span></p>\n",
    "  </td>\n",
    " </tr>\n",
    " <tr>\n",
    "  <td width=90 >\n",
    "  <p   ><span\n",
    "  >Ctrl-m\n",
    "  b</span></p>\n",
    "  </td>\n",
    "  <td width=169 >\n",
    "  <p   ><span\n",
    "  >insert\n",
    "  cell below</span></p>\n",
    "  </td>\n",
    "  <td width=28 valign=top >\n",
    "  <p   ><span\n",
    "  >&nbsp;</span></p>\n",
    "  </td>\n",
    "  <td width=132 >\n",
    "  <p   ><span\n",
    "  >Ctrl-m\n",
    "  i</span></p>\n",
    "  </td>\n",
    "  <td width=228 >\n",
    "  <p   ><span\n",
    "  >interrupt\n",
    "  kernel</span></p>\n",
    "  </td>\n",
    " </tr>\n",
    " <tr>\n",
    "  <td width=90 >\n",
    "  <p   ><span\n",
    "  >Ctrl-m\n",
    "  o</span></p>\n",
    "  </td>\n",
    "  <td width=169 >\n",
    "  <p   ><span\n",
    "  >toggle\n",
    "  output</span></p>\n",
    "  </td>\n",
    "  <td width=28 valign=top >\n",
    "  <p   ><span\n",
    "  >&nbsp;</span></p>\n",
    "  </td>\n",
    "  <td width=132 >\n",
    "  <p   ><span\n",
    "  >Ctrl-m\n",
    "  .</span></p>\n",
    "  </td>\n",
    "  <td width=228 >\n",
    "  <p   ><span\n",
    "  >restart\n",
    "  kernel</span></p>\n",
    "  </td>\n",
    " </tr>\n",
    " <tr>\n",
    "  <td width=90 >\n",
    "  <p   ><span\n",
    "  >Ctrl-m\n",
    "  O</span></p>\n",
    "  </td>\n",
    "  <td width=169 >\n",
    "  <p   ><span\n",
    "  >toggle\n",
    "  output scroll</span></p>\n",
    "  </td>\n",
    "  <td width=28 valign=top >\n",
    "  <p   ><span\n",
    "  >&nbsp;</span></p>\n",
    "  </td>\n",
    "  <td width=132 >\n",
    "  <p   ><span\n",
    "  >Ctrl-m\n",
    "  h</span></p>\n",
    "  </td>\n",
    "  <td width=228 >\n",
    "  <p   ><span\n",
    "  >show\n",
    "  keyboard shortcuts</span></p>\n",
    "  </td>\n",
    " </tr>\n",
    "</table>\n",
    "\n",
    "<http://ipython.org/ipython-doc/stable/interactive/notebook.html#keyboard-shortcuts>"
   ]
  },
  {
   "cell_type": "markdown",
   "metadata": {},
   "source": [
    "## Magics and System Commands\n",
    "\n",
    "IPython has a set of predefined 'magic functions' that you can call with a command line style syntax. There are two kinds of magics, line-oriented and cell-oriented. Line magics are prefixed with the % character and work much like OS command-line calls: they get as an argument the rest of the line, where arguments are passed without parentheses or quotes. Cell magics are prefixed with a double %%, and they are functions that get as an argument not only the rest of the line, but also the lines below it in a separate argument.\n",
    "\n",
    "<http://nbviewer.ipython.org/github/ipython/ipython/blob/master/examples/notebooks/Cell%20Magics.ipynb>  \n",
    "<http://ipython.org/ipython-doc/dev/interactive/tutorial.html#magic-functions>  \n",
    "<http://damontallen.github.io/IPython-quick-ref-sheets/>\n",
    "\n",
    "System commands (as you would normally type in a command window) can be executed by prepending with an exclamation mark."
   ]
  },
  {
   "cell_type": "code",
   "execution_count": 10,
   "metadata": {
    "collapsed": false
   },
   "outputs": [
    {
     "name": "stdout",
     "output_type": "stream",
     "text": [
      " Volume in drive V has no label.\n",
      " Volume Serial Number is 3725-4D86\n",
      "\n",
      " Directory of V:\\work\\WorkN\\ComputationalRadiometry\n",
      "\n",
      "2016/01/25  04:10 PM             2ÿ050 00-Pyradi-slides.ipynb\n",
      "2016/04/28  09:26 AM           536ÿ075 01-IPythonHintsAndTips.ipynb\n",
      "2016/04/25  08:56 AM           659ÿ033 02-PythonWhirlwindCheatSheet.ipynb\n",
      "2016/01/25  04:10 PM           822ÿ275 03-Introduction-to-Radiometry.ipynb\n",
      "2016/04/21  01:20 PM         1ÿ705ÿ410 04-IntroductionToComputationalRadiometryWithPyradi.ipynb\n",
      "2016/04/19  12:17 PM         1ÿ034ÿ946 05a-PlottingWithPyradi-GeneralAndCartesian.ipynb\n",
      "2016/04/19  09:39 AM         3ÿ677ÿ465 05b-PlottingWithPyradi-Polar-and-3D.ipynb\n",
      "2016/01/25  04:10 PM           139ÿ612 06-Diverse-pyradi-utilities.ipynb\n",
      "2016/02/19  02:29 PM           917ÿ420 07-Optical-Sources.ipynb\n",
      "2016/01/25  04:10 PM           456ÿ919 08-ModtranFileProcessing.ipynb\n",
      "2016/01/25  04:10 PM           201ÿ483 09-DetectorModelling.ipynb\n",
      "2016/04/25  08:57 AM         2ÿ781ÿ898 09b-StaringArrayDetectors.ipynb\n",
      "2016/02/08  09:16 AM           459ÿ025 10-ImageUtilities.ipynb\n",
      "2016/01/25  04:10 PM           260ÿ496 11-InfraredMeasurementAndAnalysis.ipynb\n",
      "2016/04/21  08:37 AM           295ÿ959 12a-FlameSensorAnalysis.ipynb\n",
      "2016/02/10  11:16 AM         3ÿ578ÿ540 12b-AlbedoDerivation.ipynb\n",
      "2016/04/25  08:57 AM         3ÿ642ÿ828 12c-AtmosphericEffectColourCoords.ipynb\n",
      "2016/01/25  04:10 PM           335ÿ679 12d-SpectralTemperatureEstimation.ipynb\n",
      "2016/02/03  12:37 PM         1ÿ100ÿ835 12e-Cloth-Targets.ipynb\n",
      "2016/04/06  08:31 AM           382ÿ135 12f-FOV-optimisation.ipynb\n",
      "2016/03/10  09:35 PM             2ÿ059 Untitled.ipynb\n",
      "2016/04/21  10:24 AM           548ÿ848 12g-Plume-texture.ipynb\n",
      "              22 File(s)     23ÿ540ÿ990 bytes\n",
      "               0 Dir(s)  74ÿ995ÿ007ÿ488 bytes free\n"
     ]
    }
   ],
   "source": [
    "import os\n",
    "# test to see if this is Linux or Windows\n",
    "if os.path == '/':\n",
    "    !ls *.ipynb\n",
    "else:\n",
    "    !dir *.ipynb"
   ]
  },
  {
   "cell_type": "markdown",
   "metadata": {},
   "source": [
    "There are 'magics' to support a number of other languages in the IPython notebook. From the [IPython notebook website](http://ipython.org/):\n",
    "\n",
    "\"We ship the official IPython kernel, but kernels for other languages such as Julia and Haskell are actively developed and used. Additionally, the IPython kernel supports multi-language integration, letting you for example mix Python code with Cython, R, Octave, and scripting in Bash, Perl or Ruby.\"\n",
    "\n",
    "<http://andrew.gibiansky.com/blog/ipython/ipython-kernels/>  \n",
    "<http://ipython.org/ipython-doc/stable/development/messaging.html>  \n",
    "\n",
    "\n"
   ]
  },
  {
   "cell_type": "markdown",
   "metadata": {},
   "source": [
    "## Magics for general use"
   ]
  },
  {
   "cell_type": "markdown",
   "metadata": {},
   "source": [
    "List all the magics currently available"
   ]
  },
  {
   "cell_type": "code",
   "execution_count": 11,
   "metadata": {
    "collapsed": false
   },
   "outputs": [
    {
     "data": {
      "application/json": {
       "cell": {
        "!": "OSMagics",
        "HTML": "Other",
        "SVG": "Other",
        "bash": "Other",
        "capture": "ExecutionMagics",
        "cmd": "Other",
        "debug": "ExecutionMagics",
        "file": "Other",
        "html": "DisplayMagics",
        "javascript": "DisplayMagics",
        "latex": "DisplayMagics",
        "perl": "Other",
        "prun": "ExecutionMagics",
        "pypy": "Other",
        "python": "Other",
        "python2": "Other",
        "python3": "Other",
        "ruby": "Other",
        "script": "ScriptMagics",
        "sh": "Other",
        "svg": "DisplayMagics",
        "sx": "OSMagics",
        "system": "OSMagics",
        "time": "ExecutionMagics",
        "timeit": "ExecutionMagics",
        "writefile": "OSMagics"
       },
       "line": {
        "alias": "OSMagics",
        "alias_magic": "BasicMagics",
        "autocall": "AutoMagics",
        "automagic": "AutoMagics",
        "autosave": "KernelMagics",
        "bookmark": "OSMagics",
        "cd": "OSMagics",
        "clear": "KernelMagics",
        "cls": "KernelMagics",
        "colors": "BasicMagics",
        "config": "ConfigMagics",
        "connect_info": "KernelMagics",
        "copy": "Other",
        "ddir": "Other",
        "debug": "ExecutionMagics",
        "dhist": "OSMagics",
        "dirs": "OSMagics",
        "doctest_mode": "BasicMagics",
        "echo": "Other",
        "ed": "Other",
        "edit": "KernelMagics",
        "env": "OSMagics",
        "gui": "BasicMagics",
        "hist": "Other",
        "history": "HistoryMagics",
        "install_default_config": "DeprecatedMagics",
        "install_ext": "ExtensionMagics",
        "install_profiles": "DeprecatedMagics",
        "killbgscripts": "ScriptMagics",
        "ldir": "Other",
        "less": "KernelMagics",
        "load": "CodeMagics",
        "load_ext": "ExtensionMagics",
        "loadpy": "CodeMagics",
        "logoff": "LoggingMagics",
        "logon": "LoggingMagics",
        "logstart": "LoggingMagics",
        "logstate": "LoggingMagics",
        "logstop": "LoggingMagics",
        "ls": "Other",
        "lsmagic": "BasicMagics",
        "macro": "ExecutionMagics",
        "magic": "BasicMagics",
        "matplotlib": "PylabMagics",
        "mkdir": "Other",
        "more": "KernelMagics",
        "notebook": "BasicMagics",
        "page": "BasicMagics",
        "pastebin": "CodeMagics",
        "pdb": "ExecutionMagics",
        "pdef": "NamespaceMagics",
        "pdoc": "NamespaceMagics",
        "pfile": "NamespaceMagics",
        "pinfo": "NamespaceMagics",
        "pinfo2": "NamespaceMagics",
        "popd": "OSMagics",
        "pprint": "BasicMagics",
        "precision": "BasicMagics",
        "profile": "BasicMagics",
        "prun": "ExecutionMagics",
        "psearch": "NamespaceMagics",
        "psource": "NamespaceMagics",
        "pushd": "OSMagics",
        "pwd": "OSMagics",
        "pycat": "OSMagics",
        "pylab": "PylabMagics",
        "qtconsole": "KernelMagics",
        "quickref": "BasicMagics",
        "recall": "HistoryMagics",
        "rehashx": "OSMagics",
        "reload_ext": "ExtensionMagics",
        "ren": "Other",
        "rep": "Other",
        "rerun": "HistoryMagics",
        "reset": "NamespaceMagics",
        "reset_selective": "NamespaceMagics",
        "rmdir": "Other",
        "run": "ExecutionMagics",
        "save": "CodeMagics",
        "sc": "OSMagics",
        "set_env": "OSMagics",
        "store": "StoreMagics",
        "sx": "OSMagics",
        "system": "OSMagics",
        "tb": "ExecutionMagics",
        "time": "ExecutionMagics",
        "timeit": "ExecutionMagics",
        "unalias": "OSMagics",
        "unload_ext": "ExtensionMagics",
        "who": "NamespaceMagics",
        "who_ls": "NamespaceMagics",
        "whos": "NamespaceMagics",
        "xdel": "NamespaceMagics",
        "xmode": "BasicMagics"
       }
      },
      "text/plain": [
       "Available line magics:\n",
       "%alias  %alias_magic  %autocall  %automagic  %autosave  %bookmark  %cd  %clear  %cls  %colors  %config  %connect_info  %copy  %ddir  %debug  %dhist  %dirs  %doctest_mode  %echo  %ed  %edit  %env  %gui  %hist  %history  %install_default_config  %install_ext  %install_profiles  %killbgscripts  %ldir  %less  %load  %load_ext  %loadpy  %logoff  %logon  %logstart  %logstate  %logstop  %ls  %lsmagic  %macro  %magic  %matplotlib  %mkdir  %more  %notebook  %page  %pastebin  %pdb  %pdef  %pdoc  %pfile  %pinfo  %pinfo2  %popd  %pprint  %precision  %profile  %prun  %psearch  %psource  %pushd  %pwd  %pycat  %pylab  %qtconsole  %quickref  %recall  %rehashx  %reload_ext  %ren  %rep  %rerun  %reset  %reset_selective  %rmdir  %run  %save  %sc  %set_env  %store  %sx  %system  %tb  %time  %timeit  %unalias  %unload_ext  %who  %who_ls  %whos  %xdel  %xmode\n",
       "\n",
       "Available cell magics:\n",
       "%%!  %%HTML  %%SVG  %%bash  %%capture  %%cmd  %%debug  %%file  %%html  %%javascript  %%latex  %%perl  %%prun  %%pypy  %%python  %%python2  %%python3  %%ruby  %%script  %%sh  %%svg  %%sx  %%system  %%time  %%timeit  %%writefile\n",
       "\n",
       "Automagic is ON, % prefix IS NOT needed for line magics."
      ]
     },
     "execution_count": 11,
     "metadata": {},
     "output_type": "execute_result"
    }
   ],
   "source": [
    "%lsmagic"
   ]
  },
  {
   "cell_type": "markdown",
   "metadata": {},
   "source": [
    "Remove variables from the IPython notebook by using the `%reset` and `%reset_selective varname` magics.  `%reset` removes all variables (i.e., cleans out the whole lot), whereas with `%reset_selective varname` you can specificy which variables must be cleared.  [Note](https://ipython.org/ipython-doc/3/interactive/magics.html#magic-reset_selective) that `varname` is a regular expression, but such that if a single letter is given all variables starting with that letter will be erased.  So to ensure that only a single variable is removed, anchor both ends as shown below with `^` (beginning of line) and `$` (end of line)."
   ]
  },
  {
   "cell_type": "code",
   "execution_count": 12,
   "metadata": {
    "collapsed": false
   },
   "outputs": [
    {
     "data": {
      "text/plain": [
       "['HTML', 'Image', 'a', 'b1m', 'b2m', 'b2s', 'b3m', 'b4m', 'c', 'display', 'os']"
      ]
     },
     "execution_count": 12,
     "metadata": {},
     "output_type": "execute_result"
    }
   ],
   "source": [
    "#remove only variable b\n",
    "a=1; b=2; c=3; b1m=4; b2m=5; b3m=6; b4m=7; b2s=8\n",
    "%reset_selective -f ^b$ \n",
    "%who_ls"
   ]
  },
  {
   "cell_type": "code",
   "execution_count": 13,
   "metadata": {
    "collapsed": false
   },
   "outputs": [
    {
     "data": {
      "text/plain": [
       "['HTML', 'Image', 'a', 'c', 'display', 'os']"
      ]
     },
     "execution_count": 13,
     "metadata": {},
     "output_type": "execute_result"
    }
   ],
   "source": [
    "#remove all variables starting with the letter b\n",
    "a=1; b=2; c=3; b1m=4; b2m=5; b3m=6; b4m=7; b2s=8\n",
    "%reset_selective -f b \n",
    "%who_ls"
   ]
  },
  {
   "cell_type": "markdown",
   "metadata": {},
   "source": [
    "Use the `%%file` magic to write contents to a file:"
   ]
  },
  {
   "cell_type": "code",
   "execution_count": 14,
   "metadata": {
    "collapsed": false
   },
   "outputs": [
    {
     "name": "stdout",
     "output_type": "stream",
     "text": [
      "Overwriting test.txt\n"
     ]
    }
   ],
   "source": [
    "%%file test.txt\n",
    "This is a test file!\n",
    "It can contain anything I want...\n",
    "\n",
    "\n",
    "more..."
   ]
  },
  {
   "cell_type": "code",
   "execution_count": 15,
   "metadata": {
    "collapsed": false
   },
   "outputs": [
    {
     "name": "stdout",
     "output_type": "stream",
     "text": [
      "This is a test file!\n",
      " It can contain anything I want...\n",
      " \n",
      " \n",
      " more...\n"
     ]
    }
   ],
   "source": [
    "#open the file and read its contents\n",
    "with open('test.txt', 'r') as fi:\n",
    "    print('{}'.format(' '.join(fi.readlines())))"
   ]
  },
  {
   "cell_type": "markdown",
   "metadata": {},
   "source": [
    "The %edit magic is supposed to start up an editor from within IPython - I never got that to work under windows.  \n",
    "<https://ipython.org/ipython-doc/dev/interactive/magics.html#magic-edit>  \n",
    "<http://ipython.org/ipython-doc/1/config/editors.html>  \n",
    "<http://stackoverflow.com/questions/15681153/external-editor-for-ipython-notebook>  \n",
    "<http://stackoverflow.com/questions/3438531/ipython-workflow-edit-run>  \n",
    "<http://blog.dispatched.ch/2009/05/24/vim-as-python-ide/>  \n"
   ]
  },
  {
   "cell_type": "markdown",
   "metadata": {},
   "source": [
    "The %run magic runs a scipt along the stated path and prints the results to the cell output. Useful to run external scripts not coded in the notebook itself.  Just be sure to copy the script with the notebook.  The next cell writes a script to the current directory and then the following cell executes it."
   ]
  },
  {
   "cell_type": "code",
   "execution_count": 16,
   "metadata": {
    "collapsed": false
   },
   "outputs": [
    {
     "name": "stdout",
     "output_type": "stream",
     "text": [
      "Overwriting helloipython.py\n"
     ]
    }
   ],
   "source": [
    "%%file helloipython.py\n",
    "print('Hello IPython!')"
   ]
  },
  {
   "cell_type": "code",
   "execution_count": 17,
   "metadata": {
    "collapsed": false
   },
   "outputs": [
    {
     "name": "stdout",
     "output_type": "stream",
     "text": [
      "Hello IPython!\n"
     ]
    }
   ],
   "source": [
    "%run helloipython.py"
   ]
  },
  {
   "cell_type": "markdown",
   "metadata": {},
   "source": [
    "The %debug magic starts the python debugger.  I have not used this feature yet, it might be useful to you."
   ]
  },
  {
   "cell_type": "markdown",
   "metadata": {},
   "source": [
    "The %timeit magic can time the execution of a an expression.\n",
    "It can be one line or multiline statement. In a one liner we can pass through multiple ones separated by semicolon.  \n",
    "<http://pynash.org/2013/03/06/timing-and-profiling.html>"
   ]
  },
  {
   "cell_type": "code",
   "execution_count": 18,
   "metadata": {
    "collapsed": false
   },
   "outputs": [
    {
     "name": "stdout",
     "output_type": "stream",
     "text": [
      "The slowest run took 4.53 times longer than the fastest. This could mean that an intermediate result is being cached.\n",
      "1000000 loops, best of 3: 840 ns per loop\n"
     ]
    }
   ],
   "source": [
    "%timeit range(100)"
   ]
  },
  {
   "cell_type": "markdown",
   "metadata": {},
   "source": [
    "`%env` to return the present environment variables "
   ]
  },
  {
   "cell_type": "markdown",
   "metadata": {},
   "source": [
    "`% pastebin 'file.py'` to upload code to pastebin and get the url returned."
   ]
  },
  {
   "cell_type": "markdown",
   "metadata": {},
   "source": [
    "`% bash` to run cell with bash in a subprocess. "
   ]
  },
  {
   "cell_type": "markdown",
   "metadata": {},
   "source": [
    "`%%latex` to render cell contents as LaTeX "
   ]
  },
  {
   "cell_type": "markdown",
   "metadata": {},
   "source": [
    "`%prun`, `%lprun`, `%mprun` can give you line-by-line breakdown of time and memory usage in a function or script. See a good tutorial [here](http://pynash.org/2013/03/06/timing-and-profiling/) and [here](http://mbatchkarov.github.io/2014/07/14/profiling-python/)."
   ]
  },
  {
   "cell_type": "markdown",
   "metadata": {},
   "source": [
    "`%mprun` & `%memit`: See how much memory a script uses (line-by-line, or averaged over a bunch of runs)"
   ]
  },
  {
   "cell_type": "markdown",
   "metadata": {},
   "source": [
    "`%% HTML`: to render the cell as HTML. So you can even embed an image or other media in your notebook"
   ]
  },
  {
   "cell_type": "code",
   "execution_count": 19,
   "metadata": {
    "collapsed": false
   },
   "outputs": [
    {
     "data": {
      "text/html": [
       "<img src=\"http://blog.dominodatalab.com/content/images/2015/11/Screen-Shot-2015-11-02-at-10-20-38-PM.png\">"
      ],
      "text/plain": [
       "<IPython.core.display.HTML object>"
      ]
     },
     "metadata": {},
     "output_type": "display_data"
    }
   ],
   "source": [
    "%%HTML\n",
    "<img src=\"http://blog.dominodatalab.com/content/images/2015/11/Screen-Shot-2015-11-02-at-10-20-38-PM.png\">"
   ]
  },
  {
   "cell_type": "markdown",
   "metadata": {},
   "source": [
    "`%%latex` to render cell contents as LaTeX, see [here](http://nbviewer.ipython.org/github/ipython/ipython/blob/1.x/examples/notebooks/Part%205%20-%20Rich%20Display%20System.ipynb#LaTeX)"
   ]
  },
  {
   "cell_type": "code",
   "execution_count": 20,
   "metadata": {
    "collapsed": false
   },
   "outputs": [
    {
     "data": {
      "text/latex": [
       "\\begin{aligned}\n",
       "\\nabla \\times \\vec{\\mathbf{B}} -\\, \\frac1c\\, \\frac{\\partial\\vec{\\mathbf{E}}}{\\partial t} & = \\frac{4\\pi}{c}\\vec{\\mathbf{j}} \\\\\n",
       "\\nabla \\cdot \\vec{\\mathbf{E}} & = 4 \\pi \\rho \\\\\n",
       "\\nabla \\times \\vec{\\mathbf{E}}\\, +\\, \\frac1c\\, \\frac{\\partial\\vec{\\mathbf{B}}}{\\partial t} & = \\vec{\\mathbf{0}} \\\\\n",
       "\\nabla \\cdot \\vec{\\mathbf{B}} & = 0\n",
       "\\end{aligned}"
      ],
      "text/plain": [
       "<IPython.core.display.Latex object>"
      ]
     },
     "metadata": {},
     "output_type": "display_data"
    }
   ],
   "source": [
    "%%latex\n",
    "\\begin{aligned}\n",
    "\\nabla \\times \\vec{\\mathbf{B}} -\\, \\frac1c\\, \\frac{\\partial\\vec{\\mathbf{E}}}{\\partial t} & = \\frac{4\\pi}{c}\\vec{\\mathbf{j}} \\\\\n",
    "\\nabla \\cdot \\vec{\\mathbf{E}} & = 4 \\pi \\rho \\\\\n",
    "\\nabla \\times \\vec{\\mathbf{E}}\\, +\\, \\frac1c\\, \\frac{\\partial\\vec{\\mathbf{B}}}{\\partial t} & = \\vec{\\mathbf{0}} \\\\\n",
    "\\nabla \\cdot \\vec{\\mathbf{B}} & = 0\n",
    "\\end{aligned}"
   ]
  },
  {
   "cell_type": "code",
   "execution_count": 21,
   "metadata": {
    "collapsed": false
   },
   "outputs": [
    {
     "data": {
      "text/latex": [
       "\\begin{eqnarray}\n",
       "\\nabla \\times \\vec{\\mathbf{B}} -\\, \\frac1c\\, \\frac{\\partial\\vec{\\mathbf{E}}}{\\partial t} & = \\frac{4\\pi}{c}\\vec{\\mathbf{j}} \\\\\n",
       "\\nabla \\cdot \\vec{\\mathbf{E}} & = 4 \\pi \\rho \\\\\n",
       "\\nabla \\times \\vec{\\mathbf{E}}\\, +\\, \\frac1c\\, \\frac{\\partial\\vec{\\mathbf{B}}}{\\partial t} & = \\vec{\\mathbf{0}} \\\\\n",
       "\\nabla \\cdot \\vec{\\mathbf{B}} & = 0 \n",
       "\\end{eqnarray}"
      ],
      "text/plain": [
       "<IPython.core.display.Latex object>"
      ]
     },
     "execution_count": 21,
     "metadata": {},
     "output_type": "execute_result"
    }
   ],
   "source": [
    "from IPython.display import Latex\n",
    "Latex(r\"\"\"\\begin{eqnarray}\n",
    "\\nabla \\times \\vec{\\mathbf{B}} -\\, \\frac1c\\, \\frac{\\partial\\vec{\\mathbf{E}}}{\\partial t} & = \\frac{4\\pi}{c}\\vec{\\mathbf{j}} \\\\\n",
    "\\nabla \\cdot \\vec{\\mathbf{E}} & = 4 \\pi \\rho \\\\\n",
    "\\nabla \\times \\vec{\\mathbf{E}}\\, +\\, \\frac1c\\, \\frac{\\partial\\vec{\\mathbf{B}}}{\\partial t} & = \\vec{\\mathbf{0}} \\\\\n",
    "\\nabla \\cdot \\vec{\\mathbf{B}} & = 0 \n",
    "\\end{eqnarray}\"\"\")"
   ]
  },
  {
   "cell_type": "markdown",
   "metadata": {},
   "source": [
    "## Magics for using IPython for numeric and scientific work"
   ]
  },
  {
   "cell_type": "markdown",
   "metadata": {},
   "source": [
    "Early tutorials advised that you start the IPython kernel with the `--pylab=inline` option to load a bunch of packages and see Matplotlib graphs in the browser.  As from IPython 2.0, the server advises you not to use this option, because it pre-loads a number of modules and packages that may not be required and may even interfere with your intended work.\n",
    "\n",
    "**Don't use `%pylab` either:**\n",
    "Then there is the `%pylab` magic command, which essentially does the same as the `--pylab=inline` option. The full command is  [`%pylab [--no-import-all] [gui]`](http://ipython.org/ipython-doc/stable/api/generated/IPython.core.magics.pylab.html). \n",
    "When using this magic, IPython loads numpy and matplotlib.  The following libraries are imported in this magic:  \n",
    "\n",
    "    import numpy\n",
    "    import matplotlib\n",
    "    from matplotlib import pylab, mlab, pyplot\n",
    "    np = numpy\n",
    "    plt = pyplot\n",
    "\n",
    "    from IPython.display import display\n",
    "    from IPython.core.pylabtools import figsize, getfigs\n",
    "\n",
    "    from pylab import *\n",
    "    from numpy import *\n",
    "\n",
    "Clearly the last two imports could potentially cause namespace conflicts with other modules. This is because `import *` is [not good practice](https://stackoverflow.com/questions/2386714/why-is-import-bad). If you use the form  `%pylab -–no-import-all`  the last two * imports will not be executed.\n",
    "So the `%pylab` magic command could be something like `%pylab -–no-import-all inline` to get inline plots in the notebook.\n",
    "\n",
    "But this method still clutters the IPython interactive namespace with global pylab names, potentially causing problems.\n",
    "\n",
    "**Use `%matplotlib` instead:**\n",
    "Do use the `%matplotlib [gtk|gtk3|inline|osx|qt|qt4|tk|wx]` magic to define the Matplotlib plotting backend without importing anything into the IPython interactive namespace.  For the full discussion [see here](http://carreau.github.io/posts/10-No-PyLab-Thanks.ipynb.html).  So the preferred method to get Matplotlib graphics inline in the notebook is to use the magic command  \n",
    "    `%matplotlib inline`  \n",
    "After using this magic, you still have to import numpy manually.    "
   ]
  },
  {
   "cell_type": "markdown",
   "metadata": {},
   "source": [
    "Note that the file format to which Matplotlib renders a graphic can  be set by the following magic (svg, png or high resolution png):  \n",
    "\n",
    "`%config InlineBackend.figure_format = 'svg'`    \n",
    "`%config InlineBackend.figure_format = 'png'`      \n",
    "`%config InlineBackend.figure_format = 'retina'` \n",
    " \n",
    "<https://stackoverflow.com/questions/17582137/ipython-notebook-svg-figures-by-default>  \n"
   ]
  },
  {
   "cell_type": "markdown",
   "metadata": {},
   "source": [
    "## IPython notebook extensions"
   ]
  },
  {
   "cell_type": "markdown",
   "metadata": {},
   "source": [
    "### General notes"
   ]
  },
  {
   "cell_type": "markdown",
   "metadata": {},
   "source": [
    "The IPython architecture supports the installation of extension packages to add new functionality to notebooks.  \n",
    "\n",
    "\n",
    "<http://ipython.org/ipython-doc/dev/config/extensions/>\n",
    "\n",
    "\n",
    "Several extensions exist to access other software tools from within IPython:   \n",
    "<http://jupyter.cs.brynmawr.edu/hub/dblank/public/Jupyter%20Help.ipynb>  \n",
    "<http://ipython.org/ipython-doc/dev/config/extensions/>  \n",
    "<http://nbviewer.ipython.org/github/jrjohansson/ipython-asymptote/blob/master/Asymptote-examples.ipynb> for [Asymptote](http://asymptote.sourceforge.net/)  \n",
    "<http://www2.ipp.mpg.de/~mkraus/python/tikzmagic.py> and <http://www2.ipp.mpg.de/~mkraus/python/tikzmagic_test.ipynb> for [tikz](http://www.texample.net/tikz/examples/).\n",
    "\n",
    "\n",
    "On Windows, when using Anaconda, the notebook extensions are installed here:  \n",
    "\n",
    "    C:\\Anaconda\\share\\jupyter\\nbextensions\n",
    "    \n",
    "On raw Python installations the notebook extensions appear to be installed here:  \n",
    "\n",
    "    C:\\Users\\YourUserName\\.ipython\\nbextensions\n",
    "    C:\\Users\\YourUserName\\.ipython\\profile_default\\static\\custom"
   ]
  },
  {
   "cell_type": "markdown",
   "metadata": {},
   "source": [
    "### ICalico spell checker"
   ]
  },
  {
   "cell_type": "markdown",
   "metadata": {},
   "source": [
    "The ICalico spell checker (thanks Doug Blank!) checks spelling and underlines words that  appear incorrect.   The spell checker is implemented in JavaScript and works on markdown cells in edit mode.  It points out spelling errors but do not offer corrections at current.  The word list is US English, so it is not very friendly towards UK English.  The dictionary can be changed, see below.\n",
    "\n",
    "To use the spell checker open a markdown cell for editing and click on the 'tickmark' button on the toolbar.  The tickmark button will only be present if you installed and activated the spell checker, and then restarted the jupyter server.\n",
    "\n",
    "The instructions are somewhat confusing because of different versions of the Jupyter notebook and different versions (and repository locations) of the extension.\n",
    "\n",
    "To install and activate the extension follow the YouTube video below, or the instructions at <http://calicoproject.org/Icalico> and modified [here](http://stackoverflow.com/questions/32046241/how-to-add-automatically-extension-to-jupiter-ipython-notebook).  The installation requires at least the first two steps:  \n",
    "\n",
    "1. Download the extension (do this once only) - I am not sure which to use for the different combinations of Jupyter and repos:  \n",
    "  -    Let Jupyter download it for you:\n",
    "  \n",
    "               !jupyter nbextension install https://github.com/Calysto/notebook-extensions/archive/master.zip\n",
    "           \n",
    "       or   \n",
    "       \n",
    "               !jupyter nbextension install https://github.com/Calysto/notebook-extensions\n",
    "           \n",
    "       or (this appears to be the old repository):  \n",
    "       \n",
    "               !jupyter nbextension install https://bitbucket.org/ipre/calico/downloads/calico-spell-check-1.0.zip\n",
    "               !jupyter nbextension install https://bitbucket.org/ipre/calico/downloads/calico-document-tools-1.0.zip \n",
    "\n",
    "  -    Download manually:\n",
    "       Clone the repo at `https://github.com/Calysto/notebook-extensions` into the local directory `C:\\ProgramData\\jupyter\\nbextensions\\notebook-extensions-master`.  Note that you need to clone to a different directory name than is the repo name.\n",
    "       Make a copy of the files shown below, to one level lower than where you cloned, in `C:\\ProgramData\\jupyter\\nbextensions`\n",
    "       \n",
    "       ![calysto-spell.png](images/calysto-spell.png)\n",
    "       \n",
    "       \n",
    "2. Activate it by executing the following:  \n",
    "        !jupyter nbextension enable calico-document-tools\n",
    "        \n",
    "3. To activate the spell checker for Jupyer 4.x notebooks, edit the file \n",
    "`C:\\Users\\YourUserName\\.jupyter\\nbconfig\\notebook.json` in your Jupyter profile and conform that the following load_extensions commands are present (add in the appropriate place if necessary): \n",
    "        {\n",
    "          \"load_extensions\": {\"calico-spell-check\":true,\n",
    "            \"calico-document-tools\": true,\n",
    "            \"calico-cell-tools\":true\n",
    "          }\n",
    "        }\n",
    "\n",
    "The ICalico spell checker discussion takes place here:  \n",
    "<https://github.com/ipython/ipython/issues/3216>   \n"
   ]
  },
  {
   "cell_type": "code",
   "execution_count": 22,
   "metadata": {
    "collapsed": false
   },
   "outputs": [
    {
     "data": {
      "image/jpeg": "[encoded data removed]",
      "text/html": [
       "\n",
       "        <iframe\n",
       "            width=\"400\"\n",
       "            height=\"300\"\n",
       "            src=\"https://www.youtube.com/embed/Km3AtRynWFQ\"\n",
       "            frameborder=\"0\"\n",
       "            allowfullscreen\n",
       "        ></iframe>\n",
       "        "
      ],
      "text/plain": [
       "<IPython.lib.display.YouTubeVideo at 0x3d6acc0>"
      ]
     },
     "execution_count": 22,
     "metadata": {},
     "output_type": "execute_result"
    }
   ],
   "source": [
    "from IPython.display import YouTubeVideo\n",
    "# a talk about the ICalico spell checker extension\n",
    "YouTubeVideo('Km3AtRynWFQ')"
   ]
  },
  {
   "cell_type": "markdown",
   "metadata": {},
   "source": [
    "### UK English spell checker\n",
    "\n",
    "<font color=\"red\"> I have not yet had the time to figure out how to do this for Jupyter 4</font>\n",
    "\n",
    "\n",
    "[Marco Pinto](http://marcoagpinto.cidadevirtual.pt/proofingtoolgui.html) maintains a UK English hunspell-style list [here](https://github.com/marcoagpinto/aoo-mozilla-en-dict/tree/master/en_GB%20%28Marco%20Pinto%29).  To implement the UK dictionary in an Anaconda Jupyter installation  on Windows:\n",
    "\n",
    "1.  Download the two files `en-GB.aff` and `en-GB.dic` into the (new) folder `C:\\Anaconda\\share\\jupyter\\nbextensions\\typo\\dictionaries\\en_GB\\`.  \n",
    "\n",
    "2.  Rename the two files to use underscore instead of dash/hyphen (look at the en_US equivalent).  Change `en-GB.aff` to `en_GB.aff` and change `en-GB.dic` to `en_GB.dic`.\n",
    "\n",
    "3. Edit the file `C:\\Anaconda\\share\\jupyter\\nbextensions\\calico-spell-check.js` to replace `var lang = \"en_US\";` with `var lang = \"en_GB\";`.\n",
    "\n",
    "It should be a simple matter to find the equivalent directories in Linux.\n",
    "\n",
    "So now at least we have a UK dictionary, the remaining work is to add new words. Marco Pinto's GUI-based tool at <http://marcoagpinto.cidadevirtual.pt/proofingtoolgui.html> is exceptionally suitable tool for this purpose.  Doug Blank also pointed out: \"Also, one can add words to the `calico-spell-check extension` by making a JSON object in a file named `words.json` and putting it next to `calico-spell-check.js`.\""
   ]
  },
  {
   "cell_type": "markdown",
   "metadata": {},
   "source": [
    "## Optimising with IPython"
   ]
  },
  {
   "cell_type": "markdown",
   "metadata": {},
   "source": [
    "<https://robotwhale.wordpress.com/2014/08/17/optimization-with-ipython/>"
   ]
  },
  {
   "cell_type": "markdown",
   "metadata": {},
   "source": [
    "## Local files"
   ]
  },
  {
   "cell_type": "markdown",
   "metadata": {},
   "source": [
    "If you have local files in your Notebook directory, you can refer to these files in Markdown cells via relative URLs that are prefixed with files/ as in:\n",
    "\n",
    "files/[subdirectory/]filename"
   ]
  },
  {
   "cell_type": "markdown",
   "metadata": {},
   "source": [
    "## Help"
   ]
  },
  {
   "cell_type": "markdown",
   "metadata": {},
   "source": [
    "Introspection help is available  by typing the object's name followed by a question mark, then execute the cell.\n",
    "It will print details about the object, including docstrings, function  call argument) and class constructor details.\n",
    "Double click on the divider to close the help console."
   ]
  },
  {
   "cell_type": "code",
   "execution_count": 23,
   "metadata": {
    "collapsed": false
   },
   "outputs": [
    {
     "data": {
      "image/png": "[encoded data removed]",
      "text/plain": [
       "<IPython.core.display.Image object>"
      ]
     },
     "metadata": {},
     "output_type": "display_data"
    }
   ],
   "source": [
    "from collections import  defaultdict\n",
    "# defaultdict?\n",
    "display(Image(filename='images/introspection.png'))"
   ]
  },
  {
   "cell_type": "markdown",
   "metadata": {},
   "source": [
    "You can also access the built in Python help system, by typing help(objectname), and then execute the cell.  "
   ]
  },
  {
   "cell_type": "code",
   "execution_count": 24,
   "metadata": {
    "collapsed": false
   },
   "outputs": [
    {
     "data": {
      "image/png": "[encoded data removed]",
      "text/plain": [
       "<IPython.core.display.Image object>"
      ]
     },
     "metadata": {},
     "output_type": "display_data"
    }
   ],
   "source": [
    "# help(defaultdict)\n",
    "display(Image(filename='images/python-help.png'))"
   ]
  },
  {
   "cell_type": "markdown",
   "metadata": {},
   "source": [
    "Tab-completion help is also available, just press TAB after the period"
   ]
  },
  {
   "cell_type": "code",
   "execution_count": 25,
   "metadata": {
    "collapsed": false
   },
   "outputs": [
    {
     "data": {
      "image/png": "[encoded data removed]",
      "text/plain": [
       "<IPython.core.display.Image object>"
      ]
     },
     "metadata": {},
     "output_type": "display_data"
    }
   ],
   "source": [
    "# defaultdict.\n",
    "display(Image(filename='images/tabcompletion.png'))"
   ]
  },
  {
   "cell_type": "markdown",
   "metadata": {},
   "source": [
    "The IPython *Help* menu item has links to IPython and the scientific packages"
   ]
  },
  {
   "cell_type": "code",
   "execution_count": 26,
   "metadata": {
    "collapsed": false
   },
   "outputs": [
    {
     "data": {
      "image/png": "[encoded data removed]",
      "text/plain": [
       "<IPython.core.display.Image object>"
      ]
     },
     "metadata": {},
     "output_type": "display_data"
    }
   ],
   "source": [
    "display(Image(filename='images/ipythonhelp.png'))"
   ]
  },
  {
   "cell_type": "markdown",
   "metadata": {},
   "source": [
    "<a name=\"NotebooksRemember\"> "
   ]
  },
  {
   "cell_type": "markdown",
   "metadata": {},
   "source": [
    "## <a id='Notebooks Remember'></a> Notebooks remember, but not the way you might think "
   ]
  },
  {
   "cell_type": "markdown",
   "metadata": {},
   "source": [
    "\n",
    "\n",
    "The notebook visible in the browser is not really the notebook, it is only a rendering of the notebook.  The actual notebook and its data resides in the IPython kernel.  The browser is connected to the kernel via a zmq channel, for the purpose of rendering and input.  You can close all the browser windows, but the code and data still resides in the kernel process.  As long as the kernel is running you can open a new browser window at 127.0.0.1:8888 and the notebook will be displayed.\n",
    "\n",
    "The results (including graphs and images) from previous runs are recorded in the notebook, so when it is rendered the previously stored results are shown. The previous results are overwritten only if the cell is executed again.\n",
    "\n",
    "Most important, the results from a previous cell execution remains in the kernel, even if the cell is removed or moved up in the notebook.  It happens from time to time that you execute a cell in a given location, creating some data in the kernel.  The next cell uses this information in a calculation. So far, so good.  Now you decide to re-organise the notebook and move the 'next cell' to a position earlier in the notebook, even before the cell that created the information in the first place.  The newly moved cell still works in its new location, because the information is still in memory.  At the end of work, you save and close the notebook and exit the kernel.\n",
    "\n",
    "Tomorrow you start a new kernel and load the notebook.  To ensure that all is fresh and well, you decide to execute all cells in the notebook. But now the moved cell does not work, because its input information is not yet created - it is only created a few cells into the future. Yet it did work yesterday (because of results still remained in memory after moving the cell). But today it fails because there is no memory of something that is yet to come.\n",
    "\n",
    "It is important to understand that the concept of the non-existence of data prior to cell execution does not apply if you move cells around in the notebook. All results are remembered and accessible by cells _linearly before_ the cell that created the information.\n",
    "\n",
    "Similarly, remember that a cell changes information for prosperity, also for subsequent runs of the same cell. For example, suppose we assign a value to a variable in the next cell and in the cell thereafter increment the value. If the first cell is executed once and the second cell is executed repeatedly, the value will increase much more than it would be if the program was executed from start to finish with each cell executed once only."
   ]
  },
  {
   "cell_type": "code",
   "execution_count": 27,
   "metadata": {
    "collapsed": false
   },
   "outputs": [],
   "source": [
    "#run this cell once\n",
    "a = 5"
   ]
  },
  {
   "cell_type": "code",
   "execution_count": 28,
   "metadata": {
    "collapsed": false
   },
   "outputs": [
    {
     "name": "stdout",
     "output_type": "stream",
     "text": [
      "6\n"
     ]
    }
   ],
   "source": [
    "#run this cell several times\n",
    "a = a + 1\n",
    "print(a)"
   ]
  },
  {
   "cell_type": "markdown",
   "metadata": {},
   "source": [
    "A similar error occurs in Pandas if the first cell creates a dataframe, and the second cell adds a new column to the dataframe. If the second cell is executed a number of times, many columns will be added, which was not the intention with the code _if executed linearly from start to end_.\n",
    "\n",
    "Therefore be careful with cells that modifies its own input data - such data is not static and changes with each invocation of the cell."
   ]
  },
  {
   "cell_type": "markdown",
   "metadata": {},
   "source": [
    "## Reloading imports\n",
    "\n",
    "Python's import facility loads a file only once, if the `import` is encountered again for the same module, the import is ignored.  If you are actively developing the the module to be imported the module contents changes all the time and these changes must be imported to see their effect.\n",
    "In this case you want to force another import execution. This can be done with the `%load_ext autoreload` magic command. If the extension is already loaded, Ipython may complain, so I use `%reload_ext autoreload`, which attempts to load or reload, as appropriate.\n",
    "\n",
    "<http://ipython.org/ipython-doc/rel-1.1.0/config/extensions/autoreload.html>"
   ]
  },
  {
   "cell_type": "code",
   "execution_count": 29,
   "metadata": {
    "collapsed": false
   },
   "outputs": [],
   "source": [
    "%reload_ext autoreload\n",
    "%autoreload 2\n",
    "import numpy as np"
   ]
  },
  {
   "cell_type": "markdown",
   "metadata": {},
   "source": [
    "## Clearing the IPython memory\n",
    "\n",
    "If for some reason you need to clear out all memory in your notebook this can be done by selecting the `Kernel Restart` menu option.  This will clear the kernel memory, including the memory of all open notebooks. So use this avenue with care.  After restarting the kernel, all notebooks must be re-run from start to build the information again.\n",
    "\n",
    "You can use the Cell | All Output | Clear menu option to *remove all output* from a notebook. It will be much smaller, but also empty of any output or embedded media. To see the full notebook with all calculation results, you would have to run all cells again."
   ]
  },
  {
   "cell_type": "markdown",
   "metadata": {},
   "source": [
    "## Markdown (MD) language syntax\n",
    "\n",
    "Markdown is a simplified syntax for simple text layout.  It allows you to embed simple formatting commands in a regular text file.  In an ASCII text editor you will see the markup but not formatted.  You can see the formatted version in a local or online markdown editor.\n",
    "\n",
    "1. https://en.wikipedia.org/wiki/Markdown  \n",
    "2. https://daringfireball.net/projects/markdown/\n",
    "3. https://help.github.com/articles/markdown-basics/\n",
    "\n",
    "You can write markdown in any text editor or in a dedicated markdown editor:\n",
    "\n",
    "1. https://notepad-plus-plus.org/\n",
    "2. https://atom.io/\n",
    "3. http://www.sitepoint.com/best-markdown-editors-windows/\n",
    "4. http://www.sublimetext.com/  (paid software)\n",
    "5. http://markdownpad.com/  (paid software)\n",
    "\n",
    "IPython uses the markdown syntax for text in its non-code cells.  When IPython creates a new cell it is a code cell by default, you must remember to change it to a markdown cell on the menu.\n",
    "\n",
    "You can also edit markdown online here:\n",
    "\n",
    "1. https://github.com/benweet/stackedit\n",
    "2. http://dillinger.io/\n",
    "3. http://markdownlivepreview.com/\n",
    "\n",
    "\n",
    "One confusing matter is the fact there are different variants of markdown. For more details on the syntax see  \n",
    "<https://stackoverflow.com/editing-help> \n",
    "<http://nbviewer.ipython.org/github/ipython/ipython/blob/master/examples/notebooks/Part%204%20-%20Markdown%20Cells.ipynb>\n",
    "<http://johnmacfarlane.net/pandoc/demo/example9/pandocs-markdown.html>   \n",
    "<http://johnmacfarlane.net/pandoc/README.html>  \n",
    "<http://daringfireball.net/projects/markdown/>  \n",
    "<http://daringfireball.net/projects/markdown/basics>  \n",
    "<http://daringfireball.net/projects/markdown/syntax>   \n",
    "<https://github.com/adam-p/markdown-here/wiki/Markdown-Cheatsheet>   \n",
    "<http://support.iawriter.com/help/kb/general-questions/markdown-syntax-reference-guide>\n",
    "\n",
    "You can also use embedded raw HTML into a markdown page, but you need to type a lot more than in pure markdown.\n",
    "\n",
    "IPython uses the Pandoc converter to convert between different markup languages, so my guess is that it is prudent to work with the Pandoc variant of MD syntax (which is close to the original).  The other major MD variant is the github MD syntax - which is somewhat different.\n",
    "\n",
    "To force a newline you must end the current line with two spaces.\n",
    "\n",
    "If your markdown does not want to work right, first try to leave a blank line before the offending text."
   ]
  },
  {
   "cell_type": "markdown",
   "metadata": {},
   "source": [
    "### Markdown Cells"
   ]
  },
  {
   "cell_type": "markdown",
   "metadata": {},
   "source": [
    "Type this to get the output shown below:\n",
    "\n",
    "    Markdown basics: lists, markup and code\n",
    "    \n",
    "    * list item \n",
    "    * list item\n",
    "      * nested <font size=\"3\" color=\"red\">list item</font>\n",
    "    \n",
    "    \n",
    "    * *italics*\n",
    "    * **bold**\n",
    "    * `fixed_font`\n",
    "\n",
    "    You can embed code meant for illustration instead of execution in Python - use four spaces before:\n",
    "    \n",
    "        def hello_ipython():\n",
    "            print \"Hello IPython!\"\n",
    "        \n"
   ]
  },
  {
   "cell_type": "markdown",
   "metadata": {},
   "source": [
    "Markdown basics: lists, markup and code\n",
    "\n",
    "* list item \n",
    "* list item\n",
    "  * nested <font size=\"5\" color=\"red\">list item</font>\n",
    "\n",
    "\n",
    "* *italics*\n",
    "* **bold**\n",
    "* `fixed_font`   \n",
    "\n",
    "You can embed code meant for illustration instead of execution in Python - use four spaces before:\n",
    "\n",
    "    def hello_ipython():\n",
    "        print \"Hello IPython!\"\n",
    "        \n"
   ]
  },
  {
   "cell_type": "markdown",
   "metadata": {},
   "source": [
    "<font color=\"red\">A key and important point is that IPython markdown can take embedded HTML of any form.</font> <BR>Therefore in applications where the markdown syntax it too weak, use HTML. Be aware however that not all of the HTML constructs can be converted to some of the conversion output formats (e.g., embedding video in a LaTeX document).\n",
    "\n",
    "Type this to get the output shown below:\n",
    "\n",
    "    Markdown cells can also contain HTML\n",
    "    \n",
    "    <p>Markdown basics: lists, markup and code</p>\n",
    "    \n",
    "    <ul>\n",
    "    <li>list item</li>\n",
    "    <li><p>list item</p>\n",
    "    \n",
    "    <ul>\n",
    "    <li>nested <font size=\"3\" color=\"red\">list item</font></li>\n",
    "    </ul></li>\n",
    "    <li><p><em>italics</em></p></li>\n",
    "    <li><strong>bold</strong></li>\n",
    "    \n",
    "    <li><code>fixed_font</code></li>\n",
    "    </ul>\n",
    "    \n",
    "    <p>Code examples:</p>\n",
    "    \n",
    "    <pre><code>def hello_ipython():\n",
    "        print \"Hello IPython!\"\n",
    "    </code></pre>"
   ]
  },
  {
   "cell_type": "markdown",
   "metadata": {},
   "source": [
    "Markdown cells can also contain HTML\n",
    "\n",
    "<p>Markdown basics: lists, markup and code</p>\n",
    "\n",
    "<ul>\n",
    "<li>list item</li>\n",
    "<li><p>list item</p>\n",
    "\n",
    "<ul>\n",
    "<li>nested <font size=\"3\" color=\"red\">list item</font></li>\n",
    "</ul></li>\n",
    "<li><p><em>italics</em></p></li>\n",
    "<li><strong>bold</strong></li>\n",
    "\n",
    "<li><code>fixed_font</code></li>\n",
    "</ul>\n",
    "\n",
    "<p>Code examples:</p>\n",
    "\n",
    "<pre><code>def hello_ipython():\n",
    "    print \"Hello IPython!\"\n",
    "</code></pre>"
   ]
  },
  {
   "cell_type": "markdown",
   "metadata": {},
   "source": [
    "Type this to get the output shown below:\n",
    "\n",
    "    Using math mode (anything delimited before and after by single or double `$` symbols is interpreted as LaTeX math:\n",
    "\n",
    "    $$ D_{KL}(P||Q) = \\sum\\limits_{i}ln (\\frac{P(i)}{Q(i)}) P(i)$$"
   ]
  },
  {
   "cell_type": "markdown",
   "metadata": {},
   "source": [
    "Using math mode (anything delimited before and after by single or double `$` symbols is interpreted as LaTeX math:\n",
    "\n",
    "$$ D_{KL}(P||Q) = \\sum\\limits_{i}ln (\\frac{P(i)}{Q(i)}) P(i)$$\n",
    "\n",
    "$$e^{i\\pi} + 1 = 0 \n",
    "$$"
   ]
  },
  {
   "cell_type": "markdown",
   "metadata": {},
   "source": [
    "### Github markdown can also be used"
   ]
  },
  {
   "cell_type": "markdown",
   "metadata": {},
   "source": [
    "The Notebook webapp support Github flavored markdown meaning that you can use triple backticks for code blocks\n",
    "\n",
    "    ```python\n",
    "    print \"Hello World\"\n",
    "    ```\n",
    "\n",
    "    ```javascript\n",
    "    console.log(\"Hello World\")\n",
    "    ```\n",
    "gives"
   ]
  },
  {
   "cell_type": "markdown",
   "metadata": {},
   "source": [
    "```python\n",
    "print \"Hello World\"\n",
    "```\n",
    "\n",
    "```javascript\n",
    "console.log(\"Hello World\")\n",
    "```"
   ]
  },
  {
   "cell_type": "markdown",
   "metadata": {},
   "source": [
    "And a table like this :\n",
    "\n",
    "    | This | is   |\n",
    "    |------|------|\n",
    "    |   a  | table| \n",
    "    \n",
    "gives\n"
   ]
  },
  {
   "cell_type": "markdown",
   "metadata": {},
   "source": [
    "| This | is   |\n",
    "|------|------|\n",
    "|   a  | table| \n"
   ]
  },
  {
   "cell_type": "markdown",
   "metadata": {},
   "source": [
    "### Citations and links"
   ]
  },
  {
   "cell_type": "markdown",
   "metadata": {},
   "source": [
    "Markdown syntax does not have any means to provide citations as often required in formal documentation.\n",
    "        \n",
    "Markdown hyperlinks to external websites: [pyradi](https://code.google.com/p/pyradi/ \"on Google Code\") Python package.   You can provide the display text, the ling address and amouse-over attribute.\n",
    "\n",
    "HTML anchors can be used to create links to other locations in the same file. Put an anchor definition in the place you want to link to, using this format: `<a name=\"MyAnchor\">`. It seems the best place to put this anchor is in a dedicated markdown cell immediatelty in front of where you want to link to, it does not work in a cell with other text.\n",
    "From elsewhere in the file link to this anchor by using the following format  \n",
    "`<a href=\"#MyAnchor\">my anchor</a>`\n",
    "\n",
    "It is also possible to attach anchors to headers as explained in <https://stackoverflow.com/questions/16630969/ipython-notebook-anchor-link-to-refer-a-cell-directly-from-outside>  \n",
    "\n",
    "<http://nbviewer.ipython.org/github/ipython/nbconvert-examples/blob/master/citations/Tutorial.ipynb> - LaTeX citations in the notebook.  \n",
    "\n",
    "The <a href=\"#LaTeX docs with template control\">LaTeX docs with template control</a> script provides full citation support when creating PDF documents."
   ]
  },
  {
   "cell_type": "markdown",
   "metadata": {},
   "source": [
    "### Cross linking and table of contents"
   ]
  },
  {
   "cell_type": "markdown",
   "metadata": {},
   "source": [
    "IPython does not yet support the automatic creation of a  table of contents, but it can be added manually by placing an HTML anchor immediately before the section heading and then linking to the anchor.  Note that in IPYthon the browser's 'back arrow' won't navigate back to the previous location in the page.\n",
    "\n",
    "    # Table of Contents\n",
    "\n",
    "    - [Overview](#Overview)\n",
    "    - [Learning Python and hints and tips](#LearningPythonandhintsandtips)\n",
    "    - [Introducing Python for scientific work](#IntroducingPythonforscientificwork)\n",
    "\n",
    "    <a name=\"Overview\"></a>\n",
    "    ##Overview\n",
    "\n",
    "    This notebook provides a brief summary ....\n",
    "\n",
    "    <a name=\"LearningPythonandhintsandtips\"></a>\n",
    "    ##Learning Python, and hints and tips\n",
    "\n",
    "    There are many free ....\n",
    "\n",
    "    <a name=\"IntroducingPythonforscientificwork\"></a>\n",
    "    ##Introducing Python for scientific work\n",
    "\n",
    "    A very good introduction to Python for scientific work ...."
   ]
  },
  {
   "cell_type": "markdown",
   "metadata": {},
   "source": [
    "\n",
    "Table of Contents\n",
    "\n",
    "- [Overview](#Overview)\n",
    "- [Learning Python and hints and tips](#LearningPythonandhintsandtips)\n",
    "- [Introducing Python for scientific work](#IntroducingPythonforscientificwork)\n"
   ]
  },
  {
   "cell_type": "markdown",
   "metadata": {},
   "source": [
    "## IPython's rich display system"
   ]
  },
  {
   "cell_type": "markdown",
   "metadata": {},
   "source": [
    "IPython notebook can use all of the modern browsers' capabilities.  This is called the rich display system, see [here.](http://nbviewer.ipython.org/urls/raw.github.com/ipython/ipython/1.x/examples/notebooks/Part%205%20-%20Rich%20Display%20System.ipynb)"
   ]
  },
  {
   "cell_type": "markdown",
   "metadata": {},
   "source": [
    "### Plotting"
   ]
  },
  {
   "cell_type": "markdown",
   "metadata": {},
   "source": [
    "__Plotting packages and options__\n",
    "\n",
    "[Scientific Plotting in Python](http://www.pycon.se/2014/assets/slides/Plotly-Pycon-Sweden.pdf)  \n",
    "[Interactive Plotting in IPython Notebook (Part 1/2): Bokeh](https://pyscience.wordpress.com/2014/09/01/interactive-plotting-in-ipython-notebook-part-12-bokeh/)  \n",
    "[Interactive Plotting in IPython Notebook (Part 2/2): Plotly](https://pyscience.wordpress.com/2014/09/02/interactive-plotting-in-ipython-notebook-part-22-plotly-2/)  \n",
    "[Overview of Python Visualization Tools ](http://pbpython.com/visualization-tools-1.html)  \n",
    "[Comparing Python web visualization libraries](http://nipunbatra.github.io/2014/04/comparing-python-web-visualization/)  \n",
    "\n",
    "__matplotlib__\n",
    "[matplotlib](http://matplotlib.org/)\n",
    "[Gallery](http://matplotlib.org/gallery.html)\n",
    "[Examples](http://matplotlib.org/examples/index.html)\n",
    "[docs](http://matplotlib.org/contents.html#)\n",
    "\n",
    "__bokeh__\n",
    "[Welcome to bokeh](http://bokeh.pydata.org/en/latest/)\n",
    "[Gallery](http://bokeh.pydata.org/en/latest/docs/gallery.html)\n",
    "[Quickstart](http://bokeh.pydata.org/en/latest/docs/quickstart.html)\n",
    "[Tutorials](http://nbviewer.ipython.org/github/bokeh/bokeh-notebooks/blob/master/index.ipynb#Tutorial)\n",
    "[User Guide](http://bokeh.pydata.org/en/latest/docs/user_guide.html)\n",
    "\n",
    "__plotly__\n",
    "[What is Plotly.js](https://plot.ly/javascript/)\n",
    "[Plotly.js Open-Source Announcement](https://plot.ly/javascript/open-source-announcement/)\n",
    "[Getting Started: Plotly for Python](https://plot.ly/python/getting-started/)\n",
    "[Plotly Offline](https://plot.ly/python/offline/)\n",
    "[User Guide](https://plot.ly/python/user-guide/)\n",
    "[Plotly's Python API User Guide](http://nbviewer.ipython.org/github/plotly/python-user-guide/blob/master/Index.ipynb)\n",
    "[Example 3-D plot](https://plot.ly/~chriddyp/1780.embed)\n",
    "\n"
   ]
  },
  {
   "cell_type": "markdown",
   "metadata": {},
   "source": [
    "### Matplotlib in IPython notebook\n",
    "\n",
    "IPython can inline [matplotlib plots](http://matplotlib.org/).   \n",
    "\n",
    "<http://nbviewer.ipython.org/urls/raw.github.com/jakevdp/matplotlib_pydata2013/master/notebooks/05_Animations.ipynb> - animations  \n",
    "<http://nbviewer.ipython.org/urls/raw.github.com/jakevdp/matplotlib_pydata2013/master/notebooks/03_Widgets.ipynb> - interactivity  \n",
    "<http://nbviewer.ipython.org/github/dpsanders/matplotlib-examples/blob/master/colorline.ipynb> - multi-colour lines  "
   ]
  },
  {
   "cell_type": "code",
   "execution_count": 30,
   "metadata": {
    "collapsed": false
   },
   "outputs": [
    {
     "data": {
      "image/png": "[encoded data removed]",
      "text/plain": [
       "<matplotlib.figure.Figure at 0x2ada898>"
      ]
     },
     "metadata": {},
     "output_type": "display_data"
    }
   ],
   "source": [
    "%matplotlib inline\n",
    "\n",
    "import pylab as pl\n",
    "import numpy as np\n",
    "\n",
    "t = np.arange(0.0, 2.0, 0.01)\n",
    "s = np.sin(2*np.pi*t)\n",
    "pl.plot(t, s)\n",
    "pl.xlabel('time (s)')\n",
    "pl.ylabel('voltage (mV)')\n",
    "pl.title('About as simple as it gets, folks')\n",
    "pl.grid(True)\n",
    "# savefig(\"test.png\")\n",
    "# show()"
   ]
  },
  {
   "cell_type": "markdown",
   "metadata": {},
   "source": [
    "### Matplotlib in qt window\n",
    "\n",
    "Use the ipython magic command pylab to control the graphing backend, switch between inline and qt as required.<br>\n",
    "<http://stackoverflow.com/questions/14261903/how-can-i-open-the-interactive-matplotlib-window-in-ipython-notebook/14277370#14277370> "
   ]
  },
  {
   "cell_type": "markdown",
   "metadata": {},
   "source": [
    "### Seaborn distribution plotting\n",
    "The [seaborn](https://github.com/mwaskom/seaborn) package provides special means to plot distributions\n",
    "\n",
    "<http://nbviewer.ipython.org/github/mwaskom/seaborn/blob/master/examples/plotting_distributions.ipynb>"
   ]
  },
  {
   "cell_type": "markdown",
   "metadata": {},
   "source": [
    "### Including images into the notebook"
   ]
  },
  {
   "cell_type": "markdown",
   "metadata": {},
   "source": [
    "There are (at least) two ways to include images in the notebook.   \n",
    "\n",
    "    display(Image(filename='images/portalpage.png'))\n",
    "    HTML('<img src=\"files/images/portalpage.png\" width=600 height=600/>')\n",
    "    \n",
    "The first form includes the image in its natural size, but the size can be adjusted by width and height function parameters.  The second form injects HTML code and, likewise, allows you to set the image size."
   ]
  },
  {
   "cell_type": "code",
   "execution_count": 31,
   "metadata": {
    "collapsed": false
   },
   "outputs": [
    {
     "data": {
      "text/html": [
       "<img src=\"images/ipythonhelp.png\" width=400 height=200/>"
      ],
      "text/plain": [
       "<IPython.core.display.HTML object>"
      ]
     },
     "execution_count": 31,
     "metadata": {},
     "output_type": "execute_result"
    }
   ],
   "source": [
    "HTML('<img src=\"images/ipythonhelp.png\" width=400 height=200/>')"
   ]
  },
  {
   "cell_type": "code",
   "execution_count": 32,
   "metadata": {
    "collapsed": false
   },
   "outputs": [
    {
     "data": {
      "image/png": "[encoded data removed]",
      "text/plain": [
       "<IPython.core.display.Image object>"
      ]
     },
     "metadata": {
      "image/png": {
       "height": 250,
       "width": 250
      }
     },
     "output_type": "display_data"
    }
   ],
   "source": [
    "display(Image(filename='images/ipythonhelp.png', width=250, height=250))"
   ]
  },
  {
   "cell_type": "markdown",
   "metadata": {},
   "source": [
    "Images can also be included as markdown by using the following format  \n",
    "`!['replacement test'](images/ipythonhelp.png)`\n",
    "\n",
    "!['replacement test'](images/ipythonhelp.png)\n",
    "\n"
   ]
  },
  {
   "cell_type": "markdown",
   "metadata": {},
   "source": [
    "### Embedded vs non-embedded images"
   ]
  },
  {
   "cell_type": "markdown",
   "metadata": {},
   "source": [
    "As of IPython 0.13, images are embedded by default for compatibility with QtConsole, and the ability to still be displayed offline.\n",
    "\n",
    "<http://www.slideviper.oquanta.info/nbcreveal/sky_test.html?theme=sky#/7>"
   ]
  },
  {
   "cell_type": "code",
   "execution_count": 33,
   "metadata": {
    "collapsed": false
   },
   "outputs": [
    {
     "data": {
      "image/png": "[encoded data removed]",
      "text/plain": [
       "<IPython.core.display.Image object>"
      ]
     },
     "metadata": {},
     "output_type": "display_data"
    }
   ],
   "source": [
    "# by default Image data are embedded\n",
    "picUrl = 'https://raw.githubusercontent.com/NelisW/pyradi/master/pyradi/doc/_images/pyradi.png'\n",
    "Embed  = Image(picUrl)\n",
    "display(Embed)\n",
    "\n",
    "# if kwarg `url` is given, the embedding is assumed to be false\n",
    "# SoftLinked = Image(url=picUrl)\n",
    "\n",
    "# In each case, embed can be specified explicitly with the `embed` kwarg\n",
    "# ForceEmbed = Image(url=picUrl, embed=True)"
   ]
  },
  {
   "cell_type": "markdown",
   "metadata": {},
   "source": [
    "### Embedding other media"
   ]
  },
  {
   "cell_type": "markdown",
   "metadata": {},
   "source": [
    "SVG graphic."
   ]
  },
  {
   "cell_type": "code",
   "execution_count": 34,
   "metadata": {
    "collapsed": false
   },
   "outputs": [
    {
     "data": {
      "image/svg+xml": [
       "<svg height=\"280.23193\" id=\"svg2\" inkscape:version=\"0.48.4 r9939\" sodipodi:docname=\"solidangleflatplate.svg\" version=\"1.1\" width=\"478.14612\" xmlns=\"http://www.w3.org/2000/svg\" xmlns:cc=\"http://creativecommons.org/ns#\" xmlns:dc=\"http://purl.org/dc/elements/1.1/\" xmlns:inkscape=\"http://www.inkscape.org/namespaces/inkscape\" xmlns:rdf=\"http://www.w3.org/1999/02/22-rdf-syntax-ns#\" xmlns:sodipodi=\"http://sodipodi.sourceforge.net/DTD/sodipodi-0.dtd\" xmlns:svg=\"http://www.w3.org/2000/svg\">\n",
       "  <defs id=\"defs4\"/>\n",
       "  <sodipodi:namedview bordercolor=\"#666666\" borderopacity=\"1.0\" fit-margin-bottom=\"0\" fit-margin-left=\"0\" fit-margin-right=\"0\" fit-margin-top=\"0\" id=\"base\" inkscape:current-layer=\"layer1\" inkscape:cx=\"235.97462\" inkscape:cy=\"146.30084\" inkscape:document-units=\"px\" inkscape:pageopacity=\"0.0\" inkscape:pageshadow=\"2\" inkscape:window-height=\"998\" inkscape:window-maximized=\"1\" inkscape:window-width=\"1920\" inkscape:window-x=\"-8\" inkscape:window-y=\"-8\" inkscape:zoom=\"0.77064723\" pagecolor=\"#ffffff\" showgrid=\"false\"/>\n",
       "  <metadata id=\"metadata7\">\n",
       "    <rdf:RDF>\n",
       "      <cc:Work rdf:about=\"\">\n",
       "        <dc:format>image/svg+xml</dc:format>\n",
       "        <dc:type rdf:resource=\"http://purl.org/dc/dcmitype/StillImage\"/>\n",
       "        <dc:title/>\n",
       "      </cc:Work>\n",
       "    </rdf:RDF>\n",
       "  </metadata>\n",
       "  <g id=\"layer1\" inkscape:groupmode=\"layer\" inkscape:label=\"Layer 1\" transform=\"translate(-136.07262,-392.25)\">\n",
       "    <path d=\"m 388.50612,649.77869 225.24125,-204.57125 -238.88875,1.0175 -226.5985,204.23187 240.246,-0.67812\" id=\"path2997\" inkscape:connector-curvature=\"0\" style=\"fill:#dedede;fill-opacity:1;fill-rule:evenodd;stroke:none\"/>\n",
       "    <path d=\"m 388.50612,649.77869 225.24125,-204.57125 -238.88875,1.0175 -226.5985,204.23187 240.246,-0.67812 z\" id=\"path2999\" inkscape:connector-curvature=\"0\" style=\"fill:none;stroke:#262626;stroke-width:0.36000001;stroke-linecap:butt;stroke-linejoin:miter;stroke-miterlimit:22.92560005;stroke-opacity:1;stroke-dasharray:none\"/>\n",
       "    <path d=\"m 379.85487,392.42244 c 1.9975,0 3.6175,1.58375 3.6175,3.53625 0,1.95375 -1.62,3.5375 -3.6175,3.5375 -1.99875,0 -3.61875,-1.58375 -3.61875,-3.5375 0,-1.9525 1.62,-3.53625 3.61875,-3.53625\" id=\"path3001\" inkscape:connector-curvature=\"0\" style=\"fill:#adadad;fill-opacity:1;fill-rule:evenodd;stroke:none\"/>\n",
       "    <path d=\"m 379.85487,392.42244 c 1.9975,0 3.6175,1.58375 3.6175,3.53625 0,1.95375 -1.62,3.5375 -3.6175,3.5375 -1.99875,0 -3.61875,-1.58375 -3.61875,-3.5375 0,-1.9525 1.62,-3.53625 3.61875,-3.53625 z\" id=\"path3003\" inkscape:connector-curvature=\"0\" style=\"fill:none;stroke:#262626;stroke-width:0.36000001;stroke-linecap:butt;stroke-linejoin:miter;stroke-miterlimit:22.92560005;stroke-opacity:1;stroke-dasharray:none\"/>\n",
       "    <path d=\"M 142.30651,646.12631 359.54487,450.63994\" id=\"path3005\" inkscape:connector-curvature=\"0\" style=\"fill:none;stroke:#262626;stroke-width:0.36000001;stroke-linecap:butt;stroke-linejoin:miter;stroke-miterlimit:22.92560005;stroke-opacity:1;stroke-dasharray:none\"/>\n",
       "    <path d=\"m 140.48962,643.33094 -2.24756,6.45312 6.65381,-1.55662 -4.40625,-4.8965\" id=\"path3007\" inkscape:connector-curvature=\"0\" style=\"fill:#262626;fill-opacity:1;fill-rule:evenodd;stroke:none\"/>\n",
       "    <path d=\"m 356.95612,448.53869 6.65375,-1.5575 -2.2475,6.45375 -4.40625,-4.89625\" id=\"path3009\" inkscape:connector-curvature=\"0\" style=\"fill:#262626;fill-opacity:1;fill-rule:evenodd;stroke:none\"/>\n",
       "    <path d=\"m 368.61362,660.96713 -227.07274,0\" id=\"path3011\" inkscape:connector-curvature=\"0\" style=\"fill:none;stroke:#262626;stroke-width:0.36000001;stroke-linecap:butt;stroke-linejoin:miter;stroke-miterlimit:22.92560005;stroke-opacity:1;stroke-dasharray:none\"/>\n",
       "    <path d=\"m 368.09362,664.26059 5.9875,-3.29346 -5.9875,-3.29344 0,6.5869\" id=\"path3013\" inkscape:connector-curvature=\"0\" style=\"fill:#262626;fill-opacity:1;fill-rule:evenodd;stroke:none\"/>\n",
       "    <path d=\"m 142.05993,664.26059 -5.98731,-3.29346 5.98731,-3.29344 0,6.5869\" id=\"path3015\" inkscape:connector-curvature=\"0\" style=\"fill:#262626;fill-opacity:1;fill-rule:evenodd;stroke:none\"/>\n",
       "    <g id=\"g3017\" transform=\"matrix(1.25,0,0,-1.25,134.93737,673.31869)\">\n",
       "      <text id=\"text3019\" transform=\"matrix(0.66938351,0.00390921,-0.74291703,-0.66501032,82.2539,0.714063)\">\n",
       "        <tspan id=\"tspan3021\" style=\"font-size:16.04628372px;font-style:italic;font-variant:normal;font-weight:normal;writing-mode:lr-tb;fill:#262626;fill-opacity:1;fill-rule:nonzero;stroke:none;font-family:Palatino Linotype;-inkscape-font-specification:PalatinoLinotype-Roman-NormalItalic\" x=\"0\" y=\"0\">D</tspan>\n",
       "      </text>\n",
       "      <text id=\"text3023\" transform=\"matrix(0.74291291,0.66500552,0.66938808,0.00390357,90.8168,102.147)\">\n",
       "        <tspan id=\"tspan3025\" style=\"font-size:16.43293762px;font-style:italic;font-variant:normal;font-weight:normal;writing-mode:lr-tb;fill:#262626;fill-opacity:1;fill-rule:nonzero;stroke:none;font-family:Palatino Linotype;-inkscape-font-specification:PalatinoLinotype-Roman-NormalItalic\" x=\"0\" y=\"0\">W</tspan>\n",
       "      </text>\n",
       "    </g>\n",
       "    <path d=\"m 380.51112,537.96994 -0.6825,-136.58875\" id=\"path3027\" inkscape:connector-curvature=\"0\" style=\"fill:none;stroke:#262626;stroke-width:0.36000001;stroke-linecap:butt;stroke-linejoin:miter;stroke-miterlimit:22.92560005;stroke-opacity:1;stroke-dasharray:none\"/>\n",
       "    <path d=\"m 377.21487,537.46744 3.32375,5.97125 3.26375,-6.00375 -6.5875,0.0325\" id=\"path3029\" inkscape:connector-curvature=\"0\" style=\"fill:#262626;fill-opacity:1;fill-rule:evenodd;stroke:none\"/>\n",
       "    <path d=\"m 376.53737,401.91619 3.26375,-6.00375 3.32375,5.97125 -6.5875,0.0325\" id=\"path3031\" inkscape:connector-curvature=\"0\" style=\"fill:#262626;fill-opacity:1;fill-rule:evenodd;stroke:none\"/>\n",
       "    <path d=\"m 509.07237,514.24869 10.8025,-9.83375 -11.46125,0 -10.99625,9.795 11.655,0.0388\" id=\"path3033\" inkscape:connector-curvature=\"0\" style=\"fill:#ffffff;fill-opacity:1;fill-rule:evenodd;stroke:none\"/>\n",
       "    <path d=\"m 509.07237,514.24869 10.8025,-9.83375 -11.46125,0 -10.99625,9.795 11.655,0.0388 z\" id=\"path3035\" inkscape:connector-curvature=\"0\" style=\"fill:none;stroke:#262626;stroke-width:0.36000001;stroke-linecap:butt;stroke-linejoin:miter;stroke-miterlimit:22.92560005;stroke-opacity:1;stroke-dasharray:none\"/>\n",
       "    <path d=\"m 379.83987,396.53244 129.56,111.83125 0,-79.6825\" id=\"path3043\" inkscape:connector-curvature=\"0\" style=\"fill:none;stroke:#262626;stroke-width:0.36000001;stroke-linecap:butt;stroke-linejoin:miter;stroke-miterlimit:22.92560005;stroke-opacity:1;stroke-dasharray:none\"/>\n",
       "    <g id=\"g3045\" transform=\"matrix(1.25,0,0,-1.25,134.93737,673.31869)\">\n",
       "      <text id=\"text3047\" transform=\"matrix(1,0,0,-1,230.003,194.756)\">\n",
       "        <tspan id=\"tspan3049\" style=\"font-size:10.99969959px;font-style:italic;font-variant:normal;font-weight:normal;writing-mode:lr-tb;fill:#262626;fill-opacity:1;fill-rule:nonzero;stroke:none;font-family:Palatino Linotype;-inkscape-font-specification:PalatinoLinotype-Roman-NormalItalic\" x=\"0\" y=\"0\">R</tspan>\n",
       "        <tspan id=\"tspan3051\" sodipodi:role=\"line\" style=\"font-size:10.99969959px;font-style:italic;font-variant:normal;font-weight:normal;writing-mode:lr-tb;fill:#262626;fill-opacity:1;fill-rule:nonzero;stroke:none;font-family:Palatino Linotype;-inkscape-font-specification:PalatinoLinotype-Roman-NormalItalic\" x=\"73.685501 79.185349\" y=\"69.308197\">dw</tspan>\n",
       "        <tspan id=\"tspan3053\" sodipodi:role=\"line\" style=\"font-size:10.99969959px;font-style:italic;font-variant:normal;font-weight:normal;writing-mode:lr-tb;fill:#262626;fill-opacity:1;fill-rule:nonzero;stroke:none;font-family:Palatino Linotype;-inkscape-font-specification:PalatinoLinotype-Roman-NormalItalic\" x=\"54.046398 59.546249\" y=\"76.946091\">dd</tspan>\n",
       "      </text>\n",
       "      <text id=\"text3055\" transform=\"matrix(1,0,0,-1,286.7201,152.38961)\">\n",
       "        <tspan id=\"tspan3057\" style=\"font-size:10.99969959px;font-style:italic;font-variant:normal;writing-mode:lr-tb;fill:#262626;fill-opacity:1;fill-rule:nonzero;stroke:none;font-family:PazoMath;-inkscape-font-specification:PazoMath-Italic\" x=\"0\" y=\"0\">θ</tspan>\n",
       "      </text>\n",
       "    </g>\n",
       "    <path d=\"m 477.22862,473.57369 c 8.7875,-8.08125 20.2775,-12.585 32.215,-12.62625\" id=\"path3059\" inkscape:connector-curvature=\"0\" style=\"fill:none;stroke:#262626;stroke-width:0.36000001;stroke-linecap:round;stroke-linejoin:round;stroke-miterlimit:22.92560005;stroke-opacity:1;stroke-dasharray:none\"/>\n",
       "    <path d=\"m 475.38112,470.79744 -2.1775,6.4775 6.63625,-1.62875 -4.45875,-4.84875\" id=\"path3061\" inkscape:connector-curvature=\"0\" style=\"fill:#262626;fill-opacity:1;fill-rule:evenodd;stroke:none\"/>\n",
       "    <path d=\"m 267.45362,543.88744 237.995,0\" id=\"path3063\" inkscape:connector-curvature=\"0\" style=\"fill:none;stroke:#262626;stroke-width:0.36000001;stroke-linecap:butt;stroke-linejoin:miter;stroke-miterlimit:22.92560005;stroke-opacity:1;stroke-dasharray:none\"/>\n",
       "    <path d=\"M 264.05862,649.43881 488.21612,445.74744\" id=\"path3065\" inkscape:connector-curvature=\"0\" style=\"fill:none;stroke:#262626;stroke-width:0.36000001;stroke-linecap:butt;stroke-linejoin:miter;stroke-miterlimit:22.92560005;stroke-opacity:1;stroke-dasharray:none\"/>\n",
       "    <g id=\"g3067\" transform=\"matrix(1.25,0,0,-1.25,134.93737,673.31869)\">\n",
       "      <text id=\"text3069\" transform=\"matrix(1,0,0,-1,184.332,153.632)\">\n",
       "        <tspan id=\"tspan3071\" style=\"font-size:10.99969959px;font-style:italic;font-variant:normal;font-weight:normal;writing-mode:lr-tb;fill:#262626;fill-opacity:1;fill-rule:nonzero;stroke:none;font-family:Palatino Linotype;-inkscape-font-specification:PalatinoLinotype-Roman-NormalItalic\" x=\"0\" y=\"0\">H</tspan>\n",
       "      </text>\n",
       "    </g>\n",
       "    <text id=\"text3190\" sodipodi:linespacing=\"125%\" style=\"font-size:40px;font-style:normal;font-weight:normal;line-height:125%;letter-spacing:0px;word-spacing:0px;fill:#000000;fill-opacity:1;stroke:none;font-family:Sans\" x=\"293.50751\" xml:space=\"preserve\" y=\"404.64066\"><tspan id=\"tspan3192\" sodipodi:role=\"line\" style=\"font-size:11px;font-style:normal;font-variant:normal;font-weight:normal;font-stretch:normal;font-family:Palatino Linotype;-inkscape-font-specification:Palatino Linotype\" x=\"293.50751\" y=\"404.64066\">Reference point</tspan></text>\n",
       "  </g>\n",
       "</svg>"
      ],
      "text/plain": [
       "<IPython.core.display.SVG object>"
      ]
     },
     "execution_count": 34,
     "metadata": {},
     "output_type": "execute_result"
    }
   ],
   "source": [
    "from IPython.display import SVG\n",
    "SVG(filename='images/solidangleflatplate.svg')"
   ]
  },
  {
   "cell_type": "markdown",
   "metadata": {},
   "source": [
    "### Embed a video from YouTube."
   ]
  },
  {
   "cell_type": "code",
   "execution_count": 35,
   "metadata": {
    "collapsed": false
   },
   "outputs": [
    {
     "data": {
      "image/jpeg": "[encoded data removed]",
      "text/html": [
       "\n",
       "        <iframe\n",
       "            width=\"400\"\n",
       "            height=\"300\"\n",
       "            src=\"https://www.youtube.com/embed/1j_HxD4iLn8\"\n",
       "            frameborder=\"0\"\n",
       "            allowfullscreen\n",
       "        ></iframe>\n",
       "        "
      ],
      "text/plain": [
       "<IPython.lib.display.YouTubeVideo at 0x83ed4e0>"
      ]
     },
     "execution_count": 35,
     "metadata": {},
     "output_type": "execute_result"
    }
   ],
   "source": [
    "from IPython.display import YouTubeVideo\n",
    "# a talk about IPython at Sage Days at U. Washington, Seattle.\n",
    "# Video credit: William Stein.\n",
    "YouTubeVideo('1j_HxD4iLn8')"
   ]
  },
  {
   "cell_type": "markdown",
   "metadata": {},
   "source": [
    "### Embed an external web page."
   ]
  },
  {
   "cell_type": "code",
   "execution_count": 36,
   "metadata": {
    "collapsed": false
   },
   "outputs": [
    {
     "data": {
      "text/html": [
       "<iframe src=https://en.wikipedia.org/wiki/Einstein width=700 height=350></iframe>"
      ],
      "text/plain": [
       "<IPython.core.display.HTML object>"
      ]
     },
     "execution_count": 36,
     "metadata": {},
     "output_type": "execute_result"
    }
   ],
   "source": [
    "HTML('<iframe src=https://en.wikipedia.org/wiki/Einstein width=700 height=350></iframe>')"
   ]
  },
  {
   "cell_type": "markdown",
   "metadata": {},
   "source": [
    "## Interactive widgets"
   ]
  },
  {
   "cell_type": "markdown",
   "metadata": {},
   "source": [
    "IPython includes an architecture for interactive widgets that tie together Python code running in the kernel and JavaScript/HTML/CSS running in the browser. These widgets enable users to explore their code and data interactively. For details see  \n",
    "\n",
    "<http://nbviewer.ipython.org/github/ipython/ipython/blob/master/examples/Interactive%20Widgets/Index.ipynb>  \n",
    "<https://github.com/ipython/ipython/tree/master/examples/Interactive%20Widgets>  \n",
    "\n",
    "<https://www.youtube.com/watch?v=VaV10VNZCLA>  \n",
    "<https://www.youtube.com/watch?v=vE_CJTen15M>  \n",
    "<https://www.youtube.com/watch?v=o7Tb7YhJZR0>  \n",
    "<https://www.youtube.com/watch?v=wxVx54ax47s>  \n",
    "\n",
    "<https://github.com/ipython/ipython/wiki/Widgets>\n",
    "\n",
    "The following examples are taken from  \n",
    "<https://github.com/ipython/ipython-in-depth/tree/master/examples/Interactive%20Widgets>  \n",
    "\n",
    "\n",
    "Upgrading widgets from IPython 2 to 3:  \n",
    "<http://ipython.org/ipython-doc/3/whatsnew/version3_widget_migration.html>\n",
    "\n",
    "IPython widgets in Jupyter/IPython 4  \n",
    "<https://keminglabs.com/print-the-docs-pdfs/1518024.pdf>  \n",
    "<https://github.com/ipython/ipywidgets/blob/master/examples/notebooks/Widget%20Basics.ipynb>  \n",
    "\n",
    "\n"
   ]
  },
  {
   "cell_type": "markdown",
   "metadata": {},
   "source": [
    "<font size=\"5\" color=\"red\">These widgets seem not to work in Firefox or Chrome</font>"
   ]
  },
  {
   "cell_type": "code",
   "execution_count": 37,
   "metadata": {
    "collapsed": false
   },
   "outputs": [
    {
     "data": {
      "text/plain": [
       "['Accordion',\n",
       " 'BoundedFloatText',\n",
       " 'BoundedIntText',\n",
       " 'Box',\n",
       " 'Button',\n",
       " 'CallbackDispatcher',\n",
       " 'Checkbox',\n",
       " 'Color',\n",
       " 'ColorPicker',\n",
       " 'CommInfo',\n",
       " 'Controller',\n",
       " 'DOMWidget',\n",
       " 'Dropdown',\n",
       " 'EventfulDict',\n",
       " 'EventfulList',\n",
       " 'FlexBox',\n",
       " 'FloatProgress',\n",
       " 'FloatRangeSlider',\n",
       " 'FloatSlider',\n",
       " 'FloatText',\n",
       " 'HBox',\n",
       " 'HTML',\n",
       " 'Image',\n",
       " 'IntProgress',\n",
       " 'IntRangeSlider',\n",
       " 'IntSlider',\n",
       " 'IntText',\n",
       " 'Latex',\n",
       " 'Output',\n",
       " 'PlaceProxy',\n",
       " 'Proxy',\n",
       " 'RadioButtons',\n",
       " 'Select',\n",
       " 'SelectMultiple',\n",
       " 'Tab',\n",
       " 'Text',\n",
       " 'Textarea',\n",
       " 'ToggleButton',\n",
       " 'ToggleButtons',\n",
       " 'VBox',\n",
       " 'Valid',\n",
       " 'Widget']"
      ]
     },
     "execution_count": 37,
     "metadata": {},
     "output_type": "execute_result"
    }
   ],
   "source": [
    "# import IPython.html.widgets as widgets\n",
    "from IPython.display import display\n",
    "import ipywidgets\n",
    "from ipywidgets import widgets  \n",
    "\n",
    "[n for n in dir(ipywidgets) if n[0] == n[0].upper() and not n[0] == '_']\n"
   ]
  },
  {
   "cell_type": "code",
   "execution_count": 38,
   "metadata": {
    "collapsed": false
   },
   "outputs": [],
   "source": [
    "xx = widgets.FloatSlider(\n",
    "    value=7.5,\n",
    "    min=5.0,\n",
    "    max=10.0,\n",
    "    step=0.1,\n",
    "    description='Test:',\n",
    ")\n",
    "\n",
    "y = ipywidgets.Checkbox(\n",
    "    description='Check me',\n",
    "    value=True,\n",
    ")\n",
    "\n",
    "w = ipywidgets.Dropdown(\n",
    "    options = [ 'test 1', 'option 2', 'selection 3',],\n",
    "    value='option 2',\n",
    "    description='Number:',\n",
    ")\n",
    "\n",
    "#use ordered dic to get required sorting sequence\n",
    "from collections import OrderedDict\n",
    "foclens = [ 0.3,  0.4,  0.5,  0.6,  0.7,  0.8,  0.9,  1.,   1.1,  1.2,  1.3,  1.4,  1.5]\n",
    "m = ipywidgets.Dropdown(\n",
    "    options = OrderedDict([(str(x), str(x)) for x in foclens]) ,\n",
    "    value='0.4',\n",
    "    description='Focal length:',\n",
    ")\n",
    "\n",
    "\n",
    "\n",
    "from IPython.display import display\n",
    "\n",
    "display(xx)\n",
    "display(y)\n",
    "display(w)\n",
    "display(m)\n"
   ]
  },
  {
   "cell_type": "code",
   "execution_count": 39,
   "metadata": {
    "collapsed": false
   },
   "outputs": [
    {
     "name": "stdout",
     "output_type": "stream",
     "text": [
      "MOW\n"
     ]
    }
   ],
   "source": [
    "# http://stackoverflow.com/questions/28529157/dynamically-changing-dropdowns-in-ipython-notebook-widgets-and-spyre\n",
    "# from IPython.html import widgets\n",
    "from IPython.display import display\n",
    "\n",
    "geo={'USA':['CHI','NYC'],'Russia':['MOW','LED']}\n",
    "\n",
    "def print_city(city):\n",
    "    print city\n",
    "\n",
    "def select_city(country):\n",
    "    cityW.options = geo[country]\n",
    "\n",
    "\n",
    "scW = ipywidgets.Select(options=geo.keys())\n",
    "init = scW.value\n",
    "cityW = ipywidgets.Select(options=geo[init])\n",
    "j = ipywidgets.interactive(print_city, city=cityW)\n",
    "i = ipywidgets.interactive(select_city, country=scW)\n",
    "display(i)\n",
    "display(j)"
   ]
  },
  {
   "cell_type": "markdown",
   "metadata": {},
   "source": [
    "The following two cells illustrate how a slider is used in the `widgets.interactive` function to test the value of the slider and then do something with the value.  The example below shows how to pass 'fixed' or non-widget parameters to the function.  Any number of such widgets may be passed, but they must all be named.\n",
    "\n",
    "For more examples see the links shown above.  An example of interactive image segmentation is shown in notebook '10-ImageUtilities' in this series."
   ]
  },
  {
   "cell_type": "code",
   "execution_count": 40,
   "metadata": {
    "collapsed": false
   },
   "outputs": [],
   "source": [
    "def doSomething(scale, thx):\n",
    "    print('scale={} thx={} product={}'.format(scale, thx, scale * thx))\n",
    "    return (scale, thx)"
   ]
  },
  {
   "cell_type": "code",
   "execution_count": 41,
   "metadata": {
    "collapsed": false
   },
   "outputs": [
    {
     "name": "stdout",
     "output_type": "stream",
     "text": [
      "scale=5.0 thx=128.0 product=640.0\n"
     ]
    },
    {
     "data": {
      "text/plain": [
       "(5.0, 128.0)"
      ]
     },
     "metadata": {},
     "output_type": "display_data"
    }
   ],
   "source": [
    "scale = 5.0\n",
    "v = ipywidgets.interactive(doSomething, scale=ipywidgets.fixed(scale), \n",
    "                        thx=ipywidgets.FloatSlider(value=128, min=0.0, max=255.0, step=1))\n",
    "display(v)"
   ]
  },
  {
   "cell_type": "code",
   "execution_count": 42,
   "metadata": {
    "collapsed": false
   },
   "outputs": [
    {
     "name": "stderr",
     "output_type": "stream",
     "text": [
      "C:\\Anaconda2\\lib\\site-packages\\ipykernel\\__main__.py:29: DeprecationWarning: on_trait_change is deprecated: use observe instead\n",
      "C:\\Anaconda2\\lib\\site-packages\\ipykernel\\__main__.py:31: DeprecationWarning: on_trait_change is deprecated: use observe instead\n",
      "C:\\Anaconda2\\lib\\site-packages\\ipykernel\\__main__.py:32: DeprecationWarning: on_trait_change is deprecated: use observe instead\n"
     ]
    }
   ],
   "source": [
    "form = widgets.VBox()\n",
    "first = widgets.Text(description=\"First Name:\")\n",
    "last = widgets.Text(description=\"Last Name:\")\n",
    "\n",
    "students = widgets.VBox(visible=True, children=[\n",
    "    widgets.Checkbox(description=\"Student1:\", value=False),\n",
    "    widgets.Checkbox(description=\"Student2:\", value=False),\n",
    "    ])\n",
    "\n",
    "student = widgets.Checkbox(description=\"Student:\", value=False)\n",
    "\n",
    "school_info = widgets.VBox(visible=False, children=[\n",
    "    widgets.Text(description=\"School:\"),\n",
    "    widgets.IntText(description=\"Grade:\", min=0, max=12)\n",
    "    ])\n",
    "\n",
    "pet = widgets.Text(description=\"Pet's Name:\")\n",
    "\n",
    "form.children = [first, last, student, students, school_info, pet]\n",
    "\n",
    "display(form)\n",
    "\n",
    "def on_student_toggle(name, value):\n",
    "    if value:\n",
    "        school_info.visible = True\n",
    "    else:\n",
    "        school_info.visible = False\n",
    "        \n",
    "student.on_trait_change(on_student_toggle, 'value')\n",
    "\n",
    "students.children[0].on_trait_change(on_student_toggle, 'value')\n",
    "students.children[1].on_trait_change(on_student_toggle, 'value')\n",
    "\n"
   ]
  },
  {
   "cell_type": "code",
   "execution_count": 43,
   "metadata": {
    "collapsed": false
   },
   "outputs": [
    {
     "name": "stderr",
     "output_type": "stream",
     "text": [
      "C:\\Anaconda2\\lib\\site-packages\\ipykernel\\__main__.py:21: DeprecationWarning: on_trait_change is deprecated: use observe instead\n"
     ]
    }
   ],
   "source": [
    "form = widgets.VBox()\n",
    "first = widgets.Text(description=\"First Name:\")\n",
    "last = widgets.Text(description=\"Last Name:\")\n",
    "\n",
    "student = widgets.Checkbox(description=\"Student:\", value=False)\n",
    "\n",
    "school_info = widgets.VBox(visible=False, children=[\n",
    "    widgets.Text(description=\"School:\"),\n",
    "    widgets.IntText(description=\"Grade:\", min=0, max=12)\n",
    "    ])\n",
    "\n",
    "pet = widgets.Text(description=\"Pet's Name:\")\n",
    "form.children = [first, last, student, school_info, pet]\n",
    "display(form)\n",
    "\n",
    "def on_student_toggle(name, value):\n",
    "    if value:\n",
    "        school_info.visible = True\n",
    "    else:\n",
    "        school_info.visible = False\n",
    "student.on_trait_change(on_student_toggle, 'value')"
   ]
  },
  {
   "cell_type": "code",
   "execution_count": 44,
   "metadata": {
    "collapsed": false
   },
   "outputs": [],
   "source": [
    "from IPython.display import display\n",
    "\n",
    "float_range = widgets.FloatSlider()\n",
    "string = widgets.Text(value='hi')\n",
    "container = widgets.Box(children=[float_range, string])\n",
    "\n",
    "container.border_color = 'red'\n",
    "container.border_style = 'dotted'\n",
    "container.border_width = 3\n",
    "display(container) # Displays the `container` and all of it's children.\n",
    "\n",
    "def on_string_change(name, value):\n",
    "    print(value)\n",
    "\n",
    "# string.on_trait_change(on_string_change,'value')\n",
    "string.on_submit(on_string_change,'value')\n",
    "\n",
    "\n"
   ]
  },
  {
   "cell_type": "markdown",
   "metadata": {},
   "source": [
    "The following is an example by Ketcheson, Ahmadia and Granger taken from   \n",
    "<http://www.nature.com/news/ipython-interactive-demo-7.21492?article=1.16261>  \n",
    "It demonstrates aliasing during sampling of a signal.  To see the effects of aliasing:\n",
    "\n",
    "1. Run the next cell, then set the `grid_points` slider to `13`.\n",
    "2. Move the `frequency` slider to values above `10`.\n",
    "3. As the frequency increases, the measured signal (blue) has a lower frequency than the real one (red)."
   ]
  },
  {
   "cell_type": "code",
   "execution_count": 45,
   "metadata": {
    "collapsed": false
   },
   "outputs": [
    {
     "data": {
      "image/png": "[encoded data removed]",
      "text/plain": [
       "<matplotlib.figure.Figure at 0x75170b8>"
      ]
     },
     "metadata": {},
     "output_type": "display_data"
    }
   ],
   "source": [
    "# Import matplotlib (plotting) and numpy (numerical arrays).\n",
    "# This enables their use in the Notebook.\n",
    "%matplotlib inline\n",
    "import matplotlib.pyplot as plt\n",
    "import numpy as np\n",
    "\n",
    "# Import IPython's interact function which is used below to\n",
    "# build the interactive widgets\n",
    "from IPython.html.widgets import interact\n",
    "\n",
    "def plot_sine(frequency=4.0, grid_points=12, plot_original=True):\n",
    "    \"\"\"\n",
    "    Plot discrete samples of a sine wave on the interval ``[0, 1]``.\n",
    "    \"\"\"\n",
    "    x = np.linspace(0, 1, grid_points + 2)\n",
    "    y = np.sin(2 * frequency * np.pi * x)\n",
    "\n",
    "    xf = np.linspace(0, 1, 1000)\n",
    "    yf = np.sin(2 * frequency * np.pi * xf)\n",
    "\n",
    "    fig, ax = plt.subplots(figsize=(8, 6))\n",
    "    ax.set_xlabel('x')\n",
    "    ax.set_ylabel('signal')\n",
    "    ax.set_title('Aliasing in discretely sampled periodic signal')\n",
    "\n",
    "    if plot_original:\n",
    "        ax.plot(xf, yf, color='red', linestyle='solid', linewidth=2)\n",
    "\n",
    "    ax.plot(x,  y,  marker='o', linewidth=2)\n",
    "\n",
    "# The interact function automatically builds a user interface for exploring the\n",
    "# plot_sine function.\n",
    "interact(plot_sine, frequency=(1.0, 22.0, 0.5), grid_points=(10, 60, 1), plot_original=True);"
   ]
  },
  {
   "cell_type": "markdown",
   "metadata": {},
   "source": [
    "An example at <https://github.com/NelisW/ComputationalRadiometry/blob/master/10-ImageUtilities.ipynb> shows how to use interactive widgets when segmenting an image."
   ]
  },
  {
   "cell_type": "markdown",
   "metadata": {},
   "source": [
    "# The following information is somewhat esoteric, you need not go into this"
   ]
  },
  {
   "cell_type": "markdown",
   "metadata": {},
   "source": [
    "### Notebook file format"
   ]
  },
  {
   "cell_type": "markdown",
   "metadata": {},
   "source": [
    "From <http://ipython.org/ipython-doc/stable/notebook/nbconvert.html#notebook-json-file-format>  \n",
    "\n",
    "Binary data such as figures are also saved directly in the JSON file. This provides convenient single-file portability, but means that the files can be large; a diff of binary data is also not very meaningful. Since the binary blobs are encoded in a single line, they affect only one line of the diff output, but they are typically very long lines. You can use the Cell | All Output | Clear menu option to remove all output from a notebook prior to committing it to version control, if this is a concern.\n",
    "\n"
   ]
  },
  {
   "cell_type": "markdown",
   "metadata": {},
   "source": [
    "### Reading json files in IPython"
   ]
  },
  {
   "cell_type": "markdown",
   "metadata": {},
   "source": [
    "The following code reads this file and prints the first five  cells."
   ]
  },
  {
   "cell_type": "code",
   "execution_count": 46,
   "metadata": {
    "collapsed": false
   },
   "outputs": [
    {
     "name": "stderr",
     "output_type": "stream",
     "text": [
      "C:\\Anaconda2\\lib\\site-packages\\nbformat\\current.py:19: UserWarning: nbformat.current is deprecated.\n",
      "\n",
      "- use nbformat for read/write/validate public API\n",
      "- use nbformat.vX directly to composing notebooks of a particular version\n",
      "\n",
      "  \"\"\")\n"
     ]
    }
   ],
   "source": [
    "from nbformat import current\n",
    "with open('01-IPythonHintsAndTips.ipynb') as f:\n",
    "    nb = current.read(f, 'json')"
   ]
  },
  {
   "cell_type": "code",
   "execution_count": 47,
   "metadata": {
    "collapsed": false
   },
   "outputs": [
    {
     "data": {
      "text/plain": [
       "[{u'cell_type': 'heading',\n",
       "  'level': 1,\n",
       "  u'metadata': {},\n",
       "  u'source': u'1 Jupyter / IPython notebook hints and tips '},\n",
       " {u'cell_type': u'markdown',\n",
       "  u'metadata': {},\n",
       "  u'source': u'This notebook forms part of a series on [computational optical radiometry](https://github.com/NelisW/ComputationalRadiometry#computational-optical-radiometry-with-pyradi).  The notebooks can be downloaded from [Github](https://github.com/NelisW/ComputationalRadiometry#computational-optical-radiometry-with-pyradi). These notebooks are constantly revised and updated, please revisit from time to time.  \\n\\n\\n[<img src=\"https://zenodo.org/badge/doi/10.5281/zenodo.9910.png\"   align=\"left\"/>](http://dx.doi.org/10.5281/zenodo.9910)  \\n'},\n",
       " {u'cell_type': u'markdown',\n",
       "  u'metadata': {},\n",
       "  u'source': u'The date of this document and module versions used in this document are given at the end of the file.  \\nFeedback is appreciated: neliswillers at gmail dot com. '},\n",
       " {u'cell_type': 'heading',\n",
       "  'level': 1,\n",
       "  u'metadata': {},\n",
       "  u'source': u'Jupyter and IPython'},\n",
       " {u'cell_type': u'markdown',\n",
       "  u'metadata': {},\n",
       "  u'source': u'From <http://ipython.org/>:\\n\\n\"IPython is a growing project, with increasingly language-agnostic components. IPython 3.x will be the last monolithic release of IPython, containing the notebook server, qtconsole, etc. The language-agnostic parts of the project: the notebook format, message protocol, qtconsole, notebook web application, etc. will move to new projects under the name [Jupyter](https://jupyter.org/). IPython itself will return to being focused on interactive Python, part of which will be providing a Python kernel for Jupyter. IPython 3.0 contains some indications of the project transition, including the logo in the notebook web UI being that of Jupyter.\"\\n\\nIn this document, all references to IPython refer to the IPython kernel, running on top of Jupyter.\\n\\nIPython versions 2.x use the nbformat 3 file format.  \\nIPython versions 3.x use the nbformat 4 file format.  \\nTo convert from nb4 to nb3 format (from with Jupyter IPython 3 installed) type:  \\n\\n    ipython nbconvert --to notebook --nbformat 3 mynotebook.ipynb\\n\\n\\n\\n<http://ipython.org/ipython-doc/3/notebook/nbformat.html#nbformat>  \\n<http://ipython.org/ipython-doc/3/whatsnew/version3.html>  \\n'}]"
      ]
     },
     "execution_count": 47,
     "metadata": {},
     "output_type": "execute_result"
    }
   ],
   "source": [
    "nb.worksheets[0].cells[0:5]"
   ]
  },
  {
   "cell_type": "markdown",
   "metadata": {},
   "source": [
    "### Running notebook servers"
   ]
  },
  {
   "cell_type": "markdown",
   "metadata": {},
   "source": [
    "This document describes how you can secure a notebook server and how to run it on a public interface:  \n",
    "<http://ipython.org/ipython-doc/rel-1.1.0/interactive/public_server.html>\n",
    "\n"
   ]
  },
  {
   "cell_type": "markdown",
   "metadata": {
    "slideshow": {
     "slide_type": "slide"
    }
   },
   "source": [
    "### Markdown formatting in dynamic output display\n",
    "\n",
    "<http://catherinedevlin.blogspot.com/2013/06/easy-html-output-in-ipython-notebook.html>  \n",
    "\n",
    "For this to work, you first have to install the Python markdown package (assuming you have the pip python package installer):  \n",
    "`pip install markdown`\n",
    "\n",
    "Use the following function to render a Python string in markdown syntax to display in IPython:"
   ]
  },
  {
   "cell_type": "code",
   "execution_count": 48,
   "metadata": {
    "collapsed": false
   },
   "outputs": [],
   "source": [
    "import markdown\n",
    "class MD(str):\n",
    "    def _repr_html_(self):\n",
    "        return markdown.markdown(self)"
   ]
  },
  {
   "cell_type": "code",
   "execution_count": 49,
   "metadata": {
    "collapsed": false
   },
   "outputs": [
    {
     "data": {
      "text/html": [
       "<h2>Dynamic demonstration</h2>\n",
       "<p>This is a mixture of markdown <strong>and</strong> html:<br>\n",
       "The square root of 2 <font color=\"green\">used to be</font> somewhere near 1.41421356237</p>"
      ],
      "text/plain": [
       "'\\nDynamic demonstration\\n--------------\\nThis is a mixture of markdown **and** html:<br>\\nThe square root of 2 <font color=\"green\">used to be</font> somewhere near 1.41421356237'"
      ]
     },
     "execution_count": 49,
     "metadata": {},
     "output_type": "execute_result"
    }
   ],
   "source": [
    "import math\n",
    "a = 2\n",
    "MD(\"\"\"\n",
    "Dynamic demonstration\n",
    "--------------\n",
    "This is a mixture of markdown **and** html:<br>\n",
    "The square root of {0} <font color=\"green\">used to be</font> somewhere near {1}\"\"\".format(a,math.sqrt(a)))"
   ]
  },
  {
   "cell_type": "markdown",
   "metadata": {
    "slideshow": {
     "slide_type": "slide"
    }
   },
   "source": [
    "### HTML formatting in dynamic output display\n",
    "\n",
    "Use HTML to format the output of your code\n",
    "<http://python.6.x6.nabble.com/Printing-HTML-within-IPython-Notebook-IPython-specific-prettyprint-td5016624.html>"
   ]
  },
  {
   "cell_type": "code",
   "execution_count": 50,
   "metadata": {
    "collapsed": false
   },
   "outputs": [
    {
     "data": {
      "text/html": [
       "<p><i>Length</i> <b>0</b>"
      ],
      "text/plain": [
       "<IPython.core.display.HTML object>"
      ]
     },
     "metadata": {},
     "output_type": "display_data"
    },
    {
     "data": {
      "text/html": [
       "<p><i>Length</i> <b>1</b>"
      ],
      "text/plain": [
       "<IPython.core.display.HTML object>"
      ]
     },
     "metadata": {},
     "output_type": "display_data"
    },
    {
     "data": {
      "text/html": [
       "<p><i>Length</i> <b>2</b>"
      ],
      "text/plain": [
       "<IPython.core.display.HTML object>"
      ]
     },
     "metadata": {},
     "output_type": "display_data"
    }
   ],
   "source": [
    "from IPython.display import display, HTML \n",
    "for x in range(3): \n",
    "    display(HTML(\"<p><i>Length</i> <b>\" + str(x) + \"</b>\")) "
   ]
  },
  {
   "cell_type": "markdown",
   "metadata": {
    "slideshow": {
     "slide_type": "slide"
    }
   },
   "source": [
    "### Displaying tables in HTML\n",
    "\n",
    "<http://calebmadrigal.com/display-list-as-table-in-ipython-notebook/>"
   ]
  },
  {
   "cell_type": "code",
   "execution_count": 51,
   "metadata": {
    "collapsed": false
   },
   "outputs": [],
   "source": [
    "class ListTable(list):\n",
    "    \"\"\" Overridden list class which takes a 2-dimensional list of \n",
    "        the form [[1,2,3],[4,5,6]], and renders an HTML Table in \n",
    "        IPython Notebook. \"\"\"\n",
    "    \n",
    "    def _repr_html_(self):\n",
    "        html = [\"<table>\"]\n",
    "        for row in self:\n",
    "            html.append(\"<tr>\")\n",
    "            \n",
    "            for col in row:\n",
    "                html.append(\"<td>{0}</td>\".format(col))\n",
    "            \n",
    "            html.append(\"</tr>\")\n",
    "        html.append(\"</table>\")\n",
    "        return ''.join(html)"
   ]
  },
  {
   "cell_type": "code",
   "execution_count": 52,
   "metadata": {
    "collapsed": false
   },
   "outputs": [
    {
     "data": {
      "text/html": [
       "<table><tr><td>x</td><td>y</td><td>x-y</td><td>(x-y)**2</td></tr><tr><td>5.94788403502</td><td>0.484499866724</td><td>5.4633841683</td><td>29.8485665704</td></tr><tr><td>0.138178525717</td><td>4.72357216347</td><td>-4.58539363775</td><td>21.0258348131</td></tr><tr><td>8.98422507329</td><td>9.24577778071</td><td>-0.261552707421</td><td>0.0684098187592</td></tr><tr><td>4.59453372178</td><td>9.96467542442</td><td>-5.37014170264</td><td>28.8384219065</td></tr><tr><td>1.03609546924</td><td>0.236903099978</td><td>0.799192369266</td><td>0.638708443093</td></tr><tr><td>7.89003531021</td><td>8.83093044782</td><td>-0.940895137608</td><td>0.885283659975</td></tr><tr><td>3.24746441191</td><td>8.17497940425</td><td>-4.92751499233</td><td>24.2804039997</td></tr></table>"
      ],
      "text/plain": [
       "[['x', 'y', 'x-y', '(x-y)**2'],\n",
       " [5.94788403502384, 0.48449986672403633, 5.463384168299804, 29.84856657042894],\n",
       " [0.13817852571671563,\n",
       "  4.723572163465372,\n",
       "  -4.585393637748656,\n",
       "  21.025834813105856],\n",
       " [8.984225073289943,\n",
       "  9.245777780710764,\n",
       "  -0.2615527074208206,\n",
       "  0.06840981875916138],\n",
       " [4.594533721780452,\n",
       "  9.964675424423884,\n",
       "  -5.370141702643433,\n",
       "  28.838421906470106],\n",
       " [1.0360954692439006,\n",
       "  0.2369030999778976,\n",
       "  0.799192369266003,\n",
       "  0.6387084430930073],\n",
       " [7.890035310207956,\n",
       "  8.830930447816238,\n",
       "  -0.9408951376082815,\n",
       "  0.8852836599749069],\n",
       " [3.247464411911655, 8.174979404246283, -4.927514992334628, 24.28040399968253]]"
      ]
     },
     "execution_count": 52,
     "metadata": {},
     "output_type": "execute_result"
    }
   ],
   "source": [
    "import random\n",
    "table = ListTable()\n",
    "table.append(['x', 'y', 'x-y', '(x-y)**2'])\n",
    "for i in xrange(7):\n",
    "    x = random.uniform(0, 10)\n",
    "    y = random.uniform(0, 10)\n",
    "    table.append([x, y, x-y, (x-y)**2])\n",
    "    \n",
    "table"
   ]
  },
  {
   "cell_type": "markdown",
   "metadata": {
    "slideshow": {
     "slide_type": "slide"
    }
   },
   "source": [
    "## Fine-tuning IPython typographic output appearance\n",
    "\n",
    "Changing the fonts, colours and layout to suit your own style.  \n",
    "<http://slendrmeans.wordpress.com/2012/12/05/better-typography-for-ipython-notebooks/>   \n",
    "<http://zulko.wordpress.com/2013/04/14/customize-your-ipython-notebook-with-css/>  "
   ]
  },
  {
   "cell_type": "markdown",
   "metadata": {
    "slideshow": {
     "slide_type": "slide"
    }
   },
   "source": [
    "## Adding IPython display output to existing objects\n",
    "\n",
    "<http://nbviewer.ipython.org/url/github.com/ipython/ipython/raw/master/examples/notebooks/Custom%20Display%20Logic.ipynb>\n",
    "\n",
    "For example, define a function that pretty-prints a polynomial as a LaTeX string:"
   ]
  },
  {
   "cell_type": "code",
   "execution_count": 53,
   "metadata": {
    "collapsed": false
   },
   "outputs": [],
   "source": [
    "def poly2latex(p):\n",
    "    terms = ['%.2g' % p.coef[0]]\n",
    "    if len(p) > 1:\n",
    "        term = 'x'\n",
    "        c = p.coef[1]\n",
    "        if c!=1:\n",
    "            term = ('%.2g ' % c) + term\n",
    "        terms.append(term)\n",
    "    if len(p) > 2:\n",
    "        for i in range(2, len(p)):\n",
    "            term = 'x^%d' % i\n",
    "            c = p.coef[i]\n",
    "            if c!=1:\n",
    "                term = ('%.2g ' % c) + term\n",
    "            terms.append(term)\n",
    "    px = '$P(x)=%s$' % '+'.join(terms)\n",
    "    dom = r', domain: $[%.2g,\\ %.2g]$' % tuple(p.domain)\n",
    "    return px+dom\n"
   ]
  },
  {
   "cell_type": "code",
   "execution_count": 54,
   "metadata": {
    "collapsed": false
   },
   "outputs": [
    {
     "data": {
      "text/latex": [
       "$P(x)=1+2 x+3 x^2$, domain: $[-10,\\ 10]$"
      ],
      "text/plain": [
       "<IPython.core.display.Latex object>"
      ]
     },
     "execution_count": 54,
     "metadata": {},
     "output_type": "execute_result"
    }
   ],
   "source": [
    "import numpy as np\n",
    "\n",
    "p = np.polynomial.Polynomial([1,2,3], [-10, 10])\n",
    "from IPython.display import Latex\n",
    "Latex(poly2latex(p))\n"
   ]
  },
  {
   "cell_type": "markdown",
   "metadata": {},
   "source": [
    "But you can instruct IPython to use default display as follows:\n"
   ]
  },
  {
   "cell_type": "code",
   "execution_count": 55,
   "metadata": {
    "collapsed": false
   },
   "outputs": [],
   "source": [
    "ip = get_ipython()\n",
    "latex_formatter = ip.display_formatter.formatters['text/latex']\n",
    "latex_formatter.for_type_by_name('numpy.polynomial.polynomial',\n",
    "                                 'Polynomial', poly2latex)\n"
   ]
  },
  {
   "cell_type": "code",
   "execution_count": 56,
   "metadata": {
    "collapsed": false
   },
   "outputs": [
    {
     "data": {
      "text/latex": [
       "$P(x)=-20+71 x+-15 x^2+x^3$, domain: $[-1,\\ 1]$"
      ],
      "text/plain": [
       "Polynomial([-20.,  71., -15.,   1.], [-1,  1], [-1,  1])"
      ]
     },
     "execution_count": 56,
     "metadata": {},
     "output_type": "execute_result"
    }
   ],
   "source": [
    "p2 = np.polynomial.Polynomial([-20, 71, -15, 1])\n",
    "p2\n"
   ]
  },
  {
   "cell_type": "markdown",
   "metadata": {
    "slideshow": {
     "slide_type": "slide"
    }
   },
   "source": [
    "## Making slides from IPython notebooks\n",
    "\n",
    "IPython is the tool of choice for presentations at Python conferences today - you hardly see a slideshow that was not made with IPython.  \n",
    "<http://www.slideviper.oquanta.info/tutorial/slideshow_tutorial_slides.html#/>   \n",
    "<http://www.damian.oquanta.info/posts/make-your-slides-with-ipython.html>    \n",
    "<http://nbviewer.ipython.org/github/fperez/nb-slideshow-template/blob/master/install-support.ipynb>    \n",
    "<https://hannes-brt.github.io/blog/2013/08/11/ipython-slideshows-will-change-the-way-you-work/>  \n",
    "\n",
    "Now one of the coolest new features are the Reveal.js based slideshows. [Here](http://www.slideviper.oquanta.info/tutorial/slideshow_tutorial_slides.html?transition=none#/)  is an example by the developer of the slideshow feature Damián Avila which shows how to turn any IPython Notebook into a slideshow and how to include math, images, videos, tables, etc.  \n",
    "\n",
    "<http://www.slideviper.oquanta.info/tutorial/slideshow_tutorial_slides.html?transition=none#/>    \n",
    "<http://hannes-brt.github.io/blog/2013/08/11/ipython-slideshows-will-change-the-way-you-work/> - hiding code in slide shows.  \n",
    "<http://nbviewer.ipython.org/urls/gist.github.com/damianavila/5970218/raw/766d41eab9a16850a2a4447f14e93e7ed88f6b08/using_local_reveal.ipynb> - local copy of reveal.js  \n",
    "<https://www.youtube.com/watch?v=rBS6hmiK-H8> - youtube video   \n",
    "\n",
    "First (1) create the IPython notebook as a regular notebook, then (2) change each cell's metadata to set its slideshow status, then (3) save the notebook, (4) convert the notebook to the slideshow format, and (5) serve the slideshow html file on an http server.  Some of these steps are described next.\n",
    "\n",
    "Step (2): Click on the the \"Cell Toolbar\" dropdown combobox: select the \"Slideshow\" option.  On the top-right side of _each_ cell will appear a dropdown combobox where you can define the slideshow status of that specific cell. Select the appropriate type for each cell.\n",
    "\n",
    "Steps (4) and (5): The slide show runs in a reveal.js javascript environment, but requires that the file be served on an http server. In order to convert the notebook to slide show and serve in a browser, type the following command:<br>\n",
    "`ipython nbconvert --to slides --post serve filename`<br>\n",
    "where `filename` is the name of the ipython notebook you want to convert to a slide show.\n"
   ]
  },
  {
   "cell_type": "markdown",
   "metadata": {},
   "source": [
    "## Blogging with IPython\n",
    "\n",
    "IPython is also used to created blogging pages:  \n",
    "<http://blog.fperez.org/2012/09/blogging-with-ipython-notebook.html>    \n",
    "<http://www.damian.oquanta.info/>    \n",
    "<http://brunettoziosi.eu/posts/blogging-with-nikola-ipython-github.html>    \n",
    "<http://www.davidketcheson.info/2012/10/11/blogging_ipython_notebooks_with_jekyll.html>    "
   ]
  },
  {
   "cell_type": "markdown",
   "metadata": {},
   "source": [
    "## Customising the IPython notebook\n",
    "\n",
    "The notebook is primarily rendered in HTML in the browser and when exported to HTML. As an HTML product it can be customised in terms of layout, font, colours and other elements of style.  Likewise the exports to other formats, such as LaTeX, can also be similarly customised to a particular look and feel.\n",
    "\n",
    "<http://slendermeans.org/better-typography-for-ipython-notebooks.html>  \n",
    "<http://zulko.wordpress.com/2013/04/14/customize-your-ipython-notebook-with-css/>  \n",
    "<http://nbviewer.ipython.org/github/Carreau/posts/blob/master/Blog1.ipynb>\n"
   ]
  },
  {
   "cell_type": "markdown",
   "metadata": {},
   "source": [
    "## Publishing your notebooks\n",
    "\n",
    "If a notebook file (.ipynb) is available somewhere on the web, you can paste the URL into a text box on this website \n",
    "http://nbviewer.ipython.org/ and it will render the notebook for you, returning a URL to the HTML rendered file.  This new URL can be embedded as a hyperlink in an HTML file - when the user clicks on the link, the browser will display the rendered notebook. This is how the notebooks referred to in the next section are rendered.\n",
    "\n",
    "<http://developer.rackspace.com/blog/bookstore-for-ipython-notebooks.html>\n"
   ]
  },
  {
   "cell_type": "markdown",
   "metadata": {},
   "source": [
    "### More HTML formatting\n",
    "\n",
    "<http://stackoverflow.com/questions/13770394/ipython-notebook-make-output-cells-like-markdown>"
   ]
  },
  {
   "cell_type": "code",
   "execution_count": 57,
   "metadata": {
    "collapsed": false
   },
   "outputs": [
    {
     "data": {
      "text/html": [
       "<h1>This is an autogenerated header</h1><div style=\"border:1px dotted black;padding:2em;\">This is some text in a box</div>"
      ],
      "text/plain": [
       "<IPython.core.display.HTML object>"
      ]
     },
     "execution_count": 57,
     "metadata": {},
     "output_type": "execute_result"
    }
   ],
   "source": [
    "htmlContent = ''\n",
    "\n",
    "def header(text):\n",
    "    raw_html = '<h1>' + str(text) + '</h1>'\n",
    "    return raw_html\n",
    "\n",
    "def box(text):\n",
    "    raw_html = '<div style=\"border:1px dotted black;padding:2em;\">'+str(text)+'</div>'\n",
    "    return raw_html\n",
    "\n",
    "def addContent(raw_html):\n",
    "    global htmlContent\n",
    "    htmlContent += raw_html\n",
    "\n",
    "\n",
    "# Example\n",
    "addContent( header(\"This is an autogenerated header\") )\n",
    "addContent( box(\"This is some text in a box\") )\n",
    "\n",
    "from IPython.core.display import HTML\n",
    "HTML(htmlContent)"
   ]
  },
  {
   "cell_type": "markdown",
   "metadata": {},
   "source": [
    "## Python and [module versions, and dates](http://nbviewer.ipython.org/github/jrjohansson/scientific-python-lectures/blob/master/Lecture-0-Scientific-Computing-with-Python.ipynb)"
   ]
  },
  {
   "cell_type": "markdown",
   "metadata": {},
   "source": [
    "From: [Introduction to scientific computing with Python](http://nbviewer.ipython.org/github/jrjohansson/scientific-python-lectures/blob/master/Lecture-0-Scientific-Computing-with-Python.ipynb) we learn:\n",
    "\"To encourage the practice of recording Python and module versions in notebooks, I've created a simple IPython extension that produces a table with versions numbers of selected software components. I believe that it is a good practice to include this kind of table in every notebook you create. To install this IPython extension, run:\"\n",
    "\n",
    "    # you only need to do this once\n",
    "    %install_ext http://raw.github.com/jrjohansson/version_information/master/version_information.py\n",
    "    \n",
    "From behind a firewall, download the file to some directory on your PC from this web site     \n",
    "    https://github.com/jrjohansson/version_information/blob/master/version_information.py\n",
    "    \n",
    "and execute something similar the following (where the path is to the downloaded file):    \n",
    "\n",
    "    %install_ext D:\\WorkT\\Downloads\\version_information.py\n",
    "\n",
    "    \n",
    "Now, to load the extension and produce the version table    "
   ]
  },
  {
   "cell_type": "code",
   "execution_count": 58,
   "metadata": {
    "collapsed": false
   },
   "outputs": [
    {
     "data": {
      "application/json": {
       "Software versions": [
        {
         "module": "Python",
         "version": "2.7.11 64bit [MSC v.1500 64 bit (AMD64)]"
        },
        {
         "module": "IPython",
         "version": "4.1.2"
        },
        {
         "module": "OS",
         "version": "Windows 7 6.1.7601 SP1"
        },
        {
         "module": "numpy",
         "version": "1.10.4"
        },
        {
         "module": "scipy",
         "version": "0.17.0"
        },
        {
         "module": "matplotlib",
         "version": "1.5.1"
        }
       ]
      },
      "text/html": [
       "<table><tr><th>Software</th><th>Version</th></tr><tr><td>Python</td><td>2.7.11 64bit [MSC v.1500 64 bit (AMD64)]</td></tr><tr><td>IPython</td><td>4.1.2</td></tr><tr><td>OS</td><td>Windows 7 6.1.7601 SP1</td></tr><tr><td>numpy</td><td>1.10.4</td></tr><tr><td>scipy</td><td>0.17.0</td></tr><tr><td>matplotlib</td><td>1.5.1</td></tr><tr><td colspan='2'>Thu Apr 28 09:26:38 2016 South Africa Standard Time</td></tr></table>"
      ],
      "text/latex": [
       "\\begin{tabular}{|l|l|}\\hline\n",
       "{\\bf Software} & {\\bf Version} \\\\ \\hline\\hline\n",
       "Python & 2.7.11 64bit [MSC v.1500 64 bit (AMD64)] \\\\ \\hline\n",
       "IPython & 4.1.2 \\\\ \\hline\n",
       "OS & Windows 7 6.1.7601 SP1 \\\\ \\hline\n",
       "numpy & 1.10.4 \\\\ \\hline\n",
       "scipy & 0.17.0 \\\\ \\hline\n",
       "matplotlib & 1.5.1 \\\\ \\hline\n",
       "\\hline \\multicolumn{2}{|l|}{Thu Apr 28 09:26:38 2016 South Africa Standard Time} \\\\ \\hline\n",
       "\\end{tabular}\n"
      ],
      "text/plain": [
       "Software versions\n",
       "Python 2.7.11 64bit [MSC v.1500 64 bit (AMD64)]\n",
       "IPython 4.1.2\n",
       "OS Windows 7 6.1.7601 SP1\n",
       "numpy 1.10.4\n",
       "scipy 0.17.0\n",
       "matplotlib 1.5.1\n",
       "Thu Apr 28 09:26:38 2016 South Africa Standard Time"
      ]
     },
     "execution_count": 58,
     "metadata": {},
     "output_type": "execute_result"
    }
   ],
   "source": [
    "%load_ext version_information\n",
    "%version_information numpy, scipy, matplotlib"
   ]
  },
  {
   "cell_type": "code",
   "execution_count": null,
   "metadata": {
    "collapsed": true
   },
   "outputs": [],
   "source": []
  }
 ],
 "metadata": {
  "kernelspec": {
   "display_name": "Python 2",
   "language": "python",
   "name": "python2"
  },
  "language_info": {
   "codemirror_mode": {
    "name": "ipython",
    "version": 2
   },
   "file_extension": ".py",
   "mimetype": "text/x-python",
   "name": "python",
   "nbconvert_exporter": "python",
   "pygments_lexer": "ipython2",
   "version": "2.7.11"
  }
 },
 "nbformat": 4,
 "nbformat_minor": 0
}
