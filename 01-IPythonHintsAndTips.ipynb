{
 "metadata": {
  "name": "",
  "signature": "sha256:134a52b7e20ba35b9d718674ec2cefb32cea00e8e7eb488fc2f472f5e5d9f3f1"
 },
 "nbformat": 3,
 "nbformat_minor": 0,
 "worksheets": [
  {
   "cells": [
    {
     "cell_type": "heading",
     "level": 1,
     "metadata": {},
     "source": [
      "1 IPython notebook hints and tips\n",
      "\n"
     ]
    },
    {
     "cell_type": "markdown",
     "metadata": {},
     "source": [
      "This notebook forms part of a series on [computational optical radiometry](https://github.com/NelisW/ComputationalRadiometry#computational-optical-radiometry-with-pyradi).\n",
      "\n",
      "The date of this document and module versions used in this document are given at the end of the file.  \n",
      "Feedback is appreciated: neliswillers at gmail dot com."
     ]
    },
    {
     "cell_type": "heading",
     "level": 2,
     "metadata": {},
     "source": [
      "Overview"
     ]
    },
    {
     "cell_type": "markdown",
     "metadata": {},
     "source": [
      "This notebook provides a brief summary of how to start up and use the IPython notebook.\n",
      "Introductions are given to magic commands, help functionality, using IPython for scientific work, cell memory, markdown, citations, embedding media files, and a few lesser used functions.\n"
     ]
    },
    {
     "cell_type": "code",
     "collapsed": false,
     "input": [
      "from IPython.display import display\n",
      "from IPython.display import Image\n",
      "from IPython.display import HTML"
     ],
     "language": "python",
     "metadata": {},
     "outputs": [],
     "prompt_number": 1
    },
    {
     "cell_type": "markdown",
     "metadata": {},
     "source": [
      "##Why use the IPython notebook?\n",
      "\n",
      "<p><font size=\"3\" color=\"red\">The IPython notebook is an effective means to capture story lines or flow-of-thought; <br>being initially conceived as a lab book for science and technology investigations.</font>  </p>\n",
      "\n",
      "\n",
      "The IPython notebook can never replace formal documentation, at least on in its present form. The notebook should also not be used as a primary software development environment. The notebook lives alongside other forms of documentation and coding. Having said that, there is a definate place for the IPython notebook in several environments such as engineering research and development, teaching, and scientific research & experimentation (which it was initially developed for). \n",
      "\n",
      "The IPython notebook is a very effective means to capture your work as you progress through an investigation comprising research, coding, and record keeping.  It is also an excellent way to develop slides or teaching material where one wants to combine code, text and results in a story-line. It is used widely in Python conferences and lectures. The notebook is also a convenient means to do homework assigments"
     ]
    },
    {
     "cell_type": "markdown",
     "metadata": {},
     "source": [
      "##Getting started in IPython\n",
      "\n",
      "If you installed the Anaconda Python distribution (<http://docs.continuum.io/anaconda/install.html>), it alredy has IPython, no need to download it.\n",
      "\n",
      "<http://ipython.org/> - start here, download the latest version from here. <br>\n",
      "<http://nbviewer.ipython.org/urls/raw.github.com/ellisonbg/talk-strata2013/master/StrataIPythonSlides.ipynb> - why use notebooks?<br>\n",
      "<http://ipython.org/ipython-doc/dev/interactive/notebook.html> - short and concise, up and running quickly.<br>\n",
      "<http://nbviewer.ipython.org/urls/raw.github.com/Unidata/tds-python-workshop/master/ipython-notebook.ipynb> - simple intro <br>\n",
      "<http://blog.safaribooksonline.com/2013/12/12/start-ipython-notebook/> linux install & general use instructions  \n",
      "\n",
      "\n",
      "<https://github.com/ipython/ipython/tree/master/examples/notebooks#a-collection-of-notebooks-for-using-ipython-effectively- detailed instructions> <br>\n",
      "<http://nbviewer.ipython.org/urls/raw.github.com/ipython/ipython/1.x/examples/notebooks/Part%205%20-%20Rich%20Display%20System.ipynb> - IPython's rich display system.<br>\n",
      "<http://nbviewer.ipython.org/> - gallery of notebooks <br>\n",
      "<https://github.com/ipython/ipython/wiki/A-gallery-of-interesting-IPython-Notebooks> - a gallery of notebooks<br>   \n",
      "<http://nbviewer.ipython.org/github/gumption/Python_for_Data_Science/blob/master/Python_for_Data_Science_all.ipynb>\n"
     ]
    },
    {
     "cell_type": "markdown",
     "metadata": {},
     "source": [
      "##Working in a Command Window\n",
      "\n",
      "IPython must be started from a command window (in Windows) or a terminal console in Linux. If you use Linux, you already know how to do this.  If you are using Windows, and you don't know learn here:  \n",
      "<http://www.cs.princeton.edu/courses/archive/spr05/cos126/cmd-prompt.html>    \n",
      "<http://www.bleepingcomputer.com/tutorials/windows-command-prompt-introduction/>  \n",
      "\n",
      "This link will help you to create a context menu in Explorer to start a command window in a given directory:  \n",
      "<https://stackoverflow.com/questions/60904/how-can-i-open-a-cmd-window-in-a-specific-location>  "
     ]
    },
    {
     "cell_type": "markdown",
     "metadata": {},
     "source": [
      "##Starting IPython\n",
      "\n",
      "After you installed IPython you must start the server in a command window.  The current version of IPython expects the notebook files to be in the same directory where it was started up. So if you want to work in `c:\\myfiles` then change to that directory and start IPython in the required directory.\n",
      "\n",
      "Open a command window (DOS box), and create a directory where you want to work with the notebooks. Type the following commands in the command window (pressing Enter after each line):  \n",
      "`cd \\`   \n",
      "`mkdir myfiles`  [only do this the first time]   \n",
      "`cd c:\\myfiles`  \n",
      "The command window should now display `c:\\myfiles>`. Then type the following command (followed by Enter):   \n",
      "`ipython notebook `  \n",
      "After a while IPython opens your web browser and display the IPython portal page.\n"
     ]
    },
    {
     "cell_type": "code",
     "collapsed": false,
     "input": [
      "display(Image(filename='images/portalpage.png'))"
     ],
     "language": "python",
     "metadata": {},
     "outputs": [
      {
       "metadata": {},
       "output_type": "display_data",
       "png": "[encoded data removed]",
       "text": [
        "<IPython.core.display.Image at 0x4d40bf0>"
       ]
      }
     ],
     "prompt_number": 2
    },
    {
     "cell_type": "markdown",
     "metadata": {},
     "source": [
      "\n",
      "IPython works by starting a web server on your PC and then serving pages from this server.  This web server has an IP address of 127.0.0.1, on port 8888, i.e., browser address 127.0.0.1:8888.  You can at any time open a new browser tab and enter this address and the server portal page should appear. This is sometimes convenient when you close all IPython tabs in the browser, but the server is still running.\n",
      "\n",
      "You can see all the IPython options by typing `ipython --help`.\n"
     ]
    },
    {
     "cell_type": "code",
     "collapsed": false,
     "input": [
      "display(Image(filename='images/ipaddress.png'))"
     ],
     "language": "python",
     "metadata": {},
     "outputs": [
      {
       "metadata": {},
       "output_type": "display_data",
       "png": "[encoded data removed]",
       "text": [
        "<IPython.core.display.Image at 0x4d40e90>"
       ]
      }
     ],
     "prompt_number": 3
    },
    {
     "cell_type": "markdown",
     "metadata": {},
     "source": [
      "##Starting more than one IPython notebook server\n",
      "\n",
      "From the manual: \"You can start more than one notebook server at the same time, if you want to work on notebooks in different directories. By default the first notebook server starts on port 8888, and later notebook servers search for ports near that one. You can also manually specify the port with the --port option.\"\n",
      "\n",
      "<http://ipython.org/ipython-doc/dev/interactive/notebook.html#starting-the-notebook-server>"
     ]
    },
    {
     "cell_type": "markdown",
     "metadata": {},
     "source": [
      "##Live Connection to the Internet\n",
      "\n",
      "IPython uses MathJax to render LaTeX. The default mode is to access MathJax online, live, as you are working. This means that you must be working on a PC connected to the internet in order to render LaTeX. This is only required when LaTeX rendering is requested, otherwise you don't need internet access. Once the LaTeX is rendered it is embedded as an image in the document and you do not need to be connected to MathJax to view the previously rendered image.  One catch is that if you live behind a server that requires you to authenticate before logging in to the internet, this means that you must authenticate your internet access prior to starting the ipython server."
     ]
    },
    {
     "cell_type": "markdown",
     "metadata": {},
     "source": [
      "##IPython and your Firewall\n",
      "\n",
      "If IPython does not work, it may be because your antivirus software or firewall prevents it from working.   The firewall might not be set up to grant execution rights to the default IPython notebook server operating 127.0.0.1:8888.  In this case the cells will simply not execute, with no warning. You don't receive any output in from the cells."
     ]
    },
    {
     "cell_type": "markdown",
     "metadata": {},
     "source": [
      "###Using `localhost` to bypass the firewall\n",
      "\n",
      "This approach does not require any changes to your firewall. Some firewalls are set up to grant `localhost` execution rights.  In this case the server can be started with the command  \n",
      "`ipython notebook --ip=localhost`  \n",
      "\n",
      "\n",
      "Once started, the pages are served from   \n",
      "`http://localhost:8888/`  \n",
      "and not from ` http://127.0.0.1:8888/`.\n"
     ]
    },
    {
     "cell_type": "heading",
     "level": 3,
     "metadata": {},
     "source": [
      "Setting up the Sophos firewall"
     ]
    },
    {
     "cell_type": "markdown",
     "metadata": {},
     "source": [
      "Here is a description of how to fix this for Sophos - it may be necessary to do this after each reboot. Other firewalls will have similar functionality.\n",
      "\n",
      "Sophos blocks the browser to not allows execution of code as is required by ipython. To enable the browser ipython functionality change the authorisation on your local loopback IP address 127.0.0.1.\n",
      "\n",
      "*For this to work, you must have Administrator rights, or at least belong to the Admin group (call your ICT sysadmin if you don't have these rights.* Start by opening the Sophos application from the system tray by right-clicking on the S-shield icon and selecting the"
     ]
    },
    {
     "cell_type": "code",
     "collapsed": false,
     "input": [
      "display(Image(filename='images/sophos01.png'))"
     ],
     "language": "python",
     "metadata": {},
     "outputs": [
      {
       "metadata": {},
       "output_type": "display_data",
       "png": "[encoded data removed]",
       "text": [
        "<IPython.core.display.Image at 0x4d407b0>"
       ]
      }
     ],
     "prompt_number": 4
    },
    {
     "cell_type": "markdown",
     "metadata": {},
     "source": [
      "Once in the Sophos control panel, select the following menu option \n",
      "`<Configure><Anti-virus><Authorization...>.`\n",
      "The following window should appear:"
     ]
    },
    {
     "cell_type": "code",
     "collapsed": false,
     "input": [
      "display(Image(filename='images/sophos02.png'))"
     ],
     "language": "python",
     "metadata": {},
     "outputs": [
      {
       "metadata": {},
       "output_type": "display_data",
       "png": "[encoded data removed]",
       "text": [
        "<IPython.core.display.Image at 0x4d40c10>"
       ]
      }
     ],
     "prompt_number": 5
    },
    {
     "cell_type": "markdown",
     "metadata": {},
     "source": [
      "If the 127.0.0.1 loopback IP address does not appear in the list, add it as shown above.\n",
      "\n",
      "Now close any ipython notebooks that you have, also the page at 127.0.0.1:8888. Close the command window and re-open a new one.  Open a new tab and enter the local address 127.0.0.1:8888. This should display the notebooks in the current directory and once opened, they should work."
     ]
    },
    {
     "cell_type": "markdown",
     "metadata": {},
     "source": [
      "##Starting a new notebook\n",
      "\n",
      "To create a new page click on the `New Notebook` button on the IPython notebook portal.\n",
      "\n",
      "You can also make a copy of an existing page by selecting the appropriate menu option under the `File` menu."
     ]
    },
    {
     "cell_type": "heading",
     "level": 2,
     "metadata": {},
     "source": [
      "Notebook cells"
     ]
    },
    {
     "cell_type": "markdown",
     "metadata": {},
     "source": [
      "The notebook comprises a 'behind-the-scene' kernel that does all the processing and a 'front-man' rendering in the browser window.  It is important to understand that the web page browser does very little work, it only renders the information under instruction from the kernel.  The kernel contains all the code, text and data.\n",
      "\n",
      "The notebook consists of a number of cells which can contain code, text or other information. Each cell is 'executed' or 'run' by clicking on the cell and pressing the Shift-Enter key combination.  Cells can also be run in sequence from the Cell menu entry.  Running a cell does at least two things: (1) the cell changes/updates its data in the kernel and (2) the updated data is rendered in the browser window.\n",
      "\n",
      "Writing the notebook becomes the process of creating cells and adding text or code to the cell.\n",
      "\n",
      "The implication of running a complete notebook is that the full sequence of cells must be executed in the appropriate sequence.\n",
      "This is not always the case because you can manually execute a specific cell any number of times, without running its prior cells.  Furthermore, it is allowed and often done that cells are moved up or down in the sequence. So the strict sequence is not always followed and this can lead to all sorts of difficulties, see <a href=\"#NotebooksRemember\">Notebooks Remember</a>"
     ]
    },
    {
     "cell_type": "heading",
     "level": 2,
     "metadata": {},
     "source": [
      "Saving and closing the Notebook"
     ]
    },
    {
     "cell_type": "markdown",
     "metadata": {},
     "source": [
      "The notebook is saved in its json format by saving from the IPython menu.  Click on the save button (leftmost button with the mouse-over message 'Save and Checkpoint') or select the `File Save and Checkpoint` menu option.\n",
      "\n",
      "The IPython notebook file is saved and closed by selecting the `File Close and Halt` menu option.\n",
      "\n",
      "Never use an `exit()` function in yoour notebook, because the notebook will interpret this as an exit to its own process, closing down the server."
     ]
    },
    {
     "cell_type": "markdown",
     "metadata": {},
     "source": [
      "##Converting the notebook to other formats\n",
      "\n",
      "Starting from IPython 2, the notebook can be converted to a Python file (code with embedded comments), an HTML file or a ReST file. On the _File_ menu, use _Download as_.\n",
      "\n",
      "The notebook can also be saved to an HTML file by saving from your browser's menu. This saved HTML file is, however, not fully self-contained (images and JavaScript files are in a directory). So this is *not* the ideal way to save the file. "
     ]
    },
    {
     "cell_type": "code",
     "collapsed": false,
     "input": [
      "HTML('<img src=\"images/convertfile.png\" width=300 height=300/>')"
     ],
     "language": "python",
     "metadata": {},
     "outputs": [
      {
       "html": [
        "<img src=\"images/convertfile.png\" width=300 height=300/>"
       ],
       "metadata": {},
       "output_type": "pyout",
       "prompt_number": 6,
       "text": [
        "<IPython.core.display.HTML at 0x4d40bd0>"
       ]
      }
     ],
     "prompt_number": 6
    },
    {
     "cell_type": "markdown",
     "metadata": {},
     "source": [
      "On the command line IPython has a `convert` subcommand to convert from the IPython format to other  formats. In the command window, where the file is located type:  \n",
      "`ipython nbconvert filename.ipynb`  \n",
      "This will create a fully self-contained HTML file that you can print or mail as a single file.\n",
      "\n",
      "The notebook can be converted to LaTeX and then compiled to a PDF format with the following command:  \n",
      "`ipython nbconvert --to latex --post filename.ipynb`  \n",
      "\n",
      "<http://ipython.org/ipython-doc/rel-1.0.0/interactive/nbconvert.html>    \n",
      "<http://blog.fperez.org/2012/09/blogging-with-ipython-notebook.html>    \n",
      "<http://nbviewer.ipython.org/url/www.damian.oquanta.info/posts/blogging-with-nikola-and-ipython.ipynb>   - blogging with Nikola  \n",
      "<http://www.slideviper.oquanta.info/tutorial/slideshow_tutorial_slides.html?transition=none#/>   - slides  \n",
      "<http://www.damian.oquanta.info/>   - a couple of links"
     ]
    },
    {
     "cell_type": "markdown",
     "metadata": {},
     "source": [
      "##Keyboard Shortcuts\n",
      "\n",
      "<p>Here is the complete set of keyboard shortcuts available:</p>\n",
      "\n",
      "<table  border=1 cellspacing=0 cellpadding=0>\n",
      " <tr>\n",
      "  <td width=90 >\n",
      "  <p><b><span >Shortcut</span></b></p>\n",
      "  </td>\n",
      "  <td width=169 >\n",
      "  <p   ><b><span\n",
      "  >Action</span></b></p>\n",
      "  </td>\n",
      "  <td width=28 valign=top >\n",
      "  <p   ><b><span\n",
      "  >&nbsp;</span></b></p>\n",
      "  </td>\n",
      "  <td width=132 >\n",
      "  <p   ><b><span\n",
      "  >Shortcut</span></b></p>\n",
      "  </td>\n",
      "  <td width=228 >\n",
      "  <p   ><b><span\n",
      "  >Action</span></b></p>\n",
      "  </td>\n",
      " </tr>\n",
      " <tr>\n",
      "  <td width=90 >\n",
      "  <p   ><span\n",
      "  >Shift-Enter</span></p>\n",
      "  </td>\n",
      "  <td width=169 >\n",
      "  <p   ><span\n",
      "  >run\n",
      "  cell</span></p>\n",
      "  </td>\n",
      "  <td width=28 valign=top >\n",
      "  <p   ><span\n",
      "  >&nbsp;</span></p>\n",
      "  </td>\n",
      "  <td width=132 >\n",
      "  <p   ><span\n",
      "  >Ctrl-m\n",
      "  l</span></p>\n",
      "  </td>\n",
      "  <td width=228 >\n",
      "  <p   ><span\n",
      "  >toggle\n",
      "  line numbers</span></p>\n",
      "  </td>\n",
      " </tr>\n",
      " <tr>\n",
      "  <td width=90 >\n",
      "  <p   ><span\n",
      "  >Ctrl-Enter</span></p>\n",
      "  </td>\n",
      "  <td width=169 >\n",
      "  <p   ><span\n",
      "  >run\n",
      "  cell in-place</span></p>\n",
      "  </td>\n",
      "  <td width=28 valign=top >\n",
      "  <p   ><span\n",
      "  >&nbsp;</span></p>\n",
      "  </td>\n",
      "  <td width=132 >\n",
      "  <p   ><span\n",
      "  >Ctrl-m\n",
      "  s</span></p>\n",
      "  </td>\n",
      "  <td width=228 >\n",
      "  <p   ><span\n",
      "  >save\n",
      "  notebook</span></p>\n",
      "  </td>\n",
      " </tr>\n",
      " <tr>\n",
      "  <td width=90 >\n",
      "  <p   ><span\n",
      "  >Alt-Enter</span></p>\n",
      "  </td>\n",
      "  <td width=169 >\n",
      "  <p   ><span\n",
      "  >run\n",
      "  cell, insert below</span></p>\n",
      "  </td>\n",
      "  <td width=28 valign=top >\n",
      "  <p   ><span\n",
      "  >&nbsp;</span></p>\n",
      "  </td>\n",
      "  <td width=132 >\n",
      "  <p   ><span\n",
      "  >Ctrl-m\n",
      "  j</span></p>\n",
      "  </td>\n",
      "  <td width=228 >\n",
      "  <p   ><span\n",
      "  >move\n",
      "  cell down</span></p>\n",
      "  </td>\n",
      " </tr>\n",
      " <tr>\n",
      "  <td width=90 >\n",
      "  <p   ><span\n",
      "  >Ctrl-m\n",
      "  x</span></p>\n",
      "  </td>\n",
      "  <td width=169 >\n",
      "  <p   ><span\n",
      "  >cut\n",
      "  cell</span></p>\n",
      "  </td>\n",
      "  <td width=28 valign=top >\n",
      "  <p   ><span\n",
      "  >&nbsp;</span></p>\n",
      "  </td>\n",
      "  <td width=132 >\n",
      "  <p   ><span\n",
      "  >Ctrl-m\n",
      "  k</span></p>\n",
      "  </td>\n",
      "  <td width=228 >\n",
      "  <p   ><span\n",
      "  >move\n",
      "  cell up</span></p>\n",
      "  </td>\n",
      " </tr>\n",
      " <tr>\n",
      "  <td width=90 >\n",
      "  <p   ><span\n",
      "  >Ctrl-m\n",
      "  c</span></p>\n",
      "  </td>\n",
      "  <td width=169 >\n",
      "  <p   ><span\n",
      "  >copy\n",
      "  cell</span></p>\n",
      "  </td>\n",
      "  <td width=28 valign=top >\n",
      "  <p   ><span\n",
      "  >&nbsp;</span></p>\n",
      "  </td>\n",
      "  <td width=132 >\n",
      "  <p   ><span\n",
      "  >Ctrl-m\n",
      "  y</span></p>\n",
      "  </td>\n",
      "  <td width=228 >\n",
      "  <p   ><span\n",
      "  >code\n",
      "  cell</span></p>\n",
      "  </td>\n",
      " </tr>\n",
      " <tr>\n",
      "  <td width=90 >\n",
      "  <p   ><span\n",
      "  >Ctrl-m\n",
      "  v</span></p>\n",
      "  </td>\n",
      "  <td width=169 >\n",
      "  <p   ><span\n",
      "  >paste\n",
      "  cell</span></p>\n",
      "  </td>\n",
      "  <td width=28 valign=top >\n",
      "  <p   ><span\n",
      "  >&nbsp;</span></p>\n",
      "  </td>\n",
      "  <td width=132 >\n",
      "  <p   ><span\n",
      "  >Ctrl-m\n",
      "  m</span></p>\n",
      "  </td>\n",
      "  <td width=228 >\n",
      "  <p   ><span\n",
      "  >markdown\n",
      "  cell</span></p>\n",
      "  </td>\n",
      " </tr>\n",
      " <tr>\n",
      "  <td width=90 >\n",
      "  <p   ><span\n",
      "  >Ctrl-m\n",
      "  d</span></p>\n",
      "  </td>\n",
      "  <td width=169 >\n",
      "  <p   ><span\n",
      "  >delete\n",
      "  cell</span></p>\n",
      "  </td>\n",
      "  <td width=28 valign=top >\n",
      "  <p   ><span\n",
      "  >&nbsp;</span></p>\n",
      "  </td>\n",
      "  <td width=132 >\n",
      "  <p   ><span\n",
      "  >Ctrl-m\n",
      "  t</span></p>\n",
      "  </td>\n",
      "  <td width=228 >\n",
      "  <p   ><span\n",
      "  >raw\n",
      "  cell</span></p>\n",
      "  </td>\n",
      " </tr>\n",
      " <tr>\n",
      "  <td width=90 >\n",
      "  <p   ><span\n",
      "  >Ctrl-m\n",
      "  z</span></p>\n",
      "  </td>\n",
      "  <td width=169 >\n",
      "  <p   ><span\n",
      "  >undo\n",
      "  last cell deletion</span></p>\n",
      "  </td>\n",
      "  <td width=28 valign=top >\n",
      "  <p   ><span\n",
      "  >&nbsp;</span></p>\n",
      "  </td>\n",
      "  <td width=132 >\n",
      "  <p   ><span\n",
      "  >Ctrl-m\n",
      "  1-6</span></p>\n",
      "  </td>\n",
      "  <td width=228 >\n",
      "  <p   ><span\n",
      "  >heading\n",
      "  1-6 cell</span></p>\n",
      "  </td>\n",
      " </tr>\n",
      " <tr>\n",
      "  <td width=90 >\n",
      "  <p   ><span\n",
      "  >Ctrl-m\n",
      "  -</span></p>\n",
      "  </td>\n",
      "  <td width=169 >\n",
      "  <p   ><span\n",
      "  >split\n",
      "  cell</span></p>\n",
      "  </td>\n",
      "  <td width=28 valign=top >\n",
      "  <p   ><span\n",
      "  >&nbsp;</span></p>\n",
      "  </td>\n",
      "  <td width=132 >\n",
      "  <p   ><span\n",
      "  >Ctrl-m\n",
      "  p</span></p>\n",
      "  </td>\n",
      "  <td width=228 >\n",
      "  <p   ><span\n",
      "  >select\n",
      "  previous</span></p>\n",
      "  </td>\n",
      " </tr>\n",
      " <tr>\n",
      "  <td width=90 >\n",
      "  <p   ><span\n",
      "  >Ctrl-m\n",
      "  a</span></p>\n",
      "  </td>\n",
      "  <td width=169 >\n",
      "  <p   ><span\n",
      "  >insert\n",
      "  cell above</span></p>\n",
      "  </td>\n",
      "  <td width=28 valign=top >\n",
      "  <p   ><span\n",
      "  >&nbsp;</span></p>\n",
      "  </td>\n",
      "  <td width=132 >\n",
      "  <p   ><span\n",
      "  >Ctrl-m\n",
      "  n</span></p>\n",
      "  </td>\n",
      "  <td width=228 >\n",
      "  <p   ><span\n",
      "  >select\n",
      "  next</span></p>\n",
      "  </td>\n",
      " </tr>\n",
      " <tr>\n",
      "  <td width=90 >\n",
      "  <p   ><span\n",
      "  >Ctrl-m\n",
      "  b</span></p>\n",
      "  </td>\n",
      "  <td width=169 >\n",
      "  <p   ><span\n",
      "  >insert\n",
      "  cell below</span></p>\n",
      "  </td>\n",
      "  <td width=28 valign=top >\n",
      "  <p   ><span\n",
      "  >&nbsp;</span></p>\n",
      "  </td>\n",
      "  <td width=132 >\n",
      "  <p   ><span\n",
      "  >Ctrl-m\n",
      "  i</span></p>\n",
      "  </td>\n",
      "  <td width=228 >\n",
      "  <p   ><span\n",
      "  >interrupt\n",
      "  kernel</span></p>\n",
      "  </td>\n",
      " </tr>\n",
      " <tr>\n",
      "  <td width=90 >\n",
      "  <p   ><span\n",
      "  >Ctrl-m\n",
      "  o</span></p>\n",
      "  </td>\n",
      "  <td width=169 >\n",
      "  <p   ><span\n",
      "  >toggle\n",
      "  output</span></p>\n",
      "  </td>\n",
      "  <td width=28 valign=top >\n",
      "  <p   ><span\n",
      "  >&nbsp;</span></p>\n",
      "  </td>\n",
      "  <td width=132 >\n",
      "  <p   ><span\n",
      "  >Ctrl-m\n",
      "  .</span></p>\n",
      "  </td>\n",
      "  <td width=228 >\n",
      "  <p   ><span\n",
      "  >restart\n",
      "  kernel</span></p>\n",
      "  </td>\n",
      " </tr>\n",
      " <tr>\n",
      "  <td width=90 >\n",
      "  <p   ><span\n",
      "  >Ctrl-m\n",
      "  O</span></p>\n",
      "  </td>\n",
      "  <td width=169 >\n",
      "  <p   ><span\n",
      "  >toggle\n",
      "  output scroll</span></p>\n",
      "  </td>\n",
      "  <td width=28 valign=top >\n",
      "  <p   ><span\n",
      "  >&nbsp;</span></p>\n",
      "  </td>\n",
      "  <td width=132 >\n",
      "  <p   ><span\n",
      "  >Ctrl-m\n",
      "  h</span></p>\n",
      "  </td>\n",
      "  <td width=228 >\n",
      "  <p   ><span\n",
      "  >show\n",
      "  keyboard shortcuts</span></p>\n",
      "  </td>\n",
      " </tr>\n",
      "</table>\n",
      "\n",
      "<http://ipython.org/ipython-doc/stable/interactive/notebook.html#keyboard-shortcuts>"
     ]
    },
    {
     "cell_type": "markdown",
     "metadata": {},
     "source": [
      "##Magics and System Commands\n",
      "\n",
      "IPython has a set of predefined \u2018magic functions\u2019 that you can call with a command line style syntax. There are two kinds of magics, line-oriented and cell-oriented. Line magics are prefixed with the % character and work much like OS command-line calls: they get as an argument the rest of the line, where arguments are passed without parentheses or quotes. Cell magics are prefixed with a double %%, and they are functions that get as an argument not only the rest of the line, but also the lines below it in a separate argument.\n",
      "\n",
      "<http://nbviewer.ipython.org/github/ipython/ipython/blob/master/examples/notebooks/Cell%20Magics.ipynb>  \n",
      "<http://ipython.org/ipython-doc/dev/interactive/tutorial.html#magic-functions>  \n",
      "<http://damontallen.github.io/IPython-quick-ref-sheets/>\n",
      "\n",
      "System commands (as you would normally type in a command window) can be executed by prepending with an exclamation mark."
     ]
    },
    {
     "cell_type": "code",
     "collapsed": false,
     "input": [
      "import os\n",
      "# see if this is Linux or Windows\n",
      "if os.path == '/':\n",
      "    !ls *.ipynb\n",
      "else:\n",
      "    !dir *.ipynb"
     ],
     "language": "python",
     "metadata": {},
     "outputs": [
      {
       "output_type": "stream",
       "stream": "stdout",
       "text": [
        " Volume in drive C is SYSTEM\n",
        " Volume Serial Number is 98E8-BF6A\n",
        "\n",
        " Directory of C:\\WorkT\\Notebooks\\ComputationalRadiometry\n",
        "\n",
        "2014-04-20  19:14           326\u00ff372 01-IPythonHintsAndTips.ipynb\n",
        "2014-04-20  19:09           537\u00ff068 02-PythonWhirlwindCheatSheet.ipynb\n",
        "2014-04-20  19:03         1\u00ff356\u00ff005 04-IntroductionToComputationalRadiometryWithPyradi.ipynb\n",
        "2014-04-20  19:06           937\u00ff673 05a-PlottingWithPyradi-GeneralAndCartesian.ipynb\n",
        "2014-04-20  19:07           968\u00ff276 07-Optical Sources.ipynb\n",
        "2014-04-20  19:08           446\u00ff586 08-ModtranFileProcessing.ipynb\n",
        "2014-04-20  19:09           178\u00ff635 09-DetectorModelling.ipynb\n",
        "2014-04-20  19:11           308\u00ff589 12a-FlameSensorAnalysis.ipynb\n",
        "2014-04-20  19:12         3\u00ff592\u00ff749 12b-AlbedoDerivation.ipynb\n",
        "               9 File(s)      8\u00ff651\u00ff953 bytes\n",
        "               0 Dir(s)  112\u00ff690\u00ff192\u00ff384 bytes free\n"
       ]
      }
     ],
     "prompt_number": 7
    },
    {
     "cell_type": "markdown",
     "metadata": {},
     "source": [
      "There are 'magics' to support a number of other languages in the IPython notebook. From the [IPython notebook website](http://ipython.org/):\n",
      "\n",
      "\"We ship the official IPython kernel, but kernels for other languages such as Julia and Haskell are actively developed and used. Additionally, the IPython kernel supports multi-language integration, letting you for example mix Python code with Cython, R, Octave, and scripting in Bash, Perl or Ruby.\"\n",
      "\n",
      "<http://andrew.gibiansky.com/blog/ipython/ipython-kernels/>  \n",
      "<http://ipython.org/ipython-doc/stable/development/messaging.html>  \n",
      "\n",
      "Several extensions also exist to access other software tools from within IPython:  \n",
      "<http://ipython.org/ipython-doc/dev/config/extensions/>  \n",
      "<http://nbviewer.ipython.org/github/jrjohansson/ipython-asymptote/blob/master/Asymptote-examples.ipynb> for [Asymptote](http://asymptote.sourceforge.net/)  \n",
      "<http://www2.ipp.mpg.de/~mkraus/python/tikzmagic.py> and <http://www2.ipp.mpg.de/~mkraus/python/tikzmagic_test.ipynb> for [tikz](http://www.texample.net/tikz/examples/).\n"
     ]
    },
    {
     "cell_type": "heading",
     "level": 2,
     "metadata": {},
     "source": [
      "Local files"
     ]
    },
    {
     "cell_type": "markdown",
     "metadata": {},
     "source": [
      "If you have local files in your Notebook directory, you can refer to these files in Markdown cells via relative URLs that are prefixed with files/ as in:\n",
      "\n",
      "files/[subdirectory/]filename"
     ]
    },
    {
     "cell_type": "heading",
     "level": 2,
     "metadata": {},
     "source": [
      "Help"
     ]
    },
    {
     "cell_type": "code",
     "collapsed": false,
     "input": [
      "# Help on python objects using the '?'\n",
      "import pyradi.ryplot as ryplot\n",
      "ryplot.Plotter.plot?"
     ],
     "language": "python",
     "metadata": {},
     "outputs": [],
     "prompt_number": 8
    },
    {
     "cell_type": "markdown",
     "metadata": {},
     "source": [
      "Double click on the divider to close the help console\n"
     ]
    },
    {
     "cell_type": "markdown",
     "metadata": {},
     "source": [
      "Uncomment the next line to demonstrate the Python help() magic."
     ]
    },
    {
     "cell_type": "code",
     "collapsed": false,
     "input": [
      "# Using the built-in help\n",
      "# %help(ryplot)\n",
      "HTML('<img src=\"images/python-help.png\"/>')"
     ],
     "language": "python",
     "metadata": {},
     "outputs": [
      {
       "html": [
        "<img src=\"images/python-help.png\"/>"
       ],
       "metadata": {},
       "output_type": "pyout",
       "prompt_number": 9,
       "text": [
        "<IPython.core.display.HTML at 0x4d4c3b0>"
       ]
      }
     ],
     "prompt_number": 9
    },
    {
     "cell_type": "code",
     "collapsed": false,
     "input": [
      "# Tab completion is available\n",
      "# press TAB after the period\n",
      "# IPython.  "
     ],
     "language": "python",
     "metadata": {},
     "outputs": [],
     "prompt_number": 10
    },
    {
     "cell_type": "markdown",
     "metadata": {},
     "source": [
      "The IPython *Help* menu item has links to IPython and the scientific packages"
     ]
    },
    {
     "cell_type": "heading",
     "level": 2,
     "metadata": {},
     "source": [
      "Using IPython for Numeric and Scientific Work"
     ]
    },
    {
     "cell_type": "markdown",
     "metadata": {},
     "source": [
      "Early tutorials advised that you start the IPython kernel with the `--pylab=inline` option to load a bunch of packages and see Matplotlib graphs in the browser.  As from IPython 2.0, the server advises you not to use this option, because it pre-loads a number of modules and packages that may not be required and may even interfere with your intended work.\n",
      "\n",
      "**Don't use `%pylab` either:**\n",
      "Then there is the `%pylab` magic command, which essentially does the same as the `--pylab=inline` option. The full command is  [`%pylab [--no-import-all] [gui]`](http://ipython.org/ipython-doc/stable/api/generated/IPython.core.magics.pylab.html). \n",
      "When using this magic, IPython loads numpy and matplotlib.  The following libraries are imported in this magic:  \n",
      "\n",
      "    import numpy\n",
      "    import matplotlib\n",
      "    from matplotlib import pylab, mlab, pyplot\n",
      "    np = numpy\n",
      "    plt = pyplot\n",
      "\n",
      "    from IPython.display import display\n",
      "    from IPython.core.pylabtools import figsize, getfigs\n",
      "\n",
      "    from pylab import *\n",
      "    from numpy import *\n",
      "\n",
      "Clearly the last two imports could potentially cause namespace conflicts with other modules. This is because `import *` is [not good practice](https://stackoverflow.com/questions/2386714/why-is-import-bad). If you use the form  `%pylab -\u2013no-import-all`  the last two * imports will not be executed.\n",
      "So the `%pylab` magic command could be something like `%pylab -\u2013no-import-all inline` to get inline plots in the notebook.\n",
      "\n",
      "But this method still clutters the IPython interactive namespace with global pylab names, potentially causing problems.\n",
      "\n",
      "**Use `%matplotlib` instead:**\n",
      "Do use the `%matplotlib [gtk|gtk3|inline|osx|qt|qt4|tk|wx]` magic to define the Matplotlib plotting backend without importing anything into the IPython interactive namespace.  For the full discussion [see here](http://carreau.github.io/posts/10-No-PyLab-Thanks.ipynb.html).  So the preferred method to get Matplotlib graphics inline in the notebook is to use the magic command  \n",
      "    `%matplotlib inline`  \n",
      "After using this magic, you still have to import numpy manually.    "
     ]
    },
    {
     "cell_type": "markdown",
     "metadata": {},
     "source": [
      "In Ipython, just use numpy and scipy as you would in a normal script. IPython is just a different editor.\n",
      "\n",
      "<http://cyrille.rossant.net/why-using-python-for-scientific-computing/> why use Python?  \n",
      "<http://cyrille.rossant.net/tag/ipython/> Python weaknesses - a balanced view  \n",
      "<http://www.numpy.org/>    \n",
      "<http://www.scipy.org/>    \n",
      "<http://jonathanstreet.com/media/PyNorthwest_Dec2011_Numpy.pdf>    \n",
      "<http://www-personal.umich.edu/~kundeng/stats607/week_5_pysci-03-scipy.pdf>  [nice presentation!]   \n",
      "<http://scipy-lectures.github.io/>     \n",
      "<http://www.engr.ucsb.edu/~shell/che210d/python.pdf>     \n"
     ]
    },
    {
     "cell_type": "markdown",
     "metadata": {},
     "source": [
      "##Plotting"
     ]
    },
    {
     "cell_type": "markdown",
     "metadata": {},
     "source": [
      "###Using pyradi plotting routines\n",
      "\n",
      "pyradi is compatible with IPython, and creates inline graphs in the document.  You can also save a copy of the figure to a file as shown below."
     ]
    },
    {
     "cell_type": "code",
     "collapsed": false,
     "input": [
      "%matplotlib inline\n",
      "import numpy as np\n",
      "\n",
      "import pyradi.ryplot as ryplot\n",
      "a = np.asarray([1,2,3,4,50,100])\n",
      "p = ryplot.Plotter(1,figsize=(9,4))\n",
      "p.plot(1,a, np.sqrt(a))\n",
      "p.saveFig('testplot.png')"
     ],
     "language": "python",
     "metadata": {},
     "outputs": [
      {
       "metadata": {},
       "output_type": "display_data",
       "png": "[encoded data removed]",
       "text": [
        "<matplotlib.figure.Figure at 0x6b3dad0>"
       ]
      }
     ],
     "prompt_number": 11
    },
    {
     "cell_type": "markdown",
     "metadata": {
      "slideshow": {
       "slide_type": "slide"
      }
     },
     "source": [
      "###Matplotlib \n",
      "\n",
      "<http://nbviewer.ipython.org/urls/raw.github.com/jakevdp/matplotlib_pydata2013/master/notebooks/05_Animations.ipynb> - animations  \n",
      "<http://nbviewer.ipython.org/urls/raw.github.com/jakevdp/matplotlib_pydata2013/master/notebooks/03_Widgets.ipynb> - interactivity  \n",
      "\n"
     ]
    },
    {
     "cell_type": "markdown",
     "metadata": {
      "slideshow": {
       "slide_type": "slide"
      }
     },
     "source": [
      "###Matplotlib in qt window\n",
      "\n",
      "Use the ipython magic command pylab to control the graphing backend, switch between inline and qt as required.<br>\n",
      "<http://stackoverflow.com/questions/14261903/how-can-i-open-the-interactive-matplotlib-window-in-ipython-notebook/14277370#14277370> "
     ]
    },
    {
     "cell_type": "markdown",
     "metadata": {},
     "source": [
      "<a name=\"NotebooksRemember\"> "
     ]
    },
    {
     "cell_type": "heading",
     "level": 2,
     "metadata": {},
     "source": [
      "Notebooks remember, but not the way you might think "
     ]
    },
    {
     "cell_type": "markdown",
     "metadata": {},
     "source": [
      "\n",
      "\n",
      "The notebook visible in the browser is not really the notebook, it is only a rendering of the notebook.  The actual notebook and its data resides in the IPython kernel.  The browser is connected to the kernel via a zmq channel, for the purpose of rendering and input.  You can close all the browser windows, but the code and data still resides in the kernel process.  As long as the kernel is running you can open a new browser window at 127.0.0.1:8888 and the notebook will be displayed.\n",
      "\n",
      "The results (including graphs and images) from previous runs are recorded in the notebook, so when it is rendered the previously stored results are shown. The previous results are overwritten only if the cell is executed again.\n",
      "\n",
      "Most important, the results from a previous cell execution remains in the kernel, even if the cell is removed or moved up in the notebook.  It happens from time to time that you execute a cell in a given location, creating some data in the kernel.  The next cell uses this information in a calculation. So far, so good.  Now you decide to re-organise the notebook and move the 'next cell' to a position earlier in the notebook, even before the cell that created the information in the first place.  The newly moved cell still works in its new location, because the information is still in memory.  At the end of work, you save and close the notebook and exit the kernel.\n",
      "\n",
      "Tomorrow you start a new kernel and load the notebook.  To ensure that all is fresh and well, you decide to execute all cells in the notebook. But now the moved cell does not work, because its input information is not yet created - it is only created a few cells into the future. Yet it did work before (because of results still remaining in memory.\n",
      "\n",
      "It is important to understand that the concept of the non-existence of data prior to cell execution does not apply if you move cells around in the notebook. All results are remembered and accessible by cells _linearly before_ the cell that created the information.\n",
      "\n",
      "Similarly, remember that a cell changes information for prosperity, also for subsequent runs of the same cell. For example, suppose we assign a value to a variable in the next cell and in the cell thereafter increment the value. If the first cell is executed once and the second cell is executed repeatedly, the value will increase much more than it would be if the program was executed from start to finish with each cell executed once only.\n",
      "\n",
      "A similar error occurs if the first cell creates a table, and the second cell adds a new column to the table. If the second cell is repeated a number of times, many columns will be added, which was not the intention with the code (it happened to me using pandas).  \n",
      "\n",
      "Therefore be careful with cells that modifies its own input data - such data is not static and changes with each invocation of the cell."
     ]
    },
    {
     "cell_type": "code",
     "collapsed": false,
     "input": [
      "#run this cell once\n",
      "a = 5"
     ],
     "language": "python",
     "metadata": {},
     "outputs": [],
     "prompt_number": 12
    },
    {
     "cell_type": "code",
     "collapsed": false,
     "input": [
      "#run this cell several times\n",
      "a = a + 1\n",
      "print(a)"
     ],
     "language": "python",
     "metadata": {},
     "outputs": [
      {
       "output_type": "stream",
       "stream": "stdout",
       "text": [
        "6\n"
       ]
      }
     ],
     "prompt_number": 13
    },
    {
     "cell_type": "markdown",
     "metadata": {},
     "source": [
      "##Clearing the IPython memory\n",
      "\n",
      "If for some reason you need to clear out all memory in your notebook this can be done by selecting the `Kernel Restart` menu option.  This will clear the kernel memory, including the memory of all open notebooks. So use this avenue with care.  After restarting the kernel, all notebooks must be re-run from start to build the information again."
     ]
    },
    {
     "cell_type": "markdown",
     "metadata": {},
     "source": [
      "##Reloading imports\n",
      "\n",
      "Python's import facility loads a file only once, if the `import` is encountered again for the same module, the import is ignored.  On ocassion the module to be imported may change after the first import. In this case you want to force another import execution. This can be done with the `%load_ext autoreload` magic command. If the extension is already loaded, Ipython may complain, so I use `%reload_ext autoreload`, which attempts to load or reload, as appropriate.\n",
      "\n",
      "<http://ipython.org/ipython-doc/rel-1.1.0/config/extensions/autoreload.html>"
     ]
    },
    {
     "cell_type": "code",
     "collapsed": false,
     "input": [
      "%reload_ext autoreload\n",
      "%autoreload 2\n",
      "import pyradi.ryfiles as ryfiles"
     ],
     "language": "python",
     "metadata": {},
     "outputs": [],
     "prompt_number": 14
    },
    {
     "cell_type": "markdown",
     "metadata": {},
     "source": [
      "##Markdown (MD) language syntax\n",
      "\n",
      "IPython uses the markdown syntax for text in its non-code cells. Markdown is a simplified syntax for simple text layout.  When IPython creates a new cell it is a code cell by default, you must remember to change it to a markdown cell on the menu.\n",
      "\n",
      "One confusing matter is the fact there are different variants of MD. For more details on the syntax see  \n",
      "https://stackoverflow.com/editing-help  \n",
      "<http://nbviewer.ipython.org/github/ipython/ipython/blob/master/examples/notebooks/Part%204%20-%20Markdown%20Cells.ipynb>\n",
      "<http://johnmacfarlane.net/pandoc/demo/example9/pandocs-markdown.html>   \n",
      "<http://johnmacfarlane.net/pandoc/README.html>  \n",
      "<http://daringfireball.net/projects/markdown/>  \n",
      "<http://daringfireball.net/projects/markdown/basics>  \n",
      "<http://daringfireball.net/projects/markdown/syntax>   \n",
      "<https://github.com/adam-p/markdown-here/wiki/Markdown-Cheatsheet>   \n",
      "<http://support.iawriter.com/help/kb/general-questions/markdown-syntax-reference-guide>\n",
      "\n",
      "You can also use embedded raw HTML into a markdown page, but you need to type a lot more than in pure MD.\n",
      "\n",
      "IPython uses the Pandoc converter to convert between different markup languages, so my guess is that it is prudent to work with the Pandoc variant of MD syntax (which is close to the original).  The other major MD variant is the github MD syntax - which is somewhat different.\n",
      "\n",
      "To force a newline end the current line with two spaces.\n",
      "\n",
      "If your markdown does not want to work right, first try to leave a blank line before the offending text."
     ]
    },
    {
     "cell_type": "heading",
     "level": 3,
     "metadata": {},
     "source": [
      "Markdown Cells"
     ]
    },
    {
     "cell_type": "markdown",
     "metadata": {},
     "source": [
      "Type this to get the output shown below:\n",
      "\n",
      "    Markdown basics: lists, markup and code\n",
      "    \n",
      "    * list item \n",
      "    * list item\n",
      "      * nested <font size=\"3\" color=\"red\">list item</font>\n",
      "    \n",
      "    \n",
      "    * *italics*\n",
      "    * **bold**\n",
      "    * `fixed_font`\n",
      "    \n",
      "    You can embed code meant for illustration instead of execution in Python - use four spaces before:\n",
      "    \n",
      "        def hello_ipython():\n",
      "            print \"Hello IPython!\"\n",
      "        \n"
     ]
    },
    {
     "cell_type": "markdown",
     "metadata": {},
     "source": [
      "Markdown basics: lists, markup and code\n",
      "\n",
      "* list item \n",
      "* list item\n",
      "  * nested <font size=\"3\" color=\"red\">list item</font>\n",
      "\n",
      "\n",
      "* *italics*\n",
      "* **bold**\n",
      "* `fixed_font`\n",
      "\n",
      "You can embed code meant for illustration instead of execution in Python - use four spaces before:\n",
      "\n",
      "    def hello_ipython():\n",
      "        print \"Hello IPython!\"\n",
      "        \n"
     ]
    },
    {
     "cell_type": "markdown",
     "metadata": {},
     "source": [
      "<font color=\"red\">A key and important point is that IPython markdown can take embedded HTML of any form.</font> <BR>Therefore in applications where the markdown syntax it too weak, use HTML. Be aware however that not all of the HTML constructs can be converted to some of the conversion output formats (e.g., embedding video in a LaTeX document).\n",
      "\n",
      "Type this to get the output shown below:\n",
      "\n",
      "    Markdown cells can also contain HTML\n",
      "    \n",
      "    <p>Markdown basics: lists, markup and code</p>\n",
      "    \n",
      "    <ul>\n",
      "    <li>list item</li>\n",
      "    <li><p>list item</p>\n",
      "    \n",
      "    <ul>\n",
      "    <li>nested <font size=\"3\" color=\"red\">list item</font></li>\n",
      "    </ul></li>\n",
      "    <li><p><em>italics</em></p></li>\n",
      "    <li><strong>bold</strong></li>\n",
      "    \n",
      "    <li><code>fixed_font</code></li>\n",
      "    </ul>\n",
      "    \n",
      "    <p>Code examples:</p>\n",
      "    \n",
      "    <pre><code>def hello_ipython():\n",
      "        print \"Hello IPython!\"\n",
      "    </code></pre>"
     ]
    },
    {
     "cell_type": "markdown",
     "metadata": {},
     "source": [
      "Markdown cells can also contain HTML\n",
      "\n",
      "<p>Markdown basics: lists, markup and code</p>\n",
      "\n",
      "<ul>\n",
      "<li>list item</li>\n",
      "<li><p>list item</p>\n",
      "\n",
      "<ul>\n",
      "<li>nested <font size=\"3\" color=\"red\">list item</font></li>\n",
      "</ul></li>\n",
      "<li><p><em>italics</em></p></li>\n",
      "<li><strong>bold</strong></li>\n",
      "\n",
      "<li><code>fixed_font</code></li>\n",
      "</ul>\n",
      "\n",
      "<p>Code examples:</p>\n",
      "\n",
      "<pre><code>def hello_ipython():\n",
      "    print \"Hello IPython!\"\n",
      "</code></pre>"
     ]
    },
    {
     "cell_type": "markdown",
     "metadata": {},
     "source": [
      "Type this to get the output shown below:\n",
      "\n",
      "    Using math mode (anything between two `$`s or two `$$`s) is interpreted as $LaTeX$ math:\n",
      "\n",
      "    $$ D_{KL}(P||Q) = \\sum\\limits_{i}ln (\\frac{P(i)}{Q(i)}) P(i)$$"
     ]
    },
    {
     "cell_type": "markdown",
     "metadata": {},
     "source": [
      "Using math mode (anything between two `$`s or two `$$`s) is interpreted as $LaTeX$ math:\n",
      "\n",
      "$$ D_{KL}(P||Q) = \\sum\\limits_{i}ln (\\frac{P(i)}{Q(i)}) P(i)$$"
     ]
    },
    {
     "cell_type": "heading",
     "level": 3,
     "metadata": {},
     "source": [
      "Citations and links"
     ]
    },
    {
     "cell_type": "markdown",
     "metadata": {},
     "source": [
      "Markdown syntax does not have any means to provide citations as often required in formal documentation.\n",
      "        \n",
      "Markdown hyperlinks to external websites: [pyradi](https://code.google.com/p/pyradi/ \"on Google Code\") Python package.   You can provide the display text, the ling address and amouse-over attribute.\n",
      "\n",
      "HTML anchors can be used to create links to other locations in the same file. Put an anchor definition in the place you want to link to, using this format: `<a name=\"MyAnchor\">`. It seems the best place to put this anchor is in a dedicated markdown cell immediatelty in front of where you want to link to, it does not work in a cell with other text.\n",
      "From elsewhere in the file link to this anchor by using the following format  \n",
      "`<a href=\"#MyAnchor\">my anchor</a>`\n",
      "\n",
      "It is also possible to attach anchors to headers as explained in <https://stackoverflow.com/questions/16630969/ipython-notebook-anchor-link-to-refer-a-cell-directly-from-outside>\n"
     ]
    },
    {
     "cell_type": "heading",
     "level": 2,
     "metadata": {},
     "source": [
      "Including images into the notebook"
     ]
    },
    {
     "cell_type": "markdown",
     "metadata": {},
     "source": [
      "There are (at least) two ways to include images in the notebook.   \n",
      "\n",
      "    display(Image(filename='images/portalpage.png'))\n",
      "    HTML('<img src=\"files/images/portalpage.png\" width=600 height=600/>')\n",
      "    \n",
      "The first form includes the image in its natural size.  The second form injects HTML code and allows you to set the image size."
     ]
    },
    {
     "cell_type": "code",
     "collapsed": false,
     "input": [
      "HTML('<img src=\"images/portalpage.png\" width=200 height=200/>')"
     ],
     "language": "python",
     "metadata": {},
     "outputs": [
      {
       "html": [
        "<img src=\"images/portalpage.png\" width=200 height=200/>"
       ],
       "metadata": {},
       "output_type": "pyout",
       "prompt_number": 15,
       "text": [
        "<IPython.core.display.HTML at 0x4d40970>"
       ]
      }
     ],
     "prompt_number": 15
    },
    {
     "cell_type": "heading",
     "level": 2,
     "metadata": {},
     "source": [
      "Embedded vs non-embedded images"
     ]
    },
    {
     "cell_type": "markdown",
     "metadata": {},
     "source": [
      "As of IPython 0.13, images are embedded by default for compatibility with QtConsole, and the ability to still be displayed offline.\n",
      "\n",
      "<http://www.slideviper.oquanta.info/nbcreveal/sky_test.html?theme=sky#/7>"
     ]
    },
    {
     "cell_type": "code",
     "collapsed": false,
     "input": [
      "# by default Image data are embedded\n",
      "picUrl = 'https://pyradi.googlecode.com/svn/trunk/pyradi/doc/_images/pyradi.png'\n",
      "Embed      = Image(picUrl)\n",
      "# display(Embed)\n",
      "\n",
      "# if kwarg `url` is given, the embedding is assumed to be false\n",
      "SoftLinked = Image(url=picUrl)\n",
      "\n",
      "# In each case, embed can be specified explicitly with the `embed` kwarg\n",
      "# ForceEmbed = Image(url=picUrl, embed=True)"
     ],
     "language": "python",
     "metadata": {},
     "outputs": [],
     "prompt_number": 16
    },
    {
     "cell_type": "heading",
     "level": 2,
     "metadata": {},
     "source": [
      "Embedding other media"
     ]
    },
    {
     "cell_type": "markdown",
     "metadata": {},
     "source": [
      "SVG graphic."
     ]
    },
    {
     "cell_type": "code",
     "collapsed": false,
     "input": [
      "from IPython.display import SVG\n",
      "SVG(filename='images/solidangleflatplate.svg')"
     ],
     "language": "python",
     "metadata": {},
     "outputs": [
      {
       "metadata": {},
       "output_type": "pyout",
       "prompt_number": 17,
       "svg": [
        "<svg height=\"280.23193\" id=\"svg2\" inkscape:version=\"0.48.4 r9939\" sodipodi:docname=\"solidangleflatplate.svg\" version=\"1.1\" width=\"478.14612\" xmlns=\"http://www.w3.org/2000/svg\" xmlns:cc=\"http://creativecommons.org/ns#\" xmlns:dc=\"http://purl.org/dc/elements/1.1/\" xmlns:inkscape=\"http://www.inkscape.org/namespaces/inkscape\" xmlns:rdf=\"http://www.w3.org/1999/02/22-rdf-syntax-ns#\" xmlns:sodipodi=\"http://sodipodi.sourceforge.net/DTD/sodipodi-0.dtd\" xmlns:svg=\"http://www.w3.org/2000/svg\">\n",
        "  <defs id=\"defs4\"/>\n",
        "  <sodipodi:namedview bordercolor=\"#666666\" borderopacity=\"1.0\" fit-margin-bottom=\"0\" fit-margin-left=\"0\" fit-margin-right=\"0\" fit-margin-top=\"0\" id=\"base\" inkscape:current-layer=\"layer1\" inkscape:cx=\"235.97462\" inkscape:cy=\"146.30084\" inkscape:document-units=\"px\" inkscape:pageopacity=\"0.0\" inkscape:pageshadow=\"2\" inkscape:window-height=\"998\" inkscape:window-maximized=\"1\" inkscape:window-width=\"1920\" inkscape:window-x=\"-8\" inkscape:window-y=\"-8\" inkscape:zoom=\"0.77064723\" pagecolor=\"#ffffff\" showgrid=\"false\"/>\n",
        "  <metadata id=\"metadata7\">\n",
        "    <rdf:RDF>\n",
        "      <cc:Work rdf:about=\"\">\n",
        "        <dc:format>image/svg+xml</dc:format>\n",
        "        <dc:type rdf:resource=\"http://purl.org/dc/dcmitype/StillImage\"/>\n",
        "        <dc:title/>\n",
        "      </cc:Work>\n",
        "    </rdf:RDF>\n",
        "  </metadata>\n",
        "  <g id=\"layer1\" inkscape:groupmode=\"layer\" inkscape:label=\"Layer 1\" transform=\"translate(-136.07262,-392.25)\">\n",
        "    <path d=\"m 388.50612,649.77869 225.24125,-204.57125 -238.88875,1.0175 -226.5985,204.23187 240.246,-0.67812\" id=\"path2997\" inkscape:connector-curvature=\"0\" style=\"fill:#dedede;fill-opacity:1;fill-rule:evenodd;stroke:none\"/>\n",
        "    <path d=\"m 388.50612,649.77869 225.24125,-204.57125 -238.88875,1.0175 -226.5985,204.23187 240.246,-0.67812 z\" id=\"path2999\" inkscape:connector-curvature=\"0\" style=\"fill:none;stroke:#262626;stroke-width:0.36000001;stroke-linecap:butt;stroke-linejoin:miter;stroke-miterlimit:22.92560005;stroke-opacity:1;stroke-dasharray:none\"/>\n",
        "    <path d=\"m 379.85487,392.42244 c 1.9975,0 3.6175,1.58375 3.6175,3.53625 0,1.95375 -1.62,3.5375 -3.6175,3.5375 -1.99875,0 -3.61875,-1.58375 -3.61875,-3.5375 0,-1.9525 1.62,-3.53625 3.61875,-3.53625\" id=\"path3001\" inkscape:connector-curvature=\"0\" style=\"fill:#adadad;fill-opacity:1;fill-rule:evenodd;stroke:none\"/>\n",
        "    <path d=\"m 379.85487,392.42244 c 1.9975,0 3.6175,1.58375 3.6175,3.53625 0,1.95375 -1.62,3.5375 -3.6175,3.5375 -1.99875,0 -3.61875,-1.58375 -3.61875,-3.5375 0,-1.9525 1.62,-3.53625 3.61875,-3.53625 z\" id=\"path3003\" inkscape:connector-curvature=\"0\" style=\"fill:none;stroke:#262626;stroke-width:0.36000001;stroke-linecap:butt;stroke-linejoin:miter;stroke-miterlimit:22.92560005;stroke-opacity:1;stroke-dasharray:none\"/>\n",
        "    <path d=\"M 142.30651,646.12631 359.54487,450.63994\" id=\"path3005\" inkscape:connector-curvature=\"0\" style=\"fill:none;stroke:#262626;stroke-width:0.36000001;stroke-linecap:butt;stroke-linejoin:miter;stroke-miterlimit:22.92560005;stroke-opacity:1;stroke-dasharray:none\"/>\n",
        "    <path d=\"m 140.48962,643.33094 -2.24756,6.45312 6.65381,-1.55662 -4.40625,-4.8965\" id=\"path3007\" inkscape:connector-curvature=\"0\" style=\"fill:#262626;fill-opacity:1;fill-rule:evenodd;stroke:none\"/>\n",
        "    <path d=\"m 356.95612,448.53869 6.65375,-1.5575 -2.2475,6.45375 -4.40625,-4.89625\" id=\"path3009\" inkscape:connector-curvature=\"0\" style=\"fill:#262626;fill-opacity:1;fill-rule:evenodd;stroke:none\"/>\n",
        "    <path d=\"m 368.61362,660.96713 -227.07274,0\" id=\"path3011\" inkscape:connector-curvature=\"0\" style=\"fill:none;stroke:#262626;stroke-width:0.36000001;stroke-linecap:butt;stroke-linejoin:miter;stroke-miterlimit:22.92560005;stroke-opacity:1;stroke-dasharray:none\"/>\n",
        "    <path d=\"m 368.09362,664.26059 5.9875,-3.29346 -5.9875,-3.29344 0,6.5869\" id=\"path3013\" inkscape:connector-curvature=\"0\" style=\"fill:#262626;fill-opacity:1;fill-rule:evenodd;stroke:none\"/>\n",
        "    <path d=\"m 142.05993,664.26059 -5.98731,-3.29346 5.98731,-3.29344 0,6.5869\" id=\"path3015\" inkscape:connector-curvature=\"0\" style=\"fill:#262626;fill-opacity:1;fill-rule:evenodd;stroke:none\"/>\n",
        "    <g id=\"g3017\" transform=\"matrix(1.25,0,0,-1.25,134.93737,673.31869)\">\n",
        "      <text id=\"text3019\" transform=\"matrix(0.66938351,0.00390921,-0.74291703,-0.66501032,82.2539,0.714063)\">\n",
        "        <tspan id=\"tspan3021\" style=\"font-size:16.04628372px;font-style:italic;font-variant:normal;font-weight:normal;writing-mode:lr-tb;fill:#262626;fill-opacity:1;fill-rule:nonzero;stroke:none;font-family:Palatino Linotype;-inkscape-font-specification:PalatinoLinotype-Roman-NormalItalic\" x=\"0\" y=\"0\">D</tspan>\n",
        "      </text>\n",
        "      <text id=\"text3023\" transform=\"matrix(0.74291291,0.66500552,0.66938808,0.00390357,90.8168,102.147)\">\n",
        "        <tspan id=\"tspan3025\" style=\"font-size:16.43293762px;font-style:italic;font-variant:normal;font-weight:normal;writing-mode:lr-tb;fill:#262626;fill-opacity:1;fill-rule:nonzero;stroke:none;font-family:Palatino Linotype;-inkscape-font-specification:PalatinoLinotype-Roman-NormalItalic\" x=\"0\" y=\"0\">W</tspan>\n",
        "      </text>\n",
        "    </g>\n",
        "    <path d=\"m 380.51112,537.96994 -0.6825,-136.58875\" id=\"path3027\" inkscape:connector-curvature=\"0\" style=\"fill:none;stroke:#262626;stroke-width:0.36000001;stroke-linecap:butt;stroke-linejoin:miter;stroke-miterlimit:22.92560005;stroke-opacity:1;stroke-dasharray:none\"/>\n",
        "    <path d=\"m 377.21487,537.46744 3.32375,5.97125 3.26375,-6.00375 -6.5875,0.0325\" id=\"path3029\" inkscape:connector-curvature=\"0\" style=\"fill:#262626;fill-opacity:1;fill-rule:evenodd;stroke:none\"/>\n",
        "    <path d=\"m 376.53737,401.91619 3.26375,-6.00375 3.32375,5.97125 -6.5875,0.0325\" id=\"path3031\" inkscape:connector-curvature=\"0\" style=\"fill:#262626;fill-opacity:1;fill-rule:evenodd;stroke:none\"/>\n",
        "    <path d=\"m 509.07237,514.24869 10.8025,-9.83375 -11.46125,0 -10.99625,9.795 11.655,0.0388\" id=\"path3033\" inkscape:connector-curvature=\"0\" style=\"fill:#ffffff;fill-opacity:1;fill-rule:evenodd;stroke:none\"/>\n",
        "    <path d=\"m 509.07237,514.24869 10.8025,-9.83375 -11.46125,0 -10.99625,9.795 11.655,0.0388 z\" id=\"path3035\" inkscape:connector-curvature=\"0\" style=\"fill:none;stroke:#262626;stroke-width:0.36000001;stroke-linecap:butt;stroke-linejoin:miter;stroke-miterlimit:22.92560005;stroke-opacity:1;stroke-dasharray:none\"/>\n",
        "    <path d=\"m 379.83987,396.53244 129.56,111.83125 0,-79.6825\" id=\"path3043\" inkscape:connector-curvature=\"0\" style=\"fill:none;stroke:#262626;stroke-width:0.36000001;stroke-linecap:butt;stroke-linejoin:miter;stroke-miterlimit:22.92560005;stroke-opacity:1;stroke-dasharray:none\"/>\n",
        "    <g id=\"g3045\" transform=\"matrix(1.25,0,0,-1.25,134.93737,673.31869)\">\n",
        "      <text id=\"text3047\" transform=\"matrix(1,0,0,-1,230.003,194.756)\">\n",
        "        <tspan id=\"tspan3049\" style=\"font-size:10.99969959px;font-style:italic;font-variant:normal;font-weight:normal;writing-mode:lr-tb;fill:#262626;fill-opacity:1;fill-rule:nonzero;stroke:none;font-family:Palatino Linotype;-inkscape-font-specification:PalatinoLinotype-Roman-NormalItalic\" x=\"0\" y=\"0\">R</tspan>\n",
        "        <tspan id=\"tspan3051\" sodipodi:role=\"line\" style=\"font-size:10.99969959px;font-style:italic;font-variant:normal;font-weight:normal;writing-mode:lr-tb;fill:#262626;fill-opacity:1;fill-rule:nonzero;stroke:none;font-family:Palatino Linotype;-inkscape-font-specification:PalatinoLinotype-Roman-NormalItalic\" x=\"73.685501 79.185349\" y=\"69.308197\">dw</tspan>\n",
        "        <tspan id=\"tspan3053\" sodipodi:role=\"line\" style=\"font-size:10.99969959px;font-style:italic;font-variant:normal;font-weight:normal;writing-mode:lr-tb;fill:#262626;fill-opacity:1;fill-rule:nonzero;stroke:none;font-family:Palatino Linotype;-inkscape-font-specification:PalatinoLinotype-Roman-NormalItalic\" x=\"54.046398 59.546249\" y=\"76.946091\">dd</tspan>\n",
        "      </text>\n",
        "      <text id=\"text3055\" transform=\"matrix(1,0,0,-1,286.7201,152.38961)\">\n",
        "        <tspan id=\"tspan3057\" style=\"font-size:10.99969959px;font-style:italic;font-variant:normal;writing-mode:lr-tb;fill:#262626;fill-opacity:1;fill-rule:nonzero;stroke:none;font-family:PazoMath;-inkscape-font-specification:PazoMath-Italic\" x=\"0\" y=\"0\">\u03b8</tspan>\n",
        "      </text>\n",
        "    </g>\n",
        "    <path d=\"m 477.22862,473.57369 c 8.7875,-8.08125 20.2775,-12.585 32.215,-12.62625\" id=\"path3059\" inkscape:connector-curvature=\"0\" style=\"fill:none;stroke:#262626;stroke-width:0.36000001;stroke-linecap:round;stroke-linejoin:round;stroke-miterlimit:22.92560005;stroke-opacity:1;stroke-dasharray:none\"/>\n",
        "    <path d=\"m 475.38112,470.79744 -2.1775,6.4775 6.63625,-1.62875 -4.45875,-4.84875\" id=\"path3061\" inkscape:connector-curvature=\"0\" style=\"fill:#262626;fill-opacity:1;fill-rule:evenodd;stroke:none\"/>\n",
        "    <path d=\"m 267.45362,543.88744 237.995,0\" id=\"path3063\" inkscape:connector-curvature=\"0\" style=\"fill:none;stroke:#262626;stroke-width:0.36000001;stroke-linecap:butt;stroke-linejoin:miter;stroke-miterlimit:22.92560005;stroke-opacity:1;stroke-dasharray:none\"/>\n",
        "    <path d=\"M 264.05862,649.43881 488.21612,445.74744\" id=\"path3065\" inkscape:connector-curvature=\"0\" style=\"fill:none;stroke:#262626;stroke-width:0.36000001;stroke-linecap:butt;stroke-linejoin:miter;stroke-miterlimit:22.92560005;stroke-opacity:1;stroke-dasharray:none\"/>\n",
        "    <g id=\"g3067\" transform=\"matrix(1.25,0,0,-1.25,134.93737,673.31869)\">\n",
        "      <text id=\"text3069\" transform=\"matrix(1,0,0,-1,184.332,153.632)\">\n",
        "        <tspan id=\"tspan3071\" style=\"font-size:10.99969959px;font-style:italic;font-variant:normal;font-weight:normal;writing-mode:lr-tb;fill:#262626;fill-opacity:1;fill-rule:nonzero;stroke:none;font-family:Palatino Linotype;-inkscape-font-specification:PalatinoLinotype-Roman-NormalItalic\" x=\"0\" y=\"0\">H</tspan>\n",
        "      </text>\n",
        "    </g>\n",
        "    <text id=\"text3190\" sodipodi:linespacing=\"125%\" style=\"font-size:40px;font-style:normal;font-weight:normal;line-height:125%;letter-spacing:0px;word-spacing:0px;fill:#000000;fill-opacity:1;stroke:none;font-family:Sans\" x=\"293.50751\" xml:space=\"preserve\" y=\"404.64066\"><tspan id=\"tspan3192\" sodipodi:role=\"line\" style=\"font-size:11px;font-style:normal;font-variant:normal;font-weight:normal;font-stretch:normal;font-family:Palatino Linotype;-inkscape-font-specification:Palatino Linotype\" x=\"293.50751\" y=\"404.64066\">Reference point</tspan></text>\n",
        "  </g>\n",
        "</svg>"
       ],
       "text": [
        "<IPython.core.display.SVG at 0x4d408f0>"
       ]
      }
     ],
     "prompt_number": 17
    },
    {
     "cell_type": "markdown",
     "metadata": {},
     "source": [
      "Embed a video from YouTube."
     ]
    },
    {
     "cell_type": "code",
     "collapsed": false,
     "input": [
      "from IPython.display import YouTubeVideo\n",
      "# a talk about IPython at Sage Days at U. Washington, Seattle.\n",
      "# Video credit: William Stein.\n",
      "YouTubeVideo('1j_HxD4iLn8')"
     ],
     "language": "python",
     "metadata": {},
     "outputs": [
      {
       "html": [
        "\n",
        "        <iframe\n",
        "            width=\"400\"\n",
        "            height=300\"\n",
        "            src=\"https://www.youtube.com/embed/1j_HxD4iLn8\"\n",
        "            frameborder=\"0\"\n",
        "            allowfullscreen\n",
        "        ></iframe>\n",
        "        "
       ],
       "metadata": {},
       "output_type": "pyout",
       "prompt_number": 18,
       "text": [
        "<IPython.lib.display.YouTubeVideo at 0x733b7d0>"
       ]
      }
     ],
     "prompt_number": 18
    },
    {
     "cell_type": "markdown",
     "metadata": {},
     "source": [
      "Embed an external web page."
     ]
    },
    {
     "cell_type": "code",
     "collapsed": false,
     "input": [
      "HTML('<iframe src=https://en.wikipedia.org/wiki/Einstein width=700 height=350></iframe>')"
     ],
     "language": "python",
     "metadata": {},
     "outputs": [
      {
       "html": [
        "<iframe src=https://en.wikipedia.org/wiki/Einstein width=700 height=350></iframe>"
       ],
       "metadata": {},
       "output_type": "pyout",
       "prompt_number": 19,
       "text": [
        "<IPython.core.display.HTML at 0x6b5b370>"
       ]
      }
     ],
     "prompt_number": 19
    },
    {
     "cell_type": "heading",
     "level": 1,
     "metadata": {},
     "source": [
      "The following information is somewhat esoteric, you need not go into this"
     ]
    },
    {
     "cell_type": "markdown",
     "metadata": {
      "slideshow": {
       "slide_type": "slide"
      }
     },
     "source": [
      "###Markdown formatting in dynamic output display\n",
      "\n",
      "<http://catherinedevlin.blogspot.com/2013/06/easy-html-output-in-ipython-notebook.html>  \n",
      "\n",
      "For this to work, you first have to install the Python markdown package (assuming you have the pip python package installer):  \n",
      "`pip install markdown`\n",
      "\n",
      "Use the following function to render a Python string in markdown syntax to display in IPython:"
     ]
    },
    {
     "cell_type": "code",
     "collapsed": false,
     "input": [
      "import markdown\n",
      "class MD(str):\n",
      "    def _repr_html_(self):\n",
      "        return markdown.markdown(self)"
     ],
     "language": "python",
     "metadata": {},
     "outputs": [],
     "prompt_number": 20
    },
    {
     "cell_type": "code",
     "collapsed": false,
     "input": [
      "import math\n",
      "a = 2\n",
      "MD(\"\"\"\n",
      "Dynamic demonstration\n",
      "--------------\n",
      "This is a mixture of markdown **and** html:<br>\n",
      "The square root of {0} <span STYLE=color:green>used to be</span> somewhere near {1}\"\"\".format(a,math.sqrt(a)))"
     ],
     "language": "python",
     "metadata": {},
     "outputs": [
      {
       "html": [
        "<h2>Dynamic demonstration</h2>\n",
        "<p>This is a mixture of markdown <strong>and</strong> html:<br>\n",
        "The square root of 2 <span STYLE=color:green>used to be</span> somewhere near 1.41421356237</p>"
       ],
       "metadata": {},
       "output_type": "pyout",
       "prompt_number": 21,
       "text": [
        "'\\nDynamic demonstration\\n--------------\\nThis is a mixture of markdown **and** html:<br>\\nThe square root of 2 <span STYLE=color:green>used to be</span> somewhere near 1.41421356237'"
       ]
      }
     ],
     "prompt_number": 21
    },
    {
     "cell_type": "markdown",
     "metadata": {
      "slideshow": {
       "slide_type": "slide"
      }
     },
     "source": [
      "###HTML formatting in dynamic output display\n",
      "\n",
      "Use HTML to format the output of your code\n",
      "<http://python.6.x6.nabble.com/Printing-HTML-within-IPython-Notebook-IPython-specific-prettyprint-td5016624.html>"
     ]
    },
    {
     "cell_type": "code",
     "collapsed": false,
     "input": [
      "from IPython.display import display, HTML \n",
      "for x in range(3): \n",
      "    display(HTML(\"<i>Length</i> <b>\" + str(x) + \"</b>\")) "
     ],
     "language": "python",
     "metadata": {},
     "outputs": [
      {
       "html": [
        "<i>Length</i> <b>0</b>"
       ],
       "metadata": {},
       "output_type": "display_data",
       "text": [
        "<IPython.core.display.HTML at 0x7377590>"
       ]
      },
      {
       "html": [
        "<i>Length</i> <b>1</b>"
       ],
       "metadata": {},
       "output_type": "display_data",
       "text": [
        "<IPython.core.display.HTML at 0x73197f0>"
       ]
      },
      {
       "html": [
        "<i>Length</i> <b>2</b>"
       ],
       "metadata": {},
       "output_type": "display_data",
       "text": [
        "<IPython.core.display.HTML at 0x6b5b430>"
       ]
      }
     ],
     "prompt_number": 22
    },
    {
     "cell_type": "markdown",
     "metadata": {
      "slideshow": {
       "slide_type": "slide"
      }
     },
     "source": [
      "###Displaying tables in HTML\n",
      "\n",
      "<http://calebmadrigal.com/display-list-as-table-in-ipython-notebook/>"
     ]
    },
    {
     "cell_type": "code",
     "collapsed": false,
     "input": [
      "class ListTable(list):\n",
      "    \"\"\" Overridden list class which takes a 2-dimensional list of \n",
      "        the form [[1,2,3],[4,5,6]], and renders an HTML Table in \n",
      "        IPython Notebook. \"\"\"\n",
      "    \n",
      "    def _repr_html_(self):\n",
      "        html = [\"<table>\"]\n",
      "        for row in self:\n",
      "            html.append(\"<tr>\")\n",
      "            \n",
      "            for col in row:\n",
      "                html.append(\"<td>{0}</td>\".format(col))\n",
      "            \n",
      "            html.append(\"</tr>\")\n",
      "        html.append(\"</table>\")\n",
      "        return ''.join(html)"
     ],
     "language": "python",
     "metadata": {},
     "outputs": [],
     "prompt_number": 23
    },
    {
     "cell_type": "code",
     "collapsed": false,
     "input": [
      "import random\n",
      "table = ListTable()\n",
      "table.append(['x', 'y', 'x-y', '(x-y)^2'])\n",
      "for i in xrange(7):\n",
      "    x = random.uniform(0, 10)\n",
      "    y = random.uniform(0, 10)\n",
      "    table.append([x, y, x-y, (x-y)**2])\n",
      "    \n",
      "table"
     ],
     "language": "python",
     "metadata": {},
     "outputs": [
      {
       "html": [
        "<table><tr><td>x</td><td>y</td><td>x-y</td><td>(x-y)^2</td></tr><tr><td>6.26140227292</td><td>1.23566644215</td><td>5.02573583077</td><td>25.2580206407</td></tr><tr><td>3.89931543868</td><td>2.97519991242</td><td>0.92411552626</td><td>0.853989505875</td></tr><tr><td>5.1301743296</td><td>6.57851785102</td><td>-1.44834352143</td><td>2.09769895606</td></tr><tr><td>5.22214441582</td><td>0.0606887932091</td><td>5.16145562261</td><td>26.6406241442</td></tr><tr><td>1.2271174788</td><td>1.57182353888</td><td>-0.344706060072</td><td>0.11882226785</td></tr><tr><td>2.55405012749</td><td>1.6035383072</td><td>0.950511820294</td><td>0.903472720518</td></tr><tr><td>3.58268987161</td><td>0.4252941378</td><td>3.15739573381</td><td>9.9691478199</td></tr></table>"
       ],
       "metadata": {},
       "output_type": "pyout",
       "prompt_number": 24,
       "text": [
        "[['x', 'y', 'x-y', '(x-y)^2'],\n",
        " [6.261402272923747,\n",
        "  1.2356664421536956,\n",
        "  5.025735830770051,\n",
        "  25.258020640685935],\n",
        " [3.8993154386816387,\n",
        "  2.9751999124214255,\n",
        "  0.9241155262602132,\n",
        "  0.8539895058751908],\n",
        " [5.130174329598845,\n",
        "  6.578517851024399,\n",
        "  -1.4483435214255538,\n",
        "  2.0976989560553734],\n",
        " [5.222144415823959,\n",
        "  0.060688793209091596,\n",
        "  5.161455622614868,\n",
        "  26.640624144222638],\n",
        " [1.2271174788031847,\n",
        "  1.5718235388751611,\n",
        "  -0.34470606007197646,\n",
        "  0.11882226785034504],\n",
        " [2.554050127490737,\n",
        "  1.6035383071970455,\n",
        "  0.9505118202936913,\n",
        "  0.9034727205180265],\n",
        " [3.5826898716118993,\n",
        "  0.4252941377995545,\n",
        "  3.157395733812345,\n",
        "  9.969147819896396]]"
       ]
      }
     ],
     "prompt_number": 24
    },
    {
     "cell_type": "markdown",
     "metadata": {
      "slideshow": {
       "slide_type": "slide"
      }
     },
     "source": [
      "###More HTML formatting\n",
      "\n",
      "<http://stackoverflow.com/questions/13770394/ipython-notebook-make-output-cells-like-markdown>"
     ]
    },
    {
     "cell_type": "code",
     "collapsed": false,
     "input": [
      "htmlContent = ''\n",
      "\n",
      "def header(text):\n",
      "    raw_html = '<h1>' + str(text) + '</h1>'\n",
      "    return raw_html\n",
      "\n",
      "def box(text):\n",
      "    raw_html = '<div style=\"border:1px dotted black;padding:2em;\">'+str(text)+'</div>'\n",
      "    return raw_html\n",
      "\n",
      "def addContent(raw_html):\n",
      "    global htmlContent\n",
      "    htmlContent += raw_html\n",
      "\n",
      "\n",
      "# Example\n",
      "addContent( header(\"This is a header\") )\n",
      "addContent( box(\"This is some text in a box\") )\n",
      "\n",
      "from IPython.core.display import HTML\n",
      "HTML(htmlContent)"
     ],
     "language": "python",
     "metadata": {},
     "outputs": [
      {
       "html": [
        "<h1>This is a header</h1><div style=\"border:1px dotted black;padding:2em;\">This is some text in a box</div>"
       ],
       "metadata": {},
       "output_type": "pyout",
       "prompt_number": 25,
       "text": [
        "<IPython.core.display.HTML at 0x7377c30>"
       ]
      }
     ],
     "prompt_number": 25
    },
    {
     "cell_type": "markdown",
     "metadata": {
      "slideshow": {
       "slide_type": "slide"
      }
     },
     "source": [
      "##Fine-tuning IPython typographic output appearance\n",
      "\n",
      "Changing the fonts, colours and layout to suit your own style.  \n",
      "<http://slendrmeans.wordpress.com/2012/12/05/better-typography-for-ipython-notebooks/>   \n",
      "<http://zulko.wordpress.com/2013/04/14/customize-your-ipython-notebook-with-css/>  "
     ]
    },
    {
     "cell_type": "markdown",
     "metadata": {
      "slideshow": {
       "slide_type": "slide"
      }
     },
     "source": [
      "##Adding IPython display output to existing objects\n",
      "\n",
      "<http://nbviewer.ipython.org/url/github.com/ipython/ipython/raw/master/examples/notebooks/Custom%20Display%20Logic.ipynb>\n",
      "\n",
      "For example, define a function that pretty-prints a polynomial as a LaTeX string:"
     ]
    },
    {
     "cell_type": "code",
     "collapsed": false,
     "input": [
      "def poly2latex(p):\n",
      "    terms = ['%.2g' % p.coef[0]]\n",
      "    if len(p) > 1:\n",
      "        term = 'x'\n",
      "        c = p.coef[1]\n",
      "        if c!=1:\n",
      "            term = ('%.2g ' % c) + term\n",
      "        terms.append(term)\n",
      "    if len(p) > 2:\n",
      "        for i in range(2, len(p)):\n",
      "            term = 'x^%d' % i\n",
      "            c = p.coef[i]\n",
      "            if c!=1:\n",
      "                term = ('%.2g ' % c) + term\n",
      "            terms.append(term)\n",
      "    px = '$P(x)=%s$' % '+'.join(terms)\n",
      "    dom = r', domain: $[%.2g,\\ %.2g]$' % tuple(p.domain)\n",
      "    return px+dom\n"
     ],
     "language": "python",
     "metadata": {},
     "outputs": [],
     "prompt_number": 26
    },
    {
     "cell_type": "code",
     "collapsed": false,
     "input": [
      "import numpy as np\n",
      "\n",
      "p = np.polynomial.Polynomial([1,2,3], [-10, 10])\n",
      "from IPython.display import Latex\n",
      "Latex(poly2latex(p))\n"
     ],
     "language": "python",
     "metadata": {},
     "outputs": [
      {
       "latex": [
        "$P(x)=1+2 x+3 x^2$, domain: $[-10,\\ 10]$"
       ],
       "metadata": {},
       "output_type": "pyout",
       "prompt_number": 27,
       "text": [
        "<IPython.core.display.Latex at 0x6b3deb0>"
       ]
      }
     ],
     "prompt_number": 27
    },
    {
     "cell_type": "markdown",
     "metadata": {},
     "source": [
      "But you can instruct IPython to use default display as follows:\n"
     ]
    },
    {
     "cell_type": "code",
     "collapsed": false,
     "input": [
      "ip = get_ipython()\n",
      "latex_formatter = ip.display_formatter.formatters['text/latex']\n",
      "latex_formatter.for_type_by_name('numpy.polynomial.polynomial',\n",
      "                                 'Polynomial', poly2latex)\n"
     ],
     "language": "python",
     "metadata": {},
     "outputs": [],
     "prompt_number": 28
    },
    {
     "cell_type": "code",
     "collapsed": false,
     "input": [
      "p2 = np.polynomial.Polynomial([-20, 71, -15, 1])\n",
      "p2\n"
     ],
     "language": "python",
     "metadata": {},
     "outputs": [
      {
       "latex": [
        "$P(x)=-20+71 x+-15 x^2+x^3$, domain: $[-1,\\ 1]$"
       ],
       "metadata": {},
       "output_type": "pyout",
       "prompt_number": 29,
       "text": [
        "Polynomial([-20.,  71., -15.,   1.], [-1.,  1.], [-1.,  1.])"
       ]
      }
     ],
     "prompt_number": 29
    },
    {
     "cell_type": "markdown",
     "metadata": {
      "slideshow": {
       "slide_type": "slide"
      }
     },
     "source": [
      "##Making slides from IPython notebooks\n",
      "\n",
      "IPython is the tool of choice for presentations at Python conferences today - you hardly see a slideshow that was not made with IPython.  \n",
      "<http://www.slideviper.oquanta.info/tutorial/slideshow_tutorial_slides.html#/>   \n",
      "<http://www.damian.oquanta.info/posts/make-your-slides-with-ipython.html>    \n",
      "<http://nbviewer.ipython.org/github/fperez/nb-slideshow-template/blob/master/install-support.ipynb>    \n",
      "\n",
      "Now one of the coolest new features are the Reveal.js based slideshows. [Here](http://www.slideviper.oquanta.info/tutorial/slideshow_tutorial_slides.html?transition=none#/)  is an example by the developer of the slideshow feature Dami\u00e1n Avila which shows how to turn any IPython Notebook into a slideshow and how to include math, images, videos, tables, etc.  \n",
      "\n",
      "<http://www.slideviper.oquanta.info/tutorial/slideshow_tutorial_slides.html?transition=none#/>    \n",
      "<http://hannes-brt.github.io/blog/2013/08/11/ipython-slideshows-will-change-the-way-you-work/> - hiding code in slide shows.  \n",
      "<http://nbviewer.ipython.org/urls/gist.github.com/damianavila/5970218/raw/766d41eab9a16850a2a4447f14e93e7ed88f6b08/using_local_reveal.ipynb> - local copy of reveal.js  \n",
      "<https://www.youtube.com/watch?v=rBS6hmiK-H8> - youtube video   \n",
      "\n",
      "First (1) create the IPython notebook as a regular notebook, then (2) change each cell's metadata to set its slideshow status, then (3) save the notebook, (4) convert the notebook to the slideshow format, and (5) serve the slideshow html file on an http server.  Some of these steps are described next.\n",
      "\n",
      "Step (2): Click on the the \"Cell Toolbar\" dropdown combobox: select the \"Slideshow\" option.  On the top-right side of _each_ cell will appear a dropdown combobox where you can define the slideshow status of that specific cell. Select the appropriate type for each cell.\n",
      "\n",
      "Steps (4) and (5): The slide show runs in a reveal.js javascript environment, but requires that the file be served on an http server. In order to convert the notebook to slide show and serve in a browser, type the following command:<br>\n",
      "`ipython nbconvert --to slides --post serve filename`<br>\n",
      "where `filename` is the name of the ipython notebook you want to convert to a slide show.\n"
     ]
    },
    {
     "cell_type": "markdown",
     "metadata": {},
     "source": [
      "## Blogging with IPython\n",
      "\n",
      "IPython is also used to created blogging pages:  \n",
      "<http://blog.fperez.org/2012/09/blogging-with-ipython-notebook.html>    \n",
      "<http://www.damian.oquanta.info/>    \n",
      "<http://brunettoziosi.eu/posts/blogging-with-nikola-ipython-github.html>    \n",
      "<http://www.davidketcheson.info/2012/10/11/blogging_ipython_notebooks_with_jekyll.html>    "
     ]
    },
    {
     "cell_type": "markdown",
     "metadata": {},
     "source": [
      "##Customising the IPython notebook\n",
      "\n",
      "The notebook is primarily rendered in HTML in the browser and when exported to HTML. As an HTML product it can be customised in terms of layout, font, colours and other elements of style.  Likewise the exports to other formats, such as LaTeX, can also be similarly customised to a particular look and feel.\n",
      "\n",
      "<http://slendermeans.org/better-typography-for-ipython-notebooks.html>  \n",
      "<http://zulko.wordpress.com/2013/04/14/customize-your-ipython-notebook-with-css/>  \n",
      "<http://nbviewer.ipython.org/github/Carreau/posts/blob/master/Blog1.ipynb>\n"
     ]
    },
    {
     "cell_type": "markdown",
     "metadata": {},
     "source": [
      "##Publishing your notebooks\n",
      "\n",
      "<http://developer.rackspace.com/blog/bookstore-for-ipython-notebooks.html>\n"
     ]
    },
    {
     "cell_type": "heading",
     "level": 2,
     "metadata": {},
     "source": [
      "The pyradi notebook series"
     ]
    },
    {
     "cell_type": "code",
     "collapsed": false,
     "input": [
      "import markdown\n",
      "class MD(str):\n",
      "    def _repr_html_(self):\n",
      "        return markdown.markdown(self)\n",
      "MD(open('README.md','rt').read())"
     ],
     "language": "python",
     "metadata": {},
     "outputs": [
      {
       "html": [
        "<h3>Computational Optical Radiometry with pyradi</h3>\n",
        "<p>The <a href=\"https://code.google.com/p/pyradi/\">pyradi</a> toolkit is a Python toolkit to perform optical and infrared radiometry (flux flow) calculations.\n",
        "The toolkit is an extendable, integrated and coherent collection of basic functions, code modules, documentation, example templates, unit tests and resources, that can be applied towards diverse calculations in the electro-optics domain. </p>\n",
        "<p>The notebooks in this series cover the functionality provided by the <a href=\"https://code.google.com/p/pyradi/\">pyradi</a> Python library on <a href=\"https://code.google.com/p/pyradi/source/browse/#svn%2Ftrunk%253Fstate%253Dclosed\">Google Code</a>.<br />\n",
        "The pyradi package is also available on <a href=\"https://pypi.python.org/pypi/pyradi/\">PyPI</a>:  <code>pip install --upgrade pyradi</code>.</p>\n",
        "<p>The links below point to HTML renderings of the notebooks, available on <a href=\"https://github.com/NelisW/ComputationalRadiometry\">Github</a>. These notebooks are constantly revised.\n",
        "This series of  notebooks is not intended to be a complete manual, please consult the <a href=\"https://code.google.com/p/pyradi/#Documentation\">references</a> for more information. \n",
        "Section references in the notebooks indicated as (Sec 5.1) refer to sections in the <a href=\"http://spie.org/x648.html?product_id=2021423&amp;origin_id=x646\">book</a>.</p>\n",
        "<p>01) <a href=\"http://nbviewer.ipython.org/urls/raw.githubusercontent.com/NelisW/ComputationalRadiometry/master/01-IPythonHintsAndTips.ipynb?create=1\">IPython hints and tips</a>.<br />\n",
        "This notebook provides a brief summary of how to start up and use the IPython notebook.\n",
        "Introductions are given to magic commands, help functionality, using IPython for scientific work, cell memory, markdown, citations, embedding media files, and a few lesser used functions.</p>\n",
        "<p>02) <a href=\"http://nbviewer.ipython.org/urls/raw.githubusercontent.com/NelisW/ComputationalRadiometry/master/02-PythonWhirlwindCheatSheet.ipynb?create=1\">Python whirlwind cheat sheet</a>.<br />\n",
        "This notebook serves to give brief one-liner examples of key Python usage and idioms.\n",
        "The approach here is not to spend too much time on general Python constructs, but to move on to Numpy as soon as possible. Numpy is a critical base for any scientific calculation, providing powerful vectorised computation. I make no claim to any level of completeness in this document. You still need to read the books and reference manuals to get the big picture and the details. You still have to read the manuals, but this should help you move on to Numpy quickly.</p>\n",
        "<p>03) Introduction to optical radiometry.<br />\n",
        "The idea is to have a very brief overview of the fundamental theory. For now see the <a href=\"http://spie.org/x648.html?product_id=2021423&amp;origin_id=x646\">book</a>.</p>\n",
        "<p>04) <a href=\"http://nbviewer.ipython.org/urls/raw.githubusercontent.com/NelisW/ComputationalRadiometry/master/04-IntroductionToComputationalRadiometryWithPyradi.ipynb?create=1\">Introduction to computational radiometry with  pyradi</a>.<br />\n",
        "This notebook provides a description of the basics of radiometric spectral variables and conversions between spectral densities, generic filter functions, generic detector functions, and reading and plotting spectral data.\n",
        "It then moves on to how to calculate spectral integrals, calculate spectral effective values, spectral convolution, colour coordinate calculations, and spatial integrals.</p>\n",
        "<p>05) Plotting with pyradi.  Demonstrating the variety of plots available with ryplot.  <br />\n",
        "05a) <a href=\"http://nbviewer.ipython.org/urls/raw.githubusercontent.com/NelisW/ComputationalRadiometry/master/05-PlottingWithPyradi-GeneralAndCartesian.ipynb?create=1\">Plotting With Pyradi - General Introduction and Cartesian Plots</a><br />\n",
        "The pyradi library has a module, <a href=\"http://pyradi.googlecode.com/svn//trunk/pyradi/doc/_build/html/ryplot.html\"><code>pyradi.ryplot</code></a>,\n",
        "to simplify plotting. The module is a productivity wrapper around <a href=\"http://matplotlib.org/\">Matplotlib</a>, all that can can be done <code>pyradi.ryplot</code> can be done with raw Matplotlib.  The productivity gained with this module stems from the fact that plots and plot properties are all combined into a single function call. So, with just one call a complete graph can be drawn. The code is compact and there is no need to hunt through many pages of documentation to find the appropriate command for some graph attribute. You would have to consult the ryplot documentation for information on the functions long list of parameters.\n",
        "This notebook covers a general introduction to plotting and creating cartesian (x,y) plots. Other plot types are covered in the next notebook in the series.  </p>\n",
        "<p>05b) Polar Plots  </p>\n",
        "<p>05c) Images  </p>\n",
        "<p>05d) Mayavi   </p>\n",
        "<p>06) Diverse utilities.<br />\n",
        "Demonstrate the pulse detection algorithms (ryutils). Demonstrate the range equation solver (ryutils). Absolute humidity function (ryutils).<br />\n",
        "List files in directory tree using a pattern: listFiles (ryfiles). Write LateX code for eps figure: epsLaTexFigure (ryfiles). Write a numpy array to LaTeX: arrayToLaTex (ryfiles). Load a two-dimensional lookup table: read2DLookupTable (ryfiles).</p>\n",
        "<p>07) <a href=\"http://nbviewer.ipython.org/urls/raw.githubusercontent.com/NelisW/ComputationalRadiometry/master/07-Optical%20Sources.ipynb?create=1\">Optical Sources</a>.<br />\n",
        "The pyradi library has a reasonably complete collection of Planck radiator models, both spectral and wide band. A comprehensive collection of physical constants, pertinent to optical radiation is also included.  This notebook introduces these functions in the <a href=\"http://pyradi.googlecode.com/svn//trunk/pyradi/doc/_build/html/ryplanck.html#pyradi.ryplanck\"><code>pyradi.ryplanck</code></a> library.</p>\n",
        "<p>08) <a href=\"http://nbviewer.ipython.org/urls/raw.githubusercontent.com/NelisW/ComputationalRadiometry/master/08-ModtranFileProcessing.ipynb?create=1\">Modtran File Processing</a>.<br />\n",
        "The pyradi library has a module to handle Modtran files.  The module currently has only one function: to read Modtran tape7 files in an intelligent manner.  The function is <a href=\"http://pyradi.googlecode.com/svn//trunk/pyradi/doc/_build/html/rymodtran.html#pyradi.rymodtran.loadtape7\"><code>rymodtran.loadtape7</code></a>.</p>\n",
        "<p>09) <a href=\"http://nbviewer.ipython.org/urls/raw.githubusercontent.com/NelisW/ComputationalRadiometry/master/09-DetectorModelling.ipynb?create=1\">Optical Detector Modelling</a>.<br />\n",
        "The pyradi <a href=\"http://pyradi.googlecode.com/svn//trunk/pyradi/doc/_build/html/rydetector.html\"><code>rydetector</code></a> module models the primary functionality of optical detectors.  This notebook demonstrates the development of a simple single element InSb detector model suitable for high-level system modelling.  The performance of the detector is described in terms of its figures of merit. The theoretical background to this model is covered the text book.  </p>\n",
        "<p>10) Processing image data.<br />\n",
        "Saving a raw image data file to an image: rawFrameToImageFile (ryfiles). Loading raw image data files: readRawFrames (ryfiles). \n",
        "Read the header and an image from  a PTW file: readPTWHeader (ryptw). \n",
        "Calculate the three dimensional noise of an image sequence (ryutils).  </p>\n",
        "<p>11) Measurement and analysis.  <br />\n",
        "Converting raw measured PTW data to calibrated radiance or temperature (ryptw).</p>\n",
        "<p>12) Example simple case studies.  </p>\n",
        "<p>12a) <a href=\"http://nbviewer.ipython.org/urls/raw.githubusercontent.com/NelisW/ComputationalRadiometry/master/12a-FlameSensorAnalysis.ipynb?create=1\">A Simple Flame sensor analysis</a>.  <br />\n",
        "This notebook provides a simple worked example of a small sensor observing a flame\n",
        "on a smokestack. \n",
        "The objective is to calculate the signal of a simple infrared sensor, detecting the\n",
        "presence or absence of a flame in the sensor field of view. The sensor is\n",
        "pointed to an area just outside a furnace vent, against a clear sky\n",
        "background. The sensor must detect a change in signal indicating the presence\n",
        "of a flame at the vent.  </p>\n",
        "<p>12b) <a href=\"http://nbviewer.ipython.org/urls/raw.githubusercontent.com/NelisW/ComputationalRadiometry/master/12b-AlbedoDerivation.ipynb?create=1\">Albedo derivation from MODIS data</a>.<br />\n",
        "This notebook demonstrates the use of Pandas to extract information from MODIS data.  The objective here is to determine the spectral albedo of an area in the visual and infrared spectral bands.  The data acquisition is done manually and this notebook focuses only on the analysis.  The MODIS data provide information in the visual, near infrared and thermal infrared bands, but with a gap from 3 $\\mu$m to 10 $\\mu$m - you have to consult other sources for this information.\n",
        "The albedo calculated here is based on a multi-year dataset of a single site;  over a 7 km by 7 km region at the test site. The albedo is averaged over all the years for the twelve months of the year.</p>"
       ],
       "metadata": {},
       "output_type": "pyout",
       "prompt_number": 30,
       "text": [
        "'### Computational Optical Radiometry with pyradi   \\n\\nThe [pyradi](https://code.google.com/p/pyradi/) toolkit is a Python toolkit to perform optical and infrared radiometry (flux flow) calculations.\\nThe toolkit is an extendable, integrated and coherent collection of basic functions, code modules, documentation, example templates, unit tests and resources, that can be applied towards diverse calculations in the electro-optics domain. \\n\\nThe notebooks in this series cover the functionality provided by the [pyradi](https://code.google.com/p/pyradi/) Python library on [Google Code](https://code.google.com/p/pyradi/source/browse/#svn%2Ftrunk%253Fstate%253Dclosed).  \\nThe pyradi package is also available on [PyPI](https://pypi.python.org/pypi/pyradi/):  `pip install --upgrade pyradi`.\\n\\nThe links below point to HTML renderings of the notebooks, available on [Github](https://github.com/NelisW/ComputationalRadiometry). These notebooks are constantly revised.\\nThis series of  notebooks is not intended to be a complete manual, please consult the [references](https://code.google.com/p/pyradi/#Documentation) for more information. \\nSection references in the notebooks indicated as (Sec 5.1) refer to sections in the [book](http://spie.org/x648.html?product_id=2021423&origin_id=x646).\\n\\n\\n01) [IPython hints and tips](http://nbviewer.ipython.org/urls/raw.githubusercontent.com/NelisW/ComputationalRadiometry/master/01-IPythonHintsAndTips.ipynb?create=1).  \\nThis notebook provides a brief summary of how to start up and use the IPython notebook.\\nIntroductions are given to magic commands, help functionality, using IPython for scientific work, cell memory, markdown, citations, embedding media files, and a few lesser used functions.\\n\\n\\n02) [Python whirlwind cheat sheet](http://nbviewer.ipython.org/urls/raw.githubusercontent.com/NelisW/ComputationalRadiometry/master/02-PythonWhirlwindCheatSheet.ipynb?create=1).  \\nThis notebook serves to give brief one-liner examples of key Python usage and idioms.\\nThe approach here is not to spend too much time on general Python constructs, but to move on to Numpy as soon as possible. Numpy is a critical base for any scientific calculation, providing powerful vectorised computation. I make no claim to any level of completeness in this document. You still need to read the books and reference manuals to get the big picture and the details. You still have to read the manuals, but this should help you move on to Numpy quickly.\\n\\n03) Introduction to optical radiometry.  \\nThe idea is to have a very brief overview of the fundamental theory. For now see the [book](http://spie.org/x648.html?product_id=2021423&origin_id=x646).\\n\\n04) [Introduction to computational radiometry with  pyradi](http://nbviewer.ipython.org/urls/raw.githubusercontent.com/NelisW/ComputationalRadiometry/master/04-IntroductionToComputationalRadiometryWithPyradi.ipynb?create=1).  \\nThis notebook provides a description of the basics of radiometric spectral variables and conversions between spectral densities, generic filter functions, generic detector functions, and reading and plotting spectral data.\\nIt then moves on to how to calculate spectral integrals, calculate spectral effective values, spectral convolution, colour coordinate calculations, and spatial integrals.\\n\\n05) Plotting with pyradi.  Demonstrating the variety of plots available with ryplot.    \\n05a) [Plotting With Pyradi - General Introduction and Cartesian Plots](http://nbviewer.ipython.org/urls/raw.githubusercontent.com/NelisW/ComputationalRadiometry/master/05-PlottingWithPyradi-GeneralAndCartesian.ipynb?create=1)  \\nThe pyradi library has a module, [`pyradi.ryplot`](http://pyradi.googlecode.com/svn//trunk/pyradi/doc/_build/html/ryplot.html),\\nto simplify plotting. The module is a productivity wrapper around [Matplotlib](http://matplotlib.org/), all that can can be done `pyradi.ryplot` can be done with raw Matplotlib.  The productivity gained with this module stems from the fact that plots and plot properties are all combined into a single function call. So, with just one call a complete graph can be drawn. The code is compact and there is no need to hunt through many pages of documentation to find the appropriate command for some graph attribute. You would have to consult the ryplot documentation for information on the functions long list of parameters.\\nThis notebook covers a general introduction to plotting and creating cartesian (x,y) plots. Other plot types are covered in the next notebook in the series.  \\n\\n05b) Polar Plots  \\n\\n05c) Images  \\n\\n05d) Mayavi   \\n\\n\\n06) Diverse utilities.  \\nDemonstrate the pulse detection algorithms (ryutils). Demonstrate the range equation solver (ryutils). Absolute humidity function (ryutils).  \\nList files in directory tree using a pattern: listFiles (ryfiles). Write LateX code for eps figure: epsLaTexFigure (ryfiles). Write a numpy array to LaTeX: arrayToLaTex (ryfiles). Load a two-dimensional lookup table: read2DLookupTable (ryfiles).\\n \\n07) [Optical Sources](http://nbviewer.ipython.org/urls/raw.githubusercontent.com/NelisW/ComputationalRadiometry/master/07-Optical%20Sources.ipynb?create=1).  \\nThe pyradi library has a reasonably complete collection of Planck radiator models, both spectral and wide band. A comprehensive collection of physical constants, pertinent to optical radiation is also included.  This notebook introduces these functions in the [`pyradi.ryplanck`](http://pyradi.googlecode.com/svn//trunk/pyradi/doc/_build/html/ryplanck.html#pyradi.ryplanck) library.\\n\\n08) [Modtran File Processing](http://nbviewer.ipython.org/urls/raw.githubusercontent.com/NelisW/ComputationalRadiometry/master/08-ModtranFileProcessing.ipynb?create=1).  \\nThe pyradi library has a module to handle Modtran files.  The module currently has only one function: to read Modtran tape7 files in an intelligent manner.  The function is [`rymodtran.loadtape7`](http://pyradi.googlecode.com/svn//trunk/pyradi/doc/_build/html/rymodtran.html#pyradi.rymodtran.loadtape7).\\n\\n\\n09) [Optical Detector Modelling](http://nbviewer.ipython.org/urls/raw.githubusercontent.com/NelisW/ComputationalRadiometry/master/09-DetectorModelling.ipynb?create=1).  \\nThe pyradi [`rydetector`](http://pyradi.googlecode.com/svn//trunk/pyradi/doc/_build/html/rydetector.html) module models the primary functionality of optical detectors.  This notebook demonstrates the development of a simple single element InSb detector model suitable for high-level system modelling.  The performance of the detector is described in terms of its figures of merit. The theoretical background to this model is covered the text book.  \\n\\n10) Processing image data.  \\nSaving a raw image data file to an image: rawFrameToImageFile (ryfiles). Loading raw image data files: readRawFrames (ryfiles). \\nRead the header and an image from  a PTW file: readPTWHeader (ryptw). \\nCalculate the three dimensional noise of an image sequence (ryutils).  \\n        \\n11) Measurement and analysis.    \\nConverting raw measured PTW data to calibrated radiance or temperature (ryptw).\\n\\n12) Example simple case studies.  \\n\\n12a) [A Simple Flame sensor analysis](http://nbviewer.ipython.org/urls/raw.githubusercontent.com/NelisW/ComputationalRadiometry/master/12a-FlameSensorAnalysis.ipynb?create=1).    \\nThis notebook provides a simple worked example of a small sensor observing a flame\\non a smokestack. \\nThe objective is to calculate the signal of a simple infrared sensor, detecting the\\npresence or absence of a flame in the sensor field of view. The sensor is\\npointed to an area just outside a furnace vent, against a clear sky\\nbackground. The sensor must detect a change in signal indicating the presence\\nof a flame at the vent.  \\n\\n12b) [Albedo derivation from MODIS data](http://nbviewer.ipython.org/urls/raw.githubusercontent.com/NelisW/ComputationalRadiometry/master/12b-AlbedoDerivation.ipynb?create=1).  \\nThis notebook demonstrates the use of Pandas to extract information from MODIS data.  The objective here is to determine the spectral albedo of an area in the visual and infrared spectral bands.  The data acquisition is done manually and this notebook focuses only on the analysis.  The MODIS data provide information in the visual, near infrared and thermal infrared bands, but with a gap from 3 $\\\\mu$m to 10 $\\\\mu$m - you have to consult other sources for this information.\\nThe albedo calculated here is based on a multi-year dataset of a single site;  over a 7 km by 7 km region at the test site. The albedo is averaged over all the years for the twelve months of the year.\\n\\n'"
       ]
      }
     ],
     "prompt_number": 30
    },
    {
     "cell_type": "heading",
     "level": 2,
     "metadata": {},
     "source": [
      "Python and [module versions, and dates](http://nbviewer.ipython.org/github/jrjohansson/scientific-python-lectures/blob/master/Lecture-0-Scientific-Computing-with-Python.ipynb)"
     ]
    },
    {
     "cell_type": "markdown",
     "metadata": {},
     "source": [
      "From: [Introduction to scientific computing with Python](http://nbviewer.ipython.org/github/jrjohansson/scientific-python-lectures/blob/master/Lecture-0-Scientific-Computing-with-Python.ipynb) we learn:\n",
      "\"To encourage the practice of recording Python and module versions in notebooks, I've created a simple IPython extension that produces a table with versions numbers of selected software components. I believe that it is a good practice to include this kind of table in every notebook you create. To install this IPython extension, run:\"\n",
      "\n",
      "    # you only need to do this once\n",
      "    %install_ext http://raw.github.com/jrjohansson/version_information/master/version_information.py\n",
      "    \n",
      "Now, to load the extension and produce the version table    "
     ]
    },
    {
     "cell_type": "code",
     "collapsed": false,
     "input": [
      "%load_ext version_information\n",
      "%version_information numpy, scipy, matplotlib, pyradi"
     ],
     "language": "python",
     "metadata": {},
     "outputs": [
      {
       "html": [
        "<table><tr><th>Software</th><th>Version</th></tr><tr><td>Python</td><td>2.7.6 (default, Nov 10 2013, 19:24:18) [MSC v.1500 32 bit (Intel)]</td></tr><tr><td>IPython</td><td>2.0.0</td></tr><tr><td>OS</td><td>nt [win32]</td></tr><tr><td>numpy</td><td>1.8.1</td></tr><tr><td>scipy</td><td>0.13.3</td></tr><tr><td>matplotlib</td><td>1.3.1</td></tr><tr><td>pyradi</td><td>0.1.40</td></tr><tr><td colspan='2'>Sun Apr 20 19:14:54 2014 South Africa Standard Time</td></tr></table>"
       ],
       "json": [
        "{\"Software versions\": [{\"version\": \"2.7.6 (default, Nov 10 2013, 19:24:18) [MSC v.1500 32 bit (Intel)]\", \"module\": \"Python\"}, {\"version\": \"2.0.0\", \"module\": \"IPython\"}, {\"version\": \"nt [win32]\", \"module\": \"OS\"}, {\"version\": \"1.8.1\", \"module\": \"numpy\"}, {\"version\": \"0.13.3\", \"module\": \"scipy\"}, {\"version\": \"1.3.1\", \"module\": \"matplotlib\"}, {\"version\": \"0.1.40\", \"module\": \"pyradi\"}]}"
       ],
       "latex": [
        "\\begin{tabular}{|l|l|}\\hline\n",
        "{\\bf Software} & {\\bf Version} \\\\ \\hline\\hline\n",
        "Python & 2.7.6 (default, Nov 10 2013, 19:24:18) [MSC v.1500 32 bit (Intel)] \\\\ \\hline\n",
        "IPython & 2.0.0 \\\\ \\hline\n",
        "OS & nt [win32] \\\\ \\hline\n",
        "numpy & 1.8.1 \\\\ \\hline\n",
        "scipy & 0.13.3 \\\\ \\hline\n",
        "matplotlib & 1.3.1 \\\\ \\hline\n",
        "pyradi & 0.1.40 \\\\ \\hline\n",
        "\\hline \\multicolumn{2}{|l|}{Sun Apr 20 19:14:54 2014 South Africa Standard Time} \\\\ \\hline\n",
        "\\end{tabular}\n"
       ],
       "metadata": {},
       "output_type": "pyout",
       "prompt_number": 31,
       "text": [
        "Software versions\n",
        "Python 2.7.6 (default, Nov 10 2013, 19:24:18) [MSC v.1500 32 bit (Intel)]\n",
        "IPython 2.0.0\n",
        "OS nt [win32]\n",
        "numpy 1.8.1\n",
        "scipy 0.13.3\n",
        "matplotlib 1.3.1\n",
        "pyradi 0.1.40\n",
        "<tr><td colspan='2'>Sun Apr 20 19:14:54 2014 South Africa Standard Time</td></tr>"
       ]
      }
     ],
     "prompt_number": 31
    },
    {
     "cell_type": "code",
     "collapsed": false,
     "input": [],
     "language": "python",
     "metadata": {},
     "outputs": [],
     "prompt_number": 31
    }
   ],
   "metadata": {}
  }
 ]
}