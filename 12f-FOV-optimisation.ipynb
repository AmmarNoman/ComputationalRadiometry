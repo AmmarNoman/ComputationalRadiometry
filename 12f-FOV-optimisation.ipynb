{
 "cells": [
  {
   "cell_type": "markdown",
   "metadata": {},
   "source": [
    "# Field of view optimisation for airborne sensor performance"
   ]
  },
  {
   "cell_type": "markdown",
   "metadata": {},
   "source": [
    "This notebook implements a variation of the performance model developed by T M Goss *et al.*. *Field of View Selection for Optimal Airborne Imaging Sensor Performance*, Proc SPIE, Vol 9071, doi:10.1117/12.2049911, 2014(, \\url{http://proceedings.spiedigitallibrary.org/proceeding.aspx?articleid=1878628}).  We also use the material developed in *Electro-Optical System Analysis and Design: A Radiometry Perspective*, CJ Willers, SPIE, DOI: 10.1117/3.1001964, 2013 (\\url{http://spie.org/Publications/Book/2021423}).  The first reference is identified as [G] and the second reference is identified as [W] in the text below.  If no reference is given, [G] is implied.\n"
   ]
  },
  {
   "cell_type": "markdown",
   "metadata": {},
   "source": [
    "The [G] model calculates the signal and noise components from primary sensor parameters, allowing for the sensor MTF.  The model hinges on the simplification that the MTF is sampled at the spatial frequency (cy/mrad) corresponding to the detector pixel field of view (mrad).  \n",
    "\n",
    "The sensor's perceived signal to noise ratio when imaging a square wave bar target\n",
    "in the presence of sensor noise is given by\n",
    "\n",
    "\\begin{equation}\n",
    "\\textrm{SNR} = \\frac{\\textrm{CTF}(\\xi) \\cdot [n_{\\textrm{signal}} - n_{\\textrm{background}}] }{n_{\\textrm{noise}}}\n",
    "\\end{equation}\n",
    "where \n",
    "$\\textrm{SNR}$ is the signal to noise ratio, \n",
    "$\\textrm{CTF}(\\xi)$ is the sensor's contrast transfer function, \n",
    "$\\xi$ is spatial frequency,\n",
    "$n_{\\textrm{signal}}$ is the signal electron count in the detector, \n",
    "$n_{\\textrm{background}}$ is the background electron count in the detector, and \n",
    "$n_{\\textrm{noise}}$ is the sensorn noise at the sensor output.  The signal as defined here is the signal in one pixel. \n"
   ]
  },
  {
   "cell_type": "markdown",
   "metadata": {},
   "source": [
    "Using a variation of the camera equation (Equation 9.56 in [W]) the electron count in the detector from a source radiance $L$ is given by\n",
    "\n",
    "\\begin{equation}\n",
    "n_{\\textrm{det}\\; \\lambda}\n",
    "=\n",
    "\\frac{\\pi \\eta_{\\lambda} t_{\\textrm{int}} K_C K_N(\\alpha) A_d \\tau_{o\\lambda}\\tau_{f\\lambda} \\tau_{a\\lambda}\\left[L_{\\textrm{signal}\\lambda}- L_{\\textrm{background}\\lambda}\\right] \\cos^4\\alpha}{4F_\\#^2(1+|m|)^2},\n",
    "\\end{equation}\n",
    "where\n",
    "$\\eta_{\\lambda}$ is the detector spectral quantum efficiency,\n",
    "$t_{\\textrm{int}}$ is the detector integration time, \n",
    "$K_C$ an efficiency factor accounting for a central obscuration (if present), \n",
    "$K_N(\\alpha)$  is the vignetting losses (if present),\n",
    "$A_d$ is the area of the detector, \n",
    "$\\tau_{o\\lambda}$ is the optics transmittance, \n",
    "$\\tau_{f\\lambda}$ is the spectral filter transmittance, \n",
    "$\\tau_{a\\lambda}$ is the atmospheric transmittance, \n",
    "$L_{\\textrm{signal}\\lambda}$ is the signal source radiance,\n",
    "$L_{\\textrm{background}\\lambda}$ is the background source radiance,\n",
    "$\\cos^4\\alpha$ is the cosine-to-the-fourth losses,\n",
    "$\\alpha$ is the field angle,\n",
    "$F_\\#$ is the sensor f-number, and\n",
    "$m$ is the magnification.\n"
   ]
  },
  {
   "cell_type": "markdown",
   "metadata": {},
   "source": [
    "At inifinte conjugates $m$=0, with on-axis viewing $\\alpha$=0, with no vignetting $K_N(\\alpha)$=0, the camera equation becomes\n",
    "\n",
    "\\begin{equation}\n",
    "n_{\\textrm{det}}\n",
    "=\n",
    "\\left(\\frac{\\pi t_{\\textrm{int}} K_C  A_d }{4F_\\#^2}\\right)\\cdot\n",
    "\\int_0^\\infty \\eta_{\\lambda} \\tau_{o\\lambda}\\tau_{f\\lambda} \\tau_{a\\lambda}\\left[L_{\\textrm{signal}\\lambda}- L_{\\textrm{background}\\lambda}\\right] d\\lambda\n",
    "\\end{equation}\n",
    "\n"
   ]
  },
  {
   "cell_type": "markdown",
   "metadata": {},
   "source": [
    "Rejoining [G] we define the noise equivalent quanta as the the contrast quantum signal where the signal to noise is equal to one.  In keeping with [W] notation noise equivalent quanta is written as NEQ. Then \n",
    "\n",
    "\\begin{equation}\n",
    "\\textrm{NEQ} = \\frac{n_{\\textrm{noise}}}{\\textrm{CTF}(\\xi)} = \n",
    "\\left(\\frac{\\pi t_{\\textrm{int}} K_C  A_d }{4F_\\#^2}\\right)\\cdot\n",
    "\\int_0^\\infty \\eta_{\\lambda} \\tau_{o\\lambda}\\tau_{f\\lambda} \\tau_{a\\lambda}\\left[L_{\\textrm{signal}\\lambda}- L_{\\textrm{background}\\lambda}\\right] d\\lambda\n",
    "\\end{equation}\n",
    "\n"
   ]
  },
  {
   "cell_type": "markdown",
   "metadata": {},
   "source": [
    "From [G]: If we assume the square wave response of the sensor is band-limited and that for the higher spatial\n",
    "frequencies only the fundamental of the square wave has sufficient response, then the amplitude conversion from the square wave $\\textrm{CTF}$ to the sinusoid modulation transfer function, $\\textrm{MTF}$, is a factor $4/\\pi$\n",
    "\n",
    "\\begin{equation}\n",
    "\\textrm{CTF}(\\xi) \\approx \\frac{4}{\\pi}\\textrm{MTF}(\\xi)\n",
    "\\end{equation}\n"
   ]
  },
  {
   "cell_type": "markdown",
   "metadata": {},
   "source": [
    "After manipulation we arrive at Equation 7 in [G]:\n",
    "\n",
    "\\begin{equation}\n",
    "\\pi\\int_0^\\infty \\eta_{\\lambda} \\tau_{o\\lambda}\\tau_{f\\lambda} \\tau_{a\\lambda}\\textrm{LEQ}_\\lambda d\\lambda\n",
    "=\n",
    "\\frac{\\pi F_\\#^2 n_{\\textrm{noise}}}{ t_{\\textrm{int}} K_C  A_d\\textrm{MTF}(\\xi)} \n",
    "\\end{equation}\n",
    "with units of q/(s$\\cdot$m$^2$), and \n",
    "where \n",
    "$\\textrm{LEQ}_\\lambda = L_{\\textrm{signal}\\lambda}- L_{\\textrm{background}\\lambda}$ is understood to be the contrast radiance between two pixels that provides a signal to noise ratio of one.\n"
   ]
  },
  {
   "cell_type": "markdown",
   "metadata": {},
   "source": [
    "**Thermal sources:** Expanding on Section 9.5.4 in [W] that for small temperature differences, the noise equivalent temperature difference for a thermal source can be approximated by\n",
    "\n",
    "\\begin{equation}\n",
    "\\frac{\\textrm{LEQ}}{\\textrm{NETD}} = \\frac{dL}{dT} = \\int_0^\\infty \\eta_{\\lambda} \\tau_{o\\lambda}\\tau_{f\\lambda} \\tau_{a\\lambda}\n",
    "\\left(\n",
    "\\frac{L_\\lambda(T_{\\textrm{background}})}{dT}\n",
    "\\right)\n",
    "d\\lambda\n",
    "\\end{equation}\n",
    "\n"
   ]
  },
  {
   "cell_type": "markdown",
   "metadata": {},
   "source": [
    "Hence for thermal sources a form similar to Equation 9 in [G] is derived\n",
    "\n",
    "\\begin{equation}\n",
    " \\textrm{NETD}\n",
    "=\n",
    "\\frac{ F_\\#^2 n_{\\textrm{noise}}}{ t_{\\textrm{int}} K_C  A_d\\textrm{MTF}(\\xi)\\left[ \\int_0^\\infty \\eta_{\\lambda} \\tau_{o\\lambda}\\tau_{f\\lambda} \\tau_{a\\lambda}\n",
    "\\left(\n",
    "\\frac{L_\\lambda(T_{\\textrm{background}})}{dT}\n",
    "\\right)\n",
    "d\\lambda\\right]} \n",
    "\\end{equation}\n"
   ]
  },
  {
   "cell_type": "markdown",
   "metadata": {},
   "source": [
    "**Reflective sources:** Similarly to the thermal source derivation,  for target reflection differences, the noise equivalent reflection difference for a reflective source can be approximated by\n",
    "\n",
    "\\begin{equation}\n",
    "\\frac{\\textrm{LEQ}}{ \\textrm{NE}\\rho} = \\frac{dL}{d\\rho} = \\int_0^\\infty \\eta_{\\lambda} \\tau_{o\\lambda}\\tau_{f\\lambda} \\tau_{a\\lambda}\n",
    "L_{\\textrm{source}\\lambda}\n",
    "d\\lambda\n",
    "\\end{equation}\n",
    "\n"
   ]
  },
  {
   "cell_type": "markdown",
   "metadata": {},
   "source": [
    "Hence for reflective sources we derive an equation similar to Equation 7 in [G]:\n",
    "\n",
    "\\begin{equation}\n",
    " \\textrm{NE}\\rho\n",
    "=\n",
    "\\frac{ F_\\#^2 n_{\\textrm{noise}}}{ t_{\\textrm{int}} K_C  A_d\\textrm{MTF}(\\xi) \\int_0^\\infty \\eta_{\\lambda} \\tau_{o\\lambda}\\tau_{f\\lambda} \\tau_{a\\lambda}\n",
    "L_{\\textrm{source}\\lambda}\n",
    "d\\lambda} \n",
    "\\end{equation}\n"
   ]
  },
  {
   "cell_type": "markdown",
   "metadata": {},
   "source": [
    "# Python and [module versions, and dates](http://nbviewer.ipython.org/github/jrjohansson/scientific-python-lectures/blob/master/Lecture-0-Scientific-Computing-with-Python.ipynb)"
   ]
  },
  {
   "cell_type": "code",
   "execution_count": null,
   "metadata": {
    "collapsed": true
   },
   "outputs": [],
   "source": [
    "%load_ext version_information\n",
    "%version_information numpy, scipy, matplotlib"
   ]
  }
 ],
 "metadata": {
  "kernelspec": {
   "display_name": "Python 2",
   "language": "python",
   "name": "python2"
  },
  "language_info": {
   "codemirror_mode": {
    "name": "ipython",
    "version": 2
   },
   "file_extension": ".py",
   "mimetype": "text/x-python",
   "name": "python",
   "nbconvert_exporter": "python",
   "pygments_lexer": "ipython2",
   "version": "2.7.11"
  }
 },
 "nbformat": 4,
 "nbformat_minor": 0
}
