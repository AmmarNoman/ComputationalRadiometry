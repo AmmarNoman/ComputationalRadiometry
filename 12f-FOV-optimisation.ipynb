{
 "cells": [
  {
   "cell_type": "raw",
   "metadata": {},
   "source": [
    "\\documentclass[english]{workpackage}[1996/06/02]\n",
    "\n",
    "% input the common preamble content (required by the ipnb2latex converter)\n",
    "\\input{header.tex}\n",
    "\n",
    "% then follows the rest of the preamble to be placed before the begin document\n",
    "% this preamble content is special to the documentclass you defined above.\n",
    "\\WPproject{}           % project name\n",
    "\\WPequipment{}         % equipment name\n",
    "\\WPsubject{}           % main heading \n",
    "\\WPconclusions{\n",
    "%\\begin{enumerate}\n",
    "%\\item \n",
    "%\\end{enumerate}\n",
    "} \n",
    "\\WPclassification{Unclassified} \n",
    "\\WPdocauthor{CJ Willers}\n",
    "\\WPcurrentpackdate{\\today}\n",
    "\\WPcurrentpacknumber{} % work package number\n",
    "\\WPdocnumber{}         % this doc number hosts all the work packages\n",
    "\\WPprevpackdate{}      % work package which this one supersedes\n",
    "\\WPprevpacknumber{}    % work package which this one supersedes\n",
    "\\WPsuperpackdate{}     % work package which comes after this one\n",
    "\\WPsuperpacknumber{}   % work package which comes after this one\n",
    "\\WPdocontractdetails{false}\n",
    "\\WPcontractname{}      % contract name \n",
    "\\WPorderno{}           % contract order number\n",
    "\\WPmilestonenumber{}   % contract milestone number\n",
    "\\WPmilestonetitle{}    % contract milestone title\n",
    "\\WPcontractline{}      % contract milestone line number \n",
    "\\WPdocECPnumber{1234567}      % ecp/ecr number\n",
    "\\WPdistribution{\n",
    "%\\vspace{0.1mm}\n",
    "%\\begin{tabular}{lllll}\n",
    "%Name 1 & Name 12 & Name 3 & Name 4 & Name 5\\\\\n",
    "%Name 6 & Name 7 & \\multicolumn{3}{l}{Master:  some repo}\\\\\n",
    "%\\end{tabular}\n",
    "}\n",
    "\n",
    "%and finally the document begin.\n",
    "\\begin{document}\n",
    "\\WPlayout"
   ]
  },
  {
   "cell_type": "markdown",
   "metadata": {},
   "source": [
    "# Field of view optimisation for airborne sensor performance"
   ]
  },
  {
   "cell_type": "markdown",
   "metadata": {},
   "source": [
    "This notebook implements a variation of the performance model developed by T M Goss *et al.*. *Field of View Selection for Optimal Airborne Imaging Sensor Performance*, Proc SPIE, Vol 9071, doi:10.1117/12.2049911, 2014(, \\url{http://proceedings.spiedigitallibrary.org/proceeding.aspx?articleid=1878628}).  We also use the material developed in *Electro-Optical System Analysis and Design: A Radiometry Perspective*, CJ Willers, SPIE, DOI: 10.1117/3.1001964, 2013 (\\url{http://spie.org/Publications/Book/2021423}).  The first reference is identified as [G] and the second reference is identified as [W] in the text below.  If no reference is given, [G] is implied.\n",
    "\n",
    "The present form of the model can account for atmospheric transmittance and path radiance effects, but the present calculation does not include this. The results presented here therefore only apply to short-range observations.\n",
    "\n",
    "The model is a much simplified version of reality, and could benefit from improvement in many areas, but even in its present form it is already quite useful. In particular the absence of atmospheric modelling is somewhat restrictive, but can easily be overcome. The model author [G] stated the following (reasonable) constraints:\n",
    "\n",
    "The model is useful to compare similar imaging sensors. The optimization and comparison process\n",
    "assumes the imaging sensor is well designed and that the following design aspects are taken care of:\n",
    "\n",
    "1.  The optical design is such that the exit pupil is placed close to the front lens/window and limited vignetting is permitted thereby ensuring that the real optical aperture diameter equal to the theoretical optical aperture.\n",
    "1. The optics is always optimally focused.\n",
    "1. The optical design is such that no significant stray light or glare issues exist.\n",
    "1. The electronic design is such that no significant additional noise sources exist i.e. other than those identified in this paper.\n",
    "\n",
    "Similarly the performance of any thermal imaging sensor may be optimized within the constraints of the application\n",
    "using the model, for comparing  thermal imagers. The optimization and comparison process assumes the thermal imaging sensor is well designed and that the following design aspects are taken care of:\n",
    "\n",
    "1.  The same assumptions regarding the optical and electronic designs above apply except that vignetting is not permitted.\n",
    "1. The cold stop efficiency is 100% (achieved by imaging the entrance pupil onto the cold stop).\n",
    "1. A cold filter ensures no out-of-band radiation reaches the detector pixels.\n",
    "1. The detector temperature regulation is sufficient and no low frequency noise components compromise the thermal imaging sensor’s performance i.e. only white noise is present.\n",
    "\n"
   ]
  },
  {
   "cell_type": "markdown",
   "metadata": {},
   "source": [
    "# Prepare environment"
   ]
  },
  {
   "cell_type": "markdown",
   "metadata": {},
   "source": [
    "This report is created from an IPython notebook which includes all the code to calculate the results.  "
   ]
  },
  {
   "cell_type": "code",
   "execution_count": 1,
   "metadata": {
    "collapsed": true
   },
   "outputs": [],
   "source": [
    "# to prepare the Python environment\n",
    "import numpy as np\n",
    "import scipy as sp\n",
    "import pandas as pd\n",
    "import os.path\n",
    "from scipy.optimize import curve_fit\n",
    "from scipy import interpolate\n",
    "from scipy import integrate\n",
    "from scipy import signal\n",
    "from scipy import ndimage\n",
    "import matplotlib.pyplot as plt\n",
    "import scipy.constants as const\n",
    "import pickle\n",
    "\n",
    "import collections\n",
    "\n",
    "%matplotlib inline\n",
    "\n",
    "# %reload_ext autoreload\n",
    "# %autoreload 2\n",
    "\n",
    "import pyradi.ryplot as ryplot\n",
    "import pyradi.ryplanck as ryplanck\n",
    "import pyradi.ryfiles as ryfiles\n",
    "import pyradi.rymodtran as rymodtran\n",
    "import pyradi.ryutils as ryutils\n",
    "\n",
    "from IPython.display import HTML\n",
    "from IPython.display import Image\n",
    "from IPython.display import display\n",
    "from IPython.display import FileLink, FileLinks\n",
    "\n",
    "import matplotlib as mpl\n",
    "mpl.rc(\"savefig\", dpi=300)\n",
    "mpl.rc('figure', figsize=(10,8))\n",
    "# %config InlineBackend.figure_format = 'svg'\n",
    "pim = ryplot.ProcessImage()\n",
    "pd.set_option('display.max_columns', 80) # Number of columns in display\n",
    "pd.set_option('display.width', 80) # display width - how many chars\n",
    "pd.set_option('display.max_colwidth', 150)"
   ]
  },
  {
   "cell_type": "code",
   "execution_count": 2,
   "metadata": {
    "collapsed": false
   },
   "outputs": [
    {
     "name": "stdout",
     "output_type": "stream",
     "text": [
      "[u'Visible' u'MWIR']\n",
      "{u'Visible': 5.399999999999999e-07, u'MWIR': 4.350000000000001e-06}\n",
      "[u'Central 0.25' u'No obscuration']\n",
      "{u'No obscuration': u'data/mask00.png', u'Central 0.25': u'data/mask01.png'}\n",
      "                          MWIR Sensor A    MWIR Sensor B     Vis Sensor A  \\\n",
      "Sensor                                                                      \n",
      "Band                               MWIR             MWIR          Visible   \n",
      "Sensor Type                         MCT              MCT             CMOS   \n",
      "Spectral band Lo                3.7e-06          3.7e-06          4.8e-07   \n",
      "Spectral band Hi                  5e-06            5e-06            6e-07   \n",
      "Pixels H                            640              640             1280   \n",
      "Pixels V                            512              512              720   \n",
      "Pixel size                      1.5e-05          1.5e-05          5.5e-06   \n",
      "Fill factor                        0.98             0.98             0.98   \n",
      "Quantum efficiency                 0.75             0.75             0.25   \n",
      "Well capacity                   4980000          4980000            13500   \n",
      "Optics diameter                     0.2             0.16              0.2   \n",
      "Obscuration ratio                  0.25                0             0.25   \n",
      "Pupil mask              data/mask01.png  data/mask00.png  data/mask01.png   \n",
      "MTF label                  Central 0.25   No obscuration     Central 0.25   \n",
      "Aberration size factor             0.23             0.23             0.23   \n",
      "Optical transmittance              0.74              0.8              0.5   \n",
      "Frame rate                          100              100               50   \n",
      "RMS jitter rad                    5e-06            5e-06            5e-06   \n",
      "Linear smear rad/s               0.0005           0.0005           0.0005   \n",
      "Scene temperature                   298              298             2000   \n",
      "Optics temperature                  298              298              298   \n",
      "F-number limit                        4                4                4   \n",
      "Minimum modulation                  0.1              0.1              0.1   \n",
      "Maximum HFOV deg                    2.5              2.5              2.5   \n",
      "Spectral band Mid              4.35e-06         4.35e-06          5.4e-07   \n",
      "SpatFreqMax cy/m                  45977          36781.6           370370   \n",
      "\n",
      "                           Vis Sensor B  \n",
      "Sensor                                   \n",
      "Band                            Visible  \n",
      "Sensor Type                        CMOS  \n",
      "Spectral band Lo                4.8e-07  \n",
      "Spectral band Hi                  6e-07  \n",
      "Pixels H                           1280  \n",
      "Pixels V                            720  \n",
      "Pixel size                      5.5e-06  \n",
      "Fill factor                        0.98  \n",
      "Quantum efficiency                 0.25  \n",
      "Well capacity                     13500  \n",
      "Optics diameter                    0.11  \n",
      "Obscuration ratio                     0  \n",
      "Pupil mask              data/mask00.png  \n",
      "MTF label                No obscuration  \n",
      "Aberration size factor             0.23  \n",
      "Optical transmittance               0.7  \n",
      "Frame rate                           50  \n",
      "RMS jitter rad                    5e-06  \n",
      "Linear smear rad/s               0.0005  \n",
      "Scene temperature                  2000  \n",
      "Optics temperature                  298  \n",
      "F-number limit                        4  \n",
      "Minimum modulation                  0.1  \n",
      "Maximum HFOV deg                    2.5  \n",
      "Spectral band Mid               5.4e-07  \n",
      "SpatFreqMax cy/m                 203704  \n"
     ]
    }
   ],
   "source": [
    "# to define the sensor parameters used in this analysis\n",
    "\n",
    "foclen = 1. # normalised focal length in m\n",
    "\n",
    "# read the excel spreadsheet containing the sensor data and extract the example data\n",
    "dfS = pd.read_excel('data/FOV-optimisation-parameters.xlsx', 'Sheet1', index_col=None, na_values=['NA'])\n",
    "dfS.set_index(keys='Sensor',inplace=True)\n",
    "\n",
    "# get a list of the spectral band definitions from the data set\n",
    "dfS.loc['Spectral band Mid'] = (dfS.loc['Spectral band Lo'] + dfS.loc['Spectral band Hi']) / 2.\n",
    "specBands = dfS.loc['Band'].unique()\n",
    "wlcs = {}\n",
    "for specBand in specBands:\n",
    "    wlcs[specBand] = dfS.loc['Spectral band Mid'][dfS.loc['Band']==specBand][0]\n",
    "\n",
    "# get list of MTF labels and matching masks\n",
    "mtfLabels = dfS.loc['MTF label'].unique()\n",
    "dOptics = {}\n",
    "for mtfLabel in mtfLabels:\n",
    "    dOptics[mtfLabel] = dfS.loc['Pupil mask'][dfS.loc['MTF label']==mtfLabel][0]\n",
    "\n",
    "# get max spatial frequency for sensor aperture and wavelength\n",
    "dfS.loc['SpatFreqMax cy/m'] = dfS.loc['Optics diameter'] / dfS.loc['Spectral band Mid']\n",
    "dfS = dfS.append(pd.DataFrame(index=['SpatFreq cy/m']))\n",
    "for colname in dfS.columns.values:\n",
    "    dfS.loc['SpatFreq cy/m'][colname] = np.linspace(0, dfS.loc['SpatFreqMax cy/m'][colname], 100)\n",
    "\n",
    "print(specBands)\n",
    "print(wlcs)\n",
    "print(mtfLabels)\n",
    "print(dOptics)\n",
    "print(dfS.drop('SpatFreq cy/m', axis=0))\n"
   ]
  },
  {
   "cell_type": "markdown",
   "metadata": {},
   "source": [
    "# Sensor Model"
   ]
  },
  {
   "cell_type": "markdown",
   "metadata": {},
   "source": [
    "A comprehensive CCD and CMOS staring array sensor model is provided in the pyradi [`rystare`](http://nelisw.github.io/pyradi-docs/_build/html/rystare.html) module. The [`rystare`](http://nelisw.github.io/pyradi-docs/_build/html/rystare.html) model is originally based on the Matlab code described in *'High-level numerical simulations of noise in solid-state photosensors: review and tutorial'* by Mikhail Konnik and James Welsh, arXiv:1412.4031v1 [astro-ph.IM], available [here](http://arxiv.org/pdf/1412.4031.pdf). Good references for this work include James R Janesick's books ['Photon Transfer'](http://spie.org/Publications/Book/725073) and ['Scientific Charge-Coupled Devices'](http://spie.org/Publications/Book/374903).  Konnik's model is also implemented in Python as described in  notebook 09b of this series, available here: \\url{http://nbviewer.jupyter.org/github/NelisW/ComputationalRadiometry/blob/master/09b-StaringArrayDetectors.ipynb}\n",
    "\n",
    "As is evident in the rystare model block diagram, the model covers only the sensor signal path, including noise, signal integration and signal conditioning (photon signal generation is not part of this model).\n",
    "The components of the rystare model are shown below:\n",
    "\n",
    "![''](images/camerascheme-horiz-labelled.png)\n",
    "\n",
    "The rystare model is used as a reference for this model, there is not a one-to-one mapping between elements of the two models.\n"
   ]
  },
  {
   "cell_type": "markdown",
   "metadata": {},
   "source": [
    "## Source spectral content\n",
    "\n",
    "The target object will either radiate by its own thermal self-emittance, reflected incident light, or both.  In the visible and near infrared bands the signal is mostly caused by reflection. At wavelengths beyond 6 $\\mu$m the signal is mostly caused by thermal self-emissition.  In the 3--5 $\\mu$m spectral band the signal is caused by both sources.\n",
    "\n",
    "We will be using the colour temperature as an approximation of source spectral content, in the visible and near infrared parts of the spectum.  We will however use the sun's colour temperature for all spectral bands, because the sun's colour temperature is also approximately equal to the surface temperature.\n",
    "\n"
   ]
  },
  {
   "cell_type": "markdown",
   "metadata": {},
   "source": [
    "<http://sizes.com/units/color_temperature.htm>  \n",
    "<https://www.firstrays.com/bb1-1286570267-680/start/color_temp.htm>  \n",
    "<http://www.clarkvision.com/articles/night.photography.image.processing/>  \n",
    "\n",
    "\n",
    "We must be careful when using colour temperature, it does not mean that the object has that temperature. It does not even mean that the spectral content of the object can be described by a scaled spectrum of a radiator at that temperature. The colour temperature's only significance is that it very broadly describes the visual colour of an object.\n",
    "From <https://en.wikipedia.org/wiki/Color_temperature>\n",
    "''The color temperature of a light source is the temperature of an ideal blackbody radiator that radiates light of comparable hue to that of the light source. Color temperature is a characteristic of visible light that has important applications in lighting, photography, videography, publishing, manufacturing, astrophysics, horticulture, and other fields. In practice, color temperature is only meaningful for light sources that do in fact correspond somewhat closely to the radiation of some black body, i.e., those on a line from reddish/orange via yellow and more or less white to blueish white; it does not make sense to speak of the color temperature of, e.g., a green or a purple light. Color temperature is conventionally stated in the unit of absolute temperature, the Kelvin, having the unit symbol K.''\n",
    "\n",
    "Source temperature is undefined if the source spectrum deviates significantly from the Planck law spectral shape. For example, for sources with little continuum and high spectral line variation (e.g., sodium and mercury lamps with small fluorescence) colour temperature has no meaning.\n",
    "\n",
    "We will be using the colour temperature as an approximation of source spectral content, in the visible and near infrared parts of the spectum.  We will however use the sun's colour temperature for all spectral bands, because the sun's colour temperature is also approximately equal to the surface temperature.\n",
    "\n",
    "**The moon's colour temperature:**\n",
    "\n",
    "<http://www.cast-lighting.com/landscape-articles/moonlighting-landscape-lighting-design-imitates-nature>\n",
    "''It turns out that the moon absorbs twice as much violet as it does red. For this reason, the moon is slightly reddish. A full moon when it appears directly overhead has a color temperature of about 4,150 K. Compared to incandescent lighting (around 3,000 K), moonlight is slightly blue but not nearly as blue as a bright sunny day (as much as 10,000 K)''\n",
    " \n",
    "''Johannes Purkinje, a 19th century physiologist, found that at very low light levels, the human eye could no longer  perceive the color red, but could still perceive blues and greens. This occurs because the eye's retinal cones (responsible for color perception) require a lot of light. At lower brightness levels, only the retinal rods are activated. These rods (responsible for seeing fine detail and contrast) can only respond to blues and greens.''\n",
    "\n",
    "''The luminance level at which this perceptual shift occurs is at about .001 candelas/meters. Monlight has about this same luminance levle. This puts moonlight right at the threshold of the Purkinje Shift and this is why the moon appears slightly blue. It should be noted though, that the effect is so slight that the brain easily shifts its perception to judging the moon to be white. If we shift our gaze from the moon to the ground and other objects that it illuminates, the most noticeable effect is not only a blueish color but also an absence of all other colors.''"
   ]
  },
  {
   "cell_type": "code",
   "execution_count": 3,
   "metadata": {
    "collapsed": false
   },
   "outputs": [
    {
     "name": "stdout",
     "output_type": "stream",
     "text": [
      "                Irradiance-lm/m2  ColourTemp  FracPhotop\n",
      "Overcast night            0.0001        5000         0.0\n",
      "Star light                0.0011        5000         0.2\n",
      "Quarter moon              0.0108        4150         0.4\n",
      "Full moon                 0.1080        4150         0.6\n",
      "Deep twilight             1.0800       10000         0.8\n",
      "Twilight                 10.8000       10000         1.0\n",
      "Very dark day           107.0000        7000         1.0\n",
      "Overcast day           1075.0000        6000         1.0\n",
      "Full sky light        10752.0000       12000         1.0\n",
      "Sun light            107527.0000        5700         1.0\n"
     ]
    }
   ],
   "source": [
    "lx = {'Sun light': [107527,5700,1.0], \n",
    "      'Full sky light': [10752,12000,1.0],\n",
    "      'Overcast day':[1075,6000,1.0],\n",
    "      'Very dark day':[107,7000,1.0],\n",
    "      'Twilight': [10.8,10000,1.0],\n",
    "      'Deep twilight': [1.08,10000,0.8],\n",
    "      'Full moon': [0.108,4150,0.6],\n",
    "      'Quarter moon':[0.0108,4150,0.4],\n",
    "      'Star light': [0.0011,5000,0.2],\n",
    "      'Overcast night':[0.0001,5000, 0.],\n",
    "    }\n",
    "\n",
    "dfPhotRates = pd.DataFrame(lx).transpose()\n",
    "dfPhotRates.columns = ['Irradiance-lm/m2','ColourTemp','FracPhotop']\n",
    "  \n",
    "dfPhotRates.sort_values(by='Irradiance-lm/m2',inplace=True)\n",
    "print(dfPhotRates)"
   ]
  },
  {
   "cell_type": "markdown",
   "metadata": {},
   "source": [
    "## Relating photometric units with photon rate units\n"
   ]
  },
  {
   "cell_type": "markdown",
   "metadata": {},
   "source": [
    "The illuminance table above shows the approximate illuminance levels for different scenarios.  The sensor models below require irradiance levels in units of q/(s.m$^s$), not lx/m$^2$. A conversion between the two unit systems is required.  This conversion requires two information elements: the illuminance magnitude and spectral content.  The magnitude is given in the table, and in the absence of any better information, we would assume the spectral content to be a scaled version of a thermal source at the colour temperature.  This use of colour temperature is extending beyond its original purpose and introduces an element of risk.  Yet the answer with risk is better than no answer at all."
   ]
  },
  {
   "cell_type": "markdown",
   "metadata": {},
   "source": [
    "If the luminance exceeds about $3$ lm/(m$^2$sr) [twilight], the eye is light-adapted, and the cones in the retina are operating. Under light-adapted conditions, the eye’s spectral response is called photopic.\n",
    "If the luminance is less than $3\\times 10^{−5}$ lm/(m$^2$sr) [overcast night], the eye is dark-adapted. The cones are no longer sensitive, and the rods sense the light.Under dark-adapted conditions, the eye’s spectral response is called scotopic.\n",
    "\n",
    "Under scotopic vision, the eye is not sensitive to color and has no foveal vision. Between photopic and scotopic vision, the eye's response is called mesoptic.  Mesopic vision has a spectral response somewhere between photopic and scotopic vision.  In the table above the `FracPhotop` column shows my very rough mixing ratio of photopic and scotopix spectral curves to model mesopic vision.  These values are not validated and are purely guesswork.\n",
    "\n",
    "The eye's photopic spectral response can be _roughly  approximated_ by:\n",
    "\\begin{equation}\n",
    "V_\\lambda=1.019\\exp(-285.51(\\lambda - 0.5591)^2).\n",
    "\\end{equation}\n",
    "\n",
    "The eye's scotopic spectral response can be _roughly  approximated_ by:\n",
    "\\begin{equation}\n",
    "V_\\lambda^\\prime=0.99234\\exp(-321.1(\\lambda - 0.5028)^2).\n",
    "\\end{equation}\n",
    "\n",
    "There are data tables from the CIE standards that describe this shape more accurately but this approximation is sufficient for the present requirement."
   ]
  },
  {
   "cell_type": "code",
   "execution_count": 4,
   "metadata": {
    "collapsed": false
   },
   "outputs": [
    {
     "data": {
      "image/png": "[encoded data removed]",
      "text/plain": [
       "<matplotlib.figure.Figure at 0x3c48da0>"
      ]
     },
     "metadata": {},
     "output_type": "display_data"
    }
   ],
   "source": [
    "wl = np.linspace(0.3, 0.8, 100)\n",
    "photLumEff = 1.019 * np.exp(-285.51 * (wl - 0.5591) ** 2 ).reshape(-1,)\n",
    "scotLumEff = 0.99234 * np.exp(-321.1 * (wl - 0.502) ** 2 ).reshape(-1,)\n",
    "# mesoLumEff = (photLumEff + scotLumEff) / 2.\n",
    "# mesoLumEff /= np.max(mesoLumEff)\n",
    "\n",
    "p = ryplot.Plotter(1,1,1,figsize=(12,6));\n",
    "p.plot(1,wl,photLumEff , label=['Photopic luminous efficiency']);\n",
    "# p.plot(1,wl,mesoLumEff , label=['Mesoopic luminous efficiency']);\n",
    "p.plot(1,wl,scotLumEff , \"Normalised spectral shapes\",\"Wavelength [$\\mu$m]\",\n",
    "            \"Response\", label=['Scotopic luminous efficiency']);\n"
   ]
  },
  {
   "cell_type": "markdown",
   "metadata": {},
   "source": [
    "The photopic luminance of a source is defined as\n",
    "\\begin{equation}\n",
    "L_\\nu=\\int_0^\\infty K_{\\rm max} V_\\lambda L_{e\\lambda}(T) d \\lambda,\n",
    "\\end{equation}\n",
    "where\n",
    "$K_{\\rm max}V_\\lambda$ is the spectral photopic efficacy,\n",
    "$V_\\lambda$ is the photopic efficiency,\n",
    "$K_{\\rm max}=683$ lm/W is the maximum value of photopic\n",
    "efficacy, referenced to a 2042-K blackbody standard source, and\n",
    "$L_{e\\lambda}$ is the source's  radiance.  "
   ]
  },
  {
   "cell_type": "markdown",
   "metadata": {},
   "source": [
    "The scotopic  luminance of a source is defined as\n",
    "\\begin{equation}\n",
    " L_\\nu=\\int_0^\\infty K_{\\rm max}^\\prime V_\\lambda^\\prime L_{e\\lambda}(T) d \\lambda,\n",
    "\\end{equation}\n",
    "where\n",
    "$K_{\\rm max}^\\prime V_\\lambda^\\prime$ is the spectral scotopic efficacy,\n",
    "$V_\\lambda^\\prime$ is the scotopic efficiency,\n",
    "$K_{\\rm max}^\\prime=1700$ lm/W is the maximum value of scotopic\n",
    "efficacy, referenced to a 2042-K blackbody standard source, and\n",
    "$L_{e\\lambda}$ is the source's  radiance. "
   ]
  },
  {
   "cell_type": "markdown",
   "metadata": {},
   "source": [
    "The conversion between photometric and photon rate units is based on the calculation of a scaling factor $k$ given by solving the following equation.  Under strong light conditions the photopic equation should be used, whereas under very dark conditions the scotopic equation should be used.  In the mesopic range a somewhat arbitrary mix of the two is used.\n",
    "\n",
    "\n",
    "\\begin{equation}\n",
    " L_{\\nu\\textrm{table}} = k L_\\nu=k\\, \n",
    " \\left[\n",
    "f_P K_{\\rm max}\\int_0^\\infty  V_\\lambda L_{e\\lambda}(T) d \\lambda\n",
    "+\n",
    "(1-f_P)K_{\\rm max}^\\prime\\int_0^\\infty  V_\\lambda^\\prime L_{e\\lambda}(T) d \\lambda\n",
    " \\right]\n",
    "\\end{equation}\n",
    "where $k$ is the fraction of the expected illuminance given the colour temperature,\n",
    "and $f_P$ is the fraction of photopic flux (scotopic flux will be fraction $1-f_P$.  \n",
    "Calculate $k$ for each entry in the table, using the stated luminance $L_\\textrm{table}$ and colour temperature $T$.\n",
    "\n",
    "Subsequently the wideband integrated photon radiance corresponding to the scenarios in the table can be determined from \n",
    "\n",
    "\\begin{equation}\n",
    "L_{q} = k\\int_0^\\infty  L_{q\\lambda}(T) d \\lambda \n",
    "\\end{equation}\n",
    "\n",
    "In the following code we calculate the reflected radiance for a surface with unity reflectance:\n"
   ]
  },
  {
   "cell_type": "code",
   "execution_count": 5,
   "metadata": {
    "collapsed": false
   },
   "outputs": [
    {
     "name": "stdout",
     "output_type": "stream",
     "text": [
      "                Irradiance-lm/m2  ColourTemp  FracPhotop             k  \\\n",
      "Overcast night            0.0001        5000         0.0  1.599065e-14   \n",
      "Star light                0.0011        5000         0.2  1.971425e-13   \n",
      "Quarter moon              0.0108        4150         0.4  6.922429e-12   \n",
      "Full moon                 0.1080        4150         0.6  7.864240e-11   \n",
      "Deep twilight             1.0800       10000         0.8  1.883128e-11   \n",
      "Twilight                 10.8000       10000         1.0  2.580650e-10   \n",
      "Very dark day           107.0000        7000         1.0  8.257801e-09   \n",
      "Overcast day           1075.0000        6000         1.0  1.559271e-07   \n",
      "Full sky light        10752.0000       12000         1.0  1.587536e-07   \n",
      "Sun light            107527.0000        5700         1.0  1.963843e-05   \n",
      "\n",
      "                Radiance-q/(s.m2.sr)-NIR  Radiance-q/(s.m2.sr)-Visible  \\\n",
      "Overcast night              1.309029e+11                  1.433858e+11   \n",
      "Star light                  1.613852e+12                  1.767748e+12   \n",
      "Quarter moon                2.663511e+13                  2.187982e+13   \n",
      "Full moon                   3.025887e+14                  2.485662e+14   \n",
      "Deep twilight               1.104762e+15                  2.482735e+15   \n",
      "Twilight                    1.513972e+16                  3.402354e+16   \n",
      "Very dark day               2.007680e+17                  3.321314e+17   \n",
      "Overcast day                2.391051e+18                  3.328712e+18   \n",
      "Full sky light              1.355500e+19                  3.417014e+19   \n",
      "Sun light                   2.548824e+20                  3.330297e+20   \n",
      "\n",
      "                Radiance-q/(s.m2.sr)-SWIR  \n",
      "Overcast night               2.786699e+11  \n",
      "Star light                   3.435613e+12  \n",
      "Quarter moon                 7.285218e+13  \n",
      "Full moon                    8.276387e+14  \n",
      "Deep twilight                1.358021e+15  \n",
      "Twilight                     1.861040e+16  \n",
      "Very dark day                3.082164e+17  \n",
      "Overcast day                 4.190713e+18  \n",
      "Full sky light               1.538169e+19  \n",
      "Sun light                    4.697308e+20  \n"
     ]
    }
   ],
   "source": [
    "# to calculate $k$ and photon flux in different spectral bands\n",
    "\n",
    "dfPhotRates['k'] = (dfPhotRates['Irradiance-lm/m2']) / (\\\n",
    "                dfPhotRates['FracPhotop'] * 683 * np.trapz(photLumEff.reshape(-1,1) * \\\n",
    "                            ryplanck.planckel(wl, dfPhotRates['ColourTemp']),wl, axis=0)\\\n",
    "                + \\\n",
    "                (1-dfPhotRates['FracPhotop']) * 1700 * np.trapz(scotLumEff.reshape(-1,1) * \\\n",
    "                            ryplanck.planckel(wl, dfPhotRates['ColourTemp']),wl, axis=0))                           \\\n",
    "\n",
    "specranges = {'Visible': [0.43, 0.69], 'NIR': [0.7, 0.9], 'SWIR': [1.0, 1.7]}\n",
    "# specranges = {'Visible': [0.45, 0.55], 'NIR': [0.8, 0.9], 'SWIR': [1.0, 1.7]}\n",
    "\n",
    "for specrange in specranges.keys():\n",
    "    wlsr = np.linspace(specranges[specrange][0],specranges[specrange][1],300 ).reshape(-1,1)\n",
    "    dfPhotRates['Radiance-q/(s.m2.sr)-{}'.format(specrange)] = (dfPhotRates['k'] /np.pi ) * \\\n",
    "                np.trapz(ryplanck.planck(wlsr, dfPhotRates['ColourTemp'],'ql'),wlsr, axis=0)\n",
    "\n",
    "dfPhotRates.sort_values(by='Irradiance-lm/m2',inplace=True)\n",
    "print(dfPhotRates)"
   ]
  },
  {
   "cell_type": "markdown",
   "metadata": {},
   "source": [
    "## Quick validation\n",
    "\n",
    "Of course these simple checks do not validate all the data points in the table, but they do validate the calculation.\n"
   ]
  },
  {
   "cell_type": "markdown",
   "metadata": {},
   "source": [
    "### Starlight irradiance\n",
    "\n",
    "The report ''Night sky radiometric measurements during follow-on-evaluation testing of AN/PVS-7 (A,B) at Fort Benning, Ga'' R.J. Stefanik, Center for Night Vision and Electro-Optics, AMSEL-NV-TR-0079, AD-A211273, May 1989, published the following spectral starlight irradiance data \n",
    "\n",
    "![''](images/starlight-irradiance.png)\n",
    "\n",
    "As validation check, simply consider the values at 0.5 $\\mu$m and 0.8 $\\mu$m and convert to SI units and photon rate. Energy per photon $h\\nu=hc/\\lambda$, in Joule.\n",
    "$\\Phi_q = \\Phi_e/(h\\nu) = \\Phi_e \\lambda/(hc)$\n",
    "\n",
    "1.  At 0.5 $\\mu$m starlight has an irradiance of 0.8 pW/(cm$^2$.nm) = 0.8e-05 W/(m$^2$.$\\mu$m). This corresponds to a photon rate radiance of 1.67e+12 q/(s.m$^2$.sr) over the spectral width in the subsequent calculation.  This corresponds closely with the values calculated in the model (1.77e+12  q/(s.m$^2$.sr)).\n",
    "\n",
    "1.  At 0.8 $\\mu$m starlight has an irradiance of 2 pW/(cm$^2$.nm) = 2e-05 W/(m$^2$.$\\mu$m). This corresponds to a photon rate radiance of 5.144402e+12 q/(s.m$^2$.sr) over the spectral width in the subsequent calculation.  This corresponds to a factor of 3.2 of the values calculated in the model (1.61e+12 q/(s.m$^2$.sr)).\n"
   ]
  },
  {
   "cell_type": "code",
   "execution_count": 18,
   "metadata": {
    "collapsed": false
   },
   "outputs": [
    {
     "name": "stdout",
     "output_type": "stream",
     "text": [
      "Star light radiance in the visible 1.671931e+12 q/(s.m2.sr)\n",
      "Star light radiance in the NIR 5.144402e+12 q/(s.m2.sr)\n"
     ]
    }
   ],
   "source": [
    "print('Star light radiance in the visible {:e} q/(s.m2.sr)'.format((0.69 - 0.43) * 0.8e-12 * 1e4 * 1e3 *.5e-6 / (np.pi * 3e8 * 6.6e-34)))\n",
    "print('Star light radiance in the NIR {:e} q/(s.m2.sr)'.format((0.9 - 0.7) * 2e-12 * 1e4 * 1e3 *.8e-6 / (np.pi * 3e8 * 6.6e-34)))\n",
    "    "
   ]
  },
  {
   "cell_type": "markdown",
   "metadata": {},
   "source": [
    "### Value of $k$ for direct sunlight\n",
    "\n",
    "The value for k for direct sunlight is calculated in [W, Section 3.7], and found to be 2.17e-5 (when accounting for units differences), which corresponds well with the value of 1.96e-05 calculated here.  "
   ]
  },
  {
   "cell_type": "markdown",
   "metadata": {},
   "source": [
    "## Scene radiance"
   ]
  },
  {
   "cell_type": "markdown",
   "metadata": {},
   "source": [
    "The signal resulting from reflected light from a surface is given in the general form\n",
    "\n",
    "\\begin{equation}\n",
    "n_{\\textrm{scene}}\n",
    "=\n",
    "\\left(\\frac{\\pi t_{\\textrm{int}} P  A_d }{4F_\\#^2}\\right)\n",
    "\\int_0^\\infty \\eta_{\\lambda} \\tau_{o\\lambda}\\tau_{f\\lambda} \\tau_{a\\lambda}\n",
    " \\rho_\\textrm{d} L_{q\\lambda}\n",
    "\\;d\\lambda\n",
    "\\end{equation}\n",
    "where\n",
    "$\\rho_\\textrm{d}$ is the target diffuse reflectance and the remaining symbols were as previously defined.\n",
    "If $\\tau_{o\\lambda}\\tau_{f\\lambda} \\tau_{a\\lambda} \\rho_\\textrm{d}$ can be assumed constant over spectral band,\n",
    "the $L_{q\\lambda}$ can be integrated over the spectral band  and the values in the table calculated previously can be used\n",
    " \n",
    "\\begin{equation}\n",
    "n_{\\textrm{scene}}\n",
    "=\n",
    "\\left(\\frac{\\pi t_{\\textrm{int}} P  A_d }{4F_\\#^2}\\right)\n",
    "\\eta \\tau_{o}\\tau_{f} \\tau_{a}  \\rho_\\textrm{d} \n",
    "\\int_0^\\infty L_{q\\lambda} \\;d\\lambda\n",
    "\\end{equation}"
   ]
  },
  {
   "cell_type": "markdown",
   "metadata": {},
   "source": [
    "The solid angle of the f-number cone is $\\Omega_{F_\\#}=\\pi/(4F_\\#^2)$, hence the above equation can be written\n",
    "\n",
    "\\begin{equation}\n",
    "n_{\\textrm{scene}}\n",
    "=\n",
    " t_{\\textrm{int}} P   \n",
    "\\eta \\tau_{o}\\tau_{f} \\tau_{a}  \\rho_\\textrm{d} \n",
    "A_d\\Omega_{F_\\#}\\int_0^\\infty L_{q\\lambda} \\;d\\lambda\n",
    "\\end{equation}"
   ]
  },
  {
   "cell_type": "markdown",
   "metadata": {},
   "source": [
    "### First principles reflected sunlight\n",
    "Using the model in [W, Section 3.7] the  reflected light scene-radiance photon count is given by\n",
    "\\begin{equation}\n",
    "n_{\\textrm{scene}}\n",
    "=\n",
    "\\left(\\frac{\\pi t_{\\textrm{int}} P  A_d }{4F_\\#^2}\\right)\\cdot\n",
    "\\psi \\cos\\theta\n",
    "\\cdot\n",
    "\\int_0^\\infty \\eta_{\\lambda} \\tau_{o\\lambda}\\tau_{f\\lambda} \\tau_{a\\lambda}\n",
    " \\epsilon_\\textrm{sun}\\tau_\\textrm{sun} \\rho_\\textrm{d} L_\\textrm{b}(6000 K)\n",
    "\\;d\\lambda\n",
    "\\end{equation}\n",
    "where \n",
    "$\\psi=2.17\\times 10^{-5}$ relates the sun's area and distance to radiance on the ground,\n",
    "$\\epsilon_\\textrm{sun}=1$ is the sun emissivity, \n",
    "$\\tau_\\textrm{sun}$  is the atmospheric transmittance from the target to the sun, \n",
    "$\\rho_\\textrm{d}$ is the target diffuse reflectance,\n",
    "$L_\\textrm{b}(6000 K)$ is the Planck-law thermal radiance for a 6000 K source (approximation of the sun's surface temperature), and \n",
    "$\\cos\\theta$ is the cosine of the angle between the target normal vector and the sun."
   ]
  },
  {
   "cell_type": "code",
   "execution_count": 73,
   "metadata": {
    "collapsed": true
   },
   "outputs": [],
   "source": [
    "# to calculate the electron count in the detector from reflected sunlight only\n",
    "def nEcntSun(wl, tauAtmo, tauSun, tauFilt, tauOpt, quantEff, rhoTarg, cosTarg, \n",
    "             inttime, pfrac, detarea, fno,emis=1.0, tmprt=6000.):\n",
    "    \"\"\" Calculate the number of electrons in a detector\n",
    "    All values in base SI units\n",
    "    rhoTarg is the target diffuse reflectance\n",
    "    cosTarg the cosine of the sun incidence angle\n",
    "    \"\"\"\n",
    "    \n",
    "    L =  emis * tauAtmo * tauFilt * tauOpt * tauSun * quantEff * \\\n",
    "            rhoTarg * ryplanck.planck(wl, tmprt, type='ql')/np.pi\n",
    "    L = np.trapz( L, x=wl,axis=0)\n",
    "    n = np.pi * inttime * pfrac * detarea * L * 2.17e-5 * cosTarg / (4 * fno**2)\n",
    "    return n"
   ]
  },
  {
   "cell_type": "markdown",
   "metadata": {},
   "source": [
    "### Low light radiance\n",
    "\n",
    "The approximate low light level scene radiance levels were calculated above and stored in the `dfPhotRates` DataFrame.  These values are already integrated over the spectral bandwidth, so the scene radiance becomes\n",
    " \n",
    "\\begin{equation}\n",
    "n_{\\textrm{scene}}\n",
    "=\n",
    "\\left(\\frac{\\pi t_{\\textrm{int}} P  A_d \\cos\\theta}{4F_\\#^2}\\right)\n",
    " \\eta \\tau_{o}\\tau_{f} \\tau_{a}  \\rho_\\textrm{d} \n",
    " L_{q\\,dfPhotRates} \n",
    "\\end{equation}"
   ]
  },
  {
   "cell_type": "code",
   "execution_count": 74,
   "metadata": {
    "collapsed": false
   },
   "outputs": [
    {
     "name": "stdout",
     "output_type": "stream",
     "text": [
      "Index([u'Irradiance-lm/m2', u'ColourTemp', u'FracPhotop', u'k',\n",
      "       u'Radiance-q/(s.m2.sr)-NIR', u'Radiance-q/(s.m2.sr)-Visible',\n",
      "       u'Radiance-q/(s.m2.sr)-SWIR'],\n",
      "      dtype='object')\n",
      "Index([u'Overcast night', u'Star light', u'Quarter moon', u'Full moon',\n",
      "       u'Deep twilight', u'Twilight', u'Very dark day', u'Overcast day',\n",
      "       u'Full sky light', u'Sun light'],\n",
      "      dtype='object')\n"
     ]
    }
   ],
   "source": [
    "# to print the available scenarios and spectral bands in the dfPhotRates table\n",
    "print(dfPhotRates.columns) \n",
    "print(dfPhotRates.index) \n"
   ]
  },
  {
   "cell_type": "code",
   "execution_count": 75,
   "metadata": {
    "collapsed": true
   },
   "outputs": [],
   "source": [
    "# to calculate the scene electron count from the low light table\n",
    "def nEcntLLight(tauAtmo, tauFilt, tauOpt, quantEff, rhoTarg, cosTarg, \n",
    "             inttime, pfrac, detarea, fno, scenario, specBand):\n",
    "    \"\"\" Calculate the number of electrons in a detector\n",
    "    All values in base SI units\n",
    "    rhoTarg is the target diffuse reflectance\n",
    "    cosTarg the cosine of the sun incidence angle\n",
    "    scenario must be one of the dfPhotRates index values\n",
    "    specBand must be one of the dfPhotRates column values\n",
    "    \"\"\"\n",
    "    \n",
    "    L =  quantEff * tauOpt * tauFilt *  tauAtmo * \\\n",
    "            rhoTarg * dfPhotRates.ix[scenario][specBand]\n",
    "    n = np.pi * inttime * pfrac * detarea * L * cosTarg / (4 * fno**2)\n",
    "    return n"
   ]
  },
  {
   "cell_type": "markdown",
   "metadata": {},
   "source": [
    "### Thermal self-emission\n",
    "\n",
    "The thermal scene-radiance photon count is given by\n",
    "\\begin{equation}\n",
    "n_{\\textrm{scene}}\n",
    "=\n",
    "\\left(\\frac{\\pi t_{\\textrm{int}} P  A_d }{4F_\\#^2}\\right)\\cdot\n",
    "\\int_0^\\infty \\eta_{\\lambda} \\tau_{o\\lambda}\\tau_{f\\lambda} \\tau_{a\\lambda}\n",
    "\\epsilon_{\\textrm{background}\\lambda} L_\\lambda(T_\\textrm{background})\n",
    "d\\lambda\n",
    "\\end{equation}\n",
    "where\n",
    "$t_{\\textrm{int}}$ is the integration time,\n",
    "$P$ is the fraction of clear aperture, \n",
    "$A_d$ is the detector area, \n",
    "$F_\\#$ is the f-number, \n",
    "$\\eta_{\\lambda}$ is the detector quantum efficiency,\n",
    "$\\tau_{o\\lambda}$ is the optics transmittance, \n",
    "$\\tau_{f\\lambda}$ is the sensor filter transmittance, \n",
    "$\\tau_{a\\lambda}$ is the atmospheric transmittance, \n",
    "$\\epsilon_{\\textrm{background}\\lambda}$ is the background emissivity, and \n",
    "$L_\\lambda(T_\\textrm{background})$ the Planck radiation at background temperature.\n",
    "\n"
   ]
  },
  {
   "cell_type": "code",
   "execution_count": 76,
   "metadata": {
    "collapsed": true
   },
   "outputs": [],
   "source": [
    "# to calculate the electron count in the detector from a thermal source only\n",
    "def nEcntThermalScene(wl, tmptr, emis, tauAtmo, tauFilt, tauOpt, quantEff, inttime, pfrac, detarea, fno):\n",
    "    \"\"\" Calculate the number of electrons in a detector\n",
    "    All values in base SI units\n",
    "    \"\"\"\n",
    "    \n",
    "    L = emis * tauAtmo * tauFilt * tauOpt * quantEff * \\\n",
    "            ryplanck.planck(wl, tmptr, type='ql')/np.pi\n",
    "    L = np.trapz( L, x=wl,axis=0)\n",
    "    n = np.pi * inttime * pfrac * detarea * L / (4 * fno**2)\n",
    "    return n"
   ]
  },
  {
   "cell_type": "markdown",
   "metadata": {},
   "source": [
    "### Hot optics radiance\n",
    "\n",
    "For infrared sensors the thermal hot-optics photon count is given by \n",
    "\\begin{equation}\n",
    "n_{\\textrm{optics}}\n",
    "=\n",
    "\\left(\\frac{\\pi t_{\\textrm{int}} P  A_d }{4F_\\#^2}\\right)\\cdot\n",
    "\\int_0^\\infty \\eta_{\\lambda} \\tau_{f\\lambda} \n",
    "(1-\\tau_{o\\lambda}) L_\\lambda(T_\\textrm{optics})\n",
    "d\\lambda\n",
    "\\end{equation}\n",
    "where\n",
    "the optics emissivity is given by\n",
    "$\\epsilon_{\\textrm{optics}\\lambda}=(1-\\tau_{o\\lambda})$.\n",
    "                                          \n",
    "\n",
    "\n",
    "Assuming no stray light in the visual system, the visual optics photon count is given by \n",
    "\\begin{equation}\n",
    "n_{\\textrm{optics}}=0\n",
    "\\end{equation}\n",
    "                                          "
   ]
  },
  {
   "cell_type": "code",
   "execution_count": 77,
   "metadata": {
    "collapsed": true
   },
   "outputs": [],
   "source": [
    "# to calculate the electron count in the detector from a thermal source only\n",
    "def nEcntThermalOptics(wl, tmptrOpt, tauFilt, tauOpt, quantEff, inttime, pfrac, detarea, fno):\n",
    "    \"\"\" Calculate the number of electrons in a detector\n",
    "    All values in base SI units\n",
    "    \"\"\"\n",
    "    \n",
    "    L = tauFilt * (1.0 - tauOpt) * quantEff * \\\n",
    "            ryplanck.planck(wl, tmptrOpt, type='ql')/np.pi\n",
    "    L = np.trapz( L, x=wl,axis=0)\n",
    "    n = np.pi * inttime * pfrac * detarea * L / (4 * fno**2)\n",
    "    return n"
   ]
  },
  {
   "cell_type": "markdown",
   "metadata": {},
   "source": [
    "### Comparison of electron count contributions from different sources\n",
    "\n",
    "The following code evaluate typical detector charge well electron counts from different sources, using typical sensor values.  These calculations assume infinitely large charge well capacities.  Any real sensor has a finite sized well capacity and the number of electrons should be limited to this well capacity."
   ]
  },
  {
   "cell_type": "code",
   "execution_count": 115,
   "metadata": {
    "collapsed": false
   },
   "outputs": [
    {
     "name": "stdout",
     "output_type": "stream",
     "text": [
      "\n",
      "----------------------------------\n",
      "Visible: electrons in charge well\n",
      " \n",
      "Overcast night     9.46e-03\n",
      "Star light         1.17e-01\n",
      "Quarter moon       1.44e+00\n",
      "Full moon          1.64e+01\n",
      "Deep twilight      1.64e+02\n",
      "Twilight           2.24e+03\n",
      "Very dark day      2.19e+04\n",
      "Overcast day       2.20e+05\n",
      "Full sky light     2.25e+06\n",
      "Sun light          2.20e+07\n",
      "\n",
      "Direct sun         2.60e+07\n",
      "Scene termal       3.31e-14\n",
      "Hot optics thermal 1.03e-14\n",
      "\n",
      "----------------------------------\n",
      "MWIR: electrons in charge well\n",
      "\n",
      "Direct sun         2.50e+06\n",
      "Scene termal       5.10e+06\n",
      "Hot optics thermal 1.59e+06\n"
     ]
    }
   ],
   "source": [
    "# to evaluate typical electron count from different contributors\n",
    "\n",
    "tauAtmo = 1\n",
    "tauSun = 0.5\n",
    "tauFilt = 1.\n",
    "tauOpt = 0.8\n",
    "quantEff = 0.7\n",
    "rhoTarg = .3\n",
    "cosTarg = 1.\n",
    "inttime = 0.02\n",
    "pfrac = 1.0\n",
    "detarea = (10e-6)**2\n",
    "fno = 2.\n",
    "tmptr = 300.\n",
    "tmptrOpt = 300.\n",
    "emisscene = .8\n",
    "\n",
    "scenarios =  [u'Overcast night', u'Star light', u'Quarter moon', u'Full moon',\n",
    "       u'Deep twilight', u'Twilight', u'Very dark day', u'Overcast day',\n",
    "       u'Full sky light', u'Sun light']\n",
    "specBand = u'Radiance-q/(s.m2.sr)-Visible'\n",
    "\n",
    "for wl, specBand in zip([np.linspace(0.3, 0.8, 100), np.linspace(3.5, 4.8, 100)],\n",
    "                        [u'Radiance-q/(s.m2.sr)-Visible','Radiance-q/(s.m2.sr)-MWIR']):\n",
    "\n",
    "    print('\\n{}\\n{}: electrons in charge well'.format(34*'-',specBand[specBand.rfind('-')+1:]))\n",
    "    if specBand in dfPhotRates.columns.values:\n",
    "        print(' ')\n",
    "        for scenario in scenarios:\n",
    "            ncnt = nEcntLLight(tauAtmo, tauFilt, tauOpt, quantEff, rhoTarg, cosTarg, \n",
    "                     inttime, pfrac, detarea, fno, scenario, specBand)\n",
    "            print('{:18s} {:.2e}'.format(scenario,ncnt))\n",
    "\n",
    "\n",
    "    ncnt = nEcntSun(wl, tauAtmo, tauSun, tauFilt, tauOpt, quantEff, rhoTarg, cosTarg, \n",
    "                 inttime, pfrac, detarea, fno)\n",
    "    print('\\nDirect sun         {:.2e}'.format(ncnt))\n",
    "\n",
    "    ncnt = nEcntThermalScene(wl, tmptr, emisscene, tauAtmo, tauFilt, tauOpt, quantEff, inttime, \n",
    "                             pfrac, detarea, fno)\n",
    "    print('Scene termal       {:.2e}'.format(ncnt))\n",
    "\n",
    "    ncnt = nEcntThermalOptics(wl, tmptrOpt, tauFilt, tauOpt, quantEff, inttime, pfrac, \n",
    "                              detarea, fno)\n",
    "    print('Hot optics thermal {:.2e}'.format(ncnt))\n"
   ]
  },
  {
   "cell_type": "markdown",
   "metadata": {},
   "source": [
    "## Signal model"
   ]
  },
  {
   "cell_type": "markdown",
   "metadata": {},
   "source": [
    "The [G] model calculates the signal and noise components from primary sensor parameters, allowing for the sensor MTF.  The model describes the noise equivalent temperature or noise equivalent reflectance in terms of spatial frequency and then solves for the noise equivalent terms in terms of spatial frequency.\n",
    "\n",
    "The sensor's perceived signal to noise ratio when imaging a square wave bar target\n",
    "in the presence of sensor noise is given by\n",
    "\n",
    "\\begin{equation}\n",
    "\\textrm{SNR} = \\frac{\\textrm{CTF}(\\xi) \\cdot [n_{\\textrm{signal}} - n_{\\textrm{background}}] }{n_{\\textrm{noise}}}\n",
    "\\end{equation}\n",
    "where \n",
    "$\\textrm{SNR}$ is the signal to noise ratio, \n",
    "$\\textrm{CTF}(\\xi)$ is the sensor's contrast transfer function, \n",
    "$\\xi$ is spatial frequency,\n",
    "$n_{\\textrm{signal}}$ is the signal electron count in the detector, \n",
    "$n_{\\textrm{background}}$ is the background electron count in the detector, and \n",
    "$n_{\\textrm{noise}}$ is the sensorn noise at the sensor output.  The signal as defined here is the signal in one pixel. \n"
   ]
  },
  {
   "cell_type": "markdown",
   "metadata": {},
   "source": [
    "Using a variation of the camera equation (Equation 9.56 in [W]) the electron count in the detector from a source contrast radiance $\\Delta L$ is given by the flux on the detector multiplied by the quantum efficiency and the integration time:\n",
    "\n",
    "\\begin{equation}\n",
    "\\Delta n_{\\textrm{det}\\; \\lambda}\n",
    "=\n",
    "\\frac{\\pi \\eta_{\\lambda} t_{\\textrm{int}} P K_N(\\alpha) A_d \\tau_{o\\lambda}\\tau_{f\\lambda} \\tau_{a\\lambda}\\left[L_{\\textrm{signal}\\lambda}- L_{\\textrm{background}\\lambda}\\right] \\cos^4\\alpha}{4F_\\#^2(1+|m|)^2},\n",
    "\\end{equation}\n",
    "where\n",
    "$\\eta_{\\lambda}$ is the detector spectral quantum efficiency,\n",
    "$t_{\\textrm{int}}$ is the detector integration time, \n",
    "$P$ an efficiency factor accounting for a central obscuration (if present), \n",
    "$K_N(\\alpha)$  is the vignetting losses (if present),\n",
    "$A_d$ is the area of the detector, \n",
    "$\\tau_{o\\lambda}$ is the optics transmittance, \n",
    "$\\tau_{f\\lambda}$ is the spectral filter transmittance, \n",
    "$\\tau_{a\\lambda}$ is the atmospheric transmittance, \n",
    "$L_{\\textrm{signal}\\lambda} = \\epsilon_\\textrm{signal} L_\\lambda(T_\\textrm{signal})$ is the signal source radiance,\n",
    "$L_{\\textrm{background}\\lambda} = \\epsilon_\\textrm{background} L_\\lambda(T_\\textrm{background})$ is the background source radiance,\n",
    "$\\cos^4\\alpha$ is the cosine-to-the-fourth losses,\n",
    "$\\alpha$ is the field angle,\n",
    "$F_\\#$ is the sensor f-number, and\n",
    "$m$ is the magnification.\n"
   ]
  },
  {
   "cell_type": "markdown",
   "metadata": {},
   "source": [
    "At inifinte conjugates $m$=0, with on-axis viewing $\\alpha$=0, with no vignetting $K_N(\\alpha)$=0, the camera equation for target contrast becomes\n",
    "\n",
    "\\begin{equation}\n",
    "\\Delta n_{\\textrm{det}}\n",
    "=\n",
    "\\left(\\frac{\\pi t_{\\textrm{int}} P  A_d }{4F_\\#^2}\\right)\\cdot\n",
    "\\int_0^\\infty \\eta_{\\lambda} \\tau_{o\\lambda}\\tau_{f\\lambda} \\tau_{a\\lambda}\\left[L_{\\textrm{signal}\\lambda}- L_{\\textrm{background}\\lambda}\\right] d\\lambda\n",
    "\\end{equation}\n",
    "\n"
   ]
  },
  {
   "cell_type": "markdown",
   "metadata": {},
   "source": [
    "Rejoining [G] we define the noise equivalent quanta as the the contrast quantum signal where the signal to noise is equal to one.  In keeping with [W] notation noise equivalent quanta is written as NEQ. Then \n",
    "\n",
    "\\begin{equation}\n",
    "\\textrm{NEQ} = \\frac{n_{\\textrm{noise}}}{\\textrm{CTF}(\\xi)} = \n",
    "\\left(\\frac{\\pi t_{\\textrm{int}} P  A_d }{4F_\\#^2}\\right)\\cdot\n",
    "\\int_0^\\infty \\eta_{\\lambda} \\tau_{o\\lambda}\\tau_{f\\lambda} \\tau_{a\\lambda}\\left[L_{\\textrm{signal}\\lambda}- L_{\\textrm{background}\\lambda}\\right] d\\lambda\n",
    "\\end{equation}\n",
    "\n"
   ]
  },
  {
   "cell_type": "markdown",
   "metadata": {},
   "source": [
    "From [G]: If we assume the square wave response of the sensor is band-limited and that for the higher spatial\n",
    "frequencies only the fundamental of the square wave has sufficient response, then the amplitude conversion from the square wave $\\textrm{CTF}$ to the sinusoid modulation transfer function, $\\textrm{MTF}$, is a factor $4/\\pi$\n",
    "\n",
    "\\begin{equation}\n",
    "\\textrm{CTF}(\\xi) \\approx \\frac{4}{\\pi}\\textrm{MTF}(\\xi)\n",
    "\\end{equation}\n"
   ]
  },
  {
   "cell_type": "markdown",
   "metadata": {},
   "source": [
    "After manipulation we arrive at Equation 7 in [G]:\n",
    "\n",
    "\\begin{equation}\n",
    "\\pi\\int_0^\\infty \\eta_{\\lambda} \\tau_{o\\lambda}\\tau_{f\\lambda} \\tau_{a\\lambda}\\textrm{LEQ}_\\lambda d\\lambda\n",
    "=\n",
    "\\frac{\\pi F_\\#^2 n_{\\textrm{noise}}}{ t_{\\textrm{int}} P  A_d\\textrm{MTF}(\\xi)} \n",
    "\\end{equation}\n",
    "with units of q/(s$\\cdot$m$^2$), and \n",
    "where \n",
    "$\\textrm{LEQ}_\\lambda = L_{\\textrm{signal}\\lambda}- L_{\\textrm{background}\\lambda}$ is understood to be the contrast radiance between two pixels that provides a signal to noise ratio of one.\n"
   ]
  },
  {
   "cell_type": "markdown",
   "metadata": {},
   "source": [
    "**Thermal sources:** Expanding on Section 9.5.4 in [W] that for small temperature differences, the noise equivalent temperature difference for a thermal source can be approximated by\n",
    "\n",
    "\\begin{equation}\n",
    "\\frac{\\textrm{LEQ}}{\\textrm{NETD}} = \\frac{dL}{dT} = \\int_0^\\infty \\eta_{\\lambda} \\tau_{o\\lambda}\\tau_{f\\lambda} \\tau_{a\\lambda}\n",
    "\\left(\n",
    "\\frac{L_\\lambda(T_{\\textrm{background}})}{dT}\n",
    "\\right)\n",
    "d\\lambda\n",
    "\\end{equation}\n",
    "\n"
   ]
  },
  {
   "cell_type": "markdown",
   "metadata": {},
   "source": [
    "Hence for thermal sources a form similar to Equation 9 in [G] is derived\n",
    "\n",
    "\\begin{equation}\n",
    " \\textrm{NETD}\n",
    "=\n",
    "\\frac{ F_\\#^2]\\, n_{\\textrm{noise}}}{ t_{\\textrm{int}} P  A_d\\textrm{MTF}(\\xi)\\left[ \\int_0^\\infty \\eta_{\\lambda} \\tau_{o\\lambda}\\tau_{f\\lambda} \\tau_{a\\lambda}\n",
    "\\left(\n",
    "\\frac{L_\\lambda(T_{\\textrm{background}})}{dT}\n",
    "\\right)\n",
    "d\\lambda\\right]} \n",
    "\\end{equation}\n"
   ]
  },
  {
   "cell_type": "markdown",
   "metadata": {},
   "source": [
    "**Reflective sources:** Similarly to the thermal source derivation,  for target reflection differences, the noise equivalent reflection difference for a reflective source can be approximated by\n",
    "\n",
    "\\begin{equation}\n",
    "\\frac{\\textrm{LEQ}}{ \\textrm{NE}\\rho} = \\frac{dL}{d\\rho} = \\int_0^\\infty \\eta_{\\lambda} \\tau_{o\\lambda}\\tau_{f\\lambda} \\tau_{a\\lambda}\n",
    "L_{\\textrm{source}\\lambda}\n",
    "d\\lambda\n",
    "\\end{equation}\n",
    "\n"
   ]
  },
  {
   "cell_type": "markdown",
   "metadata": {},
   "source": [
    "Hence for reflective sources we derive an equation similar to Equation 7 in [G]:\n",
    "\n",
    "\\begin{equation}\n",
    " \\textrm{NE}\\rho\n",
    "=\n",
    "\\frac{ F_\\#^2\\, n_{\\textrm{noise}}}{ t_{\\textrm{int}} P  A_d\\textrm{MTF}(\\xi) \\int_0^\\infty \\eta_{\\lambda} \\tau_{o\\lambda}\\tau_{f\\lambda} \\tau_{a\\lambda}\n",
    "L_{\\textrm{source}\\lambda}\n",
    "d\\lambda} \n",
    "\\end{equation}\n"
   ]
  },
  {
   "cell_type": "markdown",
   "metadata": {},
   "source": [
    "## Noise model"
   ]
  },
  {
   "cell_type": "markdown",
   "metadata": {},
   "source": [
    "![''](images/camerascheme-horiz-labelled.png)\n"
   ]
  },
  {
   "cell_type": "markdown",
   "metadata": {},
   "source": [
    "The [G] model includes photon noise and fixed pattern non-uniformity noise.  However for low light level work a more comprehensive noise model, such as Konnik's model, is required.\n",
    "The components of the noise model include \n",
    "\n",
    "1. Photon signal noise (present in [G] model).\n",
    "2. Detector response non-uniformity (present in [G] model).\n",
    "3. Dark current shot noise.\n",
    "4. Fixed pattern dark current noise.\n",
    "5. Read noise also known as kTC reset noise.\n",
    "6. Source follower noise.\n",
    "7. Quantisation noise.\n",
    "\n",
    "If the magnitudes of these noise components are not available, we can just assume zero values to ignore these.\n",
    "\n",
    "The various noise sources are assumed non-correlated and add in quadrature (with apropriate gain scaling).\n"
   ]
  },
  {
   "cell_type": "markdown",
   "metadata": {},
   "source": [
    "### Photon noise \n",
    "\n",
    "Photon noise for a flux signal is given by the square root of the signal photon count.  The signal photon count comprises photons from the scene (target and background temperatures assumed to the more or less the same), photons from inside the sensor such as hot optics (other sources ignored for now), and atmosperic path radiance.   On the assumption that the atmospheric path temperature is close to the scene temperature the path radiance plus attenuated scene radiance would be more or less equal to the unattenuated scene radiance, i.e., $L_\\textrm{path} + \\tau_\\textrm{path} L_\\textrm{scene}\\approx L_\\textrm{scene}$.\n",
    "\n",
    "Photon noise is casused by the photon signal itself.  The photon signal in the detector comprises the following components:\n",
    "\n",
    "1. Reflected incident light such as sunlight, sky light or night light.\n",
    "1. Thermal self-emission.\n",
    "1. Stray light and internal sensor flux sources.\n",
    "\n"
   ]
  },
  {
   "cell_type": "markdown",
   "metadata": {},
   "source": [
    "The total photon flux is\n",
    "\\begin{equation}\n",
    "n_{\\textrm{photons}} = n_{\\textrm{scene}} + n_{\\textrm{optics}}\n",
    "\\end{equation}\n",
    "\n",
    "The photon noise is then \n",
    "\n",
    "\\begin{equation}\n",
    "n_{\\textrm{photnoise}} =\\sqrt{n_{\\textrm{photons}}} =  \\sqrt{n_{\\textrm{scene}} + n_{\\textrm{optics}}}\n",
    "\\end{equation}"
   ]
  },
  {
   "cell_type": "markdown",
   "metadata": {},
   "source": [
    "### Non-uniformity noise \n",
    "\n",
    "From [G] and [Konnik]\n",
    "\n",
    "1. The non-uniformity noise vir visual CCD and CMOS sensors is a gaussian noise with standard deviation $n_{\\textrm{NU}}$ given by  $U=n_{\\textrm{NU}}/n_{\\textrm{photons}}$, with $U$ less than or equal to  1% for CCD and 5% for CMOS sensors.\n",
    "\n",
    "2. The non-uniformity noise for infrared sensors has the form \n",
    "$n_{\\textrm{NU}}\\leq \\left(\\sqrt{n_{\\textrm{photons}}}\\right)^{-1}$\n"
   ]
  },
  {
   "cell_type": "markdown",
   "metadata": {},
   "source": [
    "### Dark current shot noise\n",
    "\n",
    "The average dark current electron count is given by \n",
    "\n",
    "\\begin{equation}\n",
    "n_{\\textrm{darkcurrent}} = t_I\\cdot 2.55\\cdot10^{15}A_d D_{FM} T^{1.5} \\exp\\left[-\\frac{E_{gap}}{2 k T}\\right]\n",
    "\\end{equation}\n",
    "where:\n",
    "$t_I$ is the integration time,\n",
    "$A_d$ is the pixel's area [cm$^2$],\n",
    "$D_{FM}$ is the dark current figure-of-merit in units of [nA/cm$^2$] at 300K (varies significantly\n",
    "with sensor manufacturer, typical value is 0.5 nA/cm$^2$ for Si detectors),\n",
    "$E_{gap}$ is the bandgap energy of the semiconductor which varies with temperature,\n",
    "$k$ is Boltzman's constant that is $8.617\\cdot10^{-5}$ [eV/K].\n",
    "It appears that fill factor does not apply to dark current.\n",
    "The bandgap for a photon detector is roughly $1.24/\\lambda_c$ where $\\lambda_c$ is the detector cutoff wavelength.  The bandgap for commonly used detectors at 300 K are \n",
    "Si:1.11 eV, \n",
    "Ge:0.66 eV,  \n",
    "GaAs:1.43 eV,  \n",
    "InP:1.27 eV, \n",
    "and at 77 K InSb:0.24 eV.\n",
    "\n",
    "Dark current causes shot noise (a Poisson signal) so that the dark current noise is \n",
    "\n",
    "\\begin{equation}\n",
    "n_{\\textrm{darkcurrentnoise}} = \\sqrt{n_{\\textrm{darkcurrent}}}\n",
    "\\end{equation}\n",
    "\n",
    "\n",
    "This model is taken from [here](http://nelisw.github.io/pyradi-docs/_build/html/rystare.html#pyradi.rystare.dark_current_and_dark_noises).\n"
   ]
  },
  {
   "cell_type": "code",
   "execution_count": 8,
   "metadata": {
    "collapsed": true
   },
   "outputs": [],
   "source": [
    "# to calculate the dark current noise   \n",
    "def darkcurrentnoise(inttime, detarea,temptr, Egap, DFM=0.5e-5):\n",
    "    \"\"\"Note that DFM is in units of nA/m2\n",
    "    \"\"\"\n",
    "    ndarkcur = inttime * 2.55e15 * detarea * DFM * (temptr ** 1.5) * np.exp(-Egap/(2 * 8.617e-5 * temptr) )\n",
    "    \n",
    "    return np.sqrt(ndarkcur)\n"
   ]
  },
  {
   "cell_type": "markdown",
   "metadata": {},
   "source": [
    "### Fixed pattern dark current noise\n",
    "\n",
    "Fixed pattern dark noise is not considered here because of the relatively short integration times (compared to astronomy sensors)."
   ]
  },
  {
   "cell_type": "markdown",
   "metadata": {},
   "source": [
    "### Read noise also known as kTC reset noise\n",
    "\n",
    "kTC noise results from random fluctuations of charge on the sense node during the reset stage, resulting in a corresponding photodiode reset voltage fluctuation.   In CCD sensors the sense node reset noise is removed by Correlated Double Sampling (CDS).\n",
    "In CMOS photosensors, it is difficult to remove the reset noise even after application of CDS. Specifically, the difficulties arise in 'rolling shutter' and 'snap' readout modes.  Elimination of reset noise in CMOS is quite challenging.\n",
    "The magnitude of the sense node read noise in electrons is given by \n",
    "\\begin{equation}\n",
    "n_{\\textrm{kTCnoise}}=\\frac{\\sqrt{k_B T C_{SN}}}{q}\n",
    "\\end{equation}\n",
    "where\n",
    "$q$ is the charge of an electron,\n",
    "$k_B$ is the Boltzmann constant, \n",
    "$T$ is the temperature, and \n",
    "$C_{SN}$ is the sense node capacitance.\n",
    "For this investigation the noise is assumed gaussian distributed.\n"
   ]
  },
  {
   "cell_type": "code",
   "execution_count": null,
   "metadata": {
    "collapsed": true
   },
   "outputs": [],
   "source": [
    "# to calculate the kTC noise "
   ]
  },
  {
   "cell_type": "markdown",
   "metadata": {},
   "source": [
    "### Source follower noise\n",
    "Source follower noise is ignored in this study."
   ]
  },
  {
   "cell_type": "markdown",
   "metadata": {},
   "source": [
    "### Quantisation noise\n",
    "Quantisation follower noise is ignored in this study."
   ]
  },
  {
   "cell_type": "markdown",
   "metadata": {},
   "source": [
    "### Total noise"
   ]
  },
  {
   "cell_type": "markdown",
   "metadata": {},
   "source": [
    "The total noise  is then given by\n",
    "\n",
    "\\begin{equation}\n",
    "n_{\\textrm{noise}} = \\sqrt{n_{\\textrm{photnoise}}^2+ n_{\\textrm{NU}}^2 + n^2_{\\textrm{darkcurrentnoise}} + n^2_{\\textrm{kTCnoise}}}\n",
    "\\end{equation}\n",
    "\n",
    "For visual band sensors (corresponding to Equation 10 in [G])\n",
    "\\begin{equation}\n",
    "n_{\\textrm{noise}} = \\sqrt{n_{\\textrm{photnoise}}^2+ (U n_{\\textrm{photons}})^2 + n^2_{\\textrm{darkcurrentnoise}} + n^2_{\\textrm{kTCnoise}}}\n",
    "\\end{equation}\n"
   ]
  },
  {
   "cell_type": "markdown",
   "metadata": {},
   "source": [
    "For infrared sensors\n",
    "\\begin{equation}\n",
    "n_{\\textrm{noise}} \n",
    "= \\sqrt{n_{\\textrm{photnoise}}^2+ \\left(\\sqrt{n_{\\textrm{photons}}}\\right)^{-2} + n^2_{\\textrm{darkcurrentnoise}} + n^2_{\\textrm{kTCnoise}}}\n",
    "\\end{equation}\n",
    "\\begin{equation}\n",
    "n_{\\textrm{noise}} \n",
    "= \\sqrt{n_{\\textrm{photons}}+ n_{\\textrm{photons}}^{-1} + n^2_{\\textrm{darkcurrentnoise}} + n^2_{\\textrm{kTCnoise}}}\n",
    "\\end{equation}\n",
    "\n"
   ]
  },
  {
   "cell_type": "markdown",
   "metadata": {},
   "source": [
    "## MTF components"
   ]
  },
  {
   "cell_type": "markdown",
   "metadata": {},
   "source": [
    "### Detector MTF"
   ]
  },
  {
   "cell_type": "markdown",
   "metadata": {},
   "source": [
    "The detector MTF is modelled as a `sinc` function\n",
    "\n",
    "\\begin{equation}\n",
    "MTF_{\\textrm{det}} = \\textrm{sinc}\\left( \\pi\\xi \\alpha\\right)= \\textrm{sinc}\\left(  \\frac{\\pi\\xi\\beta}{f}\\right)\n",
    "\\end{equation}\n",
    "\n",
    "where \n",
    "$\\xi$ is spatial frequency in cy/rad, and \n",
    "$\\alpha$ is the detector angular size in rad,\n",
    "$\\beta$ is the detector size in meters,\n",
    "$f$ is the focal length in meters.  \n",
    "\n",
    "The dimensional analysis of the argument is not immediately evident: one detector subtends half a cycle and this must be accounted for in the dimensional analysis:\n",
    "\n",
    "\\begin{equation}\n",
    "\\left[\\frac{\\textrm{rad}}{1}\\right]\n",
    "\\left[\\frac{\\textrm{cy}}{\\textrm{rad}}\\right]\n",
    "\\left[\\frac{\\textrm{rad}}{\\textrm{pix}}\\right]\n",
    "\\left[\\frac{\\textrm{pix}}{\\textrm{cy}}\\right]\n",
    "\\rightarrow \n",
    "\\left[\\frac{\\textrm{rad}}{1}\\right]\n",
    "\\left[\\frac{\\textrm{cy}}{\\textrm{rad}}\\right]\n",
    "\\left[\\frac{\\textrm{m}}{\\textrm{pix}}\\right]\n",
    "\\left[\\frac{\\textrm{pix}}{\\textrm{cy}}\\right]\n",
    "\\left[\\frac{\\textrm{1}}{\\textrm{m}}\\right]\n",
    "\\rightarrow \n",
    "\\textrm{rad}\n",
    "\\end{equation}\n",
    "\n",
    "Note: the numpy sinc function already includes a $\\pi$ in the function code, don't add it in your code!!!"
   ]
  },
  {
   "cell_type": "code",
   "execution_count": null,
   "metadata": {
    "collapsed": true
   },
   "outputs": [],
   "source": [
    "# to calculate detector MTF\n",
    "def MTFdetector(freq, pixsize, foclen):\n",
    "    # freq in cy/rad\n",
    "    # pixsize in m\n",
    "    # foclen in m\n",
    "    return np.sinc(freq * pixsize  / foclen)"
   ]
  },
  {
   "cell_type": "code",
   "execution_count": null,
   "metadata": {
    "collapsed": false
   },
   "outputs": [],
   "source": [
    "# to plot detector MTF as function of detector pixel size\n",
    "p = ryplot.Plotter (1 ,1 ,1 , figsize =(8 ,4) )\n",
    "if 'MTF detector' not in dfS.index.values:\n",
    "    dfS = dfS.append(pd.DataFrame(index=['MTF detector']))\n",
    "ffreqmax = np.max(dfS.loc['SpatFreqMax cy/m'])\n",
    "for colname in dfS.columns.values:\n",
    "    ffreq = dfS.loc['SpatFreq cy/m'][colname]\n",
    "    pixsize = dfS.loc['Pixel size'][colname]\n",
    "    dfS.loc['MTF detector'][colname] = MTFdetector(ffreq,pixsize,foclen)\n",
    "    p.plot(1, ffreq/1000., np.abs(dfS.loc['MTF detector'][colname]),\n",
    "           r'Horizontal and vertical detector MTF','Frequency cy/mm','MTF',\n",
    "           label=[r'{} {} $\\mu$m pixel size'.format(colname, pixsize*1e6)],\n",
    "           pltaxis =[0,ffreqmax/1000.,-0,1]);"
   ]
  },
  {
   "cell_type": "markdown",
   "metadata": {
    "collapsed": true
   },
   "source": [
    "### Optics aberration MTF"
   ]
  },
  {
   "cell_type": "markdown",
   "metadata": {
    "collapsed": true
   },
   "source": [
    "From [G], the optics aberration can be modelled by the generic function\n",
    "\n",
    "\\begin{equation}\n",
    "MTF_\\textrm{opt}\n",
    "= \n",
    "\\exp\n",
    "\\left[\n",
    "-2\\left(\n",
    "\\frac{\\pi \\sigma_\\textrm{d}\\xi}{\\xi_0}\n",
    "\\right)^2\\right]\n",
    "= \n",
    "\\exp\n",
    "\\left[\n",
    "-2\\left(\n",
    "\\frac{\\pi \\sigma_\\textrm{d}\\xi\\lambda}{D}\n",
    "\\right)^2\\right]\n",
    "\\end{equation}\n",
    "where\n",
    "$\\sigma_\\textrm{d}$ is the spot size factor,\n",
    "$\\xi$ is spatial frequency in cy/m,\n",
    "$\\xi_0$ is cutof or critical spatial frequency in cy/m,\n",
    "$\\lambda$ is the mean wavelength, and\n",
    "$D$ is the aperture diameter in m.\n",
    "\n"
   ]
  },
  {
   "cell_type": "markdown",
   "metadata": {
    "collapsed": true
   },
   "source": [
    " The units of the square root of the argument are \n",
    " \n",
    "\\begin{equation}\n",
    "\\left[\\frac{\\textrm{rad}}{\\textrm{1}}\\right]\n",
    "\\left[\\frac{\\textrm{m}}{\\textrm{m}}\\right]\n",
    "\\left[\\frac{\\textrm{cy}}{\\textrm{rad}}\\right]\n",
    "\\left[\\frac{\\textrm{rad}}{\\textrm{cy}}\\right]\n",
    "\\rightarrow \n",
    "\\textrm{rad}\n",
    "\\rightarrow \n",
    "\\left[\\frac{\\textrm{m}}{\\textrm{m}}\\right]\n",
    "\\rightarrow \n",
    "\\textrm{1}\n",
    "\\end{equation}\n",
    "\n",
    "and\n",
    "\n",
    "\\begin{equation}\n",
    "\\left[\\frac{\\textrm{rad}}{\\textrm{1}}\\right]\n",
    "\\left[\\frac{\\textrm{m}}{\\textrm{m}}\\right]\n",
    "\\left[\\frac{\\textrm{cy}}{\\textrm{rad}}\\right]\n",
    "\\left[\\frac{\\textrm{m}_{\\lambda}}{\\textrm{1}} \\right]\n",
    "\\left[\\frac{\\textrm{1}}{\\textrm{m}_\\textrm{d}} \\right]\n",
    "\\rightarrow \n",
    "\\left[\\frac{\\textrm{m}}{\\textrm{m}}\\right]\n",
    "\\rightarrow \n",
    "\\textrm{1}\n",
    "\\end{equation}\n"
   ]
  },
  {
   "cell_type": "code",
   "execution_count": null,
   "metadata": {
    "collapsed": true
   },
   "outputs": [],
   "source": [
    "# to calculate aberration MTF\n",
    "def MTFaberation(freq, sratio, freqo):\n",
    "    # freq in cy/rad\n",
    "    # spot size factor\n",
    "    # cutof freq in cy/mrad\n",
    "    return np.exp(-2. * (np.pi * sratio * freq / freqo) ** 2)"
   ]
  },
  {
   "cell_type": "code",
   "execution_count": null,
   "metadata": {
    "collapsed": true
   },
   "outputs": [],
   "source": [
    "# to calculate the MTF of diffraction through a circular aperture\n",
    "def MTFcirc(freq):\n",
    "    f = np.abs(freq / np.max(freq))\n",
    "    return 2. * ( np.arccos(f) - f * np.sqrt(1-f**2)) / np.pi"
   ]
  },
  {
   "cell_type": "code",
   "execution_count": null,
   "metadata": {
    "collapsed": false
   },
   "outputs": [],
   "source": [
    "# to plot the aberration MTF as function of spot size factor\n",
    "p = ryplot.Plotter (1 ,1 ,1 , figsize =(8,4) )\n",
    "if 'MTF aberration' not in dfS.index.values:\n",
    "    dfS = dfS.append(pd.DataFrame(index=['MTF aberration']))\n",
    "\n",
    "ffreqmax = np.max(dfS.loc['SpatFreqMax cy/m'])\n",
    "for colname in dfS.columns.values:\n",
    "    ffreq = dfS.loc['SpatFreq cy/m'][colname]\n",
    "    sratio= dfS.loc['Aberration size factor'][colname]\n",
    "    dfS.loc['MTF aberration'][colname] = MTFaberation(ffreq, sratio, dfS.loc['SpatFreqMax cy/m'][colname])\n",
    "    \n",
    "    p.plot(1, ffreq/1000.,dfS.loc['MTF aberration'][colname], \n",
    "           r'Aberration MTF approximation','Frequency cy/mm','MTF',\n",
    "           label =[r'{}: {} spot size factor'.format(colname,sratio)], \n",
    "           pltaxis =[0,ffreqmax/1000.,-0,1]) ;   "
   ]
  },
  {
   "cell_type": "markdown",
   "metadata": {
    "collapsed": true
   },
   "source": [
    "### Diffraction MTF"
   ]
  },
  {
   "cell_type": "markdown",
   "metadata": {},
   "source": [
    "The optical transfer function is the Fourier transform of the point spread function, and the point spread function is the square absolute of the inverse Fourier transformed pupil function. The optical transfer function can also be calculated directly from the pupil function. From the convolution theorem it can be seen that the optical transfer function is  the auto-correlation of the pupil function <https://en.wikipedia.org/wiki/Optical_transfer_function>.  If an image of the pupil function is known the  diffraction MTF of the pupil can be calculated numerically.\n",
    "\n",
    "The fractional clear aperture and area of the sensor are calculated by simply counting the number of pixels in the clear aperture (accounting for the fact that the aperture is circular, not square as is the image).  The MTF is calculated using the SciPy two-dimensional correlation function `signal.correlate2d`.\n",
    "\n",
    "In this calculation the MTF for a clear aperture and centrally obscured aperture is calculated, both of which have closed form analytical equations. The advantage of calculating the MTF from the pupil function is that any shape aperture can be used; just create an image of the pupil. The calculation takes a long time to calculate for large images, so the image can be subsampled to the required degree of accuracy.\n",
    "\n",
    "In the MTF calculations below the MTF of a round aperture is calculated in square image coordinates. When the frequency scale is calculated, the distance to the corner of the image determines the full scale frequency of the calculation.  This full scale frequency is an artifact of the calculation, and is not the aperture cutof frequency that has optical meaning.  The full scale frequency is given by \n",
    "\n",
    "\\begin{equation}\n",
    "\\xi_\\textrm{fs} = \\frac{\\sqrt{2} D}{\\lambda f}\n",
    "\\end{equation}\n",
    "\n",
    "where the $\\sqrt{2}$ accounts for the distance to the corner (relative to the round aperture diameter), \n",
    "$D$ is the aperture diameter,\n",
    "$\\lambda$ is the wavelength, and \n",
    "$f$ is the distance to the screen (e.g., focal length).\n",
    "\n",
    "Then the optical cutof frequency or critical frequency is given by\n",
    "\n",
    "\\begin{equation}\n",
    "\\xi_0 = \\xi_\\textrm{fs}/\\sqrt{2} = \\frac{ D}{\\lambda f}\n",
    "\\end{equation}\n",
    "\n",
    "The calculation below was performed for a screen/focal distance of 1 m.  This essentially means that the units of $\\xi_0$ is cycles/rad.  The spatial frequency in cycles/m for any focal length $f$ can then be found as \n",
    "$\\xi_\\textrm{cycles/m} = \\xi_\\textrm{cycles/rad}/f$\n",
    "\n"
   ]
  },
  {
   "cell_type": "code",
   "execution_count": null,
   "metadata": {
    "collapsed": true
   },
   "outputs": [],
   "source": [
    "# to calculate the autocorrelation and clear area and write to file\n",
    "# this function may take a long time to execute\n",
    "def pupilautocor(PIK, dOptics, sampling = 5):\n",
    "\n",
    "    fracclear = {}\n",
    "    areasens = {}\n",
    "    pupil = {}\n",
    "    corrn = {}\n",
    "    polar_corrn = {}\n",
    "    polar_radius = {}\n",
    "    meanmtf = {}\n",
    "    \n",
    "    for i,mtflabel in enumerate(dOptics.keys()):\n",
    "        filename = dOptics[mtflabel]['Pupil']\n",
    "        print(mtflabel,filename)\n",
    "\n",
    "        #read the mask image\n",
    "        pup = ndimage.imread(filename).astype(float)\n",
    "        #make binary image\n",
    "        pup[...,-1] = np.where(pup[...,-1]>0, 1.0, 0.0)\n",
    "        #area-circle=pi*r^2, area-square=4*r^2, ratio=pi/4\n",
    "        fracclear[mtflabel] = (4. / np.pi) * np.sum(pup[...,-1])/(pup[...,-1].shape[0]*pup[...,-1].shape[1])\n",
    "\n",
    "        # slice, cut out one plane and exact size\n",
    "        pupil[mtflabel] = pup[::sampling,0:pup.shape[0]:sampling,3] \n",
    "        #http://docs.scipy.org/doc/scipy-0.15.1/reference/generated/scipy.signal.correlate2d.html\n",
    "        corr = signal.correlate2d(pupil[mtflabel], pupil[mtflabel], boundary='fill', mode='full')\n",
    "        corrn[mtflabel] = corr / np.max(corr)\n",
    "\n",
    "        #do for autocorrelation\n",
    "        polar_c, _, _ = pim.reprojectImageIntoPolar(corrn[mtflabel].reshape(corrn[mtflabel].shape[0],corrn[mtflabel].shape[1],1), None, False,cval=0.)\n",
    "        polar_c = polar_c[:,:,0]\n",
    "        polar_corrn[mtflabel] = polar_c\n",
    "        #do for radius\n",
    "        polar_c, _, _ = pim.reprojectImageIntoPolar(pupil[mtflabel].reshape(pupil[mtflabel].shape[0],pupil[mtflabel].shape[1],1), None, False,cval=0.)\n",
    "        polar_c = np.flipud(polar_c[:,:,0])\n",
    "        polar_radius[mtflabel] = polar_c\n",
    "\n",
    "        meanmtf[mtflabel] = polar_corrn[mtflabel].mean(axis=1)\n",
    "        \n",
    "    data = (pupil, corrn, pupfn, mtflabels, fracclear, areasens, polar_corrn, polar_radius, meanmtf)\n",
    "    with open(PIK, \"wb\") as f:\n",
    "        pickle.dump(data, f)\n",
    "                "
   ]
  },
  {
   "cell_type": "code",
   "execution_count": null,
   "metadata": {
    "collapsed": false
   },
   "outputs": [],
   "source": [
    "# to calculate the mtf\n",
    "\n",
    "#NOTE!!!!!!!!\n",
    "# The reprojectImageIntoPolar function maps radial to cartesian coords. \n",
    "# The radial image is however presented in a cartesian grid, the corners have no meaning.\n",
    "# The radial coordinates are mapped to the radius, not the corners.\n",
    "# This means that in order to map corners, the frequency is scaled with sqrt(2), \n",
    "# The corners are filled with the value specified in cval, which must be zero\n",
    "\n",
    "mtfpclfilename = 'ApertureMTF.pcl'\n",
    "\n",
    "freqfsm = {}\n",
    "rho = {}\n",
    "fcrit = {}\n",
    "\n",
    "#calculate if not already existing\n",
    "if not os.path.exists(mtfpclfilename):\n",
    "    pupilautocor(mtfpclfilename, dOptics, sampling = 5)\n",
    "    \n",
    "#load the correlation data from the pickle file\n",
    "with open(mtfpclfilename, \"rb\") as f:\n",
    "    (pupil, corrn, pupfn, mtflabels, fracclear, areasens, polar_corrn, polar_radius, meanmtf) = pickle.load(f)\n",
    "    \n",
    "    I = ryplot.Plotter(1,2,4,'', figsize=(8,4));\n",
    "\n",
    "    for i,mtflabel in enumerate(dOptics.keys()):\n",
    "        I.showImage(4*i+1, pupil[mtflabel], ptitle=mtflabel, cmap=ryplot.cubehelixcmap(), titlefsize=10,  \n",
    "                    cbarshow=False);\n",
    "        I.showImage(4*i+2, polar_radius[mtflabel], ptitle='Unfolded pupil', cmap=ryplot.cubehelixcmap(), titlefsize=10,  \n",
    "                    cbarshow=False);\n",
    "        I.showImage(4*i+3, corrn[mtflabel], ptitle='Pupil diffraction MTF', cmap=ryplot.cubehelixcmap(), titlefsize=10,  \n",
    "                    cbarshow=True, cbarorientation = 'vertical', cbarfontsize = 7);\n",
    "        I.showImage(4*i+4, polar_corrn[mtflabel], ptitle='Pupil diffraction MTF', cmap=ryplot.cubehelixcmap(), titlefsize=10,  \n",
    "                    cbarshow=True, cbarorientation = 'vertical', cbarfontsize = 7);\n",
    "    \n",
    "\n",
    "p = ryplot.Plotter(2,1,1,'', figsize=(10,4));\n",
    "if 'MTF diffraction' not in dfS.index.values:\n",
    "    dfS = dfS.append(pd.DataFrame(index=['MTF diffraction']))\n",
    "ffreqmax = np.max(dfS.loc['SpatFreqMax cy/m'])\n",
    "for colname in dfS.columns.values:\n",
    "    freqfsm = np.sqrt(2.) * dfS.loc['SpatFreqMax cy/m'][colname]\n",
    "    mtflabel = dfS.loc['MTF label'][colname]\n",
    "    rho = np.linspace(0,freqfsm,polar_corrn[mtflabel].shape[0]) \n",
    "    ffreq = dfS.loc['SpatFreq cy/m'][colname]\n",
    "    dfS.loc['MTF diffraction'][colname] = np.interp(ffreq, rho,  meanmtf[mtflabel])\n",
    "    p.plot(1, ffreq/1000.,dfS.loc['MTF diffraction'][colname], \n",
    "           r'Diffraction MTF approximation','Frequency cy/mm','MTF',\n",
    "           label =[r'{}'.format(colname)],pltaxis =[0,ffreqmax/1000.,-0,1]) ;   \n"
   ]
  },
  {
   "cell_type": "markdown",
   "metadata": {},
   "source": [
    "### Line of sight movement MTF\n",
    "\n",
    "Line of sight movement has two effects: (1) linear motion smear of the image during integration time, and (2) random movement blur during integration time.  The two degradation mechanisms have to different effect in the image."
   ]
  },
  {
   "cell_type": "markdown",
   "metadata": {},
   "source": [
    "Image degradation attributable to linear smear is modelled as a `sinc` function\n",
    "\n",
    "\\begin{equation}\n",
    "MTF_{\\textrm{smear}} = \\textrm{sinc}\\left( \\pi\\xi \\dot{\\theta} t_i \\right)\n",
    "\\end{equation}\n",
    "\n",
    "where \n",
    "$\\xi$ is spatial frequency in cy/rad,\n",
    "$\\dot{\\theta}$ is linear motion in rad/s, and \n",
    "$t_i$ is integration time in s\n",
    "\n",
    "The units of the argument are \n",
    "\\begin{equation}\n",
    "\\left[\\frac{\\textrm{rad}}{\\textrm{cy}}\\right]\n",
    "\\left[\\frac{\\textrm{cy}}{\\textrm{rad}}\\right]\n",
    "\\left[\\frac{\\textrm{rad}}{\\textrm{s}}\\right]\n",
    "\\left[\\frac{\\textrm{s}}{\\textrm{1}}\\right] \\rightarrow \\textrm{rad}\n",
    "\\end{equation}\n",
    "\n",
    "The [G] model does not account for linear smear movement. Experiments have shown that smear results in more degradation than does random noise blur, so perhaps it should be included in the calculation.\n"
   ]
  },
  {
   "cell_type": "markdown",
   "metadata": {},
   "source": [
    "Random noise blur is calculated as the 1-$\\sigma$ residual random movement of the projected pixel direction after linear smear is removed.\n",
    "\n",
    "The blur MTF is given by \n",
    "\n",
    "\\begin{equation}\n",
    "MTF_{\\textrm{blur}} = \\exp\\left[-2(\\pi \\sigma_b \\xi)^2\\right]\n",
    "\\end{equation}\n",
    "where\n",
    "where \n",
    "$\\xi$ is spatial frequency in cy/rad, and\n",
    "$\\sigma_b$ is the 1-$\\sigma$ jitter during integration time in rad.\n"
   ]
  },
  {
   "cell_type": "code",
   "execution_count": null,
   "metadata": {
    "collapsed": true
   },
   "outputs": [],
   "source": [
    "# to calculate smear MTF\n",
    "def MTFsmear(freq, smearRate, inttime):\n",
    "    # freq in cy/rad\n",
    "    # smearRate in rad/s\n",
    "    # inttime in s\n",
    "    return np.sinc(freq * smearRate * inttime)"
   ]
  },
  {
   "cell_type": "code",
   "execution_count": null,
   "metadata": {
    "collapsed": true
   },
   "outputs": [],
   "source": [
    "# to calculate blur MTF\n",
    "def MTFblur(freq, rmsblur):\n",
    "    # freq in cy/rad\n",
    "    # rmsblur in rad\n",
    "    return np.exp(-2 * (np.pi * freq  *  rmsblur) ** 2)"
   ]
  },
  {
   "cell_type": "code",
   "execution_count": null,
   "metadata": {
    "collapsed": false
   },
   "outputs": [],
   "source": [
    "# to plot the smear and blus MTF as function of linear motion and blur.\n",
    "p = ryplot.Plotter (1 ,1 ,1 , figsize =(8 ,4) )\n",
    "\n",
    "if 'MTF smear motion' not in dfS.index.values:\n",
    "    dfS = dfS.append(pd.DataFrame(index=['MTF smear motion']))\n",
    "if 'MTF blur motion' not in dfS.index.values:\n",
    "    dfS = dfS.append(pd.DataFrame(index=['MTF blur motion']))\n",
    "ffreqmax = np.max(dfS.loc['SpatFreqMax cy/m'])\n",
    "for colname in dfS.columns.values:\n",
    "    ffreq = dfS.loc['SpatFreq cy/m'][colname]\n",
    "    rmsblur= dfS.loc['RMS jitter rad'][colname]\n",
    "    smearRate= dfS.loc['Linear smear rad/s'][colname]\n",
    "    dfS.loc['MTF smear motion'][colname] = MTFsmear(ffreq, smearRate, inttime)\n",
    "    dfS.loc['MTF blur motion'][colname] = MTFblur(ffreq, rmsblur)\n",
    "    p.plot(1, ffreq/1000., dfS.loc['MTF blur motion'][colname],r'Line of sight motion MTF',\n",
    "     'Frequency cy/mm','MTF',label=[r'{} {} $\\mu$m rms blur'.format(colname,rmsblur*1e6)]);\n",
    "    inttime = 0.01\n",
    "    p.plot(1, ffreq/1000., dfS.loc['MTF smear motion'][colname],r'Line of sight motion MTF',\n",
    "     'Frequency cy/mm','MTF',label=[r'{} {} mrad/s smear rate'.format(colname,smearRate*1e3)],\n",
    "          pltaxis =[0,ffreqmax/1000.,-0,1]);\n",
    "    "
   ]
  },
  {
   "cell_type": "code",
   "execution_count": null,
   "metadata": {
    "collapsed": false
   },
   "outputs": [],
   "source": [
    "# to plot the MTF components per sensor\n",
    "p = ryplot.Plotter (1 ,4 ,1 , figsize =(8 ,12) )\n",
    "\n",
    "if 'MTF effective' not in dfS.index.values:\n",
    "    dfS = dfS.append(pd.DataFrame(index=['MTF effective']))\n",
    "    \n",
    "for i,colname in enumerate(dfS.columns.values):\n",
    "    \n",
    "    ffreq = dfS.loc['SpatFreq cy/m'][colname]\n",
    "    rmsblur = dfS.loc['RMS jitter rad'][colname]\n",
    "    smearRate = dfS.loc['Linear smear rad/s'][colname]\n",
    "    ffreqmax = dfS.loc['SpatFreqMax cy/m'][colname]\n",
    "    obscuration = dfS.loc['MTF label'][colname]\n",
    "    \n",
    "    dfS.loc['MTF effective'][colname] = dfS.loc['MTF blur motion'][colname] \\\n",
    "                                * dfS.loc['MTF smear motion'][colname] \\\n",
    "                                * dfS.loc['MTF detector'][colname] \\\n",
    "                                * dfS.loc['MTF aberration'][colname] \\\n",
    "                                * dfS.loc['MTF diffraction'][colname]\n",
    "    p.resetPlotCol()\n",
    "    \n",
    "    p.plot(1+i, ffreq/1000., dfS.loc['MTF blur motion'][colname],\n",
    "           r'{}'.format(colname),'Frequency cy/mm','MTF',\n",
    "           label=[r'{} $\\mu$m rms blur'.format(rmsblur*1e6)]);\n",
    "    \n",
    "    p.plot(1+i, ffreq/1000., dfS.loc['MTF smear motion'][colname],\n",
    "           r'{}'.format(colname),'Frequency cy/mm','MTF',\n",
    "           label=[r'{} mrad/s smear rate'.format(smearRate*1e3)]);\n",
    "\n",
    "    p.plot(1+i, ffreq/1000., np.abs(dfS.loc['MTF detector'][colname]),\n",
    "           r'{}'.format(colname),'Frequency cy/mm','MTF',\n",
    "           label=[r'{} $\\mu$m pixel size'.format(pixsize*1e6)]);\n",
    "           \n",
    "    p.plot(1+i, ffreq/1000.,dfS.loc['MTF aberration'][colname], \n",
    "           r'{}'.format(colname),'Frequency cy/mm','MTF',\n",
    "           label =[r'{} spot size factor'.format(sratio)]) ;\n",
    "    \n",
    "    p.plot(1+i, ffreq/1000.,dfS.loc['MTF diffraction'][colname], \n",
    "           r'{}'.format(colname),'Frequency cy/mm','MTF',\n",
    "           label =[r'{} diffraction'.format(obscuration)], ) ; \n",
    "    \n",
    "    p.plot(1+i, ffreq/1000.,dfS.loc['MTF effective'][colname], \n",
    "           r'{}'.format(colname),'Frequency cy/mm','MTF',\n",
    "           label =[r'Effective MTF'], plotCol='k',\n",
    "           pltaxis =[0,ffreqmax/1000.,-0,1]) ;   \n",
    "    "
   ]
  },
  {
   "cell_type": "markdown",
   "metadata": {},
   "source": [
    "# Methodology"
   ]
  },
  {
   "cell_type": "markdown",
   "metadata": {},
   "source": [
    "The text for this section is take with minor changes from [G].\n",
    "\n",
    "In the optimization examples the optical aperture $D$ is considered the primary constraint, and thereafter\n",
    "the following process is followed:\n",
    "\n",
    "1. Using $D$, the pixel format and the pixel centre-to-centre dimension; the focal lengths $f$ are calculated for a series of FOVs.\n",
    "\n",
    "2. For each FOV the f-number is calculated and if it is less than a practical acceptable value, then the f-number is set to a chosen practical value.\n",
    "\n",
    "3. For the input source/background temperature the stare time $t_\\textrm{int}$ is adjusted until the detector well fill of 50% is achieved or until it reaches a limit determined by the frame time of the imaging sensor. The absolute well fill is calculated as $W_f = 100 \\, ( n_{\\textrm{scene}} + n_{\\textrm{optics}})\\,/ \\,W_c$ where $W_f$ is the actual well fill percentage,  $n_{\\textrm{scene}}$ is the scene electrons,     $n_{\\textrm{optics}}$ is the hot optics electrons, and  $W_c$ is total well capacity of the detector integration capacitor.\n",
    "\n",
    "4. The sensor and/or system designer is then required to input how much pixel-to-pixel minimal processable modulation (MPM) is required to process individual pixels with the integrity and robustness applicable to the application e.g. 5% modulation is required for video auto-tracking.\n",
    "\n",
    "5. All other sensor variables are manually input.\n",
    "\n",
    "6. The model is run and the result is plotted against the FOV.\n",
    "\n",
    "7. Finally the spatial frequency at which the required pixel-to-pixel MPM is achieved is calculated for each FOV and the model results from above is plotted against the spatial frequency at which the MPM is achieved."
   ]
  },
  {
   "cell_type": "code",
   "execution_count": null,
   "metadata": {
    "collapsed": false
   },
   "outputs": [],
   "source": [
    "# to set up the run investigating field of view\n",
    "\n",
    "for i,colname in enumerate(dfS.columns.values):\n",
    "    \n",
    "    wn =  np.linspace(1e4/dfS.loc['Spectral band Hi'][colname],\n",
    "                      1e4/dfS.loc['Spectral band Lo'][colname],300).reshape(-1,)\n",
    "    wl = 1e4 / wn # convert from wavenumber to wavelength\n",
    "    \n",
    "    maxFOV = dfS.loc['Maximum HFOV deg'][colname]\n",
    "    nFOVplot = 10\n",
    "    \n",
    "    # step 1 calculate focal lengths\n",
    "    fovs = np.linspace(maxFOV/nFOVplot, maxFOV, nFOVplot)\n",
    "    f = dfS.loc['Pixels H'][colname] * dfS.loc['Pixel size'][colname] / \\\n",
    "        (2. * np.tan(np.pi * fovs / (2. * 180.)))\n",
    "    fno = f / dfS.loc['Optics diameter'][colname]  \n",
    "    \n",
    "    # step 2 limit f-number\n",
    "    fno = np.where(fno < dfS.loc['F-number limit'][colname], 4., fno )\n",
    "    dfS.loc['Optics diameter'][colname] = f / fno\n",
    "    \n",
    "    # step 3 set stare time\n",
    "    #set integration time to 1.0, normalised - to be scaled later.\n",
    "    #nEcntThermal(wl, tmptr, emis, tauAtmo, tauFilt, tauOpt, quantEff, inttime, pfrac, detarea, fno):\n",
    "    inttime = 1\n",
    "    nEscene = nEcntThermal(wl*1e6, dfS.loc['Scene temperature'][colname], \n",
    "                      1.0, 1.0, 1.0, dfS.loc['Optical transmittance'][colname], \n",
    "                      dfS.loc['Quantum efficiency'][colname], \n",
    "                      inttime, \n",
    "                      (1-dfS.loc['Obscuration ratio'][colname]), \n",
    "                      dfS.loc['Pixel size'][colname] ** 2, fno)\n",
    "    nEoptics = nEcntThermal(wl*1e6, dfS.loc['Optics temperature'][colname], \n",
    "                      (1.0-dfS.loc['Optical transmittance'][colname]), 1.0, 1.0, 1.0, \n",
    "                      dfS.loc['Quantum efficiency'][colname], \n",
    "                      inttime, \n",
    "                      (1-dfS.loc['Obscuration ratio'][colname]), \n",
    "                      dfS.loc['Pixel size'][colname] ** 2, fno)\n",
    "    \n",
    "    \n",
    "    print(nEscene)\n",
    "    print(nEoptics)\n",
    "    print(nEscene+nEoptics)\n",
    "    print(' ')\n",
    "    \n",
    "#     print(dfS.loc['Optics diameter'][colname])\n",
    "#     print(' ')"
   ]
  },
  {
   "cell_type": "code",
   "execution_count": null,
   "metadata": {
    "collapsed": true
   },
   "outputs": [],
   "source": []
  },
  {
   "cell_type": "markdown",
   "metadata": {},
   "source": [
    "# Python and [module versions, and dates](http://nbviewer.ipython.org/github/jrjohansson/scientific-python-lectures/blob/master/Lecture-0-Scientific-Computing-with-Python.ipynb)"
   ]
  },
  {
   "cell_type": "code",
   "execution_count": null,
   "metadata": {
    "collapsed": false
   },
   "outputs": [],
   "source": [
    "%load_ext version_information\n",
    "%version_information numpy, scipy, matplotlib"
   ]
  }
 ],
 "metadata": {
  "kernelspec": {
   "display_name": "Python 2",
   "language": "python",
   "name": "python2"
  },
  "language_info": {
   "codemirror_mode": {
    "name": "ipython",
    "version": 2
   },
   "file_extension": ".py",
   "mimetype": "text/x-python",
   "name": "python",
   "nbconvert_exporter": "python",
   "pygments_lexer": "ipython2",
   "version": "2.7.11"
  }
 },
 "nbformat": 4,
 "nbformat_minor": 0
}
