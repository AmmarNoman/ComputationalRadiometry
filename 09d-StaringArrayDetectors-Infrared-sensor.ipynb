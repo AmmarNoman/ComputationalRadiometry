{
 "cells": [
  {
   "cell_type": "markdown",
   "metadata": {
    "run_control": {
     "frozen": false,
     "read_only": false
    }
   },
   "source": [
    "# Staring Array Modelling - Infrared sensor\n"
   ]
  },
  {
   "cell_type": "markdown",
   "metadata": {
    "run_control": {
     "frozen": false,
     "read_only": false
    }
   },
   "source": [
    "This notebook forms part of a series on [computational optical radiometry](https://github.com/NelisW/ComputationalRadiometry#computational-optical-radiometry-with-pyradi).  The notebooks can be downloaded from [Github](https://github.com/NelisW/ComputationalRadiometry#computational-optical-radiometry-with-pyradi). These notebooks are constantly revised and updated, please revisit from time to time.  \n",
    "\n",
    "\n",
    "[<img src=\"https://zenodo.org/badge/doi/10.5281/zenodo.9910.png\"   align=\"left\"/>](http://dx.doi.org/10.5281/zenodo.9910)\n"
   ]
  },
  {
   "cell_type": "markdown",
   "metadata": {
    "run_control": {
     "frozen": false,
     "read_only": false
    }
   },
   "source": [
    "The date of this document and module versions used in this document are given at the end of the file.  \n",
    "Feedback is appreciated: neliswillers at gmail dot com.   \n",
    "\n",
    "<font color=\"red\"> This is still a work in progress</font>"
   ]
  },
  {
   "cell_type": "markdown",
   "metadata": {
    "run_control": {
     "frozen": false,
     "read_only": false
    }
   },
   "source": [
    "## Overview"
   ]
  },
  {
   "cell_type": "markdown",
   "metadata": {
    "run_control": {
     "frozen": false,
     "read_only": false
    }
   },
   "source": [
    "The pyradi [`rystare`](http://nelisw.github.io/pyradi-docs/_build/html/rystare.html) module models the signal and noise in CCD and CMOS staring array sensors.  The code is originally based on the Matlab code described in *'High-level numerical simulations of noise in solid-state photosensors: review and tutorial'* by Mikhail Konnik and James Welsh, arXiv:1412.4031v1 [astro-ph.IM], available [here](http://arxiv.org/pdf/1412.4031.pdf).\n",
    "\n",
    "An earlier version (20161020) of a Python version of the model was presented at the Fourth SMEOS conference and was published in SPIE Proc 10036 (2016). The PDF is available here:  \n",
    "https://github.com/NelisW/pyradi/blob/master/pyradi/documentation/SM200-30-staring-array-modeling.pdf\n",
    "\n",
    "Good additional references for this work include James R Janesick's books ['Photon Transfer'](http://spie.org/Publications/Book/725073) and ['Scientific Charge-Coupled Devices'](http://spie.org/Publications/Book/374903)\n",
    "\n",
    "This notebook provides a description of the application of the model to an infrared sensor. Notebooks 09b and 09c provide an overview of the model and its application to a low light level visual sensor."
   ]
  },
  {
   "cell_type": "code",
   "execution_count": 1,
   "metadata": {
    "collapsed": false,
    "run_control": {
     "frozen": false,
     "read_only": false
    }
   },
   "outputs": [],
   "source": [
    "import numpy as np\n",
    "import scipy as sp\n",
    "import pandas as pd\n",
    "import re\n",
    "import os.path\n",
    "from scipy.optimize import curve_fit\n",
    "import datetime\n",
    "\n",
    "from matplotlib import cm as mcm\n",
    "import matplotlib.mlab as mlab\n",
    "import scipy.constants as const\n",
    "import collections\n",
    "\n",
    "import openpyxl as pyxl\n",
    "\n",
    "%matplotlib inline\n",
    "\n",
    "# %reload_ext autoreload\n",
    "# %autoreload 2\n",
    "\n",
    "# import xlsxwriter\n",
    "\n",
    "import pyradi.ryplot as ryplot\n",
    "import pyradi.ryfiles as ryfiles\n",
    "import pyradi.rystare as rystare\n",
    "import pyradi.ryutils as ryutils\n",
    "import pyradi.rypflux as rypflux\n",
    "import pyradi.ryplanck as ryplanck\n",
    "\n",
    "from IPython.display import HTML\n",
    "from IPython.display import Image\n",
    "from IPython.display import display\n",
    "from IPython.display import FileLink, FileLinks\n",
    "\n",
    "#make pngs at stated dpi\n",
    "import matplotlib as mpl\n",
    "plotdpi = 72\n",
    "mpl.rc(\"savefig\", dpi=plotdpi)\n",
    "mpl.rc('figure', figsize=(10,8))\n",
    "# %config InlineBackend.figure_format = 'svg'\n",
    "\n",
    "pd.set_option('display.max_columns', 80)\n",
    "pd.set_option('display.width', 200)\n",
    "pd.set_option('display.max_colwidth', 150)"
   ]
  },
  {
   "cell_type": "markdown",
   "metadata": {
    "run_control": {
     "frozen": false,
     "read_only": false
    }
   },
   "source": [
    "# Sensor image radiometry"
   ]
  },
  {
   "cell_type": "markdown",
   "metadata": {
    "run_control": {
     "frozen": false,
     "read_only": false
    }
   },
   "source": [
    "This description is taken from ''MWIR sensor well fill: sources, effects and mitigation'', Cornelius J. Willers and Tristan M. Goss, Fouth SMEOS Conference, SPIE Proc. 10036, (2016).   The radiometric theory used here was initially  developed by Willers the SPIE book ''Electro-Optical System Analysis and Design: A Radiometry Perspective'', C.J. Willers, Volume PM236, SPIE Press, 2013. http://spie.org/x648.html?product_id=2021423."
   ]
  },
  {
   "cell_type": "markdown",
   "metadata": {
    "run_control": {
     "frozen": false,
     "read_only": false
    }
   },
   "source": [
    "## Nonscene flux sources\n",
    "\n",
    "\n",
    "\n",
    "The contribution of various flux sources (scene, atmospheric path, sources in the optical aperture, including hot optics and narcissus) can be calculated from first principles.  It is very difficult to be completely correct, but with proper care good results can be readily obtained. \n",
    "In the analysis done here, the effect of the atmosphere is included in terms of scene flux attenuation and atmospheric path radiance.  Both factors play a significant role in the pixel well fill, particularly under poor atmospheric conditions or for long distance paths.\n",
    "\n",
    "For an optical medium $\\epsilon_\\lambda + \\rho_\\lambda + \\tau_\\lambda=1$, where $\\epsilon_\\lambda$ is the medium spectral emissivity, $\\rho_\\lambda$ is the medium spectral reflectance and $\\tau_\\lambda$ is the medium spectral transmittance.  Opaque surfaces have $\\tau_\\lambda=0$ and hence $\\epsilon_\\lambda = 1 - \\rho_\\lambda$. Nonreflective surfaces have\n",
    "$\\epsilon_\\lambda = 1 - \\tau_\\lambda$.\n",
    "Optical media and elements have nonzero emissivity, reflectance \\emph{and} transmittance.\n",
    "The lens elements will reflect the ambient barrel radiance\n",
    "$\\rho_{\\lambda\\textrm{o}} L_{\\lambda}(T_\\textrm{barrel})$\n",
    "and will emit\n",
    "$\\epsilon_{\\lambda\\textrm{o}}L_{\\lambda}(T_\\textrm{optics})$,\n",
    "where\n",
    "$L_{\\lambda}(T)$ is the spectral Planck-law radiation at temperature $T$,\n",
    "$T_\\textrm{barrel}$ the barrel temperature, and\n",
    "$T_\\textrm{optics}$ the optics (window and optical elements) temperature.\n",
    "\n",
    "![images/Radiometry12.png](images/Radiometry12.png)\n",
    "\n",
    "\n",
    "## Optical design with no narcissism\n",
    "\n",
    "The spectral flux emanating from the optics is\n",
    "$\\Phi_\\lambda=\\Omega_{f}A_{\\textrm{det}}\\left[\\tau_{\\lambda\\textrm{o}} L_{\\lambda\\textrm{entPupil}}+\\epsilon_{\\lambda\\textrm{o}} L_\\lambda(T_{\\textrm{optics}})+\\rho_{\\lambda\\textrm{o}} L_\\lambda(T_{\\textrm{barrel}})\\right]$,\n",
    "where\n",
    "$L_{\\lambda\\textrm{entPupil}} = \\tau_{\\lambda a}\\cos^4\\alpha \\,L_{\\lambda\\textrm{scene}} +\\cos^3\\alpha \\, L_{\\lambda\\textrm{path}}$ is the flux in the entrance pupil (coming from outside the sensor),\n",
    "$\\alpha$ is the optics field angle,\n",
    "$\\tau_{\\lambda a}$ is the atmospheric transmittance to the scene,\n",
    "$L_{\\lambda\\textrm{scene}}=\\epsilon_{\\lambda\\textrm{s}}L_\\lambda(T_\\textrm{scene}) $\n",
    "is the scene radiance,\n",
    "$\\epsilon_{\\lambda\\textrm{s}} $ is the scene emissivity,\n",
    "$L_{\\lambda\\textrm{path}}$ is the atmospheric path radiance,\n",
    "$\\Omega_{f}$ is the f-number cone solid angle,\n",
    "$A_{\\textrm{det}}$ is the detector area,\n",
    "$\\tau_{\\lambda\\textrm{o}}$ is the optics transmittance,\n",
    "$\\epsilon_{\\lambda\\textrm{o}}$ is the optics emissivity, and\n",
    "$\\rho_{\\lambda\\textrm{o}}$ is the optics reflectance.\n",
    "Assuming that the barrel and optics are at the same temperature $T_{\\textrm{optics}}=T_{\\textrm{barrel}}$,\n",
    "then\n",
    "$\\Phi_\\lambda=\\Omega_{f}A_{\\textrm{det}}\\left[\\tau_{\\lambda\\textrm{o}} L_{\\lambda\\textrm{entPupil}}+ L_\\lambda(T_{\\textrm{optics}})(\\epsilon_{\\lambda\\textrm{o}}+\\rho_{\\lambda\\textrm{o}})\\right],$\n",
    "but\n",
    "$(\\epsilon_{\\lambda\\textrm{o}}+\\rho_{\\lambda\\textrm{o}}) L_\\lambda(T_{\\textrm{optics}}) = (1-\\tau_{\\lambda\\textrm{o}})L_\\lambda(T_{\\textrm{optics}})$.\n",
    "Then\n",
    "$\\Phi_\\lambda=\\Omega_{f}A_{\\textrm{det}}\\left[\\tau_{\\lambda\\textrm{o}} L_{\\lambda\\textrm{entPupil}}+ L_\\lambda(T_{\\textrm{optics}})(1-\\tau_{\\lambda\\textrm{o}})\\right]$,\n",
    "hence the optics' 'effective emissivity' can be considered as everything that is not transmittance, leading to the simple model\n",
    "$\\epsilon_{\\lambda\\textrm{o}} = 1 -  \\tau_{\\lambda\\textrm{o}}$, and similarly for the filter\n",
    "$\\epsilon_{\\lambda\\textrm{f}} = 1 -  \\tau_{\\lambda\\textrm{f}}$.  This model only applies if $T_{\\textrm{optics}}=T_{\\textrm{barrel}}$, which is generally the case.\n",
    "Atmospheric path radiance is weighted with $\\cos^3\\alpha$ accounting for a  $\\cos\\alpha$ on detector incidence angle and $R^2/\\cos^2\\alpha$ on the slant chief ray.\n",
    "The $\\cos^4\\alpha$ factor for the scene additionally includes a $\\cos\\alpha$ on object incidence angle when viewing a small object with normal vector parallel with the optical axis.  This additional $\\cos\\alpha$ factor does not normally apply to an imaging sensor where the objects size exceeds the detector pixel footprint.\n",
    "The obstructions are assumed located between the lens and the detector, partially obscuring the lens radiance. If the obscuration, optics and barrel are all at the same temperature, this is a reasonable assumption.  If the obscuration elements are located in front of the lens, $(1-\\epsilon_{\\lambda\\textrm{o}} - \\rho_{\\lambda\\textrm{o}})L_\\lambda(T_{\\textrm{barrel}})$ will be transmitted, $\\epsilon_{\\lambda\\textrm{o}} L_\\lambda(T_{\\textrm{barrel}})$ will be emitted and $\\rho_{\\lambda\\textrm{o}} L_\\lambda(T_{\\textrm{barrel}})$  will reflect from the optical barrel, adding up to the radiance of an obscuration located behind the lens.  The optics and barrel form a closed cavity and it is assumed that the effective barrel emissivity is unity $\\epsilon_{\\lambda\\textrm{b}}=1$.\n",
    "\n",
    "\n"
   ]
  },
  {
   "cell_type": "markdown",
   "metadata": {
    "run_control": {
     "frozen": false,
     "read_only": false
    }
   },
   "source": [
    "\n"
   ]
  },
  {
   "cell_type": "markdown",
   "metadata": {
    "run_control": {
     "frozen": false,
     "read_only": false
    }
   },
   "source": [
    "## Optical design with narcissism\n",
    "\n",
    "![images/Radiometry16.png](images/Radiometry16.png)\n",
    "\n",
    "\n",
    "Narcissism is the phenomenon where the detector flux is reflected from one or more optical surfaces onto itself.  It is modeled as a rotatioanlly symmetric, spectrally constant, but field-angle-dependent reflective term $\\rho_n$, computed over the full optics aperture. The value  of $\\rho_n$ is determined by ray tracing, counting the fraction of rays emanating from the detector, that fall back onto the detector (reflection from the optics). \n",
    " This reflectance value is then used to reflect the cold stop onto itself, resulting in a negative/colder radiance compared to the hotter/positive radiance from the scene.\n",
    "\n",
    "\n",
    "The scene flux and the optics' emitted flux are not affected by the narcissism.  The reflectance from the optics now has two components, the reflected narcissism component and the reflected barrel component.\n",
    "With narcissism present, the total flux emanating from the lens elements is\n",
    "\\begin{equation}\n",
    "\\Phi_\\lambda=\\Omega_{f}A_{\\textrm{det}}\\left[\\tau_{\\lambda\\textrm{o}} L_{\\lambda\\textrm{entPupil}}+\\epsilon_{\\lambda\\textrm{o}} L_\\lambda(T_{\\textrm{optics}})+(\\rho_{\\lambda\\textrm{o}} - \\rho_{\\textrm{n}}) L_\\lambda(T_{\\textrm{barrel}})+\\rho_{\\textrm{n}}\\epsilon_{\\lambda\\textrm{c}} L_\\lambda(T_{\\textrm{cold}})\\right],\n",
    "\\end{equation}\n",
    "where $T_{\\textrm{cold}}$ is the cold shield temperature (assumed approximately the same as the detector temperature), and $\\epsilon_{\\lambda\\textrm{o}}$ is the cold shield cavity emissivity.\n",
    "Assuming that the barrel and optics are at the same temperature $T_{\\textrm{optics}}=T_{\\textrm{barrel}}$ and $(\\epsilon_{\\lambda\\textrm{o}}+\\rho_{\\lambda\\textrm{o}}) L_\\lambda(T_{\\textrm{optics}}) = (1-\\tau_{\\lambda\\textrm{o}})L_\\lambda(T_{\\textrm{optics}})$,\n",
    "then\n",
    "\\begin{equation}\n",
    "\\Phi_\\lambda=\\Omega_{f}A_{\\textrm{det}}\\left[\\tau_{\\lambda\\textrm{o}} L_{\\lambda\\textrm{entPupil}}+(1-\\tau_{\\lambda\\textrm{o}})L_\\lambda(T_{\\textrm{optics}})- \\rho_{\\textrm{n}}\\left[L_\\lambda(T_{\\textrm{optics}}) - \\epsilon_{\\lambda\\textrm{o}}L_\\lambda(T_{\\textrm{cold}})\\right]\\right].\n",
    "\\end{equation}\n",
    "$\\left[L_\\lambda(T_{\\textrm{optics}}) - \\epsilon_{\\lambda\\textrm{o}}L_\\lambda(T_{\\textrm{cold}})\\right]$ can be significant for a cryogenically cooled detector, and therefore, even small amounts of narcissism can contribute to reducing the flux on the detector.\n",
    "\n"
   ]
  },
  {
   "cell_type": "markdown",
   "metadata": {
    "run_control": {
     "frozen": false,
     "read_only": false
    },
    "variables": {
     "\\textrm{barrel": "<p><strong>SyntaxError</strong>: unexpected character after line continuation character (<ipython-input-2-a11a3c02a05b>, line 1)</p>\n",
     "\\textrm{cold": "<p><strong>SyntaxError</strong>: unexpected character after line continuation character (<ipython-input-2-ba54c1bb4443>, line 1)</p>\n"
    }
   },
   "source": [
    "## Well fill\n",
    "\n",
    "The contribution of the various elements to the total flux on the detector can be calculated from the elements' solid angles and radiances within each solid angle.  For the first order analysis the radiance values are assumed  uniform in the elements' solid angle. If the radiating sources are not uniform, the values used here can be considered the mean values of the respective radiators.\n",
    "The model shown here calculates the flux on the central pixel in the image. The values for other pixels will be slightly different, resulting from different solid angles to these pixels.\n",
    "The elements identified in this analysis and their solid angles are shown above. \n",
    "The spectral irradiance on the detector  (calculated in photon rate   $L_{q\\lambda}(T)$) is given by\n",
    "\\begin{eqnarray}\n",
    "E_{\\lambda\\textrm{det}} = \\frac{\\Phi_{\\lambda\\textrm{det}}}{A_{\\textrm{det}}}\n",
    "&=&\n",
    "+(\\Omega_3 -\\Omega_4 - \\Omega_5 )\\left[\n",
    " \\tau_{\\lambda\\textrm{o}}\\tau_{\\lambda f} L_{\\lambda\\textrm{entPupil}} +\n",
    "\\tau_{\\lambda f}(1 -\\tau_{\\lambda\\textrm{o}}) L_{\\lambda}(T_{\\textrm{optics}})\\right]\\nonumber\\\\\n",
    "&&+\n",
    "(\\Omega_3 -\\Omega_4 - \\Omega_5)\\tau_{\\lambda f}\n",
    "\\rho_{n} \\left[\n",
    "\\epsilon_{\\lambda\\textrm{o}}L_{\\lambda}(T_{\\textrm{cold}})\n",
    "-\n",
    "L_{\\lambda}(T_{\\textrm{optics}})\n",
    "\\right]\n",
    "\\nonumber\\\\\n",
    "&&+\n",
    "\\Omega_3  (1 -\\tau_{\\lambda f}) L_{\\lambda}(T_{\\textrm{filter}})\n",
    "+\n",
    "\\Omega_4 \\tau_{\\lambda f} \\epsilon_{\\lambda\\textrm{a-obs}} L_{\\lambda}(T_{\\textrm{a-obs}}) \\nonumber\\\\\n",
    "&&+\n",
    "\\Omega_5 \\tau_{\\lambda f} \\epsilon_{\\lambda\\textrm{c-obs}}  L_{\\lambda}(T_{\\textrm{c-obs}})\n",
    "+\n",
    "\\Omega_{2b}\\tau_{\\lambda f}\\epsilon_{\\lambda\\textrm{barrel}} L_{\\lambda}(T_{{\\textrm{barrel}}})\\nonumber\\\\\n",
    "&&+\n",
    "\\Omega_{2a}\\epsilon_{\\lambda\\textrm{barrel}} L_{\\lambda}(T_{{\\textrm{barrel}}})\n",
    "+\n",
    "\\Omega_{1}\\epsilon_{\\lambda\\textrm{c}} L_{\\lambda}(T_{{\\textrm{cold}}}),\n",
    "\\end{eqnarray}\n",
    "where\n",
    "$T_{\\textrm{filter}}$ is the filter  temperature (filter can be warm or cold),\n",
    "$T_{\\textrm{cold}}$ is the cold shield temperature,\n",
    "$T_{\\textrm{a-obs}}$ is any asymmetric obscuration temperature (if present),\n",
    "$T_{\\textrm{c-obs}}$ is the central obscuration temperature,\n",
    "$T_{\\textrm{cold}}$ is the detector/cold shield temperature,\n",
    "$\\rho_{n}$ is the narcissus reflectance (a function of field angle and rotational angle),\n",
    "$\\tau_{\\lambda f}$ is the filter transmittance,\n",
    "$\\epsilon_{\\lambda\\textrm{barrel}}$ is the barrel spectral emissivity,\n",
    "$\\epsilon_{\\lambda\\textrm{a-obs}}$ is the asymmetric  obscuration spectral emissivity,\n",
    "$\\epsilon_{\\lambda\\textrm{c-obs}}$ is the central obscuration spectral emissivity, and\n",
    "$\\epsilon_{\\lambda\\textrm{c}}$ is the cold shield spectral emissivity.\n",
    "\n",
    "\n",
    "The projected optics solid angle is given by\n",
    "$\\Omega_3 = \\pi\\sin^2\\theta = \\pi(\\textrm{NA})^2 = \\pi/(2F_\\#)^2$\n",
    "where $\\theta$ is the half apex angle of the f-number cone, and $\\textrm{NA}$ is the optics numerical aperture.  Other solid angles are derived similarly from the sensor geometry.\n",
    "The normalized  well fill is calculated as\n",
    "\\begin{equation}\n",
    "W_f = \\eta\\, E_{\\textrm{det}}\\, A_{\\textrm{det}}\\, t_i \\,/ \\,W_c,\n",
    "\\end{equation}\n",
    "where\n",
    "$\\eta$ is the detector quantum efficiency,\n",
    "$W_f$ is the actual normalized well fill,\n",
    "$E_{\\textrm{det}}$ is the spectrally integrated irradiance on the detector,\n",
    "$A_{\\textrm{det}}$ is the area of the detector,\n",
    "$t_i$ is the integration time, and\n",
    "$W_c$ is total well capacity of the detector charge well (integration capacitor).\n",
    "\n"
   ]
  },
  {
   "cell_type": "markdown",
   "metadata": {
    "run_control": {
     "frozen": false,
     "read_only": false
    }
   },
   "source": [
    "## Scene content"
   ]
  },
  {
   "cell_type": "markdown",
   "metadata": {
    "run_control": {
     "frozen": false,
     "read_only": false
    }
   },
   "source": [
    "Assuming no obscruration and ignoring barrel and filter radiance, but keeping the optics, narcissus and scene radiance the equation simplifies to the radiance in the f-number solid angle $\\Omega_f$ at the detector as \n",
    "\n",
    "\\begin{eqnarray}\n",
    "L_{\\lambda\\textrm{det}} = \\frac{\\Phi_{\\lambda\\textrm{det}}}{\\Omega_3A_d}\n",
    "&=&\n",
    "\\tau_{\\lambda f}\\tau_{\\lambda o}\\tau_{\\lambda a}\\cos^4\\alpha\\, L_{\\lambda}(T_{\\textrm{scene}}) \n",
    "+\n",
    "\\tau_{\\lambda f}\\tau_{\\lambda o}\\cos^3\\alpha\\, L_{\\lambda\\textrm{path}}\n",
    "+\n",
    "\\tau_{\\lambda f}(1 -\\tau_{\\lambda o}) L_{\\lambda}(T_{\\textrm{optics}})\n",
    "+\n",
    "\\tau_{\\lambda f}\\rho_{n}(\\alpha,r) \\left[\n",
    "L_{\\lambda}(T_{\\textrm{cold}})\n",
    "-\n",
    "L_{\\lambda}(T_{\\textrm{optics}})\n",
    "\\right]\n",
    "\\end{eqnarray}\n"
   ]
  },
  {
   "cell_type": "markdown",
   "metadata": {
    "run_control": {
     "frozen": false,
     "read_only": false
    }
   },
   "source": [
    "Assuming narcissism to be rotationally symmetrical $\\rho_{n}(\\alpha,r) =\\rho_{n}(\\alpha) $ and asumming horizontal paths close to the ground the path radiance can be written as $(1-\\tau_{\\lambda a}) L_{\\lambda}(T_{\\textrm{scene}})$. Also the $\\cos^4\\alpha$ factor often on average degrades to $\\cos^3\\alpha$ for random target orientations.\n",
    "\n",
    "\n",
    "\\begin{eqnarray}\n",
    "L_{\\lambda\\textrm{det}} = \\frac{\\Phi_{\\lambda\\textrm{det}}}{\\Omega_3A_d}\n",
    "&=&\n",
    "\\tau_{\\lambda f}\\tau_{\\lambda o}\\cos^3\\alpha\n",
    "\\left[\n",
    "\\tau_{\\lambda a} L_{\\lambda}(T_{\\textrm{scene}}) \n",
    "+\n",
    "(1-\\tau_{\\lambda a}) L_{\\lambda}(T_{\\textrm{scene}})\n",
    "\\right]\n",
    "+\n",
    "\\tau_{\\lambda f}(1 -\\tau_{\\lambda o}) L_{\\lambda}(T_{\\textrm{optics}})\n",
    "+\n",
    "\\tau_{\\lambda f}\\rho_{n}(\\alpha,r) \\left[\n",
    "L_{\\lambda}(T_{\\textrm{cold}})\n",
    "-\n",
    "L_{\\lambda}(T_{\\textrm{optics}})\n",
    "\\right]\n",
    "\\end{eqnarray}\n",
    "\n"
   ]
  },
  {
   "cell_type": "markdown",
   "metadata": {
    "run_control": {
     "frozen": false,
     "read_only": false
    }
   },
   "source": [
    "The integration time is calculated according to the upper-end radiance in the scene dynamic range. With the integration time known, the minimum/lower scene radiance is determined.  An externally-created infrared scene image can then be mapped such that the two minima align and the two maxima align.  This provides an image with a realistic infrared content, scaled into the well-fill range according to the appropriate sensor radiometry."
   ]
  },
  {
   "cell_type": "markdown",
   "metadata": {
    "run_control": {
     "frozen": false,
     "read_only": false
    }
   },
   "source": [
    "Considering the dynamic range in the scene that must be represented in the image the minimum and maximum radiance values are\n",
    "\n",
    "\\begin{eqnarray}\n",
    "L_{\\textrm{Min-det}}\n",
    "&=&\n",
    "\\tau_{\\lambda f}\\tau_{\\lambda o}\\cos^3\\alpha\n",
    "\\left[\n",
    "\\tau_{\\lambda a} L_{\\lambda}(T_{\\textrm{scene}}) \n",
    "+\n",
    "(1-\\tau_{\\lambda a}) L_{\\lambda}(T_{\\textrm{scene}})\n",
    "\\right]\n",
    "+\n",
    "\\tau_{\\lambda f}(1 -\\tau_{\\lambda o}) L_{\\lambda}(T_{\\textrm{optics}})\n",
    "+\n",
    "\\tau_{\\lambda f}\\rho_{n}(\\alpha,r) \\left[\n",
    "L_{\\lambda}(T_{\\textrm{cold}})\n",
    "-\n",
    "L_{\\lambda}(T_{\\textrm{optics}})\n",
    "\\right]\n",
    "\\end{eqnarray}\n",
    "\n",
    "\\begin{eqnarray}\n",
    "L_{\\textrm{Max-det}} \n",
    "&=&\\int_0^\\infty\\left(\n",
    "L_{\\lambda\\textrm{Min-det}}\n",
    "-\n",
    "\\tau_{\\lambda a}\\tau_{\\lambda f}\\tau_{\\lambda o}\\cos^3\\alpha\n",
    "\\left[\n",
    "L_{\\lambda}(T_{\\textrm{scene-min}}) \n",
    "-\n",
    "L_{\\lambda}(T_{\\textrm{scene-min}}+T_{\\textrm{dynamic}}) \n",
    "\\right]\n",
    "\\right)d\\lambda\n",
    "\\end{eqnarray}\n",
    "\n",
    "The value $L_{\\lambda\\textrm{Max-det}}$ corresponds to the maximum well fill allowed (as adjusted by setting the integration time) and $L_{\\lambda\\textrm{Min-det}}$ corresponds to the DC level in the well fill (the coldest object in the scene).\n",
    "\n",
    "Calculating the well fill from $W_f = \\eta\\, L_{\\textrm{det}}\\,\\Omega_3\\, A_d\\, t_i \\,/ (W_c)$ leading to\n",
    "\n"
   ]
  },
  {
   "cell_type": "markdown",
   "metadata": {
    "run_control": {
     "frozen": false,
     "read_only": false
    }
   },
   "source": [
    "To map an image with arbitrary grey-level scale to fill the charge well to the desired levels, execute the following algorithm:\n",
    "\n",
    "1. From the problem definition decide on values for \n",
    "$\\eta$, \n",
    "$A_d$, \n",
    "$W_c$,\n",
    "$\\Omega_3$,\n",
    "$\\tau_{\\lambda f}$, \n",
    "$\\tau_{\\lambda o}$, \n",
    "$T_{\\textrm{scene-min}}$,\n",
    "$T_{\\textrm{optics}}$,\n",
    "$T_{\\textrm{cold}}$, and \n",
    "$T_{\\textrm{dynamic}}$.\n",
    "\n",
    "2. For the initial calculations find scalar values that may give max well fill for \n",
    "$\\alpha$ (e.g., max alpha), and $\\rho_{n}(\\alpha)$ (e.g., the maximum value).\n",
    "\n",
    "3. Decide on a value of $W_{\\textrm{Max-det}}$\n",
    "\n",
    "4.  Use the target value for $W_{\\textrm{Max-det}}$ together with all the other known values to calculate the integration time $t_i$.\n",
    "\\begin{equation}\n",
    "t_i = \n",
    "\\frac{W_{\\textrm{Max-det}} W_c}{ A_d\\, \\Omega_3\\,}\\cdot\n",
    "\\frac{1}{\\int_0^\\infty \\eta\\,\\left(\n",
    "L_{\\lambda\\textrm{Min-det}}\n",
    "-\n",
    "\\tau_{\\lambda a}\\,\\tau_{\\lambda f}\\tau_{\\lambda o}\\cos^3\\alpha\n",
    "\\left[\n",
    "L_{\\lambda}(T_{\\textrm{scene-min}}) \n",
    "-\n",
    "L_{\\lambda}(T_{\\textrm{scene-min}}+T_{\\textrm{dynamic}}) \n",
    "\\right]\n",
    "\\right)d\\lambda}\n",
    "\\end{equation}\n",
    "\n",
    "5. Use the integration time $t_i$ and all the other known parameters to calculate $W_{\\textrm{Min-det}}$.\n",
    "\\begin{equation}\n",
    "W_{\\textrm{Min-det}} \n",
    "= \\frac{A_d\\, \\Omega_3\\, t_i}{W_c} \\int_0^\\infty \\eta\\,\\left(\n",
    "L_{\\lambda\\textrm{Min-det}}\n",
    "\\right)d\\lambda\n",
    "\\end{equation}\n",
    "\n",
    "6. Scale the input image grey level values to fall between the two limits $W_{\\textrm{Min-det}}$ and $W_{\\textrm{Max-det}}$.  At this point the image will have electron count values with appropriate well fill.\n",
    "\n",
    "7. Calculate the narcissus signal offset and add to the image\n",
    "\n",
    "\\begin{eqnarray}\n",
    "L_{\\textrm{Narc-det}}\n",
    "&=&\n",
    "\\tau_{\\lambda f}\\rho_{n}(\\alpha,r) \\left[\n",
    "L_{\\lambda}(T_{\\textrm{cold}})\n",
    "-\n",
    "L_{\\lambda}(T_{\\textrm{optics}})\n",
    "\\right]\n",
    "\\end{eqnarray}\n",
    "\n",
    "\\begin{eqnarray}\n",
    "W_{\\textrm{Narc-det}}\n",
    "&=&\n",
    "\\rho_{n}(\\alpha,r)\\, \\Omega_3\\, A_d\\, t_i \\,\n",
    "\\int_0^\\infty \\eta\\,\\tau_{\\lambda f} \\left[\n",
    "L_{\\lambda}(T_{\\textrm{cold}})\n",
    "-\n",
    "L_{\\lambda}(T_{\\textrm{optics}})\n",
    "\\right]d\\lambda\n",
    "\\end{eqnarray}\n"
   ]
  },
  {
   "cell_type": "code",
   "execution_count": 2,
   "metadata": {
    "collapsed": true,
    "run_control": {
     "frozen": false,
     "read_only": false
    }
   },
   "outputs": [],
   "source": [
    "# to define Selex detector properties\n",
    "\"\"\"This  dict defines the detector parameters\n",
    "\"\"\"\n",
    "\n",
    "dDetectorSpec = {\n",
    "    'Falcon':{\n",
    "        'WellCapacity':3.2e6,\n",
    "        'eta':0.5,\n",
    "        'fnumber':3.2,\n",
    "        'pitch':12e-6,\n",
    "        'fillfactor':0.95,    \n",
    "    },\n",
    "    'Super Hawk':{\n",
    "        'WellCapacity':3.1e6,\n",
    "        'eta':0.5,\n",
    "        'fnumber':3.2,\n",
    "        'pitch':12e-6,\n",
    "        'fillfactor':0.95,\n",
    "    } \n",
    "}\n"
   ]
  },
  {
   "cell_type": "code",
   "execution_count": 3,
   "metadata": {
    "collapsed": false,
    "run_control": {
     "frozen": false,
     "read_only": false
    }
   },
   "outputs": [],
   "source": [
    "## to define the input file name and define ranges in the spreadsheet\n",
    "# def readXLSnarcissus(inputfilename, sheet, wrange,colnames, position,field,rotang):\n",
    "#     \"\"\"\n",
    "#     \"\"\"\n",
    "    \n",
    "#     #load the narcissus electron count vs field angle\n",
    "#     wb = pyxl.load_workbook(inputfilename)\n",
    "#     # print(wb.get_sheet_names())\n",
    "#     ws = wb[sheet]\n",
    "\n",
    "#     #read the table from excel into dataframe, dropping some cols\n",
    "#     table = np.array([[cell.value for cell in col] for col in ws[wrange[0]:wrange[1]]])\n",
    "#     dfTable = pd.DataFrame(table, columns=colnames)\n",
    "#     # where possible convert all to numpy floats\n",
    "#     for ccol in dfTable.columns:\n",
    "#         try:\n",
    "#             dfTable[ccol] = dfTable[ccol].astype(np.float64)\n",
    "#         except:\n",
    "#             pass\n",
    "        \n",
    "#     narcProf = dfTable[position]\n",
    "\n",
    "#     profnarc = np.interp(field.reshape(-1,1), dfTable['Field'], dfTable[position])\n",
    "#     meshnarc = profnarc * np.ones(rotang.reshape(1,-1).shape)\n",
    "\n",
    "#     return meshnarc,profnarc\n",
    "\n",
    "# ls = ['Field','5','5.5','6','7','8','9.5','11.5','14','17','21','29','40']\n",
    "\n",
    "\n",
    "# # normalised field angle; the number of samples here is final output image size\n",
    "# field = np.linspace(0.,1.,100)\n",
    "# # rotational angle\n",
    "# rotang = np.linspace(0., 2.0 * np.pi, 720)\n",
    "# readXLSnarcissus('data/09d-narcsissus.xlsx',sheet=u'MWZoom',wrange=['A7','M32'],colnames=ls, position='5',field=field,rotang=rotang)"
   ]
  },
  {
   "cell_type": "code",
   "execution_count": 4,
   "metadata": {
    "collapsed": true,
    "run_control": {
     "frozen": false,
     "read_only": false
    }
   },
   "outputs": [],
   "source": [
    "images = {\n",
    "    'PtaDesert':{\n",
    "        'rows':6144,\n",
    "        'cols':6144,\n",
    "        'aspect':[1,1],\n",
    "        'path':'IR-background-images',\n",
    "        'files':['PtaDesert-13Dec07h00.bin','PtaDesert-13Dec14h00.bin','PtaDesert-13Dec18h00.bin',\n",
    "                'PtaDesert-13June07h00.bin','PtaDesert-13June14h00.bin','PtaDesert-13June18h00.bin']\n",
    "    },\n",
    "    'PtaInd':{\n",
    "        'rows':7680,\n",
    "        'cols':7680,\n",
    "        'aspect':[1,1],\n",
    "        'path':'IR-background-images',\n",
    "        'files':['PtaInd-13Dec07h00.bin','PtaInd-13Dec14h00.bin','PtaInd-13Dec18h00.bin',\n",
    "                'PtaInd-13June07h00.bin','PtaInd-13June14h00.bin','PtaInd-13June18h00.bin']\n",
    "    },\n",
    "    'boat-bw':{\n",
    "        'rows':2592,\n",
    "        'cols':3872,\n",
    "        'aspect':[2,1],\n",
    "        'path':'images',\n",
    "        'files':['boat-bw.png']\n",
    "    },\n",
    "}\n"
   ]
  },
  {
   "cell_type": "code",
   "execution_count": 5,
   "metadata": {
    "collapsed": true,
    "run_control": {
     "frozen": false,
     "read_only": false
    }
   },
   "outputs": [],
   "source": [
    "# to read an input image\n",
    "def readImage(filename, rows=None, cols=None, vartype=np.float64, loadFrames=[0] ):\n",
    "    if '.png' in filename:\n",
    "        return sp.ndimage.imread(filename, flatten=True, mode=None)\n",
    "    elif '.bin' in filename:\n",
    "        nfr,img = ryfiles.readRawFrames(filename, rows=rows, cols=cols, \n",
    "                                        vartype=vartype, loadFrames=loadFrames)\n",
    "        return img[0,:,:]\n",
    "        \n",
    "    return None"
   ]
  },
  {
   "cell_type": "code",
   "execution_count": 6,
   "metadata": {
    "collapsed": false,
    "run_control": {
     "frozen": false,
     "read_only": false
    }
   },
   "outputs": [],
   "source": [
    "## to read image sizes\n",
    "# for froot in images.keys():\n",
    "#     img = readImage('{}/{}'.format(images[froot]['path'],images[froot]['files'][0]), \n",
    "#                     rows=images[froot]['rows'], cols=images[froot]['cols'])\n",
    "#     print(froot,img.shape)\n",
    "    "
   ]
  },
  {
   "cell_type": "code",
   "execution_count": 7,
   "metadata": {
    "collapsed": false,
    "run_control": {
     "frozen": false,
     "read_only": false
    }
   },
   "outputs": [
    {
     "name": "stdout",
     "output_type": "stream",
     "text": [
      "Test example:\n",
      "Integration time is 3.09 ms\n",
      "solidAng  is 0.08 ms\n",
      "wellFillHotOpt  is 707601.15 e\n",
      "wellFillPath  is 331135.31 e\n",
      "wellFillSmin  is 496702.96 e\n",
      "wellFillSmax  is 1826370.48 e\n",
      "wellFillLnarc  is -165106.93 e\n",
      "wellFill max  is 2700000.00 e\n",
      "wellFill max  is 0.90 %\n"
     ]
    }
   ],
   "source": [
    "# to calculate the well fill, integration time and optics solid angle\n",
    "def calcTintWellFill(waven, eta, areaDet,fnumber, wellcapacity, taufilter, tauoptics, \n",
    "                    taua,tempSceneMin,tempOptics,tempCold,tempDynamic,\n",
    "                    alpha, maxNarc,wellFilMax):\n",
    "    \n",
    "    \"\"\"calculate values for integration time and min and max well fill according to scenario\n",
    "    \n",
    "    Input:  \n",
    "    waven wavenumber vector cm-1\n",
    "    eta quantum efficiency\n",
    "    areaDet detector area m2\n",
    "    wellcapacity well capacity e\n",
    "    taufilter\n",
    "    tauoptics\n",
    "    tempSceneMin minimum temp in the scene K\n",
    "    tempOptics\n",
    "    tempCold\n",
    "    tempDynamic difference between max and min temp in the scene\n",
    "    alpha field angle\n",
    "    rhonarc narcissus field angle\n",
    "    wellFilMax normalised value [0..1]\n",
    "    wellFilMin normalised value [0..1]\n",
    "     \n",
    "    \"\"\" \n",
    "    # For the initial calculations assume the image-averaged value for \n",
    "    # $\\rho_{n}(\\alpha)$ (e.g., the maximum value).\n",
    "    \n",
    "    solidAng = np.pi / (2 * fnumber)**2\n",
    "    # calculate the minimum radiance for all contributors\n",
    "    # scene minimum on optical axis  \n",
    "    Lscenemin = taua * taufilter * tauoptics * ryplanck.planck(waven, tempSceneMin, 'qn')\n",
    "    # scene maximum on optical axis  \n",
    "    Lscenemax = taua * taufilter * tauoptics * ryplanck.planck(waven, tempSceneMin+tempDynamic, 'qn')\n",
    "    # path on optical axis \n",
    "    Lpathmax = (1-taua) * taufilter * tauoptics * ryplanck.planck(waven, tempSceneMin, 'qn')\n",
    "    # optics constant value\n",
    "    Loptics = taufilter * (1. - tauoptics) * ryplanck.planck(waven, tempOptics, 'qn')\n",
    "    # narc constant value at max narc\n",
    "    Lnarc = taufilter * maxNarc * (ryplanck.planck(waven, tempCold, 'qn')-ryplanck.planck(waven, tempOptics, 'qn'))\n",
    "    \n",
    "    # max value is on axis\n",
    "    LMaxdet = (Lscenemax + Lpathmax + Loptics + Lnarc) \n",
    "    \n",
    "    #calc integration time from prescribed max well fill\n",
    "    tint = wellFilMax * wellcapacity / (areaDet * solidAng)\n",
    "    tint /= (np.trapz(eta * LMaxdet.reshape(-1, 1),waven, axis=0)[0])\n",
    "    \n",
    "    wffactor = areaDet * solidAng * tint\n",
    "    wellFillHotOpt = wffactor * (np.trapz(eta * Loptics.reshape(-1, 1),waven, axis=0)[0])\n",
    "    wellFillPath = wffactor * (np.trapz(eta * Lpathmax.reshape(-1, 1),waven, axis=0)[0])\n",
    "    wellFillSmin = wffactor * (np.trapz(eta * Lscenemin.reshape(-1, 1),waven, axis=0)[0])\n",
    "    wellFillSmax = wffactor * (np.trapz(eta * Lscenemax.reshape(-1, 1),waven, axis=0)[0])\n",
    "    wellFillLnarc = wffactor * (np.trapz(eta * Lnarc.reshape(-1, 1),waven, axis=0)[0])\n",
    "        \n",
    "    return tint, solidAng, wellFillHotOpt, wellFillPath, wellFillSmin, wellFillSmax, wellFillLnarc\n",
    "    \n",
    "# test code    \n",
    "waven = np.linspace(10000./4.8,10000./3.5,100)\n",
    "eta=.5\n",
    "areaDet=0.95*(12e-6)**2\n",
    "fnumber=3.2\n",
    "wellcapacity=3e6\n",
    "taufilter=0.8\n",
    "tauoptics=0.7\n",
    "taua=0.6\n",
    "tempSceneMin=300.\n",
    "tempOptics=320.\n",
    "tempCold=100.\n",
    "tempDynamic=40.\n",
    "alpha=0.\n",
    "maxNarc=0.07\n",
    "wellFilMax=0.9\n",
    "\n",
    "\n",
    "tint, solidAng, wellFillHotOpt, wellFillPath, wellFillSmin, wellFillSmax,wellFillLnarc = \\\n",
    "                        calcTintWellFill(waven, eta=eta, areaDet=areaDet,\n",
    "                          fnumber=fnumber, wellcapacity=wellcapacity, \n",
    "                          taufilter=taufilter, tauoptics=tauoptics, \n",
    "                          taua=taua,tempSceneMin=tempSceneMin,\n",
    "                          tempOptics=tempOptics,tempCold=tempCold,\n",
    "                          tempDynamic=tempDynamic, alpha=alpha, \n",
    "                          maxNarc=maxNarc,wellFilMax=wellFilMax)    \n",
    "\n",
    "print('Test example:')\n",
    "print('Integration time is {:.2f} ms'.format(1e3*tint))\n",
    "print('solidAng  is {:.2f} ms'.format(solidAng))\n",
    "print('wellFillHotOpt  is {:.2f} e'.format(wellFillHotOpt))\n",
    "print('wellFillPath  is {:.2f} e'.format(wellFillPath))\n",
    "print('wellFillSmin  is {:.2f} e'.format(wellFillSmin))\n",
    "print('wellFillSmax  is {:.2f} e'.format(wellFillSmax))\n",
    "print('wellFillLnarc  is {:.2f} e'.format(wellFillLnarc))\n",
    "print('wellFill max  is {:.2f} e'.format(wellFillHotOpt+wellFillPath+wellFillSmax+wellFillLnarc))\n",
    "print('wellFill max  is {:.2f} %'.format((wellFillHotOpt+wellFillPath+wellFillSmax+wellFillLnarc)/wellcapacity))\n"
   ]
  },
  {
   "cell_type": "code",
   "execution_count": 8,
   "metadata": {
    "collapsed": true,
    "run_control": {
     "frozen": false,
     "read_only": false
    }
   },
   "outputs": [],
   "source": [
    "def readNarcissus(iplt,narcfile,position,detector,field,rotang,dTMGnarc,\n",
    "                plotNarcProfile=False,plotNarcImages=False):\n",
    "    \n",
    "    meshnarc,profnarc = readXLSnarcissus(narcfile,position,field,rotang)    \n",
    "    #  meshnarc is a (r,theta) image, now convert to (x,y) with r==0 in the center\n",
    "    meshnarc_cartCirc = ryutils.warpPolarImageToCartesianImage(meshnarc)\n",
    "    # now we have the narcissus in (xy) coords, but for a full 2r disc\n",
    "\n",
    "    if plotNarcProfile:\n",
    "        iplt += 1\n",
    "        p = ryplot.Plotter(iplt,1,1,figsize=(12,5))\n",
    "        p.plot(1,field, meshnarc[:,0],\n",
    "            'Narcissus reflection',\n",
    "            'Normalised field angle','',label=['{}'.format(position)])\n",
    "\n",
    "    if plotNarcImages:\n",
    "        iplt += 1\n",
    "        n2 = ryplot.Plotter(iplt,1,2,figsize=(12,5))\n",
    "        n2.showImage(1,meshnarc, ptitle='Narcissus (r,theta)', cmap='gray', titlefsize=10,  \n",
    "                    cbarshow=True,cbarfontsize = 8);\n",
    "        n2.showImage(2,meshnarc_cartCirc, ptitle='Narcissus (x,y) circular', cmap='gray', titlefsize=10,  \n",
    "                    cbarshow=True,cbarfontsize = 8);\n",
    "\n",
    "    return meshnarc_cartCirc, iplt, meshnarc, profnarc\n"
   ]
  },
  {
   "cell_type": "code",
   "execution_count": 9,
   "metadata": {
    "collapsed": true,
    "run_control": {
     "frozen": false,
     "read_only": false
    }
   },
   "outputs": [],
   "source": [
    "# to calculate the degraded image\n",
    "\n",
    "def calcWellFillImage(narcfile, irInImgRawfn, dDetectorSpec=dDetectorSpec,detector='Falcon',\n",
    "                    outImgSize = 512, doPhotNoise = True,doPRNU = False,\n",
    "                    narcScale = 1.0, NU = 0.016,\n",
    "                    taufilter=0.8,tauoptics=0.7,taua=0.3,tempSceneMin=300.,\n",
    "                    tempOptics=320.,tempCold=100.,tempDynamic=40.,\n",
    "                    wellFilMax=0.9,saveImages=False,position='4.8d 176.0mm',\n",
    "                    iplt=0,plotStats=False,plotNarcProfile=False,plotDifference=False,\n",
    "                    plotNarcImages=False,wllo=3.5,wlhi=4.8,\n",
    "                    inputImgAsp = [9,16],doCosAlpha=False):\n",
    "\n",
    "    \"\"\"\n",
    "    narcfile (string) filename of file containing the narcissus info\n",
    "    irInImgRawfn (string) raw IR input image filename\n",
    "    dDetectorSpec (dict) containing the detector spec\n",
    "    detector (string) containing the detector name as key into dDetectorSpec\n",
    "    outImgSize (int) output image size \n",
    "    wellFilMax (float) the maximum well fill for max scene flux\n",
    "    position (string) id for the zoom lens position\n",
    "    taua (float) atmospheric transmittance\n",
    "    taufilter (float) filter transmittance\n",
    "    tauoptic (float) optics transmittance\n",
    "    NU (float) residual nonuniformity (normalised)\n",
    "    doPRNU (bool) switches nonuniformity on/off\n",
    "    doPhotNoise (bool) switches photon noise on/off\n",
    "    tempSceneMin (float) minimum temperature in the scene\n",
    "    tempCold (float) cold shield temperature\n",
    "    tempDynamic (float) dynamic range in the image\n",
    "    tempOptics (float)  optics temperature\n",
    "    iplt (int) keep track of plot IDs\n",
    "    saveImages (bool) (de)activate saving images to disk\n",
    "    plotStats (bool) (de)activate plotting statistics\n",
    "    plotNarcProfile (bool) (de)activate plotting narcissus profile\n",
    "    plotDifference (bool) (de)activate plotting difference between before and after\n",
    "    plotNarcImages (bool) (de)activate plotting narcissus images\n",
    "    narcScale (float) scaling factor to adjust narc profile\n",
    "    wllo (float) lower wavelength limit\n",
    "    wlhi (float) upper wavelength limit\n",
    "    inputImgAsp ([9,16]) defines image aspect ratio   \n",
    "    doCosAlpha if true include cosine^3alpha\n",
    "        \n",
    "    \"\"\"\n",
    "\n",
    "    irInImgRaw = readImage('{}/{}'.format(images[irInImgRawfn]['path'],images[irInImgRawfn]['files'][0]), \n",
    "                rows=images[irInImgRawfn]['rows'], cols=images[irInImgRawfn]['cols'])\n",
    "\n",
    "    \n",
    "    waven = np.linspace(10000./wlhi,10000./wllo,100)\n",
    "\n",
    "    eta = dDetectorSpec[detector]['eta']\n",
    "    wellcapacity = dDetectorSpec[detector]['WellCapacity']\n",
    "    fnumber = dDetectorSpec[detector]['fnumber']\n",
    "    areaDet = dDetectorSpec[detector]['fillfactor']*(dDetectorSpec[detector]['pitch'])**2.\n",
    "\n",
    "    # extract the FOV from position\n",
    "    fovdegH = float(position.split('d')[0])\n",
    "    #this FOV is full angle horizontal, now calculate half angle diagonal\n",
    "    fovradD = (np.pi/180.) * (fovdegH/2.) * \\\n",
    "            np.sqrt((inputImgAsp[0]/2.)**2. + (inputImgAsp[1]/2.)**2.) / (inputImgAsp[1]/2.)\n",
    "    \n",
    "    \n",
    "    if doCosAlpha:\n",
    "        cosalpha = 1.\n",
    "        cosalp = '*'\n",
    "    else:\n",
    "        cosalpha = 1.\n",
    "        cosalp = ''\n",
    "\n",
    "    str1 = '{} {} Tscene={:.0f} K, tauA={:.2f}%, Toptics={:.0f} K, '.format(\n",
    "                position,cosalp,tempSceneMin,taua,tempOptics)\n",
    "    str2 = 'tauO={:.2f}%, Tcold={:.0f} K, TDyn={:.0f} K, NU={}'.format(tauoptics,\n",
    "                                            tempCold,tempDynamic,doPRNU*NU)\n",
    "    strScen = str1 + str2\n",
    "    strFile = strScen.replace(' ','-')\n",
    "\n",
    "    # normalised field angle; the number of samples here is final output image size\n",
    "    field = np.linspace(0.,1.,outImgSize)\n",
    "    # rotational angle\n",
    "    rotang = np.linspace(0., 2.0 * np.pi, 720)\n",
    "\n",
    "    # read the narcissus\n",
    "    meshnarc_cartCirc,iplt,_,_ = readNarcissus(iplt,narcfile,position,detector,field,rotang,\n",
    "                    None,plotNarcProfile=plotNarcProfile,plotNarcImages=plotNarcImages)  \n",
    "    \n",
    "    # now clip narcr image to sensor aspect ratio\n",
    "    # calculate clipping window dimensions\n",
    "    aspect = np.asarray(inputImgAsp)\n",
    "    aspectRad = np.linalg.norm(aspect)\n",
    "    clip0 = np.asarray([0.5 - aspect[0]/(2*aspectRad), 0.5 + aspect[0]/(2*aspectRad), \n",
    "                        0.5 - aspect[1]/(2*aspectRad), 0.5 + aspect[1]/(2*aspectRad)])\n",
    "    # scale the normalised clip window to max dimension\n",
    "    clip = (clip0 * meshnarc_cartCirc.shape[0]).astype(np.int64)\n",
    "    # clip & remove crappy zero in the corner(s)\n",
    "    meshnarc_cart = meshnarc_cartCirc[clip[0]+2:clip[1]-2,clip[2]+2:clip[3]-2]\n",
    "\n",
    "    # calc the well fill, integration time and optics solid angle\n",
    "    tint, solidAng, wellFillHotOpt, wellFillPath, wellFillSmin, wellFillSmax, wellFillLnarc = \\\n",
    "                            calcTintWellFill(waven, eta=eta, areaDet=areaDet,\n",
    "                              fnumber=fnumber, wellcapacity=wellcapacity, \n",
    "                              taufilter=taufilter, tauoptics=tauoptics, \n",
    "                              taua=taua,tempSceneMin=tempSceneMin,\n",
    "                              tempOptics=tempOptics,tempCold=tempCold,\n",
    "                              tempDynamic=tempDynamic, alpha=fovradD, \n",
    "                              maxNarc = np.max(meshnarc_cart),wellFilMax=wellFilMax)        \n",
    "       \n",
    "    print('Integration time is {:.2f} ms'.format(1e3*tint))\n",
    "    print('solidAng  is {:.2f} ms'.format(solidAng))\n",
    "    print('wellFillHotOpt  is {:.2f} e'.format(wellFillHotOpt))\n",
    "    print('wellFillPath  is {:.2f} e'.format(wellFillPath))\n",
    "    print('wellFillSmin  is {:.2f} e'.format(wellFillSmin))\n",
    "    print('wellFillSmax  is {:.2f} e'.format(wellFillSmax))\n",
    "    print('wellFillLnarc  is {:.2f} e'.format(wellFillLnarc))\n",
    "    print('wellFill max  is {:.2f} e'.format(wellFillHotOpt+wellFillPath+wellFillSmax+wellFillLnarc))\n",
    "    print('wellFill max  is {:.2f} %'.format((wellFillHotOpt+wellFillPath+wellFillSmax+wellFillLnarc)/wellcapacity))\n",
    "\n",
    "    \n",
    "\n",
    "    #resize input image to the narc image\n",
    "    irInImg = sp.misc.imresize(irInImgRaw, (meshnarc_cart.shape))   \n",
    "    \n",
    "    #map input image to to target min & max of well capacity\n",
    "    imx = np.max(irInImg)\n",
    "    imn = np.min(irInImg)\n",
    "    Wscene =  ((irInImg - imn)*(wellFillSmax-wellFillSmin)/(imx-imn) + wellFillSmin)\n",
    "\n",
    "    #calculate the spatial hot optics\n",
    "    Whotopt = wellFillHotOpt * np.ones(Wscene.shape)\n",
    "    \n",
    "    irInImg = Whotopt + (Wscene + wellFillPath) * cosalpha \n",
    "    irInImgNoNoise = irInImg.copy()\n",
    "    \n",
    "    print(np.max(irInImg))\n",
    "\n",
    "    #------------------------------------------------\n",
    "\n",
    "    \n",
    "    #nonuniformity gain with unity mean and NU stddev\n",
    "    if doPRNU and NU>0.:\n",
    "        NUgain = np.random.normal(1, NU, (meshnarc_cart.shape[0],meshnarc_cart.shape[1]))\n",
    "    else:\n",
    "        NUgain = np.ones((meshnarc_cart.shape[0],meshnarc_cart.shape[1]))\n",
    "\n",
    "    # add photon noise per pixel, based on the value in the pixel\n",
    "    if doPhotNoise:\n",
    "        irInImg = ryutils.poissonarray(irInImg, seedval=1)\n",
    "\n",
    "    # analyse the photon noise\n",
    "    diffPhot = irInImgNoNoise - irInImg\n",
    "    hisPhot,binPhot = np.histogram(diffPhot,bins=50)\n",
    "\n",
    "    # analyse the PRNU\n",
    "    hisPRNU,binPRNU = np.histogram(NUgain,bins=50)\n",
    "\n",
    "    #now we have a proper photon signal with appropriate photon \n",
    "    \n",
    "    #calculate the spatial narcissus\n",
    "    Wnarc = meshnarc_cart * areaDet * solidAng * tint * np.trapz(eta * taufilter * ( \\\n",
    "                ryplanck.planck(waven, tempCold, 'qn')-ryplanck.planck(waven, tempOptics, 'qn')\\\n",
    "                                 ).reshape(-1, 1),waven, axis=0)[0]\n",
    "\n",
    "    Wnarc *= narcScale \n",
    "    # analyse the narc\n",
    "    hisnarc,binnarc = np.histogram(Wnarc,bins=50)\n",
    "\n",
    "    #image containing both narcissus and scene info\n",
    "    compimage = NUgain * (Wnarc + irInImg)\n",
    "    \n",
    "    wellfillMin = np.min(compimage) / wellcapacity\n",
    "    wellfillMax = np.max(compimage) / wellcapacity\n",
    "\n",
    "    #digitize the image \n",
    "    # to be done\n",
    "\n",
    "    print('Input filename:  {}'.format(narcfile))\n",
    "    print('Target well fill {:.4f}% to {:.4f}%'.format(wellfillMin, wellfillMax))\n",
    "    print(\"Input image: '{}', {}, {}\".format(irInImgRawfn, irInImgRaw.shape, type(irInImgRaw)))\n",
    "    print(\"Output image: '{}, {}\".format(irInImgRawfn, irInImg.shape, type(irInImg)))\n",
    "    print('Non-uniformity mean={} stddev={}'.format(np.mean(NUgain), np.std(NUgain)))\n",
    "    print('---------------------------')\n",
    "\n",
    "    if plotNarcImages:\n",
    "        iplt += 1\n",
    "        n3 = ryplot.Plotter(iplt,1,2,figsize=(12,5))\n",
    "        n3.showImage(1,meshnarc_cart, ptitle='Narcissus (x,y) clipped, reflection', cmap='gray', titlefsize=10,  \n",
    "                    cbarshow=True,cbarfontsize = 8);\n",
    "        n3.showImage(2,Wnarc, ptitle='Narcissus (x,y) clipped, e-', cmap='gray', titlefsize=10,  \n",
    "                    cbarshow=True,cbarfontsize = 8);\n",
    "\n",
    "    iplt += 1\n",
    "    r = ryplot.Plotter(iplt,1,1,figsize=(12,5))\n",
    "    r.showImage(1,irInImg, ptitle='Input: {}'.format(strScen), cmap='gray', titlefsize=10,  \n",
    "                cbarshow=True,cbarfontsize = 8);\n",
    "    \n",
    "    iplt += 1\n",
    "    r2 = ryplot.Plotter(iplt,1,1,figsize=(12,5))\n",
    "    r2.showImage(1,compimage, ptitle='Output: {}'.format(strScen), cmap='gray', titlefsize=10, \n",
    "                cbarshow=True,cbarfontsize = 8);\n",
    "    \n",
    "    if plotDifference:\n",
    "        iplt += 1\n",
    "        q = ryplot.Plotter(iplt,1,1,figsize=(12,12))\n",
    "        q.showImage(1,compimage-irInImg, ptitle='Difference: {}'.format(strScen), cmap='gray', titlefsize=10, \n",
    "                    cbarshow=True,cbarfontsize = 8);\n",
    "\n",
    "    if plotStats:\n",
    "        iplt += 1\n",
    "        qq = ryplot.Plotter(iplt,2,2,strScen,figsize=(12,12))\n",
    "        qq.plot(1,(binPhot[1:]+binPhot[:-1])/2.,hisPhot,'Photon noise','Noise e','Occurence' )\n",
    "        qq.plot(2,(binPRNU[1:]+binPRNU[:-1])/2.,hisPRNU,'Photo response nonuniformity','Response','Occurence' )\n",
    "        qq.plot(3,(binnarc[1:]+binnarc[:-1])/2.,hisnarc,'Narcissus','Electrons e','Occurence', maxNX=5 )\n",
    "        # qq.plot(3,(bindetnoise[1:]+bindetnoise[:-1])/2.,hisdetnoise,'Detector noise','Noise e','Occurence' )\n",
    "\n",
    "    if saveImages:\n",
    "        print('Saving images...')\n",
    "        misc.imsave(ryfiles.cleanFilename('Img-Narc-{}'.format(strFile)) + '.png', meshnarc_cart)\n",
    "        misc.imsave(ryfiles.cleanFilename('Img-Inpt-{}'.format('')) + '.png', irInImg)\n",
    "        misc.imsave(ryfiles.cleanFilename('Img-Outp-{}'.format(strFile)) + '.png', compimage)\n",
    "        misc.imsave(ryfiles.cleanFilename('Img-Diff-{}'.format(strFile)) + '.png', compimage-irInImg)\n",
    "        # q.saveFig('narc01.png')\n",
    "        # r.saveFig('narc02.png')\n",
    "    return iplt\n"
   ]
  },
  {
   "cell_type": "code",
   "execution_count": 10,
   "metadata": {
    "collapsed": false,
    "run_control": {
     "frozen": false,
     "read_only": false
    }
   },
   "outputs": [],
   "source": [
    "\n",
    "# iplt = 0\n",
    "# narcfile = 'data/MWIR ZOOM 18A All data.xlsx'\n",
    "# irInImgRawfn = 'PtaInd'  # 'PtaDesert','boat-bw'\n",
    "# iplt = calcWellFillImage(narcfile=narcfile,\n",
    "#                         irInImgRawfn=irInImgRawfn, \n",
    "#                         dDetectorSpec=dDetectorSpec,\n",
    "#                         detector='Falcon',\n",
    "#                         outImgSize=192,\n",
    "#                         wellFilMax=0.9,\n",
    "#                         position='37.0d 23.7mm',\n",
    "#                         taua=0.02, \n",
    "#                         taufilter=0.7,\n",
    "#                         tauoptics=0.7,\n",
    "#                         NU=0.0003, \n",
    "#                         doPRNU=True,\n",
    "#                         doPhotNoise = True,\n",
    "#                         tempSceneMin=300.,\n",
    "#                         tempCold=100.,\n",
    "#                         tempDynamic=40., \n",
    "#                         tempOptics=300.,\n",
    "#                         iplt=iplt,\n",
    "#                         saveImages=False,\n",
    "#                         plotStats=False,\n",
    "#                         plotNarcProfile=False,\n",
    "#                         plotDifference=False,\n",
    "#                         plotNarcImages=False,\n",
    "#                         narcScale = 1.0,\n",
    "#                         wllo=3.5,\n",
    "#                         wlhi=4.8,\n",
    "#                         inputImgAsp = [9,16] ,\n",
    "#                         doCosAlpha=True\n",
    "#                     )  \n",
    "                "
   ]
  },
  {
   "cell_type": "code",
   "execution_count": null,
   "metadata": {
    "collapsed": true,
    "run_control": {
     "frozen": false,
     "read_only": false
    }
   },
   "outputs": [],
   "source": []
  },
  {
   "cell_type": "code",
   "execution_count": null,
   "metadata": {
    "collapsed": true,
    "run_control": {
     "frozen": false,
     "read_only": false
    }
   },
   "outputs": [],
   "source": []
  },
  {
   "cell_type": "code",
   "execution_count": null,
   "metadata": {
    "collapsed": true,
    "run_control": {
     "frozen": false,
     "read_only": false
    }
   },
   "outputs": [],
   "source": []
  },
  {
   "cell_type": "markdown",
   "metadata": {
    "run_control": {
     "frozen": false,
     "read_only": false
    }
   },
   "source": [
    "# Infrared sensor example"
   ]
  },
  {
   "cell_type": "markdown",
   "metadata": {
    "run_control": {
     "frozen": false,
     "read_only": false
    }
   },
   "source": [
    "The infrared sensor example has the following design characteristics:\n",
    "\n",
    "| Characteristic | Value |Unit |  Motivation |\n",
    "|--|--|--|--| \n",
    "|Spectral response |3.7--4.9| $\\mu$m| detector specification|\n",
    "|Pixel size (x and y) |12| $\\mu$m| detector specification|\n",
    "|Pixel fill factor  |0.95| | detector specification|\n",
    "|Detector temperature  |80|K | detector specification|\n",
    "|Detector external quantum efficiency  |0.8| | detector specification|\n",
    "|Detector internal quantum efficiency  |0.75| | detector specification|\n",
    "|Number rows | 144 | - |  detector specification|\n",
    "|Number columns | 256 | - |  detector specification|\n",
    "|Detector PRNU  stddev | 0.2 | | detector specification|\n",
    "|Well capacity at 1 V|3.2e+6 |e | detector specification|\n",
    "|Sense node voltage| 3.0 $\\rightarrow$ 1.0 |V | detector specification|\n",
    "|F-number | 3.2 | - | detector specification|\n",
    "|Band gap 0~K | 0.235 | eV | material property|\n",
    "|Varshni A | 0.00068 |  | material model|\n",
    "|Varshni B | 500 |  | material model|\n",
    "|Dark FOM | 4e-9 | nA/cm$^2$ | material model|\n",
    "|Dark cm | 1 |  | material model|\n",
    "|Dark FPN stddev | 0.4 |  | material model|\n",
    "|Well capacitance at 1.0 V|5.13e-13| F | by calculation|\n",
    "|k1 | 5.13e-13 | CV |by calculation|\n",
    "|Gain at 1.0 V |3.125e-07 | V/e| by calculation|\n",
    "|Pixel IFOV (x and y) |100.0e-6| rad| design choice|\n",
    "|Frame time | 0.02 | s |  design choice|\n",
    "|Focal length | 0.12 | m | design choice|\n",
    "|Full field angle | 0.84 | deg| focal length and detector|\n",
    "\n",
    "Charge well (sense node) capacitance $C = nq/V$. The charge well is filled to capacity at the minimum sense node voltage $C = \\num{3.2e6}\\times\\num{1.6e-19}/1.0= \\num{0.513e-12}$~F.  Then $k_1=CV=\\num{0.513e-12}\\times 1=\\num{0.513e-12}$.\n",
    "\n",
    "Sense node gain is given by $V/n = q/C = \\num{1.6e-19}/\\num{0.513e-12}=\\num{3.12e-07}$ V/e.\n",
    "\n"
   ]
  },
  {
   "cell_type": "code",
   "execution_count": 11,
   "metadata": {
    "collapsed": false,
    "run_control": {
     "frozen": false,
     "read_only": false
    }
   },
   "outputs": [
    {
     "name": "stdout",
     "output_type": "stream",
     "text": [
      "Well capacitance 5.12696518656e-13 F at 1.0 V\n",
      "k1 is 5.12696518656e-13\n",
      "Gain 3.125e-07 V/e at 1.0 V\n"
     ]
    },
    {
     "data": {
      "image/png": "[encoded data removed]",
      "text/plain": [
       "<matplotlib.figure.Figure at 0xd4235f8>"
      ]
     },
     "metadata": {},
     "output_type": "display_data"
    }
   ],
   "source": [
    "nwell = 3.2e6\n",
    "vref = 3.0\n",
    "vsnmin = 1.0\n",
    "cwell = nwell * const.e / vsnmin\n",
    "k1 = cwell * vsnmin\n",
    "gain = const.e/cwell\n",
    "print('Well capacitance {} F at {} V'.format(cwell,vsnmin))\n",
    "print('k1 is {}'.format(k1))\n",
    "print('Gain {} V/e at {} V'.format(gain,vsnmin))\n",
    "\n",
    "nphelec = np.linspace(0,nwell,100)\n",
    "vsnp = np.linspace(vsnmin,vref,100)\n",
    "p = ryplot.Plotter(1,2,2,figsize=(12,8));\n",
    "p.plot(1,vsnp,1e15*k1/vsnp,'Capacitance vs voltage, k1={:.2e}'.format(k1),\n",
    "       '$V_{SN}$ V','Capacitance fF');\n",
    "vsignal = vref * (1.0 - np.exp(- nphelec * const.e / (k1)))\n",
    "vsn = vref * (np.exp(- nphelec * const.e / (k1)))\n",
    "p.plot(2,nphelec, vsignal,'Voltage on charge well capacitor','Number photoelectrons','Volts signal V',\n",
    "       label=['Signal voltage'],maxNX=5);\n",
    "p.plot(2,nphelec, vsn,label=['Sense node voltage'],maxNX=5);\n",
    "\n",
    "nelec = -(k1/const.e)*np.log(vsn/vref)\n",
    "p.plot(3, vsn, nelec,'Charge in well','$V_{SN}$ V','Electroncs',label=['$V_{SN}$'],maxNX=5);\n",
    "p.plot(4, vsn, 1e6*const.e*vsnp/k1,'Gain','$V_{SN}$ V','Gain $\\mu$V/e',label=['$A_{SN}$'],maxNX=5);\n"
   ]
  },
  {
   "cell_type": "markdown",
   "metadata": {
    "run_control": {
     "frozen": false,
     "read_only": false
    }
   },
   "source": [
    "\n",
    "The following code sets up the sensor model data for an infrared sensor.\n",
    "\n",
    "Files remaining open, not closed after use, poses a problem in the notebook context where cells may be executed indivdually.  To limit the occurence of open files we open and close the file in each cell."
   ]
  },
  {
   "cell_type": "code",
   "execution_count": 12,
   "metadata": {
    "collapsed": false,
    "run_control": {
     "frozen": false,
     "read_only": false
    }
   },
   "outputs": [],
   "source": [
    "#set up the parameters for this run and open the HDF5 file\n",
    "outfilenameIR = 'OutputIR'\n",
    "prefix = 'PA'\n",
    "hfname = 'image-StairIR-raw-100-256.hdf5'\n",
    "urlname = 'https://github.com/NelisW/pyradi/raw/master/pyradi/data/{}'.format(hfname)\n",
    "pathtoimage = ryfiles.downloadFileUrl(urlname,saveFilename=hfname)\n",
    "\n",
    "#open the file to create data structure and store the results, remove if exists\n",
    "hdffilenameIR = '{}{}.hdf5'.format(prefix, outfilenameIR)\n",
    "if os.path.isfile(hdffilenameIR):\n",
    "    os.remove(hdffilenameIR)"
   ]
  },
  {
   "cell_type": "code",
   "execution_count": 13,
   "metadata": {
    "collapsed": false,
    "run_control": {
     "frozen": false,
     "read_only": false
    }
   },
   "outputs": [],
   "source": [
    "strh5 = ryfiles.open_HDF(hdffilenameIR)\n",
    "\n",
    "# Optics parameters to convert from radiance to irradiance in the image plane\n",
    "strh5['rystare/fnumber'] = 3.2\n",
    "#  solid angle = pi*sin^2(theta), sin(theta) = 1 / (2*fno)\n",
    "strh5['rystare/fnumberConeSr'] = np.pi / ((2. * strh5['rystare/fnumber'].value)**2.)  # solid angle optics from detector\n",
    "\n",
    "# Light Noise parameters\n",
    "strh5['rystare/photonshotnoise/activate'] = True #photon shot noise.\n",
    "\n",
    "#sensor parameters\n",
    "strh5['rystare/sensortype'] = 'CMOS' # CMOS/CCD must be in capitals\n",
    "\n",
    "strh5['rystare/photondetector/operatingtemperature'] = 80. # operating temperature, [K]\n",
    "strh5['rystare/photondetector/geometry/fillfactor'] = 0.95 # Pixel Fill Factor for full-frame CCD photo sensors.\n",
    "strh5['rystare/photondetector/integrationtime'] = 0.005 # Exposure/Integration time, [sec].\n",
    "strh5['rystare/photondetector/externalquantumeff'] = 1.  # external quantum efficiency, fraction not reflected.\n",
    "strh5['rystare/photondetector/quantumyield'] = 1. # number of electrons absorbed per one photon into material bulk\n",
    "\n",
    "# photo response non-uniformity noise (PRNU), or also called light Fixed Pattern Noise (light FPN)\n",
    "strh5['rystare/photondetector/lightPRNU/activate'] = True\n",
    "strh5['rystare/photondetector/lightPRNU/seed'] = 362436069\n",
    "strh5['rystare/photondetector/lightPRNU/model'] = 'Janesick-Gaussian' \n",
    "strh5['rystare/photondetector/lightPRNU/sigma'] = 0.002 # sigma [about 1\\% for CCD and up to 5% for CMOS];\n",
    "\n",
    "# detector material bandgap properties \n",
    "strh5['rystare/photondetector/varshni/Egap0'] = 0.235  #bandgap energy for 0 degrees of K. [eV]\n",
    "strh5['rystare/photondetector/varshni/varA'] = 3e-04 #Si material parameter, [eV/K].\n",
    "strh5['rystare/photondetector/varshni/varB'] = 500. #Si material parameter, [K].\n",
    "\n",
    "# Dark Current Noise parameters\n",
    "strh5['rystare/photondetector/darkcurrent/activate'] = True\n",
    "strh5['rystare/photondetector/darkcurrent/ca'] = 2.78e4 # for density in m2\n",
    "strh5['rystare/photondetector/darkcurrent/ed'] = 2. \n",
    "strh5['rystare/photondetector/darkcurrent/densityAm2'] = 2e-6 # dark current density [A/m2].  \n",
    "strh5['rystare/photondetector/darkcurrent/shotnoise/activate'] = True # dark current shot noise\n",
    "strh5['rystare/photondetector/darkcurrent/shotnoise/seed'] = 6214069 \n",
    "strh5['rystare/photondetector/darkcurrent/shotnoise/model'] = 'Gaussian' \n",
    "\n",
    "#dark current Fixed Pattern uniformity \n",
    "strh5['rystare/photondetector/darkcurrent/fixedPatternNoise/activate'] = True\n",
    "strh5['rystare/photondetector/darkcurrent/fixedPatternNoise/seed'] = 362436128\n",
    "strh5['rystare/photondetector/darkcurrent/fixedPatternNoise/model'] = 'Janesick-Gaussian' #suitable for long exposures\n",
    "strh5['rystare/photondetector/darkcurrent/fixedPatternNoise/sigma'] = 0.4 #lognorm_sigma.\n",
    "\n",
    "#sense node charge to voltage\n",
    "strh5['rystare/sensenode/gain'] = 3.125e-07 # Sense node gain, A_SN [V/e]\n",
    "strh5['rystare/sensenode/vrefreset'] = 3. # Reference voltage to reset the sense node. [V] typically 3-10 V.\n",
    "strh5['rystare/sensenode/vsnmin'] = 1.0 # Minimum voltage on sense node, max well charge [V] typically < 1 V.\n",
    "strh5['rystare/sensenode/gainresponse/type'] = 'linear'\n",
    "strh5['rystare/sensenode/gainresponse/k1'] = 5.13e-13 # nonlinear capacitance is given by C =  k1/V\n",
    "if strh5['rystare/sensenode/gainresponse/type'] in ['nonlinear']:\n",
    "    strh5['rystare/sensenode/fullwellelectronselection/fullwellelectrons'] = \\\n",
    "        -(strh5['rystare/sensenode/gainresponse/k1'].value/const.e) * \\\n",
    "        np.log(strh5['rystare/sensenode/vsnmin'].value/strh5['rystare/sensenode/vrefreset'].value)\n",
    "else:\n",
    "    strh5['rystare/sensenode/fullwellelectronselection/fullwellelectrons'] = 3.2e6 # full well of the pixel (how many electrons can be stored in one pixel), [e]\n",
    "strh5['rystare/sensenode/resetnoise/activate'] = True\n",
    "strh5['rystare/sensenode/resetnoise/seed'] = 2154069 \n",
    "strh5['rystare/sensenode/resetnoise/model'] = 'Gaussian' \n",
    "strh5['rystare/sensenode/resetnoise/factor'] = 0.8 #[0,1]the compensation factor of the Sense Node Reset Noise: \n",
    "\n",
    "#source follower\n",
    "strh5['rystare/sourcefollower/gain'] = 1. # Source follower gain, [V/V], lower means amplify the noise.\n",
    "strh5['rystare/sourcefollower/dataclockspeed'] = 10e6 #Hz data rate clocking speed.\n",
    "strh5['rystare/sourcefollower/freqsamplingdelta'] = 10000. #Hz spectral sampling spacing\n",
    "strh5['rystare/sourcefollower/noise/activate'] = True\n",
    "strh5['rystare/sourcefollower/noise/seed'] = 6724069\n",
    "strh5['rystare/sourcefollower/noise/flickerCornerHz'] = 1e6 #flicker noise corner frequency $f_c$ in [Hz], where power spectrum of white and flicker noise are equal [Hz].\n",
    "strh5['rystare/sourcefollower/noise/whitenoisedensity'] = 15e-9 #thermal white noise [\\f$V/Hz^{1/2}\\f$, typically \\f$15 nV/Hz^{1/2}\\f$ ]\n",
    "strh5['rystare/sourcefollower/noise/deltaindmodulation'] = 1e-8 #[A] source follower current modulation induced by RTS [CMOS ONLY]\n",
    "strh5['rystare/sourcefollower/nonlinearity/activate'] = True\n",
    "strh5['rystare/sourcefollower/nonlinearity/ratio'] = 1.05 # > 1 for lower signal, < 1 for higher signal\n",
    "\n",
    "#dark current Offset Fixed Pattern \n",
    "strh5['rystare/sourcefollower/fpoffset/activate'] = True\n",
    "strh5['rystare/sourcefollower/fpoffset/model'] = 'Janesick-Gaussian'\n",
    "strh5['rystare/sourcefollower/fpoffset/sigma'] = 0.0005 # percentage of (V_REF - V_SN)\n",
    "strh5['rystare/sourcefollower/fpoffset/seed'] = 362436042\n",
    "\n",
    "# Correlated Double Sampling (CDS)\n",
    "strh5['rystare/sourcefollower/CDS/gain'] = 1. # CDS gain, [V/V], lower means amplify the noise.\n",
    "strh5['rystare/sourcefollower/CDS/sampletosamplingtime'] = 1e-6 #CDS sample-to-sampling time [sec].\n",
    "\n",
    "# Analogue-to-Digital Converter (ADC)\n",
    "strh5['rystare/ADC/num-bits'] = 16. # noise is more apparent on high Bits\n",
    "strh5['rystare/ADC/offset'] = 0. # Offset of the ADC, in DN\n",
    "strh5['rystare/ADC/nonlinearity/activate'] = True \n",
    "strh5['rystare/ADC/nonlinearity/ratio'] = 1.05\n",
    "\n",
    "#For testing and measurements only:\n",
    "strh5['rystare/darkframe'] = False # True if no signal, only dark\n",
    "\n",
    "    \n",
    "strh5.flush()\n",
    "strh5.close()"
   ]
  },
  {
   "cell_type": "code",
   "execution_count": null,
   "metadata": {
    "collapsed": true,
    "run_control": {
     "frozen": false,
     "read_only": false
    }
   },
   "outputs": [],
   "source": []
  },
  {
   "cell_type": "markdown",
   "metadata": {
    "run_control": {
     "frozen": false,
     "read_only": false
    }
   },
   "source": [
    "Download the image file from the GitHub directory. Normally you will prepare this file for your specific application.  The format for this file is described [here](file:///V:/work/WorkN/pyradi/pyradi-docs/_build/html/rytarggen.html#pyradi.rytarggen.create_HDF5_image)."
   ]
  },
  {
   "cell_type": "code",
   "execution_count": 14,
   "metadata": {
    "collapsed": true,
    "run_control": {
     "frozen": false,
     "read_only": false
    }
   },
   "outputs": [],
   "source": [
    "\n",
    "if pathtoimage is not None:\n",
    "    imghd5 = ryfiles.open_HDF(pathtoimage)\n",
    "else:\n",
    "    imghd5 = None  "
   ]
  },
  {
   "cell_type": "markdown",
   "metadata": {
    "run_control": {
     "frozen": false,
     "read_only": false
    }
   },
   "source": [
    "The input data has been set up, now execute the model. To test the model performance at the limits, uncomment one of the two `scaleInput` lines.  The first line provides a signal with small SNR whereas the second line provides a signal that saturates the well."
   ]
  },
  {
   "cell_type": "code",
   "execution_count": 15,
   "metadata": {
    "collapsed": false,
    "run_control": {
     "frozen": false,
     "read_only": false
    }
   },
   "outputs": [
    {
     "ename": "TypeError",
     "evalue": "unsupported operand type(s) for *: 'int' and 'Dataset'",
     "output_type": "error",
     "traceback": [
      "\u001b[0;31m---------------------------------------------------------------------------\u001b[0m",
      "\u001b[0;31mTypeError\u001b[0m                                 Traceback (most recent call last)",
      "\u001b[0;32m<ipython-input-15-a9986b5f2788>\u001b[0m in \u001b[0;36m<module>\u001b[0;34m()\u001b[0m\n\u001b[1;32m      8\u001b[0m \u001b[1;33m\u001b[0m\u001b[0m\n\u001b[1;32m      9\u001b[0m     \u001b[0mstrh5\u001b[0m\u001b[1;33m[\u001b[0m\u001b[1;34m'rystare/equivalentSignal'\u001b[0m\u001b[1;33m]\u001b[0m \u001b[1;33m=\u001b[0m \u001b[0mscaleInput\u001b[0m \u001b[1;33m*\u001b[0m \u001b[0mimghd5\u001b[0m\u001b[1;33m[\u001b[0m\u001b[1;34m'image/equivalentSignal'\u001b[0m\u001b[1;33m]\u001b[0m\u001b[1;33m.\u001b[0m\u001b[0mvalue\u001b[0m\u001b[1;33m\u001b[0m\u001b[0m\n\u001b[0;32m---> 10\u001b[0;31m     \u001b[0mstrh5\u001b[0m\u001b[1;33m[\u001b[0m\u001b[1;34m'rystare/signal/photonRateIrradianceNoNoise'\u001b[0m\u001b[1;33m]\u001b[0m \u001b[1;33m=\u001b[0m \u001b[0mscaleInput\u001b[0m \u001b[1;33m*\u001b[0m \u001b[0mstrh5\u001b[0m\u001b[1;33m[\u001b[0m\u001b[1;34m'rystare/fnumberConeSr'\u001b[0m\u001b[1;33m]\u001b[0m \u001b[1;33m*\u001b[0m                         \u001b[0mimghd5\u001b[0m\u001b[1;33m[\u001b[0m\u001b[1;34m'image/PhotonRateRadianceNoNoise'\u001b[0m\u001b[1;33m]\u001b[0m\u001b[1;33m.\u001b[0m\u001b[0mvalue\u001b[0m\u001b[1;33m\u001b[0m\u001b[0m\n\u001b[0m\u001b[1;32m     11\u001b[0m     \u001b[0mstrh5\u001b[0m\u001b[1;33m[\u001b[0m\u001b[1;34m'rystare/signal/photonRateIrradiance'\u001b[0m\u001b[1;33m]\u001b[0m \u001b[1;33m=\u001b[0m \u001b[0mscaleInput\u001b[0m \u001b[1;33m*\u001b[0m \u001b[0mstrh5\u001b[0m\u001b[1;33m[\u001b[0m\u001b[1;34m'rystare/fnumberConeSr'\u001b[0m\u001b[1;33m]\u001b[0m \u001b[1;33m*\u001b[0m                         \u001b[0mimghd5\u001b[0m\u001b[1;33m[\u001b[0m\u001b[1;34m'image/PhotonRateRadiance'\u001b[0m\u001b[1;33m]\u001b[0m\u001b[1;33m.\u001b[0m\u001b[0mvalue\u001b[0m\u001b[1;33m\u001b[0m\u001b[0m\n\u001b[1;32m     12\u001b[0m     \u001b[0mstrh5\u001b[0m\u001b[1;33m[\u001b[0m\u001b[1;34m'rystare/pixelPitch'\u001b[0m\u001b[1;33m]\u001b[0m \u001b[1;33m=\u001b[0m \u001b[0mimghd5\u001b[0m\u001b[1;33m[\u001b[0m\u001b[1;34m'image/pixelPitch'\u001b[0m\u001b[1;33m]\u001b[0m\u001b[1;33m.\u001b[0m\u001b[0mvalue\u001b[0m\u001b[1;33m\u001b[0m\u001b[0m\n",
      "\u001b[0;31mTypeError\u001b[0m: unsupported operand type(s) for *: 'int' and 'Dataset'"
     ]
    }
   ],
   "source": [
    "##\n",
    "scaleInput = 1 \n",
    "\n",
    "if imghd5 is not None:\n",
    "    strh5 = ryfiles.open_HDF(hdffilenameIR)\n",
    "    \n",
    "    #images must be in photon rate irradiance units q/(m2.s)\n",
    "    \n",
    "    strh5['rystare/equivalentSignal'] = scaleInput * imghd5['image/equivalentSignal'].value\n",
    "    strh5['rystare/signal/photonRateIrradianceNoNoise'] = scaleInput * strh5['rystare/fnumberConeSr'].value * \\\n",
    "                        imghd5['image/PhotonRateRadianceNoNoise'].value\n",
    "    strh5['rystare/signal/photonRateIrradiance'] = scaleInput * strh5['rystare/fnumberConeSr'].value * \\\n",
    "                        imghd5['image/PhotonRateRadiance'].value\n",
    "    strh5['rystare/pixelPitch'] = imghd5['image/pixelPitch'].value\n",
    "    strh5['rystare/imageName'] = imghd5['image/imageName'].value\n",
    "    strh5['rystare/imageFilename'] = imghd5['image/imageFilename'].value\n",
    "    strh5['rystare/imageSizePixels'] = imghd5['image/imageSizePixels'].value\n",
    "    strh5['rystare/wavelength'] = imghd5['image/wavelength'].value\n",
    "    strh5['rystare/imageSizeRows'] = imghd5['image/imageSizeRows'].value\n",
    "    strh5['rystare/imageSizeCols'] = imghd5['image/imageSizeCols'].value\n",
    "    strh5['rystare/imageSizeDiagonal'] = imghd5['image/imageSizeDiagonal'].value\n",
    "    strh5['rystare/equivalentSignalUnit'] = imghd5['image/equivalentSignalUnit'].value\n",
    "    strh5['rystare/equivalentSignalType'] = imghd5['image/equivalentSignalType'].value\n",
    "    strh5['rystare/LinUnits'] = imghd5['image/LinUnits'].value\n",
    "\n",
    "    #calculate the noise and final images\n",
    "    strh5 = rystare.photosensor(strh5) # here the Photon-to-electron conversion occurred.\n",
    "    strh5.flush()\n",
    "    strh5.close()\n"
   ]
  },
  {
   "cell_type": "code",
   "execution_count": null,
   "metadata": {
    "collapsed": false,
    "run_control": {
     "frozen": false,
     "read_only": false
    }
   },
   "outputs": [],
   "source": [
    "print(hdffilenameIR)"
   ]
  },
  {
   "cell_type": "markdown",
   "metadata": {
    "run_control": {
     "frozen": false,
     "read_only": false
    }
   },
   "source": [
    "Print some statistics of the sensor, noise and image"
   ]
  },
  {
   "cell_type": "code",
   "execution_count": null,
   "metadata": {
    "collapsed": false,
    "run_control": {
     "frozen": false,
     "read_only": false
    }
   },
   "outputs": [],
   "source": [
    "print(rystare.get_summary_stats(hdffilenameIR))"
   ]
  },
  {
   "cell_type": "markdown",
   "metadata": {
    "run_control": {
     "frozen": false,
     "read_only": false
    }
   },
   "source": [
    "Print some statistics of the sensor, noise and image"
   ]
  },
  {
   "cell_type": "code",
   "execution_count": null,
   "metadata": {
    "collapsed": false,
    "run_control": {
     "frozen": false,
     "read_only": false
    }
   },
   "outputs": [],
   "source": [
    "#open the sensor data file\n",
    "%matplotlib inline\n",
    "strh5 = ryfiles.open_HDF(hdffilenameIR)\n",
    "p = ryplot.Plotter(1,1,1,figsize=(10,4))\n",
    "p.logLog(1, strh5['rystare/sourcefollower/noise/spectralfreq'].value.T, \n",
    "         strh5['rystare/sourcefollower/noise/cdsgain'].value.T,'CDS Response',\n",
    "        'Frequency Hz','Transfer function')\n",
    "q = ryplot.Plotter(2,1,1,figsize=(10,4))\n",
    "q.logLog(1, strh5['rystare/sourcefollower/noise/spectralfreq'].value.T, \n",
    "         np.sqrt(strh5['rystare/sourcefollower/noise/spectrumwhiteflicker'].value.T),label=['White and 1/f in'])\n",
    "if strh5['rystare/sensortype'].value in ['CMOS']:\n",
    "    q.logLog(1, strh5['rystare/sourcefollower/noise/spectralfreq'].value.T, \n",
    "         np.sqrt(strh5['rystare/sourcefollower/noise/spectrumRTN'].value.T), label=['Burst / RTN in'])\n",
    "q.logLog(1, strh5['rystare/sourcefollower/noise/spectralfreq'].value.T, \n",
    "         np.sqrt(strh5['rystare/sourcefollower/noise/spectrumtotal'].value.T),label=['Total in'])\n",
    "q.logLog(1, strh5['rystare/sourcefollower/noise/spectralfreq'].value.T, \n",
    "         np.sqrt(strh5['rystare/sourcefollower/noise/spectrumtotal'].value.T) * strh5['rystare/sourcefollower/noise/cdsgain'].value.T,'CDS Noise',\n",
    "        'Frequency Hz','Spectral density V/rtHz',label=['Total out'])\n",
    "strh5.flush()\n",
    "strh5.close()"
   ]
  },
  {
   "cell_type": "code",
   "execution_count": null,
   "metadata": {
    "collapsed": true,
    "run_control": {
     "frozen": false,
     "read_only": false
    }
   },
   "outputs": [],
   "source": [
    "def plotResults(imghd5, hdffilenameIR, arrayname, bins=50, plotscale=1.0, logscale=False):\n",
    "    if imghd5 is not None and hdffilenameIR is not None:\n",
    "        #open the sensor data file\n",
    "        strh5 = ryfiles.open_HDF(hdffilenameIR)\n",
    "        #get the prescribed array\n",
    "        arr = strh5['{}'.format(arrayname)].value \n",
    "        maxarr = np.max(arr)\n",
    "        arr = strh5['{}'.format(arrayname)].value * plotscale\n",
    "        arr = np.where(arr > maxarr, maxarr,arr) / plotscale\n",
    "        if logscale:\n",
    "            arr = np.log10(arr + 0.5)\n",
    "            ptitle = \"log('{}'+0.5)\".format(arrayname.replace('rystare/',''))\n",
    "        else:\n",
    "            ptitle = \"'{}'\".format(arrayname.replace('rystare/',''))\n",
    "        \n",
    "        his, binh = np.histogram(arr,bins=bins)\n",
    "        \n",
    "        if np.min(arr) != np.max(arr):\n",
    "            arrshift = arr - np.min(arr)\n",
    "            arrshift = 255 * arrshift/np.max(arrshift)\n",
    "            p = ryplot.Plotter(1,1,1,figsize=(8, 2))\n",
    "#             p.showImage(1, arr, ptitle=ptitle, cmap=ryplot.cubehelixcmap(), cbarshow=True);\n",
    "            p.showImage(1, arr, ptitle=ptitle, cmap=mcm.jet, cbarshow=True);\n",
    "            q = ryplot.Plotter(2,1,1,figsize=(8, 2))\n",
    "            q.showImage(1, arrshift, ptitle=ptitle, cmap=mcm.gray, cbarshow=False);\n",
    "        if not logscale:\n",
    "            r = ryplot.Plotter(3,1,1,figsize=(7, 2))\n",
    "            r.plot(1, (binh[1:]+binh[:-1])/2, his, \n",
    "                   '{}, {} bins'.format(arrayname.replace('rystare/',''), bins), \n",
    "                   'Magnitude','Counts / bin',maxNX=5)\n",
    "\n",
    "        strh5.flush()\n",
    "        strh5.close()"
   ]
  },
  {
   "cell_type": "markdown",
   "metadata": {
    "run_control": {
     "frozen": false,
     "read_only": false
    }
   },
   "source": [
    "The graph in the rest of the document shows signals at the stations marked in the signal flow diagram shown below."
   ]
  },
  {
   "cell_type": "code",
   "execution_count": null,
   "metadata": {
    "collapsed": false,
    "run_control": {
     "frozen": false,
     "read_only": false
    }
   },
   "outputs": [],
   "source": [
    "display(Image(filename='images/camerascheme-horiz.png', width=1000))"
   ]
  },
  {
   "cell_type": "markdown",
   "metadata": {
    "run_control": {
     "frozen": false,
     "read_only": false
    }
   },
   "source": [
    "The following description follows  the signal through the processing chain, step by step, showing the relevant signal or noise at that step."
   ]
  },
  {
   "cell_type": "raw",
   "metadata": {},
   "source": [
    "Photon rate irradiance signal without photon noise [q/(m2.s)].\\newline \n",
    "Variable: \\url{rystare/signal/photonRateIrradianceNoNoise}."
   ]
  },
  {
   "cell_type": "code",
   "execution_count": null,
   "metadata": {
    "collapsed": false,
    "run_control": {
     "frozen": false,
     "read_only": false
    }
   },
   "outputs": [],
   "source": [
    "##\n",
    "plotResults(imghd5, hdffilenameIR, 'rystare/signal/photonRateIrradianceNoNoise', bins=120) "
   ]
  },
  {
   "cell_type": "raw",
   "metadata": {},
   "source": [
    "Location 1 in the diagram: photon rate irradiance signal with photon noise [q/(m2.s)].\\newline \n",
    "Variable: \\url{rystare/signal/photonRateIrradiance}."
   ]
  },
  {
   "cell_type": "code",
   "execution_count": null,
   "metadata": {
    "collapsed": false,
    "run_control": {
     "frozen": false,
     "read_only": false
    }
   },
   "outputs": [],
   "source": [
    "##\n",
    "plotResults(imghd5, hdffilenameIR, 'rystare/signal/photonRateIrradiance', bins=120) "
   ]
  },
  {
   "cell_type": "raw",
   "metadata": {},
   "source": [
    "Location 2 in the diagram: photoresponse nonuniformity (PRNU).\\newline \n",
    "Variable: \\url{rystare/photondetector/lightPRNU/value}.\n",
    "\n",
    "The Photo Response Non-Uniformity (PRNU) is the spatial variation in pixel\n",
    "conversion gain (from photons to electrons). When viewing a uniform scene the pixel signals will \n",
    "differ because of the PRNU,  mainly due to variations in the individual pixel's characteristics\n",
    "such as detector area and spectral response. These variations occur during the manufacture \n",
    "of the substrate and the detector device.\n",
    "\n",
    "The PRNU is signal-dependent (proportional to the input signal) and is\n",
    "fixed-pattern (time-invariant). For visual (silicon) sensors the PRNU factor is typically\n",
    "$0.01\\dots 0.05$ , but for HgCdTe sensors it can be as large as  $0.02\\dots 0.25$.\n",
    " It varies from sensor to sensor, even within the same manufacturing batch. \n",
    "\n",
    "The photo response non-uniformity (PRNU) is considered as a temporally-fixed light \n",
    "signal non-uniformity. The PRNU is modelled using a Gaussian distribution for each\n",
    "$(i,j)$-th pixel of the matrix $I_{e^-}$, \n",
    "as $I_{PRNU.e^-}=I_{e^-}(1+\\mathcal{N}(0,\\sigma_{PRNU}^2))$\n",
    "where $\\sigma_{PRNU}$ is the PRNU factor value.\n"
   ]
  },
  {
   "cell_type": "code",
   "execution_count": null,
   "metadata": {
    "collapsed": false,
    "run_control": {
     "frozen": false,
     "read_only": false
    }
   },
   "outputs": [],
   "source": [
    "##\n",
    "plotResults(imghd5, hdffilenameIR, 'rystare/photondetector/lightPRNU/value', bins=120) "
   ]
  },
  {
   "cell_type": "raw",
   "metadata": {},
   "source": [
    "Location 3 in the diagram: photon rate signal multplied with the photoresponse nonuniormity (PRNU).\\newline \n",
    "Variable: \\url{rystare/signal/photonRateIrradianceNU}.\n",
    "\n"
   ]
  },
  {
   "cell_type": "code",
   "execution_count": null,
   "metadata": {
    "collapsed": false,
    "run_control": {
     "frozen": false,
     "read_only": false
    }
   },
   "outputs": [],
   "source": [
    "##\n",
    "plotResults(imghd5, hdffilenameIR, 'rystare/signal/photonRateIrradianceNU', bins=120) "
   ]
  },
  {
   "cell_type": "raw",
   "metadata": {},
   "source": [
    "Location 4 in the diagram: photon rate signal multiplied with the quantum efficiency to convert from photons rate to electron rte.\\newline \n",
    "Variable: \\url{rystare/signal/electronRateIrradiance}.\n"
   ]
  },
  {
   "cell_type": "code",
   "execution_count": null,
   "metadata": {
    "collapsed": false,
    "run_control": {
     "frozen": false,
     "read_only": false
    }
   },
   "outputs": [],
   "source": [
    "##\n",
    "plotResults(imghd5, hdffilenameIR, 'rystare/signal/electronRateIrradiance', bins=120) "
   ]
  },
  {
   "cell_type": "raw",
   "metadata": {},
   "source": [
    "Location 5 in the diagram: electron rate irradiance multiplied with the detector area  to convert from photons to electron rate.\\newline \n",
    "Variable: \\url{rystare/signal/electronRate}.\n"
   ]
  },
  {
   "cell_type": "code",
   "execution_count": null,
   "metadata": {
    "collapsed": false,
    "run_control": {
     "frozen": false,
     "read_only": false
    }
   },
   "outputs": [],
   "source": [
    "plotResults(imghd5, hdffilenameIR, 'rystare/signal/electronRate', bins=120) "
   ]
  },
  {
   "cell_type": "raw",
   "metadata": {},
   "source": [
    "Location 6 in the diagram: electron rate  multiplied with the integration time  to convert from electron rate to to electrons during integration time, no detector shot noise yet.\\newline \n",
    "Variable: \\url{rystare/signal/lightelectronsnoshotnoise}.\n"
   ]
  },
  {
   "cell_type": "code",
   "execution_count": null,
   "metadata": {
    "collapsed": false,
    "run_control": {
     "frozen": false,
     "read_only": false
    }
   },
   "outputs": [],
   "source": [
    "plotResults(imghd5, hdffilenameIR, 'rystare/signal/lightelectronsnoshotnoise', bins=120) "
   ]
  },
  {
   "cell_type": "raw",
   "metadata": {},
   "source": [
    "Location 7 in the diagram: electrons in charge well with shot noise.\\newline \n",
    "Variable: \\url{rystare/signal/lightelectrons}."
   ]
  },
  {
   "cell_type": "code",
   "execution_count": null,
   "metadata": {
    "collapsed": false,
    "run_control": {
     "frozen": false,
     "read_only": false
    }
   },
   "outputs": [],
   "source": [
    "plotResults(imghd5, hdffilenameIR, 'rystare/signal/lightelectrons', bins=120) "
   ]
  },
  {
   "cell_type": "raw",
   "metadata": {},
   "source": [
    "Location 8 in the diagram: the dark current with no noise is the average dark over all pixels, a scalar value.\\newline \n",
    "Variable: \\url{rystare/darkcurrentelectronsnonoise}.\n",
    "    "
   ]
  },
  {
   "cell_type": "code",
   "execution_count": null,
   "metadata": {
    "collapsed": false,
    "run_control": {
     "frozen": false,
     "read_only": false
    }
   },
   "outputs": [],
   "source": [
    "##\n",
    "strh5 = ryfiles.open_HDF(hdffilenameIR)\n",
    "print('Average dark current {:.3e} electrons'.format(strh5['rystare/darkcurrentelectronsnonoise'].value))\n",
    "strh5.flush()\n",
    "strh5.close()\n"
   ]
  },
  {
   "cell_type": "raw",
   "metadata": {},
   "source": [
    "Location 9 in the diagram: dark current electron count with dark current noise.\\newline \n",
    "Variable: \\url{rystare/signal/darkcurrentelectrons}.\n"
   ]
  },
  {
   "cell_type": "code",
   "execution_count": null,
   "metadata": {
    "collapsed": false,
    "run_control": {
     "frozen": false,
     "read_only": false
    }
   },
   "outputs": [],
   "source": [
    "plotResults(imghd5, hdffilenameIR, 'rystare/signal/darkcurrentelectrons', bins=120) \n",
    "\n",
    "\n",
    "\n",
    "strh5 = ryfiles.open_HDF(hdffilenameIR)\n",
    "print('Before dark FPN:')\n",
    "print('Minimum dark current {:.3e} electrons'.format(np.min(strh5['rystare/signal/darkcurrentelectronsnoDFPN'].value)))\n",
    "print('Average dark current {:.3e} electrons'.format(np.mean(strh5['rystare/signal/darkcurrentelectronsnoDFPN'].value)))\n",
    "print('Maximum dark current {:.3e} electrons'.format(np.max(strh5['rystare/signal/darkcurrentelectronsnoDFPN'].value)))\n",
    "print('After dark FPN:')\n",
    "print('Minimum dark current {:.3e} electrons'.format(np.min(strh5['rystare/signal/darkcurrentelectrons'].value)))\n",
    "print('Average dark current {:.3e} electrons'.format(np.mean(strh5['rystare/signal/darkcurrentelectrons'].value)))\n",
    "print('Maximum dark current {:.3e} electrons'.format(np.max(strh5['rystare/signal/darkcurrentelectrons'].value)))\n",
    "strh5.flush()\n",
    "strh5.close()"
   ]
  },
  {
   "cell_type": "raw",
   "metadata": {},
   "source": [
    "Location 10 in the diagram: dark current nonuniformity.\\newline \n",
    "Variable: \\url{rystare/darkresponse/NU/value}.\n",
    "\n",
    "The focal plane nonuniformity for dark noise generation for the advanced model follows a lognormal distribution.  The relatively few high values are quite evident in these graphs.\n",
    "\n"
   ]
  },
  {
   "cell_type": "code",
   "execution_count": null,
   "metadata": {
    "collapsed": false,
    "run_control": {
     "frozen": false,
     "read_only": false
    }
   },
   "outputs": [],
   "source": [
    "plotResults(imghd5, hdffilenameIR, 'rystare/photondetector/darkcurrent/fixedPatternNoise/value', bins=120) "
   ]
  },
  {
   "cell_type": "markdown",
   "metadata": {
    "run_control": {
     "frozen": false,
     "read_only": false
    }
   },
   "source": [
    "Location 11 in the diagram: dark current with noise multiplied with the dark current nonuniformity.\\newline \n",
    "Variable: \\url{rystare/signal/darkcurrentelectrons}.\n"
   ]
  },
  {
   "cell_type": "code",
   "execution_count": null,
   "metadata": {
    "collapsed": false,
    "run_control": {
     "frozen": false,
     "read_only": false
    }
   },
   "outputs": [],
   "source": [
    "plotResults(imghd5, hdffilenameIR, 'rystare/signal/darkcurrentelectrons', bins=120) "
   ]
  },
  {
   "cell_type": "raw",
   "metadata": {},
   "source": [
    "Location 12 in the diagram: dark current electron count  is added to the signal electron count.\\newline \n",
    "Variable: \\url{rystare/signal/electrons}.\n"
   ]
  },
  {
   "cell_type": "code",
   "execution_count": null,
   "metadata": {
    "collapsed": false,
    "run_control": {
     "frozen": false,
     "read_only": false
    }
   },
   "outputs": [],
   "source": [
    "plotResults(imghd5, hdffilenameIR, 'rystare/signal/electrons', bins=120) "
   ]
  },
  {
   "cell_type": "raw",
   "metadata": {},
   "source": [
    "Location 13 in the diagram: electron count  is clipped to the well capacity and rounded to nearest integer.\\newline \n",
    "Variable: \\url{rystare/signal/electronsWell}."
   ]
  },
  {
   "cell_type": "code",
   "execution_count": null,
   "metadata": {
    "collapsed": false,
    "run_control": {
     "frozen": false,
     "read_only": false
    }
   },
   "outputs": [],
   "source": [
    "plotResults(imghd5, hdffilenameIR, 'rystare/signal/electronsWell', bins=120) \n"
   ]
  },
  {
   "cell_type": "raw",
   "metadata": {},
   "source": [
    "Location 14 in the diagram: electron count in the charge well is converted to a signal voltage.\\newline \n",
    "Variable: \\url{rystare/signal/sensenodevoltageLinear}."
   ]
  },
  {
   "cell_type": "code",
   "execution_count": null,
   "metadata": {
    "collapsed": false,
    "run_control": {
     "frozen": false,
     "read_only": false
    }
   },
   "outputs": [],
   "source": [
    "plotResults(imghd5, hdffilenameIR, 'rystare/signal/sensenodevoltageLinear', bins=120) "
   ]
  },
  {
   "cell_type": "raw",
   "metadata": {},
   "source": [
    "Location 15 in the diagram: kTC reset noise.\\newline \n",
    "Variable: \\url{rystare/noise/sn_reset/resetnoise}.    "
   ]
  },
  {
   "cell_type": "code",
   "execution_count": null,
   "metadata": {
    "collapsed": false,
    "run_control": {
     "frozen": false,
     "read_only": false
    }
   },
   "outputs": [],
   "source": [
    "plotResults(imghd5, hdffilenameIR, 'rystare/noise/sn_reset/resetnoise', bins=120) "
   ]
  },
  {
   "cell_type": "raw",
   "metadata": {},
   "source": [
    "Location 15b in the diagram: Vref plus kTC reset noise.\\newline \n",
    "Variable: \\url{rystare/noise/sn_reset/vrefresetpluskTC}.    \n"
   ]
  },
  {
   "cell_type": "code",
   "execution_count": null,
   "metadata": {
    "collapsed": false,
    "run_control": {
     "frozen": false,
     "read_only": false
    }
   },
   "outputs": [],
   "source": [
    "plotResults(imghd5, hdffilenameIR, 'rystare/noise/sn_reset/vrefresetpluskTC', bins=120) "
   ]
  },
  {
   "cell_type": "raw",
   "metadata": {},
   "source": [
    "Location 15c in the diagram: Vref.\\newline \n",
    "Variable: \\url{rystare/sensenode/vrefreset}.    \n"
   ]
  },
  {
   "cell_type": "code",
   "execution_count": null,
   "metadata": {
    "collapsed": false,
    "run_control": {
     "frozen": false,
     "read_only": false
    }
   },
   "outputs": [],
   "source": [
    "plotResults(imghd5, hdffilenameIR, 'rystare/sensenode/vrefreset', bins=120) "
   ]
  },
  {
   "cell_type": "raw",
   "metadata": {},
   "source": [
    "Location 16 in the diagram: signal after conversion from electrons to voltage.\\newline \n",
    "Variable: \\url{rystare/signal/voltage}.  "
   ]
  },
  {
   "cell_type": "code",
   "execution_count": null,
   "metadata": {
    "collapsed": false,
    "run_control": {
     "frozen": false,
     "read_only": false
    }
   },
   "outputs": [],
   "source": [
    "plotResults(imghd5, hdffilenameIR, 'rystare/signal/voltage', bins=120) "
   ]
  },
  {
   "cell_type": "raw",
   "metadata": {},
   "source": [
    "Location 17 in the diagram: source follower gain, including source follower nonlinearity.\\newline \n",
    "Variable: \\url{rystare/sourcefollower/gainA}.  "
   ]
  },
  {
   "cell_type": "code",
   "execution_count": null,
   "metadata": {
    "collapsed": false,
    "run_control": {
     "frozen": false,
     "read_only": false
    }
   },
   "outputs": [],
   "source": [
    "plotResults(imghd5, hdffilenameIR, 'rystare/sourcefollower/gainA', bins=120) "
   ]
  },
  {
   "cell_type": "raw",
   "metadata": {},
   "source": [
    "Location 18 in the diagram: signal voltage after the source follower.\\newline \n",
    "Variable: \\url{rystare/signal/voltageAfterSF}. "
   ]
  },
  {
   "cell_type": "code",
   "execution_count": null,
   "metadata": {
    "collapsed": false,
    "run_control": {
     "frozen": false,
     "read_only": false
    }
   },
   "outputs": [],
   "source": [
    "plotResults(imghd5, hdffilenameIR, 'rystare/signal/voltageAfterSF', bins=120) "
   ]
  },
  {
   "cell_type": "raw",
   "metadata": {},
   "source": [
    "Location 19 in the diagram: source follower noise.\\newline \n",
    "Variable: \\url{rystare/sourcefollower/source_follower_noise}. "
   ]
  },
  {
   "cell_type": "code",
   "execution_count": null,
   "metadata": {
    "collapsed": false,
    "run_control": {
     "frozen": false,
     "read_only": false
    }
   },
   "outputs": [],
   "source": [
    "plotResults(imghd5, hdffilenameIR, 'rystare/sourcefollower/source_follower_noise', bins=120) "
   ]
  },
  {
   "cell_type": "raw",
   "metadata": {},
   "source": [
    "Location 20 in the diagram: signal voltage after the source follower including noise.\\newline \n",
    "Variable: \\url{rystare/signal/voltageAfterSFnoise}. "
   ]
  },
  {
   "cell_type": "code",
   "execution_count": null,
   "metadata": {
    "collapsed": false,
    "run_control": {
     "frozen": false,
     "read_only": false
    }
   },
   "outputs": [],
   "source": [
    "plotResults(imghd5, hdffilenameIR, 'rystare/signal/voltageAfterSFnoise', bins=120) "
   ]
  },
  {
   "cell_type": "raw",
   "metadata": {},
   "source": [
    "Location 21 in the diagram: dark offset nonuniformity.\\newline \n",
    "Variable: \\url{rystare/darkoffset/NU/value}. "
   ]
  },
  {
   "cell_type": "code",
   "execution_count": null,
   "metadata": {
    "collapsed": false,
    "run_control": {
     "frozen": false,
     "read_only": false
    }
   },
   "outputs": [],
   "source": [
    "plotResults(imghd5, hdffilenameIR, 'rystare/sourcefollower/fpoffset/value', bins=120) "
   ]
  },
  {
   "cell_type": "raw",
   "metadata": {},
   "source": [
    "Location 22 in the diagram: signal voltage at the input to th CDS.\\newline \n",
    "Variable: \\url{rystare/signal/voltagebeforecds}. "
   ]
  },
  {
   "cell_type": "code",
   "execution_count": null,
   "metadata": {
    "collapsed": false,
    "run_control": {
     "frozen": false,
     "read_only": false
    }
   },
   "outputs": [],
   "source": [
    "plotResults(imghd5, hdffilenameIR, 'rystare/signal/voltagebeforecds', bins=120) "
   ]
  },
  {
   "cell_type": "raw",
   "metadata": {},
   "source": [
    "Location 23 in the diagram: signal voltage after the CDS.\\newline \n",
    "Variable: \\url{rystare/signal/voltageaftercds}. "
   ]
  },
  {
   "cell_type": "code",
   "execution_count": null,
   "metadata": {
    "collapsed": false,
    "run_control": {
     "frozen": false,
     "read_only": false
    }
   },
   "outputs": [],
   "source": [
    "plotResults(imghd5, hdffilenameIR, 'rystare/signal/voltageaftercds', bins=120) "
   ]
  },
  {
   "cell_type": "raw",
   "metadata": {},
   "source": [
    "Location 24 in the diagram: ADC integral linearity error.\\newline \n",
    "Variable: \\url{rystare/ADC/gainILE}. "
   ]
  },
  {
   "cell_type": "code",
   "execution_count": null,
   "metadata": {
    "collapsed": false,
    "run_control": {
     "frozen": false,
     "read_only": false
    }
   },
   "outputs": [],
   "source": [
    "plotResults(imghd5, hdffilenameIR, 'rystare/ADC/gainILE', bins=120) "
   ]
  },
  {
   "cell_type": "raw",
   "metadata": {},
   "source": [
    "Location 24b in the diagram: ADC gain.\\newline \n",
    "Variable: \\url{rystare/ADC/gain}. "
   ]
  },
  {
   "cell_type": "code",
   "execution_count": null,
   "metadata": {
    "collapsed": false,
    "run_control": {
     "frozen": false,
     "read_only": false
    }
   },
   "outputs": [],
   "source": [
    "plotResults(imghd5, hdffilenameIR, 'rystare/ADC/gain', bins=120) "
   ]
  },
  {
   "cell_type": "raw",
   "metadata": {},
   "source": [
    "Location 25 in the diagram: output signal in digital counts.\\newline \n",
    "Variable: \\url{rystare/signal/DN}. \n",
    "\n",
    "This is the full scale dynamic range present in the step-graded image.  If the charge well is saturated, the value shown here should correspond with the full well capacity."
   ]
  },
  {
   "cell_type": "code",
   "execution_count": null,
   "metadata": {
    "collapsed": false,
    "run_control": {
     "frozen": false,
     "read_only": false
    }
   },
   "outputs": [],
   "source": [
    "plotResults(imghd5, hdffilenameIR, 'rystare/signal/DN', bins=120) "
   ]
  },
  {
   "cell_type": "raw",
   "metadata": {},
   "source": [
    "Signal converted to digital counts  (location 27 in the diagram). This graph shows the values scaled up by a factor of 100, to show noise in the lower end of the dynamic range."
   ]
  },
  {
   "cell_type": "code",
   "execution_count": null,
   "metadata": {
    "collapsed": false,
    "run_control": {
     "frozen": false,
     "read_only": false
    }
   },
   "outputs": [],
   "source": [
    "plotResults(imghd5, hdffilenameIR, 'rystare/signal/DN', bins=120, plotscale=100) "
   ]
  },
  {
   "cell_type": "raw",
   "metadata": {},
   "source": [
    "Signal converted to digital counts  (location 27 in the diagram). This graph shows the log-base10 values in the image. The image is offset by half a digital count to prevent log(0) errors."
   ]
  },
  {
   "cell_type": "code",
   "execution_count": null,
   "metadata": {
    "collapsed": false,
    "run_control": {
     "frozen": false,
     "read_only": false
    }
   },
   "outputs": [],
   "source": [
    "plotResults(imghd5, hdffilenameIR, 'rystare/signal/DN', bins=120, plotscale=1, logscale=True) "
   ]
  },
  {
   "cell_type": "markdown",
   "metadata": {
    "run_control": {
     "frozen": false,
     "read_only": false
    }
   },
   "source": [
    "Next we will attempt to calculate the photon transfer function and signal to noise ratio for the various parts of the image."
   ]
  },
  {
   "cell_type": "code",
   "execution_count": null,
   "metadata": {
    "collapsed": false,
    "run_control": {
     "frozen": false,
     "read_only": false
    }
   },
   "outputs": [],
   "source": [
    "tplZones = collections.namedtuple('tplZones', ['ein', 'count','mean','var','std','snr','stf'], verbose=False)\n",
    "lstZones = []\n",
    "if imghd5 is not None:\n",
    "    strh5 = ryfiles.open_HDF(hdffilenameIR)\n",
    "    #get the list of unique zones in the image\n",
    "    arrnn = strh5['rystare/equivalentSignal'].value\n",
    "#     arrnn = strh5['rystare/PhotonRateIrradianceNoNoise'].value\n",
    "    arr = strh5['rystare/signal/DN'].value\n",
    "    uniqueZs, uCnts = np.unique(arrnn, return_counts=True)\n",
    "#     print(uniqueZs, uCnts)\n",
    "    for uniqueZ,ucnt in zip(uniqueZs,uCnts):\n",
    "        zone = arr[arrnn==uniqueZ]\n",
    "        mean = np.mean(zone)\n",
    "        lstZones.append(tplZones(ein=uniqueZ, count=ucnt, mean=mean, \n",
    "                        var=np.var(zone-mean), std=np.std(zone-mean), \n",
    "                        snr=np.mean(zone)/np.std(zone-mean),\n",
    "                        stf=np.mean(zone)/uniqueZ))\n",
    "    equivalentSignalLabel = '{} {}'.format(strh5['rystare/equivalentSignalType'].value,\n",
    "                                       strh5['rystare/equivalentSignalUnit'].value)\n",
    "\n",
    "    strh5.flush()\n",
    "    strh5.close()\n",
    "\n",
    "\n",
    "# print(lstZones) \n",
    "#build numpy arrays of the results\n",
    "ein = np.asarray([x.ein for x in lstZones])\n",
    "mean = np.asarray([x.mean for x in lstZones])\n",
    "var = np.asarray([x.var for x in lstZones])\n",
    "std = np.asarray([x.std for x in lstZones])\n",
    "snr = np.asarray([x.snr for x in lstZones])\n",
    "stf = np.asarray([x.stf for x in lstZones])\n",
    "\n",
    "\n",
    "figsize = (6,4)\n",
    "p = ryplot.Plotter(1,1,1,figsize=figsize);\n",
    "p.plot(1,ein,mean,'Signal DN vs irradiance',equivalentSignalLabel,'Digital count');\n",
    "q = ryplot.Plotter(2,1,1,figsize=figsize);\n",
    "q.plot(1,ein[2:],stf[2:],'Signal transfer function',equivalentSignalLabel,'STF [DN/lux]',maxNX=5);\n",
    "r = ryplot.Plotter(3,1,1,figsize=figsize);\n",
    "r.plot(1,ein,std,'Noise vs irradiance',equivalentSignalLabel,'RMS noise [DN]',maxNX=5);\n",
    "s = ryplot.Plotter(4,1,1,figsize=figsize);\n",
    "s.plot(1,ein[:-1],snr[:-1],'Signal to noise ratio',equivalentSignalLabel,'Signal to noise ratio',\n",
    "        pltaxis=[ein[0],ein[-1], np.min(snr[:-1]),500]);\n",
    "# s.logLog(1,mean[:-1],snr[:-1],'SNR [-] vs mean [DN]');\n"
   ]
  },
  {
   "cell_type": "markdown",
   "metadata": {
    "run_control": {
     "frozen": false,
     "read_only": false
    }
   },
   "source": [
    "## Comments"
   ]
  },
  {
   "cell_type": "markdown",
   "metadata": {
    "run_control": {
     "frozen": false,
     "read_only": false
    }
   },
   "source": [
    "1.  The small target image used here is relatively small and does not provide adequate statistics.  It serves as proof-of-concept in this analysis.\n",
    "\n",
    "1. A more detailed discussion of the results will be done in due course.\n",
    "\n"
   ]
  },
  {
   "cell_type": "markdown",
   "metadata": {
    "run_control": {
     "frozen": false,
     "read_only": false
    }
   },
   "source": [
    "## Python and [module versions, and dates](https://github.com/jrjohansson/scientific-python-lectures/blob/master/Lecture-0-Scientific-Computing-with-Python.ipynb)"
   ]
  },
  {
   "cell_type": "code",
   "execution_count": null,
   "metadata": {
    "collapsed": false,
    "run_control": {
     "frozen": false,
     "read_only": false
    }
   },
   "outputs": [],
   "source": [
    "# you only need to do this once\n",
    "#!pip install --upgrade version_information\n",
    "\n",
    "%load_ext version_information\n",
    "%version_information numpy, scipy, matplotlib, pyradi"
   ]
  },
  {
   "cell_type": "code",
   "execution_count": null,
   "metadata": {
    "collapsed": true,
    "run_control": {
     "frozen": false,
     "read_only": false
    }
   },
   "outputs": [],
   "source": []
  },
  {
   "cell_type": "code",
   "execution_count": null,
   "metadata": {
    "collapsed": true,
    "run_control": {
     "frozen": false,
     "read_only": false
    }
   },
   "outputs": [],
   "source": []
  }
 ],
 "metadata": {
  "anaconda-cloud": {},
  "kernelspec": {
   "display_name": "Python 2",
   "language": "python",
   "name": "python2"
  },
  "language_info": {
   "codemirror_mode": {
    "name": "ipython",
    "version": 2
   },
   "file_extension": ".py",
   "mimetype": "text/x-python",
   "name": "python",
   "nbconvert_exporter": "python",
   "pygments_lexer": "ipython2",
   "version": "2.7.12"
  }
 },
 "nbformat": 4,
 "nbformat_minor": 0
}
