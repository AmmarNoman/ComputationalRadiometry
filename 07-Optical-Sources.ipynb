{
 "cells": [
  {
   "cell_type": "markdown",
   "metadata": {},
   "source": [
    "# 7 Optical Sources"
   ]
  },
  {
   "cell_type": "markdown",
   "metadata": {},
   "source": [
    "This notebook forms part of a series on [computational optical radiometry](https://github.com/NelisW/ComputationalRadiometry#computational-optical-radiometry-with-pyradi).  The notebooks can be downloaded from [Github](https://github.com/NelisW/ComputationalRadiometry#computational-optical-radiometry-with-pyradi). These notebooks are constantly revised and updated, please revisit from time to time.  \n",
    "\n",
    "[<img src=\"https://zenodo.org/badge/doi/10.5281/zenodo.9910.png\"   align=\"left\"/>](http://dx.doi.org/10.5281/zenodo.9910)"
   ]
  },
  {
   "cell_type": "markdown",
   "metadata": {},
   "source": [
    "The date of this document and module versions used in this document are given at the end of the file.  \n",
    "Feedback is appreciated: neliswillers at gmail dot com."
   ]
  },
  {
   "cell_type": "markdown",
   "metadata": {},
   "source": [
    "## Overview"
   ]
  },
  {
   "cell_type": "markdown",
   "metadata": {},
   "source": [
    "The pyradi library has a reasonably complete collection of Planck radiator models, both spectral and wide band. A comprehensive collection of physical constants, pertinent to optical radiation is also included.  This notebook introduces these functions in the [`pyradi.ryplanck`](http://nelisw.github.io/pyradi-docs/_build/html/ryplanck.html#pyradi.ryplanck) library."
   ]
  },
  {
   "cell_type": "code",
   "execution_count": null,
   "metadata": {
    "collapsed": false
   },
   "outputs": [],
   "source": [
    "from IPython.display import display\n",
    "from IPython.display import Image\n",
    "from IPython.display import HTML"
   ]
  },
  {
   "cell_type": "markdown",
   "metadata": {},
   "source": [
    "## Watch out for <font color=\"red\">integer</font> numbers\n",
    "\n",
    "It seems that Numpy interprets 400 as an integer int32. When this int32 value is raised to the fourth power, the value overflows, resulting in a _negative_ number.  This error can easily happen when entering integer temperature values, raised to a high power.  \n",
    "\n",
    "In [`ryplanck`](http://nelisw.github.io/pyradi-docs/_build/html/ryplanck.html#module-pyradi.ryplanck), all temperature input values are always converted to float with `.astype(float)` (but only in [`ryplanck`](http://nelisw.github.io/pyradi-docs/_build/html/ryplanck.html#module-pyradi.ryplanck))."
   ]
  },
  {
   "cell_type": "code",
   "execution_count": null,
   "metadata": {
    "collapsed": false
   },
   "outputs": [],
   "source": [
    "import numpy as np\n",
    "tt = np.asarray([400, 500])\n",
    "print(tt.dtype)\n",
    "print(np.power(tt, 4))\n",
    "\n",
    "tt = np.asarray([400, 500]).astype(float)\n",
    "print(tt.dtype)\n",
    "print(np.power(tt, 4))\n"
   ]
  },
  {
   "cell_type": "markdown",
   "metadata": {},
   "source": [
    "## Physical constants"
   ]
  },
  {
   "cell_type": "markdown",
   "metadata": {},
   "source": [
    "This module uses the CODATA physical constants to derive the constants required for radiation calculations. The constants can be printed as a full set, or these can be accessed individually.  The CODATA constants are part of the SciPy library [`scipy.constants`](http://docs.scipy.org/doc/scipy/reference/constants.html), a comprehensive set of easy-to-access constants.  Where the values are available in `scipy.constants` these are used, if not the values are calculated in the `ryplanck` module.\n",
    "\n",
    "For more details on CODATA see\n",
    "<http://physics.nist.gov/cuu/pdf/RevModPhysCODATA2010.pdf>."
   ]
  },
  {
   "cell_type": "code",
   "execution_count": null,
   "metadata": {
    "collapsed": false
   },
   "outputs": [],
   "source": [
    "import pyradi.ryplanck as ryplanck\n",
    "print('c (directly from scipy.constants) = {:.14e} m/s\\n'.format(ryplanck.const.c))\n",
    "ryplanck.pconst.printConstants()"
   ]
  },
  {
   "cell_type": "markdown",
   "metadata": {},
   "source": [
    "## Planck radiation law functions"
   ]
  },
  {
   "cell_type": "markdown",
   "metadata": {},
   "source": [
    "(Sec. 3.1) The equations describing the Planck radiation law are available with spectral variables for wavelength, wavenumber or frequency. The exitance calculation is available in radiant units (watts) and photon rate units (quanta per second).  The Planck-law temperature derivatives are also available.\n",
    "\n",
    "All the functions assume wavelength in micrometres ($\\mu$m), wavenumber in cm$^{-1}$ and frequency in hertz.  All return values are in area units of m$^2$.  Values returned are expressed in exitance units [e.g., W/(m$^2$)], radiance units [e.g., W/(m$^2$.sr)] can be obtained by dividing the output by `numpy.pi`.\n",
    "\n",
    "The Planck law functions have the form: [`ryplanck.planck`](http://nelisw.github.io/pyradi-docs/_build/html/ryplanck.html#pyradi.ryplanck.planck) or `planckxx` where two-letter code `xx` denotes the type of spectral variable and return type (see below).\n",
    "\n",
    "The `ryplanck.planck(spectral, temperature, type='el')` function docstring states as follows:\n",
    "\n",
    "    Calculates the Planck law spectral exitance from a surface at the stated \n",
    "    temperature. Temperature can be a scalar, a list or an array. Exitance can \n",
    "    be given in radiant or photon rate units, depending on user input in type.\n",
    "\n",
    "    Args:\n",
    "        | spectral (scalar, np.array (N,) or (N,1)):  spectral vector.\n",
    "        | temperature (scalar, list[M], np.array (M,), (M,1) or (1,M)):  \n",
    "                    Temperature in [K]\n",
    "        | type (string):\n",
    "        |  'e' signifies Radiant values in [W/m^2.*].\n",
    "        |  'q' signifies photon rate values  [quanta/(s.m^2.*)].\n",
    "        |  'l' signifies wavelength spectral vector  [micrometer].\n",
    "        |  'n' signifies wavenumber spectral vector [cm-1].\n",
    "        |  'f' signifies frequency spectral vecor [Hz].\n",
    "\n",
    "    Returns:\n",
    "        | (scalar, np.array[N,M]):  spectral radiant exitance (not radiance) \n",
    "                  in units selected.\n",
    "        | For type = 'el' units will be [W/(m^2.um)].\n",
    "        | For type = 'qf' units will be [q/(s.m^2.Hz)].\n",
    "        | Other return types are similarly defined as above.\n",
    "        | Returns None on error.\n",
    "\n",
    "    Raises:\n",
    "        | No exception is raised, returns None on error.\n",
    "\n",
    "\n",
    "The first function parameter is a spectral vector, typically with shape (N,) or (N,1) but strictly a colum vector [not a row vector shape (1,N)]. \n",
    "This spectral domain type must be indicated by the \n",
    "appropriate character in the third parameter.\n",
    "\n",
    "The second parameter is the object temperature  in kelvin.  The temperature values can be a scalar, a list, or a column vector with shape (M,), (M,1), or (1,M), but not of shape shape (Q,M).\n",
    "\n",
    "The third parameter is a string denoting the calculation required. The first character in the string must be one of 'e' for radiant units or 'q' for photon rate units. The second character in the string must be one of  'l' for wavelength, 'n' for wavenumber, or 'f' for frequency. \n",
    "\n",
    "The return value will be in the format as requested in the third parameter:  \n",
    "- `'el'` will return exitance in units of W/(m$^2$.$\\mu$m), calling [`ryplanck.planckel`](http://nelisw.github.io/pyradi-docs/_build/html/ryplanck.html#pyradi.ryplanck.planckel)       \n",
    "- `'ql'` will return exitance in units of q/(s.m$^2$.$\\mu$m), calling [`ryplanck.planckql`](http://nelisw.github.io/pyradi-docs/_build/html/ryplanck.html#pyradi.ryplanck.planckql)    \n",
    "- `'en'` will return exitance in units of W/(m$^2$.cm$^{-1}$), calling [`ryplanck.plancken`](http://nelisw.github.io/pyradi-docs/_build/html/ryplanck.html#pyradi.ryplanck.plancken)      \n",
    "- `'qn'` will return exitance in units of q/(s.m$^2$ cm$^{-1}$), calling [`ryplanck.planckqn`](http://nelisw.github.io/pyradi-docs/_build/html/ryplanck.html#pyradi.ryplanck.planckqn)      \n",
    "- `'ef'` will return exitance in units of W/(m$^2$.Hz), calling [`ryplanck.planckef`](http://nelisw.github.io/pyradi-docs/_build/html/ryplanck.html#pyradi.ryplanck.planckef)        \n",
    "- `'qf'` will return exitance in units of q/(s.m$^2$.Hz), calling [`ryplanck.planckqf`](http://nelisw.github.io/pyradi-docs/_build/html/ryplanck.html#pyradi.ryplanck.planckqf)       \n",
    "\n",
    "The `ryplanck.planckxx(spectral, temperature)` forms have only two parameters: spectral and temperature.\n",
    "\n",
    "In addition to to the series of `planckxx` funtions there are a similar series of `dplnckxx` series  and [`ryplanck.dplanck`](http://nelisw.github.io/pyradi-docs/_build/html/ryplanck.html#pyradi.ryplanck.dplanck) to calculate the temperature derivative of the Planck law. These functions have the same function parameters as for `planckxx`.  The return values are similar, except that these have an additional unit (1/K)."
   ]
  },
  {
   "cell_type": "markdown",
   "metadata": {},
   "source": [
    "The [`ryplanck.planck`](http://nelisw.github.io/pyradi-docs/_build/html/ryplanck.html#pyradi.ryplanck.planck) and [`ryplanck.dplanck`](http://nelisw.github.io/pyradi-docs/_build/html/ryplanck.html#pyradi.ryplanck.dplanck) functions can take different data types for the spectral and temperature parameters."
   ]
  },
  {
   "cell_type": "markdown",
   "metadata": {},
   "source": [
    "Either or both `spectral` and `temperature` can be scalar, in which case the return type is a scalar."
   ]
  },
  {
   "cell_type": "code",
   "execution_count": null,
   "metadata": {
    "collapsed": false
   },
   "outputs": [],
   "source": [
    "import pyradi.ryplanck as ryplanck\n",
    "print(ryplanck.planck(10, 1000, 'el').shape)"
   ]
  },
  {
   "cell_type": "markdown",
   "metadata": {},
   "source": [
    "\n",
    "\n",
    "\n",
    "\n",
    "If `spectral` is a numpy array, it must have shape (N,) or (N,1).  Row vectors of shape (1,N) is not allowed"
   ]
  },
  {
   "cell_type": "code",
   "execution_count": null,
   "metadata": {
    "collapsed": false
   },
   "outputs": [],
   "source": [
    "wl = np.linspace(1, 15, 101).reshape(-1,)\n",
    "print(ryplanck.planck(wl, 1000., 'el').shape)\n",
    "wl = np.linspace(1, 15, 101).reshape(-1,1)\n",
    "print(ryplanck.planck(wl, 1000., 'el').shape)\n",
    "# Error! shape (1,N) not allowed\n",
    "# wl = np.linspace(1, 15, 101).reshape(1,-1,) \n",
    "# print(ryplanck.planck(wl, 1000, 'el').shape)"
   ]
  },
  {
   "cell_type": "markdown",
   "metadata": {},
   "source": [
    "Temperature can be a scalar, a list, or any form of vector with shape (M,), (M,1), or (1,M), but not of shape (Q,M)."
   ]
  },
  {
   "cell_type": "code",
   "execution_count": null,
   "metadata": {
    "collapsed": false
   },
   "outputs": [],
   "source": [
    "wl = np.linspace(1, 15, 101).reshape(-1,)\n",
    "print(ryplanck.planck(wl, 200., 'el').shape)\n",
    "print(ryplanck.planck(wl, [200.,400.], 'el').shape)\n",
    "print(ryplanck.planck(wl, np.asarray([200.,400.,500.]).reshape(-1,), 'el').shape)\n",
    "print(ryplanck.planck(wl, np.asarray([200.,400.]).reshape(-1,1), 'el').shape)\n",
    "print(ryplanck.planck(wl, np.asarray([200.,400.]).reshape(1,-1), 'el').shape)\n",
    "# Error! shape (Q,M) not allowed\n",
    "# print(ryplanck.planck(wl, 1000 * np.ones((2,2)), 'el').shape) \n",
    "\n",
    "print(ryplanck.planck(5, [200.,400.], 'el').shape)"
   ]
  },
  {
   "cell_type": "markdown",
   "metadata": {},
   "source": [
    "The return value of the [`ryplanck.planck`](http://nelisw.github.io/pyradi-docs/_build/html/ryplanck.html#pyradi.ryplanck.planck) and [`ryplanck.dplanck`](http://nelisw.github.io/pyradi-docs/_build/html/ryplanck.html#pyradi.ryplanck.dplanck) functions always have the spectral domain along the row direction (axis=0) and temperature domain along the column direction (axis=1).\n",
    "\n",
    "The example above also shows how the [`ryplanck.planck`](http://nelisw.github.io/pyradi-docs/_build/html/ryplanck.html#pyradi.ryplanck.planck) and [`ryplanck.dplanck`](http://nelisw.github.io/pyradi-docs/_build/html/ryplanck.html#pyradi.ryplanck.dplanck) functions can be invoked  with multiple temperature values, allowing compact code and fast vectorised calculations."
   ]
  },
  {
   "cell_type": "markdown",
   "metadata": {},
   "source": [
    "## Stefan-Boltzman wideband exitance"
   ]
  },
  {
   "cell_type": "markdown",
   "metadata": {},
   "source": [
    "The Stefan-Boltzman equation is available as [`ryplanck.stefanboltzman`](http://nelisw.github.io/pyradi-docs/_build/html/ryplanck.html#pyradi.ryplanck.stefanboltzman)  \n",
    "\n",
    "    Calculates the total Planck law exitance, integrated over all wavelengths,\n",
    "    from a surface at the stated temperature. Exitance can be given in radiant or\n",
    "    photon rate units, depending on user input in type.\n",
    "\n",
    "    Args:\n",
    "        | temperature (float):  temperature scalar in [K].\n",
    "        | type (string):  'e' for radiant or 'q' for photon rate exitance.\n",
    "\n",
    "    Returns:\n",
    "        | (float): integrated radiant exitance in  [W/m^2] or [q/(s.m^2)].\n",
    "        | Returns a -1 if the type is not 'e' or 'q'\n",
    "\n",
    "    Raises:\n",
    "        | No exception is raised.\n"
   ]
  },
  {
   "cell_type": "code",
   "execution_count": null,
   "metadata": {
    "collapsed": false
   },
   "outputs": [],
   "source": [
    "# %load_ext autoreload\n",
    "# %autoreload 2\n",
    "%matplotlib inline\n",
    "import pyradi.ryplanck as ryplanck\n",
    "\n",
    "temperature = 1000. # K\n",
    "print('T={} Stefan-Boltzman={} W/m^2'.format(temperature, ryplanck.stefanboltzman(temperature,'e')))\n",
    "print('T={} Stefan-Boltzman={} q/(s.m^2)'.format(temperature, ryplanck.stefanboltzman(temperature,'q')))\n",
    "\n",
    "temperature = [1000, 2000] # K\n",
    "print('T={} Stefan-Boltzman={} W/m^2'.format(temperature, ryplanck.stefanboltzman(temperature,'e')))\n",
    "print('T={} Stefan-Boltzman={} q/(s.m^2)'.format(temperature, ryplanck.stefanboltzman(temperature,'q')))\n",
    "\n",
    "temperature = np.asarray([1000, 2000])   # K\n",
    "print('T={} Stefan-Boltzman={} W/m^2'.format(temperature, ryplanck.stefanboltzman(temperature,'e')))\n",
    "print('T={} Stefan-Boltzman={} q/(s.m^2)'.format(temperature, ryplanck.stefanboltzman(temperature,'q')))\n",
    "\n",
    "# Error! temperature is of shape (Q,M) returns value of -1\n",
    "print('T={} Stefan-Boltzman={} q/(s.m^2)'.format(temperature, ryplanck.stefanboltzman(np.ones((2,2)),'e')))"
   ]
  },
  {
   "cell_type": "markdown",
   "metadata": {},
   "source": [
    "# Wien law"
   ]
  },
  {
   "cell_type": "markdown",
   "metadata": {},
   "source": [
    "The Wien law is so simple that only the constants are provided.  The constants are as follows:\n",
    "\n",
    "    ryplanck.pconst.wel  um.K     radiant and wavelength\n",
    "    ryplanck.pconst.wql  um.K     photon rate and wavelength\n",
    "    ryplanck.pconst.wen  cm-1/K   radiant and wavenumber\n",
    "    ryplanck.pconst.wqn  cm-1/K   photon rate and wavenumber\n",
    "    ryplanck.pconst.wef  Hz/K     radiant and frequency\n",
    "    ryplanck.pconst.wqf  Hz/K     photon rate and frequency\n",
    "\n"
   ]
  },
  {
   "cell_type": "code",
   "execution_count": null,
   "metadata": {
    "collapsed": false
   },
   "outputs": [],
   "source": [
    "print('Wien constant for radiant power and wavelength = {}'.format(ryplanck.pconst.wel))\n",
    "print('Peak wavelength for object at {} K is {} um'.format(2850, ryplanck.pconst.wel/2850))\n"
   ]
  },
  {
   "cell_type": "code",
   "execution_count": null,
   "metadata": {
    "collapsed": false
   },
   "outputs": [],
   "source": [
    "import pyradi.ryplot as ryplot\n",
    "temperature = np.linspace(300, 6000, 101).astype(float)\n",
    "wlwienel = ryplanck.pconst.wel / temperature\n",
    "wlwienql = ryplanck.pconst.wql / temperature\n",
    "lp = ryplot.Plotter(1,figsize=(9,4))\n",
    "lp.logLog(1,temperature,wlwienel,label=['Radiant power'])\n",
    "lp.logLog(1,temperature,wlwienql,\"Wien law\",\"Temperature K\",\"Wavelength $\\mu$m\",\n",
    "          label=['Photon rate'], drawGrid=True,\n",
    "          pltaxis=[np.min(temperature), np.max(temperature), 0 ,15])\n"
   ]
  },
  {
   "cell_type": "markdown",
   "metadata": {},
   "source": [
    "## Planck law graphs"
   ]
  },
  {
   "cell_type": "code",
   "execution_count": null,
   "metadata": {
    "collapsed": false
   },
   "outputs": [],
   "source": [
    "import pyradi.ryplot as ryplot\n",
    "#plot a single planck curve on linear scale for 300K source\n",
    "wl = np.logspace(np.log10(0.2), np.log10(20), num=100).reshape(-1, 1)\n",
    "Mel = ryplanck.planck(wl, 300, type='el') # [W/(m$^2$.$\\mu$m)]\n",
    "lp = ryplot.Plotter(1,figsize=(9,4))\n",
    "lp.plot(1,wl,Mel,\"Planck law exitance for 300 K source\",\"Wavelength [$\\mu$m]\",\n",
    "            \"Exitance [W/(m$^2$.$\\mu$m)]\");"
   ]
  },
  {
   "cell_type": "code",
   "execution_count": null,
   "metadata": {
    "collapsed": false
   },
   "outputs": [],
   "source": [
    "#plot all the planck functions.\n",
    "wl = np.logspace(np.log10(0.1), np.log10(100), num=100).reshape(-1, 1)\n",
    "n = np.logspace(np.log10(1e4/100),np.log10(1e4/0.1), num=100).reshape(-1, 1)\n",
    "f = np.logspace(np.log10(ryplanck.const.c/ (100*1e-6)),np.log10(ryplanck.const.c/ (0.1*1e-6)), num=100).reshape(-1, 1)\n",
    "temperature = [280, 300, 450, 650, 1000, 1800, 3000, 6000]\n",
    "\n",
    "Mel = ryplanck.planck(wl, np.asarray(temperature).reshape(-1,1), type='el') # [W/(m$^2$.$\\mu$m)]\n",
    "Mql = ryplanck.planck(wl, np.asarray(temperature).reshape(-1,1), type='ql') # [q/(s.m$^2$.$\\mu$m)]\n",
    "Men = ryplanck.planck(n,  np.asarray(temperature).reshape(-1,1), type='en') # [W/(m$^2$.cm$^{-1}$)]\n",
    "Mqn = ryplanck.planck(n,  np.asarray(temperature).reshape(-1,1), type='qn') # [q/(s.m$^2$.cm$^{-1}$)]\n",
    "Mef = ryplanck.planck(f,  np.asarray(temperature).reshape(-1,1), type='ef') # [W/(m$^2$.Hz)]\n",
    "Mqf = ryplanck.planck(f,  np.asarray(temperature).reshape(-1,1), type='qf') # [q/(s.m$^2$.Hz)]\n",
    "\n",
    "legend = [\"{0:.0f} K\".format(temperature[0])]\n",
    "for temp in temperature[1:] :\n",
    "    legend.append(\"{0:.0f} K\".format(temp))\n",
    "\n",
    "fplanck = ryplot.Plotter(1, 2, 3,\"Planck's Law\", figsize=(18, 12))\n",
    "fplanck.logLog(1, wl, Mel, \"Radiant, Wavelength Domain\",\"Wavelength [$\\mu$m]\", \n",
    "    \"Exitance [W/(m$^2$.$\\mu$m)]\",legendAlpha=0.5, label=legend, drawGrid=True,\n",
    "                pltaxis=[0.1, 100, 1e-2, 1e9])\n",
    "fplanck.logLog(2, n, Men, \"Radiant, Wavenumber Domain\",\"Wavenumber [cm$^{-1}$]\",\n",
    "    \"Exitance [W/(m$^2$.cm$^{-1}$)]\",legendAlpha=0.5, label=legend, drawGrid=True,\n",
    "                pltaxis=[100, 100000, 1e-8, 1e+4])\n",
    "fplanck.logLog(3, f, Mef, \"Radiant, Frequency Domain\",\"Frequency [Hz]\",\n",
    "    \"Exitance [W/(m$^2$.Hz)]\",legendAlpha=0.5, label=legend, drawGrid=True,\n",
    "                pltaxis=[3e12, 3e15, 1e-20, 1e-6])\n",
    "\n",
    "fplanck.logLog(4, wl, Mql, \"Photon Rate, Wavelength Domain\",\"Wavelength [$\\mu$m]\",\n",
    "    \"Exitance [q/(s.m$^2$.$\\mu$m)]\",legendAlpha=0.5, label=legend, drawGrid=True,\n",
    "                pltaxis=[0.1, 100, 1e-0, 1e27])\n",
    "fplanck.logLog(5, n, Mqn, \"Photon Rate, Wavenumber Domain\",\"Wavenumber [cm$^{-1}$]\",\n",
    "    \"Exitance [q/(s.m$^2$.cm$^{-1}$)]\",legendAlpha=0.5, label=legend, drawGrid=True,\n",
    "                pltaxis=[100, 100000, 1e-8, 1e+23])\n",
    "fplanck.logLog(6, f, Mqf, \"Photon Rate, Frequency Domain\",\"Frequency [Hz]\",\n",
    "    \"Exitance [q/(s.m$^2$.Hz)]\",legendAlpha=0.5, label=legend, drawGrid=True,\n",
    "                pltaxis=[3e12, 3e15, 1e-20, 1e+13])\n"
   ]
  },
  {
   "cell_type": "code",
   "execution_count": null,
   "metadata": {
    "collapsed": false
   },
   "outputs": [],
   "source": [
    "#now plot temperature derivatives\n",
    "Mel = ryplanck.dplanck(wl, np.asarray(temperature).reshape(-1,1), type='el') # [W/(m$^2$.$\\mu$m.K)]\n",
    "Mql = ryplanck.dplanck(wl, np.asarray(temperature).reshape(-1,1), type='ql') # [q/(s.m$^2$.$\\mu$m.K)]\n",
    "Men = ryplanck.dplanck(n , np.asarray(temperature).reshape(-1,1), type='en') # [W/(m$^2$.cm$^{-1}$.K)]\n",
    "Mqn = ryplanck.dplanck(n,  np.asarray(temperature).reshape(-1,1), type='qn') # [q/(s.m$^2$.cm$^{-1}$.K)]\n",
    "Mef = ryplanck.dplanck(f,  np.asarray(temperature).reshape(-1,1), type='ef') # [W/(m$^2$.Hz.K)]\n",
    "Mqf = ryplanck.dplanck(f,  np.asarray(temperature).reshape(-1,1), type='qf') # [q/(s.m$^2$.Hz.K)]\n",
    "\n",
    "fdplanck = ryplot.Plotter(2, 2, 3,\"Planck's Law Temperature Derivative\", figsize=(18, 12))\n",
    "fdplanck.logLog(1, wl, Mel, \"Radiant, Wavelength Domain\",\"Wavelength [$\\mu$m]\", \n",
    "    \"dM/dT [W/(m$^2$.$\\mu$m.K)]\",legendAlpha=0.5, label=legend, drawGrid=True, \n",
    "                pltaxis=[0.1, 100, 1e-5, 1e5])\n",
    "fdplanck.logLog(2, n, Men, \"Radiant, Wavenumber Domain\",\"Wavenumber [cm$^{-1}$]\", \n",
    "    \"dM/dT [W/(m$^2$.cm$^{-1}$.K)]\",legendAlpha=0.5, label=legend, drawGrid=True, \n",
    "                pltaxis=[100, 100000, 1e-10, 1e+1])\n",
    "fdplanck.logLog(3, f, Mef, \"Radiant, Frequency Domain\",\"Frequency [Hz]\", \n",
    "    \"dM/dT [W/(m$^2$.Hz.K)]\",legendAlpha=0.5, label=legend, drawGrid=True, \n",
    "                pltaxis=[3e12, 3e15, 1e-20, 1e-10])\n",
    "\n",
    "fdplanck.logLog(4, wl, Mql, \"Photon Rate, Wavelength Domain\",\"Wavelength [$\\mu$m]\", \n",
    "    \"dM/dT [q/(s.m$^2$.$\\mu$m.K)]\",legendAlpha=0.5, label=legend, drawGrid=True, \n",
    "                pltaxis=[0.1, 100, 1e-0, 1e24])\n",
    "fdplanck.logLog(5, n, Mqn, \"Photon Rate, Wavenumber Domain\",\"Wavenumber [cm$^{-1}$]\", \n",
    "    \"dM/dT [q/(s.m$^2$.cm$^{-1}$.K)]\",legendAlpha=0.5, label=legend, drawGrid=True, \n",
    "                pltaxis=[100, 100000, 1e-10, 1e+20])\n",
    "fdplanck.logLog(6, f, Mqf, \"Photon Rate, Frequency Domain\",\"Frequency [Hz]\", \n",
    "    \"dM/dT [q/(s.m$^2$.Hz.K)]\",legendAlpha=0.5, label=legend, drawGrid=True, \n",
    "                pltaxis=[3e12, 3e15, 1e-20, 1e+9])\n"
   ]
  },
  {
   "cell_type": "markdown",
   "metadata": {},
   "source": [
    "## Example applications"
   ]
  },
  {
   "cell_type": "markdown",
   "metadata": {},
   "source": [
    "### The number of bits required to express colour ratio"
   ]
  },
  {
   "cell_type": "markdown",
   "metadata": {},
   "source": [
    "Calculate the number of bits required in an image to express the colour ratio between an MTV flare and a relatively cold aircraft fuselage.  It is assumed here that the flare and fuselage are resolved, i.e., the individual image pixels are completely filled by the flare and fuselage respectively.  First calculate the radiance ratio of aircraft fuselage to MTV flare in 3-5 um band.  The flare is modelled as a blackbody with temperature 2200 K and emissivity of 0.15.  The aircraft has a temperature of 250 K and an emissivity of 1.  The number of bits required is given by $\\log_2(L_{\\rm flare}/L_{\\rm aircraft})$"
   ]
  },
  {
   "cell_type": "code",
   "execution_count": null,
   "metadata": {
    "collapsed": false
   },
   "outputs": [],
   "source": [
    "wl = np.linspace(3.5, 5, 201)\n",
    "flareEmis = 0.15\n",
    "flareTemp = 2200\n",
    "flareM = flareEmis * np.trapz(ryplanck.planckel(wl,flareTemp).reshape(-1, 1),wl, axis=0)[0]\n",
    "#aircraft fuselage temperature is 250 K. emissivity=1,\n",
    "aircraftEmis = 1.0\n",
    "aircraftTemp = 250\n",
    "aircraftM =  aircraftEmis *np.trapz(ryplanck.planckel(wl,aircraftTemp).reshape(-1, 1),wl, axis=0)[0]\n",
    "print('Mflare    = {0:.2f} W/m2'.format(flareM))\n",
    "print('Maircraft = {0:.1f} W/m2'.format(aircraftM))\n",
    "print('Colour ratio: ratio={0:.3e} minimum number of bits required={1:.1f}'.\\\n",
    "    format(flareM/aircraftM,  np.log2(flareM/aircraftM)))"
   ]
  },
  {
   "cell_type": "markdown",
   "metadata": {},
   "source": [
    "### Cumulative blackbody curves"
   ]
  },
  {
   "cell_type": "markdown",
   "metadata": {},
   "source": [
    "The following code produces (Fig 3.4) in the book. The top figure shows the spectral radiance of a few real-world objects. The bottom graph shows the normalised cumulative radiance of the same objects. The bottom graph is useful to estimate the percentage of total radiance above/below a wavelength.  From this curve it is evident that a tungsten lamp radiates less than 10% of its total flux in the visual spectral band. From this graph it can be concluded that approximately 40% of the sun's output is in the visual spectral band."
   ]
  },
  {
   "cell_type": "code",
   "execution_count": null,
   "metadata": {
    "collapsed": false
   },
   "outputs": [],
   "source": [
    "wl = np.linspace(0.2, 20, 501)\n",
    "tmpr = [250, 300, 500, 800, 1336, 2856, 5900]\n",
    "strL = ['cold night', 'hot day', 'kitchen oven', 'jet tailpipe', 'melting gold', \n",
    "        'tungsten lamp', 'sun surface']\n",
    "L = ryplanck.planckel(wl,tmpr) / np.pi\n",
    "Lcum = np.cumsum(L, axis=0)\n",
    "Lcum = Lcum / np.max(Lcum, axis=0)\n",
    "\n",
    "fc = ryplot.Plotter(1, 2, 1, figsize=(15, 10))\n",
    "legend = ['{} K {}'.format(item[0], item[1]) for item in zip(tmpr,strL)]\n",
    "fc.logLog(1, wl, L, \"Planck radiator radiance\",\"Wavelength $\\mu$m\", \n",
    "    \"Radiance W/(m$^2$.sr.$\\mu$m)\",legendAlpha=0.3, label=legend, drawGrid=True, \n",
    "                pltaxis=[0.2, 20, 1e-5, 1e8], labelfsize=12)\n",
    "fc.resetPlotCol()\n",
    "fc.semilogX(2, wl, Lcum, \"Normalised cumulative Planck radiator radiance\",\"Wavelength $\\mu$m\", \n",
    "    \"Normalised cumulative\",legendAlpha=0.3, label=legend, drawGrid=True, \n",
    "                pltaxis=[0.2, 20, 0, 1], labelfsize=12)"
   ]
  },
  {
   "cell_type": "markdown",
   "metadata": {},
   "source": [
    "### Reflected sunlight radiance"
   ]
  },
  {
   "cell_type": "markdown",
   "metadata": {},
   "source": [
    "(Sec 3.7) derives an equation for the reflected sunlight radiance of a surface:\n",
    "$$\n",
    "L_\\lambda=\n",
    "\\frac{\n",
    "\\epsilon_{\\rm s}L_{{\\rm bb}\\lambda}(T_{ \\rm s})\n",
    "A_{\\rm s}\\tau_s\\rho_d\\cos\\theta_i}{\\pi R_{\\rm sun}^2}\n",
    "=\n",
    "\\psi  \\epsilon_{\\rm s}L_{{\\rm bb}\\lambda}(T_{ \\rm s})\\tau_s\n",
    "\\rho_d\\cos\\theta_i,\n",
    "$$\n",
    "where \n",
    "where $\\epsilon_{\\rm s}\\approx 1$ is the emissivity of the sun's surface,\n",
    "$T_s$ is the sun's surface temperature,\n",
    "$\\tau_s$ is the atmospheric transmittance between the sun and the surface, and $\\theta_i$ is the angle between the surface normal and the sun vector.  The reflected sun radiance from a perfectly Lambertian surface is then given by $L_\\lambda=\\rho_d E_{\\lambda \\rm sun}/\\pi$, where $\\rho_d$ is the surface diffuse reflectance function. The constant $\\psi  =A_{\\rm sun}/(\\pi R_{\\rm sun}^2) =2.1757\\times10^{-5}$ [sr/sr] follows from the geometry.\n",
    "\n",
    "This really simple model does not account for sky radiance or light incident on the surface from other sources, applicable only to situations where the surface is directly illuminated by the sun, and with a object surface normal angle within 70 degrees or so from the sun direction. At larger angles the sun illumination decreases rapidly and other sources such terrain or sky radiance contribute increasingly more.\n",
    "\n",
    "This section compares the simple model presented above with the  results obtained using a Modtran-calculated solar irradiance."
   ]
  },
  {
   "cell_type": "markdown",
   "metadata": {},
   "source": [
    "First to the imports and general preparation."
   ]
  },
  {
   "cell_type": "code",
   "execution_count": null,
   "metadata": {
    "collapsed": false
   },
   "outputs": [],
   "source": [
    "import pyradi.ryfiles as ryfiles\n",
    "import pyradi.rymodtran as rymodtran\n",
    "import pyradi.ryutils as ryutils"
   ]
  },
  {
   "cell_type": "markdown",
   "metadata": {},
   "source": [
    "Modtran5 was used to calculate the solar irradiance and transmittance to space for a slant path. Modtran was used in direct solar irradiance mode, with Tropical profile with 23 km Rural visibility. The solar irradiance and transmittance to space is calculated at sea level, for a 45 degree zenith angle, on day 1.  The data files are available on the pyradi website.  Download, extract and plot the data."
   ]
  },
  {
   "cell_type": "code",
   "execution_count": null,
   "metadata": {
    "collapsed": false
   },
   "outputs": [],
   "source": [
    "tgzFilename = 'tropical-23krural-45deg-space.tgz'\n",
    "destinationDir = '.'\n",
    "tarFilename = 'tropical-23krural-45deg-space.tar'\n",
    "url = 'https://raw.githubusercontent.com/NelisW/pyradi/master/pyradi/data/'\n",
    "dlNames = ryfiles.downloadUntar(tgzFilename, url, destinationDir, tarFilename)\n",
    "\n",
    "print('filesAvailable is {}'.format(dlNames))"
   ]
  },
  {
   "cell_type": "markdown",
   "metadata": {},
   "source": [
    "The Modtran tape7 file contents is as follows (the first few lines):\n",
    "\n",
    "    T F 1    3    3    0    1    1    1    1    1    1    1    0    0   0.000   0.00\n",
    "        1    1    1    0    0    0  23.00000   0.00000   0.00000   0.00000   0.00000\n",
    "     -99.000 -99.000 -99.000\n",
    "     -99.00000 -99.00000 -99.00000  4.114728  0.000594 ! H2O & O3 COLUMNS [GM/CM2]\n",
    "       36TROPICAL MODEL      \n",
    "       0.00000 100.00000  45.00000 140.37962   0.87815   0.00000    0        0.00000\n",
    "      -99  -99    1    0\n",
    "     -99.00000 -99.00000 -99.00000 -99.00000 -99.00000 -99.00000   0.00000 -99.00000\n",
    "       12495.0   33340.0       1.0       1.0NW        W1    \n",
    "        0   0    0.000  0    0.000  0    1.000\n",
    "        FREQ   TRANS     SOL TR  SOLAR\n",
    "    12495.00  0.6706 5.03E-06 7.50E-06                                                              3.995E-01\n",
    "    12496.00  0.4790 3.47E-06 7.23E-06                                                              7.360E-01\n",
    "    12497.00  0.7075 5.07E-06 7.16E-06                                                              3.460E-01\n",
    "    12498.00  0.6852 4.90E-06 7.15E-06                                                              3.780E-01\n",
    "    12499.00  0.5352 3.84E-06 7.17E-06                                                              6.252E-01\n",
    "    ..."
   ]
  },
  {
   "cell_type": "markdown",
   "metadata": {},
   "source": [
    "Extract the data from the file using [`rymodtran.loadtape7`](http://nelisw.github.io/pyradi-docs/_build/html/rymodtran.html#pyradi.rymodtran.loadtape7). Then convert the spectral irradiance from W/(cm$^2$.cm$^{-1}$) to W/(m$^2$.$\\mu$m) and plot the result.\n"
   ]
  },
  {
   "cell_type": "code",
   "execution_count": null,
   "metadata": {
    "collapsed": false
   },
   "outputs": [],
   "source": [
    "colSelect =  ['FREQ', 'TRANS', 'SOL_TR', 'SOLAR']\n",
    "tape7= rymodtran.loadtape7(\"tropical-23krural-45deg-space.fl7\", colSelect )\n",
    "tSun = tape7[:,1]\n",
    "wl, eSun = ryutils.convertSpectralDensity(tape7[:,0], tape7[:,2:4], type='nl')\n",
    "eSun *= 1e4 # convert from cm^2 to m^2\n",
    "\n",
    "mT = ryplot.Plotter(1, 1, 2,\"Modtran5 Tropical, 23 km Visibility (Rural)\"\\\n",
    "                   + \", Slant path to space from sea level, 45-degree zenith\",figsize=(12,6))\n",
    "mT.plot(1, wl, tSun, \"Transmittance\",\"Wavelength [$\\mu$m]\", \"Transmittance\",\n",
    "       label=colSelect[1:],legendAlpha=0.5, pltaxis=[np.min(wl),np.max(wl), 0, 1],\n",
    "       maxNX=10, maxNY=4);\n",
    "mT.plot(2, wl, eSun, \"Solar irradiance\",\"Wavelength [$\\mu$m]\", \"Irradiance W/(m$^2$.$\\mu$m) \",\n",
    "       label=colSelect[2:],legendAlpha=0.5, pltaxis=[np.min(wl),np.max(wl), 0, np.max(eSun)],\n",
    "       maxNX=10, maxNY=10);"
   ]
  },
  {
   "cell_type": "markdown",
   "metadata": {},
   "source": [
    "Consider an object with reflectance of one, with normal vector pointed towards the sun."
   ]
  },
  {
   "cell_type": "code",
   "execution_count": null,
   "metadata": {
    "collapsed": false
   },
   "outputs": [],
   "source": [
    "rho = 1  #perfectly white surface\n",
    "theta = 0 # surface oriented towards the sun\n",
    "\n",
    "Lsimp = 2.1757e-5 * (ryplanck.planckel(wl, 5900.) / np.pi) * tSun * rho * np.cos(theta)\n",
    "Lmodt =  rho * np.cos(theta) * eSun[:,0] / np.pi\n",
    "\n",
    "lp = ryplot.Plotter(1,1,1,figsize=(12,6))\n",
    "lp.plot(1,wl,Lmodt,\"Diffuse reflected sun light radiance\",\"Wavelength [$\\mu$m]\",\n",
    "            \"Radiance [W/(m$^2$.sr.$\\mu$m)]\",label=['Modtran Model']);\n",
    "lp.plot(1,wl,Lsimp,label=['Simple Model']);"
   ]
  },
  {
   "cell_type": "markdown",
   "metadata": {},
   "source": [
    "It appears that the simple model fits the Modtran data reasonably closely.  The shape of the two radiance curves are somewhat different.  Considering the simplicity of the model the results are quite acceptable."
   ]
  },
  {
   "cell_type": "markdown",
   "metadata": {},
   "source": [
    "(Sec 2.10.3) Next calculate the luminance of the object's surface.  The photopic luminance of a source is defined as\n",
    "$$\n",
    "L_\\nu=\\int_0^\\infty K_{\\rm max} V_\\lambda L_{e\\lambda} d \\lambda,\n",
    "$$\n",
    "where\n",
    "$K_\\lambda=K_{\\rm max}V_\\lambda$ is the spectral photopic efficacy,\n",
    "$V_\\lambda$ is the photopic efficiency,\n",
    "$K_{\\rm max}=683$ lm/W is the maximum value of photopic\n",
    "efficacy, referenced to a 2042-K blackbody standard source, and\n",
    "$L_{e\\lambda}$ is the source's  radiance.  The spectral shape of photopic luminous efficiency is can be _roughly  approximated_ by \n",
    "$$\n",
    "V_\\lambda=1.019\\exp(-285.51(\\lambda - 0.5591)^2).\n",
    "$$\n",
    "There are data tables from the CIE standards that describe this shape more accurately but this approximation is sufficient for the present requirement."
   ]
  },
  {
   "cell_type": "code",
   "execution_count": null,
   "metadata": {
    "collapsed": false
   },
   "outputs": [],
   "source": [
    "photLumEff = 1.019 * np.exp(-285.51 * (wl - 0.5591) ** 2 ).reshape(-1,)\n",
    "#correct for sign because wl is decreasing (it was created from wavenumbers)\n",
    "luminance =  - np.trapz(683. * photLumEff * Lsimp,wl, axis=0)\n",
    "\n",
    "print('Surface luminance is {:.0f} lm/(m2.sr)'.format(luminance))\n",
    "p = ryplot.Plotter(1,1,1,figsize=(12,6))\n",
    "p.plot(1,wl,photLumEff , \"Normalised spectral shapes\",\"Wavelength [$\\mu$m]\",\n",
    "            \"Response\", label=['Photopic luminous efficiency']);\n",
    "p.plot(1,wl,Lsimp/np.max(Lsimp),label=['Simple model mormalised radiance']);"
   ]
  },
  {
   "cell_type": "markdown",
   "metadata": {},
   "source": [
    "According to [Wikipedia](https://en.wikipedia.org/wiki/Luminance) the sun has a (apparent?) luminance of 1.6e9 cd/m2 at noon, which, if converted with $\\psi$=2.1757e-5 gives a value of 34811 lm/(m$^2$.sr). Comparing this to the value of 23440 lm/(m$^2$.sr) calculated above, yields a ratio of 1.48. Considering the fact that the Wikipedia atmosphere is not known and that the simple calculation is for a slant path of 45 degrees, the result from the simple model seems feasible."
   ]
  },
  {
   "cell_type": "markdown",
   "metadata": {},
   "source": [
    "## Scene radiance"
   ]
  },
  {
   "cell_type": "markdown",
   "metadata": {},
   "source": [
    "### Low light scene radiance\n",
    "\n",
    "This section develops a simple model for the photon rate flux for low light scenes."
   ]
  },
  {
   "cell_type": "markdown",
   "metadata": {},
   "source": [
    "#### Source spectral content\n",
    "\n",
    "The target object will either radiate by its own thermal self-emittance, reflected incident light, or both.  In the visible and near infrared bands the signal is mostly caused by reflection. At wavelengths beyond 6 $\\mu$m the signal is mostly caused by thermal self-emissition.  In the 3--5 $\\mu$m spectral band the signal is caused by both sources.\n",
    "\n",
    "We will be using the colour temperature as an approximation of source spectral content, in the visible and near infrared parts of the spectum.  We will however use the sun's colour temperature for all spectral bands, because the sun's colour temperature is also approximately equal to the surface temperature.\n"
   ]
  },
  {
   "cell_type": "markdown",
   "metadata": {},
   "source": [
    "<http://sizes.com/units/color_temperature.htm>  \n",
    "<https://www.firstrays.com/bb1-1286570267-680/start/color_temp.htm>  \n",
    "<http://www.clarkvision.com/articles/night.photography.image.processing/>  \n",
    "\n",
    "\n",
    "We must be careful when using colour temperature, it does not mean that the object has that temperature. It does not even mean that the spectral content of the object can be described by a scaled spectrum of a radiator at that temperature. The colour temperature's only significance is that it very broadly describes the visual colour of an object.\n",
    "From <https://en.wikipedia.org/wiki/Color_temperature>\n",
    "''The color temperature of a light source is the temperature of an ideal blackbody radiator that radiates light of comparable hue to that of the light source. Color temperature is a characteristic of visible light that has important applications in lighting, photography, videography, publishing, manufacturing, astrophysics, horticulture, and other fields. In practice, color temperature is only meaningful for light sources that do in fact correspond somewhat closely to the radiation of some black body, i.e., those on a line from reddish/orange via yellow and more or less white to blueish white; it does not make sense to speak of the color temperature of, e.g., a green or a purple light. Color temperature is conventionally stated in the unit of absolute temperature, the Kelvin, having the unit symbol K.''\n",
    "\n",
    "Source temperature is undefined if the source spectrum deviates significantly from the Planck law spectral shape. For example, for sources with little continuum and high spectral line variation (e.g., sodium and mercury lamps with small fluorescence) colour temperature has no meaning.\n",
    "\n",
    "We will be using the colour temperature as an approximation of source spectral content, in the visible and near infrared parts of the spectum.  We will however use the sun's colour temperature for all spectral bands, because the sun's colour temperature is also approximately equal to the surface temperature.\n",
    "\n",
    "**The moon's colour temperature:**\n",
    "\n",
    "<http://www.cast-lighting.com/landscape-articles/moonlighting-landscape-lighting-design-imitates-nature>\n",
    "''It turns out that the moon absorbs twice as much violet as it does red. For this reason, the moon is slightly reddish. A full moon when it appears directly overhead has a color temperature of about 4,150 K. Compared to incandescent lighting (around 3,000 K), moonlight is slightly blue but not nearly as blue as a bright sunny day (as much as 10,000 K)''\n",
    " \n",
    "''Johannes Purkinje, a 19th century physiologist, found that at very low light levels, the human eye could no longer  perceive the color red, but could still perceive blues and greens. This occurs because the eye's retinal cones (responsible for color perception) require a lot of light. At lower brightness levels, only the retinal rods are activated. These rods (responsible for seeing fine detail and contrast) can only respond to blues and greens.''\n",
    "\n",
    "''The luminance level at which this perceptual shift occurs is at about .001 candelas/meters. Monlight has about this same luminance levle. This puts moonlight right at the threshold of the Purkinje Shift and this is why the moon appears slightly blue. It should be noted though, that the effect is so slight that the brain easily shifts its perception to judging the moon to be white. If we shift our gaze from the moon to the ground and other objects that it illuminates, the most noticeable effect is not only a blueish color but also an absence of all other colors.''"
   ]
  },
  {
   "cell_type": "markdown",
   "metadata": {},
   "source": [
    "The `rypflux` module captures low light level lux values in the `rypflux.PFlux.lllux` dictionary. The values were originally published in the RCA/Burle Electro-Optics Handbook.  Copies of this book floats around the internet.\n",
    "\n",
    "![images/burleEOHB-lowlightlux.png](images/burleEOHB-lowlightlux.png)"
   ]
  },
  {
   "cell_type": "code",
   "execution_count": 1,
   "metadata": {
    "collapsed": false
   },
   "outputs": [
    {
     "name": "stdout",
     "output_type": "stream",
     "text": [
      "{'Very dark day': [107, 7000, 1.0], 'Overcast day': [1075, 6000, 1.0], 'Sun light': [107527, 5700, 1.0], 'Star light': [0.0011, 5000, 0.2], 'Full sky light': [10752, 12000, 1.0], 'Deep twilight': [1.08, 10000, 0.8], 'Quarter moon': [0.0108, 4150, 0.4], 'Full moon': [0.108, 4150, 0.6], 'Twilight': [10.8, 10000, 1.0], 'Overcast night': [0.0001, 5000, 0.0]}\n",
      "                Irradiance-lm/m2  ColourTemp  FracPhotop\n",
      "Overcast night            0.0001      5000.0         0.0\n",
      "Star light                0.0011      5000.0         0.2\n",
      "Quarter moon              0.0108      4150.0         0.4\n",
      "Full moon                 0.1080      4150.0         0.6\n",
      "Deep twilight             1.0800     10000.0         0.8\n",
      "Twilight                 10.8000     10000.0         1.0\n",
      "Very dark day           107.0000      7000.0         1.0\n",
      "Overcast day           1075.0000      6000.0         1.0\n",
      "Full sky light        10752.0000     12000.0         1.0\n",
      "Sun light            107527.0000      5700.0         1.0\n"
     ]
    }
   ],
   "source": [
    "# to print the low light level lux values\n",
    "\n",
    "import scipy.constants as const\n",
    "\n",
    "import pyradi.rypflux as rypflux\n",
    "import pyradi.ryplot as ryplot\n",
    "import pyradi.ryutils as ryutils\n",
    "import pyradi.ryplanck as ryplanck\n",
    "import pandas as pd\n",
    "import numpy as np\n",
    "\n",
    "%matplotlib inline\n",
    "\n",
    "pf = rypflux.PFlux()\n",
    "print(pf.lllux)\n",
    "\n",
    "dfPhotRates = pd.DataFrame(pf.lllux).transpose()\n",
    "dfPhotRates.columns = ['Irradiance-lm/m2','ColourTemp','FracPhotop']\n",
    "\n",
    "dfPhotRates.sort_values(by='Irradiance-lm/m2',inplace=True)\n",
    "print(dfPhotRates)\n"
   ]
  },
  {
   "cell_type": "markdown",
   "metadata": {},
   "source": [
    "## Relating photometric units with photon rate units\n",
    "\n",
    "The illuminance table above shows the approximate illuminance levels for different scenarios.  The sensor models below require irradiance levels in units of q/(s.m$^s$), not lx/m$^2$. A conversion between the two unit systems is required.  This conversion requires two information elements: the illuminance magnitude and spectral content.  The magnitude is given in the table, and in the absence of any better information, we would assume the spectral content to be a scaled version of a thermal source at the colour temperature.  This use of colour temperature is extending beyond its original purpose and introduces an element of risk.  Yet the answer with risk is better than no answer at all."
   ]
  },
  {
   "cell_type": "markdown",
   "metadata": {},
   "source": [
    "If the luminance exceeds about $3$ lm/(m$^2$sr) [twilight], the eye is light-adapted, and the cones in the retina are operating. Under light-adapted conditions, the eye’s spectral response is called photopic.\n",
    "If the luminance is less than $3\\times 10^{−5}$ lm/(m$^2$sr) [overcast night], the eye is dark-adapted. The cones are no longer sensitive, and the rods sense the light.Under dark-adapted conditions, the eye’s spectral response is called scotopic.\n",
    "\n",
    "Under scotopic vision, the eye is not sensitive to color and has no foveal vision. Between photopic and scotopic vision, the eye's response is called mesoptic.  Mesopic vision has a spectral response somewhere between photopic and scotopic vision.  In the table above the `FracPhotop` column shows my very rough mixing ratio of photopic and scotopix spectral curves to model mesopic vision.  These values are not validated and are purely guesswork.\n",
    "\n",
    "The eye's photopic spectral response can be _roughly  approximated_ by:\n",
    "\\begin{equation}\n",
    "V_\\lambda=1.019\\exp(-285.51(\\lambda - 0.5591)^2).\n",
    "\\end{equation}\n",
    "\n",
    "The eye's scotopic spectral response can be _roughly  approximated_ by:\n",
    "\\begin{equation}\n",
    "V_\\lambda^\\prime=0.99234\\exp(-321.1(\\lambda - 0.5028)^2).\n",
    "\\end{equation}\n",
    "\n",
    "There are also data tables from the CIE standards that describe this shape more accurately. The `ryutils` module has a function `luminousEfficiency` that returns luminous efficiency data for four different CIE curves as well as the equations shown above."
   ]
  },
  {
   "cell_type": "code",
   "execution_count": null,
   "metadata": {
    "collapsed": false
   },
   "outputs": [],
   "source": [
    "wl = np.linspace(0.3, 0.8, 100)\n",
    "p = ryplot.Plotter(1,1,1,figsize=(12,6));\n",
    "photLumEff,wl = ryutils.luminousEfficiency(vlamtype='photopic', wavelen=wl, eqnapprox=True)\n",
    "p.plot(1,wl,photLumEff,label=['{} equation'.format('CIE Photopic VM($\\lambda$)')]);\n",
    "scotLumEff,wl = ryutils.luminousEfficiency(vlamtype='scotopic', wavelen=wl, eqnapprox=False)\n",
    "p.plot(1,wl,scotLumEff,'Luminous Efficiency','Wavelength $\\mu$m','Efficiency',\n",
    "       label=['{} table'.format(\"CIE (1951) Scotopic V'($\\lambda$)\")]);\n"
   ]
  },
  {
   "cell_type": "markdown",
   "metadata": {},
   "source": [
    "The photopic luminance of a source is defined as\n",
    "\\begin{equation}\n",
    "L_\\nu=\\int_0^\\infty K_{\\rm max} V_\\lambda L_{e\\lambda}(T) d \\lambda,\n",
    "\\end{equation}\n",
    "where\n",
    "$K_{\\rm max}V_\\lambda$ is the spectral photopic efficacy,\n",
    "$V_\\lambda$ is the photopic efficiency,\n",
    "$K_{\\rm max}=683$ lm/W is the maximum value of photopic\n",
    "efficacy, referenced to a 2042-K blackbody standard source, and\n",
    "$L_{e\\lambda}$ is the source's  radiance.  \n",
    "\n",
    "The scotopic  luminance of a source is defined as\n",
    "\\begin{equation}\n",
    " L_\\nu=\\int_0^\\infty K_{\\rm max}^\\prime V_\\lambda^\\prime L_{e\\lambda}(T) d \\lambda,\n",
    "\\end{equation}\n",
    "where\n",
    "$K_{\\rm max}^\\prime V_\\lambda^\\prime$ is the spectral scotopic efficacy,\n",
    "$V_\\lambda^\\prime$ is the scotopic efficiency,\n",
    "$K_{\\rm max}^\\prime=1700$ lm/W is the maximum value of scotopic\n",
    "efficacy, referenced to a 2042-K blackbody standard source, and\n",
    "$L_{e\\lambda}$ is the source's  radiance. \n",
    "\n",
    "The conversion between photometric and photon rate units is based on the calculation of a scaling factor $k$ given by solving the following equation.  Under strong light conditions the photopic equation should be used, whereas under very dark conditions the scotopic equation should be used.  In the mesopic range a somewhat arbitrary mix of the two is used.\n",
    "\n",
    "\n",
    "\\begin{equation}\n",
    " L_{\\nu\\textrm{table}} = k L_\\nu=k\\, \n",
    " \\left[\n",
    "f_P K_{\\rm max}\\int_0^\\infty  V_\\lambda L_{e\\lambda}(T) d \\lambda\n",
    "+\n",
    "(1-f_P)K_{\\rm max}^\\prime\\int_0^\\infty  V_\\lambda^\\prime L_{e\\lambda}(T) d \\lambda\n",
    " \\right]\n",
    "\\end{equation}\n",
    "where $k$ is the fraction of the expected illuminance given the colour temperature,\n",
    "and $f_P$ is the fraction of photopic flux (scotopic flux will be fraction $1-f_P$.  \n",
    "Calculate $k$ for each entry in the table, using the stated luminance $L_\\textrm{table}$ and colour temperature $T$.\n",
    "\n",
    "Subsequently the wideband integrated photon radiance corresponding to the scenarios in the table can be determined from \n",
    "\n",
    "\\begin{equation}\n",
    "L_{q} = k\\int_0^\\infty  L_{q\\lambda}(T) d \\lambda \n",
    "\\end{equation}\n",
    "\n",
    "In the following code we calculate the reflected radiance for a surface with unity reflectance.  The closer the spectral bands are to the visible spectral band, the more accurate the results would be.  It is questionable whether the colour temperature in the infrared bands are relevant or correct, but it is better than no data.  \n"
   ]
  },
  {
   "cell_type": "code",
   "execution_count": null,
   "metadata": {
    "collapsed": false
   },
   "outputs": [],
   "source": [
    "# to calculate $k$ and photon flux in different spectral bands\n",
    "\n",
    "dfPhotRates['k'] = (dfPhotRates['Irradiance-lm/m2']) / (\\\n",
    "                dfPhotRates['FracPhotop'] * 683 * np.trapz(photLumEff.reshape(-1,1) * \\\n",
    "                            ryplanck.planckel(wl, dfPhotRates['ColourTemp']),wl, axis=0)\\\n",
    "                + \\\n",
    "                (1-dfPhotRates['FracPhotop']) * 1700 * np.trapz(scotLumEff.reshape(-1,1) * \\\n",
    "                            ryplanck.planckel(wl, dfPhotRates['ColourTemp']),wl, axis=0))                           \\\n",
    "\n",
    "specranges = {'VIS': [0.43, 0.69], 'NIR': [0.7, 0.9], 'SWIR': [1.0, 1.7],\n",
    "             'MWIR': [3.6,4.9], 'LWIR': [7.5,10]}\n",
    "\n",
    "for specrange in specranges.keys():\n",
    "    wlsr = np.linspace(specranges[specrange][0],specranges[specrange][1],300 ).reshape(-1,1)\n",
    "    dfPhotRates['Radiance-q/(s.m2.sr)-{}'.format(specrange)] = (dfPhotRates['k'] /np.pi ) * \\\n",
    "                np.trapz(ryplanck.planck(wlsr, dfPhotRates['ColourTemp'],'ql'),wlsr, axis=0)\n",
    "\n",
    "dfPhotRates.sort_values(by='Irradiance-lm/m2',inplace=True)\n",
    "print(dfPhotRates)\n",
    "\n",
    "# write the radiance table to Excel\n",
    "if False:\n",
    "    writer = pd.ExcelWriter('low-light-photon-radiance.xlsx', engine='xlsxwriter')\n",
    "    dfPhotRates.to_excel(writer, sheet_name='sceneradiance')\n",
    "    references = ['https://github.com/NelisW/ComputationalRadiometry/blob/master/12f-FOV-optimisation.ipynb',\n",
    "                 'http://www.phy.davidson.edu/FacHome/jny/Optics/Burle%20Electro_Optics.pdf']\n",
    "    pd.DataFrame(np.asarray(references)).to_excel(writer, sheet_name='references')\n",
    "    writer.save()\n"
   ]
  },
  {
   "cell_type": "code",
   "execution_count": 2,
   "metadata": {
    "collapsed": false
   },
   "outputs": [
    {
     "name": "stdout",
     "output_type": "stream",
     "text": [
      "                Irradiance-lm/m2  ColourTemp  FracPhotop             k  \\\n",
      "Overcast night            0.0001      5000.0         0.0  1.613462e-14   \n",
      "Star light                0.0011      5000.0         0.2  1.986357e-13   \n",
      "Quarter moon              0.0108      4150.0         0.4  6.956533e-12   \n",
      "Full moon                 0.1080      4150.0         0.6  7.883327e-11   \n",
      "Deep twilight             1.0800     10000.0         0.8  1.887297e-11   \n",
      "Twilight                 10.8000     10000.0         1.0  2.567401e-10   \n",
      "Very dark day           107.0000      7000.0         1.0  8.220586e-09   \n",
      "Overcast day           1075.0000      6000.0         1.0  1.552340e-07   \n",
      "Full sky light        10752.0000     12000.0         1.0  1.578701e-07   \n",
      "Sun light            107527.0000      5700.0         1.0  1.955067e-05   \n",
      "\n",
      "                Radiance-q/(s.m2.sr)-NIR  Radiance-q/(s.m2.sr)-VIS  \\\n",
      "Overcast night              1.320815e+11              1.446768e+11   \n",
      "Star light                  1.626075e+12              1.781137e+12   \n",
      "Quarter moon                2.676633e+13              2.198762e+13   \n",
      "Full moon                   3.033231e+14              2.491695e+14   \n",
      "Deep twilight               1.107208e+15              2.488231e+15   \n",
      "Twilight                    1.506199e+16              3.384886e+16   \n",
      "Very dark day               1.998632e+17              3.306346e+17   \n",
      "Overcast day                2.380423e+18              3.313916e+18   \n",
      "Full sky light              1.347956e+19              3.397997e+19   \n",
      "Sun light                   2.537434e+20              3.315415e+20   \n",
      "\n",
      "                Radiance-q/(s.m2.sr)-MWIR  Radiance-q/(s.m2.sr)-LWIR  \\\n",
      "Overcast night               4.126570e+10               1.098964e+10   \n",
      "Star light                   5.080282e+11               1.352951e+11   \n",
      "Quarter moon                 1.362625e+13               3.790946e+12   \n",
      "Full moon                    1.544163e+14               4.296000e+13   \n",
      "Deep twilight                1.166828e+14               2.807479e+13   \n",
      "Twilight                     1.587304e+15               3.819177e+14   \n",
      "Very dark day                3.284063e+16               8.245559e+15   \n",
      "Overcast day                 5.080461e+17               1.306910e+17   \n",
      "Full sky light               1.207679e+18               2.859098e+17   \n",
      "Sun light                    5.977276e+19               1.551574e+19   \n",
      "\n",
      "                Radiance-q/(s.m2.sr)-SWIR  \n",
      "Overcast night               2.811788e+11  \n",
      "Star light                   3.461634e+12  \n",
      "Quarter moon                 7.321109e+13  \n",
      "Full moon                    8.296474e+14  \n",
      "Deep twilight                1.361028e+15  \n",
      "Twilight                     1.851486e+16  \n",
      "Very dark day                3.068274e+17  \n",
      "Overcast day                 4.172085e+18  \n",
      "Full sky light               1.529608e+19  \n",
      "Sun light                    4.676317e+20  \n"
     ]
    }
   ],
   "source": [
    "print(pf.lllPhotonrates())\n"
   ]
  },
  {
   "cell_type": "markdown",
   "metadata": {},
   "source": [
    "### Quick validation\n",
    "\n",
    "Of course these simple checks do not validate all the data points in the table, but they do validate the calculation.\n",
    "\n",
    "#### Starlight irradiance\n",
    "\n",
    "The report ''Night sky radiometric measurements during follow-on-evaluation testing of AN/PVS-7 (A,B) at Fort Benning, Ga'' R.J. Stefanik, Center for Night Vision and Electro-Optics, AMSEL-NV-TR-0079, AD-A211273, May 1989, published the following spectral starlight irradiance data \n",
    "\n",
    "![''](images/starlight-irradiance.png)\n",
    "\n",
    "As validation check, simply consider the values at 0.5 $\\mu$m and 0.8 $\\mu$m and convert to SI units and photon rate. Energy per photon $h\\nu=hc/\\lambda$, in Joule.\n",
    "$\\Phi_q = \\Phi_e/(h\\nu) = \\Phi_e \\lambda/(hc)$\n",
    "\n",
    "1.  At 0.5 $\\mu$m starlight has an irradiance of 0.8 pW/(cm$^2$.nm) = 0.8e-05 W/(m$^2$.$\\mu$m). This corresponds to a photon rate radiance of 1.67e+12 q/(s.m$^2$.sr) over the spectral width in the subsequent calculation.  This corresponds closely with the values calculated in the model (1.77e+12  q/(s.m$^2$.sr)).\n",
    "\n",
    "1.  At 0.8 $\\mu$m starlight has an irradiance of 2 pW/(cm$^2$.nm) = 2e-05 W/(m$^2$.$\\mu$m). This corresponds to a photon rate radiance of 5.144402e+12 q/(s.m$^2$.sr) over the spectral width in the subsequent calculation.  This corresponds to a factor of 3.2 of the values calculated in the model (1.61e+12 q/(s.m$^2$.sr)).\n",
    "\n"
   ]
  },
  {
   "cell_type": "code",
   "execution_count": null,
   "metadata": {
    "collapsed": false
   },
   "outputs": [],
   "source": [
    "print('Star light radiance in the visible {:e} q/(s.m2.sr)'.format(\n",
    "        (0.69 - 0.43) * 0.8e-12 * 1e4 * 1e3 *.5e-6 / (np.pi * const.c * const.h)))\n",
    "print('Star light radiance in the NIR {:e} q/(s.m2.sr)'.format(\n",
    "        (0.9 - 0.7) * 2e-12 * 1e4 * 1e3 *.8e-6 / (np.pi * const.c * const.h)))\n",
    "    "
   ]
  },
  {
   "cell_type": "markdown",
   "metadata": {},
   "source": [
    "#### Value of $k$ for direct sunlight\n",
    "\n",
    "The value for k for direct sunlight is calculated in [W, Section 3.7], and found to be 2.17e-5 (when accounting for units differences), which corresponds well with the value of 1.96e-05 calculated here.  "
   ]
  },
  {
   "cell_type": "code",
   "execution_count": null,
   "metadata": {
    "collapsed": true
   },
   "outputs": [],
   "source": []
  },
  {
   "cell_type": "code",
   "execution_count": null,
   "metadata": {
    "collapsed": true
   },
   "outputs": [],
   "source": []
  },
  {
   "cell_type": "code",
   "execution_count": null,
   "metadata": {
    "collapsed": true
   },
   "outputs": [],
   "source": []
  },
  {
   "cell_type": "markdown",
   "metadata": {},
   "source": [
    "## Planck law technical implementation detail"
   ]
  },
  {
   "cell_type": "markdown",
   "metadata": {},
   "source": [
    "The implementation of the Planck functions in Python/Numpy is explained in more detail here. This information is not required to use the functions, but may be useful to Python code developers.\n",
    "\n",
    "The Planck equations have a form similar to this:\n",
    "$$\n",
    "M_{e\\lambda}(T)\n",
    "=\\frac{2\\pi h c^2}{\\lambda^5 \\left(e^{hc/(\\lambda kT)}-1\\right)} \n",
    "=\\frac{c_{1e\\lambda}}{\\lambda^5 \\left(e^{c_{2\\lambda}/(\\lambda T)}-1\\right)}\n",
    "$$\n",
    "\n",
    "One of the computational issues is that for combinations of short wavelength (high frequency) and low temperature, the value in the exponent becomes very big and the calculation produces NaN or Inf results (values should be near zero or zero).  This follows from the range of values that the IEEE floating point format can handle (hence all languages have this problem).\n",
    "This fault condition is tested for and corrected if it does occur (the function correctly returns zeros for those values):\n",
    "\n",
    "    #np.exp() has upper limit in IEEE double range, catch this in Planck calcs\n",
    "    explimit = 709.7\n",
    "\n",
    "    #test value of exponent to prevent infinity, force to exponent to zero\n",
    "    #this happens for low temperatures and short wavelengths\n",
    "    exP =  pconst.c2l / (spectral * temperature)\n",
    "    exP2 = numpy.where(exP<explimit, exP, 1);\n",
    "    p = (pconst.c1el / ( numpy.exp(exP2)-1)) / (spectral ** 5)\n",
    "    #if exponent is exP>=explimit, force Planck to zero\n",
    "    planckA = numpy.where(exP<explimit, p, 0);"
   ]
  },
  {
   "cell_type": "markdown",
   "metadata": {},
   "source": [
    "In pyradi we try to use vectorised calculations where possible - this means not to use loops where it can be avoided.  The objective with this approach is that it is more compact, easier to read and less prone to errors in coding (especially when doing copy-paste operations).    The Planck function interface supports a vectorised operations (as detailed above). \n",
    "\n",
    "The Planck equation does not lend itself to vectorised calculation because of its relative complex form.\n",
    "Attempting to write the Planck equation in vector/matrix form will be quite a challenge. In ryplanck, the spectral variable and temperature variable are accepted in array form, but then 'flattened' into long vectors of matching values of spectral sample and temperature sample - for which the Planck equation can be readily calculated.  After the Planck calculation is complete, the flat array is reshaped back, according to the shape of the input arrays.\n",
    "\n",
    "In a non-vector calculation the Planck equation will require two loops: one for spectral variation and one for the temperature variation.  The flatten operation essentially creates combinations of all the input values: each spectral value is paired with each temperature value. The flattened array represents the pairs of values that would be formed by the two nested loops, but instead of looping over time, the flattened array spreads across space (trading looping time for memory).   The flattening process is performed such that the spectral/temperature variable structure remains such that it can be reshaped back into the original format.  Note that flattening and reshaping has almost no computing overhead, it does not make or change variables, it only changes the _view_ on the data.\n",
    "\n",
    "There are twelve variations of the Planck equation and its temperature derivative.  It was an arduous task to include exactly the same flattening and reshaping code in all twelve functions - and then changing them all when a change was required.  Instead there is now only one implementation of the flattening and reshaping code, and it applies to all twelve functions.  The code is implemented in a Python [decorator](http://www.artima.com/weblogs/viewpost.jsp?thread=240808) (not unique to Python, many other languages also have decorators).  The decorator is almost like a wrapping function that is applied to the user function (decorating the original). Using the decorator function it is possible to execute code before the user function is called and then also after the user function is called.  In this application, the flattening is done before the function call and the reshaping is done after the function call - keeping only one copy of the code, but applying it to all the functions.  Python decorators are also used for many other [applications](https://wiki.python.org/moin/PythonDecoratorLibrary)."
   ]
  },
  {
   "cell_type": "markdown",
   "metadata": {},
   "source": [
    "The code is as follows. First the user function showing the decorator, indicated here as `@fixDimensions`. Note that the user function (docstring removed) focuses only on the Planck equation and not on array dimensions. The `fixDimensions` intercepts all the input and output from this function and process according to the decorator requirements.\n",
    "\n",
    "    @fixDimensions\n",
    "    def planckel(spectral, temperature):\n",
    "   \n",
    "        #test value of exponent to prevent infinity, force to exponent to zero\n",
    "        #this happens for low temperatures and short wavelengths\n",
    "        exP =  pconst.c2l / (spectral * temperature)\n",
    "        exP2 = numpy.where(exP<explimit, exP, 1);\n",
    "        p = (pconst.c1el / ( numpy.exp(exP2)-1)) / (spectral ** 5)\n",
    "        #if exponent is exP>=explimit, force Planck to zero\n",
    "        planckA = numpy.where(exP<explimit, p, 0);\n",
    "    \n",
    "        return planckA"
   ]
  },
  {
   "cell_type": "markdown",
   "metadata": {},
   "source": [
    "The decorator function (docstring removed) focuses only on manipulation of input and output data formats, and has no idea what is happening inside the Planck functions, which it calls.  \n",
    "\n",
    "The decorator function:\n",
    "\n",
    "- checks the shapes of the input variables and takes error action if necessary.\n",
    "- converts all input to numpy arrays, interpreted as float values (if not already so)\n",
    "- reshapes and creates a meshgrid to provide all the combinations of input sample values.\n",
    "- flattens the arrays by using the [ravel](http://docs.scipy.org/doc/numpy/reference/generated/numpy.ravel.html) function.  \n",
    "\n",
    "<p/>\n",
    "  \n",
    "\n",
    "    def fixDimensions(planckFun):\n",
    "      @wraps(planckFun)\n",
    "      def inner(spectral, temperature):\n",
    "    \n",
    "        #confirm that only vector is used, break with warning if so.\n",
    "        if isinstance(temperature, numpy.ndarray):\n",
    "            if len(temperature.flat) != max(temperature.shape):\n",
    "                print('ryplanck: temperature must be of shape (M,), (M,1) or (1,M)')\n",
    "                return None\n",
    "        #confirm that no row vector is used, break with warning if so.\n",
    "        if isinstance(spectral, numpy.ndarray):\n",
    "            if len(spectral.flat) != spectral.shape[0]:\n",
    "                print('ryplanck: spectral must be of shape (N,) or (N,1)')\n",
    "                return None\n",
    "        tempIn = numpy.array(temperature, copy=True,  ndmin=1).astype(float)\n",
    "        specIn = numpy.array(spectral, copy=True,  ndmin=1).astype(float)\n",
    "        tempIn = tempIn.reshape(-1,1)\n",
    "        specIn = specIn.reshape(-1,1)\n",
    "    \n",
    "        #create flattened version of the input dataset\n",
    "        specgrid, tempgrid = numpy.meshgrid(specIn,tempIn)\n",
    "        spec = numpy.ravel(specgrid)\n",
    "        temp = numpy.ravel(tempgrid)\n",
    "    \n",
    "At this point the Planck function is called with the flattened arrays. \n",
    "\n",
    "        #this is the actual planck calculation\n",
    "        planckA = planckFun(spec,temp) \n",
    "        \n",
    "After the function returns, the return values are handed back to the decorator function which then proceeds to reshape the array back into a format the user can work with.\n",
    "    \n",
    "        #now unflatten to proper structure again, spectral along axis=0\n",
    "        if tempIn.shape[0] == 1 and specIn.shape[0] == 1:\n",
    "            rtnVal = planckA[0]\n",
    "        elif tempIn.shape[0] == 1 and specIn.shape[0] != 1:\n",
    "            rtnVal = planckA.reshape(specIn.shape[0],)\n",
    "        elif tempIn.shape[0] != 1 and specIn.shape[0] == 1:\n",
    "            rtnVal = planckA.reshape(specIn.shape[0],-1)\n",
    "        else:\n",
    "            rtnVal = planckA.reshape(tempIn.shape[0],-1).T\n",
    "    \n",
    "        return rtnVal\n",
    "      return inner"
   ]
  },
  {
   "cell_type": "markdown",
   "metadata": {},
   "source": [
    "## Python and [module versions, and dates](http://nbviewer.ipython.org/github/jrjohansson/scientific-python-lectures/blob/master/Lecture-0-Scientific-Computing-with-Python.ipynb)"
   ]
  },
  {
   "cell_type": "code",
   "execution_count": null,
   "metadata": {
    "collapsed": false
   },
   "outputs": [],
   "source": [
    "%load_ext version_information\n",
    "%version_information numpy, scipy, matplotlib, pyradi"
   ]
  },
  {
   "cell_type": "code",
   "execution_count": null,
   "metadata": {
    "collapsed": false
   },
   "outputs": [],
   "source": []
  }
 ],
 "metadata": {
  "kernelspec": {
   "display_name": "Python 2",
   "language": "python",
   "name": "python2"
  },
  "language_info": {
   "codemirror_mode": {
    "name": "ipython",
    "version": 2
   },
   "file_extension": ".py",
   "mimetype": "text/x-python",
   "name": "python",
   "nbconvert_exporter": "python",
   "pygments_lexer": "ipython2",
   "version": "2.7.11"
  }
 },
 "nbformat": 4,
 "nbformat_minor": 0
}
