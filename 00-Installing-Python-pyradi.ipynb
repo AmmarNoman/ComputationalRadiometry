{
 "cells": [
  {
   "cell_type": "markdown",
   "metadata": {
    "run_control": {
     "frozen": false,
     "read_only": false
    }
   },
   "source": [
    "# 0 Installing Python and pyradi"
   ]
  },
  {
   "cell_type": "markdown",
   "metadata": {
    "run_control": {
     "frozen": false,
     "read_only": false
    }
   },
   "source": [
    "This notebook forms part of a series on [computational optical radiometry](https://github.com/NelisW/ComputationalRadiometry#computational-optical-radiometry-with-pyradi).  The notebooks can be downloaded from [Github](https://github.com/NelisW/ComputationalRadiometry#computational-optical-radiometry-with-pyradi). These notebooks are constantly revised and updated, please revisit from time to time.  \n",
    "\n",
    "The date of this document and module versions used in this document are given at the end of the file.  \n",
    "Feedback is appreciated: neliswillers at gmail dot com.\n"
   ]
  },
  {
   "cell_type": "markdown",
   "metadata": {},
   "source": [
    "## Programming editors and Python IDEs\n",
    "\n",
    "Before discussing the Python installation procedure, consider potential development environments.  These tools are critical to your success and positive experience with using Python.\n",
    "\n",
    "Which integrated development environment (IDE) to install? You can write Python scripts with any ASCII editor (even notepad) and run the script in a command console.  Some people find it more productive to work in a more powerful IDE environment.  Finally, to build more comprehensive 'lab books' of your work with code, text, graphs, etc., use the IPython notebook.\n",
    "\n",
    "There are a number of options [listed here](https://wiki.python.org/moin/PythonEditors), starting from simple text editors, all the way to comprehensive IDE environments.  \n",
    "\n",
    "We will focus on the Windows OS here, because Linux users already know which tools they want to use. One note to Linux users: consider the [Microsoft Visual Studio Code editor](https://code.visualstudio.com/), it runs very well on Linux (it even has Vim keystroke bindings).\n",
    "\n",
    "A lightweight way is to use a standard text editor (to write the script) and a command window (to execute the script). Good editors include:     \n",
    "**<https://code.visualstudio.com/> currently, this is the best general purpose editor (has nice extension for Python)**    \n",
    "<http://notepad-plus-plus.org/download/>  free, general purpose editor.  \n",
    "<https://atom.io/>  free, general purpose editor.  \n",
    "<http://www.sublimetext.com/>  general purpose text editor, costs money.  \n",
    "<https://wiki.python.org/moin/Vim>  if you know what vim is you don't need this. If your don't know about vim, don't bother.  \n",
    "\n",
    "There are several command windows  to choose from.   Windows users can use a third party command window (see here: http://aarontgrogg.com/blog/2015/07/31/a-better-windows-command-line-experience-comparing-powercmd-vs-console2-vs-consolez-vs-conemu-vs-cmder/). My current preference is conemu available here: https://conemu.github.io. Alternatively Windows users can use Microsoft's cmd.exe or Powershell. Linux users probably already have their favourite command window.\n",
    "\n",
    "\n",
    "Specalised IDEs include (some might be included in large Python distributions):   \n",
    "<http://pythonhosted.org/spyder/>  good IDE already included in Anaconda.    \n",
    "<https://www.jetbrains.com/pycharm/> free community version.  \n",
    "<https://pytools.codeplex.com/> (Visual Studio plugin).   \n",
    "<http://sourceforge.net/projects/pydev> (Eclipse plugin).  \n",
    "\n",
    "The IPython notebook is a very powerful tool to record all your work and finally produce a report with all your documentation, code and results in one file. For more information on the IPython notebook see here:  \n",
    "http://nbviewer.ipython.org/github/NelisW/ComputationalRadiometry/blob/master/01-IPythonHintsAndTips.ipynb\n",
    "\n"
   ]
  },
  {
   "cell_type": "markdown",
   "metadata": {
    "run_control": {
     "frozen": false,
     "read_only": false
    }
   },
   "source": [
    "## The Python Ecosystem\n",
    "\n",
    "<font color=\"red\"> Some Python installations are not kind to spaces in install folder names. Avoid spaces in any folder or filename to prevent issues.\n",
    "</font>\n",
    "\n",
    "<p><font color=\"red\"> Any Python path change only comes to effect when a new command window is opened. So if you make a change to the *.pth file, close the currently open Python session or Jupyter notebook, then close the command window, and finally open a new command window and run a new Python session.\n",
    "</font>\n",
    "\n",
    "\n",
    "The Python ecosystem comprises   \n",
    "- The Python core language that contains the language and standard library. You can see this as a minimal, but already powerful language package.\n",
    "- Specialist packages that you can install if and when required. One such specialist application would be science and engineering, which would require NumPy, SciPy, Matplotlib, and some other packages.\n",
    "\n",
    "You have two main options:  \n",
    "- Install the core Python package and then install the specialist packages manually.    \n",
    "- Load everything in one big installation <br><https://stackoverflow.com/questions/15762943/anaconda-vs-epd-enthought-vs-manual-installation-of-python)>    \n",
    " \n",
    "I would recommend the second option.  There are a number of fairly complete distributions, including:\n",
    "<https://store.continuum.io/cshop/anaconda/>  (my preferred distribution),  \n",
    "<https://www.enthought.com/products/epd/>,   \n",
    "<https://code.google.com/p/pythonxy/>,   \n",
    "<http://www.sagemath.org/>   (not very well known as a Python distribution).\n",
    "\n",
    "Which to install: Python 2.7.X or Python 3.X?  2.7.X  will be phased out some time in future (2020).  3.X is the later version with significant improvements over 2.7.X.  If you have no compelling reason to use 2.7 (i.e., compatibility with some project), use 3.X. \n",
    "\n",
    "Which to install: 32-bit or 64-bit?  \n",
    "If you want to remain compatible with other 32-bit installation packages or linking in with other 32-bit binary code, you must install the 32-bit version.  If these restrictions do not apply, install the 64-bit version on a 64-bit PC.  \n",
    "\n",
    "\n",
    "<font color=\"red\"> **pyradi is only tested with Python 3.7**</font> "
   ]
  },
  {
   "cell_type": "markdown",
   "metadata": {},
   "source": [
    "### Difference between conda and pip\n",
    "\n",
    "https://jakevdp.github.io/blog/2016/08/25/conda-myths-and-misconceptions/\n",
    "    \n",
    "    "
   ]
  },
  {
   "cell_type": "markdown",
   "metadata": {
    "run_control": {
     "frozen": false,
     "read_only": false
    }
   },
   "source": [
    "### Installing Anaconda \n",
    "\n",
    "Install [Anaconda for Python 3.X](https://www.continuum.io/downloads).\n",
    "\n",
    "http://conda.pydata.org/docs/_downloads/conda-cheatsheet.pdf\n",
    "\n",
    "\n",
    "\n",
    "#### Conda package manager\n",
    "\n",
    "http://conda.pydata.org/docs/test-drive.html\n",
    "\n",
    "https://youtu.be/UaIvrDWrIWM"
   ]
  },
  {
   "cell_type": "markdown",
   "metadata": {},
   "source": [
    "### Anaconda environment path settings\n",
    "\n",
    "Some users prefer to have the Anaconda/Python paths permanently in the environment.  This enables you to open Python from any command window, without using the Anaconda menus settings (When using the Anaconda menu, the paths are set for the one command window instance only).\n",
    "\n",
    "Some installations had difficulty finding the required version of  `libiomp5md.dll`. It appears that one installation had two (different?) version of the file:\n",
    "\n",
    "    where libiomp5md.dll\n",
    "    C:\\ProgramData\\Continuum\\anaconda3\\Library\\bin\\libiomp5md.dll\n",
    "    C:\\Program Files (x86)\\Common Files\\Intel\\Shared Files\\cpp\\Bin\\Intel64\\\\libiomp5md.dll\n",
    "\n",
    "Make sure that the Anaconda path comes first, above the other instances.  Note that this may break the other application using the other instance.\n"
   ]
  },
  {
   "cell_type": "markdown",
   "metadata": {
    "run_control": {
     "frozen": false,
     "read_only": false
    }
   },
   "source": [
    "### Multiple versions of  Python in Conda environments\n",
    "\n",
    "Please read this excellent overview of conda environments:  \n",
    "https://www.freecodecamp.org/news/why-you-need-python-environments-and-how-to-manage-them-with-conda-85f155f4353c/\n",
    "\n",
    "If you need to run different versions of Python (e.g., 2.7 and 3.6), consider using the conda environment infrastructure.  A Conda environment is a new Python installation that lives alongside any other base installations or environment installations you already have.  Essentially every Conda environment is a separated Python installation. When you want to use the specific python in the environment, you activate the environment. Activation prepares a command window and sets up the paths to the Python version in that specific environment.\n",
    "\n",
    "http://conda.pydata.org/docs/using/envs.html\n",
    "\n",
    "The underlying principle here is that you create a thin root installation environment  that has the bare essentials to support conda and not much more.  You then create [conda environments](http://conda.pydata.org/docs/using/envs.html) where you can install full anaconda versions of the the appropriate Python revisions.  You do the real work in the environments by activating the environment before running the python and packages in that environment.  When you create environments in conda, it creates a more or less complete Python installation in the ..../envs/ directory in an existing miniconda or anaconda installation.  So the multiple versions are installed side by side.\n",
    "\n",
    "Activating an environment must be done in a command window; where the process of activation simply modifies the system level paths from the root environment to the newly activated environment.  The new environment is active in the present command window until the environment is deactivated, which means that the original paths to the Python folders are restored back to the root environment.\n",
    "\n",
    "It is recommended practice to keep a small root environment, solely as a tool to create new environments - all the real work is done in the specially created environments.  This is a means to control which package versions for development, testing and deployment.\n",
    "\n",
    "Install [miniconda](https://docs.conda.io/en/latest/miniconda.html) (Python version 3.7). Note that the choice of which Miniconda is installed only affects the root environment. Regardless of which version of Miniconda you install, you can still install both Python 2.7.x and other Python 3.x environments.  \n",
    "\n",
    "On Windows \n",
    "-  it seems that `win32api` is used during a full anaconda install, so you might have to install\n",
    "\n",
    "        conda install pywin32\n",
    "    \n",
    "-  it seems that installing conda requires admin rights for some of the tasks during the installation. The installation does complete, but there are warnings that for some tasks admin rights are required.  Within the scope of my Python work, there never was a problem, but to install without any warning, start the command console as admin before installing conda/anaconda.\n",
    "\n",
    "Then create environments for the versions you want to install  (use whatever names you want, like py27, py36, pymc, myenv):\n",
    "\n",
    "    conda create --name py27 python=2.7 anaconda\n",
    "    conda create --name py36 python=3.6 anaconda\n",
    "\n",
    "To activate the environment in a command window\n",
    "\n",
    "    activate py27\n",
    "\n",
    "To deactivate the environment in a command window\n",
    "\n",
    "    decativate\n",
    "\n",
    "\n",
    "To list all environments\n",
    "\n",
    "    conda info --envs\n",
    "    conda env list\n",
    "\n",
    "To list modules in current environment\n",
    "\n",
    "    conda list -e\n",
    "\n",
    "To search to see if a package is available in the anaconda repository (not your disk)\n",
    "\n",
    "    conda search numpy\n",
    "\n",
    "Update an environment by activating it first and then updating - but note that there are two methods:\n",
    "\n",
    "1. `conda update anaconda` - this command updates the anaconda meta-package as a list of packages tested against each other, known to work together.\n",
    "\n",
    "2.  `conda update --all`  - this command updates individual packages to the individual latest  versions, irrespective of compatibility status.   It is likely that these packages will work together, but it is not tested and verified.\n",
    "\n",
    "        activate py36  \n",
    "        conda update anaconda\n",
    "\n",
    "After being used for a while, conda can accumulate a lot of disk space, because it doesn’t remove old unused packages.  To remove unused packages (-p), index caches (-i) and tarballs (-t), run\n",
    "\n",
    "    conda clean -pit\n",
    " \n",
    "To upgrade/update to a specfic new version of anaconda in one of the environments, run\n",
    "\n",
    "    deactivate\n",
    "    conda update conda\n",
    "    activate py27\n",
    "    conda install anaconda=2.4.1\n",
    "\n",
    "Conda loads the new environments in the `*\\Miniconda*\\envs` folder, inside the base environment (unless you instructed it to install elsewhere).\n",
    "\n",
    "To remove a conda environment use:\n",
    "\n",
    "    conda remove --name py27 --all\n",
    "    conda info --envs\n"
   ]
  },
  {
   "cell_type": "markdown",
   "metadata": {},
   "source": [
    "### List package versions in conda (aka requirements.txt)"
   ]
  },
  {
   "cell_type": "markdown",
   "metadata": {},
   "source": [
    "Sometimes it is necessary to recreate a new environment with exactly the same versions as an existing environment. The packages and versions can be captured in  the `requirement.txt` file for the environment.  This can be done in conda using the following command:\n",
    "\n",
    "    conda list --export > requirements.txt\n",
    "\n",
    "When you are ready to distribute your package to other users, they can easily duplicate your environment and the associated dependencies with \n",
    "\n",
    "    conda create --name <envname> --file requirements.txt\n",
    "    \n",
    "https://github.com/rasbt/watermark is a jupyter extension that provides an extension with  magics for printing date and time stamps, version numbers, and hardware information.  Install the extension with \n",
    "\n",
    "    !pip install watermark\n",
    "    !conda install -c conda-forge watermark\n",
    "\n",
    "and use the following to print the versions in a cell:\n",
    "\n",
    "    %load_ext watermark\n",
    "    %watermark -v -m -p numpy,scipy,pyradi,pandas -g -r -u -d -b -i\n"
   ]
  },
  {
   "cell_type": "code",
   "execution_count": 7,
   "metadata": {},
   "outputs": [
    {
     "name": "stdout",
     "output_type": "stream",
     "text": [
      "last updated: 2019-07-04 2019-07-04T11:35:37+02:00\n",
      "\n",
      "CPython 3.7.3\n",
      "IPython 7.4.0\n",
      "\n",
      "numpy 1.16.2\n",
      "scipy 1.2.1\n",
      "pyradi 1.1.4\n",
      "pandas 0.24.2\n",
      "\n",
      "compiler   : MSC v.1915 64 bit (AMD64)\n",
      "system     : Windows\n",
      "release    : 7\n",
      "machine    : AMD64\n",
      "processor  : Intel64 Family 6 Model 94 Stepping 3, GenuineIntel\n",
      "CPU cores  : 8\n",
      "interpreter: 64bit\n",
      "Git hash   : 5da9fc3f0f8591a6a03d76db03fcf95c5ed38622\n",
      "Git repo   : https://github.com/NelisW/ComputationalRadiometry.git\n",
      "Git branch : master\n"
     ]
    }
   ],
   "source": [
    "%watermark -v -m -p numpy,scipy,pyradi,pandas -g -r -u -d -b -i"
   ]
  },
  {
   "cell_type": "markdown",
   "metadata": {
    "run_control": {
     "frozen": false,
     "read_only": false
    }
   },
   "source": [
    "### Installing Anaconda on Linux\n"
   ]
  },
  {
   "cell_type": "markdown",
   "metadata": {
    "run_control": {
     "frozen": false,
     "read_only": false
    }
   },
   "source": [
    "Download the installer.\n",
    "In your terminal window type one of the below and follow the instructions:\n",
    "\n",
    "Python 3.x:\n",
    "\n",
    "    bash Anaconda3-4.0.0-Linux-x86_64.sh\n",
    "\n",
    "NOTE: Include the `bash` command even if you are not using the bash shell\n",
    "\n",
    "<https://www.continuum.io/downloads>"
   ]
  },
  {
   "cell_type": "markdown",
   "metadata": {},
   "source": [
    "### conda-forge\n",
    "\n",
    "https://conda-forge.org/ contains user-supplied packages not considered as part of the central anaconda distribution.\n",
    "A package in conda-forge can be installed with one of the following commands, which tells conda to look in the conda-forge repository:\n",
    "\n",
    "    conda install --channel https://conda.anaconda.org/conda-forge packagename\n",
    "    conda install -c conda-forge packagename\n",
    "    \n",
    "where `packagename` is the name of the package to be installed.\n",
    "The packages available on conda-forge are shown here: http://conda-forge.org/feedstocks/\n",
    "\n",
    "You can add the conda-forge channel to the list of available channels searched by conda when installing:  \n",
    "\n",
    "    conda config --add channels conda-forge"
   ]
  },
  {
   "cell_type": "markdown",
   "metadata": {
    "run_control": {
     "frozen": false,
     "read_only": false
    }
   },
   "source": [
    "### conda package versions and 'pinning'"
   ]
  },
  {
   "cell_type": "markdown",
   "metadata": {
    "run_control": {
     "frozen": false,
     "read_only": false
    }
   },
   "source": [
    "The most commonly-used packages are installed in the base `anaconda` install.  You may want to later install packages that are not part of the base installer, but are available in the `anaconda` library.\n",
    "\n",
    "This is done with the command (in this example case to install mayavi):\n",
    "\n",
    "    conda update conda\n",
    "    conda install mayavi\n",
    "\n",
    "The new package install will automatically also install all depencency packages.  Normally this is acceptable, but in some cases, the new package requires an earlier version of an already installed package - in which case the installed dependency package will downgrade the installed package to an older version.  This may cause problems if another application requires the later version.\n",
    "\n",
    "You can 'pin' package numbers to some release number to prevent automatic install changes to the release number, see [here](https://www.continuum.io/blog/developer/advanced-features-conda-part-1). If a package revision number is pinned, it will stay at the pinned revision, irrespective of all upgrade or dependency attempts to change it.\n",
    "\n",
    "The `--no-deps` flag prevent automatic changes/upgrade/downgrade of intalled package dependencies.  Note that this option will prevent and and all dependencies from downloading, so the newly installed package may not work correctly.\n",
    "\n",
    "Conda attempts to install the newest versions of  the  requested  packages.  To accomplish this, it may update some packages that are already installed, or install additional packages. To prevent existing packages from updating, use the `--no-update-deps option`. This may force conda to install older versions of the requested packages, and it does not  prevent additional dependency packages from being installed (http://conda.pydata.org/docs/commands/conda-update.html)\n",
    "\n",
    "To force conda to install a specific version of a package, use the form `conda install scipy=0.17.0`, where the required version number is given after the equal sign.\n",
    "\n",
    "If  you  wish to skip dependency checking altogether, use the `--force` option. This may result in an environment with  incompatible  packages, so this option must be used with great caution.\n",
    "\n",
    "The `conda update` command also have these two dependency flags:  `--update-dependencies`, `--update-deps`: Update dependencies (default: True). `--no-update-dependencies`, `--no-update-deps` Don't update dependencies (default: False).\n",
    "\n",
    "\n"
   ]
  },
  {
   "cell_type": "markdown",
   "metadata": {
    "run_control": {
     "frozen": false,
     "read_only": false
    }
   },
   "source": [
    "### Updating Anaconda from behind a proxy in Windows"
   ]
  },
  {
   "cell_type": "markdown",
   "metadata": {
    "run_control": {
     "frozen": false,
     "read_only": false
    }
   },
   "source": [
    "Create a `.condarc`  configuration file in your user home directory (`C:\\Users\\[yourusername]`), follow the instructions in the websites below.  Place the following text in the `.condarc` file, but replace with the information relevant to your situation:\n",
    "\n",
    "    proxy_servers:\n",
    "        http: http://[yourusername]:[yourpassword]@[your proxy server]:[proxy port]\n",
    "        https: https://[yourusername]:[yourpassword]@[your proxy server]:[proxy port]\n",
    "\n",
    "The difficult part is not creating the file, but finding out what the details for your situation are.\n",
    "\n",
    "<http://conda.pydata.org/docs/config.html>  \n",
    "<https://groups.google.com/a/continuum.io/forum/#!msg/anaconda/WQBn1c-spQ4/HVa1v83zAlEJ>    \n",
    "\n",
    "\n",
    " \n",
    "\n",
    "\n",
    "<font color=\"red\">Please note that this `.condarc` file is open text and the password is readable with a normal text editor.  Change the actual password to a false password immediately after use! </font>\n"
   ]
  },
  {
   "cell_type": "markdown",
   "metadata": {},
   "source": [
    "### Jupyter lab Widgets Extension\n",
    "\n",
    "Some of the notebooks use the Jupyter widgets. The widget manager must be installed manually after the anaconda install\n",
    "\n",
    "\n",
    "    jupyter labextension install @jupyter-widgets/jupyterlab-manager \n",
    "    \n",
    "https://www.npmjs.com/package/@jupyter-widgets/jupyterlab-manager  \n",
    "https://jupyterlab.readthedocs.io/en/stable/user/extensions.html\n"
   ]
  },
  {
   "cell_type": "markdown",
   "metadata": {
    "run_control": {
     "frozen": false,
     "read_only": false
    }
   },
   "source": [
    "###  Multiple Python environment in the Jupyter (IPython) notebook\n",
    "\n",
    "Jupyter supports multiple environments by running different kernels for each version. So you can run conda  environments for Python 2.7 and Python 3.6 notebooks from the same server, just by selecting the kernel.\n",
    "\n",
    "It seems that jupyter (ipython notebook) only runs from the root and not from an environment.  So we follow a procedure here of installing jupyter in the root installation and then create different kernels for each of the different Python versions installed in the environments.\n",
    "\n",
    "The idea [here is to install multiple ipython kernels](<http://stackoverflow.com/questions/30492623/using-both-python-2-x-and-python-3-x-in-ipython-notebook>) and [here](<https://ipython.readthedocs.io/en/stable/install/kernel_install.html>). Here are instructions if you are using anaconda:\n",
    "\n",
    "- install [miniconda](http://conda.pydata.org/miniconda.html) or [anaconda](https://www.continuum.io/downloads). If you want only a basic Python capability in the root installation, install [miniconda](http://conda.pydata.org/miniconda.html). On the other hand if you want a full anaconda capability in the root environment, install [anaconda](https://www.continuum.io/downloads). Note that you will be installing full anaconda versions in the py27 and py35 environments.  The only reason not to use miniconda is to have the full anaconda suite available at any moment,  without activating a [conda environment](http://conda.pydata.org/docs/using/envs.html).\n",
    "\n",
    "- install jupyer in the miniconda root  \n",
    "\n",
    "        deactivate\n",
    "        conda update conda\n",
    "        conda install --upgrade jupyter\n",
    "\n",
    "\n",
    "- Suppose we want a new [conda environment](http://conda.pydata.org/docs/using/envs.html) (named py36) with python 3.6 and set up Jupyter to work with py36.  \n",
    "\n",
    "        # you might already have done the installations, don't repeat:\n",
    "        conda create -n py36 python=3.6 anaconda\n",
    "        conda install --upgrade <<any packages you need in this environment>>\n",
    "\n",
    "        # now continue with ipykernel installation in py36\n",
    "        activate py36\n",
    "        conda update anaconda\n",
    "        conda install notebook ipykernel\n",
    "        ipython kernel install\n",
    "        deactivate\n",
    "\n",
    "- Repeat the the last procedure for all environments you want to use in Jupyter.\n",
    "\n",
    "After that you should be able to choose between the different environments when creating a new notebook in the interface.\n",
    "Additionally you can pass the `--name` and `--display-name` options to ipython kernel install if you want to change the names of your kernels. See ipython kernel install `--help` for more information.\n",
    "\n",
    "To see which kernels are available open jupyter and start a new notebook. Alternatively use the command:\n",
    "\n",
    "    jupyter kernelspec list\n",
    "    \n",
    "which will display the list of available kernels similar to the following: \n",
    "\n",
    "    Available kernels:\n",
    "      python3    C:\\ProgramData\\Anaconda3\\share\\jupyter\\kernels\\python3\n",
    "      python2    C:\\ProgramData\\jupyter\\kernels\\python2\n",
    "\n",
    "To remove a kernel use the command\n",
    "\n",
    "    jupyter kernelspec uninstall <kernel name> \n",
    "\n",
    "where `<kernel name>` would be something like `python2` for the above list.\n",
    "\n",
    "When set up this way you can also use either Python version by simply [activating the respective version](http://conda.pydata.org/docs/using/envs.html)."
   ]
  },
  {
   "cell_type": "markdown",
   "metadata": {
    "run_control": {
     "frozen": false,
     "read_only": false
    }
   },
   "source": [
    "###  Links to local libraries that are not installed in the Python directory structure\n"
   ]
  },
  {
   "cell_type": "markdown",
   "metadata": {
    "run_control": {
     "frozen": false,
     "read_only": false
    }
   },
   "source": [
    "Python looks for installed packages in the `\\Lib\\site-packages` folder. If the package is not found in one of the many `\\Lib\\site-packages` folders, Python will fail importing the package.\n",
    "\n",
    "It is possible to keep a copy of your package elsewhere, outside of any `\\Lib\\site-packages` folder, but then you have to tell Python about the package name and where the package is installed on your PC. To do this, we need to find the `\\Lib\\site-packages` folder and then place a `*.pth` file in this folder.\n",
    "\n",
    "#### Locating `\\Lib\\site-packages` folders\n",
    "\n",
    "\n",
    "The python distribution e.g., Anaconda, can be installed in a number of different locations. To determine where the conda environments on your PC is located, open a command window and type the following:\n",
    "    \n",
    "    conda env list\n",
    "\n",
    "Now we have to determine the location of the `site-packages` folder in the environments, from which Python can locate the available modules. This location could be one of the following (or similar):  \n",
    "\n",
    "    C:\\Users\\YourUserName\\Anaconda3\\Lib\\site-packages\n",
    "    C:\\Miniconda3\\Lib\\site-packages\n",
    "    C:\\ProgramData\\Anaconda3\\Lib\\site-packages\n",
    "    \n",
    "    \n",
    "In the conda environments the packages are installed in the `....\\envs` folder, inside the base environment,  at locations with the following name structure:\n",
    "\n",
    "     `<where installed>\\.\\envs\\<enironment name>\\.\\Lib\\site-packages`\n",
    "    \n",
    " i.e., something like\n",
    "\n",
    "    C:\\Users\\YourUserName\\Anaconda3\\envs\\py36VTK\\Lib\\site-packages\n",
    "    C:\\Users\\YourUserName\\Anaconda3\\envs\\landlab\\Lib\\site-packages\n",
    "    C:\\ProgramData\\Anaconda3\\envs\\pymc\\Lib\\site-packages\n",
    "\n",
    "\n",
    "### The `*pth` file\n",
    "\n",
    "To tell Python about your special installation folder, place a `<module name>.pth` file in the `site-packages` directory in the environment where this package must be available. \n",
    "\n",
    "The name of the file must correspond to the name of the module `<module name>` and the file extension must be `.pth`.  The file must contain the absolute path to the module on the first line.   BTW the `pth` extension is short for path, which is what is in the file.\n",
    "\n",
    "For example, if I cloned the `https://github.com/NelisW/pyradi` module from github to my hard disk at `V:\\work\\WorkN\\pyradi`, I can place a file in the root and or environment `site-packages` folder(s)  with the name `pyradi.pth` that contains the line `V:\\work\\WorkN\\pyradi\\pyradi`.  Note that in this case `pyradi` is installed at a particular location, but the path written to the file is further down the folder structure with an additional `pyradi`.  This is because the module is actually one level deeper.\n",
    "\n",
    "If you use the `.pth` method, Python does not know if it is a local folder structure, a repository, or a pypi installation, just so long as it has legal Python module code, all is fine. \n",
    "\n",
    "I have not done this yet, but in principle you can have many different versions of a module in different directories on your PC (e.g. for testing with different versions of Python, or with different functionality for whatever reason).  You can then create different conda environments where each environment has its own unique and different `.pth` file, pointing to the specific code you want to use with that specific environment.  The different `.pth` files must then be placed in each environment's own `site-packages` directory, to be used with that specific environment.\n",
    "\n",
    "References:   \n",
    "<https://docs.python.org/2/library/site.html>  \n",
    "<http://bob.ippoli.to/archives/2005/02/06/using-pth-files-for-python-development/>  \n",
    "<https://grahamwideman.wikispaces.com/Python-+site-package+dirs+and+.pth+files>  \n",
    "<http://stackoverflow.com/questions/15208615/using-pth-files>  \n",
    "\n"
   ]
  },
  {
   "cell_type": "markdown",
   "metadata": {
    "run_control": {
     "frozen": false,
     "read_only": false
    }
   },
   "source": [
    "## Installing pyradi\n",
    "\n",
    "**You only need to do this if you want to use pyradi for computational radiometry.**\n",
    "\n",
    "pyradi is no longer supported on PyPi.\n",
    "\n",
    "### Best option: use Git\n",
    "\n",
    "You should really consider using a software version control process for your coding and writing work.  There are several alternatives, but I prefer to use the current mainstream tool Git. So install git, use it to manage pyradi on your PC, but more importantly, *use it to manage your own work afterwards.*\n",
    "\n",
    "If you are not already using git consider the following resources:  \n",
    "http://lmgtfy.com/?q=starting+git  \n",
    "https://git-scm.com/book/en/v1/Getting-Started  \n",
    "https://rogerdudler.github.io/git-guide/  \n",
    "http://sirupsen.com/starting-with-git/  \n",
    "https://product.hubspot.com/blog/git-and-github-tutorial-for-beginners  \n",
    "Search for git videos on YouTube.  \n",
    "There are also good books on Git.  \n",
    "\n",
    "If you use Linux, you probably already have git on the system and might also know how to use it.\n",
    "\n",
    "Working on Windows I would recommend installing git from https://gitforwindows.org/, and then installing the Tortoise Git Explorer shell interface from https://tortoisegit.org/download/. Tortoise creates context menus on your Windows Explorer which makes it very easy to use for most git tasks.\n",
    "\n",
    "To checkout the [pyradi repo](https://github.com/NelisW/pyradi) from github you *do not* need a github account.  You only need to create a github account if you want to create repositories on GitHub. So initially, no need to get an account.\n",
    "\n",
    "Go to https://github.com/NelisW/pyradi and look for the green button on the right side, near the top of the page and click on it.   Then click on the little clipboard icon to load the link from the textbox to your local PC clipboard.\n",
    "\n",
    "Open a Windows Explorer and create a new folder (e.g., `your-master-folder`) where you want to clone the pyradi repo (the folder can be anywhere you want, just be careful to not have spaces in the pathname). Right-click in the empty folder and then in the context menu, click on `git clone...`. This should open up a dialog box that already shows the pyradi URL pasted from the clipboard. The directory where the repo will be cloned is also shown.  Don't change anything and click on the OK button.  If all goes well a new window appear that shows the progress with cloning (downloading) the repo.\n",
    "\n",
    "Also clone the pyradi data from https://github.com/NelisW/pyradi-data and (optionally) the pyradi docs from https://github.com/NelisW/pyradi-docs, using the same procedure as above. Clone in the same folder where pyradi is installed.  Use exactly the same names for pyradi and pyradi-data. So when you are done there should be two or three folders depending on where you installed docs.\n",
    "\n",
    "    your-master-folder\n",
    "        pyradi  \n",
    "        pyradi-data  \n",
    "        pyradi-docs\n",
    "\n",
    "At this point you have pyradi on your PC but your Python installation does not know about it yet.  Continue with the procedure below to tell Python about your pyradi files' location  in the `pyradi.pth` file.\n",
    "\n",
    "If you want to update the locally cloned version later (and we recommend that you do this from time to time), right-click on the folder where pyradi is installed and click on the `TortoiseGit` line and then the  `Pull` line. A dialog box should appear where you click on OK.  This way you will always have the latest version of pyradi.\n",
    "\n",
    "### Second best option: download a zip file\n",
    "\n",
    "This option is second best because to get later versions you have to download the zip file(s) again and again. If you use Git, you can just 'pull'.\n",
    "\n",
    "Go to https://github.com/NelisW/pyradi and look for the green button on the right side, near the top of the page; click on the green button.  At the bottom of the small popup window, click on the `Download Zip` link to download the zip file to your PC.\n",
    "\n",
    "Also download the pyradi data from https://github.com/NelisW/pyradi-data and (optionally) the pyradi docs from https://github.com/NelisW/pyradi-docs, using the same zip file download procedure as above. \n",
    "\n",
    "Open a Windows Explorer and create a new folder (e.g., `your-master-folder`) where you want to unzip the pyradi repo (the folder can be anywhere you want, just be careful to not have spaces in the pathname).  Unzip all two or three zip files into one this folder. So when you are done there should be two or three subfolders. Keep the three subfolder names exactly as shown, don't change them.\n",
    "\n",
    "    your-master-folder\n",
    "        pyradi  \n",
    "        pyradi-data  \n",
    "        pyradi-docs\n",
    "\n",
    "At this point you have pyradi on your PC but your Python installation does not know about it yet.  Continue with the procedure below to tell Python about your pyradi files' location  in the python.pth file.\n",
    "\n",
    "If you later want to instal updated versions, download the zip files and copy over the current files in the same directories.\n",
    "\n",
    "    \n",
    "#### Tell Python about your pyradi files' location in the python.pth file.\n",
    "\n",
    "Follow the procedure in the previous section to create a `pyradi.pth` file.  The file must be named `pyradi.pth` and the first (and only line) in the file must be the path to where the pyradi module is available. On my PC this is `V:\\work\\WorkN\\pyradi\\pyradi` - note the second pyradi in the link to point further down the repository tree.  \n",
    "\n",
    "You do not have to tell Python about the documentation or data.\n",
    "\n",
    "Now if you now start up a Python in a new command window, Python will locate the pyradi module by looking up the location on your PC from the pyradi.pth file.  \n",
    "\n",
    "### Mayavi in pyradi\n",
    "\n",
    "pyradi should work without any additional package installations beyond Anaconda, except for  the optional use of [Mayavi](http://code.enthought.com/projects/mayavi/). \n",
    "Mayavi is only required for the three-dimensional spherical plots, you may ignore the requirement otherwise. Most sources advise users to install Mayavi as part of a Python distribution, such as the\n",
    "[Enthought Tool Set](http://www.lfd.uci.edu/~gohlke/pythonlibs/#ets) or\n",
    "[Anaconda](https://store.continuum.io/cshop/anaconda/) distributions. This is certainly an option for newcomers, but  these distributions are not always current with the latest code package versions. Of the two, Anaconda appears to be quicker with the updates.\n",
    "Look for\n",
    "[Anaconda](https://store.continuum.io/cshop/anaconda/) (under the supervision of Travis Oliphant, one of the driving forces behind Numpy) or\n",
    "[Enthought Tool Set](http://www.lfd.uci.edu/~gohlke/pythonlibs/#ets), both of which contains contains Mayavi and other tools.\n",
    "You can find Mayavi (and other) installation packages on\n",
    "[this site](http://www.lfd.uci.edu/~gohlke/pythonlibs/#scikits-image).\n"
   ]
  },
  {
   "cell_type": "markdown",
   "metadata": {
    "run_control": {
     "frozen": false,
     "read_only": false
    }
   },
   "source": [
    "## PyQt4 on Anaconda 4.3\n",
    "\n",
    "Use PyQt5 if you can. The pyradi library has been updated to work with PyQt5.\n",
    "\n",
    "Anaconda 4.2 and later comes with PyQt5 only (PyQt4 on older versions).  It is not possible to install PyQt4 and PyQt5 in the same environment. If you need PyQt4 under later versions of Anaconda you must [uninstall PyQt5 and then reinstall PyQt4](http://stackoverflow.com/questions/40089212/anaconda-python-3-5-install-pyqt4).  \n",
    "\n",
    "When uninstalling PyQt5, a number of other modules that rely on PyQt5 is also uninstalled, so you must consider the implications. You will loose these modules:\n",
    "\n",
    "    anaconda:           4.3.0-np111py27_0\n",
    "    anaconda-navigator: 1.4.3-py27_0\n",
    "    jupyter:            1.0.0-py27_3\n",
    "    matplotlib:         2.0.0-np111py27_0\n",
    "    pyqt:               5.6.0-py27_2\n",
    "    qt:                 5.6.2-vc9_3        [vc9]\n",
    "    qtconsole:          4.2.1-py27_2\n",
    "    scikit-image:       0.12.3-np111py27_1\n",
    "    seaborn:            0.7.1-py27_0\n",
    "    spyder:             3.1.2-py27_0\n",
    "\n",
    "First create a new environment and activate it:\n",
    "\n",
    "    conda create --name py27qt4 python=2.7 anaconda\n",
    "    activate py27qt4\n",
    "    \n",
    "Then uninstall qt:\n",
    "\n",
    "    (py27qt4)> conda uninstall qt\n",
    "    \n",
    "    \n",
    "Then install PyQt4 from [here](https://anaconda.org/conda-forge/pyqt):\n",
    "\n",
    "    conda install --channel https://conda.anaconda.org/conda-forge pyqt\n",
    "    \n",
    "which installs these modules:\n",
    "\n",
    "    libiconv: 1.14-vc9_4    conda-forge [vc9]\n",
    "    libxml2:  2.9.3-vc9_9   conda-forge [vc9]\n",
    "    pyqt:     4.11.4-py27_2 conda-forge\n",
    "    qt:       4.8.7-vc9_6   conda-forge [vc9]\n",
    "    vc:       9-0           conda-forge\n",
    "\n",
    "I am not sure if you can reinstall Matplotlib now with PyQt. In my use case it was not necessary.    \n",
    "    "
   ]
  },
  {
   "cell_type": "markdown",
   "metadata": {
    "run_control": {
     "frozen": false,
     "read_only": false
    }
   },
   "source": [
    "## PYTHONPATH and Executing Python Scripts\n",
    "\n",
    "The PYTHONPATH environmental variable tells python where to look for modules when importing, _it does not define the path to a *.py script to be executed_.  If you have a module in a directory outside the standard Python install directory (e.g., an experimental module in your HOME directory), add the path to the module to the PYTHONPATH environmental variable.  The general advice is to not change the environmental variable permanently on operating system level, because of potential conflicts with other installed packages.\n",
    "\n",
    "### Adding to PYTHONPATH for the current session only\n",
    "From inside Python execute the following command to add a new path to your current PYTHONPATH, which will not add the path permanently:   \n",
    "\n",
    "    import sys\n",
    "    sys.path.append('/path/to/your/python/module')\n",
    "\n",
    "To insert your new path at the front of PYTHONPATH (useful if you want to look in your local directories first, overriding existing installs):  \n",
    "\n",
    "    sys.path.insert(0,'/path/to/your/python/module') \n",
    "\n",
    "To get a list of the paths currently in PYTHONPATH:  \n",
    "\n",
    "    import sys\n",
    "    print(sys.path)\n",
    "\n",
    "### Adding to PYTHONPATH permanently for all sessions\n",
    "If you are using/developing a module that is not located in `.../site-packages/`, but you want a path to the module on a more permanent basis in your PYTHONPATH, use a path configuration file.  Path configuration files are usually placed in the `.../site-packages/` directory (or a few other places) and can have any name, but with an extension of .pth.\n",
    "Each line must contain a single path that will be appended to sys.path. New paths are _appended_ to sys.path, modules in the added directories will not override standard modules.\n",
    "\n",
    "It is not clear from the documentation, but the paths to the modules listed in the pht file must be _relative_ to one of the site packages directories. These directories are where Python would look for modules.  Absolute paths do not seem to work (at least on Windows, the are Linux examples that do have absolute paths).  If your module is located on the same disk as `.../site-packages/`, then it appears necessary to provide a path relative to this `.../site-packages/`, i.e., something like `../../../pathtomodule`.  If the module is not on the same disk/drive as `.../site-packages/`, you should probably set up a secondary site-packages directory on the other disk (using `addsitedir`).\n",
    "\n",
    "\n",
    "<https://docs.python.org/2/library/site.html>  \n",
    "<https://docs.python.org/2/library/site.html#site.USER_SITE>  \n",
    "<https://docs.python.org/2/install/>  \n",
    "<https://stackoverflow.com/questions/15208615/using-pth-files>  \n",
    "<http://bob.ippoli.to/archives/2005/02/06/using-pth-files-for-python-development/>  \n",
    "<https://groups.google.com/a/continuum.io/forum/#!topic/anaconda/RO_h0wD7sKE>  \n",
    "<https://stackoverflow.com/questions/10693706/creating-a-secondary-site-packages-directory-and-loading-packages-from-pth-fil>  \n",
    "<https://stackoverflow.com/questions/19914527/using-python-pth-files-assuming-no-access-to-site-packages-directory>  \n",
    "<https://docs.python.org/2/library/site.html#site.addsitedir>  \n",
    "\n",
    "\n",
    "### Anaconda  \n",
    "Use any of the above methods  \n",
    "https://stackoverflow.com/questions/17386880/does-anaconda-create-a-separate-pythonpath-variable-for-each-new-environment  \n",
    "\n",
    "### Canopy \n",
    "Canopy users please see this  \n",
    "<https://support.enthought.com/entries/23665767-How-do-I-set-PYTHONPATH-and-other-environment-variables-for-Canopy->   \n",
    "\n",
    "### General information:  \n",
    "<https://stackoverflow.com/questions/19917492/how-to-use-pythonpath>  \n",
    "<https://stackoverflow.com/questions/4580101/python-add-pythonpath-during-command-line-module-run>  \n",
    "<http://www.stereoplex.com/blog/understanding-imports-and-pythonpath>  \n",
    "<https://stackoverflow.com/questions/1489599/how-do-i-find-out-my-python-path-using-python>  \n",
    "<http://users-cs.au.dk/chili/PBI/pythonpath.html>\n",
    "http://docs.continuum.io/anaconda/ide_integration.html  "
   ]
  },
  {
   "cell_type": "code",
   "execution_count": 8,
   "metadata": {
    "run_control": {
     "frozen": false,
     "read_only": false
    }
   },
   "outputs": [
    {
     "name": "stdout",
     "output_type": "stream",
     "text": [
      "['V:\\\\work\\\\WorkN\\\\ComputationalRadiometry', 'C:\\\\ProgramData\\\\Anaconda3\\\\python37.zip', 'C:\\\\ProgramData\\\\Anaconda3\\\\DLLs', 'C:\\\\ProgramData\\\\Anaconda3\\\\lib', 'C:\\\\ProgramData\\\\Anaconda3', '', 'C:\\\\ProgramData\\\\Anaconda3\\\\lib\\\\site-packages', 'C:\\\\ProgramData\\\\Anaconda3\\\\lib\\\\site-packages\\\\rbf-2019.1.27-py3.7-win-amd64.egg', 'C:\\\\ProgramData\\\\Anaconda3\\\\lib\\\\site-packages\\\\tabulate-0.8.3-py3.7.egg', 'C:\\\\ProgramData\\\\Anaconda3\\\\lib\\\\site-packages\\\\deap-1.2.2-py3.7-win-amd64.egg', 'C:\\\\ProgramData\\\\Anaconda3\\\\lib\\\\site-packages\\\\daft-0.0.4-py3.7.egg', 'D:\\\\dropbox\\\\Dropbox\\\\personal\\\\fin\\\\retirement\\\\model-code\\\\financial_life', 'W:\\\\cms\\\\green\\\\red\\\\user\\\\tools\\\\python\\\\ossimutils', 'V:\\\\work\\\\WorkN\\\\pyradi\\\\pyradi', 'C:\\\\ProgramData\\\\Anaconda3\\\\lib\\\\site-packages\\\\win32', 'C:\\\\ProgramData\\\\Anaconda3\\\\lib\\\\site-packages\\\\win32\\\\lib', 'C:\\\\ProgramData\\\\Anaconda3\\\\lib\\\\site-packages\\\\Pythonwin', 'C:\\\\ProgramData\\\\Anaconda3\\\\lib\\\\site-packages\\\\scoop-0.7.1.1-py2.7.egg', 'C:\\\\ProgramData\\\\Anaconda3\\\\lib\\\\site-packages\\\\IPython\\\\extensions', 'C:\\\\Users\\\\NWillers\\\\.ipython']\n"
     ]
    }
   ],
   "source": [
    "import sys\n",
    "print(sys.path)"
   ]
  },
  {
   "cell_type": "markdown",
   "metadata": {
    "run_control": {
     "frozen": false,
     "read_only": false
    }
   },
   "source": [
    "### Executing a Python script from any directory\n",
    "\n",
    "To execute a python script from anywhere on your system, use the PATH environmental variable.\n",
    "\n",
    "**On Linux:**  \n",
    "Add your script path to the system's PATH environmental variable:  \n",
    "\n",
    "    export PATH=$PATH:/home/user/path/to/python/script.py  \n",
    "\n",
    "Add the following line as the first line (shebang line) of the script to tell Linux which interpreter to use:  \n",
    "\n",
    "    #!/usr/bin/env python\n",
    " \n",
    "Set up the script as an executable:   \n",
    "\n",
    "    chmod +x /home/user/path/to/python/script.py\n",
    "\n",
    "<https://stackoverflow.com/questions/19917492/how-to-use-pythonpath>  \n",
    "\n",
    "**On Linux:** \n",
    "If the file is created in Windows, the line ending is not Linux friendly.  Windows uses carriage return and line feed `\\r\\n`, whereas Linux uses just a line feed `\\n`.  This means that if the file is created on Windows and executed on Linux the operating system is searching to execute the file `python\\r`, which is very different from the intended `python`.  I tried converting the file from Windows to Linux format by using the `fromdos` command, but that did not fix the line ending problem.  Opening and closing the file in `nano` did not help either.  The only remedy was to (1) open the file in Linux (e.g. in `nano`), move to the top of the file, (2) manually type in the whole first line followed by `Enter` a few times, making very sure that a new Linux line ending is introduced, and (3) then remove the old line with the bad line ending.\n",
    "\n",
    "**On Windows:**  \n",
    "Add the path to your script to your user or system PATH environmental variable. The [Rapid Environment Editor](http://www.rapidee.com/en/about) tool makes it very easy.  Once the path is set up, you can just double click on the script or run it in a command window."
   ]
  },
  {
   "cell_type": "markdown",
   "metadata": {},
   "source": [
    "## Template project creation\n",
    "\n",
    "https://medium.com/@rrfd/cookiecutter-data-science-organize-your-projects-atom-and-jupyter-2be7862f487e\n",
    "\n",
    "cookiecutter seems to lead the pack:  \n",
    "https://cookiecutter.readthedocs.io/en/latest/  \n",
    "A command-line utility that creates projects from cookiecutters (project templates), e.g. creating a Python package project from a Python package project template.\n",
    "\n",
    "    conda install -c conda-forge cookiecutter\n",
    "\n",
    "https://cookiecutter.readthedocs.io/en/latest/first_steps.html   \n",
    "https://github.com/mikeckennedy/cookiecutter-course  \n",
    "https://medium.com/worldsensing-techblog/project-templates-and-cookiecutter-6d8f99a06374  \n",
    "\n",
    "Some templates:\n",
    "https://cookiecutter.readthedocs.io/en/latest/readme.html#a-pantry-full-of-cookiecutters  \n",
    "http://cookiecutter-templates.sebastianruml.name/  \n",
    "\n",
    "https://nsls-ii.github.io/scientific-python-cookiecutter/  -- nice overview  \n",
    "\n",
    "https://drivendata.github.io/cookiecutter-data-science/  \n",
    "https://github.com/mandeep/cookiecutter-pyqt5  \n",
    "https://github.com/selimb/cookiecutter-latex-article  \n",
    "\n",
    "https://docs.microsoft.com/en-us/visualstudio/python/using-python-cookiecutter-templates \n",
    "https://docs.microsoft.com/en-us/visualstudio/python/quickstart-04-python-in-visual-studio-project-from-cookiecutter  \n",
    "\n"
   ]
  },
  {
   "cell_type": "markdown",
   "metadata": {
    "run_control": {
     "frozen": false,
     "read_only": false
    }
   },
   "source": [
    "## Python and module versions, and dates"
   ]
  },
  {
   "cell_type": "code",
   "execution_count": 9,
   "metadata": {
    "run_control": {
     "frozen": false,
     "read_only": false
    }
   },
   "outputs": [
    {
     "name": "stdout",
     "output_type": "stream",
     "text": [
      "last updated: 2019-07-04 2019-07-04T11:35:39+02:00\n",
      "\n",
      "CPython 3.7.3\n",
      "IPython 7.4.0\n",
      "\n",
      "numpy 1.16.2\n",
      "scipy 1.2.1\n",
      "pyradi 1.1.4\n",
      "pandas 0.24.2\n",
      "\n",
      "compiler   : MSC v.1915 64 bit (AMD64)\n",
      "system     : Windows\n",
      "release    : 7\n",
      "machine    : AMD64\n",
      "processor  : Intel64 Family 6 Model 94 Stepping 3, GenuineIntel\n",
      "CPU cores  : 8\n",
      "interpreter: 64bit\n",
      "Git hash   : 5da9fc3f0f8591a6a03d76db03fcf95c5ed38622\n",
      "Git repo   : https://github.com/NelisW/ComputationalRadiometry.git\n",
      "Git branch : master\n"
     ]
    }
   ],
   "source": [
    "# to get software versions\n",
    "# https://github.com/rasbt/watermark\n",
    "# An IPython magic extension for printing date and time stamps, version numbers, and hardware information. \n",
    "# you only need to do this once\n",
    "# !pip install watermark\n",
    "# conda install -c conda-forge watermark\n",
    "\n",
    "#%load_ext watermark\n",
    "%watermark -v -m -p numpy,scipy,pyradi,pandas -g -r -u -d -b -i\n"
   ]
  },
  {
   "cell_type": "code",
   "execution_count": null,
   "metadata": {
    "collapsed": true,
    "jupyter": {
     "outputs_hidden": true
    },
    "run_control": {
     "frozen": false,
     "read_only": false
    }
   },
   "outputs": [],
   "source": []
  }
 ],
 "metadata": {
  "anaconda-cloud": {},
  "kernelspec": {
   "display_name": "Python 3",
   "language": "python",
   "name": "python3"
  },
  "language_info": {
   "codemirror_mode": {
    "name": "ipython",
    "version": 3
   },
   "file_extension": ".py",
   "mimetype": "text/x-python",
   "name": "python",
   "nbconvert_exporter": "python",
   "pygments_lexer": "ipython3",
   "version": "3.7.3"
  }
 },
 "nbformat": 4,
 "nbformat_minor": 4
}
